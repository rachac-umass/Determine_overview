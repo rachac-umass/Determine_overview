{
 "cells": [
  {
   "cell_type": "markdown",
   "id": "3a6d9eae",
   "metadata": {},
   "source": [
    "# Installing libraries"
   ]
  },
  {
   "cell_type": "code",
   "execution_count": 1,
   "id": "47a10ebd",
   "metadata": {},
   "outputs": [
    {
     "name": "stdout",
     "output_type": "stream",
     "text": [
      "Channels:\n",
      " - conda-forge\n",
      " - nvidia\n",
      " - pytorch\n",
      "Platform: linux-64\n",
      "Collecting package metadata (repodata.json): ...working... done\n",
      "Solving environment: ...working... done\n",
      "\n",
      "# All requested packages already installed.\n",
      "\n"
     ]
    }
   ],
   "source": [
    "!conda install polars -y -q"
   ]
  },
  {
   "cell_type": "markdown",
   "id": "9f0d66fc",
   "metadata": {},
   "source": [
    "# Importing required libraries"
   ]
  },
  {
   "cell_type": "code",
   "execution_count": 2,
   "id": "ffc6f862",
   "metadata": {},
   "outputs": [],
   "source": [
    "import polars as pl\n",
    "import matplotlib.pyplot as plt\n",
    "import numpy as np"
   ]
  },
  {
   "cell_type": "markdown",
   "id": "5b495d30",
   "metadata": {},
   "source": [
    "# Helper functions and variables"
   ]
  },
  {
   "cell_type": "code",
   "execution_count": 3,
   "id": "8c04e5ef",
   "metadata": {},
   "outputs": [],
   "source": [
    "def get_association_count(df,threshold, use_func = None):\n",
    "    count = 0\n",
    "    if not use_func:\n",
    "        for i,j in df.count().to_dict(as_series=False).items():\n",
    "            if i!='PATIENT_NUM' and j[0]>threshold:\n",
    "                count+=1\n",
    "    elif use_func == 'sum':\n",
    "        for i,j in df.sum().to_dict(as_series=False).items():\n",
    "            if i!='PATIENT_NUM' and j[0]>threshold:\n",
    "                count+=1\n",
    "    return count"
   ]
  },
  {
   "cell_type": "code",
   "execution_count": 4,
   "id": "f1f3db90",
   "metadata": {},
   "outputs": [],
   "source": [
    "def get_patients_association_threshold_bar_plot(threshold, patients_association_count,title = None):\n",
    "    bplot = plt.bar(list(map(str, threshold)) , patients_association_count)\n",
    "    plt.bar_label(bplot,\n",
    "                  fontweight='bold',\n",
    "                  color='green')\n",
    "    if title:\n",
    "        plt.title('Patients assocation count for labloincs against threshold')\n",
    "    else:\n",
    "        plt.title('Patients assocation count vs threshold')\n",
    "            \n",
    "    plt.xlabel('Threshold')\n",
    "    plt.ylabel('Patient Count')\n",
    "    plt.show()"
   ]
  },
  {
   "cell_type": "code",
   "execution_count": null,
   "id": "e2ace5c9",
   "metadata": {},
   "outputs": [],
   "source": []
  },
  {
   "cell_type": "markdown",
   "id": "829c4799",
   "metadata": {},
   "source": [
    "# Config class for file paths and other configurations"
   ]
  },
  {
   "cell_type": "code",
   "execution_count": 85,
   "id": "b95e4088",
   "metadata": {},
   "outputs": [],
   "source": [
    "class modeling_config:\n",
    "    labs_path = 'Determine_lab_results_median_domain_expert_pivot.parquet'\n",
    "#     labs_mean_path =\n",
    "#     labs_temporal_path =\n",
    "    meds_path = 'Determine_medications_active_ingredients_pivot.parquet'\n",
    "    diag_path = 'Determine_diagnoses_initial_3_chars_with_icd10z.parquet'\n",
    "    demo_path = 'Determine_modeling_demographics_data.parquet'\n",
    "    target_path = 'Determine_Cohort_with_labels_OutcomeDate.parquet'\n",
    "    association_threshold = 20\n",
    "    folder = './Determine_Cohort_files_pivot/'"
   ]
  },
  {
   "cell_type": "markdown",
   "id": "be09d2d6",
   "metadata": {},
   "source": [
    "# EDA & Final processing for modeling"
   ]
  },
  {
   "cell_type": "markdown",
   "id": "d9ded108",
   "metadata": {},
   "source": [
    "## Lab results"
   ]
  },
  {
   "cell_type": "code",
   "execution_count": 29,
   "id": "f913b0c5",
   "metadata": {},
   "outputs": [],
   "source": [
    "labresults_df = pl.read_parquet(modeling_config.folder+modeling_config.labs_path)"
   ]
  },
  {
   "cell_type": "code",
   "execution_count": 30,
   "id": "d50d1542",
   "metadata": {},
   "outputs": [
    {
     "name": "stdout",
     "output_type": "stream",
     "text": [
      "Number of data points:  406122\n"
     ]
    }
   ],
   "source": [
    "print(\"Number of data points: \",len(labresults_df))"
   ]
  },
  {
   "cell_type": "code",
   "execution_count": 31,
   "id": "b8e3b20c",
   "metadata": {},
   "outputs": [
    {
     "data": {
      "text/html": [
       "<div><style>\n",
       ".dataframe > thead > tr,\n",
       ".dataframe > tbody > tr {\n",
       "  text-align: right;\n",
       "  white-space: pre-wrap;\n",
       "}\n",
       "</style>\n",
       "<small>shape: (3, 1_111)</small><table border=\"1\" class=\"dataframe\"><thead><tr><th>PATIENT_NUM</th><th>LOINC:704-7</th><th>LOINC:43396-1</th><th>LOINC:10834-0</th><th>LOINC:48643-1</th><th>LOINC:788-0</th><th>LOINC:11579-0</th><th>LOINC:17861-6</th><th>LOINC:2085-9</th><th>LOINC:4544-3</th><th>LOINC:2160-0</th><th>LOINC:713-8</th><th>LOINC:751-8</th><th>LOINC:718-7</th><th>LOINC:777-3</th><th>LOINC:1742-6</th><th>LOINC:2075-0</th><th>LOINC:30428-7</th><th>LOINC:2885-2</th><th>LOINC:2571-8</th><th>LOINC:1759-0</th><th>LOINC:3094-0</th><th>LOINC:792-2</th><th>LOINC:1920-8</th><th>LOINC:33914-3</th><th>LOINC:5905-5</th><th>LOINC:785-6</th><th>LOINC:1968-7</th><th>LOINC:2345-7</th><th>LOINC:2823-3</th><th>LOINC:51584-1</th><th>LOINC:62291-0</th><th>LOINC:3040-3</th><th>LOINC:3097-3</th><th>LOINC:1751-7</th><th>LOINC:2857-1</th><th>LOINC:2093-3</th><th>&hellip;</th><th>LOINC:30565-6</th><th>LOINC:26524-9</th><th>LOINC:13797-6</th><th>LOINC:69573-4</th><th>LOINC:38190-5</th><th>LOINC:4621-9</th><th>LOINC:83083-6</th><th>LOINC:2705-2</th><th>LOINC:26610-6</th><th>LOINC:19176-7</th><th>LOINC:9616-4</th><th>LOINC:30542-5</th><th>LOINC:13706-7</th><th>LOINC:33805-3</th><th>LOINC:26452-3</th><th>LOINC:14044-2</th><th>LOINC:13518-6</th><th>LOINC:33254-4</th><th>LOINC:9410-2</th><th>LOINC:19074-4</th><th>LOINC:56448-4</th><th>LOINC:30328-9</th><th>LOINC:13526-9</th><th>LOINC:46737-3</th><th>LOINC:18314-5</th><th>LOINC:14328-9</th><th>LOINC:12480-0</th><th>LOINC:74428-4</th><th>LOINC:32173-7</th><th>LOINC:3066-8</th><th>LOINC:3096-5</th><th>LOINC:42482-0</th><th>LOINC:2744-1</th><th>LOINC:21019-5</th><th>LOINC:33325-2</th><th>LOINC:19235-1</th><th>LOINC:26881-3</th></tr><tr><td>i64</td><td>f32</td><td>f32</td><td>f32</td><td>f32</td><td>f32</td><td>f32</td><td>f32</td><td>f32</td><td>f32</td><td>f32</td><td>f32</td><td>f32</td><td>f32</td><td>f32</td><td>f32</td><td>f32</td><td>f32</td><td>f32</td><td>f32</td><td>f32</td><td>f32</td><td>f32</td><td>f32</td><td>f32</td><td>f32</td><td>f32</td><td>f32</td><td>f32</td><td>f32</td><td>f32</td><td>f32</td><td>f32</td><td>f32</td><td>f32</td><td>f32</td><td>f32</td><td>&hellip;</td><td>f32</td><td>f32</td><td>f32</td><td>f32</td><td>f32</td><td>f32</td><td>f32</td><td>f32</td><td>f32</td><td>f32</td><td>f32</td><td>f32</td><td>f32</td><td>f32</td><td>f32</td><td>f32</td><td>f32</td><td>f32</td><td>f32</td><td>f32</td><td>f32</td><td>f32</td><td>f32</td><td>f32</td><td>f32</td><td>f32</td><td>f32</td><td>f32</td><td>f32</td><td>f32</td><td>f32</td><td>f32</td><td>f32</td><td>f32</td><td>f32</td><td>f32</td><td>f32</td></tr></thead><tbody><tr><td>469479</td><td>0.028</td><td>67.0</td><td>2.55</td><td>133.5</td><td>12.950001</td><td>null</td><td>10.049999</td><td>52.0</td><td>51.099998</td><td>0.885</td><td>3.0</td><td>2.542</td><td>17.200001</td><td>229.5</td><td>18.0</td><td>103.0</td><td>null</td><td>7.4</td><td>43.0</td><td>1.9</td><td>16.0</td><td>null</td><td>17.5</td><td>115.0</td><td>10.15</td><td>29.450001</td><td>null</td><td>88.5</td><td>4.65</td><td>null</td><td>null</td><td>null</td><td>null</td><td>4.85</td><td>null</td><td>119.0</td><td>&hellip;</td><td>null</td><td>null</td><td>null</td><td>null</td><td>null</td><td>null</td><td>null</td><td>null</td><td>null</td><td>null</td><td>null</td><td>null</td><td>null</td><td>null</td><td>null</td><td>null</td><td>null</td><td>null</td><td>null</td><td>null</td><td>null</td><td>null</td><td>null</td><td>null</td><td>null</td><td>null</td><td>null</td><td>null</td><td>null</td><td>null</td><td>null</td><td>null</td><td>null</td><td>null</td><td>null</td><td>null</td><td>null</td></tr><tr><td>5906095</td><td>0.04</td><td>194.0</td><td>3.1</td><td>85.5</td><td>15.1</td><td>null</td><td>10.65</td><td>51.0</td><td>42.599998</td><td>1.095</td><td>9.0</td><td>3.91</td><td>13.4</td><td>256.0</td><td>16.5</td><td>100.0</td><td>null</td><td>7.85</td><td>81.0</td><td>1.5</td><td>22.0</td><td>null</td><td>14.0</td><td>74.0</td><td>7.0</td><td>27.9</td><td>null</td><td>119.0</td><td>4.2</td><td>null</td><td>null</td><td>null</td><td>20.400002</td><td>4.75</td><td>null</td><td>245.0</td><td>&hellip;</td><td>null</td><td>null</td><td>null</td><td>null</td><td>null</td><td>null</td><td>null</td><td>null</td><td>null</td><td>null</td><td>null</td><td>null</td><td>null</td><td>null</td><td>null</td><td>null</td><td>null</td><td>null</td><td>null</td><td>null</td><td>null</td><td>null</td><td>null</td><td>null</td><td>null</td><td>null</td><td>null</td><td>null</td><td>null</td><td>null</td><td>null</td><td>null</td><td>null</td><td>null</td><td>null</td><td>null</td><td>null</td></tr><tr><td>555871</td><td>0.05</td><td>106.0</td><td>3.0</td><td>72.0</td><td>14.4</td><td>null</td><td>9.8</td><td>46.0</td><td>40.299999</td><td>1.26</td><td>3.0</td><td>7.47</td><td>13.1</td><td>302.0</td><td>8.0</td><td>104.0</td><td>null</td><td>7.6</td><td>119.0</td><td>1.6</td><td>9.0</td><td>null</td><td>12.0</td><td>62.0</td><td>6.0</td><td>29.1</td><td>null</td><td>106.0</td><td>4.1</td><td>null</td><td>null</td><td>null</td><td>6.8</td><td>4.6</td><td>null</td><td>152.0</td><td>&hellip;</td><td>null</td><td>null</td><td>null</td><td>null</td><td>null</td><td>null</td><td>null</td><td>null</td><td>null</td><td>null</td><td>null</td><td>null</td><td>null</td><td>null</td><td>null</td><td>null</td><td>null</td><td>null</td><td>null</td><td>null</td><td>null</td><td>null</td><td>null</td><td>null</td><td>null</td><td>null</td><td>null</td><td>null</td><td>null</td><td>null</td><td>null</td><td>null</td><td>null</td><td>null</td><td>null</td><td>null</td><td>null</td></tr></tbody></table></div>"
      ],
      "text/plain": [
       "shape: (3, 1_111)\n",
       "┌───────────┬───────────┬───────────┬───────────┬───┬───────────┬───────────┬───────────┬──────────┐\n",
       "│ PATIENT_N ┆ LOINC:704 ┆ LOINC:433 ┆ LOINC:108 ┆ … ┆ LOINC:210 ┆ LOINC:333 ┆ LOINC:192 ┆ LOINC:26 │\n",
       "│ UM        ┆ -7        ┆ 96-1      ┆ 34-0      ┆   ┆ 19-5      ┆ 25-2      ┆ 35-1      ┆ 881-3    │\n",
       "│ ---       ┆ ---       ┆ ---       ┆ ---       ┆   ┆ ---       ┆ ---       ┆ ---       ┆ ---      │\n",
       "│ i64       ┆ f32       ┆ f32       ┆ f32       ┆   ┆ f32       ┆ f32       ┆ f32       ┆ f32      │\n",
       "╞═══════════╪═══════════╪═══════════╪═══════════╪═══╪═══════════╪═══════════╪═══════════╪══════════╡\n",
       "│ 469479    ┆ 0.028     ┆ 67.0      ┆ 2.55      ┆ … ┆ null      ┆ null      ┆ null      ┆ null     │\n",
       "│ 5906095   ┆ 0.04      ┆ 194.0     ┆ 3.1       ┆ … ┆ null      ┆ null      ┆ null      ┆ null     │\n",
       "│ 555871    ┆ 0.05      ┆ 106.0     ┆ 3.0       ┆ … ┆ null      ┆ null      ┆ null      ┆ null     │\n",
       "└───────────┴───────────┴───────────┴───────────┴───┴───────────┴───────────┴───────────┴──────────┘"
      ]
     },
     "execution_count": 31,
     "metadata": {},
     "output_type": "execute_result"
    }
   ],
   "source": [
    "labresults_df.head(3)"
   ]
  },
  {
   "cell_type": "code",
   "execution_count": 32,
   "id": "cf5d733c",
   "metadata": {},
   "outputs": [
    {
     "data": {
      "text/html": [
       "<div><style>\n",
       ".dataframe > thead > tr,\n",
       ".dataframe > tbody > tr {\n",
       "  text-align: right;\n",
       "  white-space: pre-wrap;\n",
       "}\n",
       "</style>\n",
       "<small>shape: (1, 1_111)</small><table border=\"1\" class=\"dataframe\"><thead><tr><th>PATIENT_NUM</th><th>LOINC:704-7</th><th>LOINC:43396-1</th><th>LOINC:10834-0</th><th>LOINC:48643-1</th><th>LOINC:788-0</th><th>LOINC:11579-0</th><th>LOINC:17861-6</th><th>LOINC:2085-9</th><th>LOINC:4544-3</th><th>LOINC:2160-0</th><th>LOINC:713-8</th><th>LOINC:751-8</th><th>LOINC:718-7</th><th>LOINC:777-3</th><th>LOINC:1742-6</th><th>LOINC:2075-0</th><th>LOINC:30428-7</th><th>LOINC:2885-2</th><th>LOINC:2571-8</th><th>LOINC:1759-0</th><th>LOINC:3094-0</th><th>LOINC:792-2</th><th>LOINC:1920-8</th><th>LOINC:33914-3</th><th>LOINC:5905-5</th><th>LOINC:785-6</th><th>LOINC:1968-7</th><th>LOINC:2345-7</th><th>LOINC:2823-3</th><th>LOINC:51584-1</th><th>LOINC:62291-0</th><th>LOINC:3040-3</th><th>LOINC:3097-3</th><th>LOINC:1751-7</th><th>LOINC:2857-1</th><th>LOINC:2093-3</th><th>&hellip;</th><th>LOINC:30565-6</th><th>LOINC:26524-9</th><th>LOINC:13797-6</th><th>LOINC:69573-4</th><th>LOINC:38190-5</th><th>LOINC:4621-9</th><th>LOINC:83083-6</th><th>LOINC:2705-2</th><th>LOINC:26610-6</th><th>LOINC:19176-7</th><th>LOINC:9616-4</th><th>LOINC:30542-5</th><th>LOINC:13706-7</th><th>LOINC:33805-3</th><th>LOINC:26452-3</th><th>LOINC:14044-2</th><th>LOINC:13518-6</th><th>LOINC:33254-4</th><th>LOINC:9410-2</th><th>LOINC:19074-4</th><th>LOINC:56448-4</th><th>LOINC:30328-9</th><th>LOINC:13526-9</th><th>LOINC:46737-3</th><th>LOINC:18314-5</th><th>LOINC:14328-9</th><th>LOINC:12480-0</th><th>LOINC:74428-4</th><th>LOINC:32173-7</th><th>LOINC:3066-8</th><th>LOINC:3096-5</th><th>LOINC:42482-0</th><th>LOINC:2744-1</th><th>LOINC:21019-5</th><th>LOINC:33325-2</th><th>LOINC:19235-1</th><th>LOINC:26881-3</th></tr><tr><td>u32</td><td>u32</td><td>u32</td><td>u32</td><td>u32</td><td>u32</td><td>u32</td><td>u32</td><td>u32</td><td>u32</td><td>u32</td><td>u32</td><td>u32</td><td>u32</td><td>u32</td><td>u32</td><td>u32</td><td>u32</td><td>u32</td><td>u32</td><td>u32</td><td>u32</td><td>u32</td><td>u32</td><td>u32</td><td>u32</td><td>u32</td><td>u32</td><td>u32</td><td>u32</td><td>u32</td><td>u32</td><td>u32</td><td>u32</td><td>u32</td><td>u32</td><td>u32</td><td>&hellip;</td><td>u32</td><td>u32</td><td>u32</td><td>u32</td><td>u32</td><td>u32</td><td>u32</td><td>u32</td><td>u32</td><td>u32</td><td>u32</td><td>u32</td><td>u32</td><td>u32</td><td>u32</td><td>u32</td><td>u32</td><td>u32</td><td>u32</td><td>u32</td><td>u32</td><td>u32</td><td>u32</td><td>u32</td><td>u32</td><td>u32</td><td>u32</td><td>u32</td><td>u32</td><td>u32</td><td>u32</td><td>u32</td><td>u32</td><td>u32</td><td>u32</td><td>u32</td><td>u32</td></tr></thead><tbody><tr><td>406122</td><td>199320</td><td>133644</td><td>201537</td><td>223114</td><td>253172</td><td>48477</td><td>259432</td><td>210441</td><td>239235</td><td>140200</td><td>195220</td><td>193795</td><td>239370</td><td>253467</td><td>219266</td><td>268955</td><td>4121</td><td>234605</td><td>204674</td><td>209671</td><td>263497</td><td>8277</td><td>234449</td><td>165445</td><td>198936</td><td>234193</td><td>11366</td><td>262806</td><td>259935</td><td>56812</td><td>5959</td><td>7542</td><td>109625</td><td>214686</td><td>20379</td><td>217200</td><td>&hellip;</td><td>1</td><td>1</td><td>1</td><td>1</td><td>1</td><td>1</td><td>1</td><td>1</td><td>3</td><td>1</td><td>1</td><td>1</td><td>1</td><td>2</td><td>2</td><td>1</td><td>1</td><td>2</td><td>1</td><td>1</td><td>1</td><td>1</td><td>1</td><td>1</td><td>1</td><td>1</td><td>1</td><td>1</td><td>1</td><td>1</td><td>1</td><td>1</td><td>2</td><td>1</td><td>1</td><td>1</td><td>1</td></tr></tbody></table></div>"
      ],
      "text/plain": [
       "shape: (1, 1_111)\n",
       "┌───────────┬───────────┬───────────┬───────────┬───┬───────────┬───────────┬───────────┬──────────┐\n",
       "│ PATIENT_N ┆ LOINC:704 ┆ LOINC:433 ┆ LOINC:108 ┆ … ┆ LOINC:210 ┆ LOINC:333 ┆ LOINC:192 ┆ LOINC:26 │\n",
       "│ UM        ┆ -7        ┆ 96-1      ┆ 34-0      ┆   ┆ 19-5      ┆ 25-2      ┆ 35-1      ┆ 881-3    │\n",
       "│ ---       ┆ ---       ┆ ---       ┆ ---       ┆   ┆ ---       ┆ ---       ┆ ---       ┆ ---      │\n",
       "│ u32       ┆ u32       ┆ u32       ┆ u32       ┆   ┆ u32       ┆ u32       ┆ u32       ┆ u32      │\n",
       "╞═══════════╪═══════════╪═══════════╪═══════════╪═══╪═══════════╪═══════════╪═══════════╪══════════╡\n",
       "│ 406122    ┆ 199320    ┆ 133644    ┆ 201537    ┆ … ┆ 1         ┆ 1         ┆ 1         ┆ 1        │\n",
       "└───────────┴───────────┴───────────┴───────────┴───┴───────────┴───────────┴───────────┴──────────┘"
      ]
     },
     "execution_count": 32,
     "metadata": {},
     "output_type": "execute_result"
    }
   ],
   "source": [
    "labresults_df.count()"
   ]
  },
  {
   "cell_type": "code",
   "execution_count": 33,
   "id": "ee6dd8f1",
   "metadata": {},
   "outputs": [],
   "source": [
    "threshold  = [20,40,60,80,100,120,140]\n",
    "patients_association_count  =[]\n",
    "for thr in threshold:\n",
    "    patients_association_count.append(get_association_count(labresults_df, thr))"
   ]
  },
  {
   "cell_type": "code",
   "execution_count": 34,
   "id": "dfa897e7",
   "metadata": {},
   "outputs": [
    {
     "data": {
      "text/plain": [
       "['20', '40', '60', '80', '100', '120', '140']"
      ]
     },
     "execution_count": 34,
     "metadata": {},
     "output_type": "execute_result"
    }
   ],
   "source": [
    "list(map(str, threshold))"
   ]
  },
  {
   "cell_type": "code",
   "execution_count": 35,
   "id": "b46178d7",
   "metadata": {},
   "outputs": [
    {
     "data": {
      "image/png": "[encoded data removed]",
      "text/plain": [
       "<Figure size 640x480 with 1 Axes>"
      ]
     },
     "metadata": {},
     "output_type": "display_data"
    }
   ],
   "source": [
    "bplot = plt.bar(list(map(str, threshold)) , patients_association_count)\n",
    "plt.bar_label(bplot,\n",
    "              fontweight='bold',\n",
    "              color='green')\n",
    "plt.title('Patients assocation count for labloincs against threshold')\n",
    "plt.xlabel('Threshold')\n",
    "plt.ylabel('Patient Count')\n",
    "plt.show()"
   ]
  },
  {
   "cell_type": "code",
   "execution_count": 36,
   "id": "26f1dbcd",
   "metadata": {},
   "outputs": [],
   "source": [
    "### finding columns to ignore\n",
    "selected_threshold =50\n",
    "keep_columns = []\n",
    "for i,j in labresults_df.count().to_dict(as_series=False).items():\n",
    "        if i!='PATIENT_NUM' and j[0]>selected_threshold:\n",
    "            keep_columns.append(i)"
   ]
  },
  {
   "cell_type": "code",
   "execution_count": 37,
   "id": "088c509d",
   "metadata": {},
   "outputs": [
    {
     "name": "stdout",
     "output_type": "stream",
     "text": [
      "Number of columns to be kept with threshold 50 patients: 473\n"
     ]
    }
   ],
   "source": [
    "print(\"Number of columns to be kept with threshold {} patients: {}\".format(selected_threshold, len(keep_columns)))"
   ]
  },
  {
   "cell_type": "code",
   "execution_count": 38,
   "id": "b33cbaa2",
   "metadata": {},
   "outputs": [
    {
     "data": {
      "text/plain": [
       "473"
      ]
     },
     "execution_count": 38,
     "metadata": {},
     "output_type": "execute_result"
    }
   ],
   "source": [
    "len(keep_columns)"
   ]
  },
  {
   "cell_type": "code",
   "execution_count": 39,
   "id": "2ea4cbd8",
   "metadata": {},
   "outputs": [],
   "source": [
    "labresults_pivot_keep_df = labresults_df.select(['PATIENT_NUM'] + keep_columns)"
   ]
  },
  {
   "cell_type": "code",
   "execution_count": 40,
   "id": "330d9fa4",
   "metadata": {},
   "outputs": [
    {
     "data": {
      "text/html": [
       "<div><style>\n",
       ".dataframe > thead > tr,\n",
       ".dataframe > tbody > tr {\n",
       "  text-align: right;\n",
       "  white-space: pre-wrap;\n",
       "}\n",
       "</style>\n",
       "<small>shape: (86, 474)</small><table border=\"1\" class=\"dataframe\"><thead><tr><th>PATIENT_NUM</th><th>LOINC:704-7</th><th>LOINC:43396-1</th><th>LOINC:10834-0</th><th>LOINC:48643-1</th><th>LOINC:788-0</th><th>LOINC:11579-0</th><th>LOINC:17861-6</th><th>LOINC:2085-9</th><th>LOINC:4544-3</th><th>LOINC:2160-0</th><th>LOINC:713-8</th><th>LOINC:751-8</th><th>LOINC:718-7</th><th>LOINC:777-3</th><th>LOINC:1742-6</th><th>LOINC:2075-0</th><th>LOINC:30428-7</th><th>LOINC:2885-2</th><th>LOINC:2571-8</th><th>LOINC:1759-0</th><th>LOINC:3094-0</th><th>LOINC:792-2</th><th>LOINC:1920-8</th><th>LOINC:33914-3</th><th>LOINC:5905-5</th><th>LOINC:785-6</th><th>LOINC:1968-7</th><th>LOINC:2345-7</th><th>LOINC:2823-3</th><th>LOINC:51584-1</th><th>LOINC:62291-0</th><th>LOINC:3040-3</th><th>LOINC:3097-3</th><th>LOINC:1751-7</th><th>LOINC:2857-1</th><th>LOINC:2093-3</th><th>&hellip;</th><th>LOINC:2514-8</th><th>LOINC:30572-2</th><th>LOINC:2668-2</th><th>LOINC:55868-4</th><th>LOINC:33944-0</th><th>LOINC:1761-6</th><th>LOINC:43727-7</th><th>LOINC:4538-5</th><th>LOINC:6901-3</th><th>LOINC:2218-6</th><th>LOINC:41649-5</th><th>LOINC:13801-6</th><th>LOINC:49502-8</th><th>LOINC:15061-5</th><th>LOINC:6874-2</th><th>LOINC:32046-5</th><th>LOINC:2240-0</th><th>LOINC:3054-4</th><th>LOINC:6942-7</th><th>LOINC:29239-1</th><th>LOINC:42245-1</th><th>LOINC:1854-9</th><th>LOINC:35707-9</th><th>LOINC:2148-5</th><th>LOINC:38252-3</th><th>LOINC:72888-1</th><th>LOINC:83102-4</th><th>LOINC:38506-2</th><th>LOINC:26499-4</th><th>LOINC:2609-6</th><th>LOINC:2579-1</th><th>LOINC:26019-0</th><th>LOINC:33951-5</th><th>LOINC:26498-6</th><th>LOINC:2669-0</th><th>LOINC:30433-7</th><th>LOINC:42246-9</th></tr><tr><td>i64</td><td>f32</td><td>f32</td><td>f32</td><td>f32</td><td>f32</td><td>f32</td><td>f32</td><td>f32</td><td>f32</td><td>f32</td><td>f32</td><td>f32</td><td>f32</td><td>f32</td><td>f32</td><td>f32</td><td>f32</td><td>f32</td><td>f32</td><td>f32</td><td>f32</td><td>f32</td><td>f32</td><td>f32</td><td>f32</td><td>f32</td><td>f32</td><td>f32</td><td>f32</td><td>f32</td><td>f32</td><td>f32</td><td>f32</td><td>f32</td><td>f32</td><td>f32</td><td>&hellip;</td><td>f32</td><td>f32</td><td>f32</td><td>f32</td><td>f32</td><td>f32</td><td>f32</td><td>f32</td><td>f32</td><td>f32</td><td>f32</td><td>f32</td><td>f32</td><td>f32</td><td>f32</td><td>f32</td><td>f32</td><td>f32</td><td>f32</td><td>f32</td><td>f32</td><td>f32</td><td>f32</td><td>f32</td><td>f32</td><td>f32</td><td>f32</td><td>f32</td><td>f32</td><td>f32</td><td>f32</td><td>f32</td><td>f32</td><td>f32</td><td>f32</td><td>f32</td><td>f32</td></tr></thead><tbody><tr><td>3253434</td><td>null</td><td>null</td><td>null</td><td>null</td><td>null</td><td>null</td><td>null</td><td>null</td><td>null</td><td>null</td><td>null</td><td>null</td><td>null</td><td>null</td><td>null</td><td>null</td><td>null</td><td>null</td><td>null</td><td>null</td><td>null</td><td>null</td><td>null</td><td>null</td><td>null</td><td>null</td><td>null</td><td>null</td><td>null</td><td>null</td><td>null</td><td>null</td><td>null</td><td>null</td><td>null</td><td>null</td><td>&hellip;</td><td>null</td><td>null</td><td>null</td><td>null</td><td>null</td><td>null</td><td>null</td><td>null</td><td>null</td><td>null</td><td>null</td><td>null</td><td>null</td><td>null</td><td>null</td><td>null</td><td>null</td><td>null</td><td>null</td><td>null</td><td>null</td><td>null</td><td>null</td><td>null</td><td>null</td><td>null</td><td>null</td><td>null</td><td>null</td><td>null</td><td>null</td><td>null</td><td>null</td><td>null</td><td>null</td><td>null</td><td>null</td></tr><tr><td>5932797</td><td>null</td><td>null</td><td>null</td><td>null</td><td>null</td><td>null</td><td>null</td><td>null</td><td>null</td><td>null</td><td>null</td><td>null</td><td>null</td><td>null</td><td>null</td><td>null</td><td>null</td><td>null</td><td>null</td><td>null</td><td>null</td><td>null</td><td>null</td><td>null</td><td>null</td><td>null</td><td>null</td><td>null</td><td>null</td><td>null</td><td>null</td><td>null</td><td>null</td><td>null</td><td>null</td><td>null</td><td>&hellip;</td><td>null</td><td>null</td><td>null</td><td>null</td><td>null</td><td>null</td><td>null</td><td>null</td><td>null</td><td>null</td><td>null</td><td>null</td><td>null</td><td>null</td><td>null</td><td>null</td><td>null</td><td>null</td><td>null</td><td>null</td><td>null</td><td>null</td><td>null</td><td>null</td><td>null</td><td>null</td><td>null</td><td>null</td><td>null</td><td>null</td><td>null</td><td>null</td><td>null</td><td>null</td><td>null</td><td>null</td><td>null</td></tr><tr><td>2775390</td><td>null</td><td>null</td><td>null</td><td>null</td><td>null</td><td>null</td><td>null</td><td>null</td><td>null</td><td>null</td><td>null</td><td>null</td><td>null</td><td>null</td><td>null</td><td>null</td><td>null</td><td>null</td><td>null</td><td>null</td><td>null</td><td>null</td><td>null</td><td>null</td><td>null</td><td>null</td><td>null</td><td>null</td><td>null</td><td>null</td><td>null</td><td>null</td><td>null</td><td>null</td><td>null</td><td>null</td><td>&hellip;</td><td>null</td><td>null</td><td>null</td><td>null</td><td>null</td><td>null</td><td>null</td><td>null</td><td>null</td><td>null</td><td>null</td><td>null</td><td>null</td><td>null</td><td>null</td><td>null</td><td>null</td><td>null</td><td>null</td><td>null</td><td>null</td><td>null</td><td>null</td><td>null</td><td>null</td><td>null</td><td>null</td><td>null</td><td>null</td><td>null</td><td>null</td><td>null</td><td>null</td><td>null</td><td>null</td><td>null</td><td>null</td></tr><tr><td>1680431</td><td>null</td><td>null</td><td>null</td><td>null</td><td>null</td><td>null</td><td>null</td><td>null</td><td>null</td><td>null</td><td>null</td><td>null</td><td>null</td><td>null</td><td>null</td><td>null</td><td>null</td><td>null</td><td>null</td><td>null</td><td>null</td><td>null</td><td>null</td><td>null</td><td>null</td><td>null</td><td>null</td><td>null</td><td>null</td><td>null</td><td>null</td><td>null</td><td>null</td><td>null</td><td>null</td><td>null</td><td>&hellip;</td><td>null</td><td>null</td><td>null</td><td>null</td><td>null</td><td>null</td><td>null</td><td>null</td><td>null</td><td>null</td><td>null</td><td>null</td><td>null</td><td>null</td><td>null</td><td>null</td><td>null</td><td>null</td><td>null</td><td>null</td><td>null</td><td>null</td><td>null</td><td>null</td><td>null</td><td>null</td><td>null</td><td>null</td><td>null</td><td>null</td><td>null</td><td>null</td><td>null</td><td>null</td><td>null</td><td>null</td><td>null</td></tr><tr><td>735310</td><td>null</td><td>null</td><td>null</td><td>null</td><td>null</td><td>null</td><td>null</td><td>null</td><td>null</td><td>null</td><td>null</td><td>null</td><td>null</td><td>null</td><td>null</td><td>null</td><td>null</td><td>null</td><td>null</td><td>null</td><td>null</td><td>null</td><td>null</td><td>null</td><td>null</td><td>null</td><td>null</td><td>null</td><td>null</td><td>null</td><td>null</td><td>null</td><td>null</td><td>null</td><td>null</td><td>null</td><td>&hellip;</td><td>null</td><td>null</td><td>null</td><td>null</td><td>null</td><td>null</td><td>null</td><td>null</td><td>null</td><td>null</td><td>null</td><td>null</td><td>null</td><td>null</td><td>null</td><td>null</td><td>null</td><td>null</td><td>null</td><td>null</td><td>null</td><td>null</td><td>null</td><td>null</td><td>null</td><td>null</td><td>null</td><td>null</td><td>null</td><td>null</td><td>null</td><td>null</td><td>null</td><td>null</td><td>null</td><td>null</td><td>null</td></tr><tr><td>&hellip;</td><td>&hellip;</td><td>&hellip;</td><td>&hellip;</td><td>&hellip;</td><td>&hellip;</td><td>&hellip;</td><td>&hellip;</td><td>&hellip;</td><td>&hellip;</td><td>&hellip;</td><td>&hellip;</td><td>&hellip;</td><td>&hellip;</td><td>&hellip;</td><td>&hellip;</td><td>&hellip;</td><td>&hellip;</td><td>&hellip;</td><td>&hellip;</td><td>&hellip;</td><td>&hellip;</td><td>&hellip;</td><td>&hellip;</td><td>&hellip;</td><td>&hellip;</td><td>&hellip;</td><td>&hellip;</td><td>&hellip;</td><td>&hellip;</td><td>&hellip;</td><td>&hellip;</td><td>&hellip;</td><td>&hellip;</td><td>&hellip;</td><td>&hellip;</td><td>&hellip;</td><td>&hellip;</td><td>&hellip;</td><td>&hellip;</td><td>&hellip;</td><td>&hellip;</td><td>&hellip;</td><td>&hellip;</td><td>&hellip;</td><td>&hellip;</td><td>&hellip;</td><td>&hellip;</td><td>&hellip;</td><td>&hellip;</td><td>&hellip;</td><td>&hellip;</td><td>&hellip;</td><td>&hellip;</td><td>&hellip;</td><td>&hellip;</td><td>&hellip;</td><td>&hellip;</td><td>&hellip;</td><td>&hellip;</td><td>&hellip;</td><td>&hellip;</td><td>&hellip;</td><td>&hellip;</td><td>&hellip;</td><td>&hellip;</td><td>&hellip;</td><td>&hellip;</td><td>&hellip;</td><td>&hellip;</td><td>&hellip;</td><td>&hellip;</td><td>&hellip;</td><td>&hellip;</td><td>&hellip;</td></tr><tr><td>5556862</td><td>null</td><td>null</td><td>null</td><td>null</td><td>null</td><td>null</td><td>null</td><td>null</td><td>null</td><td>null</td><td>null</td><td>null</td><td>null</td><td>null</td><td>null</td><td>null</td><td>null</td><td>null</td><td>null</td><td>null</td><td>null</td><td>null</td><td>null</td><td>null</td><td>null</td><td>null</td><td>null</td><td>null</td><td>null</td><td>null</td><td>null</td><td>null</td><td>null</td><td>null</td><td>null</td><td>null</td><td>&hellip;</td><td>null</td><td>null</td><td>null</td><td>null</td><td>null</td><td>null</td><td>null</td><td>null</td><td>null</td><td>null</td><td>null</td><td>null</td><td>null</td><td>null</td><td>null</td><td>null</td><td>null</td><td>null</td><td>null</td><td>null</td><td>null</td><td>null</td><td>null</td><td>null</td><td>null</td><td>null</td><td>null</td><td>null</td><td>null</td><td>null</td><td>null</td><td>null</td><td>null</td><td>null</td><td>null</td><td>null</td><td>null</td></tr><tr><td>6105863</td><td>null</td><td>null</td><td>null</td><td>null</td><td>null</td><td>null</td><td>null</td><td>null</td><td>null</td><td>null</td><td>null</td><td>null</td><td>null</td><td>null</td><td>null</td><td>null</td><td>null</td><td>null</td><td>null</td><td>null</td><td>null</td><td>null</td><td>null</td><td>null</td><td>null</td><td>null</td><td>null</td><td>null</td><td>null</td><td>null</td><td>null</td><td>null</td><td>null</td><td>null</td><td>null</td><td>null</td><td>&hellip;</td><td>null</td><td>null</td><td>null</td><td>null</td><td>null</td><td>null</td><td>null</td><td>null</td><td>null</td><td>null</td><td>null</td><td>null</td><td>null</td><td>null</td><td>null</td><td>null</td><td>null</td><td>null</td><td>null</td><td>null</td><td>null</td><td>null</td><td>null</td><td>null</td><td>null</td><td>null</td><td>null</td><td>null</td><td>null</td><td>null</td><td>null</td><td>null</td><td>null</td><td>null</td><td>null</td><td>null</td><td>null</td></tr><tr><td>810627</td><td>null</td><td>null</td><td>null</td><td>null</td><td>null</td><td>null</td><td>null</td><td>null</td><td>null</td><td>null</td><td>null</td><td>null</td><td>null</td><td>null</td><td>null</td><td>null</td><td>null</td><td>null</td><td>null</td><td>null</td><td>null</td><td>null</td><td>null</td><td>null</td><td>null</td><td>null</td><td>null</td><td>null</td><td>null</td><td>null</td><td>null</td><td>null</td><td>null</td><td>null</td><td>null</td><td>null</td><td>&hellip;</td><td>null</td><td>null</td><td>null</td><td>null</td><td>null</td><td>null</td><td>null</td><td>null</td><td>null</td><td>null</td><td>null</td><td>null</td><td>null</td><td>null</td><td>null</td><td>null</td><td>null</td><td>null</td><td>null</td><td>null</td><td>null</td><td>null</td><td>null</td><td>null</td><td>null</td><td>null</td><td>null</td><td>null</td><td>null</td><td>null</td><td>null</td><td>null</td><td>null</td><td>null</td><td>null</td><td>null</td><td>null</td></tr><tr><td>8119482</td><td>null</td><td>null</td><td>null</td><td>null</td><td>null</td><td>null</td><td>null</td><td>null</td><td>null</td><td>null</td><td>null</td><td>null</td><td>null</td><td>null</td><td>null</td><td>null</td><td>null</td><td>null</td><td>null</td><td>null</td><td>null</td><td>null</td><td>null</td><td>null</td><td>null</td><td>null</td><td>null</td><td>null</td><td>null</td><td>null</td><td>null</td><td>null</td><td>null</td><td>null</td><td>null</td><td>null</td><td>&hellip;</td><td>null</td><td>null</td><td>null</td><td>null</td><td>null</td><td>null</td><td>null</td><td>null</td><td>null</td><td>null</td><td>null</td><td>null</td><td>null</td><td>null</td><td>null</td><td>null</td><td>null</td><td>null</td><td>null</td><td>null</td><td>null</td><td>null</td><td>null</td><td>null</td><td>null</td><td>null</td><td>null</td><td>null</td><td>null</td><td>null</td><td>null</td><td>null</td><td>null</td><td>null</td><td>null</td><td>null</td><td>null</td></tr><tr><td>1212577</td><td>null</td><td>null</td><td>null</td><td>null</td><td>null</td><td>null</td><td>null</td><td>null</td><td>null</td><td>null</td><td>null</td><td>null</td><td>null</td><td>null</td><td>null</td><td>null</td><td>null</td><td>null</td><td>null</td><td>null</td><td>null</td><td>null</td><td>null</td><td>null</td><td>null</td><td>null</td><td>null</td><td>null</td><td>null</td><td>null</td><td>null</td><td>null</td><td>null</td><td>null</td><td>null</td><td>null</td><td>&hellip;</td><td>null</td><td>null</td><td>null</td><td>null</td><td>null</td><td>null</td><td>null</td><td>null</td><td>null</td><td>null</td><td>null</td><td>null</td><td>null</td><td>null</td><td>null</td><td>null</td><td>null</td><td>null</td><td>null</td><td>null</td><td>null</td><td>null</td><td>null</td><td>null</td><td>null</td><td>null</td><td>null</td><td>null</td><td>null</td><td>null</td><td>null</td><td>null</td><td>null</td><td>null</td><td>null</td><td>null</td><td>null</td></tr></tbody></table></div>"
      ],
      "text/plain": [
       "shape: (86, 474)\n",
       "┌───────────┬───────────┬───────────┬───────────┬───┬───────────┬───────────┬───────────┬──────────┐\n",
       "│ PATIENT_N ┆ LOINC:704 ┆ LOINC:433 ┆ LOINC:108 ┆ … ┆ LOINC:264 ┆ LOINC:266 ┆ LOINC:304 ┆ LOINC:42 │\n",
       "│ UM        ┆ -7        ┆ 96-1      ┆ 34-0      ┆   ┆ 98-6      ┆ 9-0       ┆ 33-7      ┆ 246-9    │\n",
       "│ ---       ┆ ---       ┆ ---       ┆ ---       ┆   ┆ ---       ┆ ---       ┆ ---       ┆ ---      │\n",
       "│ i64       ┆ f32       ┆ f32       ┆ f32       ┆   ┆ f32       ┆ f32       ┆ f32       ┆ f32      │\n",
       "╞═══════════╪═══════════╪═══════════╪═══════════╪═══╪═══════════╪═══════════╪═══════════╪══════════╡\n",
       "│ 3253434   ┆ null      ┆ null      ┆ null      ┆ … ┆ null      ┆ null      ┆ null      ┆ null     │\n",
       "│ 5932797   ┆ null      ┆ null      ┆ null      ┆ … ┆ null      ┆ null      ┆ null      ┆ null     │\n",
       "│ 2775390   ┆ null      ┆ null      ┆ null      ┆ … ┆ null      ┆ null      ┆ null      ┆ null     │\n",
       "│ 1680431   ┆ null      ┆ null      ┆ null      ┆ … ┆ null      ┆ null      ┆ null      ┆ null     │\n",
       "│ 735310    ┆ null      ┆ null      ┆ null      ┆ … ┆ null      ┆ null      ┆ null      ┆ null     │\n",
       "│ …         ┆ …         ┆ …         ┆ …         ┆ … ┆ …         ┆ …         ┆ …         ┆ …        │\n",
       "│ 5556862   ┆ null      ┆ null      ┆ null      ┆ … ┆ null      ┆ null      ┆ null      ┆ null     │\n",
       "│ 6105863   ┆ null      ┆ null      ┆ null      ┆ … ┆ null      ┆ null      ┆ null      ┆ null     │\n",
       "│ 810627    ┆ null      ┆ null      ┆ null      ┆ … ┆ null      ┆ null      ┆ null      ┆ null     │\n",
       "│ 8119482   ┆ null      ┆ null      ┆ null      ┆ … ┆ null      ┆ null      ┆ null      ┆ null     │\n",
       "│ 1212577   ┆ null      ┆ null      ┆ null      ┆ … ┆ null      ┆ null      ┆ null      ┆ null     │\n",
       "└───────────┴───────────┴───────────┴───────────┴───┴───────────┴───────────┴───────────┴──────────┘"
      ]
     },
     "execution_count": 40,
     "metadata": {},
     "output_type": "execute_result"
    }
   ],
   "source": [
    "labresults_pivot_keep_df.filter(pl.all_horizontal(pl.all().exclude('PATIENT_NUM').is_null()))"
   ]
  },
  {
   "cell_type": "code",
   "execution_count": 41,
   "id": "6dddd975",
   "metadata": {},
   "outputs": [
    {
     "name": "stdout",
     "output_type": "stream",
     "text": [
      "Number of patients lost after reducing the patients count:  86\n"
     ]
    }
   ],
   "source": [
    "print(\"Number of patients lost after reducing the patients count: \",len(labresults_pivot_keep_df.filter(pl.all_horizontal(pl.all().exclude('PATIENT_NUM').is_null()))))"
   ]
  },
  {
   "cell_type": "code",
   "execution_count": 42,
   "id": "7ebefb3c",
   "metadata": {},
   "outputs": [],
   "source": [
    "labresults_pivot_keep_df = labresults_pivot_keep_df.filter(~pl.all_horizontal(pl.all().exclude('PATIENT_NUM').is_null()))"
   ]
  },
  {
   "cell_type": "code",
   "execution_count": 43,
   "id": "0a49d8a8",
   "metadata": {},
   "outputs": [],
   "source": [
    "labresults_pivot_keep_df = labresults_pivot_keep_df.fill_null(-100)"
   ]
  },
  {
   "cell_type": "code",
   "execution_count": 44,
   "id": "07df01cf",
   "metadata": {},
   "outputs": [
    {
     "data": {
      "text/plain": [
       "406036"
      ]
     },
     "execution_count": 44,
     "metadata": {},
     "output_type": "execute_result"
    }
   ],
   "source": [
    "len(labresults_pivot_keep_df)"
   ]
  },
  {
   "cell_type": "code",
   "execution_count": 45,
   "id": "bae847bf",
   "metadata": {},
   "outputs": [],
   "source": [
    "if 'all' in modeling_config.labs_path:\n",
    "    labresults_pivot_keep_df.write_parquet('./Determine_modeling_datasets/Determine_modeling_labresults_all_features_thrs_'+str(selected_threshold)+'.parquet')\n",
    "if 'domain_expert' in modeling_config.labs_path:\n",
    "    labresults_pivot_keep_df.write_parquet('./Determine_modeling_datasets/Determine_modeling_labresults_domain_expert_thrs_'+str(selected_threshold)+'.parquet')"
   ]
  },
  {
   "cell_type": "markdown",
   "id": "e554ba86",
   "metadata": {},
   "source": [
    "## Medications"
   ]
  },
  {
   "cell_type": "code",
   "execution_count": 47,
   "id": "3d1a3c82",
   "metadata": {},
   "outputs": [],
   "source": [
    "medications_pivot_df = pl.read_parquet(modeling_config.folder+modeling_config.meds_path)"
   ]
  },
  {
   "cell_type": "code",
   "execution_count": 48,
   "id": "b83b5cf0",
   "metadata": {},
   "outputs": [
    {
     "name": "stdout",
     "output_type": "stream",
     "text": [
      "Number of data points:  531679\n"
     ]
    }
   ],
   "source": [
    "print(\"Number of data points: \",len(medications_pivot_df))"
   ]
  },
  {
   "cell_type": "code",
   "execution_count": 49,
   "id": "a5208295",
   "metadata": {},
   "outputs": [
    {
     "data": {
      "text/html": [
       "<div><style>\n",
       ".dataframe > thead > tr,\n",
       ".dataframe > tbody > tr {\n",
       "  text-align: right;\n",
       "  white-space: pre-wrap;\n",
       "}\n",
       "</style>\n",
       "<small>shape: (3, 1_480)</small><table border=\"1\" class=\"dataframe\"><thead><tr><th>PATIENT_NUM</th><th>phenazopyridine</th><th>nitrofurantoin</th><th>lisinopril_hydrochlorothiazide</th><th>amlodipine</th><th>cephalexin</th><th>albuterol</th><th>nystatin</th><th>metronidazole</th><th>mometasone_formoterol</th><th>varicella-zoster virus vaccine live (Oka-Merck) strain</th><th>potassium chloride</th><th>chlorthalidone</th><th>ketorolac</th><th>azithromycin</th><th>triamcinolone</th><th>gabapentin</th><th>acetaminophen_hydrocodone</th><th>capsaicin</th><th>naproxen</th><th>tramadol</th><th>ibuprofen</th><th>codeine_promethazine</th><th>omeprazole</th><th>clotrimazole</th><th>lorazepam</th><th>fluticasone</th><th>calcium carbonate</th><th>loratadine</th><th>paroxetine</th><th>cholecalciferol</th><th>aluminum chloride</th><th>penicillin G</th><th>sulfamethoxazole_trimethoprim</th><th>ondansetron</th><th>doxylamine_pyridoxine</th><th>folic acid</th><th>&hellip;</th><th>chlorpheniramine_codeine_pseudoephedrine</th><th>nabilone</th><th>zinc acetate</th><th>vitamin B12_ascorbic acid_iron carbonyl_folic acid_docusate</th><th>thioguanine</th><th>carbinoxamine</th><th>ketamine</th><th>rx_cui:1303740</th><th>ammonia</th><th>tyrosine</th><th>sodium phosphate</th><th>rx_cui:1150087</th><th>factor VIII</th><th>ethanol</th><th>fingolimod</th><th>rx_cui:1247404</th><th>icatibant</th><th>rx_cui:1356525</th><th>polysaccharide iron complex_vitamin B12_folic acid_heme iron polypeptide</th><th>rx_cui:856892</th><th>rx_cui:313409</th><th>poliovirus vaccine inactivated, type 1 (Mahoney)_poliovirus vaccine inactivated, type 2 (MEF-1)_poliovirus vaccine inactivated, type 3 (Saukett)_acellular pertussis vaccine, inactivated_diphtheria toxoid vaccine, inactivated_tetanus toxoid vaccine, inactivated</th><th>rx_cui:198725</th><th>rx_cui:1249797</th><th>rx_cui:966545</th><th>dexbrompheniramine_pseudoephedrine</th><th>benzethonium_benzocaine</th><th>rx_cui:237778</th><th>rx_cui:2174531</th><th>rx_cui:204969</th><th>rx_cui:310468</th><th>ganirelix</th><th>follicle stimulating hormone_luteinizing hormone</th><th>aztreonam</th><th>isoniazid_rifampin</th><th>lactate_calcium chloride_glucose_potassium chloride_sodium chloride</th><th>glucose_potassium chloride_sodium chloride</th></tr><tr><td>i64</td><td>i32</td><td>i32</td><td>i32</td><td>i32</td><td>i32</td><td>i32</td><td>i32</td><td>i32</td><td>i32</td><td>i32</td><td>i32</td><td>i32</td><td>i32</td><td>i32</td><td>i32</td><td>i32</td><td>i32</td><td>i32</td><td>i32</td><td>i32</td><td>i32</td><td>i32</td><td>i32</td><td>i32</td><td>i32</td><td>i32</td><td>i32</td><td>i32</td><td>i32</td><td>i32</td><td>i32</td><td>i32</td><td>i32</td><td>i32</td><td>i32</td><td>i32</td><td>&hellip;</td><td>i32</td><td>i32</td><td>i32</td><td>i32</td><td>i32</td><td>i32</td><td>i32</td><td>i32</td><td>i32</td><td>i32</td><td>i32</td><td>i32</td><td>i32</td><td>i32</td><td>i32</td><td>i32</td><td>i32</td><td>i32</td><td>i32</td><td>i32</td><td>i32</td><td>i32</td><td>i32</td><td>i32</td><td>i32</td><td>i32</td><td>i32</td><td>i32</td><td>i32</td><td>i32</td><td>i32</td><td>i32</td><td>i32</td><td>i32</td><td>i32</td><td>i32</td><td>i32</td></tr></thead><tbody><tr><td>556</td><td>1</td><td>1</td><td>1</td><td>1</td><td>0</td><td>0</td><td>0</td><td>0</td><td>0</td><td>0</td><td>0</td><td>0</td><td>0</td><td>0</td><td>0</td><td>0</td><td>0</td><td>0</td><td>0</td><td>0</td><td>0</td><td>0</td><td>0</td><td>0</td><td>0</td><td>0</td><td>0</td><td>0</td><td>0</td><td>0</td><td>0</td><td>0</td><td>0</td><td>0</td><td>0</td><td>0</td><td>&hellip;</td><td>0</td><td>0</td><td>0</td><td>0</td><td>0</td><td>0</td><td>0</td><td>0</td><td>0</td><td>0</td><td>0</td><td>0</td><td>0</td><td>0</td><td>0</td><td>0</td><td>0</td><td>0</td><td>0</td><td>0</td><td>0</td><td>0</td><td>0</td><td>0</td><td>0</td><td>0</td><td>0</td><td>0</td><td>0</td><td>0</td><td>0</td><td>0</td><td>0</td><td>0</td><td>0</td><td>0</td><td>0</td></tr><tr><td>560</td><td>0</td><td>0</td><td>0</td><td>0</td><td>1</td><td>1</td><td>1</td><td>0</td><td>0</td><td>0</td><td>0</td><td>0</td><td>0</td><td>0</td><td>0</td><td>0</td><td>0</td><td>0</td><td>0</td><td>0</td><td>0</td><td>0</td><td>0</td><td>0</td><td>0</td><td>0</td><td>0</td><td>0</td><td>0</td><td>0</td><td>0</td><td>0</td><td>0</td><td>0</td><td>0</td><td>0</td><td>&hellip;</td><td>0</td><td>0</td><td>0</td><td>0</td><td>0</td><td>0</td><td>0</td><td>0</td><td>0</td><td>0</td><td>0</td><td>0</td><td>0</td><td>0</td><td>0</td><td>0</td><td>0</td><td>0</td><td>0</td><td>0</td><td>0</td><td>0</td><td>0</td><td>0</td><td>0</td><td>0</td><td>0</td><td>0</td><td>0</td><td>0</td><td>0</td><td>0</td><td>0</td><td>0</td><td>0</td><td>0</td><td>0</td></tr><tr><td>561</td><td>0</td><td>0</td><td>0</td><td>0</td><td>0</td><td>0</td><td>0</td><td>1</td><td>0</td><td>0</td><td>0</td><td>0</td><td>0</td><td>0</td><td>0</td><td>0</td><td>0</td><td>0</td><td>0</td><td>0</td><td>0</td><td>0</td><td>0</td><td>0</td><td>0</td><td>0</td><td>0</td><td>0</td><td>0</td><td>0</td><td>0</td><td>0</td><td>0</td><td>0</td><td>0</td><td>0</td><td>&hellip;</td><td>0</td><td>0</td><td>0</td><td>0</td><td>0</td><td>0</td><td>0</td><td>0</td><td>0</td><td>0</td><td>0</td><td>0</td><td>0</td><td>0</td><td>0</td><td>0</td><td>0</td><td>0</td><td>0</td><td>0</td><td>0</td><td>0</td><td>0</td><td>0</td><td>0</td><td>0</td><td>0</td><td>0</td><td>0</td><td>0</td><td>0</td><td>0</td><td>0</td><td>0</td><td>0</td><td>0</td><td>0</td></tr></tbody></table></div>"
      ],
      "text/plain": [
       "shape: (3, 1_480)\n",
       "┌───────────┬───────────┬───────────┬───────────┬───┬───────────┬───────────┬───────────┬──────────┐\n",
       "│ PATIENT_N ┆ phenazopy ┆ nitrofura ┆ lisinopri ┆ … ┆ aztreonam ┆ isoniazid ┆ lactate_c ┆ glucose_ │\n",
       "│ UM        ┆ ridine    ┆ ntoin     ┆ l_hydroch ┆   ┆ ---       ┆ _rifampin ┆ alcium    ┆ potassiu │\n",
       "│ ---       ┆ ---       ┆ ---       ┆ lorothiaz ┆   ┆ i32       ┆ ---       ┆ chloride_ ┆ m chlori │\n",
       "│ i64       ┆ i32       ┆ i32       ┆ ide       ┆   ┆           ┆ i32       ┆ gluco…    ┆ de_sod…  │\n",
       "│           ┆           ┆           ┆ ---       ┆   ┆           ┆           ┆ ---       ┆ ---      │\n",
       "│           ┆           ┆           ┆ i32       ┆   ┆           ┆           ┆ i32       ┆ i32      │\n",
       "╞═══════════╪═══════════╪═══════════╪═══════════╪═══╪═══════════╪═══════════╪═══════════╪══════════╡\n",
       "│ 556       ┆ 1         ┆ 1         ┆ 1         ┆ … ┆ 0         ┆ 0         ┆ 0         ┆ 0        │\n",
       "│ 560       ┆ 0         ┆ 0         ┆ 0         ┆ … ┆ 0         ┆ 0         ┆ 0         ┆ 0        │\n",
       "│ 561       ┆ 0         ┆ 0         ┆ 0         ┆ … ┆ 0         ┆ 0         ┆ 0         ┆ 0        │\n",
       "└───────────┴───────────┴───────────┴───────────┴───┴───────────┴───────────┴───────────┴──────────┘"
      ]
     },
     "execution_count": 49,
     "metadata": {},
     "output_type": "execute_result"
    }
   ],
   "source": [
    "medications_pivot_df.head(3)"
   ]
  },
  {
   "cell_type": "code",
   "execution_count": 50,
   "id": "d6875e6c",
   "metadata": {},
   "outputs": [
    {
     "data": {
      "text/html": [
       "<div><style>\n",
       ".dataframe > thead > tr,\n",
       ".dataframe > tbody > tr {\n",
       "  text-align: right;\n",
       "  white-space: pre-wrap;\n",
       "}\n",
       "</style>\n",
       "<small>shape: (1, 1_480)</small><table border=\"1\" class=\"dataframe\"><thead><tr><th>PATIENT_NUM</th><th>phenazopyridine</th><th>nitrofurantoin</th><th>lisinopril_hydrochlorothiazide</th><th>amlodipine</th><th>cephalexin</th><th>albuterol</th><th>nystatin</th><th>metronidazole</th><th>mometasone_formoterol</th><th>varicella-zoster virus vaccine live (Oka-Merck) strain</th><th>potassium chloride</th><th>chlorthalidone</th><th>ketorolac</th><th>azithromycin</th><th>triamcinolone</th><th>gabapentin</th><th>acetaminophen_hydrocodone</th><th>capsaicin</th><th>naproxen</th><th>tramadol</th><th>ibuprofen</th><th>codeine_promethazine</th><th>omeprazole</th><th>clotrimazole</th><th>lorazepam</th><th>fluticasone</th><th>calcium carbonate</th><th>loratadine</th><th>paroxetine</th><th>cholecalciferol</th><th>aluminum chloride</th><th>penicillin G</th><th>sulfamethoxazole_trimethoprim</th><th>ondansetron</th><th>doxylamine_pyridoxine</th><th>folic acid</th><th>&hellip;</th><th>chlorpheniramine_codeine_pseudoephedrine</th><th>nabilone</th><th>zinc acetate</th><th>vitamin B12_ascorbic acid_iron carbonyl_folic acid_docusate</th><th>thioguanine</th><th>carbinoxamine</th><th>ketamine</th><th>rx_cui:1303740</th><th>ammonia</th><th>tyrosine</th><th>sodium phosphate</th><th>rx_cui:1150087</th><th>factor VIII</th><th>ethanol</th><th>fingolimod</th><th>rx_cui:1247404</th><th>icatibant</th><th>rx_cui:1356525</th><th>polysaccharide iron complex_vitamin B12_folic acid_heme iron polypeptide</th><th>rx_cui:856892</th><th>rx_cui:313409</th><th>poliovirus vaccine inactivated, type 1 (Mahoney)_poliovirus vaccine inactivated, type 2 (MEF-1)_poliovirus vaccine inactivated, type 3 (Saukett)_acellular pertussis vaccine, inactivated_diphtheria toxoid vaccine, inactivated_tetanus toxoid vaccine, inactivated</th><th>rx_cui:198725</th><th>rx_cui:1249797</th><th>rx_cui:966545</th><th>dexbrompheniramine_pseudoephedrine</th><th>benzethonium_benzocaine</th><th>rx_cui:237778</th><th>rx_cui:2174531</th><th>rx_cui:204969</th><th>rx_cui:310468</th><th>ganirelix</th><th>follicle stimulating hormone_luteinizing hormone</th><th>aztreonam</th><th>isoniazid_rifampin</th><th>lactate_calcium chloride_glucose_potassium chloride_sodium chloride</th><th>glucose_potassium chloride_sodium chloride</th></tr><tr><td>i64</td><td>i32</td><td>i32</td><td>i32</td><td>i32</td><td>i32</td><td>i32</td><td>i32</td><td>i32</td><td>i32</td><td>i32</td><td>i32</td><td>i32</td><td>i32</td><td>i32</td><td>i32</td><td>i32</td><td>i32</td><td>i32</td><td>i32</td><td>i32</td><td>i32</td><td>i32</td><td>i32</td><td>i32</td><td>i32</td><td>i32</td><td>i32</td><td>i32</td><td>i32</td><td>i32</td><td>i32</td><td>i32</td><td>i32</td><td>i32</td><td>i32</td><td>i32</td><td>&hellip;</td><td>i32</td><td>i32</td><td>i32</td><td>i32</td><td>i32</td><td>i32</td><td>i32</td><td>i32</td><td>i32</td><td>i32</td><td>i32</td><td>i32</td><td>i32</td><td>i32</td><td>i32</td><td>i32</td><td>i32</td><td>i32</td><td>i32</td><td>i32</td><td>i32</td><td>i32</td><td>i32</td><td>i32</td><td>i32</td><td>i32</td><td>i32</td><td>i32</td><td>i32</td><td>i32</td><td>i32</td><td>i32</td><td>i32</td><td>i32</td><td>i32</td><td>i32</td><td>i32</td></tr></thead><tbody><tr><td>1834894773716</td><td>5383</td><td>14316</td><td>9866</td><td>30033</td><td>14666</td><td>63642</td><td>5360</td><td>31716</td><td>1624</td><td>1290</td><td>6620</td><td>2848</td><td>10965</td><td>45614</td><td>28234</td><td>30206</td><td>27326</td><td>3368</td><td>39787</td><td>14472</td><td>80940</td><td>2299</td><td>50710</td><td>15115</td><td>11498</td><td>42976</td><td>3247</td><td>30917</td><td>6745</td><td>29181</td><td>433</td><td>3737</td><td>22273</td><td>15285</td><td>524</td><td>19856</td><td>&hellip;</td><td>1</td><td>1</td><td>1</td><td>2</td><td>1</td><td>1</td><td>2</td><td>1</td><td>1</td><td>1</td><td>1</td><td>1</td><td>1</td><td>1</td><td>1</td><td>1</td><td>1</td><td>1</td><td>1</td><td>1</td><td>1</td><td>1</td><td>1</td><td>1</td><td>1</td><td>1</td><td>1</td><td>1</td><td>1</td><td>1</td><td>1</td><td>1</td><td>1</td><td>1</td><td>1</td><td>1</td><td>1</td></tr></tbody></table></div>"
      ],
      "text/plain": [
       "shape: (1, 1_480)\n",
       "┌───────────┬───────────┬───────────┬───────────┬───┬───────────┬───────────┬───────────┬──────────┐\n",
       "│ PATIENT_N ┆ phenazopy ┆ nitrofura ┆ lisinopri ┆ … ┆ aztreonam ┆ isoniazid ┆ lactate_c ┆ glucose_ │\n",
       "│ UM        ┆ ridine    ┆ ntoin     ┆ l_hydroch ┆   ┆ ---       ┆ _rifampin ┆ alcium    ┆ potassiu │\n",
       "│ ---       ┆ ---       ┆ ---       ┆ lorothiaz ┆   ┆ i32       ┆ ---       ┆ chloride_ ┆ m chlori │\n",
       "│ i64       ┆ i32       ┆ i32       ┆ ide       ┆   ┆           ┆ i32       ┆ gluco…    ┆ de_sod…  │\n",
       "│           ┆           ┆           ┆ ---       ┆   ┆           ┆           ┆ ---       ┆ ---      │\n",
       "│           ┆           ┆           ┆ i32       ┆   ┆           ┆           ┆ i32       ┆ i32      │\n",
       "╞═══════════╪═══════════╪═══════════╪═══════════╪═══╪═══════════╪═══════════╪═══════════╪══════════╡\n",
       "│ 183489477 ┆ 5383      ┆ 14316     ┆ 9866      ┆ … ┆ 1         ┆ 1         ┆ 1         ┆ 1        │\n",
       "│ 3716      ┆           ┆           ┆           ┆   ┆           ┆           ┆           ┆          │\n",
       "└───────────┴───────────┴───────────┴───────────┴───┴───────────┴───────────┴───────────┴──────────┘"
      ]
     },
     "execution_count": 50,
     "metadata": {},
     "output_type": "execute_result"
    }
   ],
   "source": [
    "medications_pivot_df.sum()"
   ]
  },
  {
   "cell_type": "code",
   "execution_count": 51,
   "id": "ba56c76a",
   "metadata": {},
   "outputs": [],
   "source": [
    "threshold  = [10,20,40,60,80,200]\n",
    "patients_association_count  =[]\n",
    "for thr in threshold:\n",
    "    patients_association_count.append(get_association_count(medications_pivot_df, thr,use_func = 'sum'))"
   ]
  },
  {
   "cell_type": "code",
   "execution_count": 52,
   "id": "dabf2354",
   "metadata": {},
   "outputs": [
    {
     "data": {
      "text/plain": [
       "[938, 835, 727, 654, 605, 472]"
      ]
     },
     "execution_count": 52,
     "metadata": {},
     "output_type": "execute_result"
    }
   ],
   "source": [
    "patients_association_count"
   ]
  },
  {
   "cell_type": "code",
   "execution_count": 53,
   "id": "e2249428",
   "metadata": {},
   "outputs": [
    {
     "data": {
      "image/png": "[encoded data removed]",
      "text/plain": [
       "<Figure size 640x480 with 1 Axes>"
      ]
     },
     "metadata": {},
     "output_type": "display_data"
    }
   ],
   "source": [
    "get_patients_association_threshold_bar_plot(threshold,patients_association_count)"
   ]
  },
  {
   "cell_type": "code",
   "execution_count": 54,
   "id": "386fbe9e",
   "metadata": {},
   "outputs": [],
   "source": [
    "### finding columns to ignore\n",
    "selected_threshold =50\n",
    "keep_columns = []\n",
    "for i,j in medications_pivot_df.sum().to_dict(as_series=False).items():\n",
    "        if i!='PATIENT_NUM' and j[0]>selected_threshold:\n",
    "            keep_columns.append(i)"
   ]
  },
  {
   "cell_type": "code",
   "execution_count": 55,
   "id": "05a48a45",
   "metadata": {},
   "outputs": [
    {
     "name": "stdout",
     "output_type": "stream",
     "text": [
      "Number of columns to be kept with threshold 50 patients: 691\n"
     ]
    }
   ],
   "source": [
    "print(\"Number of columns to be kept with threshold {} patients: {}\".format(selected_threshold, len(keep_columns)))"
   ]
  },
  {
   "cell_type": "code",
   "execution_count": 56,
   "id": "7fce01dd",
   "metadata": {},
   "outputs": [],
   "source": [
    "medications_pivot_keep_df = medications_pivot_df.select(['PATIENT_NUM'] + keep_columns)"
   ]
  },
  {
   "cell_type": "code",
   "execution_count": 57,
   "id": "f5c2fd60",
   "metadata": {},
   "outputs": [
    {
     "name": "stdout",
     "output_type": "stream",
     "text": [
      "Number of patients lost after reducing the patients count:  369\n"
     ]
    }
   ],
   "source": [
    "print(\"Number of patients lost after reducing the patients count: \",len(medications_pivot_keep_df.filter(pl.all_horizontal(pl.all().exclude('PATIENT_NUM').eq(0)))))"
   ]
  },
  {
   "cell_type": "code",
   "execution_count": 58,
   "id": "63115a75",
   "metadata": {},
   "outputs": [],
   "source": [
    "medications_pivot_keep_df = medications_pivot_keep_df.filter(~pl.all_horizontal(pl.all().exclude('PATIENT_NUM').eq(0)))"
   ]
  },
  {
   "cell_type": "code",
   "execution_count": 59,
   "id": "5c9b1aed",
   "metadata": {},
   "outputs": [
    {
     "data": {
      "text/plain": [
       "531310"
      ]
     },
     "execution_count": 59,
     "metadata": {},
     "output_type": "execute_result"
    }
   ],
   "source": [
    "len(medications_pivot_keep_df)"
   ]
  },
  {
   "cell_type": "code",
   "execution_count": 60,
   "id": "0834e1a6",
   "metadata": {},
   "outputs": [],
   "source": [
    "medications_pivot_keep_df.write_parquet('./Determine_modeling_datasets/Determine_modeling_medications_thrs_'+str(selected_threshold)+'.parquet')"
   ]
  },
  {
   "cell_type": "markdown",
   "id": "bda6d84c",
   "metadata": {},
   "source": [
    "## Diagnoses"
   ]
  },
  {
   "cell_type": "code",
   "execution_count": 86,
   "id": "df1efee0",
   "metadata": {},
   "outputs": [],
   "source": [
    "diag_pivot_df = pl.read_parquet(modeling_config.folder+modeling_config.diag_path)"
   ]
  },
  {
   "cell_type": "code",
   "execution_count": 87,
   "id": "e2dad739",
   "metadata": {},
   "outputs": [
    {
     "name": "stdout",
     "output_type": "stream",
     "text": [
      "Number of data points:  751830\n"
     ]
    }
   ],
   "source": [
    "print(\"Number of data points: \",len(diag_pivot_df))"
   ]
  },
  {
   "cell_type": "code",
   "execution_count": 88,
   "id": "990f1757",
   "metadata": {},
   "outputs": [
    {
     "data": {
      "text/html": [
       "<div><style>\n",
       ".dataframe > thead > tr,\n",
       ".dataframe > tbody > tr {\n",
       "  text-align: right;\n",
       "  white-space: pre-wrap;\n",
       "}\n",
       "</style>\n",
       "<small>shape: (5, 1_720)</small><table border=\"1\" class=\"dataframe\"><thead><tr><th>PATIENT_NUM</th><th>Z23</th><th>Z13</th><th>Z12</th><th>Z01</th><th>R63</th><th>R30</th><th>N30</th><th>N28</th><th>M19</th><th>L82</th><th>K25</th><th>I10</th><th>E78</th><th>E87</th><th>J45</th><th>Z86</th><th>G89</th><th>J06</th><th>J40</th><th>L30</th><th>M17</th><th>M25</th><th>M51</th><th>M54</th><th>M79</th><th>R03</th><th>R76</th><th>Z72</th><th>H53</th><th>I87</th><th>L25</th><th>R25</th><th>R29</th><th>Z20</th><th>Z00</th><th>B35</th><th>&hellip;</th><th>A99</th><th>V78</th><th>J17</th><th>S08</th><th>V68</th><th>U07</th><th>V40</th><th>N51</th><th>E40</th><th>Y82</th><th>J82</th><th>P39</th><th>G94</th><th>D74</th><th>T64</th><th>E45</th><th>A22</th><th>Y79</th><th>H82</th><th>V25</th><th>P78</th><th>V34</th><th>X93</th><th>X94</th><th>B43</th><th>V61</th><th>V62</th><th>V60</th><th>V69</th><th>V16</th><th>D19</th><th>M49</th><th>Y38</th><th>Y62</th><th>84.</th><th>D78</th><th>A94</th></tr><tr><td>i64</td><td>i32</td><td>i32</td><td>i32</td><td>i32</td><td>i32</td><td>i32</td><td>i32</td><td>i32</td><td>i32</td><td>i32</td><td>i32</td><td>i32</td><td>i32</td><td>i32</td><td>i32</td><td>i32</td><td>i32</td><td>i32</td><td>i32</td><td>i32</td><td>i32</td><td>i32</td><td>i32</td><td>i32</td><td>i32</td><td>i32</td><td>i32</td><td>i32</td><td>i32</td><td>i32</td><td>i32</td><td>i32</td><td>i32</td><td>i32</td><td>i32</td><td>i32</td><td>&hellip;</td><td>i32</td><td>i32</td><td>i32</td><td>i32</td><td>i32</td><td>i32</td><td>i32</td><td>i32</td><td>i32</td><td>i32</td><td>i32</td><td>i32</td><td>i32</td><td>i32</td><td>i32</td><td>i32</td><td>i32</td><td>i32</td><td>i32</td><td>i32</td><td>i32</td><td>i32</td><td>i32</td><td>i32</td><td>i32</td><td>i32</td><td>i32</td><td>i32</td><td>i32</td><td>i32</td><td>i32</td><td>i32</td><td>i32</td><td>i32</td><td>i32</td><td>i32</td><td>i32</td></tr></thead><tbody><tr><td>556</td><td>1</td><td>1</td><td>1</td><td>1</td><td>1</td><td>1</td><td>1</td><td>1</td><td>1</td><td>1</td><td>1</td><td>1</td><td>0</td><td>0</td><td>0</td><td>0</td><td>0</td><td>0</td><td>0</td><td>0</td><td>0</td><td>0</td><td>0</td><td>0</td><td>0</td><td>0</td><td>0</td><td>0</td><td>0</td><td>0</td><td>0</td><td>0</td><td>0</td><td>0</td><td>0</td><td>0</td><td>&hellip;</td><td>0</td><td>0</td><td>0</td><td>0</td><td>0</td><td>0</td><td>0</td><td>0</td><td>0</td><td>0</td><td>0</td><td>0</td><td>0</td><td>0</td><td>0</td><td>0</td><td>0</td><td>0</td><td>0</td><td>0</td><td>0</td><td>0</td><td>0</td><td>0</td><td>0</td><td>0</td><td>0</td><td>0</td><td>0</td><td>0</td><td>0</td><td>0</td><td>0</td><td>0</td><td>0</td><td>0</td><td>0</td></tr><tr><td>560</td><td>1</td><td>1</td><td>1</td><td>0</td><td>0</td><td>0</td><td>0</td><td>0</td><td>0</td><td>0</td><td>0</td><td>0</td><td>1</td><td>0</td><td>0</td><td>0</td><td>0</td><td>0</td><td>0</td><td>0</td><td>0</td><td>0</td><td>0</td><td>0</td><td>0</td><td>0</td><td>0</td><td>0</td><td>0</td><td>0</td><td>0</td><td>0</td><td>0</td><td>0</td><td>0</td><td>0</td><td>&hellip;</td><td>0</td><td>0</td><td>0</td><td>0</td><td>0</td><td>0</td><td>0</td><td>0</td><td>0</td><td>0</td><td>0</td><td>0</td><td>0</td><td>0</td><td>0</td><td>0</td><td>0</td><td>0</td><td>0</td><td>0</td><td>0</td><td>0</td><td>0</td><td>0</td><td>0</td><td>0</td><td>0</td><td>0</td><td>0</td><td>0</td><td>0</td><td>0</td><td>0</td><td>0</td><td>0</td><td>0</td><td>0</td></tr><tr><td>562</td><td>1</td><td>0</td><td>1</td><td>0</td><td>0</td><td>0</td><td>0</td><td>0</td><td>0</td><td>0</td><td>0</td><td>1</td><td>0</td><td>1</td><td>1</td><td>1</td><td>0</td><td>0</td><td>0</td><td>0</td><td>0</td><td>0</td><td>0</td><td>0</td><td>0</td><td>0</td><td>0</td><td>0</td><td>0</td><td>0</td><td>0</td><td>0</td><td>0</td><td>0</td><td>0</td><td>0</td><td>&hellip;</td><td>0</td><td>0</td><td>0</td><td>0</td><td>0</td><td>0</td><td>0</td><td>0</td><td>0</td><td>0</td><td>0</td><td>0</td><td>0</td><td>0</td><td>0</td><td>0</td><td>0</td><td>0</td><td>0</td><td>0</td><td>0</td><td>0</td><td>0</td><td>0</td><td>0</td><td>0</td><td>0</td><td>0</td><td>0</td><td>0</td><td>0</td><td>0</td><td>0</td><td>0</td><td>0</td><td>0</td><td>0</td></tr><tr><td>564</td><td>1</td><td>0</td><td>1</td><td>0</td><td>0</td><td>0</td><td>0</td><td>0</td><td>0</td><td>0</td><td>0</td><td>0</td><td>0</td><td>0</td><td>1</td><td>0</td><td>1</td><td>1</td><td>1</td><td>1</td><td>1</td><td>1</td><td>1</td><td>1</td><td>1</td><td>1</td><td>1</td><td>1</td><td>1</td><td>1</td><td>1</td><td>1</td><td>1</td><td>1</td><td>1</td><td>0</td><td>&hellip;</td><td>0</td><td>0</td><td>0</td><td>0</td><td>0</td><td>0</td><td>0</td><td>0</td><td>0</td><td>0</td><td>0</td><td>0</td><td>0</td><td>0</td><td>0</td><td>0</td><td>0</td><td>0</td><td>0</td><td>0</td><td>0</td><td>0</td><td>0</td><td>0</td><td>0</td><td>0</td><td>0</td><td>0</td><td>0</td><td>0</td><td>0</td><td>0</td><td>0</td><td>0</td><td>0</td><td>0</td><td>0</td></tr><tr><td>574</td><td>0</td><td>0</td><td>0</td><td>1</td><td>0</td><td>0</td><td>0</td><td>0</td><td>0</td><td>0</td><td>0</td><td>0</td><td>0</td><td>0</td><td>0</td><td>1</td><td>0</td><td>0</td><td>0</td><td>0</td><td>0</td><td>0</td><td>0</td><td>1</td><td>1</td><td>0</td><td>0</td><td>0</td><td>0</td><td>0</td><td>0</td><td>0</td><td>0</td><td>0</td><td>1</td><td>1</td><td>&hellip;</td><td>0</td><td>0</td><td>0</td><td>0</td><td>0</td><td>0</td><td>0</td><td>0</td><td>0</td><td>0</td><td>0</td><td>0</td><td>0</td><td>0</td><td>0</td><td>0</td><td>0</td><td>0</td><td>0</td><td>0</td><td>0</td><td>0</td><td>0</td><td>0</td><td>0</td><td>0</td><td>0</td><td>0</td><td>0</td><td>0</td><td>0</td><td>0</td><td>0</td><td>0</td><td>0</td><td>0</td><td>0</td></tr></tbody></table></div>"
      ],
      "text/plain": [
       "shape: (5, 1_720)\n",
       "┌─────────────┬─────┬─────┬─────┬───┬─────┬─────┬─────┬─────┐\n",
       "│ PATIENT_NUM ┆ Z23 ┆ Z13 ┆ Z12 ┆ … ┆ Y62 ┆ 84. ┆ D78 ┆ A94 │\n",
       "│ ---         ┆ --- ┆ --- ┆ --- ┆   ┆ --- ┆ --- ┆ --- ┆ --- │\n",
       "│ i64         ┆ i32 ┆ i32 ┆ i32 ┆   ┆ i32 ┆ i32 ┆ i32 ┆ i32 │\n",
       "╞═════════════╪═════╪═════╪═════╪═══╪═════╪═════╪═════╪═════╡\n",
       "│ 556         ┆ 1   ┆ 1   ┆ 1   ┆ … ┆ 0   ┆ 0   ┆ 0   ┆ 0   │\n",
       "│ 560         ┆ 1   ┆ 1   ┆ 1   ┆ … ┆ 0   ┆ 0   ┆ 0   ┆ 0   │\n",
       "│ 562         ┆ 1   ┆ 0   ┆ 1   ┆ … ┆ 0   ┆ 0   ┆ 0   ┆ 0   │\n",
       "│ 564         ┆ 1   ┆ 0   ┆ 1   ┆ … ┆ 0   ┆ 0   ┆ 0   ┆ 0   │\n",
       "│ 574         ┆ 0   ┆ 0   ┆ 0   ┆ … ┆ 0   ┆ 0   ┆ 0   ┆ 0   │\n",
       "└─────────────┴─────┴─────┴─────┴───┴─────┴─────┴─────┴─────┘"
      ]
     },
     "execution_count": 88,
     "metadata": {},
     "output_type": "execute_result"
    }
   ],
   "source": [
    "diag_pivot_df.head()"
   ]
  },
  {
   "cell_type": "code",
   "execution_count": 89,
   "id": "a6b9aaa3",
   "metadata": {},
   "outputs": [],
   "source": [
    "threshold  = [10,20,40,60,80,200]\n",
    "patients_association_count  =[]\n",
    "for thr in threshold:\n",
    "    patients_association_count.append(get_association_count(diag_pivot_df, thr,use_func = 'sum'))"
   ]
  },
  {
   "cell_type": "code",
   "execution_count": 90,
   "id": "01d45fe6",
   "metadata": {},
   "outputs": [
    {
     "data": {
      "image/png": "[encoded data removed]",
      "text/plain": [
       "<Figure size 640x480 with 1 Axes>"
      ]
     },
     "metadata": {},
     "output_type": "display_data"
    }
   ],
   "source": [
    "get_patients_association_threshold_bar_plot(threshold,patients_association_count)"
   ]
  },
  {
   "cell_type": "code",
   "execution_count": 91,
   "id": "780fce37",
   "metadata": {},
   "outputs": [],
   "source": [
    "### finding columns to ignore\n",
    "selected_threshold =50\n",
    "keep_columns = []\n",
    "for i,j in diag_pivot_df.sum().to_dict(as_series=False).items():\n",
    "        if i!='PATIENT_NUM' and j[0]>selected_threshold:\n",
    "            keep_columns.append(i)"
   ]
  },
  {
   "cell_type": "code",
   "execution_count": 92,
   "id": "06884562",
   "metadata": {},
   "outputs": [
    {
     "name": "stdout",
     "output_type": "stream",
     "text": [
      "Number of columns to be kept with threshold 50 patients: 1119\n"
     ]
    }
   ],
   "source": [
    "print(\"Number of columns to be kept with threshold {} patients: {}\".format(selected_threshold, len(keep_columns)))"
   ]
  },
  {
   "cell_type": "code",
   "execution_count": 93,
   "id": "890833ce",
   "metadata": {},
   "outputs": [],
   "source": [
    "diag_pivot_keep_df = diag_pivot_df.select(['PATIENT_NUM'] + keep_columns)"
   ]
  },
  {
   "cell_type": "code",
   "execution_count": 94,
   "id": "e4c33b49",
   "metadata": {},
   "outputs": [
    {
     "name": "stdout",
     "output_type": "stream",
     "text": [
      "Number of patients lost after reducing the patients count:  153\n"
     ]
    }
   ],
   "source": [
    "print(\"Number of patients lost after reducing the patients count: \",len(diag_pivot_keep_df.filter(pl.all_horizontal(pl.all().exclude('PATIENT_NUM').eq(0)))))"
   ]
  },
  {
   "cell_type": "code",
   "execution_count": 95,
   "id": "bd9cb896",
   "metadata": {},
   "outputs": [],
   "source": [
    "diag_pivot_keep_df = diag_pivot_keep_df.filter(~pl.all_horizontal(pl.all().exclude('PATIENT_NUM').eq(0)))"
   ]
  },
  {
   "cell_type": "code",
   "execution_count": 96,
   "id": "83dc8172",
   "metadata": {},
   "outputs": [],
   "source": [
    "if 'phemap' in modeling_config.diag_path:\n",
    "    prefix = 'phemap'\n",
    "else:\n",
    "    prefix = 'initial_3_chars'\n",
    "\n",
    "if 'without' in modeling_config.diag_path:\n",
    "    diag_pivot_keep_df.write_parquet(f'./Determine_modeling_datasets/Determine_modeling_diagnoses_{prefix}_thrs_'+str(selected_threshold)+'_without_icd10z'+'.parquet')\n",
    "else:\n",
    "    diag_pivot_keep_df.write_parquet(f'./Determine_modeling_datasets/Determine_modeling_diagnoses_{prefix}_thrs_'+str(selected_threshold)+'_with_icd10z'+'.parquet')"
   ]
  },
  {
   "cell_type": "markdown",
   "id": "c1365ec2",
   "metadata": {},
   "source": [
    "## Target"
   ]
  },
  {
   "cell_type": "code",
   "execution_count": 97,
   "id": "501f72dc",
   "metadata": {},
   "outputs": [],
   "source": [
    "label_df =pl.read_parquet(modeling_config.target_path)"
   ]
  },
  {
   "cell_type": "code",
   "execution_count": 98,
   "id": "26931ae8",
   "metadata": {},
   "outputs": [
    {
     "data": {
      "text/html": [
       "<div><style>\n",
       ".dataframe > thead > tr,\n",
       ".dataframe > tbody > tr {\n",
       "  text-align: right;\n",
       "  white-space: pre-wrap;\n",
       "}\n",
       "</style>\n",
       "<small>shape: (5, 7)</small><table border=\"1\" class=\"dataframe\"><thead><tr><th>PATIENT_NUM</th><th>Index_Start_date</th><th>FirstOutcomeDate</th><th>Age_at_encounter_date</th><th>Outcome</th><th>DEATH_DATE</th><th>Zip_CD</th></tr><tr><td>i64</td><td>datetime[μs]</td><td>datetime[μs]</td><td>i64</td><td>i64</td><td>datetime[μs]</td><td>str</td></tr></thead><tbody><tr><td>8202921</td><td>2017-03-15 00:00:00</td><td>2019-05-29 00:00:00</td><td>60</td><td>1</td><td>null</td><td>&quot;83706&quot;</td></tr><tr><td>6046573</td><td>2017-03-27 00:00:00</td><td>null</td><td>45</td><td>0</td><td>null</td><td>&quot;97136&quot;</td></tr><tr><td>2179286</td><td>2016-12-13 00:00:00</td><td>null</td><td>34</td><td>0</td><td>null</td><td>&quot;77530&quot;</td></tr><tr><td>6861988</td><td>2016-09-16 00:00:00</td><td>null</td><td>33</td><td>0</td><td>null</td><td>&quot;90035&quot;</td></tr><tr><td>7452088</td><td>2017-02-02 00:00:00</td><td>null</td><td>43</td><td>0</td><td>null</td><td>&quot;75217&quot;</td></tr></tbody></table></div>"
      ],
      "text/plain": [
       "shape: (5, 7)\n",
       "┌─────────────┬────────────────┬────────────────┬────────────────┬─────────┬──────────────┬────────┐\n",
       "│ PATIENT_NUM ┆ Index_Start_da ┆ FirstOutcomeDa ┆ Age_at_encount ┆ Outcome ┆ DEATH_DATE   ┆ Zip_CD │\n",
       "│ ---         ┆ te             ┆ te             ┆ er_date        ┆ ---     ┆ ---          ┆ ---    │\n",
       "│ i64         ┆ ---            ┆ ---            ┆ ---            ┆ i64     ┆ datetime[μs] ┆ str    │\n",
       "│             ┆ datetime[μs]   ┆ datetime[μs]   ┆ i64            ┆         ┆              ┆        │\n",
       "╞═════════════╪════════════════╪════════════════╪════════════════╪═════════╪══════════════╪════════╡\n",
       "│ 8202921     ┆ 2017-03-15     ┆ 2019-05-29     ┆ 60             ┆ 1       ┆ null         ┆ 83706  │\n",
       "│             ┆ 00:00:00       ┆ 00:00:00       ┆                ┆         ┆              ┆        │\n",
       "│ 6046573     ┆ 2017-03-27     ┆ null           ┆ 45             ┆ 0       ┆ null         ┆ 97136  │\n",
       "│             ┆ 00:00:00       ┆                ┆                ┆         ┆              ┆        │\n",
       "│ 2179286     ┆ 2016-12-13     ┆ null           ┆ 34             ┆ 0       ┆ null         ┆ 77530  │\n",
       "│             ┆ 00:00:00       ┆                ┆                ┆         ┆              ┆        │\n",
       "│ 6861988     ┆ 2016-09-16     ┆ null           ┆ 33             ┆ 0       ┆ null         ┆ 90035  │\n",
       "│             ┆ 00:00:00       ┆                ┆                ┆         ┆              ┆        │\n",
       "│ 7452088     ┆ 2017-02-02     ┆ null           ┆ 43             ┆ 0       ┆ null         ┆ 75217  │\n",
       "│             ┆ 00:00:00       ┆                ┆                ┆         ┆              ┆        │\n",
       "└─────────────┴────────────────┴────────────────┴────────────────┴─────────┴──────────────┴────────┘"
      ]
     },
     "execution_count": 98,
     "metadata": {},
     "output_type": "execute_result"
    }
   ],
   "source": [
    "label_df.head()"
   ]
  },
  {
   "cell_type": "code",
   "execution_count": 99,
   "id": "b57083d5",
   "metadata": {},
   "outputs": [
    {
     "data": {
      "text/plain": [
       "(array([0, 1]), array([1004264,   60204]))"
      ]
     },
     "execution_count": 99,
     "metadata": {},
     "output_type": "execute_result"
    }
   ],
   "source": [
    "np.unique(label_df['Outcome'].to_list(), return_counts = True)"
   ]
  },
  {
   "cell_type": "code",
   "execution_count": 100,
   "id": "95556a1c",
   "metadata": {},
   "outputs": [
    {
     "name": "stderr",
     "output_type": "stream",
     "text": [
      "sys:1: MapWithoutReturnDtypeWarning: Calling `map_elements` without specifying `return_dtype` can lead to unpredictable results. Specify `return_dtype` to silence this warning.\n",
      "sys:1: MapWithoutReturnDtypeWarning: Calling `map_elements` without specifying `return_dtype` can lead to unpredictable results. Specify `return_dtype` to silence this warning.\n",
      "sys:1: MapWithoutReturnDtypeWarning: Calling `map_elements` without specifying `return_dtype` can lead to unpredictable results. Specify `return_dtype` to silence this warning.\n",
      "sys:1: MapWithoutReturnDtypeWarning: Calling `map_elements` without specifying `return_dtype` can lead to unpredictable results. Specify `return_dtype` to silence this warning.\n"
     ]
    },
    {
     "data": {
      "text/html": [
       "<div><style>\n",
       ".dataframe > thead > tr,\n",
       ".dataframe > tbody > tr {\n",
       "  text-align: right;\n",
       "  white-space: pre-wrap;\n",
       "}\n",
       "</style>\n",
       "<small>shape: (5, 8)</small><table border=\"1\" class=\"dataframe\"><thead><tr><th>PATIENT_NUM</th><th>Index_Start_date</th><th>FirstOutcomeDate</th><th>Age_at_encounter_date</th><th>Outcome</th><th>DEATH_DATE</th><th>Zip_CD</th><th>Age_group</th></tr><tr><td>i64</td><td>datetime[μs]</td><td>datetime[μs]</td><td>i64</td><td>i64</td><td>datetime[μs]</td><td>str</td><td>str</td></tr></thead><tbody><tr><td>8202921</td><td>2017-03-15 00:00:00</td><td>2019-05-29 00:00:00</td><td>60</td><td>1</td><td>null</td><td>&quot;83706&quot;</td><td>&quot;55-64&quot;</td></tr><tr><td>6046573</td><td>2017-03-27 00:00:00</td><td>null</td><td>45</td><td>0</td><td>null</td><td>&quot;97136&quot;</td><td>&quot;45-54&quot;</td></tr><tr><td>2179286</td><td>2016-12-13 00:00:00</td><td>null</td><td>34</td><td>0</td><td>null</td><td>&quot;77530&quot;</td><td>&quot;18-34&quot;</td></tr><tr><td>6861988</td><td>2016-09-16 00:00:00</td><td>null</td><td>33</td><td>0</td><td>null</td><td>&quot;90035&quot;</td><td>&quot;18-34&quot;</td></tr><tr><td>7452088</td><td>2017-02-02 00:00:00</td><td>null</td><td>43</td><td>0</td><td>null</td><td>&quot;75217&quot;</td><td>&quot;35-44&quot;</td></tr></tbody></table></div>"
      ],
      "text/plain": [
       "shape: (5, 8)\n",
       "┌─────────────┬─────────────┬─────────────┬────────────┬─────────┬────────────┬────────┬───────────┐\n",
       "│ PATIENT_NUM ┆ Index_Start ┆ FirstOutcom ┆ Age_at_enc ┆ Outcome ┆ DEATH_DATE ┆ Zip_CD ┆ Age_group │\n",
       "│ ---         ┆ _date       ┆ eDate       ┆ ounter_dat ┆ ---     ┆ ---        ┆ ---    ┆ ---       │\n",
       "│ i64         ┆ ---         ┆ ---         ┆ e          ┆ i64     ┆ datetime[μ ┆ str    ┆ str       │\n",
       "│             ┆ datetime[μs ┆ datetime[μs ┆ ---        ┆         ┆ s]         ┆        ┆           │\n",
       "│             ┆ ]           ┆ ]           ┆ i64        ┆         ┆            ┆        ┆           │\n",
       "╞═════════════╪═════════════╪═════════════╪════════════╪═════════╪════════════╪════════╪═══════════╡\n",
       "│ 8202921     ┆ 2017-03-15  ┆ 2019-05-29  ┆ 60         ┆ 1       ┆ null       ┆ 83706  ┆ 55-64     │\n",
       "│             ┆ 00:00:00    ┆ 00:00:00    ┆            ┆         ┆            ┆        ┆           │\n",
       "│ 6046573     ┆ 2017-03-27  ┆ null        ┆ 45         ┆ 0       ┆ null       ┆ 97136  ┆ 45-54     │\n",
       "│             ┆ 00:00:00    ┆             ┆            ┆         ┆            ┆        ┆           │\n",
       "│ 2179286     ┆ 2016-12-13  ┆ null        ┆ 34         ┆ 0       ┆ null       ┆ 77530  ┆ 18-34     │\n",
       "│             ┆ 00:00:00    ┆             ┆            ┆         ┆            ┆        ┆           │\n",
       "│ 6861988     ┆ 2016-09-16  ┆ null        ┆ 33         ┆ 0       ┆ null       ┆ 90035  ┆ 18-34     │\n",
       "│             ┆ 00:00:00    ┆             ┆            ┆         ┆            ┆        ┆           │\n",
       "│ 7452088     ┆ 2017-02-02  ┆ null        ┆ 43         ┆ 0       ┆ null       ┆ 75217  ┆ 35-44     │\n",
       "│             ┆ 00:00:00    ┆             ┆            ┆         ┆            ┆        ┆           │\n",
       "└─────────────┴─────────────┴─────────────┴────────────┴─────────┴────────────┴────────┴───────────┘"
      ]
     },
     "execution_count": 100,
     "metadata": {},
     "output_type": "execute_result"
    }
   ],
   "source": [
    "label_df = label_df.with_columns(pl.col('Age_at_encounter_date').map_elements(lambda x : '18-34' if x <= 34 \\\n",
    "                                                        else '35-44' if 35<=x<=44 else '45-54'\\\n",
    "                                                        if 45<=x<=54 else '55-64' if 55<=x<=64 else \\\n",
    "                                                        '65-74' if  65<=x<=74 else '75_older').alias('Age_group'))\n",
    "label_df.head()"
   ]
  },
  {
   "cell_type": "code",
   "execution_count": 101,
   "id": "be9d439c",
   "metadata": {},
   "outputs": [],
   "source": [
    "label_df.select(['PATIENT_NUM','Age_group','FirstOutcomeDate','Outcome']).write_parquet('./Determine_modeling_datasets/Determine_modeling_age_group_outcome_data.parquet')"
   ]
  },
  {
   "cell_type": "markdown",
   "id": "105660bb",
   "metadata": {},
   "source": [
    "## Demographics"
   ]
  },
  {
   "cell_type": "code",
   "execution_count": 103,
   "id": "aaa4d4e8",
   "metadata": {},
   "outputs": [],
   "source": [
    "demo_df = pl.read_parquet('./Determine_cohort_files/'+modeling_config.demo_path)"
   ]
  },
  {
   "cell_type": "code",
   "execution_count": 104,
   "id": "a7fc8a6b",
   "metadata": {},
   "outputs": [
    {
     "data": {
      "text/html": [
       "<div><style>\n",
       ".dataframe > thead > tr,\n",
       ".dataframe > tbody > tr {\n",
       "  text-align: right;\n",
       "  white-space: pre-wrap;\n",
       "}\n",
       "</style>\n",
       "<small>shape: (5, 5)</small><table border=\"1\" class=\"dataframe\"><thead><tr><th>Patient_num</th><th>Sex_CD</th><th>Race_CD</th><th>Hispanic_CD</th><th>Gender_CD</th></tr><tr><td>i64</td><td>str</td><td>str</td><td>str</td><td>str</td></tr></thead><tbody><tr><td>114343</td><td>&quot;M&quot;</td><td>&quot;05&quot;</td><td>&quot;N&quot;</td><td>&quot;M&quot;</td></tr><tr><td>114406</td><td>&quot;F&quot;</td><td>&quot;UN&quot;</td><td>&quot;Y&quot;</td><td>&quot;W&quot;</td></tr><tr><td>114410</td><td>&quot;F&quot;</td><td>&quot;05&quot;</td><td>&quot;N&quot;</td><td>&quot;W&quot;</td></tr><tr><td>114413</td><td>&quot;M&quot;</td><td>&quot;05&quot;</td><td>&quot;Y&quot;</td><td>&quot;UN&quot;</td></tr><tr><td>114440</td><td>&quot;M&quot;</td><td>&quot;05&quot;</td><td>&quot;N&quot;</td><td>&quot;UN&quot;</td></tr></tbody></table></div>"
      ],
      "text/plain": [
       "shape: (5, 5)\n",
       "┌─────────────┬────────┬─────────┬─────────────┬───────────┐\n",
       "│ Patient_num ┆ Sex_CD ┆ Race_CD ┆ Hispanic_CD ┆ Gender_CD │\n",
       "│ ---         ┆ ---    ┆ ---     ┆ ---         ┆ ---       │\n",
       "│ i64         ┆ str    ┆ str     ┆ str         ┆ str       │\n",
       "╞═════════════╪════════╪═════════╪═════════════╪═══════════╡\n",
       "│ 114343      ┆ M      ┆ 05      ┆ N           ┆ M         │\n",
       "│ 114406      ┆ F      ┆ UN      ┆ Y           ┆ W         │\n",
       "│ 114410      ┆ F      ┆ 05      ┆ N           ┆ W         │\n",
       "│ 114413      ┆ M      ┆ 05      ┆ Y           ┆ UN        │\n",
       "│ 114440      ┆ M      ┆ 05      ┆ N           ┆ UN        │\n",
       "└─────────────┴────────┴─────────┴─────────────┴───────────┘"
      ]
     },
     "execution_count": 104,
     "metadata": {},
     "output_type": "execute_result"
    }
   ],
   "source": [
    "demo_df.head()"
   ]
  },
  {
   "cell_type": "code",
   "execution_count": 105,
   "id": "961f559d",
   "metadata": {},
   "outputs": [
    {
     "data": {
      "text/plain": [
       "array(['GQ', 'M', 'OT', 'TG', 'UN', 'W'], dtype='<U2')"
      ]
     },
     "execution_count": 105,
     "metadata": {},
     "output_type": "execute_result"
    }
   ],
   "source": [
    "np.unique(demo_df['Gender_CD'].to_list())"
   ]
  },
  {
   "cell_type": "code",
   "execution_count": 106,
   "id": "2f82d03b",
   "metadata": {},
   "outputs": [],
   "source": [
    "demo_df.write_parquet(\"./Determine_modeling_datasets/Determine_modeling_demographics_data.parquet\")"
   ]
  },
  {
   "cell_type": "code",
   "execution_count": null,
   "id": "62df58e3",
   "metadata": {},
   "outputs": [],
   "source": []
  }
 ],
 "metadata": {
  "kernelspec": {
   "display_name": "conda_python3",
   "language": "python",
   "name": "conda_python3"
  },
  "language_info": {
   "codemirror_mode": {
    "name": "ipython",
    "version": 3
   },
   "file_extension": ".py",
   "mimetype": "text/x-python",
   "name": "python",
   "nbconvert_exporter": "python",
   "pygments_lexer": "ipython3",
   "version": "3.10.16"
  }
 },
 "nbformat": 4,
 "nbformat_minor": 5
}
