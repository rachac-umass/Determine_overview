{
 "cells": [
  {
   "cell_type": "markdown",
   "id": "79753383",
   "metadata": {},
   "source": [
    "# Installing Libraries"
   ]
  },
  {
   "cell_type": "code",
   "execution_count": 1,
   "id": "434d3a5a",
   "metadata": {
    "scrolled": true
   },
   "outputs": [
    {
     "name": "stderr",
     "output_type": "stream",
     "text": [
      "  % Total    % Received % Xferd  Average Speed   Time    Time     Time  Current\n",
      "                                 Dload  Upload   Total   Spent    Left  Speed\n",
      "100   413  100   413    0     0   7750      0 --:--:-- --:--:-- --:--:--     0   0 --:--:-- --:--:-- --:--:--  7792\n"
     ]
    },
    {
     "name": "stdout",
     "output_type": "stream",
     "text": [
      "Loaded plugins: dkms-build-requires, extras_suggestions, kernel-livepatch,\n",
      "              : langpacks, priorities, update-motd, versionlock\n"
     ]
    },
    {
     "name": "stderr",
     "output_type": "stream",
     "text": [
      "No Match for argument: unixODBC-utf16\n",
      "No Match for argument: unixODBC-utf16-devel\n"
     ]
    },
    {
     "name": "stdout",
     "output_type": "stream",
     "text": [
      "No Packages marked for removal\n",
      "Loaded plugins: dkms-build-requires, extras_suggestions, kernel-livepatch,\n",
      "              : langpacks, priorities, update-motd, versionlock\n"
     ]
    },
    {
     "name": "stderr",
     "output_type": "stream",
     "text": [
      "https://download.docker.com/linux/centos/2/x86_64/stable/repodata/repomd.xml: [Errno 14] HTTPS Error 404 - Not Found\n",
      "Trying other mirror.\n"
     ]
    },
    {
     "name": "stdout",
     "output_type": "stream",
     "text": [
      "Retrieving key from https://packages.microsoft.com/keys/microsoft.asc\n"
     ]
    },
    {
     "name": "stderr",
     "output_type": "stream",
     "text": [
      "Importing GPG key 0xBE1229CF:\n",
      " Userid     : \"Microsoft (Release signing) <gpgsecurity@microsoft.com>\"\n",
      " Fingerprint: bc52 8686 b50d 79e3 39d3 721c eb3e 94ad be12 29cf\n",
      " From       : https://packages.microsoft.com/keys/microsoft.asc\n"
     ]
    },
    {
     "name": "stdout",
     "output_type": "stream",
     "text": [
      "67 packages excluded due to repository priority protections\n",
      "Resolving Dependencies\n",
      "--> Running transaction check\n",
      "---> Package msodbcsql17.x86_64 0:17.10.6.1-1 will be installed\n",
      "--> Processing Dependency: unixODBC >= 2.3.1 for package: msodbcsql17-17.10.6.1-1.x86_64\n",
      "--> Running transaction check\n",
      "---> Package unixODBC.x86_64 0:2.3.1-15.amzn2 will be installed\n",
      "--> Finished Dependency Resolution\n",
      "\n",
      "Dependencies Resolved\n",
      "\n",
      "================================================================================\n",
      " Package       Arch     Version             Repository                     Size\n",
      "================================================================================\n",
      "Installing:\n",
      " msodbcsql17   x86_64   17.10.6.1-1         packages-microsoft-com-prod   911 k\n",
      "Installing for dependencies:\n",
      " unixODBC      x86_64   2.3.1-15.amzn2      amzn2-core                    413 k\n",
      "\n",
      "Transaction Summary\n",
      "================================================================================\n",
      "Install  1 Package (+1 Dependent package)\n",
      "\n",
      "Total download size: 1.3 M\n",
      "Installed size: 3.4 M\n",
      "Downloading packages:\n"
     ]
    },
    {
     "name": "stderr",
     "output_type": "stream",
     "text": [
      "warning: /var/cache/yum/x86_64/2/packages-microsoft-com-prod/packages/msodbcsql17-17.10.6.1-1.x86_64.rpm: Header V4 RSA/SHA256 Signature, key ID be1229cf: NOKEY\n"
     ]
    },
    {
     "name": "stdout",
     "output_type": "stream",
     "text": [
      "Public key for msodbcsql17-17.10.6.1-1.x86_64.rpm is not installed\n",
      "--------------------------------------------------------------------------------\n",
      "Total                                              6.9 MB/s | 1.3 MB  00:00     \n",
      "Retrieving key from https://packages.microsoft.com/keys/microsoft.asc\n"
     ]
    },
    {
     "name": "stderr",
     "output_type": "stream",
     "text": [
      "Importing GPG key 0xBE1229CF:\n",
      " Userid     : \"Microsoft (Release signing) <gpgsecurity@microsoft.com>\"\n",
      " Fingerprint: bc52 8686 b50d 79e3 39d3 721c eb3e 94ad be12 29cf\n",
      " From       : https://packages.microsoft.com/keys/microsoft.asc\n"
     ]
    },
    {
     "name": "stdout",
     "output_type": "stream",
     "text": [
      "Running transaction check\n",
      "Running transaction test\n",
      "Transaction test succeeded\n",
      "Running transaction\n",
      "  Installing : unixODBC-2.3.1-15.amzn2.x86_64                               1/2 \n",
      "  Installing : msodbcsql17-17.10.6.1-1.x86_64                               2/2 \n",
      "odbcinst: Driver installed. Usage count increased to 1. \n",
      "    Target directory is /etc\n",
      "  Verifying  : msodbcsql17-17.10.6.1-1.x86_64                               1/2 \n",
      "  Verifying  : unixODBC-2.3.1-15.amzn2.x86_64                               2/2 \n",
      "\n",
      "Installed:\n",
      "  msodbcsql17.x86_64 0:17.10.6.1-1                                              \n",
      "\n",
      "Dependency Installed:\n",
      "  unixODBC.x86_64 0:2.3.1-15.amzn2                                              \n",
      "\n",
      "Complete!\n",
      "Loaded plugins: dkms-build-requires, extras_suggestions, kernel-livepatch,\n",
      "              : langpacks, priorities, update-motd, versionlock\n"
     ]
    },
    {
     "name": "stderr",
     "output_type": "stream",
     "text": [
      "https://download.docker.com/linux/centos/2/x86_64/stable/repodata/repomd.xml: [Errno 14] HTTPS Error 404 - Not Found\n",
      "Trying other mirror.\n"
     ]
    },
    {
     "name": "stdout",
     "output_type": "stream",
     "text": [
      "67 packages excluded due to repository priority protections\n",
      "Resolving Dependencies\n",
      "--> Running transaction check\n",
      "---> Package mssql-tools.x86_64 0:17.10.1.1-1 will be installed\n",
      "--> Finished Dependency Resolution\n",
      "\n",
      "Dependencies Resolved\n",
      "\n",
      "================================================================================\n",
      " Package        Arch      Version          Repository                      Size\n",
      "================================================================================\n",
      "Installing:\n",
      " mssql-tools    x86_64    17.10.1.1-1      packages-microsoft-com-prod    291 k\n",
      "\n",
      "Transaction Summary\n",
      "================================================================================\n",
      "Install  1 Package\n",
      "\n",
      "Total download size: 291 k\n",
      "Installed size: 714 k\n",
      "Downloading packages:\n",
      "Running transaction check\n",
      "Running transaction test\n",
      "Transaction test succeeded\n",
      "Running transaction\n",
      "  Installing : mssql-tools-17.10.1.1-1.x86_64                               1/1 \n",
      "  Verifying  : mssql-tools-17.10.1.1-1.x86_64                               1/1 \n",
      "\n",
      "Installed:\n",
      "  mssql-tools.x86_64 0:17.10.1.1-1                                              \n",
      "\n",
      "Complete!\n",
      "Loaded plugins: dkms-build-requires, extras_suggestions, kernel-livepatch,\n",
      "              : langpacks, priorities, update-motd, versionlock\n"
     ]
    },
    {
     "name": "stderr",
     "output_type": "stream",
     "text": [
      "https://download.docker.com/linux/centos/2/x86_64/stable/repodata/repomd.xml: [Errno 14] HTTPS Error 404 - Not Found\n",
      "Trying other mirror.\n"
     ]
    },
    {
     "name": "stdout",
     "output_type": "stream",
     "text": [
      "67 packages excluded due to repository priority protections\n",
      "Resolving Dependencies\n",
      "--> Running transaction check\n",
      "---> Package unixODBC-devel.x86_64 0:2.3.1-15.amzn2 will be installed\n",
      "--> Finished Dependency Resolution\n",
      "\n",
      "Dependencies Resolved\n",
      "\n",
      "================================================================================\n",
      " Package              Arch         Version               Repository        Size\n",
      "================================================================================\n",
      "Installing:\n",
      " unixODBC-devel       x86_64       2.3.1-15.amzn2        amzn2-core        55 k\n",
      "\n",
      "Transaction Summary\n",
      "================================================================================\n",
      "Install  1 Package\n",
      "\n",
      "Total download size: 55 k\n",
      "Installed size: 186 k\n",
      "Downloading packages:\n",
      "Running transaction check\n",
      "Running transaction test\n",
      "Transaction test succeeded\n",
      "Running transaction\n",
      "  Installing : unixODBC-devel-2.3.1-15.amzn2.x86_64                         1/1 \n",
      "  Verifying  : unixODBC-devel-2.3.1-15.amzn2.x86_64                         1/1 \n",
      "\n",
      "Installed:\n",
      "  unixODBC-devel.x86_64 0:2.3.1-15.amzn2                                        \n",
      "\n",
      "Complete!\n"
     ]
    }
   ],
   "source": [
    "%%sh\n",
    "\n",
    "sudo su \n",
    "\n",
    "#Download appropriate package for the OS version\n",
    "#Choose only ONE of the following, corresponding to your OS version\n",
    "\n",
    "#RHEL 7 and Oracle Linux 7\n",
    "curl https://packages.microsoft.com/config/rhel/7/prod.repo > /etc/yum.repos.d/mssql-release.repo\n",
    "\n",
    "#RHEL 8 and Oracle Linux 8\n",
    "#curl https://packages.microsoft.com/config/rhel/8/prod.repo > /etc/yum.repos.d/mssql-release.repo\n",
    "\n",
    "#RHEL 9\n",
    "#curl https://packages.microsoft.com/config/rhel/9.0/prod.repo > /etc/yum.repos.d/mssql-release.repo\n",
    "\n",
    "exit\n",
    "\n",
    "sudo yum remove unixODBC-utf16 unixODBC-utf16-devel #to avoid conflicts\n",
    "sudo ACCEPT_EULA=Y yum install -y msodbcsql17\n",
    "# optional: for bcp and sqlcmd\n",
    "sudo ACCEPT_EULA=Y yum install -y mssql-tools\n",
    "echo 'export PATH=\"$PATH:/opt/mssql-tools/bin\"' >> ~/.bashrc\n",
    "source ~/.bashrc\n",
    "# optional: for unixODBC development headers\n",
    "sudo yum install -y unixODBC-devel"
   ]
  },
  {
   "cell_type": "code",
   "execution_count": 2,
   "id": "c1def098",
   "metadata": {},
   "outputs": [
    {
     "name": "stdout",
     "output_type": "stream",
     "text": [
      "Retrieving notices: ...working... done\n",
      "Channels:\n",
      " - conda-forge\n",
      " - nvidia\n",
      " - pytorch\n",
      "Platform: linux-64\n",
      "Collecting package metadata (repodata.json): ...working... done\n",
      "Solving environment: ...working... done\n",
      "\n",
      "## Package Plan ##\n",
      "\n",
      "  environment location: /home/ec2-user/anaconda3/envs/python3\n",
      "\n",
      "  added / updated specs:\n",
      "    - polars\n",
      "\n",
      "\n",
      "The following packages will be downloaded:\n",
      "\n",
      "    package                    |            build\n",
      "    ---------------------------|-----------------\n",
      "    polars-1.27.1              |  py310h5fb5f9c_1        25.3 MB  conda-forge\n",
      "    ------------------------------------------------------------\n",
      "                                           Total:        25.3 MB\n",
      "\n",
      "The following NEW packages will be INSTALLED:\n",
      "\n",
      "  packaging          conda-forge/noarch::packaging-24.2-pyhd8ed1ab_2 \n",
      "  polars             conda-forge/linux-64::polars-1.27.1-py310h5fb5f9c_1 \n",
      "\n",
      "The following packages will be UPDATED:\n",
      "\n",
      "  openssl                                  3.4.1-h7b32b05_0 --> 3.5.0-h7b32b05_0 \n",
      "\n",
      "\n",
      "Preparing transaction: ...working... done\n",
      "Verifying transaction: ...working... done\n",
      "Executing transaction: ...working... done\n"
     ]
    }
   ],
   "source": [
    "!conda install polars -y -q"
   ]
  },
  {
   "cell_type": "code",
   "execution_count": 3,
   "id": "16b96379",
   "metadata": {},
   "outputs": [],
   "source": [
    "!pip install icd-mappings pyreadr -q"
   ]
  },
  {
   "cell_type": "markdown",
   "id": "e6bc8664",
   "metadata": {},
   "source": [
    "# Importing libraries"
   ]
  },
  {
   "cell_type": "code",
   "execution_count": 4,
   "id": "c48e255f",
   "metadata": {},
   "outputs": [],
   "source": [
    "import pyodbc\n",
    "import requests\n",
    "import re\n",
    "import pyreadr"
   ]
  },
  {
   "cell_type": "code",
   "execution_count": 5,
   "id": "bffec8fb",
   "metadata": {},
   "outputs": [
    {
     "name": "stderr",
     "output_type": "stream",
     "text": [
      "Matplotlib is building the font cache; this may take a moment.\n"
     ]
    }
   ],
   "source": [
    "import polars as pl\n",
    "import numpy as np\n",
    "import time\n",
    "import pickle\n",
    "import matplotlib.pyplot as plt"
   ]
  },
  {
   "cell_type": "markdown",
   "id": "1891fc5a",
   "metadata": {},
   "source": [
    "# Connecting to database"
   ]
  },
  {
   "cell_type": "code",
   "execution_count": 6,
   "id": "d385d481",
   "metadata": {},
   "outputs": [],
   "source": [
    "file_path = '/home/ec2-user/SageMaker/db-credentials.txt'\n",
    "\n",
    "with open(file_path, 'r') as file:\n",
    "    # Code to parse the data will go here\n",
    "    file_contents = file.read()\n",
    "\n",
    "# Remove newlines and extra spaces\n",
    "cleaned_string = file_contents.replace('\\n', '').strip()\n",
    "\n",
    "# Extract variable-value pairs using regular expressions\n",
    "pattern = r'\"([^\"]+)\": \"([^\"]+)\"'\n",
    "pairs = re.findall(pattern, cleaned_string)\n",
    "\n",
    "parsed_data = {}\n",
    "\n",
    "for variable, data in pairs:\n",
    "    parsed_data[variable] = data"
   ]
  },
  {
   "cell_type": "code",
   "execution_count": 7,
   "id": "8ea8e139",
   "metadata": {},
   "outputs": [],
   "source": [
    "### This example shows how to view tables in the AAOCHIN2023 database. \n",
    "raw_db = 'AAOCHIN2023' \n",
    "raw_connection_string = \"DRIVER={ODBC Driver 17 for SQL Server};\" + \\\n",
    "                    \"SERVER=\" + parsed_data['host'] + ',' + parsed_data['port'] + ';' + \\\n",
    "                    \"DATABASE=\" + raw_db + ';' + \\\n",
    "                    \"UID=\" + parsed_data['username'] + ';' + \\\n",
    "                    \"PWD={\" + parsed_data['password'] + \"};\"\n",
    "raw_conn = pyodbc.connect(raw_connection_string, trusted_connection = 'no')\n",
    "raw_cursor = raw_conn.cursor()"
   ]
  },
  {
   "cell_type": "code",
   "execution_count": 8,
   "id": "afc17b1e",
   "metadata": {},
   "outputs": [
    {
     "name": "stdout",
     "output_type": "stream",
     "text": [
      "OBSERVATION_FACT\n",
      "PATIENT_DIMENSION\n",
      "PROVIDER_DIMENSION\n",
      "VISIT_DIMENSION\n",
      "ZCTA_CVS\n",
      "SIDECAR_FACILITIES\n",
      "CONCEPT_DIMENSION\n",
      "I2B2\n"
     ]
    }
   ],
   "source": [
    "#### CHECK IF DATABASE CURSOR IS WORKING\n",
    "raw_cursor.execute('''\n",
    "SELECT name AS TABLE_NAME\n",
    "FROM sys.views\n",
    "''')\n",
    "for row in raw_cursor:\n",
    "    print(row[0])"
   ]
  },
  {
   "cell_type": "markdown",
   "id": "fc710274",
   "metadata": {},
   "source": [
    "# SQL queries for demographics, lab results, medications and diagnoses"
   ]
  },
  {
   "cell_type": "code",
   "execution_count": 15,
   "id": "02366f1a",
   "metadata": {},
   "outputs": [],
   "source": [
    "###### CONFIG ######\n",
    "class cohort_data_config:\n",
    "    get_lab_results_all = True\n",
    "    get_latest_lab_results =  False\n",
    "    get_temporal_lab_results_only_mean = False\n",
    "    get_temporal_lab_results_only_mean_latest_oldest = False"
   ]
  },
  {
   "cell_type": "markdown",
   "id": "dca1103a",
   "metadata": {},
   "source": [
    "## Testing (NO NEED to run)"
   ]
  },
  {
   "cell_type": "code",
   "execution_count": 13,
   "id": "e3b478d3",
   "metadata": {},
   "outputs": [],
   "source": [
    "# test_df = pl.read_database(\"\"\"  \"\"\",\n",
    "#     connection=raw_cursor,\n",
    "# ) "
   ]
  },
  {
   "cell_type": "code",
   "execution_count": null,
   "id": "b7c4d74d",
   "metadata": {},
   "outputs": [],
   "source": [
    "test_df"
   ]
  },
  {
   "cell_type": "markdown",
   "id": "4f056b70",
   "metadata": {},
   "source": [
    "# Cohort"
   ]
  },
  {
   "cell_type": "code",
   "execution_count": null,
   "id": "302dc6f4",
   "metadata": {},
   "outputs": [],
   "source": [
    "cohort_df = pl.read_database(\"\"\" SELECT * from S348.dbo.DETERMINE_OCHIN_COHORT\"\"\",\n",
    "    connection=raw_cursor,\n",
    ") "
   ]
  },
  {
   "cell_type": "code",
   "execution_count": null,
   "id": "b15c5c6e",
   "metadata": {},
   "outputs": [],
   "source": [
    "cohort_df.write_parquet(\"Determine_Cohort_with_labels_OutcomeDate.parquet\")"
   ]
  },
  {
   "cell_type": "markdown",
   "id": "565add9d",
   "metadata": {},
   "source": [
    "## Diagnoses"
   ]
  },
  {
   "cell_type": "code",
   "execution_count": null,
   "id": "015cfb55",
   "metadata": {},
   "outputs": [],
   "source": [
    "diag_cohort_df = pl.read_database(\n",
    "    query='''SELECT o.PATIENT_NUM, o.ENCOUNTER_NUM, o.START_DATE, o.CONCEPT_CD\n",
    "FROM AAOCHIN2023.S348.OBSERVATION_FACT o\n",
    "JOIN S348.dbo.DETERMINE_OCHIN_COHORT c ON o.PATIENT_NUM = c.PATIENT_NUM\n",
    "WHERE o.PATIENT_NUM IN (SELECT PATIENT_NUM FROM S348.dbo.DETERMINE_OCHIN_COHORT)\n",
    "  AND o.START_DATE >= DATEADD(year, -1, c.Index_Start_date)\n",
    "  AND o.START_DATE < c.Index_Start_date\n",
    "  AND o.Concept_CD NOT LIKE 'ICD10CM:E11%'\n",
    "  AND o.Concept_CD NOT LIKE 'ICD9CM:250%'\n",
    "\n",
    "  AND o.Concept_CD LIKE 'ICD%'\n",
    "ORDER BY o.PATIENT_NUM;''',\n",
    "    connection=raw_cursor,\n",
    ")"
   ]
  },
  {
   "cell_type": "code",
   "execution_count": null,
   "id": "f666d187",
   "metadata": {},
   "outputs": [],
   "source": [
    "### saving diagnoses_df ###\n",
    "diag_cohort_df.write_parquet(\"Determine_diagnoses_cohort_data.parquet\")"
   ]
  },
  {
   "cell_type": "code",
   "execution_count": null,
   "id": "beae0295",
   "metadata": {},
   "outputs": [],
   "source": [
    "del diag_cohort_df"
   ]
  },
  {
   "cell_type": "markdown",
   "id": "3114ee02",
   "metadata": {},
   "source": [
    "## Medications"
   ]
  },
  {
   "cell_type": "code",
   "execution_count": null,
   "id": "6ba47e31",
   "metadata": {},
   "outputs": [],
   "source": [
    "med_cohort_df = pl.read_database(\n",
    "    query='''SELECT \n",
    "    o.PATIENT_NUM, \n",
    "    o.ENCOUNTER_NUM, \n",
    "    o.START_DATE, \n",
    "    o.CONCEPT_CD AS RxNorm, \n",
    "    c.NAME_CHAR AS Medication_Name,\n",
    "    o.START_DATE as RX_StartDate, \n",
    "    o.RX_DOSE_ORDERED as RX_Dose_Ordered, \n",
    "    o.RX_DOSE_ORDERED_UNIT as Rx_Dose_Ordered_Unit, \n",
    "    o.RX_QUANTITY as RX_Quantity\n",
    "FROM \n",
    "    AAOCHIN2023.S348.OBSERVATION_FACT o\n",
    "JOIN \n",
    "    AAOCHIN2023.common.CONCEPT_DIMENSION c \n",
    "    ON o.CONCEPT_CD = c.CONCEPT_CD\n",
    "JOIN \n",
    "    S348.dbo.DETERMINE_OCHIN_COHORT dc \n",
    "    ON o.PATIENT_NUM = dc.PATIENT_NUM\n",
    "WHERE \n",
    "    o.PATIENT_NUM IN (SELECT PATIENT_NUM FROM S348.dbo.DETERMINE_OCHIN_COHORT)\n",
    "    AND o.CONCEPT_CD LIKE 'RXNORM%' -- pattern for medication data\n",
    "    AND o.START_DATE >= DATEADD(year, -1, dc.Index_Start_date)\n",
    "    AND o.START_DATE <= dc.Index_Start_date\n",
    "ORDER BY \n",
    "    o.PATIENT_NUM, RX_Quantity;''',\n",
    "    connection=raw_cursor,\n",
    ") "
   ]
  },
  {
   "cell_type": "code",
   "execution_count": null,
   "id": "3d36985a",
   "metadata": {},
   "outputs": [],
   "source": [
    "med_cohort_df.shape"
   ]
  },
  {
   "cell_type": "code",
   "execution_count": null,
   "id": "2876e46b",
   "metadata": {},
   "outputs": [],
   "source": [
    "### saving medications_df ###\n",
    "med_cohort_df.write_parquet('Determine_medications_cohort_data.parquet')"
   ]
  },
  {
   "cell_type": "markdown",
   "id": "ff945f94",
   "metadata": {},
   "source": [
    "## Lab results"
   ]
  },
  {
   "cell_type": "code",
   "execution_count": null,
   "id": "e1ee810a",
   "metadata": {},
   "outputs": [],
   "source": [
    "if  cohort_data_config.get_lab_results_all:\n",
    "    lab_results_df = pl.read_database(\n",
    "    query='''WITH RankedResults AS (\n",
    "    SELECT \n",
    "        o.PATIENT_NUM, \n",
    "        o.ENCOUNTER_NUM, \n",
    "        o.START_DATE as Specimen_Date,\n",
    "        o.CONCEPT_CD AS LabLOINC, \n",
    "        c.NAME_CHAR AS Lab_Name,\n",
    "        o.NVAL_NUM as Result_Number, \n",
    "        o.UNITS_CD as Result_Unit\n",
    "        --ROW_NUMBER() OVER (PARTITION BY o.PATIENT_NUM, o.CONCEPT_CD ORDER BY o.START_DATE DESC) as rn\n",
    "    FROM \n",
    "        AAOCHIN2023.S348.OBSERVATION_FACT o\n",
    "    JOIN \n",
    "        AAOCHIN2023.common.CONCEPT_DIMENSION c ON o.CONCEPT_CD = c.CONCEPT_CD\n",
    "    JOIN \n",
    "        S348.dbo.DETERMINE_OCHIN_COHORT coh ON o.PATIENT_NUM = coh.PATIENT_NUM\n",
    "    WHERE\n",
    "        o.PATIENT_NUM IN (SELECT PATIENT_NUM FROM S348.dbo.DETERMINE_OCHIN_COHORT)\n",
    "        AND o.CONCEPT_CD LIKE 'LOINC%'\n",
    "        AND o.CONCEPT_CD != 'LOINC:4548-4' -- Excluding A1c data\n",
    "        AND o.CONCEPT_CD != 'LOINC:17856-6' -- Excluding A1c data\n",
    "        AND o.CONCEPT_CD != 'LOINC:4549-2' -- Excluding A1c data\n",
    "        AND o.START_DATE >= DATEADD(YEAR, -1, coh.Index_Start_date)\n",
    "        AND o.START_DATE < coh.Index_Start_date\n",
    "        AND o.NVAL_NUM IS NOT NULL \n",
    "    )\n",
    "    SELECT \n",
    "        PATIENT_NUM,\n",
    "        ENCOUNTER_NUM,\n",
    "        Specimen_Date,\n",
    "        LabLOINC,\n",
    "        Lab_Name,\n",
    "        Result_Number\n",
    "\n",
    "    FROM\n",
    "\n",
    "        RankedResults''',\n",
    "    connection=raw_cursor)\n",
    "    \n",
    "    lab_results_df.write_parquet('Determine_lab_results_cohort_data_all.parquet')\n",
    "    \n",
    "    \n",
    "\n",
    "\n",
    "\n",
    "elif cohort_data_config.get_latest_lab_results:\n",
    "    lab_results_df = pl.read_database(\n",
    "    query='''WITH RankedResults AS (\n",
    "    SELECT \n",
    "        o.PATIENT_NUM, \n",
    "        o.ENCOUNTER_NUM, \n",
    "        o.START_DATE as Specimen_Date,\n",
    "        o.CONCEPT_CD AS LabLOINC, \n",
    "        c.NAME_CHAR AS Lab_Name,\n",
    "        o.NVAL_NUM as Result_Number, \n",
    "        o.UNITS_CD as Result_Unit,\n",
    "        ROW_NUMBER() OVER (PARTITION BY o.PATIENT_NUM, o.CONCEPT_CD ORDER BY o.START_DATE DESC) as rn\n",
    "    FROM \n",
    "        AAOCHIN2023.S348.OBSERVATION_FACT o\n",
    "    JOIN \n",
    "        AAOCHIN2023.common.CONCEPT_DIMENSION c ON o.CONCEPT_CD = c.CONCEPT_CD\n",
    "    JOIN \n",
    "        S348.dbo.DETERMINE_OCHIN_COHORT coh ON o.PATIENT_NUM = coh.PATIENT_NUM\n",
    "    WHERE\n",
    "        o.PATIENT_NUM IN (SELECT PATIENT_NUM FROM S348.dbo.DETERMINE_OCHIN_COHORT)\n",
    "        AND o.CONCEPT_CD LIKE 'LOINC%'\n",
    "        AND o.CONCEPT_CD != 'LOINC:4548-4' -- Excluding A1c data\n",
    "        AND o.CONCEPT_CD != 'LOINC:17856-6' -- Excluding A1c data\n",
    "        AND o.CONCEPT_CD != 'LOINC:4549-2' -- Excluding A1c data\n",
    "        AND o.START_DATE >= DATEADD(YEAR, -1, coh.Index_Start_date)\n",
    "        AND o.START_DATE < coh.Index_Start_date\n",
    "        AND o.NVAL_NUM IS NOT NULL \n",
    ")\n",
    "SELECT \n",
    "    PATIENT_NUM,\n",
    "    ENCOUNTER_NUM,\n",
    "    Specimen_Date,\n",
    "    LabLOINC,\n",
    "    Lab_Name,\n",
    "    Result_Number,\n",
    "    Result_Unit\n",
    "FROM \n",
    "    RankedResults\n",
    "WHERE \n",
    "    rn = 1\n",
    "ORDER BY \n",
    "    PATIENT_NUM;''',\n",
    "    connection=raw_cursor)\n",
    "    \n",
    "    lab_results_df.write_parquet('Determine_lab_results_cohort_data_latest.parquet')\n",
    "    \n",
    "elif cohort_data_config.get_temporal_lab_results_only_mean:\n",
    "    \n",
    "    lab_results_df = pl.read_database(\n",
    "    query='''WITH MeanLabResults AS (\n",
    "    SELECT \n",
    "        o.PATIENT_NUM, \n",
    "        o.CONCEPT_CD AS LabLOINC, \n",
    "        AVG(o.NVAL_NUM) as Mean_Result_Number\n",
    "        \n",
    "    FROM \n",
    "        AAOCHIN2023.S348.OBSERVATION_FACT o\n",
    "    JOIN \n",
    "        AAOCHIN2023.common.CONCEPT_DIMENSION c ON o.CONCEPT_CD = c.CONCEPT_CD\n",
    "    JOIN \n",
    "        S348.dbo.DETERMINE_OCHIN_COHORT coh ON o.PATIENT_NUM = coh.PATIENT_NUM\n",
    "    WHERE \n",
    "        o.CONCEPT_CD LIKE 'LOINC%'\n",
    "        AND o.CONCEPT_CD != 'LOINC:4548-4' -- Excluding A1c data\n",
    "        AND o.CONCEPT_CD != 'LOINC:17856-6' -- Excluding A1c data\n",
    "        AND o.CONCEPT_CD != 'LOINC:4549-2' -- Excluding A1c data\n",
    "        AND o.START_DATE >= DATEADD(YEAR, -1, coh.Index_Start_date)\n",
    "        AND o.START_DATE < coh.Index_Start_date\n",
    "        AND o.NVAL_NUM IS NOT NULL \n",
    "    GROUP BY \n",
    "        o.PATIENT_NUM, \n",
    "        o.CONCEPT_CD\n",
    ")\n",
    "SELECT \n",
    "    PATIENT_NUM,\n",
    "    LabLOINC,\n",
    "    Mean_Result_Number\n",
    "    \n",
    "FROM \n",
    "    MeanLabResults\n",
    "ORDER BY \n",
    "    PATIENT_NUM;''',\n",
    "    connection=raw_cursor)\n",
    "    \n",
    "    lab_results_df.write_parquet('Determine_lab_results_cohort_data_mean.parquet')\n",
    "    \n",
    "elif cohort_data_config.get_temporal_lab_results_only_mean_latest_oldest:\n",
    "    lab_results_df = pl.read_database(\n",
    "    query='''WITH LabResults AS (\n",
    "    SELECT \n",
    "        o.PATIENT_NUM, \n",
    "        o.ENCOUNTER_NUM, \n",
    "        o.START_DATE AS Specimen_Date,\n",
    "        o.CONCEPT_CD AS LabLOINC, \n",
    "        c.NAME_CHAR AS Lab_Name,\n",
    "        o.NVAL_NUM AS Result_Number, \n",
    "        ROW_NUMBER() OVER (PARTITION BY o.PATIENT_NUM, o.CONCEPT_CD ORDER BY o.START_DATE DESC) AS rn_latest,\n",
    "        ROW_NUMBER() OVER (PARTITION BY o.PATIENT_NUM, o.CONCEPT_CD ORDER BY o.START_DATE ASC) AS rn_oldest\n",
    "    FROM \n",
    "        AAOCHIN2023.S348.OBSERVATION_FACT o\n",
    "    JOIN \n",
    "        AAOCHIN2023.common.CONCEPT_DIMENSION c ON o.CONCEPT_CD = c.CONCEPT_CD\n",
    "    JOIN \n",
    "        S348.dbo.DETERMINE_OCHIN_COHORT coh ON o.PATIENT_NUM = coh.PATIENT_NUM\n",
    "    WHERE \n",
    "        o.CONCEPT_CD LIKE 'LOINC%'\n",
    "        AND o.CONCEPT_CD != 'LOINC:4548-4' -- Excluding A1c data\n",
    "        AND o.CONCEPT_CD != 'LOINC:17856-6' -- Excluding A1c data\n",
    "        AND o.CONCEPT_CD != 'LOINC:4549-2' -- Excluding A1c data\n",
    "        AND o.START_DATE >= DATEADD(YEAR, -1, coh.Index_Start_date)\n",
    "        AND o.START_DATE < coh.Index_Start_date\n",
    "        AND o.NVAL_NUM IS NOT NULL\n",
    "),\n",
    "AggregatedLabResults AS (\n",
    "    SELECT\n",
    "        PATIENT_NUM, \n",
    "        LabLOINC, \n",
    "        Lab_Name,\n",
    "        Result_Unit,\n",
    "        AVG(Result_Number) AS Mean_Result\n",
    "    FROM \n",
    "        LabResults\n",
    "    GROUP BY \n",
    "        PATIENT_NUM, LabLOINC, Lab_Name, Result_Unit\n",
    "),\n",
    "LatestAndOldestResults AS (\n",
    "    SELECT \n",
    "        PATIENT_NUM, \n",
    "        LabLOINC, \n",
    "        Lab_Name,\n",
    "        MAX(CASE WHEN rn_latest = 1 THEN Result_Number END) AS Latest_Result_Number,\n",
    "        MAX(CASE WHEN rn_oldest = 1 THEN Result_Number END) AS Oldest_Result_Number,\n",
    "\n",
    "    FROM \n",
    "        LabResults\n",
    "    WHERE \n",
    "        rn_latest = 1 OR rn_oldest = 1\n",
    "    GROUP BY \n",
    "        PATIENT_NUM, LabLOINC\n",
    ")\n",
    "\n",
    "SELECT \n",
    "    a.PATIENT_NUM,\n",
    "    a.LabLOINC,\n",
    "    a.Lab_Name,\n",
    "    l.Latest_Result_Number,\n",
    "    l.Oldest_Result_Number,\n",
    "    a.Mean_Result,\n",
    "FROM \n",
    "    AggregatedLabResults a\n",
    "JOIN \n",
    "    LatestAndOldestResults l \n",
    "    ON a.PATIENT_NUM = l.PATIENT_NUM \n",
    "    AND a.LabLOINC = l.LabLOINC \n",
    "ORDER BY \n",
    "    a.PATIENT_NUM;''',\n",
    "    connection=raw_cursor)\n",
    "    \n",
    "    lab_results_df.write_parquet('Determine_lab_results_cohort_data_latest_oldest_mean.parquet')\n",
    "    "
   ]
  },
  {
   "cell_type": "code",
   "execution_count": null,
   "id": "dfe86006",
   "metadata": {},
   "outputs": [],
   "source": [
    "lab_results_df.shape"
   ]
  },
  {
   "cell_type": "markdown",
   "id": "5009e6df",
   "metadata": {},
   "source": [
    "## Demographics"
   ]
  },
  {
   "cell_type": "code",
   "execution_count": null,
   "id": "7007b5ee",
   "metadata": {},
   "outputs": [],
   "source": [
    "demo_cohort_df = pl.read_database(\n",
    "    query='''SELECT pd.Patient_num, pd.Sex_CD, pd.Race_CD, pd.Hispanic_CD, pd.Gender_CD\n",
    "FROM AAOCHIN2023.S348.PATIENT_DIMENSION pd\n",
    "WHERE pd.PATIENT_NUM in (SELECT PATIENT_NUM FROM S348.dbo.DETERMINE_OCHIN_COHORT);''',\n",
    "    connection=raw_cursor,\n",
    ") "
   ]
  },
  {
   "cell_type": "code",
   "execution_count": null,
   "id": "a1150cb8",
   "metadata": {},
   "outputs": [],
   "source": [
    "demo_cohort_df.write_parquet(\"Determine_demographics_cohort_data.parquet\")"
   ]
  },
  {
   "cell_type": "markdown",
   "id": "4e9a7c36",
   "metadata": {},
   "source": [
    "## BMI, HEIGHT, WEIGHT and BP"
   ]
  },
  {
   "cell_type": "code",
   "execution_count": null,
   "id": "c719b16c",
   "metadata": {},
   "outputs": [],
   "source": [
    "bmi_cohort_df = pl.read_database(\n",
    "    query=''' SELECT ob.PATIENT_NUM, ob.CONCEPT_CD, ob.NVAL_NUM, UNITS_CD, ob.START_DATE\n",
    "    FROM \n",
    "        AAOCHIN2023.S348.OBSERVATION_FACT ob\n",
    "    JOIN\n",
    "        S348.dbo.DETERMINE_OCHIN_COHORT dc \n",
    "        ON ob.PATIENT_NUM = dc.PATIENT_NUM\n",
    "    WHERE\n",
    "        ob.PATIENT_NUM IN (SELECT PATIENT_NUM FROM S348.dbo.DETERMINE_OCHIN_COHORT)\n",
    "        AND ob.START_DATE >= DATEADD(YEAR, -1, dc.Index_Start_date)\n",
    "        AND ob.START_DATE < dc.Index_Start_date\n",
    "        AND (ob.CONCEPT_CD LIKE 'VIT|BMI%'\n",
    "        OR ob.CONCEPT_CD LIKE 'VIT|DIASTOLIC%'\n",
    "        OR ob.CONCEPT_CD LIKE 'VIT|SYSTOLIC%'\n",
    "        OR ob.CONCEPT_CD LIKE 'VIT|WT%'\n",
    "        );''',\n",
    "    connection=raw_cursor,\n",
    ") "
   ]
  },
  {
   "cell_type": "code",
   "execution_count": null,
   "id": "71e35e61",
   "metadata": {},
   "outputs": [],
   "source": [
    "bmi_cohort_df.head()"
   ]
  },
  {
   "cell_type": "code",
   "execution_count": null,
   "id": "728c0f02",
   "metadata": {},
   "outputs": [],
   "source": [
    "bmi_cohort_df.shape"
   ]
  },
  {
   "cell_type": "code",
   "execution_count": null,
   "id": "947af242",
   "metadata": {},
   "outputs": [],
   "source": [
    "bmi_cohort_df.write_parquet(\"Determine_dbmi_bp_cohort_data.parquet\")"
   ]
  },
  {
   "cell_type": "markdown",
   "id": "13e9553b",
   "metadata": {},
   "source": [
    "## Height\n"
   ]
  },
  {
   "cell_type": "code",
   "execution_count": null,
   "id": "0736155e",
   "metadata": {},
   "outputs": [],
   "source": [
    "height_df = pl.read_database(\"\"\" SELECT ob.PATIENT_NUM, cd.CONCEPT_PATH, cd.NAME_CHAR, ob.NVAL_NUM, ob.UNITS_CD\n",
    "    FROM \n",
    "        AAOCHIN2023.S348.OBSERVATION_FACT ob     \n",
    "    JOIN\n",
    "        AAOCHIN2023.common.CONCEPT_DIMENSION cd\n",
    "        ON ob.CONCEPT_CD = cd.CONCEPT_CD\n",
    "    WHERE\n",
    "        ob.PATIENT_NUM IN (SELECT PATIENT_NUM FROM S348.dbo.DETERMINE_OCHIN_COHORT)\n",
    "        AND cd.CONCEPT_PATH LIKE '\\i2b2\\Vitals\\H%';  \"\"\",\n",
    "    connection=raw_cursor,\n",
    ") "
   ]
  },
  {
   "cell_type": "code",
   "execution_count": null,
   "id": "234ad34c",
   "metadata": {},
   "outputs": [],
   "source": [
    "height_df.head()"
   ]
  },
  {
   "cell_type": "code",
   "execution_count": null,
   "id": "b44d4516",
   "metadata": {},
   "outputs": [],
   "source": [
    "height_df.write_parquet(\"Determine_height_cohort_data.parquet\")"
   ]
  },
  {
   "cell_type": "markdown",
   "id": "7964c705",
   "metadata": {},
   "source": [
    "## SDoH datasets"
   ]
  },
  {
   "cell_type": "code",
   "execution_count": null,
   "id": "8ea7de86",
   "metadata": {},
   "outputs": [],
   "source": [
    "tob_cohort_df = pl.read_database(\n",
    "    query='''SELECT ob.PATIENT_NUM, ob.CONCEPT_CD, ob.START_DATE\n",
    "    FROM \n",
    "        AAOCHIN2023.S348.OBSERVATION_FACT ob\n",
    "    JOIN\n",
    "        S348.dbo.DETERMINE_OCHIN_COHORT dc \n",
    "        ON ob.PATIENT_NUM = dc.PATIENT_NUM\n",
    "    WHERE\n",
    "        ob.PATIENT_NUM IN (SELECT PATIENT_NUM FROM S348.dbo.DETERMINE_OCHIN_COHORT)\n",
    "        AND ob.START_DATE >= DATEADD(YEAR, -1, dc.Index_Start_date)\n",
    "        AND ob.START_DATE < dc.Index_Start_date\n",
    "        AND (SUBSTRING(CONCEPT_CD, 1,7) = 'VIT|TOB'\n",
    "        OR SUBSTRING(CONCEPT_CD, 1,7) = 'VIT|SMK');''',\n",
    "    connection=raw_cursor,\n",
    ") "
   ]
  },
  {
   "cell_type": "code",
   "execution_count": null,
   "id": "cfe5cd5b",
   "metadata": {},
   "outputs": [],
   "source": [
    "len(np.unique(tob_cohort_df['PATIENT_NUM'].to_list()))"
   ]
  },
  {
   "cell_type": "code",
   "execution_count": null,
   "id": "f752572b",
   "metadata": {},
   "outputs": [],
   "source": [
    "tob_cohort_df.write_parquet('Determine_tob_cohort_data.parquet')"
   ]
  },
  {
   "cell_type": "markdown",
   "id": "e26f4d95",
   "metadata": {},
   "source": [
    " ### SDOH screening data"
   ]
  },
  {
   "cell_type": "code",
   "execution_count": null,
   "id": "1b1df468",
   "metadata": {},
   "outputs": [],
   "source": [
    "sdoh_screening_df = pl.read_database(\n",
    "    query=''' SELECT TOP 10 *\n",
    "    FROM \n",
    "        AAOCHIN2023.common.CONCEPT_DIMENSION cd; ''',\n",
    "    connection=raw_cursor,\n",
    ") \n",
    "sdoh_screening_df.head()"
   ]
  },
  {
   "cell_type": "code",
   "execution_count": null,
   "id": "3f885a3d",
   "metadata": {},
   "outputs": [],
   "source": [
    "sdoh_screening_df = pl.read_database(\n",
    "    query=''' SELECT ob.PATIENT_NUM, cd.CONCEPT_PATH, cd.NAME_CHAR, ob.NVAL_NUM\n",
    "    FROM \n",
    "        AAOCHIN2023.S348.OBSERVATION_FACT ob     \n",
    "    JOIN\n",
    "        AAOCHIN2023.common.CONCEPT_DIMENSION cd\n",
    "        ON ob.CONCEPT_CD = cd.CONCEPT_CD\n",
    "    WHERE\n",
    "        ob.PATIENT_NUM IN (SELECT PATIENT_NUM FROM S348.dbo.DETERMINE_OCHIN_COHORT)\n",
    "        AND cd.CONCEPT_PATH LIKE '\\i2b2\\SDH\\%'; ''',\n",
    "    connection=raw_cursor,\n",
    ") "
   ]
  },
  {
   "cell_type": "code",
   "execution_count": null,
   "id": "631ed924",
   "metadata": {},
   "outputs": [],
   "source": [
    "len(np.unique(sdoh_screening_df['PATIENT_NUM'].to_list()))"
   ]
  },
  {
   "cell_type": "markdown",
   "id": "2ea9f606",
   "metadata": {},
   "source": [
    "# Community Vital Signs"
   ]
  },
  {
   "cell_type": "code",
   "execution_count": null,
   "id": "ccdc01b3",
   "metadata": {},
   "outputs": [],
   "source": [
    "community_vital_df = pl.read_database(\n",
    "    query=''' SELECT TOP 20 *\n",
    "    FROM \n",
    "        AAOCHIN2023.S348.ZCTA_CVS;''',\n",
    "    connection=raw_cursor,\n",
    ") "
   ]
  },
  {
   "cell_type": "code",
   "execution_count": null,
   "id": "2a8e2e8e",
   "metadata": {},
   "outputs": [],
   "source": [
    "community_vital_df.head(15)"
   ]
  },
  {
   "cell_type": "code",
   "execution_count": null,
   "id": "9a9a7077",
   "metadata": {},
   "outputs": [],
   "source": [
    "community_vital_df = pl.read_database(\n",
    "    query=''' SELECT pd.PATIENT_NUM, pd.ZIP_CD, cvs.Indicator, cvs.PERIOD, cvs.FACT\n",
    "    FROM \n",
    "        AAOCHIN2023.S348.PATIENT_DIMENSION pd       \n",
    "    JOIN\n",
    "        AAOCHIN2023.S348.ZCTA_CVS cvs\n",
    "        ON pd.ZIP_CD = cvs.ZCTA\n",
    "    WHERE\n",
    "        pd.PATIENT_NUM IN (SELECT PATIENT_NUM FROM S348.dbo.DETERMINE_OCHIN_COHORT)\n",
    "        AND cvs.PERIOD = '2016-2020'\n",
    "        AND (cvs.Indicator = 'ACS_GINI'\n",
    "        OR cvs.Indicator = 'ACS_MedHHIncome'\n",
    "        OR cvs.Indicator = 'ACS_pctCollGrad'\n",
    "        OR cvs.Indicator = 'ACS_pctPoverty100'\n",
    "        OR cvs.Indicator = 'ACS_Unemployment');''',\n",
    "    connection=raw_cursor,\n",
    ") "
   ]
  },
  {
   "cell_type": "code",
   "execution_count": null,
   "id": "281db002",
   "metadata": {},
   "outputs": [],
   "source": [
    "len(np.unique(community_vital_df['PATIENT_NUM'].to_list()))"
   ]
  },
  {
   "cell_type": "code",
   "execution_count": null,
   "id": "547d23b5",
   "metadata": {},
   "outputs": [],
   "source": [
    "community_vital_df.write_parquet('Determine_community_vital_signs_cohort.parquet')"
   ]
  },
  {
   "cell_type": "code",
   "execution_count": null,
   "id": "b4b33b39",
   "metadata": {},
   "outputs": [],
   "source": [
    "print('Hello')"
   ]
  },
  {
   "cell_type": "code",
   "execution_count": null,
   "id": "06b52029",
   "metadata": {},
   "outputs": [],
   "source": []
  },
  {
   "cell_type": "markdown",
   "id": "88c36ae1",
   "metadata": {},
   "source": [
    "# Patients with no visits/encounters after index visit"
   ]
  },
  {
   "cell_type": "code",
   "execution_count": 9,
   "id": "6b35dd1e",
   "metadata": {},
   "outputs": [],
   "source": [
    "pids_no_encs_after_vi_df = pl.read_database(\n",
    "    query='''SELECT * FROM S348.dbo.patient_records_after_index_visit''',\n",
    "    connection=raw_cursor,\n",
    ") "
   ]
  },
  {
   "cell_type": "code",
   "execution_count": 10,
   "id": "5c7c01ff",
   "metadata": {},
   "outputs": [],
   "source": [
    "pids_no_encs_after_vi_df.write_parquet('Determine_cohort_after_visit_index_details.parquet')"
   ]
  },
  {
   "cell_type": "code",
   "execution_count": null,
   "id": "b715ddd1",
   "metadata": {},
   "outputs": [],
   "source": []
  },
  {
   "cell_type": "markdown",
   "id": "bf5fc703",
   "metadata": {},
   "source": [
    "# Helper functions and variables"
   ]
  },
  {
   "cell_type": "code",
   "execution_count": null,
   "id": "c3235815",
   "metadata": {},
   "outputs": [],
   "source": [
    "def get_active_ingredient(rxcui):\n",
    "       # Define the base URL of the RxNorm API\n",
    "       base_url = \"https://rxnav.nlm.nih.gov/REST/rxcui/\"\n",
    "       \n",
    "       # Create the complete URL for the request\n",
    "       request_url = f\"{base_url}{rxcui}/related.json?tty=IN\"\n",
    "       \n",
    "       try:\n",
    "           # Make the GET request to the API\n",
    "           response = requests.get(request_url)\n",
    "           response.raise_for_status()  # Raise an error if the request was unsuccessful\n",
    "           print(response)\n",
    "           # Parse the JSON response\n",
    "           data = response.json()\n",
    "#            print(data)\n",
    "           # Extract the active ingredient from the JSON response\n",
    "           ingredients = data.get('relatedGroup', {}).get('conceptGroup', [])\n",
    "           for group in ingredients:\n",
    "               if group.get('tty') == 'IN':  # Here we're looking for ingredients\n",
    "                   active_ingredients = [concept['name'] for concept in group.get('conceptProperties', [])]\n",
    "                   return active_ingredients\n",
    "       \n",
    "       except requests.RequestException as e:\n",
    "           print(f\"An error occurred: {e}\")\n",
    "\n",
    "       return []\n",
    "\n",
    "def get_drug_class(rxcui):\n",
    "       # Endpoint to get the ATC classification\n",
    "       url = f\"https://rxnav.nlm.nih.gov/REST/rxcui/{rxcui}/property.json?propName=ATC\"\n",
    "       \n",
    "       # Make the HTTP GET request\n",
    "       response = requests.get(url)\n",
    "       \n",
    "       # Check if the request was successful\n",
    "       if response.status_code == 200:\n",
    "           data = response.json()\n",
    "           try: \n",
    "               unique_class_names = {item['rxclassMinConceptItem']['className'] for item in data['rxclassDrugInfoList']['rxclassDrugInfo']}\n",
    "           except:\n",
    "                return \"No data\"\n",
    "       else:\n",
    "           return f\"Failed to retrieve data: {response.status_code}\""
   ]
  },
  {
   "cell_type": "code",
   "execution_count": 30,
   "id": "39a82e82",
   "metadata": {},
   "outputs": [],
   "source": [
    "### loading domain expert lab result features\n",
    "with open('loincs_hem_chem.pkl', 'rb') as file:\n",
    "    hem_loics  = pickle.load(file)"
   ]
  },
  {
   "cell_type": "code",
   "execution_count": null,
   "id": "909760e5",
   "metadata": {},
   "outputs": [],
   "source": [
    "### ladoing phe codes (ICD10 -> phe code) and (ICD9 -> phecode  )"
   ]
  },
  {
   "cell_type": "markdown",
   "id": "c28d5000",
   "metadata": {},
   "source": [
    " # EDA & Pre-Processing\n",
    "#### Data dict:  https://view.officeapps.live.com/op/view.aspx?src=https%3A%2F%2Fwww.aim-ahead.net%2Fmedia%2Fhn1f2blb%2Fochindatadictionary_year2.xlsx&wdOrigin=BROWSELINK\n",
    "\n",
    "#### Data Dict v2: https://view.officeapps.live.com/op/view.aspx?src=https%3A%2F%2Fochin.org%2Fwp-content%2Fuploads%2F2024%2F04%2FADVANCE-and-OCHIN-DD-and-User-Guide.xlsx&wdOrigin=BROWSELINK"
   ]
  },
  {
   "cell_type": "code",
   "execution_count": 34,
   "id": "1097fc2f",
   "metadata": {},
   "outputs": [],
   "source": [
    "###### CONFIG #####\n",
    "class eda_config:\n",
    "    get_temporal_lab_results = False\n",
    "    left_join_the_data  = True\n",
    "    get_all_lab_features = True"
   ]
  },
  {
   "cell_type": "code",
   "execution_count": 35,
   "id": "690ff057",
   "metadata": {},
   "outputs": [],
   "source": [
    "### loading datasets ###\n",
    "cohort_df = pl.scan_parquet(\"Determine_Cohort_with_labels_OutcomeDate.parquet\")\n",
    "medications_df = pl.scan_parquet(\"Determine_medications_cohort_data.parquet\")\n",
    "\n",
    "if eda_config.get_all_lab_features:\n",
    "    lab_results_df = pl.scan_parquet('Determine_lab_results_cohort_data_all.parquet')\n",
    "    \n",
    "elif eda_config.get_temporal_lab_results:\n",
    "    lab_results_df = pl.scan_parquet(\"Determine_lab_results_cohort_data_mean.parquet\")\n",
    "\n",
    "else:\n",
    "    lab_results_df = pl.scan_parquet(\"Determine_lab_results_cohort_data_latest.parquet\")\n",
    "\n",
    "diagnoses_df = pl.scan_parquet(\"Determine_diagnoses_cohort_data.parquet\")\n",
    "\n",
    "demographics_df = pl.scan_parquet('Determine_demographics_cohort_data.parquet')\n",
    "bmi_bP_df = pl.scan_parquet(\"Determine_dbmi_bp_cohort_data.parquet\")\n",
    "community_vital_df = pl.scan_parquet('Determine_community_vital_signs_cohort.parquet')\n",
    "tob_df = pl.scan_parquet('Determine_tob_cohort_data.parquet')\n",
    "height_df = pl.scan_parquet('Determine_height_cohort_data.parquet')\n",
    "pids_no_encs_after_vi_df = pl.scan_parquet('Determine_cohort_after_visit_index_details.parquet')"
   ]
  },
  {
   "cell_type": "code",
   "execution_count": null,
   "id": "6a5e9f9f",
   "metadata": {},
   "outputs": [],
   "source": [
    "cohort_df.filter(pl.col('PATIENT_NUM').is_in([2085983,2255770])).collect()"
   ]
  },
  {
   "cell_type": "code",
   "execution_count": null,
   "id": "206ebecb",
   "metadata": {},
   "outputs": [],
   "source": [
    "### Count of unique patient records in each dataset\n",
    "print(\"The number of unique patient records in cohort\", len(np.unique(cohort_df.select(['PATIENT_NUM']).collect()['PATIENT_NUM'].to_list())))\n",
    "print(\"The number of unique patient records in medications\", len(np.unique(medications_df.select(['PATIENT_NUM']).collect()['PATIENT_NUM'].to_list())))\n",
    "print(\"The number of unique patient records in lab results\", len(np.unique(lab_results_df.select(['PATIENT_NUM']).collect()['PATIENT_NUM'].to_list())))\n",
    "print(\"The number of unique patient records in diagnoses\", len(np.unique(diagnoses_df.select(['PATIENT_NUM']).collect()['PATIENT_NUM'].to_list())))\n",
    "#print(\"The number of unique patient records in sdoh\", len(np.unique(cohort_df.select(['PATIENT_NUM']).collect()['PATIENT_NUM'].to_list())))"
   ]
  },
  {
   "cell_type": "code",
   "execution_count": null,
   "id": "ad5d551e",
   "metadata": {},
   "outputs": [],
   "source": [
    "np.unique(cohort_df.select('Outcome').collect()['Outcome'].to_list(), return_counts = True)"
   ]
  },
  {
   "cell_type": "code",
   "execution_count": null,
   "id": "8275eddb",
   "metadata": {},
   "outputs": [],
   "source": [
    "#### Number of patients that are present in atleast one of the medications, lab_results and diagnoses before pre-processin\n",
    "cohort_pids = np.unique(cohort_df.select(['PATIENT_NUM']).collect()['PATIENT_NUM'].to_list())\n",
    "med_pids = np.unique(medications_df.select(['PATIENT_NUM']).collect()['PATIENT_NUM'].to_list())\n",
    "dx_pids = np.unique(diagnoses_df.select(['PATIENT_NUM']).collect()['PATIENT_NUM'].to_list())\n",
    "lab_pid = np.unique(lab_results_df.select(['PATIENT_NUM']).collect()['PATIENT_NUM'].to_list())\n",
    "\n",
    "# Convert lists to sets and use the union operation\n",
    "result = set(med_pids) | set(dx_pids) | set(lab_pid) \n",
    "\n",
    "# result = result & set(cohort_pids)\n",
    "\n",
    "# Convert the set back to a list if needed\n",
    "result_list = list(result)\n",
    "\n",
    "# Display the result\n",
    "print(\"Number of patient ids that have data in atleast one of the medications, lab_results and diagnoses: \",len(result_list))\n"
   ]
  },
  {
   "cell_type": "code",
   "execution_count": null,
   "id": "6017b3a9",
   "metadata": {},
   "outputs": [],
   "source": [
    "## saving patient ids who have data across atleast one of the feature dataset\n",
    "with open('determine_patient_ids_required.pkl','wb') as f:\n",
    "    pickle.dump(result_list,f)\n",
    "    "
   ]
  },
  {
   "cell_type": "code",
   "execution_count": null,
   "id": "a3a1ab97",
   "metadata": {},
   "outputs": [],
   "source": [
    "## Loading the patient ids who have data across atleast one of the feature dataset\n",
    "with open('determine_patient_ids_required.pkl', 'rb') as file: \n",
    "    PID_REQ = pickle.load(file) "
   ]
  },
  {
   "cell_type": "code",
   "execution_count": null,
   "id": "6e42a6f2",
   "metadata": {},
   "outputs": [],
   "source": [
    "np.unique(cohort_df.filter(pl.col('PATIENT_NUM').is_in(PID_REQ)).select('Outcome').collect()['Outcome'].to_list(), return_counts = True)"
   ]
  },
  {
   "cell_type": "markdown",
   "id": "885444ee",
   "metadata": {},
   "source": [
    "### EDA for medications\n",
    "#### checks used:\n",
    "##### 1. In function for retrieving active ingrident, response errro ( if  not response 200).\n",
    "##### 2. Store list of RxNorms which dont have active ingridents associated with them."
   ]
  },
  {
   "cell_type": "code",
   "execution_count": null,
   "id": "b3dd904d",
   "metadata": {},
   "outputs": [],
   "source": [
    "medications_df.collect().head()"
   ]
  },
  {
   "cell_type": "code",
   "execution_count": null,
   "id": "d73e70dd",
   "metadata": {},
   "outputs": [],
   "source": [
    "## Number of unique medications ##\n",
    "print(\"Number of unique medications: \",len(np.unique(medications_df.select(['RxNorm']).collect()['RxNorm'].to_list())))"
   ]
  },
  {
   "cell_type": "code",
   "execution_count": null,
   "id": "44d77eaa",
   "metadata": {},
   "outputs": [],
   "source": [
    "## Example usage for active ingrident##\n",
    "rxcui = \"16681\"  # replace with actual RxNorm ID\n",
    "active_ingredients = get_active_ingredient(rxcui)\n",
    "print(\"Active Ingredients:\", active_ingredients)"
   ]
  },
  {
   "cell_type": "code",
   "execution_count": null,
   "id": "5b13aa9b",
   "metadata": {},
   "outputs": [],
   "source": [
    "rxcui = \"7052\"  # Example RxCUI\n",
    "drug_classes = get_drug_class(rxcui)\n",
    "print(f\"Drug classes for RxCUI {rxcui}: {drug_classes}\")"
   ]
  },
  {
   "cell_type": "code",
   "execution_count": null,
   "id": "553d78d1",
   "metadata": {},
   "outputs": [],
   "source": [
    "## Loading mapping of rxnorm to active ingridents list\n",
    "with open('rxnorm_active_ingridents_mapping.pkl', 'rb') as file: \n",
    "    dict_rxnorm_active_ing = pickle.load(file) "
   ]
  },
  {
   "cell_type": "code",
   "execution_count": null,
   "id": "bc10fc64",
   "metadata": {},
   "outputs": [],
   "source": [
    "### Obtaining active ingridients for each unique rxnorm in dataframe ###\n",
    "DONT_RUN = True\n",
    "# Run only once to get active ingridents from API #\n",
    "\n",
    "if DONT_RUN != True:\n",
    "    ## Unique_rxnorms ##\n",
    "    uniq_rxnorm = np.unique(medications_df.select(['RxNorm']).collect()['RxNorm'].to_list()).tolist()\n",
    "    rxnorms_list = []\n",
    "    uniq_active_ing = []\n",
    "\n",
    "\n",
    "    for rxnorm in uniq_rxnorm:\n",
    "        rx_code = rxnorm.split(':')[-1].strip()\n",
    "        rxnorms_list.append(rx_code)\n",
    "        if rx_code in dict_rxnorm_active_ing.items():\n",
    "            uniq_active_ing.append(dict_rxnorm_active_ing[rx_code])\n",
    "        else:\n",
    "            active_ingredients = get_active_ingredient(rx_code)\n",
    "            uniq_active_ing.append(active_ingredients)\n",
    "\n",
    "    ## saving mapping of rxnorm to active ingridents list\n",
    "    with open('rxnorm_active_ingridents_mapping.pkl','wb') as f:\n",
    "        pickle.dump(dict(zip(rxnorms_list,uniq_active_ing)),f)"
   ]
  },
  {
   "cell_type": "code",
   "execution_count": null,
   "id": "bcefdf9d",
   "metadata": {},
   "outputs": [],
   "source": []
  },
  {
   "cell_type": "code",
   "execution_count": null,
   "id": "98d892b0",
   "metadata": {},
   "outputs": [],
   "source": [
    "### mapping rxnorm to active ingredient in medications datafrane ###\n",
    "no_act_ing_codes = []\n",
    "rxnorms_dataframe_list = medications_df.select(['RxNorm']).collect()['RxNorm'].to_list()\n",
    "active_ingredients_list_dataframe = []\n",
    "for rxnorm in rxnorms_dataframe_list:\n",
    "    rx_code = rxnorm.split(':')[-1].strip()\n",
    "    if dict_rxnorm_active_ing[rx_code] == []:\n",
    "        no_act_ing_codes.append(rx_code)\n",
    "        active_ingredients_list_dataframe.append([str(rx_code)]) ### handling codes that dont have active ingredient associated with them\n",
    "        continue\n",
    "    active_ingredients_list_dataframe.append(dict_rxnorm_active_ing[rx_code])"
   ]
  },
  {
   "cell_type": "code",
   "execution_count": null,
   "id": "9f0c3486",
   "metadata": {},
   "outputs": [],
   "source": [
    "len(rxnorms_dataframe_list)"
   ]
  },
  {
   "cell_type": "code",
   "execution_count": null,
   "id": "0fd356b6",
   "metadata": {},
   "outputs": [],
   "source": [
    "### Check:  if retrieved active ingrident list has [] elements\n",
    "count = 0\n",
    "for i in active_ingredients_list_dataframe:\n",
    "    if i ==[]:\n",
    "        count+=1\n",
    "print(count)"
   ]
  },
  {
   "cell_type": "code",
   "execution_count": null,
   "id": "2e82bed8",
   "metadata": {},
   "outputs": [],
   "source": [
    "final_act_ing_list = [\"_\".join(sublist) if len(sublist) > 1 else sublist[0] for sublist in active_ingredients_list_dataframe]"
   ]
  },
  {
   "cell_type": "code",
   "execution_count": null,
   "id": "542fe648",
   "metadata": {},
   "outputs": [],
   "source": [
    "z = []\n",
    "for i in dict_rxnorm_active_ing.values():\n",
    "    if len(z) !=1:\n",
    "        z.append('_'.join(i))\n",
    "    else:\n",
    "        z.append(i[0])"
   ]
  },
  {
   "cell_type": "code",
   "execution_count": null,
   "id": "eeb93712",
   "metadata": {},
   "outputs": [],
   "source": [
    "print(\"Number of unique medications after active ingridents: \", len(np.unique(z)))"
   ]
  },
  {
   "cell_type": "code",
   "execution_count": null,
   "id": "addddbdd",
   "metadata": {},
   "outputs": [],
   "source": [
    "def get_rx_code(element):\n",
    "    return element.split(':')[-1].strip()"
   ]
  },
  {
   "cell_type": "code",
   "execution_count": null,
   "id": "70320dd2",
   "metadata": {},
   "outputs": [],
   "source": [
    "## Adding active ingident data to dataframe\n",
    "medications_df = medications_df.with_columns(pl.Series(name=\"Active_ingrident\", values=final_act_ing_list),\n",
    "                                            pl.col('RxNorm').map_elements(get_rx_code,return_dtype = pl.Utf8).alias('rxcui'))"
   ]
  },
  {
   "cell_type": "code",
   "execution_count": null,
   "id": "e5888825",
   "metadata": {},
   "outputs": [],
   "source": [
    "## filtering patients id based on PID_REQ\n",
    "medications_df = medications_df.filter(pl.col('PATIENT_NUM').is_in(PID_REQ))\n",
    "medications_df.collect().head()"
   ]
  },
  {
   "cell_type": "code",
   "execution_count": null,
   "id": "42ce3d0e",
   "metadata": {
    "scrolled": true
   },
   "outputs": [],
   "source": [
    "## ignoring medications shared by domain expert\n",
    "ignore_rxnorm_codes = [\n",
    "    \"16681\", \"173\", \"1534763\", \"1368001\", \"1368384\", \"1368402\", \n",
    "    \"2627044\", \"1373458\", \"1545149\", \"2404\", \"1488564\", \"1486436\", \n",
    "    \"1727500\", \"1551291\", \"1545653\", \"1598392\", \"2281864\", \"1664314\", \n",
    "    \"1992672\", \"1992684\", \"1992825\", \"60548\", \"4816\", \"25789\", \n",
    "    \"647235\", \"606253\", \"4821\", \"352381\", \"25793\", \"4815\", \n",
    "    \"285129\", \"1007184\", \"51428\", \"1670007\", \"1727493\", \"139825\", \n",
    "    \"274783\", \"1858994\", \"400008\", \"631657\", \"1605101\", \"1008501\", \n",
    "    \"86009\", \"816726\", \"253182\", \"1100699\", \"1243019\", \"475968\", \n",
    "    \"1440051\", \"6809\", \"607999\", \"802646\", \"614348\", \"1043562\", \n",
    "    \"729717\", \"30009\", \"274332\", \"33738\", \"139953\", \"73044\", \n",
    "    \"84108\", \"857974\", \"1991302\", \"593411\", \"2638675\", \"2621880\", \n",
    "    \"2601723\", \"10633\", \"10635\", \"72610\", \"596554\"\n",
    "]\n",
    "\n",
    "#medications_df = medications_df.filter(~pl.col('rxcui').is_in(ignore_rxnorm_codes))\n",
    "act_list_to_drop = [get_active_ingredient(rxcui) for rxcui in ignore_rxnorm_codes]\n",
    "medications_to_drop = [\"_\".join(sublist) if len(sublist) > 1 else sublist[0] for sublist in act_list_to_drop]"
   ]
  },
  {
   "cell_type": "code",
   "execution_count": null,
   "id": "919b9c8e",
   "metadata": {},
   "outputs": [],
   "source": [
    "print(\"Number of unique active ingridents to drop: \",len(medications_to_drop))"
   ]
  },
  {
   "cell_type": "code",
   "execution_count": null,
   "id": "2dcf306a",
   "metadata": {},
   "outputs": [],
   "source": []
  },
  {
   "cell_type": "code",
   "execution_count": null,
   "id": "4749295e",
   "metadata": {},
   "outputs": [],
   "source": [
    "## Obatin the patient_num with the active ingridents to drop later.\n",
    "\n",
    "med_ignore_patient_num = np.unique(medications_df.filter(pl.col('Active_ingrident').is_in(medications_to_drop)).collect()['PATIENT_NUM'].to_list())\n",
    "print(\"Number of patients to ignore: \",len(med_ignore_patient_num))\n",
    "\n",
    "with open('pat_num_ignore_meds.pkl','wb') as f:\n",
    "    pickle.dump(med_ignore_patient_num,f)"
   ]
  },
  {
   "cell_type": "code",
   "execution_count": null,
   "id": "95a4a8cc",
   "metadata": {},
   "outputs": [],
   "source": [
    "medications_df = medications_df.drop(\"rxcui\")"
   ]
  },
  {
   "cell_type": "code",
   "execution_count": null,
   "id": "f2112db9",
   "metadata": {},
   "outputs": [],
   "source": [
    "medications_df.collect().write_parquet(\"Determine_cohort_medications_active_ing.parquet\")"
   ]
  },
  {
   "cell_type": "code",
   "execution_count": null,
   "id": "693ec82e",
   "metadata": {},
   "outputs": [],
   "source": [
    "medications_df.collect().head(10)"
   ]
  },
  {
   "cell_type": "markdown",
   "id": "6454d8e2",
   "metadata": {},
   "source": [
    "### EDA for lab results"
   ]
  },
  {
   "cell_type": "code",
   "execution_count": 36,
   "id": "082bcd5a",
   "metadata": {},
   "outputs": [],
   "source": [
    "######### lab results config ###########\n",
    "class lab_config:\n",
    "    use_only_domain_expert_features =  True\n",
    "    use_all_features = False\n",
    "    units_standardization =True"
   ]
  },
  {
   "cell_type": "code",
   "execution_count": null,
   "id": "5fdda39c",
   "metadata": {},
   "outputs": [],
   "source": [
    "lab_results_df.collect().head()"
   ]
  },
  {
   "cell_type": "markdown",
   "id": "2100e63f",
   "metadata": {},
   "source": [
    "## Check lab results on bp"
   ]
  },
  {
   "cell_type": "code",
   "execution_count": null,
   "id": "12cc5501",
   "metadata": {},
   "outputs": [],
   "source": [
    "lab_results_df.filter(pl.col('LabLOINC').is_in(['LOINC:8480-6','LOINC:8462-4'])).collect()"
   ]
  },
  {
   "cell_type": "markdown",
   "id": "0b4f2a45",
   "metadata": {},
   "source": [
    "## end bp check"
   ]
  },
  {
   "cell_type": "code",
   "execution_count": null,
   "id": "bf6c6a9d",
   "metadata": {},
   "outputs": [],
   "source": [
    "print(\"Number of unique lab loincs: \",len(np.unique(lab_results_df.select('LabLOINC').collect()['LabLOINC'].to_list())))"
   ]
  },
  {
   "cell_type": "code",
   "execution_count": 27,
   "id": "3b27c921",
   "metadata": {},
   "outputs": [],
   "source": [
    "lab_results_df = lab_results_df.filter(~pl.col('Result_Number').is_null())"
   ]
  },
  {
   "cell_type": "code",
   "execution_count": 28,
   "id": "2696eed9",
   "metadata": {},
   "outputs": [
    {
     "data": {
      "text/plain": [
       "(17169840, 7)"
      ]
     },
     "execution_count": 28,
     "metadata": {},
     "output_type": "execute_result"
    }
   ],
   "source": [
    "lab_results_df.collect().shape"
   ]
  },
  {
   "cell_type": "code",
   "execution_count": 31,
   "id": "45d376d0",
   "metadata": {},
   "outputs": [
    {
     "data": {
      "text/plain": [
       "['LOINC:100150-2', 'LOINC:100151-0', 'LOINC:100152-8']"
      ]
     },
     "execution_count": 31,
     "metadata": {},
     "output_type": "execute_result"
    }
   ],
   "source": [
    "### appending 'LOINC:' prefix for hem loincs\n",
    "de_lr_features = ['LOINC:'+code for code in hem_loics]\n",
    "de_lr_features[:3]"
   ]
  },
  {
   "cell_type": "code",
   "execution_count": 32,
   "id": "837707b8",
   "metadata": {},
   "outputs": [],
   "source": [
    "unique_dataset_loincs = np.unique(lab_results_df.select('LabLOINC').collect()['LabLOINC'].to_list()).tolist()\n",
    "    "
   ]
  },
  {
   "cell_type": "code",
   "execution_count": 33,
   "id": "5546214d",
   "metadata": {},
   "outputs": [
    {
     "data": {
      "text/plain": [
       "['LOINC:10330-9',\n",
       " 'LOINC:10334-1',\n",
       " 'LOINC:10343-2',\n",
       " 'LOINC:10360-6',\n",
       " 'LOINC:10365-5']"
      ]
     },
     "execution_count": 33,
     "metadata": {},
     "output_type": "execute_result"
    }
   ],
   "source": [
    "unique_dataset_loincs[:5]"
   ]
  },
  {
   "cell_type": "markdown",
   "id": "4f48f32c",
   "metadata": {},
   "source": [
    "##### Creating two different feature sets (  domain expert vs all features)"
   ]
  },
  {
   "cell_type": "code",
   "execution_count": null,
   "id": "6330a538",
   "metadata": {},
   "outputs": [],
   "source": [
    "if lab_config.use_only_domain_expert_features:\n",
    "    unique_dataset_loincs = np.unique(lab_results_df.select('LabLOINC').collect()['LabLOINC'].to_list()).tolist()\n",
    "    common_loincs = list(set(de_lr_features) & set(unique_dataset_loincs))\n",
    "    print('Number of domain expert features present in dataset',len(common_loincs))\n",
    "    lab_results_de_loincs_df = lab_results_df.filter(pl.col(\"LabLOINC\").is_in(common_loincs))\n",
    "    \n",
    "    lab_results_de_loincs_df.collect().write_parquet(\"Determine_cohort_labresults_domain_expert.parquet\")\n",
    "    "
   ]
  },
  {
   "cell_type": "markdown",
   "id": "60faf91c",
   "metadata": {},
   "source": [
    "#### Units check for each lab result"
   ]
  },
  {
   "cell_type": "code",
   "execution_count": null,
   "id": "0fa3baaa",
   "metadata": {},
   "outputs": [],
   "source": []
  },
  {
   "cell_type": "code",
   "execution_count": null,
   "id": "7ebe5079",
   "metadata": {},
   "outputs": [],
   "source": []
  },
  {
   "cell_type": "markdown",
   "id": "be27099f",
   "metadata": {},
   "source": [
    "#### Preparing different configurations of lab results (latest, mean and temporal[latest, oldest, mean])"
   ]
  },
  {
   "cell_type": "code",
   "execution_count": null,
   "id": "111f2aa6",
   "metadata": {},
   "outputs": [],
   "source": []
  },
  {
   "cell_type": "markdown",
   "id": "12bfeb4c",
   "metadata": {},
   "source": [
    "### EDA for diagnoses"
   ]
  },
  {
   "cell_type": "code",
   "execution_count": null,
   "id": "47de7976",
   "metadata": {},
   "outputs": [],
   "source": [
    "class diag_config:\n",
    "    use_phecodes =  True\n",
    "    use_n_chars = True\n",
    "    n_icd_chars = 5\n",
    "    "
   ]
  },
  {
   "cell_type": "code",
   "execution_count": null,
   "id": "cb610d7f",
   "metadata": {},
   "outputs": [],
   "source": [
    "# Phecodes\n",
    "icd10_phe = pl.read_csv('./icd_code_to_phecode/Phecode_map_v1_2_icd10cm_beta.csv')\n",
    "icd9_phe_v1 =  pl.read_csv('./icd_code_to_phecode/phecode_map_v1_2_icd9.csv',infer_schema_length=100000)\n",
    "icd9_phe_v2 = pyreadr.read_r(\"./icd_code_to_phecode/phemap (1).rda\")['phemap'].drop_duplicates(subset=['icd9'])\n",
    "\n",
    "def read_icd_mappings(file_path):\n",
    "    icd_mapping = {}\n",
    "\n",
    "    # Open the file and read it line by line\n",
    "    with open(file_path, 'r') as file:\n",
    "        for line in file:\n",
    "            # Strip any white space and split by the delimiter '|'\n",
    "            parts = line.strip().split('|')\n",
    "            if len(parts) >= 2:\n",
    "                icd9_code = parts[0]\n",
    "                icd10_code = parts[1]\n",
    "\n",
    "                # Store the mapping in the dictionary\n",
    "                icd_mapping[icd9_code] = icd10_code\n",
    "\n",
    "    return icd_mapping\n",
    "\n",
    "file_path = './icd_code_to_phecode/icd9to10dictionary.txt'\n",
    "icd9_to_10_mapping_dict = read_icd_mappings(file_path)"
   ]
  },
  {
   "cell_type": "code",
   "execution_count": null,
   "id": "70bbf4ba",
   "metadata": {
    "scrolled": true
   },
   "outputs": [],
   "source": [
    "### dicts for mapping ###\n",
    "icd10_phe_dict = dict(zip(icd10_phe['ICD10CM'].to_list(), icd10_phe['PHECODE'].to_list()))\n",
    "icd9_phe_dict_v1 = dict(zip(icd9_phe_v1['ICD9'].to_list(), icd9_phe_v1['PheCode'].to_list()))\n",
    "icd9_phe_dict_v2 = dict(zip(icd9_phe_v2['icd9'].to_list(), icd9_phe_v2['phecode'].to_list()))"
   ]
  },
  {
   "cell_type": "code",
   "execution_count": null,
   "id": "a45424d0",
   "metadata": {},
   "outputs": [],
   "source": [
    "diagnoses_df.head().collect()"
   ]
  },
  {
   "cell_type": "code",
   "execution_count": null,
   "id": "c031bacc",
   "metadata": {},
   "outputs": [],
   "source": [
    "from icdmappings import Mapper\n",
    "\n",
    "mapper = Mapper()\n",
    "icd9_code = \"25000\"  # Example ICD-9 code\n",
    "icd10_codes = mapper.map(icd9_code, source='icd9', target='icd10')\n",
    "if icd10_codes:\n",
    "    print(f\"ICD-10 codes for {icd9_code}: {icd10_codes}\")\n",
    "else:\n",
    "    print(f\"No ICD-10 codes found for {icd9_code}\")"
   ]
  },
  {
   "cell_type": "code",
   "execution_count": null,
   "id": "8c398e4f",
   "metadata": {},
   "outputs": [],
   "source": [
    "def convert_icd9_to_icd10(icd9):\n",
    "    mapper = Mapper()\n",
    "    icd10_code = mapper.map(icd9_code, source='icd9', target='icd10')\n",
    "    if icd10_code:\n",
    "        return icd10_code\n",
    "    else:\n",
    "        return 'ICD9CM:'+icd9\n",
    "\n",
    "def standardize_concept_cd(code):\n",
    "    if code.startswith('ICD10CM'):\n",
    "        return code.split(':')[-1]\n",
    "    elif code.startswith('ICD9'):\n",
    "        return convert_icd9_to_icd10(code.split(':')[-1].replace('.',''))\n",
    "    \n",
    "def get_first_n_char_icdcode(std_icd_code, n = diag_config.n_icd_chars):\n",
    "    if std_icd_code.startswith('ICD9'):\n",
    "        return std_icd_code\n",
    "    else:\n",
    "        if len(std_icd_code)>3:\n",
    "            new_code = std_icd_code[:5]\n",
    "            return new_code[:n]\n",
    "        else:\n",
    "            return std_icd_code\n",
    "        \n",
    "def get_phecode_from_concept_cd(cd):\n",
    "    if cd.startswith('ICD10CM'):\n",
    "        \n",
    "        if cd.startswith(\"ICD10CM:Z\"):\n",
    "            return cd.split('.')[0]\n",
    "        \n",
    "        icd_code = cd.split(':')[-1]\n",
    "        try:\n",
    "            phecode = str(icd10_phe_dict[icd_code])\n",
    "            if phecode  =='1010.0':\n",
    "                return cd.split('.')[0]\n",
    "            return phecode\n",
    "        except:\n",
    "            \n",
    "            return cd\n",
    "        \n",
    "    elif cd.startswith('ICD9CM'):\n",
    "        icd_code = cd.split(':')[-1]\n",
    "        try:\n",
    "            phecode = str(icd9_phe_dict_v2[icd_code])\n",
    "            if phecode =='1010.0':\n",
    "                        return cd.split('.')[0]\n",
    "            return phecode\n",
    "        except:\n",
    "            try:\n",
    "                phecode  = str(icd9_phe_dict_v1[icd_code])\n",
    "                if phecode =='1010.0':\n",
    "                        return cd.split('.')[0]\n",
    "                return phecode\n",
    "            \n",
    "            except:\n",
    "                try: #convert icd9 code to icd10 and try phemap\n",
    "                    phecode = icd10_phe_dict(icd9_to_10_mapping_dict(icd_code))\n",
    "                    if phecode =='1010.0':\n",
    "                        return cd.split('.')[0]\n",
    "                    return phecode\n",
    "                except:\n",
    "                    \n",
    "                    return cd\n",
    "    else:\n",
    "        return cd\n",
    "# def get_phe_code()"
   ]
  },
  {
   "cell_type": "code",
   "execution_count": null,
   "id": "750ca160",
   "metadata": {},
   "outputs": [],
   "source": [
    "diagnoses_df.collect().head()"
   ]
  },
  {
   "cell_type": "code",
   "execution_count": null,
   "id": "b9d5d10d",
   "metadata": {},
   "outputs": [],
   "source": []
  },
  {
   "cell_type": "code",
   "execution_count": null,
   "id": "9c4cd5b6",
   "metadata": {},
   "outputs": [],
   "source": [
    "print(\"Number of unique ICD codes: \", len(np.unique(diagnoses_df.select('CONCEPT_CD').collect()['CONCEPT_CD'].to_list())))\n",
    "print(\"Number of unique ICD 10 codes: \", len(np.unique(diagnoses_df.select('CONCEPT_CD').filter(pl.col('CONCEPT_CD').str.contains('ICD10')).collect()['CONCEPT_CD'].to_list())))\n",
    "print(\"Number of unique ICD 9 codes: \", len(np.unique(diagnoses_df.select('CONCEPT_CD').filter(pl.col('CONCEPT_CD').str.contains('ICD9')).collect()['CONCEPT_CD'].to_list())))"
   ]
  },
  {
   "cell_type": "code",
   "execution_count": null,
   "id": "d32dbb4b",
   "metadata": {},
   "outputs": [],
   "source": [
    "icd9_codes = np.unique(diagnoses_df.select('CONCEPT_CD').filter(pl.col('CONCEPT_CD').str.contains('ICD9')).collect()['CONCEPT_CD'].to_list())"
   ]
  },
  {
   "cell_type": "code",
   "execution_count": null,
   "id": "43ce1cfb",
   "metadata": {},
   "outputs": [],
   "source": [
    "len(icd9_codes)"
   ]
  },
  {
   "cell_type": "markdown",
   "id": "449c92ce",
   "metadata": {},
   "source": [
    "### Initial 4 chars for diagnoses"
   ]
  },
  {
   "cell_type": "code",
   "execution_count": null,
   "id": "912f066c",
   "metadata": {},
   "outputs": [],
   "source": [
    "if diag_config.use_n_chars:\n",
    "    diagnoses_df_n_chars = diagnoses_df.with_columns(pl.col('CONCEPT_CD').map_elements(standardize_concept_cd,return_dtype = pl.Utf8).alias('standardized_icd10_codes'))\n",
    "    diagnoses_df_n_chars = diagnoses_df_n_chars.with_columns(pl.col('standardized_icd10_codes').map_elements(get_first_n_char_icdcode,return_dtype = pl.Utf8).alias('get_first_'+str(diag_config.n_icd_chars)+'_char_icdcode'))"
   ]
  },
  {
   "cell_type": "code",
   "execution_count": null,
   "id": "44906e8d",
   "metadata": {},
   "outputs": [],
   "source": [
    "diagnoses_df_n_chars.collect().head()"
   ]
  },
  {
   "cell_type": "code",
   "execution_count": null,
   "id": "9f7939e5",
   "metadata": {},
   "outputs": [],
   "source": [
    "diagnoses_df_n_chars.null_count().collect()"
   ]
  },
  {
   "cell_type": "code",
   "execution_count": null,
   "id": "ec2dbdf5",
   "metadata": {},
   "outputs": [],
   "source": [
    "diagnoses_df_n_chars.filter(pl.col('standardized_icd10_codes').is_null()).collect()"
   ]
  },
  {
   "cell_type": "code",
   "execution_count": null,
   "id": "d491204a",
   "metadata": {},
   "outputs": [],
   "source": [
    "if diag_config.use_n_chars:\n",
    "    diagnoses_df_n_chars = diagnoses_df_n_chars.drop_nulls()\n",
    "    print(\"Number of unique ICD codes after initial 4 chars: \",len(np.unique(diagnoses_df_n_chars.select('get_first_'+str(diag_config.n_icd_chars)+'_char_icdcode').collect()['get_first_'+str(diag_config.n_icd_chars)+'_char_icdcode'].to_list())))\n",
    "    diagnoses_df_n_chars.collect().write_parquet('Determine_cohort_diagnoses_initail_'+str(diag_config.n_icd_chars)+'_chars.parquet')"
   ]
  },
  {
   "cell_type": "markdown",
   "id": "affb9508",
   "metadata": {},
   "source": [
    "### Phecodes_v1 (legacy)"
   ]
  },
  {
   "cell_type": "code",
   "execution_count": null,
   "id": "91d5e2a4",
   "metadata": {},
   "outputs": [],
   "source": [
    "icd10_phecode_map.head()"
   ]
  },
  {
   "cell_type": "code",
   "execution_count": null,
   "id": "59c16354",
   "metadata": {},
   "outputs": [],
   "source": [
    "len(np.unique(icd10_phecode_map['PHECODE'].to_list()))"
   ]
  },
  {
   "cell_type": "code",
   "execution_count": null,
   "id": "469485a9",
   "metadata": {},
   "outputs": [],
   "source": [
    "icd10cm_to_phecode_dict = dict(zip(icd10_phecode_map['ICD10CM'].to_list(), icd10_phecode_map['PHECODE'].to_list()))"
   ]
  },
  {
   "cell_type": "code",
   "execution_count": null,
   "id": "63a1e5bc",
   "metadata": {},
   "outputs": [],
   "source": [
    "def icd10_to_phecode_map_func(icd10code):\n",
    "    if icd10code in list(icd10cm_to_phecode_dict.keys()):\n",
    "        return str(icd10cm_to_phecode_dict[icd10code])\n",
    "    else:\n",
    "        return \"\"str(icd10code)"
   ]
  },
  {
   "cell_type": "code",
   "execution_count": null,
   "id": "dc0e59ed",
   "metadata": {},
   "outputs": [],
   "source": [
    "diagnoses_df = diagnoses_df.with_columns(pl.col('CONCEPT_CD').map_elements(standardize_concept_cd,return_dtype = pl.Utf8).alias('standardized_icd10_codes'))"
   ]
  },
  {
   "cell_type": "code",
   "execution_count": null,
   "id": "f9a07bbf",
   "metadata": {
    "scrolled": true
   },
   "outputs": [],
   "source": [
    "diagnoses_df.collect().head()"
   ]
  },
  {
   "cell_type": "code",
   "execution_count": null,
   "id": "dda4f440",
   "metadata": {},
   "outputs": [],
   "source": [
    "diagnoses_df = diagnoses_df.with_columns(\n",
    "    pl.when(pl.col('standardized_icd10_codes').is_in(list(icd10cm_to_phecode_dict.keys())))\n",
    "    .then(pl.col('standardized_icd10_codes').replace(icd10cm_to_phecode_dict))\n",
    "    .otherwise(pl.col('CONCEPT_CD'))\n",
    "    .cast(pl.Utf8)\n",
    "    .alias('phecode_map')\n",
    ")"
   ]
  },
  {
   "cell_type": "code",
   "execution_count": null,
   "id": "60ad3adc",
   "metadata": {},
   "outputs": [],
   "source": [
    "diagnoses_df.collect().head()"
   ]
  },
  {
   "cell_type": "code",
   "execution_count": null,
   "id": "f2702819",
   "metadata": {},
   "outputs": [],
   "source": [
    "diagnoses_df.null_count().collect()"
   ]
  },
  {
   "cell_type": "code",
   "execution_count": null,
   "id": "ddb9409a",
   "metadata": {},
   "outputs": [],
   "source": [
    "diagnoses_df = diagnoses_df.drop_nulls()"
   ]
  },
  {
   "cell_type": "code",
   "execution_count": null,
   "id": "3c375b32",
   "metadata": {},
   "outputs": [],
   "source": [
    "print(\"Number if unique codes after phecode map: \",len(np.unique(diagnoses_df.filter(~pl.col('standardized_icd10_codes').is_null())\n",
    "                                                                 .select('phecode_map').collect()['phecode_map'].to_list())))"
   ]
  },
  {
   "cell_type": "code",
   "execution_count": null,
   "id": "a1cfd128",
   "metadata": {},
   "outputs": [],
   "source": [
    "print(\"Number if unique codes which cannot be converted after phecode map: \",len(np.unique(diagnoses_df.filter(pl.col('phecode_map').str.starts_with('ICD'))\n",
    "                                                                .select('phecode_map').collect()['phecode_map'].to_list())))"
   ]
  },
  {
   "cell_type": "code",
   "execution_count": null,
   "id": "d8984528",
   "metadata": {},
   "outputs": [],
   "source": [
    "diagnoses_df.collect().write_parquet(\"Determine_cohort_diagnoses_phecode_map.parquet\")"
   ]
  },
  {
   "cell_type": "markdown",
   "id": "b2a7eb7f",
   "metadata": {},
   "source": [
    "### Phecode v2 (Standardizing from ICD9 and ICD10)"
   ]
  },
  {
   "cell_type": "code",
   "execution_count": null,
   "id": "00cdd0a1",
   "metadata": {},
   "outputs": [],
   "source": [
    "diagnoses_df = diagnoses_df.with_columns(pl.col('CONCEPT_CD').map_elements(get_phecode_from_concept_cd,return_dtype = pl.Utf8).alias('phecode_map'))"
   ]
  },
  {
   "cell_type": "code",
   "execution_count": null,
   "id": "88b82454",
   "metadata": {
    "scrolled": true
   },
   "outputs": [],
   "source": [
    "diagnoses_df.collect().head()"
   ]
  },
  {
   "cell_type": "code",
   "execution_count": null,
   "id": "4fcb6aa7",
   "metadata": {},
   "outputs": [],
   "source": [
    "diagnoses_df.null_count().collect()"
   ]
  },
  {
   "cell_type": "code",
   "execution_count": null,
   "id": "7154e3bc",
   "metadata": {},
   "outputs": [],
   "source": [
    "diag_null_phe_df = diagnoses_df.filter(pl.col('phecode_map').is_null())"
   ]
  },
  {
   "cell_type": "code",
   "execution_count": null,
   "id": "2a070450",
   "metadata": {},
   "outputs": [],
   "source": [
    "len(np.unique(diag_null_phe_df.filter(pl.col('CONCEPT_CD').str.starts_with('ICD10')).collect()['CONCEPT_CD'].to_list()))"
   ]
  },
  {
   "cell_type": "code",
   "execution_count": null,
   "id": "d78c4dc0",
   "metadata": {},
   "outputs": [],
   "source": [
    "diagnoses_df.filter(#(pl.col('phecode_map').str.starts_with('1010')) & \n",
    "                   (pl.col('CONCEPT_CD').str.starts_with('ICD10CM:Z68.3'))).collect()"
   ]
  },
  {
   "cell_type": "code",
   "execution_count": null,
   "id": "6a9e6339",
   "metadata": {},
   "outputs": [],
   "source": [
    "icd_codes_not_phe = np.unique(diagnoses_df.filter(#(pl.col('phecode_map').str.starts_with('1010')) & \n",
    "                   (pl.col('phecode_map').str.starts_with('ICD'))).collect()['phecode_map'].to_list())"
   ]
  },
  {
   "cell_type": "code",
   "execution_count": null,
   "id": "303429f7",
   "metadata": {},
   "outputs": [],
   "source": [
    "len(icd_codes_not_phe)"
   ]
  },
  {
   "cell_type": "code",
   "execution_count": null,
   "id": "f89dadd9",
   "metadata": {},
   "outputs": [],
   "source": [
    "icd_codes_not_phe[:500]"
   ]
  },
  {
   "cell_type": "code",
   "execution_count": null,
   "id": "7c44256e",
   "metadata": {},
   "outputs": [],
   "source": [
    "def get_initial_char_for_icd_codes(code):\n",
    "    if code.startswith(\"ICD10CM\"):\n",
    "        return code.split('.')[0]\n",
    "    else:\n",
    "        return code"
   ]
  },
  {
   "cell_type": "code",
   "execution_count": null,
   "id": "fe853b6b",
   "metadata": {},
   "outputs": [],
   "source": [
    "diagnoses_df = diagnoses_df.with_columns(pl.col(\"phecode_map\").map_elements(get_initial_char_for_icd_codes, return_dtype = pl.Utf8).alias(\"phecode_map\"))"
   ]
  },
  {
   "cell_type": "code",
   "execution_count": null,
   "id": "2a189ee9",
   "metadata": {
    "scrolled": true
   },
   "outputs": [],
   "source": [
    "icd10_codes = diagnoses_df.filter(pl.col('phecode_map').str.starts_with('ICD10CM:')).collect()['phecode_map'].to_list()\n",
    "first_characters = [code.split(':')[1].split('.')[0] for code in icd10_codes]\n",
    "print(\"Number of phecodes that start with ICD10: ,\", np.unique(icd10_codes))"
   ]
  },
  {
   "cell_type": "code",
   "execution_count": null,
   "id": "f94c4838",
   "metadata": {},
   "outputs": [],
   "source": [
    "icd9_codes = diagnoses_df.filter(pl.col('phecode_map').str.starts_with('ICD9CM')).collect()['phecode_map'].to_list()\n",
    "#first_characters = [code.split(':')[1].split('.')[0] for code in icd10_codes]\n",
    "print(\"Number of phecodes that start with ICD9: ,\", np.unique(icd9_codes))"
   ]
  },
  {
   "cell_type": "code",
   "execution_count": null,
   "id": "2495d90e",
   "metadata": {},
   "outputs": [],
   "source": [
    "print(\"Number if unique codes after phecode map: \",len(np.unique(diagnoses_df\n",
    "                                                                 .select('phecode_map').collect()['phecode_map'].to_list())))"
   ]
  },
  {
   "cell_type": "markdown",
   "id": "ea23e4d8",
   "metadata": {},
   "source": [
    "#### Creating two diagnoses datasets one with Z codes other without these codes"
   ]
  },
  {
   "cell_type": "code",
   "execution_count": null,
   "id": "fafdfc83",
   "metadata": {},
   "outputs": [],
   "source": [
    "diagnoses_df.collect().write_parquet(\"Determine_cohort_diagnoses_phecode_map_v2_with_z_codes.parquet\")"
   ]
  },
  {
   "cell_type": "code",
   "execution_count": null,
   "id": "7e23e4fc",
   "metadata": {},
   "outputs": [],
   "source": [
    "diagnoses_df_without_icd10z = diagnoses_df.filter(~pl.col('phecode_map').str.starts_with('ICD10CM:Z'))\n",
    "diagnoses_df_without_icd10z.collect().write_parquet(\"Determine_cohort_diagnoses_phecode_map_v2_without_z_codes.parquet\")"
   ]
  },
  {
   "cell_type": "markdown",
   "id": "3133dbf4",
   "metadata": {},
   "source": [
    "### Archive code for diagnoses"
   ]
  },
  {
   "cell_type": "code",
   "execution_count": null,
   "id": "80ba8e6e",
   "metadata": {},
   "outputs": [],
   "source": [
    "diagnoses_df"
   ]
  },
  {
   "cell_type": "code",
   "execution_count": null,
   "id": "4dc53827",
   "metadata": {},
   "outputs": [],
   "source": [
    "icd10_phecode_map.shape"
   ]
  },
  {
   "cell_type": "code",
   "execution_count": null,
   "id": "aae083f1",
   "metadata": {},
   "outputs": [],
   "source": [
    "#### ICD 10 codes from phecodes ###\n",
    "phe_icd10_codes = icd10_phecode_map['ICD10CM'].to_list()"
   ]
  },
  {
   "cell_type": "code",
   "execution_count": null,
   "id": "d52dddf3",
   "metadata": {},
   "outputs": [],
   "source": [
    "### ICD 10 codes from dataframe ###\n",
    "icd10_from_df = np.unique(diagnoses_df.filter(~pl.col('standardized_icd10_codes').is_null())\n",
    "                          .select('standardized_icd10_codes')\n",
    "                          .collect()['standardized_icd10_codes'].to_list())"
   ]
  },
  {
   "cell_type": "code",
   "execution_count": null,
   "id": "8b4dbfaa",
   "metadata": {},
   "outputs": [],
   "source": [
    "icd10_from_df"
   ]
  },
  {
   "cell_type": "code",
   "execution_count": null,
   "id": "6515ca88",
   "metadata": {},
   "outputs": [],
   "source": [
    "common_elements = np.intersect1d(icd10_from_df, phe_icd10_codes)"
   ]
  },
  {
   "cell_type": "code",
   "execution_count": null,
   "id": "8bf443ec",
   "metadata": {},
   "outputs": [],
   "source": [
    "len(common_elements)"
   ]
  },
  {
   "cell_type": "code",
   "execution_count": null,
   "id": "6c2b8634",
   "metadata": {},
   "outputs": [],
   "source": [
    "len(icd10_from_df)"
   ]
  },
  {
   "cell_type": "code",
   "execution_count": null,
   "id": "69b61bf7",
   "metadata": {},
   "outputs": [],
   "source": [
    "# Find elements in `sample_array` that are not in `list_set`\n",
    "elements_in_array_not_in_list = np.setdiff1d(icd10_from_df, phe_icd10_codes)"
   ]
  },
  {
   "cell_type": "code",
   "execution_count": null,
   "id": "b49650a5",
   "metadata": {},
   "outputs": [],
   "source": [
    "len(elements_in_array_not_in_list)"
   ]
  },
  {
   "cell_type": "code",
   "execution_count": null,
   "id": "34e20026",
   "metadata": {},
   "outputs": [],
   "source": [
    "elements_in_array_not_in_list[:10]"
   ]
  },
  {
   "cell_type": "markdown",
   "id": "cc05c903",
   "metadata": {},
   "source": [
    "### EDA for target variable"
   ]
  },
  {
   "cell_type": "code",
   "execution_count": null,
   "id": "00cb1431",
   "metadata": {},
   "outputs": [],
   "source": [
    "cohort_df.collect().head()"
   ]
  },
  {
   "cell_type": "code",
   "execution_count": null,
   "id": "ead54f61",
   "metadata": {},
   "outputs": [],
   "source": [
    "list_outcome_years = cohort_df.filter(~pl.col('FirstOutcomeDate').is_null()).with_columns(\n",
    "        pl.col(\"FirstOutcomeDate\").dt.year().alias(\"year_from_date\")\n",
    "    ).select('year_from_date').collect()['year_from_date'].to_list()"
   ]
  },
  {
   "cell_type": "code",
   "execution_count": null,
   "id": "546dc4c3",
   "metadata": {},
   "outputs": [],
   "source": [
    "np.unique(list_outcome_years, return_counts = True)"
   ]
  },
  {
   "cell_type": "code",
   "execution_count": null,
   "id": "cee9ae7a",
   "metadata": {},
   "outputs": [],
   "source": [
    "cohort_df = cohort_df.filter(pl.col('PATIENT_NUM').is_in(PID_REQ))"
   ]
  },
  {
   "cell_type": "code",
   "execution_count": null,
   "id": "1dc731bf",
   "metadata": {},
   "outputs": [],
   "source": [
    "cohort_df.collect().head()"
   ]
  },
  {
   "cell_type": "code",
   "execution_count": null,
   "id": "aded248c",
   "metadata": {},
   "outputs": [],
   "source": [
    "### Transforming the age feature to groups"
   ]
  },
  {
   "cell_type": "code",
   "execution_count": null,
   "id": "26d2b442",
   "metadata": {},
   "outputs": [],
   "source": [
    "cohort_df = cohort_df.with_columns(pl.col('Age_at_encounter_date').map_elements(lambda x : '18-34' if x <= 34 \\\n",
    "                                                        else '35-44' if 35<=x<=44 else '45-54'\\\n",
    "                                                        if 45<=x<=54 else '55-64' if 55<=x<=64 else \\\n",
    "                                                        '65-74' if  65<=x<=74 else '75_older').alias('Age_group'))"
   ]
  },
  {
   "cell_type": "code",
   "execution_count": null,
   "id": "488a27b9",
   "metadata": {},
   "outputs": [],
   "source": [
    "cohort_df.collect().head()"
   ]
  },
  {
   "cell_type": "markdown",
   "id": "a45e9d91",
   "metadata": {},
   "source": [
    "## EDA for demographics "
   ]
  },
  {
   "cell_type": "code",
   "execution_count": null,
   "id": "9dfd778d",
   "metadata": {},
   "outputs": [],
   "source": [
    "demographics_df.collect().head()"
   ]
  },
  {
   "cell_type": "code",
   "execution_count": null,
   "id": "9a860b1b",
   "metadata": {},
   "outputs": [],
   "source": [
    "np.unique(demographics_df.select('Gender_CD').collect()['Gender_CD'].to_list())"
   ]
  },
  {
   "cell_type": "code",
   "execution_count": null,
   "id": "6ff08a64",
   "metadata": {},
   "outputs": [],
   "source": [
    "PID_REQ[:4]"
   ]
  },
  {
   "cell_type": "code",
   "execution_count": null,
   "id": "67cc86a8",
   "metadata": {},
   "outputs": [],
   "source": [
    "demographics_df = demographics_df.filter(pl.col('Patient_num').is_in(PID_REQ))"
   ]
  },
  {
   "cell_type": "code",
   "execution_count": null,
   "id": "86279c25",
   "metadata": {},
   "outputs": [],
   "source": [
    "def clean_prefix_data(value):\n",
    "    return value.split(':')[-1]"
   ]
  },
  {
   "cell_type": "code",
   "execution_count": null,
   "id": "b36971df",
   "metadata": {},
   "outputs": [],
   "source": [
    "demographics_df = demographics_df.with_columns( pl.col('Sex_CD').map_elements(clean_prefix_data, return_dtype = pl.Utf8).alias('Sex_CD'),\n",
    "                                               pl.col('Race_CD').map_elements(clean_prefix_data, return_dtype = pl.Utf8).alias('Race_CD'),\n",
    "                                               pl.col('Hispanic_CD').map_elements(clean_prefix_data, return_dtype = pl.Utf8).alias('Hispanic_CD'),\n",
    "                                               pl.col('Gender_CD').map_elements(clean_prefix_data, return_dtype = pl.Utf8).alias('Gender_CD')\n",
    "                                  )"
   ]
  },
  {
   "cell_type": "code",
   "execution_count": null,
   "id": "4badab75",
   "metadata": {},
   "outputs": [],
   "source": [
    "demographics_df.head().collect()"
   ]
  },
  {
   "cell_type": "code",
   "execution_count": null,
   "id": "4d053c31",
   "metadata": {},
   "outputs": [],
   "source": [
    "race_codes = {\n",
    "    \"01\": \"American Indian or Alaska Native\",\n",
    "    \"02\": \"Asian\",\n",
    "    \"03\": \"Black or African American\",\n",
    "    \"04\": \"Native Hawaiian or Other Pacific Islander\",\n",
    "    \"05\": \"White\",\n",
    "    \"06\": \"Multiple race\",\n",
    "    \"07\": \"Refuse to answer\",\n",
    "    \"NI\": \"No information\",\n",
    "    \"OT\": \"Other\",\n",
    "    \"UN\": \"Unknown/missing\"\n",
    "}\n",
    "\n",
    "result = (\n",
    "    demographics_df\n",
    "    .group_by('Race_CD')\n",
    "    .agg([\n",
    "        pl.count('Race_CD').alias('count'),\n",
    "        (pl.count('Race_CD') / len(demographics_df.collect()) * 100).alias('percentage')\n",
    "    ])\n",
    ")\n",
    "\n",
    "result.collect()"
   ]
  },
  {
   "cell_type": "code",
   "execution_count": null,
   "id": "f0da1ad3",
   "metadata": {},
   "outputs": [],
   "source": [
    "result.with_columns(pl.col('Race_CD').replace_strict(race_codes).alias('Race_CD')).collect()"
   ]
  },
  {
   "cell_type": "code",
   "execution_count": null,
   "id": "464c4e54",
   "metadata": {},
   "outputs": [],
   "source": [
    "np.unique(demographics_df.select('Race_CD').collect()['Race_CD'].to_list())"
   ]
  },
  {
   "cell_type": "code",
   "execution_count": null,
   "id": "08707030",
   "metadata": {},
   "outputs": [],
   "source": [
    "# Values to be replaced\n",
    "values_to_replace = [\"06\", \"07\"]\n",
    "replacement_value = \"UN\"\n",
    "\n",
    "# Replace multiple values with a single value\n",
    "demographics_df = demographics_df.with_columns(\n",
    "    pl.when(pl.col(\"Race_CD\").is_in(values_to_replace))\n",
    "    .then(pl.lit(replacement_value))\n",
    "    .otherwise(pl.col(\"Race_CD\"))\n",
    "    .alias(\"Race_CD\"))"
   ]
  },
  {
   "cell_type": "code",
   "execution_count": null,
   "id": "e8a9ea62",
   "metadata": {},
   "outputs": [],
   "source": [
    "demographics_df.collect().head()"
   ]
  },
  {
   "cell_type": "code",
   "execution_count": null,
   "id": "0198f684",
   "metadata": {},
   "outputs": [],
   "source": [
    "demographics_df.collect().write_parquet('Determine_modeling_demographics_data.parquet')"
   ]
  },
  {
   "cell_type": "markdown",
   "id": "0c742d26",
   "metadata": {},
   "source": [
    "## EDA for BMI and BP"
   ]
  },
  {
   "cell_type": "markdown",
   "id": "e5c1e2ad",
   "metadata": {},
   "source": [
    "### BMI (Legacy)"
   ]
  },
  {
   "cell_type": "code",
   "execution_count": null,
   "id": "c702ed4d",
   "metadata": {},
   "outputs": [],
   "source": [
    "bmi_bP_df.collect().head()"
   ]
  },
  {
   "cell_type": "code",
   "execution_count": null,
   "id": "69b8cb4c",
   "metadata": {},
   "outputs": [],
   "source": [
    "bmi_bP_df = bmi_bP_df.cast({'NVAL_NUM': pl.Float32})"
   ]
  },
  {
   "cell_type": "code",
   "execution_count": null,
   "id": "2d184240",
   "metadata": {},
   "outputs": [],
   "source": [
    "### filtering BMI data\n",
    "bmi_df = bmi_bP_df.filter(pl.col('CONCEPT_CD').str.contains('VIT\\|BMI'))"
   ]
  },
  {
   "cell_type": "code",
   "execution_count": null,
   "id": "d74cfe24",
   "metadata": {},
   "outputs": [],
   "source": [
    "bmi_df.collect().head()"
   ]
  },
  {
   "cell_type": "code",
   "execution_count": null,
   "id": "c2253411",
   "metadata": {},
   "outputs": [],
   "source": [
    "bmi_df.collect().null_count()"
   ]
  },
  {
   "cell_type": "code",
   "execution_count": null,
   "id": "e2195ac5",
   "metadata": {},
   "outputs": [],
   "source": [
    "print(\"Number of unique patients: \",len(np.unique(bmi_df.select('PATIENT_NUM').collect()['PATIENT_NUM'].to_list())))"
   ]
  },
  {
   "cell_type": "code",
   "execution_count": null,
   "id": "2aba4fb1",
   "metadata": {},
   "outputs": [],
   "source": [
    "print(\"Number of records: \",bmi_df.collect().shape)"
   ]
  },
  {
   "cell_type": "code",
   "execution_count": null,
   "id": "abc1237d",
   "metadata": {},
   "outputs": [],
   "source": [
    "print(\"Number of unique BMI CONCEPT_CD ranges : \", np.unique(bmi_df.select('CONCEPT_CD').collect()['CONCEPT_CD'].to_list()))"
   ]
  },
  {
   "cell_type": "code",
   "execution_count": null,
   "id": "428bf44f",
   "metadata": {},
   "outputs": [],
   "source": [
    "print(\"Number of unique measuring units : \", np.unique(bmi_df.select('UNITS_CD').collect()['UNITS_CD'].to_list()))"
   ]
  },
  {
   "cell_type": "code",
   "execution_count": null,
   "id": "2cc5010a",
   "metadata": {},
   "outputs": [],
   "source": [
    "bmi_list = bmi_df.select('NVAL_NUM').collect()['NVAL_NUM'].to_list()\n",
    "print(\"Min and max of BMI: \", min(bmi_list), max(bmi_list))"
   ]
  },
  {
   "cell_type": "code",
   "execution_count": null,
   "id": "79b873f3",
   "metadata": {},
   "outputs": [],
   "source": [
    "bmi_less_80_df = bmi_df.filter(pl.col('NVAL_NUM') < 80)"
   ]
  },
  {
   "cell_type": "code",
   "execution_count": null,
   "id": "340af537",
   "metadata": {},
   "outputs": [],
   "source": [
    "len(np.unique(bmi_less_80_df.select('PATIENT_NUM').collect()['PATIENT_NUM'].to_list()))"
   ]
  },
  {
   "cell_type": "markdown",
   "id": "4e5dd8e8",
   "metadata": {},
   "source": [
    "## Verifying BMI using height and weight"
   ]
  },
  {
   "cell_type": "markdown",
   "id": "0374ab9e",
   "metadata": {},
   "source": [
    "### Weight"
   ]
  },
  {
   "cell_type": "code",
   "execution_count": null,
   "id": "15d8aab1",
   "metadata": {},
   "outputs": [],
   "source": [
    "ht_wt_df = bmi_bP_df.filter(pl.col('CONCEPT_CD').str.contains('WT'))"
   ]
  },
  {
   "cell_type": "code",
   "execution_count": null,
   "id": "8642eff8",
   "metadata": {},
   "outputs": [],
   "source": [
    "ht_wt_df = ht_wt_df.with_columns(pl.col(\"NVAL_NUM\").cast(pl.Float32))"
   ]
  },
  {
   "cell_type": "code",
   "execution_count": null,
   "id": "10153240",
   "metadata": {},
   "outputs": [],
   "source": [
    "print(\"Number of unique pid\", len(np.unique(ht_wt_df.select('PATIENT_NUM').collect()['PATIENT_NUM'].to_list())))"
   ]
  },
  {
   "cell_type": "code",
   "execution_count": null,
   "id": "5cb2091e",
   "metadata": {},
   "outputs": [],
   "source": [
    "print(\"Number of unique units\", len(np.unique(ht_wt_df.select('UNITS_CD').collect()['UNITS_CD'].to_list())))"
   ]
  },
  {
   "cell_type": "code",
   "execution_count": null,
   "id": "0289b4fa",
   "metadata": {},
   "outputs": [],
   "source": [
    "ht_wt_df.collect().filter(pl.col('NVAL_NUM') > 500).sort('PATIENT_NUM','NVAL_NUM')"
   ]
  },
  {
   "cell_type": "code",
   "execution_count": null,
   "id": "2bb90428",
   "metadata": {},
   "outputs": [],
   "source": [
    "filtered = (\n",
    "    ht_wt_df\n",
    "    .group_by(\"PATIENT_NUM\")\n",
    "    .agg([\n",
    "        pl.count(\"NVAL_NUM\").alias(\"count\"),\n",
    "        pl.mean(\"NVAL_NUM\").alias(\"mean_value\"),\n",
    "        pl.min(\"NVAL_NUM\").alias(\"min_value\"),\n",
    "        pl.max(\"NVAL_NUM\").alias(\"max_value\")\n",
    "    ])\n",
    "    .filter((pl.col(\"count\") > 2) & ((pl.col(\"max_value\") - pl.col(\"mean_value\")) > 10))\n",
    ")\n",
    "\n",
    "# Join back to original LazyFrame if needed\n",
    "# result = ht_wt_df.join(filtered, on=\"PATIENT_NUM\")\n",
    "\n",
    "# # Collect the results\n",
    "# final_result = result.collect()\n",
    "\n",
    "print(filtered.collect())"
   ]
  },
  {
   "cell_type": "code",
   "execution_count": null,
   "id": "e9483d1b",
   "metadata": {},
   "outputs": [],
   "source": [
    "ht_wt_df.collect().sort('PATIENT_NUM').filter(pl.col('PATIENT_NUM') == 5370724)['NVAL_NUM'].to_list()"
   ]
  },
  {
   "cell_type": "markdown",
   "id": "d8af8bc8",
   "metadata": {},
   "source": [
    "#### upon manual examination weight below 65lbs and 600 lbs"
   ]
  },
  {
   "cell_type": "code",
   "execution_count": null,
   "id": "bd2e57e8",
   "metadata": {},
   "outputs": [],
   "source": [
    "ht_wt_df = ht_wt_df.filter((pl.col('NVAL_NUM') > 65) & (pl.col('NVAL_NUM') < 600))"
   ]
  },
  {
   "cell_type": "code",
   "execution_count": null,
   "id": "d393f9ab",
   "metadata": {},
   "outputs": [],
   "source": [
    "### transforming to modeling dataset for bmi\n",
    "average_weight_per_patient = ht_wt_df.group_by(\"PATIENT_NUM\").agg([\n",
    "    pl.col(\"NVAL_NUM\").mean().alias(\"average_weight\")\n",
    "])"
   ]
  },
  {
   "cell_type": "code",
   "execution_count": null,
   "id": "f6d08a2f",
   "metadata": {},
   "outputs": [],
   "source": [
    "average_weight_per_patient.collect()"
   ]
  },
  {
   "cell_type": "markdown",
   "id": "48e58bf0",
   "metadata": {},
   "source": [
    "### Height"
   ]
  },
  {
   "cell_type": "code",
   "execution_count": null,
   "id": "a3dc7a3f",
   "metadata": {},
   "outputs": [],
   "source": [
    "height_df.head().collect()"
   ]
  },
  {
   "cell_type": "code",
   "execution_count": null,
   "id": "8a42cac3",
   "metadata": {},
   "outputs": [],
   "source": [
    "print(\"Number of unique patients: \",len(np.unique(height_df.select('PATIENT_NUM').collect()['PATIENT_NUM'].to_list())))"
   ]
  },
  {
   "cell_type": "code",
   "execution_count": null,
   "id": "4d4394cc",
   "metadata": {},
   "outputs": [],
   "source": [
    "print(\"Number of records: \",height_df.collect().shape)"
   ]
  },
  {
   "cell_type": "code",
   "execution_count": null,
   "id": "8d5238fe",
   "metadata": {},
   "outputs": [],
   "source": [
    "print(\"Number of unique BMI CONCEPT_CD ranges : \", np.unique(height_df.select('CONCEPT_PATH').collect()['CONCEPT_PATH'].to_list()))"
   ]
  },
  {
   "cell_type": "code",
   "execution_count": null,
   "id": "801433b7",
   "metadata": {},
   "outputs": [],
   "source": [
    "height_df.sort('PATIENT_NUM').filter(#(pl.col('NVAL_NUM')< 96) &\n",
    "                                    (pl.col('NVAL_NUM') > 84)).collect()"
   ]
  },
  {
   "cell_type": "code",
   "execution_count": null,
   "id": "3587e746",
   "metadata": {},
   "outputs": [],
   "source": [
    "height_df.filter(pl.col('PATIENT_NUM') == 10270897).sort('PATIENT_NUM').collect()"
   ]
  },
  {
   "cell_type": "code",
   "execution_count": null,
   "id": "51407cdc",
   "metadata": {},
   "outputs": [],
   "source": [
    "def custom_height_aggregator(ht_list):\n",
    "    ht_list = [ht for ht in ht_list if (ht>36 and ht< 96)]\n",
    "    if ht_list == []:\n",
    "        return None\n",
    "    return max(set(ht_list), key=ht_list.count)\n",
    "    "
   ]
  },
  {
   "cell_type": "code",
   "execution_count": null,
   "id": "91aa54c0",
   "metadata": {},
   "outputs": [],
   "source": [
    "mode_height_df = height_df.group_by(\"PATIENT_NUM\").agg([\n",
    "    pl.col(\"NVAL_NUM\").map_elements(custom_height_aggregator, return_dtype = pl.Float32).alias(\"mode_height\")\n",
    "])"
   ]
  },
  {
   "cell_type": "code",
   "execution_count": null,
   "id": "3f98c85a",
   "metadata": {},
   "outputs": [],
   "source": [
    "mode_height_df.collect()"
   ]
  },
  {
   "cell_type": "code",
   "execution_count": null,
   "id": "67b5aba6",
   "metadata": {},
   "outputs": [],
   "source": [
    "print(\"Number of unique pateints in the mode  height df\", len(np.unique(mode_height_df.select('PATIENT_NUM').collect()['PATIENT_NUM'].to_list())))"
   ]
  },
  {
   "cell_type": "markdown",
   "id": "bbd129be",
   "metadata": {},
   "source": [
    "## Calculating BMI"
   ]
  },
  {
   "cell_type": "code",
   "execution_count": null,
   "id": "ed427021",
   "metadata": {},
   "outputs": [],
   "source": [
    "# Join the DataFrames on 'patient_id'\n",
    "df_combined = mode_height_df.join(average_weight_per_patient, on=\"PATIENT_NUM\", how=\"inner\")\n",
    "\n",
    "# Calculate BMI\n",
    "df_combined = df_combined.with_columns(\n",
    "    (pl.col(\"average_weight\") / (pl.col(\"mode_height\") ** 2) * 703).alias(\"BMI\")\n",
    ")"
   ]
  },
  {
   "cell_type": "code",
   "execution_count": null,
   "id": "8ad9c33d",
   "metadata": {},
   "outputs": [],
   "source": [
    "df_combined.collect()"
   ]
  },
  {
   "cell_type": "code",
   "execution_count": null,
   "id": "92bf1e5e",
   "metadata": {},
   "outputs": [],
   "source": [
    "df_combined.filter(pl.col('BMI')> 40).collect()"
   ]
  },
  {
   "cell_type": "code",
   "execution_count": null,
   "id": "f35d82a6",
   "metadata": {},
   "outputs": [],
   "source": [
    "df_combined.collect().write_parquet('Determine_modeling_bmi_data_manual.parquet')"
   ]
  },
  {
   "cell_type": "markdown",
   "id": "b46d816b",
   "metadata": {},
   "source": [
    "### BP"
   ]
  },
  {
   "cell_type": "code",
   "execution_count": null,
   "id": "dd61d719",
   "metadata": {},
   "outputs": [],
   "source": [
    "### filtering Diastolic BP data\n",
    "dia_bp_df = bmi_bP_df.filter(pl.col('CONCEPT_CD').str.contains('VIT\\|DIA'))\n",
    "sys_bp_df = bmi_bP_df.filter(pl.col('CONCEPT_CD').str.contains('VIT\\|SYS'))"
   ]
  },
  {
   "cell_type": "code",
   "execution_count": null,
   "id": "f0208e69",
   "metadata": {},
   "outputs": [],
   "source": [
    "dia_bp_df.collect().head()"
   ]
  },
  {
   "cell_type": "code",
   "execution_count": null,
   "id": "6d3f5bf2",
   "metadata": {},
   "outputs": [],
   "source": [
    "print(\"Number of unique patients in diastolic bp: \",len(np.unique(dia_bp_df.select('PATIENT_NUM').collect()['PATIENT_NUM'].to_list())))\n",
    "print(\"Number of unique patients in systolic bp: \",len(np.unique(sys_bp_df.select('PATIENT_NUM').collect()['PATIENT_NUM'].to_list())))"
   ]
  },
  {
   "cell_type": "code",
   "execution_count": null,
   "id": "f48af2e8",
   "metadata": {},
   "outputs": [],
   "source": [
    "print(\"Number of records in dia bp: \",dia_bp_df.collect().shape)\n",
    "print(\"Number of records in sys bp: \",sys_bp_df.collect().shape)"
   ]
  },
  {
   "cell_type": "code",
   "execution_count": null,
   "id": "7fcdcb2b",
   "metadata": {},
   "outputs": [],
   "source": [
    "print(\"Number of unique dia BP CONCEPT_CD values : \", np.unique(dia_bp_df.select('CONCEPT_CD').collect()['CONCEPT_CD'].to_list(), return_counts =True))\n",
    "print(\"Number of unique sys BP CONCEPT_CD values : \", np.unique(sys_bp_df.select('CONCEPT_CD').collect()['CONCEPT_CD'].to_list(), return_counts =True))"
   ]
  },
  {
   "cell_type": "code",
   "execution_count": null,
   "id": "7c5f9fa0",
   "metadata": {},
   "outputs": [],
   "source": [
    "print(\"Number of unique measuring units in dia bp : \", np.unique(dia_bp_df.select('UNITS_CD').collect()['UNITS_CD'].to_list()))\n",
    "print(\"Number of unique measuring units in sys bp : \", np.unique(sys_bp_df.select('UNITS_CD').collect()['UNITS_CD'].to_list()))"
   ]
  },
  {
   "cell_type": "code",
   "execution_count": null,
   "id": "5e3a33c5",
   "metadata": {},
   "outputs": [],
   "source": [
    "dia_list = dia_bp_df.select('NVAL_NUM').collect()['NVAL_NUM'].to_list()\n",
    "sys_list = sys_bp_df.select('NVAL_NUM').collect()['NVAL_NUM'].to_list()\n",
    "\n",
    "print(\"Min and max of dia bp: \", min(dia_list), max(dia_list))\n",
    "print(\"Min and max of sys bp: \", min(sys_list), max(sys_list))"
   ]
  },
  {
   "cell_type": "code",
   "execution_count": null,
   "id": "c73a3e4e",
   "metadata": {},
   "outputs": [],
   "source": [
    "sys_bp_df.filter(pl.col('NVAL_NUM') > 180).collect()"
   ]
  },
  {
   "cell_type": "markdown",
   "id": "fe8d3bb1",
   "metadata": {},
   "source": [
    "#### for diastolic values rnage to be considered 40 and 160 \n",
    "#### for systolic values range to be condsidered 60 and 190"
   ]
  },
  {
   "cell_type": "code",
   "execution_count": null,
   "id": "09990c01",
   "metadata": {},
   "outputs": [],
   "source": [
    "sys_bp_df.filter(pl.col('PATIENT_NUM') == 5023457).collect()"
   ]
  },
  {
   "cell_type": "code",
   "execution_count": null,
   "id": "0a02247c",
   "metadata": {},
   "outputs": [],
   "source": [
    "dia_bp_df  = dia_bp_df.filter((pl.col('NVAL_NUM') > 40) &\n",
    "                             (pl.col('NVAL_NUM') < 160))\n",
    "sys_bp_df  = sys_bp_df.filter((pl.col('NVAL_NUM') > 60) &\n",
    "                             (pl.col('NVAL_NUM') < 190))"
   ]
  },
  {
   "cell_type": "code",
   "execution_count": null,
   "id": "a17a8363",
   "metadata": {},
   "outputs": [],
   "source": [
    "print(\"Number of unique pateint ids in diasytolic data: \",len(np.unique(dia_bp_df.select('PATIENT_NUM').collect()['PATIENT_NUM'].to_list())))\n",
    "print(\"Number of unique pateint ids in systolic data: \",len(np.unique(sys_bp_df.select('PATIENT_NUM').collect()['PATIENT_NUM'].to_list())))"
   ]
  },
  {
   "cell_type": "code",
   "execution_count": null,
   "id": "fd82a017",
   "metadata": {},
   "outputs": [],
   "source": [
    "### transforming to modeling dataset for bmi\n",
    "average_dia_bp_per_patient = dia_bp_df.group_by(\"PATIENT_NUM\").agg([\n",
    "    pl.col(\"NVAL_NUM\").mean().alias(\"average_diastolic_value\"),\n",
    "    pl.col(\"NVAL_NUM\").min().alias(\"min_diastolic_value\"),\n",
    "    pl.col(\"NVAL_NUM\").max().alias(\"max_diastolic_value\")\n",
    "])\n",
    "\n",
    "average_sys_bp_per_patient = sys_bp_df.group_by(\"PATIENT_NUM\").agg([\n",
    "    pl.col(\"NVAL_NUM\").mean().alias(\"average_systolic_value\"),\n",
    "    pl.col(\"NVAL_NUM\").min().alias(\"min_systolic_value\"),\n",
    "    pl.col(\"NVAL_NUM\").max().alias(\"max_systolic_value\")\n",
    "])"
   ]
  },
  {
   "cell_type": "code",
   "execution_count": null,
   "id": "84ff229d",
   "metadata": {},
   "outputs": [],
   "source": [
    "average_dia_bp_per_patient.collect().write_parquet('Determine_modeling_diastolic_bp_data.parquet')\n",
    "average_sys_bp_per_patient.collect().write_parquet('Determine_modeling_systolic_bp_data.parquet')"
   ]
  },
  {
   "cell_type": "markdown",
   "id": "3267cfd3",
   "metadata": {},
   "source": [
    "# Tob & smoking data"
   ]
  },
  {
   "cell_type": "code",
   "execution_count": null,
   "id": "3d60ffca",
   "metadata": {},
   "outputs": [],
   "source": [
    "tob_df.head().collect()"
   ]
  },
  {
   "cell_type": "code",
   "execution_count": null,
   "id": "0cc8b044",
   "metadata": {},
   "outputs": [],
   "source": [
    "tob_df.filter(pl.col('PATIENT_NUM')==722088).collect().head(10)"
   ]
  },
  {
   "cell_type": "code",
   "execution_count": null,
   "id": "0047f2b2",
   "metadata": {},
   "outputs": [],
   "source": [
    "tob_df = tob_df.with_columns(pl.lit(1).alias('Indicator'))"
   ]
  },
  {
   "cell_type": "code",
   "execution_count": null,
   "id": "5f6de29e",
   "metadata": {},
   "outputs": [],
   "source": [
    "tob_df.head().collect()"
   ]
  },
  {
   "cell_type": "markdown",
   "id": "714e8a94",
   "metadata": {},
   "source": [
    "# Community vital signs"
   ]
  },
  {
   "cell_type": "code",
   "execution_count": null,
   "id": "92aca437",
   "metadata": {},
   "outputs": [],
   "source": [
    "community_vital_df.collect().head()"
   ]
  },
  {
   "cell_type": "code",
   "execution_count": null,
   "id": "44ea64f1",
   "metadata": {},
   "outputs": [],
   "source": [
    "community_vital_df = community_vital_df.with_columns(pl.col('FACT').cast(pl.Float32).alias('FACT'))"
   ]
  },
  {
   "cell_type": "code",
   "execution_count": null,
   "id": "0dc7cd44",
   "metadata": {},
   "outputs": [],
   "source": [
    "community_vital_df.null_count().collect()"
   ]
  },
  {
   "cell_type": "code",
   "execution_count": null,
   "id": "64fc46eb",
   "metadata": {},
   "outputs": [],
   "source": [
    "community_vital_df.filter(pl.col('PATIENT_NUM')==556).collect()"
   ]
  },
  {
   "cell_type": "code",
   "execution_count": null,
   "id": "8808319e",
   "metadata": {},
   "outputs": [],
   "source": [
    "community_vital_df.collect().shape"
   ]
  },
  {
   "cell_type": "code",
   "execution_count": null,
   "id": "62e941a2",
   "metadata": {},
   "outputs": [],
   "source": [
    "len(community_vital_df.unique(subset=[\"PATIENT_NUM\", \"ZIP_CD\"]).collect())"
   ]
  },
  {
   "cell_type": "markdown",
   "id": "1b85e39f",
   "metadata": {},
   "source": [
    "## EDA for encounter counter of patients after index visit"
   ]
  },
  {
   "cell_type": "code",
   "execution_count": 15,
   "id": "fe723223",
   "metadata": {},
   "outputs": [],
   "source": [
    "pids_no_encs_after_vi_df = pids_no_encs_after_vi_df.collect()"
   ]
  },
  {
   "cell_type": "code",
   "execution_count": 16,
   "id": "4a63f193",
   "metadata": {},
   "outputs": [
    {
     "data": {
      "text/html": [
       "<div><style>\n",
       ".dataframe > thead > tr,\n",
       ".dataframe > tbody > tr {\n",
       "  text-align: right;\n",
       "  white-space: pre-wrap;\n",
       "}\n",
       "</style>\n",
       "<small>shape: (5, 11)</small><table border=\"1\" class=\"dataframe\"><thead><tr><th>PATIENT_NUM</th><th>Encounter_Count</th><th>first_encounter_date_after_vi</th><th>Last_encounter_date_after_vi</th><th>Enc_count_between_vi_and_1year</th><th>Enc_count_between_vi1_and_vi2year</th><th>Enc_count_after_vi2_and_vi3year</th><th>Enc_count_after_vi3_and_vi4year</th><th>FirstOutcomeDate</th><th>Index_Start_date</th><th>DEATH_DATE</th></tr><tr><td>i64</td><td>i64</td><td>datetime[μs]</td><td>datetime[μs]</td><td>i64</td><td>i64</td><td>i64</td><td>i64</td><td>datetime[μs]</td><td>datetime[μs]</td><td>datetime[μs]</td></tr></thead><tbody><tr><td>4765905</td><td>39</td><td>2019-05-23 00:00:00</td><td>2020-09-15 00:00:00</td><td>0</td><td>37</td><td>2</td><td>0</td><td>null</td><td>2018-05-11 00:00:00</td><td>null</td></tr><tr><td>7458619</td><td>105</td><td>2019-05-14 00:00:00</td><td>2022-01-13 00:00:00</td><td>72</td><td>29</td><td>4</td><td>0</td><td>null</td><td>2019-04-25 00:00:00</td><td>null</td></tr><tr><td>458937</td><td>42</td><td>2019-06-14 00:00:00</td><td>2022-12-28 00:00:00</td><td>1</td><td>16</td><td>8</td><td>6</td><td>null</td><td>2018-07-20 00:00:00</td><td>null</td></tr><tr><td>4959730</td><td>441</td><td>2019-05-07 00:00:00</td><td>2022-12-13 00:00:00</td><td>103</td><td>158</td><td>108</td><td>72</td><td>null</td><td>2019-04-29 00:00:00</td><td>null</td></tr><tr><td>1732034</td><td>217</td><td>2019-05-15 00:00:00</td><td>2022-12-25 00:00:00</td><td>48</td><td>54</td><td>60</td><td>55</td><td>null</td><td>2019-04-18 00:00:00</td><td>null</td></tr></tbody></table></div>"
      ],
      "text/plain": [
       "shape: (5, 11)\n",
       "┌───────────┬───────────┬───────────┬───────────┬───┬───────────┬───────────┬───────────┬──────────┐\n",
       "│ PATIENT_N ┆ Encounter ┆ first_enc ┆ Last_enco ┆ … ┆ Enc_count ┆ FirstOutc ┆ Index_Sta ┆ DEATH_DA │\n",
       "│ UM        ┆ _Count    ┆ ounter_da ┆ unter_dat ┆   ┆ _after_vi ┆ omeDate   ┆ rt_date   ┆ TE       │\n",
       "│ ---       ┆ ---       ┆ te_after_ ┆ e_after_v ┆   ┆ 3_and_vi4 ┆ ---       ┆ ---       ┆ ---      │\n",
       "│ i64       ┆ i64       ┆ vi        ┆ i         ┆   ┆ yea…      ┆ datetime[ ┆ datetime[ ┆ datetime │\n",
       "│           ┆           ┆ ---       ┆ ---       ┆   ┆ ---       ┆ μs]       ┆ μs]       ┆ [μs]     │\n",
       "│           ┆           ┆ datetime[ ┆ datetime[ ┆   ┆ i64       ┆           ┆           ┆          │\n",
       "│           ┆           ┆ μs]       ┆ μs]       ┆   ┆           ┆           ┆           ┆          │\n",
       "╞═══════════╪═══════════╪═══════════╪═══════════╪═══╪═══════════╪═══════════╪═══════════╪══════════╡\n",
       "│ 4765905   ┆ 39        ┆ 2019-05-2 ┆ 2020-09-1 ┆ … ┆ 0         ┆ null      ┆ 2018-05-1 ┆ null     │\n",
       "│           ┆           ┆ 3         ┆ 5         ┆   ┆           ┆           ┆ 1         ┆          │\n",
       "│           ┆           ┆ 00:00:00  ┆ 00:00:00  ┆   ┆           ┆           ┆ 00:00:00  ┆          │\n",
       "│ 7458619   ┆ 105       ┆ 2019-05-1 ┆ 2022-01-1 ┆ … ┆ 0         ┆ null      ┆ 2019-04-2 ┆ null     │\n",
       "│           ┆           ┆ 4         ┆ 3         ┆   ┆           ┆           ┆ 5         ┆          │\n",
       "│           ┆           ┆ 00:00:00  ┆ 00:00:00  ┆   ┆           ┆           ┆ 00:00:00  ┆          │\n",
       "│ 458937    ┆ 42        ┆ 2019-06-1 ┆ 2022-12-2 ┆ … ┆ 6         ┆ null      ┆ 2018-07-2 ┆ null     │\n",
       "│           ┆           ┆ 4         ┆ 8         ┆   ┆           ┆           ┆ 0         ┆          │\n",
       "│           ┆           ┆ 00:00:00  ┆ 00:00:00  ┆   ┆           ┆           ┆ 00:00:00  ┆          │\n",
       "│ 4959730   ┆ 441       ┆ 2019-05-0 ┆ 2022-12-1 ┆ … ┆ 72        ┆ null      ┆ 2019-04-2 ┆ null     │\n",
       "│           ┆           ┆ 7         ┆ 3         ┆   ┆           ┆           ┆ 9         ┆          │\n",
       "│           ┆           ┆ 00:00:00  ┆ 00:00:00  ┆   ┆           ┆           ┆ 00:00:00  ┆          │\n",
       "│ 1732034   ┆ 217       ┆ 2019-05-1 ┆ 2022-12-2 ┆ … ┆ 55        ┆ null      ┆ 2019-04-1 ┆ null     │\n",
       "│           ┆           ┆ 5         ┆ 5         ┆   ┆           ┆           ┆ 8         ┆          │\n",
       "│           ┆           ┆ 00:00:00  ┆ 00:00:00  ┆   ┆           ┆           ┆ 00:00:00  ┆          │\n",
       "└───────────┴───────────┴───────────┴───────────┴───┴───────────┴───────────┴───────────┴──────────┘"
      ]
     },
     "execution_count": 16,
     "metadata": {},
     "output_type": "execute_result"
    }
   ],
   "source": [
    "pids_no_encs_after_vi_df.head()"
   ]
  },
  {
   "cell_type": "code",
   "execution_count": 22,
   "id": "2c9e1a84",
   "metadata": {},
   "outputs": [
    {
     "data": {
      "text/html": [
       "<div><style>\n",
       ".dataframe > thead > tr,\n",
       ".dataframe > tbody > tr {\n",
       "  text-align: right;\n",
       "  white-space: pre-wrap;\n",
       "}\n",
       "</style>\n",
       "<small>shape: (126_890, 11)</small><table border=\"1\" class=\"dataframe\"><thead><tr><th>PATIENT_NUM</th><th>Encounter_Count</th><th>first_encounter_date_after_vi</th><th>Last_encounter_date_after_vi</th><th>Enc_count_between_vi_and_1year</th><th>Enc_count_between_vi1_and_vi2year</th><th>Enc_count_after_vi2_and_vi3year</th><th>Enc_count_after_vi3_and_vi4year</th><th>FirstOutcomeDate</th><th>Index_Start_date</th><th>DEATH_DATE</th></tr><tr><td>i64</td><td>i64</td><td>datetime[μs]</td><td>datetime[μs]</td><td>i64</td><td>i64</td><td>i64</td><td>i64</td><td>datetime[μs]</td><td>datetime[μs]</td><td>datetime[μs]</td></tr></thead><tbody><tr><td>4832442</td><td>2</td><td>2019-05-13 00:00:00</td><td>2019-07-02 00:00:00</td><td>2</td><td>0</td><td>0</td><td>0</td><td>null</td><td>2019-03-09 00:00:00</td><td>null</td></tr><tr><td>4903757</td><td>2</td><td>2019-05-17 00:00:00</td><td>2019-05-21 00:00:00</td><td>2</td><td>0</td><td>0</td><td>0</td><td>null</td><td>2019-04-23 00:00:00</td><td>null</td></tr><tr><td>756070</td><td>1</td><td>2020-05-31 00:00:00</td><td>2020-05-31 00:00:00</td><td>0</td><td>1</td><td>0</td><td>0</td><td>null</td><td>2018-12-12 00:00:00</td><td>null</td></tr><tr><td>5894100</td><td>2</td><td>2020-02-06 00:00:00</td><td>2020-09-11 00:00:00</td><td>1</td><td>1</td><td>0</td><td>0</td><td>null</td><td>2019-03-12 00:00:00</td><td>null</td></tr><tr><td>5316905</td><td>2</td><td>2019-05-31 00:00:00</td><td>2020-04-13 00:00:00</td><td>1</td><td>1</td><td>0</td><td>0</td><td>null</td><td>2018-10-03 00:00:00</td><td>null</td></tr><tr><td>&hellip;</td><td>&hellip;</td><td>&hellip;</td><td>&hellip;</td><td>&hellip;</td><td>&hellip;</td><td>&hellip;</td><td>&hellip;</td><td>&hellip;</td><td>&hellip;</td><td>&hellip;</td></tr><tr><td>473435</td><td>2</td><td>2020-03-25 00:00:00</td><td>2021-04-28 00:00:00</td><td>0</td><td>1</td><td>1</td><td>0</td><td>null</td><td>2018-12-04 00:00:00</td><td>null</td></tr><tr><td>4898626</td><td>1</td><td>2021-09-16 00:00:00</td><td>2021-09-16 00:00:00</td><td>0</td><td>0</td><td>1</td><td>0</td><td>null</td><td>2018-11-27 00:00:00</td><td>null</td></tr><tr><td>7630869</td><td>1</td><td>2019-07-22 00:00:00</td><td>2019-07-22 00:00:00</td><td>1</td><td>0</td><td>0</td><td>0</td><td>null</td><td>2019-02-23 00:00:00</td><td>null</td></tr><tr><td>3786609</td><td>1</td><td>2019-06-27 00:00:00</td><td>2019-06-27 00:00:00</td><td>1</td><td>0</td><td>0</td><td>0</td><td>null</td><td>2018-12-18 00:00:00</td><td>null</td></tr><tr><td>2885420</td><td>1</td><td>2021-04-14 00:00:00</td><td>2021-04-14 00:00:00</td><td>0</td><td>0</td><td>1</td><td>0</td><td>null</td><td>2018-11-02 00:00:00</td><td>null</td></tr></tbody></table></div>"
      ],
      "text/plain": [
       "shape: (126_890, 11)\n",
       "┌───────────┬───────────┬───────────┬───────────┬───┬───────────┬───────────┬───────────┬──────────┐\n",
       "│ PATIENT_N ┆ Encounter ┆ first_enc ┆ Last_enco ┆ … ┆ Enc_count ┆ FirstOutc ┆ Index_Sta ┆ DEATH_DA │\n",
       "│ UM        ┆ _Count    ┆ ounter_da ┆ unter_dat ┆   ┆ _after_vi ┆ omeDate   ┆ rt_date   ┆ TE       │\n",
       "│ ---       ┆ ---       ┆ te_after_ ┆ e_after_v ┆   ┆ 3_and_vi4 ┆ ---       ┆ ---       ┆ ---      │\n",
       "│ i64       ┆ i64       ┆ vi        ┆ i         ┆   ┆ yea…      ┆ datetime[ ┆ datetime[ ┆ datetime │\n",
       "│           ┆           ┆ ---       ┆ ---       ┆   ┆ ---       ┆ μs]       ┆ μs]       ┆ [μs]     │\n",
       "│           ┆           ┆ datetime[ ┆ datetime[ ┆   ┆ i64       ┆           ┆           ┆          │\n",
       "│           ┆           ┆ μs]       ┆ μs]       ┆   ┆           ┆           ┆           ┆          │\n",
       "╞═══════════╪═══════════╪═══════════╪═══════════╪═══╪═══════════╪═══════════╪═══════════╪══════════╡\n",
       "│ 4832442   ┆ 2         ┆ 2019-05-1 ┆ 2019-07-0 ┆ … ┆ 0         ┆ null      ┆ 2019-03-0 ┆ null     │\n",
       "│           ┆           ┆ 3         ┆ 2         ┆   ┆           ┆           ┆ 9         ┆          │\n",
       "│           ┆           ┆ 00:00:00  ┆ 00:00:00  ┆   ┆           ┆           ┆ 00:00:00  ┆          │\n",
       "│ 4903757   ┆ 2         ┆ 2019-05-1 ┆ 2019-05-2 ┆ … ┆ 0         ┆ null      ┆ 2019-04-2 ┆ null     │\n",
       "│           ┆           ┆ 7         ┆ 1         ┆   ┆           ┆           ┆ 3         ┆          │\n",
       "│           ┆           ┆ 00:00:00  ┆ 00:00:00  ┆   ┆           ┆           ┆ 00:00:00  ┆          │\n",
       "│ 756070    ┆ 1         ┆ 2020-05-3 ┆ 2020-05-3 ┆ … ┆ 0         ┆ null      ┆ 2018-12-1 ┆ null     │\n",
       "│           ┆           ┆ 1         ┆ 1         ┆   ┆           ┆           ┆ 2         ┆          │\n",
       "│           ┆           ┆ 00:00:00  ┆ 00:00:00  ┆   ┆           ┆           ┆ 00:00:00  ┆          │\n",
       "│ 5894100   ┆ 2         ┆ 2020-02-0 ┆ 2020-09-1 ┆ … ┆ 0         ┆ null      ┆ 2019-03-1 ┆ null     │\n",
       "│           ┆           ┆ 6         ┆ 1         ┆   ┆           ┆           ┆ 2         ┆          │\n",
       "│           ┆           ┆ 00:00:00  ┆ 00:00:00  ┆   ┆           ┆           ┆ 00:00:00  ┆          │\n",
       "│ 5316905   ┆ 2         ┆ 2019-05-3 ┆ 2020-04-1 ┆ … ┆ 0         ┆ null      ┆ 2018-10-0 ┆ null     │\n",
       "│           ┆           ┆ 1         ┆ 3         ┆   ┆           ┆           ┆ 3         ┆          │\n",
       "│           ┆           ┆ 00:00:00  ┆ 00:00:00  ┆   ┆           ┆           ┆ 00:00:00  ┆          │\n",
       "│ …         ┆ …         ┆ …         ┆ …         ┆ … ┆ …         ┆ …         ┆ …         ┆ …        │\n",
       "│ 473435    ┆ 2         ┆ 2020-03-2 ┆ 2021-04-2 ┆ … ┆ 0         ┆ null      ┆ 2018-12-0 ┆ null     │\n",
       "│           ┆           ┆ 5         ┆ 8         ┆   ┆           ┆           ┆ 4         ┆          │\n",
       "│           ┆           ┆ 00:00:00  ┆ 00:00:00  ┆   ┆           ┆           ┆ 00:00:00  ┆          │\n",
       "│ 4898626   ┆ 1         ┆ 2021-09-1 ┆ 2021-09-1 ┆ … ┆ 0         ┆ null      ┆ 2018-11-2 ┆ null     │\n",
       "│           ┆           ┆ 6         ┆ 6         ┆   ┆           ┆           ┆ 7         ┆          │\n",
       "│           ┆           ┆ 00:00:00  ┆ 00:00:00  ┆   ┆           ┆           ┆ 00:00:00  ┆          │\n",
       "│ 7630869   ┆ 1         ┆ 2019-07-2 ┆ 2019-07-2 ┆ … ┆ 0         ┆ null      ┆ 2019-02-2 ┆ null     │\n",
       "│           ┆           ┆ 2         ┆ 2         ┆   ┆           ┆           ┆ 3         ┆          │\n",
       "│           ┆           ┆ 00:00:00  ┆ 00:00:00  ┆   ┆           ┆           ┆ 00:00:00  ┆          │\n",
       "│ 3786609   ┆ 1         ┆ 2019-06-2 ┆ 2019-06-2 ┆ … ┆ 0         ┆ null      ┆ 2018-12-1 ┆ null     │\n",
       "│           ┆           ┆ 7         ┆ 7         ┆   ┆           ┆           ┆ 8         ┆          │\n",
       "│           ┆           ┆ 00:00:00  ┆ 00:00:00  ┆   ┆           ┆           ┆ 00:00:00  ┆          │\n",
       "│ 2885420   ┆ 1         ┆ 2021-04-1 ┆ 2021-04-1 ┆ … ┆ 0         ┆ null      ┆ 2018-11-0 ┆ null     │\n",
       "│           ┆           ┆ 4         ┆ 4         ┆   ┆           ┆           ┆ 2         ┆          │\n",
       "│           ┆           ┆ 00:00:00  ┆ 00:00:00  ┆   ┆           ┆           ┆ 00:00:00  ┆          │\n",
       "└───────────┴───────────┴───────────┴───────────┴───┴───────────┴───────────┴───────────┴──────────┘"
      ]
     },
     "execution_count": 22,
     "metadata": {},
     "output_type": "execute_result"
    }
   ],
   "source": [
    "pids_no_encs_after_vi_df.filter(pl.col('Encounter_Count') < 3)"
   ]
  },
  {
   "cell_type": "code",
   "execution_count": null,
   "id": "1fefa991",
   "metadata": {},
   "outputs": [],
   "source": []
  },
  {
   "cell_type": "markdown",
   "id": "6b614d81",
   "metadata": {},
   "source": [
    "# Pivoting dataframes for modeling"
   ]
  },
  {
   "cell_type": "code",
   "execution_count": null,
   "id": "af9a3a46",
   "metadata": {},
   "outputs": [],
   "source": [
    "class pivoting_config:\n",
    "    min_association_patients = 50\n",
    "    diag_phemap_pivot = True\n",
    "    diag_icd_nchars_pivot = True\n"
   ]
  },
  {
   "cell_type": "markdown",
   "id": "59576418",
   "metadata": {},
   "source": [
    "## Medications pivot"
   ]
  },
  {
   "cell_type": "code",
   "execution_count": null,
   "id": "e360ea98",
   "metadata": {},
   "outputs": [],
   "source": [
    "# Loading the dataset\n",
    "medications_df = pl.read_parquet(\"Determine_cohort_medications_active_ing.parquet\")"
   ]
  },
  {
   "cell_type": "code",
   "execution_count": null,
   "id": "0e2b5163",
   "metadata": {},
   "outputs": [],
   "source": [
    "medications_df = medications_df.with_columns(pl.lit(1).alias('usage'))"
   ]
  },
  {
   "cell_type": "code",
   "execution_count": null,
   "id": "ae593367",
   "metadata": {},
   "outputs": [],
   "source": [
    "medications_df.head()"
   ]
  },
  {
   "cell_type": "code",
   "execution_count": null,
   "id": "c909429b",
   "metadata": {},
   "outputs": [],
   "source": [
    "### Pivoting\n",
    "medications_df_pivot = medications_df.pivot(on = 'Active_ingrident', index = 'PATIENT_NUM', values = 'usage', aggregate_function = 'max')"
   ]
  },
  {
   "cell_type": "code",
   "execution_count": null,
   "id": "2a124757",
   "metadata": {},
   "outputs": [],
   "source": [
    "medications_df_pivot.head()"
   ]
  },
  {
   "cell_type": "code",
   "execution_count": null,
   "id": "4ce6af88",
   "metadata": {},
   "outputs": [],
   "source": [
    "medications_df_pivot = medications_df_pivot.fill_null(0)"
   ]
  },
  {
   "cell_type": "code",
   "execution_count": null,
   "id": "9451b58e",
   "metadata": {},
   "outputs": [],
   "source": [
    "medications_df_pivot.head()"
   ]
  },
  {
   "cell_type": "code",
   "execution_count": null,
   "id": "8e9a05e1",
   "metadata": {},
   "outputs": [],
   "source": [
    "medications_df_pivot.null_count().sum()"
   ]
  },
  {
   "cell_type": "code",
   "execution_count": null,
   "id": "d0e2cd13",
   "metadata": {},
   "outputs": [],
   "source": [
    "medications_df_pivot.write_parquet(\"Determine_medications_active_ingredients_pivot.parquet\")"
   ]
  },
  {
   "cell_type": "markdown",
   "id": "85e3edeb",
   "metadata": {},
   "source": [
    "## Lab results pivot"
   ]
  },
  {
   "cell_type": "code",
   "execution_count": null,
   "id": "4c1899ca",
   "metadata": {},
   "outputs": [],
   "source": [
    "lab_results_path = 'Determine_cohort_labresults_domain_expert.parquet'\n",
    "lab_results_df = pl.read_parquet(lab_results_path)\n",
    "lab_results_df.head()"
   ]
  },
  {
   "cell_type": "code",
   "execution_count": null,
   "id": "62acf5bb",
   "metadata": {},
   "outputs": [],
   "source": [
    "lab_results_df.null_count()"
   ]
  },
  {
   "cell_type": "code",
   "execution_count": null,
   "id": "75a85060",
   "metadata": {},
   "outputs": [],
   "source": [
    "lab_results_pivot_df = lab_results_df.pivot(on = 'LabLOINC', index = 'PATIENT_NUM', values = 'Result_Number')"
   ]
  },
  {
   "cell_type": "code",
   "execution_count": null,
   "id": "46156281",
   "metadata": {},
   "outputs": [],
   "source": [
    "lab_results_pivot_df.null_count()"
   ]
  },
  {
   "cell_type": "code",
   "execution_count": null,
   "id": "63dca5ee",
   "metadata": {},
   "outputs": [],
   "source": [
    "#lab_results_pivot_df = lab_results_pivot_df.fill_null(-100)"
   ]
  },
  {
   "cell_type": "code",
   "execution_count": null,
   "id": "483cb90e",
   "metadata": {},
   "outputs": [],
   "source": [
    "lab_results_pivot_df.head()"
   ]
  },
  {
   "cell_type": "code",
   "execution_count": null,
   "id": "c1865f36",
   "metadata": {},
   "outputs": [],
   "source": [
    "if 'mean' not in lab_results_path:\n",
    "    lab_results_pivot_df.write_parquet(\"Determine_lab_results_latest_domain_expert_pivot.parquet\")"
   ]
  },
  {
   "cell_type": "markdown",
   "id": "a6e148a5",
   "metadata": {},
   "source": [
    "## Diagnoses pivot"
   ]
  },
  {
   "cell_type": "code",
   "execution_count": null,
   "id": "e0c08d61",
   "metadata": {},
   "outputs": [],
   "source": [
    "if pivoting_config.diag_phemap_pivot:\n",
    "    diagnoses_df = pl.read_parquet('Determine_cohort_diagnoses_phecode_map_v2_with_z_codes.parquet') ### mention version of phecode\n",
    "    diagnoses_df = diagnoses_df.with_columns(pl.lit(1).alias('Usage'))\n",
    "    diagnoses_pivot_df = diagnoses_df.pivot(on = 'phecode_map', index = 'PATIENT_NUM', values = 'Usage', aggregate_function = 'max')\n",
    "    diagnoses_pivot_df = diagnoses_pivot_df.fill_null(0)\n",
    "    diagnoses_pivot_df.write_parquet('Determine_diagnoses_phemap_pivot_with_icd10z.parquet')\n",
    "    \n",
    "    \n",
    "    diagnoses_df = pl.read_parquet('Determine_cohort_diagnoses_phecode_map_v2_without_z_codes.parquet') ### mention version of phecode\n",
    "    diagnoses_df = diagnoses_df.with_columns(pl.lit(1).alias('Usage'))\n",
    "    diagnoses_pivot_df = diagnoses_df.pivot(on = 'phecode_map', index = 'PATIENT_NUM', values = 'Usage', aggregate_function = 'max')\n",
    "    diagnoses_pivot_df = diagnoses_pivot_df.fill_null(0)\n",
    "    diagnoses_pivot_df.write_parquet('Determine_diagnoses_phemap_pivot_without_icd10z.parquet')"
   ]
  },
  {
   "cell_type": "code",
   "execution_count": null,
   "id": "076f5d3d",
   "metadata": {},
   "outputs": [],
   "source": [
    "if pivoting_config.diag_icd_nchars_pivot:\n",
    "    "
   ]
  },
  {
   "cell_type": "markdown",
   "id": "5197010a",
   "metadata": {},
   "source": [
    "# CVS pivot"
   ]
  },
  {
   "cell_type": "code",
   "execution_count": null,
   "id": "d0cdcc87",
   "metadata": {},
   "outputs": [],
   "source": [
    "community_vital_pivot_df = community_vital_df.collect().pivot(on = 'Indicator', \n",
    "                                                    index ='PATIENT_NUM', \n",
    "                                                    values ='FACT', \n",
    "                                                    aggregate_function = 'mean')\n",
    "community_vital_pivot_df = community_vital_pivot_df.fill_null(-100)"
   ]
  },
  {
   "cell_type": "code",
   "execution_count": null,
   "id": "6ba1a240",
   "metadata": {},
   "outputs": [],
   "source": [
    "community_vital_pivot_df"
   ]
  },
  {
   "cell_type": "code",
   "execution_count": null,
   "id": "7d2439c0",
   "metadata": {},
   "outputs": [],
   "source": [
    "community_vital_pivot_df.write_parquet('./Determine_modeling_datasets/Determine_cvs_pivot.parquet')"
   ]
  },
  {
   "cell_type": "markdown",
   "id": "5943412d",
   "metadata": {},
   "source": [
    "# Tobacco and smoking"
   ]
  },
  {
   "cell_type": "code",
   "execution_count": null,
   "id": "01cd168c",
   "metadata": {},
   "outputs": [],
   "source": [
    "tob_pivot_df = tob_df.collect().pivot(on = 'CONCEPT_CD', \n",
    "                                                    index ='PATIENT_NUM', \n",
    "                                                    values ='Indicator', \n",
    "                                                    aggregate_function = 'first')"
   ]
  },
  {
   "cell_type": "code",
   "execution_count": null,
   "id": "f0a3edc9",
   "metadata": {},
   "outputs": [],
   "source": [
    "tob_pivot_df.head()"
   ]
  },
  {
   "cell_type": "code",
   "execution_count": null,
   "id": "b6777a39",
   "metadata": {},
   "outputs": [],
   "source": [
    "tob_pivot_df = tob_pivot_df.fill_null(0)"
   ]
  }
 ],
 "metadata": {
  "kernelspec": {
   "display_name": "conda_python3",
   "language": "python",
   "name": "conda_python3"
  },
  "language_info": {
   "codemirror_mode": {
    "name": "ipython",
    "version": 3
   },
   "file_extension": ".py",
   "mimetype": "text/x-python",
   "name": "python",
   "nbconvert_exporter": "python",
   "pygments_lexer": "ipython3",
   "version": "3.10.16"
  }
 },
 "nbformat": 4,
 "nbformat_minor": 5
}
