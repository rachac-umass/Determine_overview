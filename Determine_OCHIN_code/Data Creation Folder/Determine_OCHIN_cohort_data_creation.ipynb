{
 "cells": [
  {
   "cell_type": "markdown",
   "id": "79753383",
   "metadata": {},
   "source": [
    "# Installing Libraries"
   ]
  },
  {
   "cell_type": "code",
   "execution_count": 2,
   "id": "434d3a5a",
   "metadata": {
    "scrolled": true
   },
   "outputs": [
    {
     "name": "stderr",
     "output_type": "stream",
     "text": [
      "  % Total    % Received % Xferd  Average Speed   Time    Time     Time  Current\n",
      "                                 Dload  Upload   Total   Spent    Left  Speed\n",
      "100   413  100   413    0     0   7736      0 --:--:-- --:--:-- --:--:--  7792\n"
     ]
    },
    {
     "name": "stdout",
     "output_type": "stream",
     "text": [
      "Loaded plugins: dkms-build-requires, extras_suggestions, kernel-livepatch,\n",
      "              : langpacks, priorities, update-motd, versionlock\n"
     ]
    },
    {
     "name": "stderr",
     "output_type": "stream",
     "text": [
      "No Match for argument: unixODBC-utf16\n",
      "No Match for argument: unixODBC-utf16-devel\n"
     ]
    },
    {
     "name": "stdout",
     "output_type": "stream",
     "text": [
      "No Packages marked for removal\n",
      "Loaded plugins: dkms-build-requires, extras_suggestions, kernel-livepatch,\n",
      "              : langpacks, priorities, update-motd, versionlock\n"
     ]
    },
    {
     "name": "stderr",
     "output_type": "stream",
     "text": [
      "https://download.docker.com/linux/centos/2/x86_64/stable/repodata/repomd.xml: [Errno 14] HTTPS Error 404 - Not Found\n",
      "Trying other mirror.\n"
     ]
    },
    {
     "name": "stdout",
     "output_type": "stream",
     "text": [
      "67 packages excluded due to repository priority protections\n",
      "Package msodbcsql17-17.10.6.1-1.x86_64 already installed and latest version\n",
      "Nothing to do\n",
      "Loaded plugins: dkms-build-requires, extras_suggestions, kernel-livepatch,\n",
      "              : langpacks, priorities, update-motd, versionlock\n"
     ]
    },
    {
     "name": "stderr",
     "output_type": "stream",
     "text": [
      "https://download.docker.com/linux/centos/2/x86_64/stable/repodata/repomd.xml: [Errno 14] HTTPS Error 404 - Not Found\n",
      "Trying other mirror.\n"
     ]
    },
    {
     "name": "stdout",
     "output_type": "stream",
     "text": [
      "67 packages excluded due to repository priority protections\n",
      "Package mssql-tools-17.10.1.1-1.x86_64 already installed and latest version\n",
      "Nothing to do\n",
      "Loaded plugins: dkms-build-requires, extras_suggestions, kernel-livepatch,\n",
      "              : langpacks, priorities, update-motd, versionlock\n"
     ]
    },
    {
     "name": "stderr",
     "output_type": "stream",
     "text": [
      "https://download.docker.com/linux/centos/2/x86_64/stable/repodata/repomd.xml: [Errno 14] HTTPS Error 404 - Not Found\n",
      "Trying other mirror.\n"
     ]
    },
    {
     "name": "stdout",
     "output_type": "stream",
     "text": [
      "67 packages excluded due to repository priority protections\n",
      "Package unixODBC-devel-2.3.1-15.amzn2.x86_64 already installed and latest version\n",
      "Nothing to do\n"
     ]
    }
   ],
   "source": [
    "%%sh\n",
    "\n",
    "sudo su \n",
    "\n",
    "#Download appropriate package for the OS version\n",
    "#Choose only ONE of the following, corresponding to your OS version\n",
    "\n",
    "#RHEL 7 and Oracle Linux 7\n",
    "curl https://packages.microsoft.com/config/rhel/7/prod.repo > /etc/yum.repos.d/mssql-release.repo\n",
    "\n",
    "#RHEL 8 and Oracle Linux 8\n",
    "#curl https://packages.microsoft.com/config/rhel/8/prod.repo > /etc/yum.repos.d/mssql-release.repo\n",
    "\n",
    "#RHEL 9\n",
    "#curl https://packages.microsoft.com/config/rhel/9.0/prod.repo > /etc/yum.repos.d/mssql-release.repo\n",
    "\n",
    "exit\n",
    "\n",
    "sudo yum remove unixODBC-utf16 unixODBC-utf16-devel #to avoid conflicts\n",
    "sudo ACCEPT_EULA=Y yum install -y msodbcsql17\n",
    "# optional: for bcp and sqlcmd\n",
    "sudo ACCEPT_EULA=Y yum install -y mssql-tools\n",
    "echo 'export PATH=\"$PATH:/opt/mssql-tools/bin\"' >> ~/.bashrc\n",
    "source ~/.bashrc\n",
    "# optional: for unixODBC development headers\n",
    "sudo yum install -y unixODBC-devel"
   ]
  },
  {
   "cell_type": "code",
   "execution_count": 3,
   "id": "c1def098",
   "metadata": {},
   "outputs": [
    {
     "name": "stdout",
     "output_type": "stream",
     "text": [
      "Channels:\n",
      " - conda-forge\n",
      " - nvidia\n",
      " - pytorch\n",
      "Platform: linux-64\n",
      "Collecting package metadata (repodata.json): ...working... done\n",
      "Solving environment: ...working... done\n",
      "\n",
      "# All requested packages already installed.\n",
      "\n"
     ]
    }
   ],
   "source": [
    "!conda install polars -y -q"
   ]
  },
  {
   "cell_type": "code",
   "execution_count": 4,
   "id": "16b96379",
   "metadata": {},
   "outputs": [],
   "source": [
    "!pip install icd-mappings pyreadr -q"
   ]
  },
  {
   "cell_type": "markdown",
   "id": "e6bc8664",
   "metadata": {},
   "source": [
    "# Importing libraries"
   ]
  },
  {
   "cell_type": "code",
   "execution_count": 5,
   "id": "c48e255f",
   "metadata": {},
   "outputs": [],
   "source": [
    "import pyodbc\n",
    "import requests\n",
    "import re\n",
    "import pyreadr"
   ]
  },
  {
   "cell_type": "code",
   "execution_count": 6,
   "id": "bffec8fb",
   "metadata": {},
   "outputs": [],
   "source": [
    "import polars as pl\n",
    "import numpy as np\n",
    "import time\n",
    "import pickle\n",
    "import matplotlib.pyplot as plt"
   ]
  },
  {
   "cell_type": "markdown",
   "id": "1891fc5a",
   "metadata": {},
   "source": [
    "# Connecting to database"
   ]
  },
  {
   "cell_type": "code",
   "execution_count": 7,
   "id": "d385d481",
   "metadata": {},
   "outputs": [],
   "source": [
    "file_path = '/home/ec2-user/SageMaker/db-credentials.txt'\n",
    "\n",
    "with open(file_path, 'r') as file:\n",
    "    # Code to parse the data will go here\n",
    "    file_contents = file.read()\n",
    "\n",
    "# Remove newlines and extra spaces\n",
    "cleaned_string = file_contents.replace('\\n', '').strip()\n",
    "\n",
    "# Extract variable-value pairs using regular expressions\n",
    "pattern = r'\"([^\"]+)\": \"([^\"]+)\"'\n",
    "pairs = re.findall(pattern, cleaned_string)\n",
    "\n",
    "parsed_data = {}\n",
    "\n",
    "for variable, data in pairs:\n",
    "    parsed_data[variable] = data"
   ]
  },
  {
   "cell_type": "code",
   "execution_count": 8,
   "id": "8ea8e139",
   "metadata": {},
   "outputs": [],
   "source": [
    "### This example shows how to view tables in the AAOCHIN2023 database. \n",
    "raw_db = 'AAOCHIN2023' \n",
    "raw_connection_string = \"DRIVER={ODBC Driver 17 for SQL Server};\" + \\\n",
    "                    \"SERVER=\" + parsed_data['host'] + ',' + parsed_data['port'] + ';' + \\\n",
    "                    \"DATABASE=\" + raw_db + ';' + \\\n",
    "                    \"UID=\" + parsed_data['username'] + ';' + \\\n",
    "                    \"PWD={\" + parsed_data['password'] + \"};\"\n",
    "raw_conn = pyodbc.connect(raw_connection_string, trusted_connection = 'no')\n",
    "raw_cursor = raw_conn.cursor()"
   ]
  },
  {
   "cell_type": "code",
   "execution_count": 9,
   "id": "afc17b1e",
   "metadata": {},
   "outputs": [
    {
     "name": "stdout",
     "output_type": "stream",
     "text": [
      "OBSERVATION_FACT\n",
      "PATIENT_DIMENSION\n",
      "PROVIDER_DIMENSION\n",
      "VISIT_DIMENSION\n",
      "ZCTA_CVS\n",
      "SIDECAR_FACILITIES\n",
      "CONCEPT_DIMENSION\n",
      "I2B2\n"
     ]
    }
   ],
   "source": [
    "#### CHECK IF DATABASE CURSOR IS WORKING\n",
    "raw_cursor.execute('''\n",
    "SELECT name AS TABLE_NAME\n",
    "FROM sys.views\n",
    "''')\n",
    "for row in raw_cursor:\n",
    "    print(row[0])"
   ]
  },
  {
   "cell_type": "markdown",
   "id": "fc710274",
   "metadata": {},
   "source": [
    "# SQL queries for demographics, lab results, medications and diagnoses"
   ]
  },
  {
   "cell_type": "code",
   "execution_count": 9,
   "id": "02366f1a",
   "metadata": {},
   "outputs": [],
   "source": [
    "###### CONFIG ######\n",
    "class cohort_data_config:\n",
    "    get_lab_results_all = True\n",
    "    get_latest_lab_results =  False\n",
    "    get_temporal_lab_results_only_mean = False\n",
    "    get_temporal_lab_results_only_mean_latest_oldest = False"
   ]
  },
  {
   "cell_type": "markdown",
   "id": "dca1103a",
   "metadata": {},
   "source": [
    "## Testing (NO NEED to run)"
   ]
  },
  {
   "cell_type": "code",
   "execution_count": 10,
   "id": "e3b478d3",
   "metadata": {},
   "outputs": [],
   "source": [
    "# test_df = pl.read_database(\"\"\"  \"\"\",\n",
    "#     connection=raw_cursor,\n",
    "# ) "
   ]
  },
  {
   "cell_type": "code",
   "execution_count": null,
   "id": "b7c4d74d",
   "metadata": {},
   "outputs": [],
   "source": [
    "# test_df"
   ]
  },
  {
   "cell_type": "markdown",
   "id": "4f056b70",
   "metadata": {},
   "source": [
    "# Cohort"
   ]
  },
  {
   "cell_type": "code",
   "execution_count": 12,
   "id": "302dc6f4",
   "metadata": {},
   "outputs": [],
   "source": [
    "cohort_df = pl.read_database(\"\"\" SELECT * from S348.dbo.DETERMINE_OCHIN_COHORT\"\"\",\n",
    "    connection=raw_cursor,\n",
    ") "
   ]
  },
  {
   "cell_type": "code",
   "execution_count": 13,
   "id": "b15c5c6e",
   "metadata": {},
   "outputs": [],
   "source": [
    "cohort_df.write_parquet(\"Determine_Cohort_with_labels_OutcomeDate.parquet\")"
   ]
  },
  {
   "cell_type": "code",
   "execution_count": 14,
   "id": "25c0e25a",
   "metadata": {},
   "outputs": [
    {
     "data": {
      "text/html": [
       "<div><style>\n",
       ".dataframe > thead > tr,\n",
       ".dataframe > tbody > tr {\n",
       "  text-align: right;\n",
       "  white-space: pre-wrap;\n",
       "}\n",
       "</style>\n",
       "<small>shape: (5, 7)</small><table border=\"1\" class=\"dataframe\"><thead><tr><th>PATIENT_NUM</th><th>Index_Start_date</th><th>FirstOutcomeDate</th><th>Age_at_encounter_date</th><th>Outcome</th><th>DEATH_DATE</th><th>Zip_CD</th></tr><tr><td>i64</td><td>datetime[μs]</td><td>datetime[μs]</td><td>i64</td><td>i64</td><td>datetime[μs]</td><td>str</td></tr></thead><tbody><tr><td>8202921</td><td>2017-03-15 00:00:00</td><td>2019-05-29 00:00:00</td><td>60</td><td>1</td><td>null</td><td>&quot;83706&quot;</td></tr><tr><td>6046573</td><td>2017-03-27 00:00:00</td><td>null</td><td>45</td><td>0</td><td>null</td><td>&quot;97136&quot;</td></tr><tr><td>2179286</td><td>2016-12-13 00:00:00</td><td>null</td><td>34</td><td>0</td><td>null</td><td>&quot;77530&quot;</td></tr><tr><td>6861988</td><td>2016-09-16 00:00:00</td><td>null</td><td>33</td><td>0</td><td>null</td><td>&quot;90035&quot;</td></tr><tr><td>7452088</td><td>2017-02-02 00:00:00</td><td>null</td><td>43</td><td>0</td><td>null</td><td>&quot;75217&quot;</td></tr></tbody></table></div>"
      ],
      "text/plain": [
       "shape: (5, 7)\n",
       "┌─────────────┬────────────────┬────────────────┬────────────────┬─────────┬──────────────┬────────┐\n",
       "│ PATIENT_NUM ┆ Index_Start_da ┆ FirstOutcomeDa ┆ Age_at_encount ┆ Outcome ┆ DEATH_DATE   ┆ Zip_CD │\n",
       "│ ---         ┆ te             ┆ te             ┆ er_date        ┆ ---     ┆ ---          ┆ ---    │\n",
       "│ i64         ┆ ---            ┆ ---            ┆ ---            ┆ i64     ┆ datetime[μs] ┆ str    │\n",
       "│             ┆ datetime[μs]   ┆ datetime[μs]   ┆ i64            ┆         ┆              ┆        │\n",
       "╞═════════════╪════════════════╪════════════════╪════════════════╪═════════╪══════════════╪════════╡\n",
       "│ 8202921     ┆ 2017-03-15     ┆ 2019-05-29     ┆ 60             ┆ 1       ┆ null         ┆ 83706  │\n",
       "│             ┆ 00:00:00       ┆ 00:00:00       ┆                ┆         ┆              ┆        │\n",
       "│ 6046573     ┆ 2017-03-27     ┆ null           ┆ 45             ┆ 0       ┆ null         ┆ 97136  │\n",
       "│             ┆ 00:00:00       ┆                ┆                ┆         ┆              ┆        │\n",
       "│ 2179286     ┆ 2016-12-13     ┆ null           ┆ 34             ┆ 0       ┆ null         ┆ 77530  │\n",
       "│             ┆ 00:00:00       ┆                ┆                ┆         ┆              ┆        │\n",
       "│ 6861988     ┆ 2016-09-16     ┆ null           ┆ 33             ┆ 0       ┆ null         ┆ 90035  │\n",
       "│             ┆ 00:00:00       ┆                ┆                ┆         ┆              ┆        │\n",
       "│ 7452088     ┆ 2017-02-02     ┆ null           ┆ 43             ┆ 0       ┆ null         ┆ 75217  │\n",
       "│             ┆ 00:00:00       ┆                ┆                ┆         ┆              ┆        │\n",
       "└─────────────┴────────────────┴────────────────┴────────────────┴─────────┴──────────────┴────────┘"
      ]
     },
     "execution_count": 14,
     "metadata": {},
     "output_type": "execute_result"
    }
   ],
   "source": [
    "cohort_df.head()"
   ]
  },
  {
   "cell_type": "markdown",
   "id": "565add9d",
   "metadata": {},
   "source": [
    "## Diagnoses"
   ]
  },
  {
   "cell_type": "code",
   "execution_count": null,
   "id": "015cfb55",
   "metadata": {},
   "outputs": [],
   "source": [
    "diag_cohort_df = pl.read_database(\n",
    "    query='''SELECT o.PATIENT_NUM, o.ENCOUNTER_NUM, o.START_DATE, o.CONCEPT_CD\n",
    "FROM AAOCHIN2023.S348.OBSERVATION_FACT o\n",
    "JOIN S348.dbo.DETERMINE_OCHIN_COHORT c ON o.PATIENT_NUM = c.PATIENT_NUM\n",
    "WHERE o.PATIENT_NUM IN (SELECT PATIENT_NUM FROM S348.dbo.DETERMINE_OCHIN_COHORT)\n",
    "  AND o.START_DATE >= DATEADD(year, -1, c.Index_Start_date)\n",
    "  AND o.START_DATE < c.Index_Start_date\n",
    "  AND o.Concept_CD NOT LIKE 'ICD10CM:E11%'\n",
    "  AND o.Concept_CD NOT LIKE 'ICD9CM:250%'\n",
    "\n",
    "  AND o.Concept_CD LIKE 'ICD%'\n",
    "ORDER BY o.PATIENT_NUM;''',\n",
    "    connection=raw_cursor,\n",
    ")"
   ]
  },
  {
   "cell_type": "code",
   "execution_count": null,
   "id": "f666d187",
   "metadata": {},
   "outputs": [],
   "source": [
    "### saving diagnoses_df ###\n",
    "diag_cohort_df.write_parquet(\"Determine_diagnoses_cohort_data.parquet\")"
   ]
  },
  {
   "cell_type": "code",
   "execution_count": null,
   "id": "beae0295",
   "metadata": {},
   "outputs": [],
   "source": [
    "del diag_cohort_df"
   ]
  },
  {
   "cell_type": "markdown",
   "id": "3114ee02",
   "metadata": {},
   "source": [
    "## Medications"
   ]
  },
  {
   "cell_type": "code",
   "execution_count": null,
   "id": "6ba47e31",
   "metadata": {},
   "outputs": [],
   "source": [
    "med_cohort_df = pl.read_database(\n",
    "    query='''SELECT \n",
    "    o.PATIENT_NUM, \n",
    "    o.ENCOUNTER_NUM, \n",
    "    o.START_DATE, \n",
    "    o.CONCEPT_CD AS RxNorm, \n",
    "    c.NAME_CHAR AS Medication_Name,\n",
    "    o.START_DATE as RX_StartDate, \n",
    "    o.RX_DOSE_ORDERED as RX_Dose_Ordered, \n",
    "    o.RX_DOSE_ORDERED_UNIT as Rx_Dose_Ordered_Unit, \n",
    "    o.RX_QUANTITY as RX_Quantity\n",
    "FROM \n",
    "    AAOCHIN2023.S348.OBSERVATION_FACT o\n",
    "JOIN \n",
    "    AAOCHIN2023.common.CONCEPT_DIMENSION c \n",
    "    ON o.CONCEPT_CD = c.CONCEPT_CD\n",
    "JOIN \n",
    "    S348.dbo.DETERMINE_OCHIN_COHORT dc \n",
    "    ON o.PATIENT_NUM = dc.PATIENT_NUM\n",
    "WHERE \n",
    "    o.PATIENT_NUM IN (SELECT PATIENT_NUM FROM S348.dbo.DETERMINE_OCHIN_COHORT)\n",
    "    AND o.CONCEPT_CD LIKE 'RXNORM%' -- pattern for medication data\n",
    "    AND o.START_DATE >= DATEADD(year, -1, dc.Index_Start_date)\n",
    "    AND o.START_DATE <= dc.Index_Start_date\n",
    "ORDER BY \n",
    "    o.PATIENT_NUM, RX_Quantity;''',\n",
    "    connection=raw_cursor,\n",
    ") "
   ]
  },
  {
   "cell_type": "code",
   "execution_count": null,
   "id": "3d36985a",
   "metadata": {},
   "outputs": [],
   "source": [
    "med_cohort_df.shape"
   ]
  },
  {
   "cell_type": "code",
   "execution_count": null,
   "id": "2876e46b",
   "metadata": {},
   "outputs": [],
   "source": [
    "### saving medications_df ###\n",
    "med_cohort_df.write_parquet('Determine_medications_cohort_data.parquet')"
   ]
  },
  {
   "cell_type": "markdown",
   "id": "ff945f94",
   "metadata": {},
   "source": [
    "## Lab results"
   ]
  },
  {
   "cell_type": "code",
   "execution_count": null,
   "id": "e1ee810a",
   "metadata": {},
   "outputs": [],
   "source": [
    "if  cohort_data_config.get_lab_results_all:\n",
    "    lab_results_df = pl.read_database(\n",
    "    query='''WITH RankedResults AS (\n",
    "    SELECT \n",
    "        o.PATIENT_NUM, \n",
    "        o.ENCOUNTER_NUM, \n",
    "        o.START_DATE as Specimen_Date,\n",
    "        o.CONCEPT_CD AS LabLOINC, \n",
    "        c.NAME_CHAR AS Lab_Name,\n",
    "        o.NVAL_NUM as Result_Number, \n",
    "        o.UNITS_CD as Result_Unit\n",
    "        --ROW_NUMBER() OVER (PARTITION BY o.PATIENT_NUM, o.CONCEPT_CD ORDER BY o.START_DATE DESC) as rn\n",
    "    FROM \n",
    "        AAOCHIN2023.S348.OBSERVATION_FACT o\n",
    "    JOIN \n",
    "        AAOCHIN2023.common.CONCEPT_DIMENSION c ON o.CONCEPT_CD = c.CONCEPT_CD\n",
    "    JOIN \n",
    "        S348.dbo.DETERMINE_OCHIN_COHORT coh ON o.PATIENT_NUM = coh.PATIENT_NUM\n",
    "    WHERE\n",
    "        o.PATIENT_NUM IN (SELECT PATIENT_NUM FROM S348.dbo.DETERMINE_OCHIN_COHORT)\n",
    "        AND o.CONCEPT_CD LIKE 'LOINC%'\n",
    "        AND o.CONCEPT_CD != 'LOINC:4548-4' -- Excluding A1c data\n",
    "        AND o.CONCEPT_CD != 'LOINC:17856-6' -- Excluding A1c data\n",
    "        AND o.CONCEPT_CD != 'LOINC:4549-2' -- Excluding A1c data\n",
    "        AND o.START_DATE >= DATEADD(YEAR, -1, coh.Index_Start_date)\n",
    "        AND o.START_DATE < coh.Index_Start_date\n",
    "        AND o.NVAL_NUM IS NOT NULL \n",
    "    )\n",
    "    SELECT \n",
    "        PATIENT_NUM,\n",
    "        ENCOUNTER_NUM,\n",
    "        Specimen_Date,\n",
    "        LabLOINC,\n",
    "        Lab_Name,\n",
    "        Result_Number,\n",
    "        Result_Unit\n",
    "\n",
    "    FROM\n",
    "\n",
    "        RankedResults''',\n",
    "    connection=raw_cursor)\n",
    "    \n",
    "    lab_results_df.write_parquet('Determine_lab_results_cohort_data_all.parquet')\n",
    "    \n",
    "    \n",
    "\n",
    "\n",
    "\n",
    "elif cohort_data_config.get_latest_lab_results:\n",
    "    lab_results_df = pl.read_database(\n",
    "    query='''WITH RankedResults AS (\n",
    "    SELECT \n",
    "        o.PATIENT_NUM, \n",
    "        o.ENCOUNTER_NUM, \n",
    "        o.START_DATE as Specimen_Date,\n",
    "        o.CONCEPT_CD AS LabLOINC, \n",
    "        c.NAME_CHAR AS Lab_Name,\n",
    "        o.NVAL_NUM as Result_Number, \n",
    "        o.UNITS_CD as Result_Unit,\n",
    "        ROW_NUMBER() OVER (PARTITION BY o.PATIENT_NUM, o.CONCEPT_CD ORDER BY o.START_DATE DESC) as rn\n",
    "    FROM \n",
    "        AAOCHIN2023.S348.OBSERVATION_FACT o\n",
    "    JOIN \n",
    "        AAOCHIN2023.common.CONCEPT_DIMENSION c ON o.CONCEPT_CD = c.CONCEPT_CD\n",
    "    JOIN \n",
    "        S348.dbo.DETERMINE_OCHIN_COHORT coh ON o.PATIENT_NUM = coh.PATIENT_NUM\n",
    "    WHERE\n",
    "        o.PATIENT_NUM IN (SELECT PATIENT_NUM FROM S348.dbo.DETERMINE_OCHIN_COHORT)\n",
    "        AND o.CONCEPT_CD LIKE 'LOINC%'\n",
    "        AND o.CONCEPT_CD != 'LOINC:4548-4' -- Excluding A1c data\n",
    "        AND o.CONCEPT_CD != 'LOINC:17856-6' -- Excluding A1c data\n",
    "        AND o.CONCEPT_CD != 'LOINC:4549-2' -- Excluding A1c data\n",
    "        AND o.START_DATE >= DATEADD(YEAR, -1, coh.Index_Start_date)\n",
    "        AND o.START_DATE < coh.Index_Start_date\n",
    "        AND o.NVAL_NUM IS NOT NULL \n",
    ")\n",
    "SELECT \n",
    "    PATIENT_NUM,\n",
    "    ENCOUNTER_NUM,\n",
    "    Specimen_Date,\n",
    "    LabLOINC,\n",
    "    Lab_Name,\n",
    "    Result_Number,\n",
    "    Result_Unit\n",
    "FROM \n",
    "    RankedResults\n",
    "WHERE \n",
    "    rn = 1\n",
    "ORDER BY \n",
    "    PATIENT_NUM;''',\n",
    "    connection=raw_cursor)\n",
    "    \n",
    "    lab_results_df.write_parquet('Determine_lab_results_cohort_data_latest.parquet')\n",
    "    \n",
    "elif cohort_data_config.get_temporal_lab_results_only_mean:\n",
    "    \n",
    "    lab_results_df = pl.read_database(\n",
    "    query='''WITH MeanLabResults AS (\n",
    "    SELECT \n",
    "        o.PATIENT_NUM, \n",
    "        o.CONCEPT_CD AS LabLOINC, \n",
    "        AVG(o.NVAL_NUM) as Mean_Result_Number\n",
    "        \n",
    "    FROM \n",
    "        AAOCHIN2023.S348.OBSERVATION_FACT o\n",
    "    JOIN \n",
    "        AAOCHIN2023.common.CONCEPT_DIMENSION c ON o.CONCEPT_CD = c.CONCEPT_CD\n",
    "    JOIN \n",
    "        S348.dbo.DETERMINE_OCHIN_COHORT coh ON o.PATIENT_NUM = coh.PATIENT_NUM\n",
    "    WHERE \n",
    "        o.CONCEPT_CD LIKE 'LOINC%'\n",
    "        AND o.CONCEPT_CD != 'LOINC:4548-4' -- Excluding A1c data\n",
    "        AND o.CONCEPT_CD != 'LOINC:17856-6' -- Excluding A1c data\n",
    "        AND o.CONCEPT_CD != 'LOINC:4549-2' -- Excluding A1c data\n",
    "        AND o.START_DATE >= DATEADD(YEAR, -1, coh.Index_Start_date)\n",
    "        AND o.START_DATE < coh.Index_Start_date\n",
    "        AND o.NVAL_NUM IS NOT NULL \n",
    "    GROUP BY \n",
    "        o.PATIENT_NUM, \n",
    "        o.CONCEPT_CD\n",
    ")\n",
    "SELECT \n",
    "    PATIENT_NUM,\n",
    "    LabLOINC,\n",
    "    Mean_Result_Number\n",
    "    \n",
    "FROM \n",
    "    MeanLabResults\n",
    "ORDER BY \n",
    "    PATIENT_NUM;''',\n",
    "    connection=raw_cursor)\n",
    "    \n",
    "    lab_results_df.write_parquet('Determine_lab_results_cohort_data_mean.parquet')\n",
    "    \n",
    "elif cohort_data_config.get_temporal_lab_results_only_mean_latest_oldest:\n",
    "    lab_results_df = pl.read_database(\n",
    "    query='''WITH LabResults AS (\n",
    "    SELECT \n",
    "        o.PATIENT_NUM, \n",
    "        o.ENCOUNTER_NUM, \n",
    "        o.START_DATE AS Specimen_Date,\n",
    "        o.CONCEPT_CD AS LabLOINC, \n",
    "        c.NAME_CHAR AS Lab_Name,\n",
    "        o.NVAL_NUM AS Result_Number, \n",
    "        ROW_NUMBER() OVER (PARTITION BY o.PATIENT_NUM, o.CONCEPT_CD ORDER BY o.START_DATE DESC) AS rn_latest,\n",
    "        ROW_NUMBER() OVER (PARTITION BY o.PATIENT_NUM, o.CONCEPT_CD ORDER BY o.START_DATE ASC) AS rn_oldest\n",
    "    FROM \n",
    "        AAOCHIN2023.S348.OBSERVATION_FACT o\n",
    "    JOIN \n",
    "        AAOCHIN2023.common.CONCEPT_DIMENSION c ON o.CONCEPT_CD = c.CONCEPT_CD\n",
    "    JOIN \n",
    "        S348.dbo.DETERMINE_OCHIN_COHORT coh ON o.PATIENT_NUM = coh.PATIENT_NUM\n",
    "    WHERE \n",
    "        o.CONCEPT_CD LIKE 'LOINC%'\n",
    "        AND o.CONCEPT_CD != 'LOINC:4548-4' -- Excluding A1c data\n",
    "        AND o.CONCEPT_CD != 'LOINC:17856-6' -- Excluding A1c data\n",
    "        AND o.CONCEPT_CD != 'LOINC:4549-2' -- Excluding A1c data\n",
    "        AND o.START_DATE >= DATEADD(YEAR, -1, coh.Index_Start_date)\n",
    "        AND o.START_DATE < coh.Index_Start_date\n",
    "        AND o.NVAL_NUM IS NOT NULL\n",
    "),\n",
    "AggregatedLabResults AS (\n",
    "    SELECT\n",
    "        PATIENT_NUM, \n",
    "        LabLOINC, \n",
    "        Lab_Name,\n",
    "        Result_Unit,\n",
    "        AVG(Result_Number) AS Mean_Result\n",
    "    FROM \n",
    "        LabResults\n",
    "    GROUP BY \n",
    "        PATIENT_NUM, LabLOINC, Lab_Name, Result_Unit\n",
    "),\n",
    "LatestAndOldestResults AS (\n",
    "    SELECT \n",
    "        PATIENT_NUM, \n",
    "        LabLOINC, \n",
    "        Lab_Name,\n",
    "        MAX(CASE WHEN rn_latest = 1 THEN Result_Number END) AS Latest_Result_Number,\n",
    "        MAX(CASE WHEN rn_oldest = 1 THEN Result_Number END) AS Oldest_Result_Number,\n",
    "\n",
    "    FROM \n",
    "        LabResults\n",
    "    WHERE \n",
    "        rn_latest = 1 OR rn_oldest = 1\n",
    "    GROUP BY \n",
    "        PATIENT_NUM, LabLOINC\n",
    ")\n",
    "\n",
    "SELECT \n",
    "    a.PATIENT_NUM,\n",
    "    a.LabLOINC,\n",
    "    a.Lab_Name,\n",
    "    l.Latest_Result_Number,\n",
    "    l.Oldest_Result_Number,\n",
    "    a.Mean_Result,\n",
    "FROM \n",
    "    AggregatedLabResults a\n",
    "JOIN \n",
    "    LatestAndOldestResults l \n",
    "    ON a.PATIENT_NUM = l.PATIENT_NUM \n",
    "    AND a.LabLOINC = l.LabLOINC \n",
    "ORDER BY \n",
    "    a.PATIENT_NUM;''',\n",
    "    connection=raw_cursor)\n",
    "    \n",
    "    lab_results_df.write_parquet('Determine_lab_results_cohort_data_latest_oldest_mean.parquet')\n",
    "    "
   ]
  },
  {
   "cell_type": "code",
   "execution_count": null,
   "id": "dfe86006",
   "metadata": {},
   "outputs": [],
   "source": [
    "lab_results_df.shape"
   ]
  },
  {
   "cell_type": "markdown",
   "id": "5009e6df",
   "metadata": {},
   "source": [
    "## Demographics"
   ]
  },
  {
   "cell_type": "code",
   "execution_count": null,
   "id": "7007b5ee",
   "metadata": {},
   "outputs": [],
   "source": [
    "demo_cohort_df = pl.read_database(\n",
    "    query='''SELECT pd.Patient_num, pd.Sex_CD, pd.Race_CD, pd.Hispanic_CD, pd.Gender_CD\n",
    "FROM AAOCHIN2023.S348.PATIENT_DIMENSION pd\n",
    "WHERE pd.PATIENT_NUM in (SELECT PATIENT_NUM FROM S348.dbo.DETERMINE_OCHIN_COHORT);''',\n",
    "    connection=raw_cursor,\n",
    ") "
   ]
  },
  {
   "cell_type": "code",
   "execution_count": null,
   "id": "a1150cb8",
   "metadata": {},
   "outputs": [],
   "source": [
    "demo_cohort_df.write_parquet(\"Determine_demographics_cohort_data.parquet\")"
   ]
  },
  {
   "cell_type": "markdown",
   "id": "4e9a7c36",
   "metadata": {},
   "source": [
    "## BMI, HEIGHT, WEIGHT and BP"
   ]
  },
  {
   "cell_type": "code",
   "execution_count": null,
   "id": "c719b16c",
   "metadata": {},
   "outputs": [],
   "source": [
    "bmi_cohort_df = pl.read_database(\n",
    "    query=''' SELECT ob.PATIENT_NUM, ob.CONCEPT_CD, ob.NVAL_NUM, UNITS_CD, ob.START_DATE\n",
    "    FROM \n",
    "        AAOCHIN2023.S348.OBSERVATION_FACT ob\n",
    "    JOIN\n",
    "        S348.dbo.DETERMINE_OCHIN_COHORT dc \n",
    "        ON ob.PATIENT_NUM = dc.PATIENT_NUM\n",
    "    WHERE\n",
    "        ob.PATIENT_NUM IN (SELECT PATIENT_NUM FROM S348.dbo.DETERMINE_OCHIN_COHORT)\n",
    "        AND ob.START_DATE >= DATEADD(YEAR, -1, dc.Index_Start_date)\n",
    "        AND ob.START_DATE < dc.Index_Start_date\n",
    "        AND (ob.CONCEPT_CD LIKE 'VIT|BMI%'\n",
    "        OR ob.CONCEPT_CD LIKE 'VIT|DIASTOLIC%'\n",
    "        OR ob.CONCEPT_CD LIKE 'VIT|SYSTOLIC%'\n",
    "        OR ob.CONCEPT_CD LIKE 'VIT|WT%'\n",
    "        );''',\n",
    "    connection=raw_cursor,\n",
    ") "
   ]
  },
  {
   "cell_type": "code",
   "execution_count": null,
   "id": "71e35e61",
   "metadata": {},
   "outputs": [],
   "source": [
    "bmi_cohort_df.head()"
   ]
  },
  {
   "cell_type": "code",
   "execution_count": null,
   "id": "728c0f02",
   "metadata": {},
   "outputs": [],
   "source": [
    "bmi_cohort_df.shape"
   ]
  },
  {
   "cell_type": "code",
   "execution_count": null,
   "id": "947af242",
   "metadata": {},
   "outputs": [],
   "source": [
    "bmi_cohort_df.write_parquet(\"Determine_dbmi_bp_cohort_data.parquet\")"
   ]
  },
  {
   "cell_type": "markdown",
   "id": "13e9553b",
   "metadata": {},
   "source": [
    "## Height\n"
   ]
  },
  {
   "cell_type": "code",
   "execution_count": null,
   "id": "0736155e",
   "metadata": {},
   "outputs": [],
   "source": [
    "height_df = pl.read_database(\"\"\" SELECT ob.PATIENT_NUM, cd.CONCEPT_PATH, cd.NAME_CHAR, ob.NVAL_NUM, ob.UNITS_CD\n",
    "    FROM \n",
    "        AAOCHIN2023.S348.OBSERVATION_FACT ob     \n",
    "    JOIN\n",
    "        AAOCHIN2023.common.CONCEPT_DIMENSION cd\n",
    "        ON ob.CONCEPT_CD = cd.CONCEPT_CD\n",
    "    WHERE\n",
    "        ob.PATIENT_NUM IN (SELECT PATIENT_NUM FROM S348.dbo.DETERMINE_OCHIN_COHORT)\n",
    "        AND cd.CONCEPT_PATH LIKE '\\i2b2\\Vitals\\H%';  \"\"\",\n",
    "    connection=raw_cursor,\n",
    ") "
   ]
  },
  {
   "cell_type": "code",
   "execution_count": null,
   "id": "234ad34c",
   "metadata": {},
   "outputs": [],
   "source": [
    "height_df.head()"
   ]
  },
  {
   "cell_type": "code",
   "execution_count": null,
   "id": "b44d4516",
   "metadata": {},
   "outputs": [],
   "source": [
    "height_df.write_parquet(\"Determine_height_cohort_data.parquet\")"
   ]
  },
  {
   "cell_type": "markdown",
   "id": "7964c705",
   "metadata": {},
   "source": [
    "## SDoH datasets"
   ]
  },
  {
   "cell_type": "code",
   "execution_count": null,
   "id": "8ea7de86",
   "metadata": {},
   "outputs": [],
   "source": [
    "tob_cohort_df = pl.read_database(\n",
    "    query='''SELECT ob.PATIENT_NUM, ob.CONCEPT_CD, ob.START_DATE\n",
    "    FROM \n",
    "        AAOCHIN2023.S348.OBSERVATION_FACT ob\n",
    "    JOIN\n",
    "        S348.dbo.DETERMINE_OCHIN_COHORT dc \n",
    "        ON ob.PATIENT_NUM = dc.PATIENT_NUM\n",
    "    WHERE\n",
    "        ob.PATIENT_NUM IN (SELECT PATIENT_NUM FROM S348.dbo.DETERMINE_OCHIN_COHORT)\n",
    "        AND ob.START_DATE >= DATEADD(YEAR, -1, dc.Index_Start_date)\n",
    "        AND ob.START_DATE < dc.Index_Start_date\n",
    "        AND (SUBSTRING(CONCEPT_CD, 1,7) = 'VIT|TOB'\n",
    "        OR SUBSTRING(CONCEPT_CD, 1,7) = 'VIT|SMK');''',\n",
    "    connection=raw_cursor,\n",
    ") "
   ]
  },
  {
   "cell_type": "code",
   "execution_count": null,
   "id": "cfe5cd5b",
   "metadata": {},
   "outputs": [],
   "source": [
    "len(np.unique(tob_cohort_df['PATIENT_NUM'].to_list()))"
   ]
  },
  {
   "cell_type": "code",
   "execution_count": null,
   "id": "f752572b",
   "metadata": {},
   "outputs": [],
   "source": [
    "tob_cohort_df.write_parquet('Determine_tob_cohort_data.parquet')"
   ]
  },
  {
   "cell_type": "markdown",
   "id": "e26f4d95",
   "metadata": {},
   "source": [
    " ### SDOH screening data"
   ]
  },
  {
   "cell_type": "code",
   "execution_count": 33,
   "id": "1b1df468",
   "metadata": {},
   "outputs": [
    {
     "data": {
      "text/html": [
       "<div><style>\n",
       ".dataframe > thead > tr,\n",
       ".dataframe > tbody > tr {\n",
       "  text-align: right;\n",
       "  white-space: pre-wrap;\n",
       "}\n",
       "</style>\n",
       "<small>shape: (5, 21)</small><table border=\"1\" class=\"dataframe\"><thead><tr><th>ENCOUNTER_NUM</th><th>PATIENT_NUM</th><th>CONCEPT_CD</th><th>PROVIDER_ID</th><th>START_DATE</th><th>MODIFIER_CD</th><th>INSTANCE_NUM</th><th>VALTYPE_CD</th><th>TVAL_CHAR</th><th>NVAL_NUM</th><th>VALUEFLAG_CD</th><th>QUANTITY_NUM</th><th>UNITS_CD</th><th>END_DATE</th><th>LOCATION_CD</th><th>RX_START_DATE</th><th>RX_DOSE_ORDERED</th><th>RX_DOSE_ORDERED_UNIT</th><th>RX_DOSE_FORM</th><th>RX_REFILLS</th><th>RX_QUANTITY</th></tr><tr><td>i64</td><td>i64</td><td>str</td><td>str</td><td>datetime[μs]</td><td>str</td><td>i64</td><td>str</td><td>str</td><td>decimal[18,5]</td><td>str</td><td>decimal[18,5]</td><td>str</td><td>datetime[μs]</td><td>str</td><td>date</td><td>decimal[15,5]</td><td>str</td><td>str</td><td>decimal[15,8]</td><td>decimal[15,8]</td></tr></thead><tbody><tr><td>222552013</td><td>8683894</td><td>&quot;CPT4:0064U&quot;</td><td>&quot;6AECE123-1D16-4E22-85C3-827D98…</td><td>2021-12-22 00:00:00</td><td>&quot;@&quot;</td><td>1</td><td>&quot;&quot;</td><td>&quot;&quot;</td><td>null</td><td>&quot;&quot;</td><td>null</td><td>&quot;@&quot;</td><td>2021-12-22 00:00:00</td><td>&quot;DE4F5B35-FE32-4BC2-9CF8-30DF2D…</td><td>null</td><td>null</td><td>null</td><td>null</td><td>null</td><td>null</td></tr><tr><td>222012359</td><td>9309612</td><td>&quot;CPT4:0064U&quot;</td><td>&quot;105B8449-FF33-4435-A351-97AF14…</td><td>2021-12-15 00:00:00</td><td>&quot;@&quot;</td><td>1</td><td>&quot;&quot;</td><td>&quot;&quot;</td><td>null</td><td>&quot;&quot;</td><td>null</td><td>&quot;@&quot;</td><td>2021-12-15 00:00:00</td><td>&quot;DE4F5B35-FE32-4BC2-9CF8-30DF2D…</td><td>null</td><td>null</td><td>null</td><td>null</td><td>null</td><td>null</td></tr><tr><td>206904254</td><td>8097180</td><td>&quot;CPT4:0064U&quot;</td><td>&quot;105B8449-FF33-4435-A351-97AF14…</td><td>2021-08-18 00:00:00</td><td>&quot;@&quot;</td><td>1</td><td>&quot;&quot;</td><td>&quot;&quot;</td><td>null</td><td>&quot;&quot;</td><td>null</td><td>&quot;@&quot;</td><td>2021-08-18 00:00:00</td><td>&quot;DE4F5B35-FE32-4BC2-9CF8-30DF2D…</td><td>null</td><td>null</td><td>null</td><td>null</td><td>null</td><td>null</td></tr><tr><td>185878932</td><td>7957728</td><td>&quot;CPT4:0064U&quot;</td><td>&quot;E6DFD235-372F-4C28-B1A5-FD8653…</td><td>2021-02-04 00:00:00</td><td>&quot;@&quot;</td><td>1</td><td>&quot;&quot;</td><td>&quot;&quot;</td><td>null</td><td>&quot;&quot;</td><td>null</td><td>&quot;@&quot;</td><td>2021-02-04 00:00:00</td><td>&quot;DE4F5B35-FE32-4BC2-9CF8-30DF2D…</td><td>null</td><td>null</td><td>null</td><td>null</td><td>null</td><td>null</td></tr><tr><td>206273037</td><td>7966046</td><td>&quot;CPT4:0064U&quot;</td><td>&quot;6AECE123-1D16-4E22-85C3-827D98…</td><td>2021-08-13 00:00:00</td><td>&quot;@&quot;</td><td>1</td><td>&quot;&quot;</td><td>&quot;&quot;</td><td>null</td><td>&quot;&quot;</td><td>null</td><td>&quot;@&quot;</td><td>2021-08-13 00:00:00</td><td>&quot;DE4F5B35-FE32-4BC2-9CF8-30DF2D…</td><td>null</td><td>null</td><td>null</td><td>null</td><td>null</td><td>null</td></tr></tbody></table></div>"
      ],
      "text/plain": [
       "shape: (5, 21)\n",
       "┌───────────┬───────────┬───────────┬───────────┬───┬───────────┬───────────┬───────────┬──────────┐\n",
       "│ ENCOUNTER ┆ PATIENT_N ┆ CONCEPT_C ┆ PROVIDER_ ┆ … ┆ RX_DOSE_O ┆ RX_DOSE_F ┆ RX_REFILL ┆ RX_QUANT │\n",
       "│ _NUM      ┆ UM        ┆ D         ┆ ID        ┆   ┆ RDERED_UN ┆ ORM       ┆ S         ┆ ITY      │\n",
       "│ ---       ┆ ---       ┆ ---       ┆ ---       ┆   ┆ IT        ┆ ---       ┆ ---       ┆ ---      │\n",
       "│ i64       ┆ i64       ┆ str       ┆ str       ┆   ┆ ---       ┆ str       ┆ decimal[1 ┆ decimal[ │\n",
       "│           ┆           ┆           ┆           ┆   ┆ str       ┆           ┆ 5,8]      ┆ 15,8]    │\n",
       "╞═══════════╪═══════════╪═══════════╪═══════════╪═══╪═══════════╪═══════════╪═══════════╪══════════╡\n",
       "│ 222552013 ┆ 8683894   ┆ CPT4:0064 ┆ 6AECE123- ┆ … ┆ null      ┆ null      ┆ null      ┆ null     │\n",
       "│           ┆           ┆ U         ┆ 1D16-4E22 ┆   ┆           ┆           ┆           ┆          │\n",
       "│           ┆           ┆           ┆ -85C3-827 ┆   ┆           ┆           ┆           ┆          │\n",
       "│           ┆           ┆           ┆ D98…      ┆   ┆           ┆           ┆           ┆          │\n",
       "│ 222012359 ┆ 9309612   ┆ CPT4:0064 ┆ 105B8449- ┆ … ┆ null      ┆ null      ┆ null      ┆ null     │\n",
       "│           ┆           ┆ U         ┆ FF33-4435 ┆   ┆           ┆           ┆           ┆          │\n",
       "│           ┆           ┆           ┆ -A351-97A ┆   ┆           ┆           ┆           ┆          │\n",
       "│           ┆           ┆           ┆ F14…      ┆   ┆           ┆           ┆           ┆          │\n",
       "│ 206904254 ┆ 8097180   ┆ CPT4:0064 ┆ 105B8449- ┆ … ┆ null      ┆ null      ┆ null      ┆ null     │\n",
       "│           ┆           ┆ U         ┆ FF33-4435 ┆   ┆           ┆           ┆           ┆          │\n",
       "│           ┆           ┆           ┆ -A351-97A ┆   ┆           ┆           ┆           ┆          │\n",
       "│           ┆           ┆           ┆ F14…      ┆   ┆           ┆           ┆           ┆          │\n",
       "│ 185878932 ┆ 7957728   ┆ CPT4:0064 ┆ E6DFD235- ┆ … ┆ null      ┆ null      ┆ null      ┆ null     │\n",
       "│           ┆           ┆ U         ┆ 372F-4C28 ┆   ┆           ┆           ┆           ┆          │\n",
       "│           ┆           ┆           ┆ -B1A5-FD8 ┆   ┆           ┆           ┆           ┆          │\n",
       "│           ┆           ┆           ┆ 653…      ┆   ┆           ┆           ┆           ┆          │\n",
       "│ 206273037 ┆ 7966046   ┆ CPT4:0064 ┆ 6AECE123- ┆ … ┆ null      ┆ null      ┆ null      ┆ null     │\n",
       "│           ┆           ┆ U         ┆ 1D16-4E22 ┆   ┆           ┆           ┆           ┆          │\n",
       "│           ┆           ┆           ┆ -85C3-827 ┆   ┆           ┆           ┆           ┆          │\n",
       "│           ┆           ┆           ┆ D98…      ┆   ┆           ┆           ┆           ┆          │\n",
       "└───────────┴───────────┴───────────┴───────────┴───┴───────────┴───────────┴───────────┴──────────┘"
      ]
     },
     "execution_count": 33,
     "metadata": {},
     "output_type": "execute_result"
    }
   ],
   "source": [
    "sdoh_screening_df = pl.read_database(\n",
    "    query=''' SELECT TOP 10 *\n",
    "    FROM \n",
    "        AAOCHIN2023.S348.OBSERVATION_FACT\n",
    "     ''',\n",
    "    connection=raw_cursor,\n",
    ") \n",
    "sdoh_screening_df.head()"
   ]
  },
  {
   "cell_type": "code",
   "execution_count": 34,
   "id": "3f885a3d",
   "metadata": {},
   "outputs": [],
   "source": [
    "sdoh_screening_df = pl.read_database(\n",
    "    query=''' SELECT ob.PATIENT_NUM, cd.CONCEPT_PATH, cd.NAME_CHAR, cd.CONCEPT_CD, ob.QUANTITY_NUM\n",
    "    FROM \n",
    "        AAOCHIN2023.S348.OBSERVATION_FACT ob     \n",
    "    JOIN\n",
    "        AAOCHIN2023.common.CONCEPT_DIMENSION cd\n",
    "        ON ob.CONCEPT_CD = cd.CONCEPT_CD\n",
    "    JOIN\n",
    "        S348.dbo.DETERMINE_OCHIN_COHORT dc \n",
    "        ON ob.PATIENT_NUM = dc.PATIENT_NUM\n",
    "        \n",
    "    WHERE\n",
    "        ob.PATIENT_NUM IN (SELECT PATIENT_NUM FROM S348.dbo.DETERMINE_OCHIN_COHORT)\n",
    "        AND cd.CONCEPT_PATH LIKE '\\i2b2\\SDH\\%' \n",
    "        AND ob.START_DATE < dc.Index_Start_date''',\n",
    "    connection=raw_cursor,\n",
    ") \n"
   ]
  },
  {
   "cell_type": "code",
   "execution_count": 35,
   "id": "f0e72d9e",
   "metadata": {},
   "outputs": [
    {
     "data": {
      "text/plain": [
       "(88857, 5)"
      ]
     },
     "execution_count": 35,
     "metadata": {},
     "output_type": "execute_result"
    }
   ],
   "source": [
    "sdoh_screening_df.shape"
   ]
  },
  {
   "cell_type": "code",
   "execution_count": 36,
   "id": "105d7c8b",
   "metadata": {},
   "outputs": [
    {
     "data": {
      "text/html": [
       "<div><style>\n",
       ".dataframe > thead > tr,\n",
       ".dataframe > tbody > tr {\n",
       "  text-align: right;\n",
       "  white-space: pre-wrap;\n",
       "}\n",
       "</style>\n",
       "<small>shape: (5, 5)</small><table border=\"1\" class=\"dataframe\"><thead><tr><th>PATIENT_NUM</th><th>CONCEPT_PATH</th><th>NAME_CHAR</th><th>CONCEPT_CD</th><th>QUANTITY_NUM</th></tr><tr><td>i64</td><td>str</td><td>str</td><td>str</td><td>decimal[18,5]</td></tr></thead><tbody><tr><td>6833020</td><td>&quot;\\i2b2\\SDH\\Food Insecurity\\ADV0…</td><td>&quot;Did your household run out of …</td><td>&quot;SDH:ADV0041&nbsp;&nbsp;&nbsp;&quot;</td><td>0.00000</td></tr><tr><td>2240700</td><td>&quot;\\i2b2\\SDH\\Food Insecurity\\ADV0…</td><td>&quot;Did your household run out of …</td><td>&quot;SDH:ADV0041&nbsp;&nbsp;&nbsp;&quot;</td><td>0.00000</td></tr><tr><td>2790074</td><td>&quot;\\i2b2\\SDH\\Food Insecurity\\ADV0…</td><td>&quot;Did your household run out of …</td><td>&quot;SDH:ADV0041&nbsp;&nbsp;&nbsp;&quot;</td><td>0.00000</td></tr><tr><td>2116451</td><td>&quot;\\i2b2\\SDH\\Food Insecurity\\ADV0…</td><td>&quot;Did your household run out of …</td><td>&quot;SDH:ADV0041&nbsp;&nbsp;&nbsp;&quot;</td><td>0.00000</td></tr><tr><td>4102386</td><td>&quot;\\i2b2\\SDH\\Food Insecurity\\ADV0…</td><td>&quot;Did your household run out of …</td><td>&quot;SDH:ADV0041&nbsp;&nbsp;&nbsp;&quot;</td><td>0.00000</td></tr></tbody></table></div>"
      ],
      "text/plain": [
       "shape: (5, 5)\n",
       "┌─────────────┬──────────────────┬────────────────────────────────┬────────────────┬───────────────┐\n",
       "│ PATIENT_NUM ┆ CONCEPT_PATH     ┆ NAME_CHAR                      ┆ CONCEPT_CD     ┆ QUANTITY_NUM  │\n",
       "│ ---         ┆ ---              ┆ ---                            ┆ ---            ┆ ---           │\n",
       "│ i64         ┆ str              ┆ str                            ┆ str            ┆ decimal[18,5] │\n",
       "╞═════════════╪══════════════════╪════════════════════════════════╪════════════════╪═══════════════╡\n",
       "│ 6833020     ┆ \\i2b2\\SDH\\Food   ┆ Did your household run out of  ┆ SDH:ADV0041    ┆ 0.00000       │\n",
       "│             ┆ Insecurity\\ADV0… ┆ …                              ┆                ┆               │\n",
       "│ 2240700     ┆ \\i2b2\\SDH\\Food   ┆ Did your household run out of  ┆ SDH:ADV0041    ┆ 0.00000       │\n",
       "│             ┆ Insecurity\\ADV0… ┆ …                              ┆                ┆               │\n",
       "│ 2790074     ┆ \\i2b2\\SDH\\Food   ┆ Did your household run out of  ┆ SDH:ADV0041    ┆ 0.00000       │\n",
       "│             ┆ Insecurity\\ADV0… ┆ …                              ┆                ┆               │\n",
       "│ 2116451     ┆ \\i2b2\\SDH\\Food   ┆ Did your household run out of  ┆ SDH:ADV0041    ┆ 0.00000       │\n",
       "│             ┆ Insecurity\\ADV0… ┆ …                              ┆                ┆               │\n",
       "│ 4102386     ┆ \\i2b2\\SDH\\Food   ┆ Did your household run out of  ┆ SDH:ADV0041    ┆ 0.00000       │\n",
       "│             ┆ Insecurity\\ADV0… ┆ …                              ┆                ┆               │\n",
       "└─────────────┴──────────────────┴────────────────────────────────┴────────────────┴───────────────┘"
      ]
     },
     "execution_count": 36,
     "metadata": {},
     "output_type": "execute_result"
    }
   ],
   "source": [
    "sdoh_screening_df.head()"
   ]
  },
  {
   "cell_type": "code",
   "execution_count": 37,
   "id": "8129fbfe",
   "metadata": {},
   "outputs": [
    {
     "data": {
      "text/plain": [
       "11447"
      ]
     },
     "execution_count": 37,
     "metadata": {},
     "output_type": "execute_result"
    }
   ],
   "source": [
    "len(np.unique(sdoh_screening_df['PATIENT_NUM'].to_list()))"
   ]
  },
  {
   "cell_type": "code",
   "execution_count": 38,
   "id": "631ed924",
   "metadata": {},
   "outputs": [],
   "source": [
    "sdoh_screening_df.write_parquet('Determine_Cohort_sdoh_screening_questions.parquet')"
   ]
  },
  {
   "cell_type": "markdown",
   "id": "2ea9f606",
   "metadata": {},
   "source": [
    "# Community Vital Signs"
   ]
  },
  {
   "cell_type": "code",
   "execution_count": null,
   "id": "ccdc01b3",
   "metadata": {},
   "outputs": [],
   "source": [
    "community_vital_df = pl.read_database(\n",
    "    query=''' SELECT TOP 20 *\n",
    "    FROM \n",
    "        AAOCHIN2023.S348.ZCTA_CVS;''',\n",
    "    connection=raw_cursor,\n",
    ") "
   ]
  },
  {
   "cell_type": "code",
   "execution_count": null,
   "id": "2a8e2e8e",
   "metadata": {},
   "outputs": [],
   "source": [
    "community_vital_df.head(15)"
   ]
  },
  {
   "cell_type": "code",
   "execution_count": null,
   "id": "9a9a7077",
   "metadata": {},
   "outputs": [],
   "source": [
    "community_vital_df = pl.read_database(\n",
    "    query=''' SELECT pd.PATIENT_NUM, pd.ZIP_CD, cvs.Indicator, cvs.PERIOD, cvs.FACT\n",
    "    FROM \n",
    "        AAOCHIN2023.S348.PATIENT_DIMENSION pd       \n",
    "    JOIN\n",
    "        AAOCHIN2023.S348.ZCTA_CVS cvs\n",
    "        ON pd.ZIP_CD = cvs.ZCTA\n",
    "    WHERE\n",
    "        pd.PATIENT_NUM IN (SELECT PATIENT_NUM FROM S348.dbo.DETERMINE_OCHIN_COHORT)\n",
    "        AND cvs.PERIOD = '2016-2020'\n",
    "        AND (cvs.Indicator = 'ACS_GINI'\n",
    "        OR cvs.Indicator = 'ACS_MedHHIncome'\n",
    "        OR cvs.Indicator = 'ACS_pctCollGrad'\n",
    "        OR cvs.Indicator = 'ACS_pctPoverty100'\n",
    "        OR cvs.Indicator = 'ACS_Unemployment');''',\n",
    "    connection=raw_cursor,\n",
    ") "
   ]
  },
  {
   "cell_type": "code",
   "execution_count": null,
   "id": "281db002",
   "metadata": {},
   "outputs": [],
   "source": [
    "len(np.unique(community_vital_df['PATIENT_NUM'].to_list()))"
   ]
  },
  {
   "cell_type": "code",
   "execution_count": null,
   "id": "547d23b5",
   "metadata": {},
   "outputs": [],
   "source": [
    "community_vital_df.write_parquet('Determine_community_vital_signs_cohort.parquet')"
   ]
  },
  {
   "cell_type": "code",
   "execution_count": null,
   "id": "b4b33b39",
   "metadata": {},
   "outputs": [],
   "source": [
    "print('Hello')"
   ]
  },
  {
   "cell_type": "code",
   "execution_count": null,
   "id": "06b52029",
   "metadata": {},
   "outputs": [],
   "source": []
  },
  {
   "cell_type": "markdown",
   "id": "88c36ae1",
   "metadata": {},
   "source": [
    "# Patients with no visits/encounters after index visit"
   ]
  },
  {
   "cell_type": "code",
   "execution_count": 10,
   "id": "6b35dd1e",
   "metadata": {},
   "outputs": [],
   "source": [
    "pids_no_encs_after_vi_df = pl.read_database(\n",
    "    query='''SELECT * FROM S348.dbo.patient_records_after_index_visit''',\n",
    "    connection=raw_cursor,\n",
    ") "
   ]
  },
  {
   "cell_type": "code",
   "execution_count": 11,
   "id": "5c7c01ff",
   "metadata": {},
   "outputs": [],
   "source": [
    "pids_no_encs_after_vi_df.write_parquet('Determine_cohort_after_visit_index_details.parquet')"
   ]
  },
  {
   "cell_type": "code",
   "execution_count": null,
   "id": "b715ddd1",
   "metadata": {},
   "outputs": [],
   "source": []
  },
  {
   "cell_type": "markdown",
   "id": "bf5fc703",
   "metadata": {},
   "source": [
    "# Helper functions and variables"
   ]
  },
  {
   "cell_type": "code",
   "execution_count": 9,
   "id": "c3235815",
   "metadata": {},
   "outputs": [],
   "source": [
    "def get_active_ingredient(rxcui):\n",
    "       # Define the base URL of the RxNorm API\n",
    "       base_url = \"https://rxnav.nlm.nih.gov/REST/rxcui/\"\n",
    "       \n",
    "       # Create the complete URL for the request\n",
    "       request_url = f\"{base_url}{rxcui}/related.json?tty=IN\"\n",
    "       \n",
    "       try:\n",
    "           # Make the GET request to the API\n",
    "           response = requests.get(request_url)\n",
    "           response.raise_for_status()  # Raise an error if the request was unsuccessful\n",
    "           print(response)\n",
    "           # Parse the JSON response\n",
    "           data = response.json()\n",
    "#            print(data)\n",
    "           # Extract the active ingredient from the JSON response\n",
    "           ingredients = data.get('relatedGroup', {}).get('conceptGroup', [])\n",
    "           for group in ingredients:\n",
    "               if group.get('tty') == 'IN':  # Here we're looking for ingredients\n",
    "                   active_ingredients = [concept['name'] for concept in group.get('conceptProperties', [])]\n",
    "                   if active_ingredients == []:\n",
    "                    print(data)\n",
    "                   return active_ingredients\n",
    "       \n",
    "       except requests.RequestException as e:\n",
    "           print(f\"An error occurred: {e}\")\n",
    "\n",
    "       try:\n",
    "            response = requests.url(f'https://rxnav.nlm.nih.gov/REST/rxcui/{rxcui}/historystatus.json?caller=RxNav')\n",
    "            data = response.json()\n",
    "                        \n",
    "            active_ingredient_name = data['rxcuiStatusHistory']['definitionalFeatures'\n",
    "                                                                   ]['ingredientAndStrength'\n",
    "                                                                    ][0]['activeIngredientName']\n",
    "            return active_ingredient_name\n",
    "                \n",
    "       except:\n",
    "            return []\n",
    "            \n",
    "def get_drug_class(rxcui):\n",
    "       # Endpoint to get the ATC classification\n",
    "       url = f\"https://rxnav.nlm.nih.gov/REST/rxcui/{rxcui}/property.json?propName=ATC\"\n",
    "       \n",
    "       # Make the HTTP GET request\n",
    "       response = requests.get(url)\n",
    "       \n",
    "       # Check if the request was successful\n",
    "       if response.status_code == 200:\n",
    "           data = response.json()\n",
    "           try: \n",
    "               unique_class_names = {item['rxclassMinConceptItem']['className'] for item in data['rxclassDrugInfoList']['rxclassDrugInfo']}\n",
    "           except:\n",
    "                return \"No data\"\n",
    "       else:\n",
    "           return f\"Failed to retrieve data: {response.status_code}\""
   ]
  },
  {
   "cell_type": "code",
   "execution_count": 10,
   "id": "39a82e82",
   "metadata": {},
   "outputs": [],
   "source": [
    "### loading domain expert lab result features\n",
    "with open('loincs_hem_chem.pkl', 'rb') as file:\n",
    "    hem_loics  = pickle.load(file)"
   ]
  },
  {
   "cell_type": "code",
   "execution_count": 11,
   "id": "909760e5",
   "metadata": {},
   "outputs": [],
   "source": [
    "### ladoing phe codes (ICD10 -> phe code) and (ICD9 -> phecode  )"
   ]
  },
  {
   "cell_type": "markdown",
   "id": "c28d5000",
   "metadata": {},
   "source": [
    " # EDA & Pre-Processing\n",
    "#### Data dict:  https://view.officeapps.live.com/op/view.aspx?src=https%3A%2F%2Fwww.aim-ahead.net%2Fmedia%2Fhn1f2blb%2Fochindatadictionary_year2.xlsx&wdOrigin=BROWSELINK\n",
    "\n",
    "#### Data Dict v2: https://view.officeapps.live.com/op/view.aspx?src=https%3A%2F%2Fochin.org%2Fwp-content%2Fuploads%2F2024%2F04%2FADVANCE-and-OCHIN-DD-and-User-Guide.xlsx&wdOrigin=BROWSELINK"
   ]
  },
  {
   "cell_type": "code",
   "execution_count": 12,
   "id": "1097fc2f",
   "metadata": {},
   "outputs": [],
   "source": [
    "###### CONFIG #####\n",
    "class eda_config:\n",
    "    get_temporal_lab_results = False\n",
    "    left_join_the_data  = True\n",
    "    get_all_lab_features = True"
   ]
  },
  {
   "cell_type": "code",
   "execution_count": 13,
   "id": "690ff057",
   "metadata": {},
   "outputs": [],
   "source": [
    "### loading datasets ###\n",
    "cohort_df = pl.scan_parquet(\"Determine_Cohort_with_labels_OutcomeDate.parquet\")\n",
    "medications_df = pl.scan_parquet(\"Determine_medications_cohort_data.parquet\")\n",
    "\n",
    "if eda_config.get_all_lab_features:\n",
    "    lab_results_df = pl.scan_parquet('Determine_lab_results_cohort_data_all.parquet')\n",
    "    \n",
    "elif eda_config.get_temporal_lab_results:\n",
    "    lab_results_df = pl.scan_parquet(\"Determine_lab_results_cohort_data_mean.parquet\")\n",
    "\n",
    "else:\n",
    "    lab_results_df = pl.scan_parquet(\"Determine_lab_results_cohort_data_latest.parquet\")\n",
    "\n",
    "diagnoses_df = pl.scan_parquet(\"Determine_diagnoses_cohort_data.parquet\")\n",
    "\n",
    "demographics_df = pl.scan_parquet('Determine_demographics_cohort_data.parquet')\n",
    "bmi_bP_df = pl.scan_parquet(\"Determine_dbmi_bp_cohort_data.parquet\")\n",
    "community_vital_df = pl.scan_parquet('Determine_community_vital_signs_cohort.parquet')\n",
    "tob_df = pl.scan_parquet('Determine_tob_cohort_data.parquet')\n",
    "height_df = pl.scan_parquet('Determine_height_cohort_data.parquet')\n",
    "sdoh_screening_df = pl.scan_parquet('Determine_Cohort_sdoh_screening_questions.parquet')\n",
    "\n",
    "\n",
    "pids_no_encs_after_vi_df = pl.scan_parquet('Determine_cohort_after_visit_index_details.parquet')"
   ]
  },
  {
   "cell_type": "code",
   "execution_count": 15,
   "id": "6a5e9f9f",
   "metadata": {},
   "outputs": [
    {
     "data": {
      "text/html": [
       "<div><style>\n",
       ".dataframe > thead > tr,\n",
       ".dataframe > tbody > tr {\n",
       "  text-align: right;\n",
       "  white-space: pre-wrap;\n",
       "}\n",
       "</style>\n",
       "<small>shape: (1, 7)</small><table border=\"1\" class=\"dataframe\"><thead><tr><th>PATIENT_NUM</th><th>Index_Start_date</th><th>FirstOutcomeDate</th><th>Age_at_encounter_date</th><th>Outcome</th><th>DEATH_DATE</th><th>Zip_CD</th></tr><tr><td>i64</td><td>datetime[μs]</td><td>datetime[μs]</td><td>i64</td><td>i64</td><td>datetime[μs]</td><td>str</td></tr></thead><tbody><tr><td>2255770</td><td>2016-10-07 00:00:00</td><td>2020-02-17 00:00:00</td><td>56</td><td>1</td><td>null</td><td>&quot;02121&quot;</td></tr></tbody></table></div>"
      ],
      "text/plain": [
       "shape: (1, 7)\n",
       "┌─────────────┬────────────────┬────────────────┬────────────────┬─────────┬──────────────┬────────┐\n",
       "│ PATIENT_NUM ┆ Index_Start_da ┆ FirstOutcomeDa ┆ Age_at_encount ┆ Outcome ┆ DEATH_DATE   ┆ Zip_CD │\n",
       "│ ---         ┆ te             ┆ te             ┆ er_date        ┆ ---     ┆ ---          ┆ ---    │\n",
       "│ i64         ┆ ---            ┆ ---            ┆ ---            ┆ i64     ┆ datetime[μs] ┆ str    │\n",
       "│             ┆ datetime[μs]   ┆ datetime[μs]   ┆ i64            ┆         ┆              ┆        │\n",
       "╞═════════════╪════════════════╪════════════════╪════════════════╪═════════╪══════════════╪════════╡\n",
       "│ 2255770     ┆ 2016-10-07     ┆ 2020-02-17     ┆ 56             ┆ 1       ┆ null         ┆ 02121  │\n",
       "│             ┆ 00:00:00       ┆ 00:00:00       ┆                ┆         ┆              ┆        │\n",
       "└─────────────┴────────────────┴────────────────┴────────────────┴─────────┴──────────────┴────────┘"
      ]
     },
     "execution_count": 15,
     "metadata": {},
     "output_type": "execute_result"
    }
   ],
   "source": [
    "cohort_df.filter(pl.col('PATIENT_NUM').is_in([2085983,2255770])).collect()"
   ]
  },
  {
   "cell_type": "code",
   "execution_count": 16,
   "id": "206ebecb",
   "metadata": {},
   "outputs": [
    {
     "name": "stdout",
     "output_type": "stream",
     "text": [
      "The number of unique patient records in cohort 1064468\n",
      "The number of unique patient records in medications 531679\n",
      "The number of unique patient records in lab results 428337\n",
      "The number of unique patient records in diagnoses 751830\n"
     ]
    }
   ],
   "source": [
    "### Count of unique patient records in each dataset\n",
    "print(\"The number of unique patient records in cohort\", len(np.unique(cohort_df.select(['PATIENT_NUM']).collect()['PATIENT_NUM'].to_list())))\n",
    "print(\"The number of unique patient records in medications\", len(np.unique(medications_df.select(['PATIENT_NUM']).collect()['PATIENT_NUM'].to_list())))\n",
    "print(\"The number of unique patient records in lab results\", len(np.unique(lab_results_df.select(['PATIENT_NUM']).collect()['PATIENT_NUM'].to_list())))\n",
    "print(\"The number of unique patient records in diagnoses\", len(np.unique(diagnoses_df.select(['PATIENT_NUM']).collect()['PATIENT_NUM'].to_list())))\n",
    "#print(\"The number of unique patient records in sdoh\", len(np.unique(cohort_df.select(['PATIENT_NUM']).collect()['PATIENT_NUM'].to_list())))"
   ]
  },
  {
   "cell_type": "code",
   "execution_count": 17,
   "id": "ad5d551e",
   "metadata": {},
   "outputs": [
    {
     "data": {
      "text/plain": [
       "(array([0, 1]), array([1004264,   60204]))"
      ]
     },
     "execution_count": 17,
     "metadata": {},
     "output_type": "execute_result"
    }
   ],
   "source": [
    "np.unique(cohort_df.select('Outcome').collect()['Outcome'].to_list(), return_counts = True)"
   ]
  },
  {
   "cell_type": "code",
   "execution_count": 18,
   "id": "8275eddb",
   "metadata": {},
   "outputs": [
    {
     "name": "stdout",
     "output_type": "stream",
     "text": [
      "Number of patient ids that have data in atleast one of the medications, lab_results and diagnoses:  826658\n"
     ]
    }
   ],
   "source": [
    "#### Number of patients that are present in atleast one of the medications, lab_results and diagnoses before pre-processin\n",
    "cohort_pids = np.unique(cohort_df.select(['PATIENT_NUM']).collect()['PATIENT_NUM'].to_list())\n",
    "med_pids = np.unique(medications_df.select(['PATIENT_NUM']).collect()['PATIENT_NUM'].to_list())\n",
    "dx_pids = np.unique(diagnoses_df.select(['PATIENT_NUM']).collect()['PATIENT_NUM'].to_list())\n",
    "lab_pid = np.unique(lab_results_df.select(['PATIENT_NUM']).collect()['PATIENT_NUM'].to_list())\n",
    "\n",
    "# Convert lists to sets and use the union operation\n",
    "result = set(med_pids) | set(dx_pids) | set(lab_pid) \n",
    "\n",
    "# result = result & set(cohort_pids)\n",
    "\n",
    "# Convert the set back to a list if needed\n",
    "result_list = list(result)\n",
    "\n",
    "# Display the result\n",
    "print(\"Number of patient ids that have data in atleast one of the medications, lab_results and diagnoses: \",len(result_list))\n"
   ]
  },
  {
   "cell_type": "code",
   "execution_count": 19,
   "id": "6017b3a9",
   "metadata": {},
   "outputs": [],
   "source": [
    "## saving patient ids who have data across atleast one of the feature dataset\n",
    "with open('determine_patient_ids_required.pkl','wb') as f:\n",
    "    pickle.dump(result_list,f)\n",
    "    "
   ]
  },
  {
   "cell_type": "code",
   "execution_count": 122,
   "id": "a3a1ab97",
   "metadata": {},
   "outputs": [],
   "source": [
    "## Loading the patient ids who have data across atleast one of the feature dataset\n",
    "with open('determine_patient_ids_required.pkl', 'rb') as file: \n",
    "    PID_REQ = pickle.load(file) "
   ]
  },
  {
   "cell_type": "code",
   "execution_count": 21,
   "id": "6e42a6f2",
   "metadata": {},
   "outputs": [
    {
     "data": {
      "text/plain": [
       "(array([0, 1]), array([786231,  40427]))"
      ]
     },
     "execution_count": 21,
     "metadata": {},
     "output_type": "execute_result"
    }
   ],
   "source": [
    "np.unique(cohort_df.filter(pl.col('PATIENT_NUM').is_in(PID_REQ)).select('Outcome').collect()['Outcome'].to_list(), return_counts = True)"
   ]
  },
  {
   "cell_type": "markdown",
   "id": "885444ee",
   "metadata": {},
   "source": [
    "### EDA for medications\n",
    "#### checks used:\n",
    "##### 1. In function for retrieving active ingrident, response errro ( if  not response 200).\n",
    "##### 2. Store list of RxNorms which dont have active ingridents associated with them."
   ]
  },
  {
   "cell_type": "code",
   "execution_count": null,
   "id": "b3dd904d",
   "metadata": {},
   "outputs": [],
   "source": [
    "medications_df.collect().head()"
   ]
  },
  {
   "cell_type": "code",
   "execution_count": null,
   "id": "93226865",
   "metadata": {},
   "outputs": [],
   "source": [
    "print(\"Number of data points: \",medications_df.collect().shape)"
   ]
  },
  {
   "cell_type": "code",
   "execution_count": null,
   "id": "d73e70dd",
   "metadata": {},
   "outputs": [],
   "source": [
    "## Number of unique medications ##\n",
    "print(\"Number of unique medications: \",len(np.unique(medications_df.select(['RxNorm']).collect()['RxNorm'].to_list())))"
   ]
  },
  {
   "cell_type": "code",
   "execution_count": null,
   "id": "44d77eaa",
   "metadata": {},
   "outputs": [],
   "source": [
    "## Example usage for active ingrident##\n",
    "rxcui = \"16681\"  # replace with actual RxNorm ID\n",
    "active_ingredients = get_active_ingredient(rxcui)\n",
    "print(\"Active Ingredients:\", active_ingredients)"
   ]
  },
  {
   "cell_type": "code",
   "execution_count": null,
   "id": "5b13aa9b",
   "metadata": {},
   "outputs": [],
   "source": [
    "rxcui = \"7052\"  # Example RxCUI\n",
    "drug_classes = get_drug_class(rxcui)\n",
    "print(f\"Drug classes for RxCUI {rxcui}: {drug_classes}\")"
   ]
  },
  {
   "cell_type": "code",
   "execution_count": null,
   "id": "553d78d1",
   "metadata": {},
   "outputs": [],
   "source": [
    "## Loading mapping of rxnorm to active ingridents list\n",
    "with open('rxnorm_active_ingridents_mapping.pkl', 'rb') as file: \n",
    "    dict_rxnorm_active_ing = pickle.load(file) "
   ]
  },
  {
   "cell_type": "code",
   "execution_count": null,
   "id": "bc10fc64",
   "metadata": {},
   "outputs": [],
   "source": [
    "### Obtaining active ingridients for each unique rxnorm in dataframe ###\n",
    "DONT_RUN = True\n",
    "# Run only once to get active ingridents from API #\n",
    "\n",
    "if DONT_RUN != True:\n",
    "    ## Unique_rxnorms ##\n",
    "    uniq_rxnorm = np.unique(medications_df.select(['RxNorm']).collect()['RxNorm'].to_list()).tolist()\n",
    "    rxnorms_list = []\n",
    "    uniq_active_ing = []\n",
    "\n",
    "\n",
    "    for rxnorm in uniq_rxnorm:\n",
    "        rx_code = rxnorm.split(':')[-1].strip()\n",
    "        rxnorms_list.append(rx_code)\n",
    "        if rx_code in dict_rxnorm_active_ing.items():\n",
    "            uniq_active_ing.append(dict_rxnorm_active_ing[rx_code])\n",
    "        else:\n",
    "            active_ingredients = get_active_ingredient(rx_code)\n",
    "            uniq_active_ing.append(active_ingredients)\n",
    "\n",
    "    ## saving mapping of rxnorm to active ingridents list\n",
    "    with open('rxnorm_active_ingridents_mapping.pkl','wb') as f:\n",
    "        pickle.dump(dict(zip(rxnorms_list,uniq_active_ing)),f)"
   ]
  },
  {
   "cell_type": "code",
   "execution_count": null,
   "id": "bcefdf9d",
   "metadata": {},
   "outputs": [],
   "source": [
    "get_active_ingredient(1359984)"
   ]
  },
  {
   "cell_type": "code",
   "execution_count": null,
   "id": "dbe10d85",
   "metadata": {
    "scrolled": true
   },
   "outputs": [],
   "source": [
    "### mapping rxnorm to active ingredient in medications datafrane ###\n",
    "no_act_ing_codes = []\n",
    "rxnorms_dataframe_list = medications_df.select(['RxNorm']).collect()['RxNorm'].to_list()\n",
    "active_ingredients_list_dataframe = []\n",
    "for rxnorm in rxnorms_dataframe_list:\n",
    "    rx_code = rxnorm.split(':')[-1].strip()\n",
    "    try:\n",
    "        if dict_rxnorm_active_ing[rx_code] == []:\n",
    "            print(rx_code)\n",
    "            no_act_ing_codes.append(rx_code)\n",
    "            active_ingredients_list_dataframe.append(['rx_cui:'+str(rx_code)]) ### handling codes that dont have active ingredient associated with them\n",
    "            continue\n",
    "        active_ingredients_list_dataframe.append(dict_rxnorm_active_ing[rx_code])\n",
    "    except:\n",
    "        active_ingredients_list_dataframe.append(get_active_ingredient(rx_code))\n",
    "        dict_rxnorm_active_ing[rx_code] = get_active_ingredient(rx_code)"
   ]
  },
  {
   "cell_type": "code",
   "execution_count": null,
   "id": "9f0c3486",
   "metadata": {
    "scrolled": true
   },
   "outputs": [],
   "source": [
    "len(active_ingredients_list_dataframe)"
   ]
  },
  {
   "cell_type": "code",
   "execution_count": null,
   "id": "a293d8a2",
   "metadata": {},
   "outputs": [],
   "source": [
    "active_ingredients_list_dataframe[1]"
   ]
  },
  {
   "cell_type": "code",
   "execution_count": null,
   "id": "0fd356b6",
   "metadata": {},
   "outputs": [],
   "source": [
    "### Check:  if retrieved active ingrident list has [] elements\n",
    "count = 0\n",
    "for i in active_ingredients_list_dataframe:\n",
    "    if i[0].startswith('rxcui'):\n",
    "        count+=1\n",
    "print(count)"
   ]
  },
  {
   "cell_type": "code",
   "execution_count": null,
   "id": "2e82bed8",
   "metadata": {},
   "outputs": [],
   "source": [
    "final_act_ing_list = [\"_\".join(sublist) if len(sublist) > 1 else sublist[0] for sublist in active_ingredients_list_dataframe]"
   ]
  },
  {
   "cell_type": "code",
   "execution_count": null,
   "id": "542fe648",
   "metadata": {},
   "outputs": [],
   "source": [
    "z = []\n",
    "for i in dict_rxnorm_active_ing.values():\n",
    "    if len(z) !=1:\n",
    "        z.append('_'.join(i))\n",
    "    else:\n",
    "        z.append(i[0])"
   ]
  },
  {
   "cell_type": "code",
   "execution_count": null,
   "id": "eeb93712",
   "metadata": {},
   "outputs": [],
   "source": [
    "print(\"Number of unique medications after active ingridents: \", len(np.unique(z)))"
   ]
  },
  {
   "cell_type": "code",
   "execution_count": null,
   "id": "addddbdd",
   "metadata": {},
   "outputs": [],
   "source": [
    "def get_rx_code(element):\n",
    "    return element.split(':')[-1].strip()"
   ]
  },
  {
   "cell_type": "code",
   "execution_count": null,
   "id": "70320dd2",
   "metadata": {},
   "outputs": [],
   "source": [
    "## Adding active ingident data to dataframe\n",
    "medications_df = medications_df.with_columns(pl.Series(name=\"Active_ingrident\", values=final_act_ing_list),\n",
    "                                            pl.col('RxNorm').map_elements(get_rx_code,return_dtype = pl.Utf8).alias('rxcui'))"
   ]
  },
  {
   "cell_type": "code",
   "execution_count": null,
   "id": "e5888825",
   "metadata": {},
   "outputs": [],
   "source": [
    "## filtering patients id based on PID_REQ\n",
    "medications_df = medications_df.filter(pl.col('PATIENT_NUM').is_in(PID_REQ))\n",
    "medications_df.collect().head()"
   ]
  },
  {
   "cell_type": "code",
   "execution_count": null,
   "id": "42ce3d0e",
   "metadata": {
    "scrolled": true
   },
   "outputs": [],
   "source": [
    "## ignoring medications shared by domain expert\n",
    "ignore_rxnorm_codes = [\n",
    "    \"16681\", \"173\", \"1534763\", \"1368001\", \"1368384\", \"1368402\", \n",
    "    \"2627044\", \"1373458\", \"1545149\", \"2404\", \"1488564\", \"1486436\", \n",
    "    \"1727500\", \"1551291\", \"1545653\", \"1598392\", \"2281864\", \"1664314\", \n",
    "    \"1992672\", \"1992684\", \"1992825\", \"60548\", \"4816\", \"25789\", \n",
    "    \"647235\", \"606253\", \"4821\", \"352381\", \"25793\", \"4815\", \n",
    "    \"285129\", \"1007184\", \"51428\", \"1670007\", \"1727493\", \"139825\", \n",
    "    \"274783\", \"1858994\", \"400008\", \"631657\", \"1605101\", \"1008501\", \n",
    "    \"86009\", \"816726\", \"253182\", \"1100699\", \"1243019\", \"475968\", \n",
    "    \"1440051\", \"6809\", \"607999\", \"802646\", \"614348\", \"1043562\", \n",
    "    \"729717\", \"30009\", \"274332\", \"33738\", \"139953\", \"73044\", \n",
    "    \"84108\", \"857974\", \"1991302\", \"593411\", \"2638675\", \"2621880\", \n",
    "    \"2601723\", \"10633\", \"10635\", \"72610\", \"596554\"\n",
    "]\n",
    "\n",
    "#medications_df = medications_df.filter(~pl.col('rxcui').is_in(ignore_rxnorm_codes))\n",
    "act_list_to_drop = [get_active_ingredient(rxcui) for rxcui in ignore_rxnorm_codes]\n",
    "medications_to_drop = [\"_\".join(sublist) if len(sublist) > 1 else sublist[0] for sublist in act_list_to_drop]"
   ]
  },
  {
   "cell_type": "code",
   "execution_count": null,
   "id": "919b9c8e",
   "metadata": {},
   "outputs": [],
   "source": [
    "print(\"Number of unique active ingridents to drop: \",len(medications_to_drop))"
   ]
  },
  {
   "cell_type": "code",
   "execution_count": null,
   "id": "2dcf306a",
   "metadata": {},
   "outputs": [],
   "source": []
  },
  {
   "cell_type": "code",
   "execution_count": null,
   "id": "4749295e",
   "metadata": {},
   "outputs": [],
   "source": [
    "## Obatin the patient_num with the active ingridents to drop later.\n",
    "\n",
    "med_ignore_patient_num = np.unique(medications_df.filter(pl.col('Active_ingrident').is_in(medications_to_drop)).collect()['PATIENT_NUM'].to_list())\n",
    "print(\"Number of patients to ignore: \",len(med_ignore_patient_num))\n",
    "\n",
    "with open('./Determine_models_running_folder/pat_num_ignore_meds.pkl','wb') as f:\n",
    "    pickle.dump(med_ignore_patient_num,f)"
   ]
  },
  {
   "cell_type": "code",
   "execution_count": null,
   "id": "95a4a8cc",
   "metadata": {},
   "outputs": [],
   "source": [
    "medications_df = medications_df.drop(\"rxcui\")"
   ]
  },
  {
   "cell_type": "code",
   "execution_count": null,
   "id": "f2112db9",
   "metadata": {},
   "outputs": [],
   "source": [
    "medications_df.collect().write_parquet(\"./Determine_cohort_files/Determine_cohort_medications_active_ing.parquet\")"
   ]
  },
  {
   "cell_type": "code",
   "execution_count": null,
   "id": "693ec82e",
   "metadata": {},
   "outputs": [],
   "source": [
    "medications_df.collect().head(10)"
   ]
  },
  {
   "cell_type": "markdown",
   "id": "6454d8e2",
   "metadata": {},
   "source": [
    "### EDA for lab results"
   ]
  },
  {
   "cell_type": "code",
   "execution_count": null,
   "id": "082bcd5a",
   "metadata": {},
   "outputs": [],
   "source": [
    "######### lab results config ###########\n",
    "class lab_config:\n",
    "    use_only_domain_expert_features =  True\n",
    "    use_all_features = True\n",
    "    units_standardization =True\n",
    "    \n",
    "    get_median = True"
   ]
  },
  {
   "cell_type": "code",
   "execution_count": null,
   "id": "5fdda39c",
   "metadata": {},
   "outputs": [],
   "source": [
    "lab_results_df.collect().head()"
   ]
  },
  {
   "cell_type": "markdown",
   "id": "2100e63f",
   "metadata": {},
   "source": [
    "## Check lab results on bp"
   ]
  },
  {
   "cell_type": "code",
   "execution_count": null,
   "id": "12cc5501",
   "metadata": {},
   "outputs": [],
   "source": [
    "lab_results_df.filter(pl.col('LabLOINC').is_in(['LOINC:8480-6','LOINC:8462-4'])).collect()"
   ]
  },
  {
   "cell_type": "markdown",
   "id": "0b4f2a45",
   "metadata": {},
   "source": [
    "## end bp check"
   ]
  },
  {
   "cell_type": "code",
   "execution_count": null,
   "id": "bf6c6a9d",
   "metadata": {},
   "outputs": [],
   "source": [
    "print(\"Number of unique lab loincs: \",len(np.unique(lab_results_df.select('LabLOINC').collect()['LabLOINC'].to_list())))"
   ]
  },
  {
   "cell_type": "code",
   "execution_count": null,
   "id": "3b27c921",
   "metadata": {},
   "outputs": [],
   "source": [
    "lab_results_df = lab_results_df.filter(~pl.col('Result_Number').is_null())\n",
    "lab_results_df = lab_results_df.with_columns(pl.col('Result_Number').cast(pl.Float32).alias('Result_Number'))"
   ]
  },
  {
   "cell_type": "code",
   "execution_count": null,
   "id": "2696eed9",
   "metadata": {},
   "outputs": [],
   "source": [
    "lab_results_df.collect().shape"
   ]
  },
  {
   "cell_type": "code",
   "execution_count": null,
   "id": "45d376d0",
   "metadata": {},
   "outputs": [],
   "source": [
    "### appending 'LOINC:' prefix for hem loincs\n",
    "de_lr_features = ['LOINC:'+code for code in hem_loics]\n",
    "de_lr_features[:3]"
   ]
  },
  {
   "cell_type": "code",
   "execution_count": null,
   "id": "837707b8",
   "metadata": {},
   "outputs": [],
   "source": [
    "unique_dataset_loincs = np.unique(lab_results_df.select('LabLOINC').collect()['LabLOINC'].to_list()).tolist()\n",
    "    "
   ]
  },
  {
   "cell_type": "code",
   "execution_count": null,
   "id": "8cacb482",
   "metadata": {},
   "outputs": [],
   "source": [
    "print(len(unique_dataset_loincs))"
   ]
  },
  {
   "cell_type": "code",
   "execution_count": null,
   "id": "cc70c616",
   "metadata": {},
   "outputs": [],
   "source": [
    "'LOINC:2345-7' in unique_dataset_loincs"
   ]
  },
  {
   "cell_type": "code",
   "execution_count": null,
   "id": "5546214d",
   "metadata": {},
   "outputs": [],
   "source": [
    "unique_dataset_loincs[:5]"
   ]
  },
  {
   "cell_type": "code",
   "execution_count": null,
   "id": "d34791fe",
   "metadata": {},
   "outputs": [],
   "source": [
    "lab_results_df = lab_results_df.collect()"
   ]
  },
  {
   "cell_type": "markdown",
   "id": "60faf91c",
   "metadata": {},
   "source": [
    "#### Units check for each lab result"
   ]
  },
  {
   "cell_type": "code",
   "execution_count": null,
   "id": "0fa3baaa",
   "metadata": {},
   "outputs": [],
   "source": [
    "lab_results_units_grouped_df = lab_results_df.group_by(['LabLOINC','Result_Unit']).agg([pl.col('Result_Number'),\n",
    "                                                                                       pl.col('Result_Unit').count().alias('Unit_Count')\n",
    "                                                                                       ]).sort(['LabLOINC','Result_Unit']).collect()"
   ]
  },
  {
   "cell_type": "code",
   "execution_count": null,
   "id": "7f965d37",
   "metadata": {},
   "outputs": [],
   "source": []
  },
  {
   "cell_type": "code",
   "execution_count": null,
   "id": "896d16ad",
   "metadata": {},
   "outputs": [],
   "source": [
    "print(len(lab_results_units_grouped_df))"
   ]
  },
  {
   "cell_type": "code",
   "execution_count": null,
   "id": "7ebe5079",
   "metadata": {},
   "outputs": [],
   "source": [
    "lab_results_units_grouped_df.filter(pl.col('LabLOINC') == 'LOINC:2345-7')"
   ]
  },
  {
   "cell_type": "code",
   "execution_count": null,
   "id": "7176bc72",
   "metadata": {},
   "outputs": [],
   "source": [
    "Loincs_with_more_than_1_unit_count = 0\n",
    "loinc_unit_pairs = []\n",
    "\n",
    "for loinc in unique_dataset_loincs:\n",
    "    focus_group_loinc = lab_results_units_grouped_df.filter(pl.col('LabLOINC') == loinc).sort('Unit_Count', descending=True)\n",
    "    \n",
    "    if len(focus_group_loinc) == 1:\n",
    "        continue\n",
    "        \n",
    "    total_count_patients_associated_with = focus_group_loinc['Unit_Count'].sum()\n",
    "    if total_count_patients_associated_with < 50:\n",
    "        continue\n",
    "    loinc_unit_with_max_count = focus_group_loinc['Result_Unit'][0]\n",
    "    loinc_values_with_max_count = focus_group_loinc['Result_Number'][0].to_list()\n",
    "    \n",
    "    other_units_fg = focus_group_loinc.filter(pl.col('Result_Unit')!=loinc_unit_with_max_count)['Result_Unit'].to_list()\n",
    "    max_val_in_pri_unit = max(loinc_values_with_max_count)\n",
    "    min_val_in_pri_unit = min(loinc_values_with_max_count)\n",
    "    mean_val_in_pri_unit = np.mean(loinc_values_with_max_count)\n",
    "    \n",
    "    print_flag =  False\n",
    "    for unit in other_units_fg:\n",
    "        \n",
    "        other_unit_values = focus_group_loinc.filter(pl.col('Result_Unit') == unit)['Result_Number'][0].to_list()\n",
    "#         print(other_unit_values)\n",
    "        max_val_in_ou = max(other_unit_values)\n",
    "        min_val_in_ou = min(other_unit_values)\n",
    "        mean_val_in_ou = np.mean(other_unit_values)\n",
    "        \n",
    "        if min_val_in_pri_unit <= mean_val_in_ou <= max_val_in_pri_unit:\n",
    "            continue\n",
    "        else:\n",
    "            loinc_unit_pairs.append((loinc,unit))\n",
    "            print(\"Unit to focus: \",unit)            \n",
    "            Loincs_with_more_than_1_unit_count += 1\n",
    "            if mean_val_in_pri_unit/mean_val_in_ou > 10 or mean_val_in_pri_unit/mean_val_in_ou < 0.1:\n",
    "                print(\" The value is orders above 10th order\")\n",
    "                print_flag = True\n",
    "            else:\n",
    "                print(\" The value is orders below 10th order\")\n",
    "                print_flag = True\n",
    "                \n",
    "    if print_flag:\n",
    "        print(focus_group_loinc)\n",
    "                \n",
    "    print(\"*\"*20)\n",
    "            \n",
    "        \n",
    "        \n",
    "    \n",
    "    "
   ]
  },
  {
   "cell_type": "code",
   "execution_count": null,
   "id": "5597b984",
   "metadata": {},
   "outputs": [],
   "source": [
    "loinc_unit_pairs[:2]\n"
   ]
  },
  {
   "cell_type": "code",
   "execution_count": null,
   "id": "39f08d40",
   "metadata": {},
   "outputs": [],
   "source": [
    "combo_df.head()"
   ]
  },
  {
   "cell_type": "code",
   "execution_count": null,
   "id": "7a4fd7fe",
   "metadata": {},
   "outputs": [],
   "source": [
    "if lab_config.units_standardization:\n",
    "    ### removing loinc and unit pairs that failed above code\n",
    "    combo_df = pl.DataFrame(loinc_unit_pairs, schema=['LabLOINC', 'Result_Unit'])\n",
    "    lab_results_df = lab_results_df.filter(~pl.struct((pl.col('LabLOINC'),pl.col('Result_Unit'))).\n",
    "                                           is_in(combo_df.select(pl.struct(['LabLOINC', 'Result_Unit']))))"
   ]
  },
  {
   "cell_type": "code",
   "execution_count": null,
   "id": "12e5c09d",
   "metadata": {},
   "outputs": [],
   "source": [
    "lab_results_df.shape"
   ]
  },
  {
   "cell_type": "code",
   "execution_count": null,
   "id": "467ff23f",
   "metadata": {},
   "outputs": [],
   "source": [
    "if lab_config.get_median:\n",
    "    lab_results_df = lab_results_df.group_by(['PATIENT_NUM','LabLOINC']).agg(pl.col('Result_Number').median().alias('Result_Number'))"
   ]
  },
  {
   "cell_type": "code",
   "execution_count": null,
   "id": "0fca9fb2",
   "metadata": {},
   "outputs": [],
   "source": [
    "lab_results_df.shape"
   ]
  },
  {
   "cell_type": "markdown",
   "id": "4f48f32c",
   "metadata": {},
   "source": [
    "##### Creating two different feature sets (  domain expert vs all features)"
   ]
  },
  {
   "cell_type": "code",
   "execution_count": null,
   "id": "6330a538",
   "metadata": {},
   "outputs": [],
   "source": [
    "if lab_config.use_only_domain_expert_features:\n",
    "    unique_dataset_loincs = np.unique(lab_results_df.select('LabLOINC')['LabLOINC'].to_list()).tolist()\n",
    "    common_loincs = list(set(de_lr_features) & set(unique_dataset_loincs))\n",
    "    print('Number of domain expert features present in dataset',len(common_loincs))\n",
    "    lab_results_de_loincs_df = lab_results_df.filter(pl.col(\"LabLOINC\").is_in(common_loincs))\n",
    "    \n",
    "    if lab_config.get_median:\n",
    "        lab_results_de_loincs_df.write_parquet(\"./Determine_cohort_files/Determine_cohort_labresults_domain_expert_median.parquet\")\n",
    "        \n",
    "if lab_config.use_all_features:\n",
    "    unique_dataset_loincs = np.unique(lab_results_df.select('LabLOINC')['LabLOINC'].to_list()).tolist()\n",
    "    print(\"Number of features in the dataset: \",len(unique_dataset_loincs))\n",
    "    lab_results_df.write_parquet(\"./Determine_cohort_files/Determine_cohort_labresults_all_features_median.parquet\")"
   ]
  },
  {
   "cell_type": "markdown",
   "id": "be27099f",
   "metadata": {},
   "source": [
    "#### Preparing different configurations of lab results (latest, mean and temporal[latest, oldest, mean])"
   ]
  },
  {
   "cell_type": "code",
   "execution_count": null,
   "id": "111f2aa6",
   "metadata": {},
   "outputs": [],
   "source": [
    "del lab_results_df,lab_results_de_loincs_df"
   ]
  },
  {
   "cell_type": "markdown",
   "id": "12bfeb4c",
   "metadata": {},
   "source": [
    "### EDA for diagnoses"
   ]
  },
  {
   "cell_type": "code",
   "execution_count": 37,
   "id": "47de7976",
   "metadata": {},
   "outputs": [],
   "source": [
    "class diag_config:\n",
    "    use_phecodes =  True\n",
    "    use_n_chars = True\n",
    "    n_icd_chars = 3\n",
    "    "
   ]
  },
  {
   "cell_type": "code",
   "execution_count": 17,
   "id": "cb610d7f",
   "metadata": {},
   "outputs": [],
   "source": [
    "# Phecodes\n",
    "icd10_phe = pl.read_csv('./icd_code_to_phecode/Phecode_map_v1_2_icd10cm_beta.csv')\n",
    "icd9_phe_v1 =  pl.read_csv('./icd_code_to_phecode/phecode_map_v1_2_icd9.csv',infer_schema_length=100000)\n",
    "icd9_phe_v2 = pyreadr.read_r(\"./icd_code_to_phecode/phemap (1).rda\")['phemap'].drop_duplicates(subset=['icd9'])\n",
    "\n",
    "def read_icd_mappings(file_path):\n",
    "    icd_mapping = {}\n",
    "\n",
    "    # Open the file and read it line by line\n",
    "    with open(file_path, 'r') as file:\n",
    "        for line in file:\n",
    "            # Strip any white space and split by the delimiter '|'\n",
    "            parts = line.strip().split('|')\n",
    "            if len(parts) >= 2:\n",
    "                icd9_code = parts[0]\n",
    "                icd10_code = parts[1]\n",
    "\n",
    "                # Store the mapping in the dictionary\n",
    "                icd_mapping[icd9_code] = icd10_code\n",
    "\n",
    "    return icd_mapping\n",
    "\n",
    "file_path = './icd_code_to_phecode/icd9to10dictionary.txt'\n",
    "icd9_to_10_mapping_dict = read_icd_mappings(file_path)"
   ]
  },
  {
   "cell_type": "code",
   "execution_count": 31,
   "id": "124ec39a",
   "metadata": {},
   "outputs": [
    {
     "data": {
      "text/plain": [
       "'H53.8'"
      ]
     },
     "execution_count": 31,
     "metadata": {},
     "output_type": "execute_result"
    }
   ],
   "source": [
    "icd9_to_10_mapping_dict['368.8']"
   ]
  },
  {
   "cell_type": "code",
   "execution_count": 18,
   "id": "70bbf4ba",
   "metadata": {
    "scrolled": true
   },
   "outputs": [],
   "source": [
    "### dicts for mapping ###\n",
    "icd10_phe_dict = dict(zip(icd10_phe['ICD10CM'].to_list(), icd10_phe['PHECODE'].to_list()))\n",
    "icd9_phe_dict_v1 = dict(zip(icd9_phe_v1['ICD9'].to_list(), icd9_phe_v1['PheCode'].to_list()))\n",
    "icd9_phe_dict_v2 = dict(zip(icd9_phe_v2['icd9'].to_list(), icd9_phe_v2['phecode'].to_list()))"
   ]
  },
  {
   "cell_type": "code",
   "execution_count": 19,
   "id": "a45424d0",
   "metadata": {},
   "outputs": [
    {
     "data": {
      "text/html": [
       "<div><style>\n",
       ".dataframe > thead > tr,\n",
       ".dataframe > tbody > tr {\n",
       "  text-align: right;\n",
       "  white-space: pre-wrap;\n",
       "}\n",
       "</style>\n",
       "<small>shape: (5, 4)</small><table border=\"1\" class=\"dataframe\"><thead><tr><th>PATIENT_NUM</th><th>ENCOUNTER_NUM</th><th>START_DATE</th><th>CONCEPT_CD</th></tr><tr><td>i64</td><td>i64</td><td>datetime[μs]</td><td>str</td></tr></thead><tbody><tr><td>556</td><td>27844565</td><td>2016-02-26 00:00:00</td><td>&quot;ICD10CM:Z23&quot;</td></tr><tr><td>556</td><td>27844565</td><td>2016-02-26 00:00:00</td><td>&quot;ICD10CM:Z13.89&quot;</td></tr><tr><td>556</td><td>27844565</td><td>2016-02-26 00:00:00</td><td>&quot;ICD10CM:Z13.220&quot;</td></tr><tr><td>556</td><td>28287946</td><td>2016-03-23 00:00:00</td><td>&quot;ICD10CM:Z12.4&quot;</td></tr><tr><td>556</td><td>28287946</td><td>2016-03-23 00:00:00</td><td>&quot;ICD10CM:Z12.39&quot;</td></tr></tbody></table></div>"
      ],
      "text/plain": [
       "shape: (5, 4)\n",
       "┌─────────────┬───────────────┬─────────────────────┬─────────────────┐\n",
       "│ PATIENT_NUM ┆ ENCOUNTER_NUM ┆ START_DATE          ┆ CONCEPT_CD      │\n",
       "│ ---         ┆ ---           ┆ ---                 ┆ ---             │\n",
       "│ i64         ┆ i64           ┆ datetime[μs]        ┆ str             │\n",
       "╞═════════════╪═══════════════╪═════════════════════╪═════════════════╡\n",
       "│ 556         ┆ 27844565      ┆ 2016-02-26 00:00:00 ┆ ICD10CM:Z23     │\n",
       "│ 556         ┆ 27844565      ┆ 2016-02-26 00:00:00 ┆ ICD10CM:Z13.89  │\n",
       "│ 556         ┆ 27844565      ┆ 2016-02-26 00:00:00 ┆ ICD10CM:Z13.220 │\n",
       "│ 556         ┆ 28287946      ┆ 2016-03-23 00:00:00 ┆ ICD10CM:Z12.4   │\n",
       "│ 556         ┆ 28287946      ┆ 2016-03-23 00:00:00 ┆ ICD10CM:Z12.39  │\n",
       "└─────────────┴───────────────┴─────────────────────┴─────────────────┘"
      ]
     },
     "execution_count": 19,
     "metadata": {},
     "output_type": "execute_result"
    }
   ],
   "source": [
    "diagnoses_df.head().collect()"
   ]
  },
  {
   "cell_type": "code",
   "execution_count": 57,
   "id": "c031bacc",
   "metadata": {},
   "outputs": [
    {
     "name": "stdout",
     "output_type": "stream",
     "text": [
      "ICD-10 codes for 8290: T148\n"
     ]
    }
   ],
   "source": [
    "from icdmappings import Mapper\n",
    "\n",
    "mapper = Mapper()\n",
    "icd9_code = \"8290\"  # Example ICD-9 code\n",
    "icd10_codes = mapper.map(icd9_code, source='icd9', target='icd10')\n",
    "if icd10_codes:\n",
    "    print(f\"ICD-10 codes for {icd9_code}: {icd10_codes}\")\n",
    "else:\n",
    "    print(f\"No ICD-10 codes found for {icd9_code}\")"
   ]
  },
  {
   "cell_type": "code",
   "execution_count": 100,
   "id": "8c398e4f",
   "metadata": {},
   "outputs": [],
   "source": [
    "def convert_icd9_to_icd10(icd9):\n",
    "    mapper = Mapper()\n",
    "    icd10_code = mapper.map(icd9_code, source='icd9', target='icd10')\n",
    "    if icd10_code:\n",
    "        return icd10_code[:3]+'.'+icd10_code[3:]\n",
    "    else:\n",
    "        return 'ICD9CM:'+icd9\n",
    "\n",
    "def standardize_concept_cd(code):\n",
    "    if code.startswith('ICD10CM'):\n",
    "        return code.split(':')[-1]\n",
    "    elif code.startswith('ICD9CM'):\n",
    "#      return convert_icd9_to_icd10(code.split(':')[-1].replace('.',''))\n",
    "       try:\n",
    "            return icd9_to_10_mapping_dict[code.split(':')[-1]] \n",
    "       except:\n",
    "            return convert_icd9_to_icd10(code.split(':')[-1].replace('.',''))\n",
    "    else:\n",
    "        return code\n",
    "    \n",
    "def get_first_n_char_icdcode(std_icd_code, n = diag_config.n_icd_chars):\n",
    "    if std_icd_code.startswith('ICD9'):\n",
    "        return std_icd_code\n",
    "    else:\n",
    "        if len(std_icd_code)>3:\n",
    "            new_code = std_icd_code[:5]\n",
    "            return new_code[:n]\n",
    "        else:\n",
    "            return std_icd_code\n",
    "        \n",
    "def get_phecode_from_concept_cd(cd):\n",
    "    if cd.startswith('ICD10CM'):\n",
    "        \n",
    "        if cd.startswith(\"ICD10CM:Z\"):\n",
    "            return cd.split('.')[0]\n",
    "        \n",
    "        icd_code = cd.split(':')[-1]\n",
    "        try:\n",
    "            phecode = str(icd10_phe_dict[icd_code])\n",
    "            if phecode  =='1010.0':\n",
    "                return cd.split('.')[0]\n",
    "            return 'phe_'+phecode\n",
    "        except:\n",
    "            \n",
    "            return cd.split('.')[0]\n",
    "        \n",
    "    elif cd.startswith('ICD9CM'):\n",
    "        icd_code = cd.split(':')[-1]\n",
    "        try:\n",
    "            phecode = str(icd9_phe_dict_v2[icd_code])\n",
    "            if phecode =='1010.0':\n",
    "                        return cd.split('.')[0]\n",
    "            return 'phe_'+phecode\n",
    "        except:\n",
    "            try:\n",
    "                phecode  = str(icd9_phe_dict_v1[icd_code])\n",
    "                if phecode =='1010.0':\n",
    "                        return cd.split('.')[0]\n",
    "                return 'phe_'+phecode\n",
    "            \n",
    "            except:\n",
    "                try: #convert icd9 code to icd10 and try phemap\n",
    "                    phecode = icd10_phe_dict(icd9_to_10_mapping_dict(icd_code))\n",
    "                    if phecode =='1010.0':\n",
    "                        return cd.split('.')[0]\n",
    "                    return 'phe_'+phecode\n",
    "                except:\n",
    "                    \n",
    "                    return cd.split('.')[0]\n",
    "    else:\n",
    "        return cd\n",
    "# def get_phe_code()"
   ]
  },
  {
   "cell_type": "code",
   "execution_count": 63,
   "id": "750ca160",
   "metadata": {},
   "outputs": [
    {
     "data": {
      "text/html": [
       "<div><style>\n",
       ".dataframe > thead > tr,\n",
       ".dataframe > tbody > tr {\n",
       "  text-align: right;\n",
       "  white-space: pre-wrap;\n",
       "}\n",
       "</style>\n",
       "<small>shape: (5, 4)</small><table border=\"1\" class=\"dataframe\"><thead><tr><th>PATIENT_NUM</th><th>ENCOUNTER_NUM</th><th>START_DATE</th><th>CONCEPT_CD</th></tr><tr><td>i64</td><td>i64</td><td>datetime[μs]</td><td>str</td></tr></thead><tbody><tr><td>556</td><td>27844565</td><td>2016-02-26 00:00:00</td><td>&quot;ICD10CM:Z23&quot;</td></tr><tr><td>556</td><td>27844565</td><td>2016-02-26 00:00:00</td><td>&quot;ICD10CM:Z13.89&quot;</td></tr><tr><td>556</td><td>27844565</td><td>2016-02-26 00:00:00</td><td>&quot;ICD10CM:Z13.220&quot;</td></tr><tr><td>556</td><td>28287946</td><td>2016-03-23 00:00:00</td><td>&quot;ICD10CM:Z12.4&quot;</td></tr><tr><td>556</td><td>28287946</td><td>2016-03-23 00:00:00</td><td>&quot;ICD10CM:Z12.39&quot;</td></tr></tbody></table></div>"
      ],
      "text/plain": [
       "shape: (5, 4)\n",
       "┌─────────────┬───────────────┬─────────────────────┬─────────────────┐\n",
       "│ PATIENT_NUM ┆ ENCOUNTER_NUM ┆ START_DATE          ┆ CONCEPT_CD      │\n",
       "│ ---         ┆ ---           ┆ ---                 ┆ ---             │\n",
       "│ i64         ┆ i64           ┆ datetime[μs]        ┆ str             │\n",
       "╞═════════════╪═══════════════╪═════════════════════╪═════════════════╡\n",
       "│ 556         ┆ 27844565      ┆ 2016-02-26 00:00:00 ┆ ICD10CM:Z23     │\n",
       "│ 556         ┆ 27844565      ┆ 2016-02-26 00:00:00 ┆ ICD10CM:Z13.89  │\n",
       "│ 556         ┆ 27844565      ┆ 2016-02-26 00:00:00 ┆ ICD10CM:Z13.220 │\n",
       "│ 556         ┆ 28287946      ┆ 2016-03-23 00:00:00 ┆ ICD10CM:Z12.4   │\n",
       "│ 556         ┆ 28287946      ┆ 2016-03-23 00:00:00 ┆ ICD10CM:Z12.39  │\n",
       "└─────────────┴───────────────┴─────────────────────┴─────────────────┘"
      ]
     },
     "execution_count": 63,
     "metadata": {},
     "output_type": "execute_result"
    }
   ],
   "source": [
    "diagnoses_df.collect().head()"
   ]
  },
  {
   "cell_type": "code",
   "execution_count": null,
   "id": "b9d5d10d",
   "metadata": {},
   "outputs": [],
   "source": []
  },
  {
   "cell_type": "code",
   "execution_count": 64,
   "id": "9c4cd5b6",
   "metadata": {},
   "outputs": [
    {
     "name": "stdout",
     "output_type": "stream",
     "text": [
      "Number of unique ICD codes:  28180\n",
      "Number of unique ICD 10 codes:  23638\n",
      "Number of unique ICD 9 codes:  4542\n"
     ]
    }
   ],
   "source": [
    "print(\"Number of unique ICD codes: \", len(np.unique(diagnoses_df.select('CONCEPT_CD').collect()['CONCEPT_CD'].to_list())))\n",
    "print(\"Number of unique ICD 10 codes: \", len(np.unique(diagnoses_df.select('CONCEPT_CD').filter(pl.col('CONCEPT_CD').str.contains('ICD10')).collect()['CONCEPT_CD'].to_list())))\n",
    "print(\"Number of unique ICD 9 codes: \", len(np.unique(diagnoses_df.select('CONCEPT_CD').filter(pl.col('CONCEPT_CD').str.contains('ICD9')).collect()['CONCEPT_CD'].to_list())))"
   ]
  },
  {
   "cell_type": "code",
   "execution_count": 65,
   "id": "d32dbb4b",
   "metadata": {},
   "outputs": [],
   "source": [
    "icd9_codes = np.unique(diagnoses_df.select('CONCEPT_CD').filter(pl.col('CONCEPT_CD').str.contains('ICD9')).collect()['CONCEPT_CD'].to_list())"
   ]
  },
  {
   "cell_type": "code",
   "execution_count": 66,
   "id": "43ce1cfb",
   "metadata": {},
   "outputs": [
    {
     "data": {
      "text/plain": [
       "4542"
      ]
     },
     "execution_count": 66,
     "metadata": {},
     "output_type": "execute_result"
    }
   ],
   "source": [
    "len(icd9_codes)"
   ]
  },
  {
   "cell_type": "markdown",
   "id": "449c92ce",
   "metadata": {},
   "source": [
    "### Initial 4 chars for diagnoses"
   ]
  },
  {
   "cell_type": "code",
   "execution_count": 67,
   "id": "912f066c",
   "metadata": {},
   "outputs": [],
   "source": [
    "if diag_config.use_n_chars:\n",
    "    diagnoses_df_n_chars = diagnoses_df.with_columns(pl.col('CONCEPT_CD').map_elements(standardize_concept_cd,return_dtype = pl.Utf8).alias('standardized_icd10_codes')).collect()\n",
    "    diagnoses_df_n_chars = diagnoses_df_n_chars.with_columns(pl.col('standardized_icd10_codes').map_elements(get_first_n_char_icdcode,return_dtype = pl.Utf8).alias('get_first_'+str(diag_config.n_icd_chars)+'_char_icdcode'))"
   ]
  },
  {
   "cell_type": "code",
   "execution_count": 68,
   "id": "44906e8d",
   "metadata": {},
   "outputs": [
    {
     "data": {
      "text/html": [
       "<div><style>\n",
       ".dataframe > thead > tr,\n",
       ".dataframe > tbody > tr {\n",
       "  text-align: right;\n",
       "  white-space: pre-wrap;\n",
       "}\n",
       "</style>\n",
       "<small>shape: (5, 6)</small><table border=\"1\" class=\"dataframe\"><thead><tr><th>PATIENT_NUM</th><th>ENCOUNTER_NUM</th><th>START_DATE</th><th>CONCEPT_CD</th><th>standardized_icd10_codes</th><th>get_first_3_char_icdcode</th></tr><tr><td>i64</td><td>i64</td><td>datetime[μs]</td><td>str</td><td>str</td><td>str</td></tr></thead><tbody><tr><td>556</td><td>27844565</td><td>2016-02-26 00:00:00</td><td>&quot;ICD10CM:Z23&quot;</td><td>&quot;Z23&quot;</td><td>&quot;Z23&quot;</td></tr><tr><td>556</td><td>27844565</td><td>2016-02-26 00:00:00</td><td>&quot;ICD10CM:Z13.89&quot;</td><td>&quot;Z13.89&quot;</td><td>&quot;Z13&quot;</td></tr><tr><td>556</td><td>27844565</td><td>2016-02-26 00:00:00</td><td>&quot;ICD10CM:Z13.220&quot;</td><td>&quot;Z13.220&quot;</td><td>&quot;Z13&quot;</td></tr><tr><td>556</td><td>28287946</td><td>2016-03-23 00:00:00</td><td>&quot;ICD10CM:Z12.4&quot;</td><td>&quot;Z12.4&quot;</td><td>&quot;Z12&quot;</td></tr><tr><td>556</td><td>28287946</td><td>2016-03-23 00:00:00</td><td>&quot;ICD10CM:Z12.39&quot;</td><td>&quot;Z12.39&quot;</td><td>&quot;Z12&quot;</td></tr></tbody></table></div>"
      ],
      "text/plain": [
       "shape: (5, 6)\n",
       "┌─────────────┬───────────────┬─────────────────┬────────────────┬────────────────┬────────────────┐\n",
       "│ PATIENT_NUM ┆ ENCOUNTER_NUM ┆ START_DATE      ┆ CONCEPT_CD     ┆ standardized_i ┆ get_first_3_ch │\n",
       "│ ---         ┆ ---           ┆ ---             ┆ ---            ┆ cd10_codes     ┆ ar_icdcode     │\n",
       "│ i64         ┆ i64           ┆ datetime[μs]    ┆ str            ┆ ---            ┆ ---            │\n",
       "│             ┆               ┆                 ┆                ┆ str            ┆ str            │\n",
       "╞═════════════╪═══════════════╪═════════════════╪════════════════╪════════════════╪════════════════╡\n",
       "│ 556         ┆ 27844565      ┆ 2016-02-26      ┆ ICD10CM:Z23    ┆ Z23            ┆ Z23            │\n",
       "│             ┆               ┆ 00:00:00        ┆                ┆                ┆                │\n",
       "│ 556         ┆ 27844565      ┆ 2016-02-26      ┆ ICD10CM:Z13.89 ┆ Z13.89         ┆ Z13            │\n",
       "│             ┆               ┆ 00:00:00        ┆                ┆                ┆                │\n",
       "│ 556         ┆ 27844565      ┆ 2016-02-26      ┆ ICD10CM:Z13.22 ┆ Z13.220        ┆ Z13            │\n",
       "│             ┆               ┆ 00:00:00        ┆ 0              ┆                ┆                │\n",
       "│ 556         ┆ 28287946      ┆ 2016-03-23      ┆ ICD10CM:Z12.4  ┆ Z12.4          ┆ Z12            │\n",
       "│             ┆               ┆ 00:00:00        ┆                ┆                ┆                │\n",
       "│ 556         ┆ 28287946      ┆ 2016-03-23      ┆ ICD10CM:Z12.39 ┆ Z12.39         ┆ Z12            │\n",
       "│             ┆               ┆ 00:00:00        ┆                ┆                ┆                │\n",
       "└─────────────┴───────────────┴─────────────────┴────────────────┴────────────────┴────────────────┘"
      ]
     },
     "execution_count": 68,
     "metadata": {},
     "output_type": "execute_result"
    }
   ],
   "source": [
    "diagnoses_df_n_chars.head()"
   ]
  },
  {
   "cell_type": "code",
   "execution_count": 77,
   "id": "39319cb7",
   "metadata": {},
   "outputs": [
    {
     "data": {
      "text/html": [
       "<div><style>\n",
       ".dataframe > thead > tr,\n",
       ".dataframe > tbody > tr {\n",
       "  text-align: right;\n",
       "  white-space: pre-wrap;\n",
       "}\n",
       "</style>\n",
       "<small>shape: (3, 6)</small><table border=\"1\" class=\"dataframe\"><thead><tr><th>PATIENT_NUM</th><th>ENCOUNTER_NUM</th><th>START_DATE</th><th>CONCEPT_CD</th><th>standardized_icd10_codes</th><th>get_first_3_char_icdcode</th></tr><tr><td>i64</td><td>i64</td><td>datetime[μs]</td><td>str</td><td>str</td><td>str</td></tr></thead><tbody><tr><td>2051057</td><td>2230852</td><td>2015-08-07 00:00:00</td><td>&quot;ICD9CM:357.2&quot;</td><td>&quot;E13.42&quot;</td><td>&quot;E13&quot;</td></tr><tr><td>2951472</td><td>40858180</td><td>2015-06-05 00:00:00</td><td>&quot;ICD9CM:357.2&quot;</td><td>&quot;E13.42&quot;</td><td>&quot;E13&quot;</td></tr><tr><td>2951472</td><td>40441142</td><td>2015-07-08 00:00:00</td><td>&quot;ICD9CM:357.2&quot;</td><td>&quot;E13.42&quot;</td><td>&quot;E13&quot;</td></tr></tbody></table></div>"
      ],
      "text/plain": [
       "shape: (3, 6)\n",
       "┌─────────────┬───────────────┬──────────────┬──────────────┬───────────────────┬──────────────────┐\n",
       "│ PATIENT_NUM ┆ ENCOUNTER_NUM ┆ START_DATE   ┆ CONCEPT_CD   ┆ standardized_icd1 ┆ get_first_3_char │\n",
       "│ ---         ┆ ---           ┆ ---          ┆ ---          ┆ 0_codes           ┆ _icdcode         │\n",
       "│ i64         ┆ i64           ┆ datetime[μs] ┆ str          ┆ ---               ┆ ---              │\n",
       "│             ┆               ┆              ┆              ┆ str               ┆ str              │\n",
       "╞═════════════╪═══════════════╪══════════════╪══════════════╪═══════════════════╪══════════════════╡\n",
       "│ 2051057     ┆ 2230852       ┆ 2015-08-07   ┆ ICD9CM:357.2 ┆ E13.42            ┆ E13              │\n",
       "│             ┆               ┆ 00:00:00     ┆              ┆                   ┆                  │\n",
       "│ 2951472     ┆ 40858180      ┆ 2015-06-05   ┆ ICD9CM:357.2 ┆ E13.42            ┆ E13              │\n",
       "│             ┆               ┆ 00:00:00     ┆              ┆                   ┆                  │\n",
       "│ 2951472     ┆ 40441142      ┆ 2015-07-08   ┆ ICD9CM:357.2 ┆ E13.42            ┆ E13              │\n",
       "│             ┆               ┆ 00:00:00     ┆              ┆                   ┆                  │\n",
       "└─────────────┴───────────────┴──────────────┴──────────────┴───────────────────┴──────────────────┘"
      ]
     },
     "execution_count": 77,
     "metadata": {},
     "output_type": "execute_result"
    }
   ],
   "source": [
    "diagnoses_df_n_chars.filter(pl.col('get_first_3_char_icdcode').str.starts_with('E13'))"
   ]
  },
  {
   "cell_type": "code",
   "execution_count": 78,
   "id": "05b6793c",
   "metadata": {},
   "outputs": [
    {
     "ename": "AttributeError",
     "evalue": "'DataFrame' object has no attribute 'collect'",
     "output_type": "error",
     "traceback": [
      "\u001b[0;31m---------------------------------------------------------------------------\u001b[0m",
      "\u001b[0;31mAttributeError\u001b[0m                            Traceback (most recent call last)",
      "Cell \u001b[0;32mIn[78], line 1\u001b[0m\n\u001b[0;32m----> 1\u001b[0m \u001b[43mdiagnoses_df_n_chars\u001b[49m\u001b[38;5;241;43m.\u001b[39;49m\u001b[43mselect\u001b[49m\u001b[43m(\u001b[49m\u001b[43m[\u001b[49m\u001b[38;5;124;43m'\u001b[39;49m\u001b[38;5;124;43mget_first_3_char_icdcode\u001b[39;49m\u001b[38;5;124;43m'\u001b[39;49m\u001b[43m]\u001b[49m\u001b[43m)\u001b[49m\u001b[38;5;241;43m.\u001b[39;49m\u001b[43mcollect\u001b[49m()[\u001b[38;5;124m'\u001b[39m\u001b[38;5;124mget_first_3_char_icdcode\u001b[39m\u001b[38;5;124m'\u001b[39m]\n",
      "\u001b[0;31mAttributeError\u001b[0m: 'DataFrame' object has no attribute 'collect'"
     ]
    }
   ],
   "source": [
    "diagnoses_df_n_chars.select(['get_first_3_char_icdcode']).collect()['get_first_3_char_icdcode']"
   ]
  },
  {
   "cell_type": "code",
   "execution_count": 46,
   "id": "f001b9dc",
   "metadata": {},
   "outputs": [
    {
     "name": "stdout",
     "output_type": "stream",
     "text": [
      "<class 'polars.lazyframe.frame.LazyFrame'>\n"
     ]
    }
   ],
   "source": [
    "print(type(diagnoses_df_n_chars))"
   ]
  },
  {
   "cell_type": "code",
   "execution_count": 79,
   "id": "9f7939e5",
   "metadata": {},
   "outputs": [
    {
     "data": {
      "text/html": [
       "<div><style>\n",
       ".dataframe > thead > tr,\n",
       ".dataframe > tbody > tr {\n",
       "  text-align: right;\n",
       "  white-space: pre-wrap;\n",
       "}\n",
       "</style>\n",
       "<small>shape: (1, 6)</small><table border=\"1\" class=\"dataframe\"><thead><tr><th>PATIENT_NUM</th><th>ENCOUNTER_NUM</th><th>START_DATE</th><th>CONCEPT_CD</th><th>standardized_icd10_codes</th><th>get_first_3_char_icdcode</th></tr><tr><td>u32</td><td>u32</td><td>u32</td><td>u32</td><td>u32</td><td>u32</td></tr></thead><tbody><tr><td>0</td><td>0</td><td>0</td><td>0</td><td>0</td><td>0</td></tr></tbody></table></div>"
      ],
      "text/plain": [
       "shape: (1, 6)\n",
       "┌─────────────┬───────────────┬────────────┬────────────┬─────────────────────┬────────────────────┐\n",
       "│ PATIENT_NUM ┆ ENCOUNTER_NUM ┆ START_DATE ┆ CONCEPT_CD ┆ standardized_icd10_ ┆ get_first_3_char_i │\n",
       "│ ---         ┆ ---           ┆ ---        ┆ ---        ┆ codes               ┆ cdcode             │\n",
       "│ u32         ┆ u32           ┆ u32        ┆ u32        ┆ ---                 ┆ ---                │\n",
       "│             ┆               ┆            ┆            ┆ u32                 ┆ u32                │\n",
       "╞═════════════╪═══════════════╪════════════╪════════════╪═════════════════════╪════════════════════╡\n",
       "│ 0           ┆ 0             ┆ 0          ┆ 0          ┆ 0                   ┆ 0                  │\n",
       "└─────────────┴───────────────┴────────────┴────────────┴─────────────────────┴────────────────────┘"
      ]
     },
     "execution_count": 79,
     "metadata": {},
     "output_type": "execute_result"
    }
   ],
   "source": [
    "diagnoses_df_n_chars.null_count()"
   ]
  },
  {
   "cell_type": "code",
   "execution_count": 80,
   "id": "ec2dbdf5",
   "metadata": {},
   "outputs": [
    {
     "data": {
      "text/html": [
       "<div><style>\n",
       ".dataframe > thead > tr,\n",
       ".dataframe > tbody > tr {\n",
       "  text-align: right;\n",
       "  white-space: pre-wrap;\n",
       "}\n",
       "</style>\n",
       "<small>shape: (0, 6)</small><table border=\"1\" class=\"dataframe\"><thead><tr><th>PATIENT_NUM</th><th>ENCOUNTER_NUM</th><th>START_DATE</th><th>CONCEPT_CD</th><th>standardized_icd10_codes</th><th>get_first_3_char_icdcode</th></tr><tr><td>i64</td><td>i64</td><td>datetime[μs]</td><td>str</td><td>str</td><td>str</td></tr></thead><tbody></tbody></table></div>"
      ],
      "text/plain": [
       "shape: (0, 6)\n",
       "┌─────────────┬───────────────┬──────────────┬────────────┬────────────────────┬───────────────────┐\n",
       "│ PATIENT_NUM ┆ ENCOUNTER_NUM ┆ START_DATE   ┆ CONCEPT_CD ┆ standardized_icd10 ┆ get_first_3_char_ │\n",
       "│ ---         ┆ ---           ┆ ---          ┆ ---        ┆ _codes             ┆ icdcode           │\n",
       "│ i64         ┆ i64           ┆ datetime[μs] ┆ str        ┆ ---                ┆ ---               │\n",
       "│             ┆               ┆              ┆            ┆ str                ┆ str               │\n",
       "╞═════════════╪═══════════════╪══════════════╪════════════╪════════════════════╪═══════════════════╡\n",
       "└─────────────┴───────────────┴──────────────┴────────────┴────────────────────┴───────────────────┘"
      ]
     },
     "execution_count": 80,
     "metadata": {},
     "output_type": "execute_result"
    }
   ],
   "source": [
    "diagnoses_df_n_chars.filter(pl.col('standardized_icd10_codes') == '831.04')"
   ]
  },
  {
   "cell_type": "code",
   "execution_count": 83,
   "id": "d491204a",
   "metadata": {},
   "outputs": [
    {
     "name": "stdout",
     "output_type": "stream",
     "text": [
      "Number of unique ICD codes after initial 4 chars:  1719\n"
     ]
    }
   ],
   "source": [
    "if diag_config.use_n_chars:\n",
    "    diagnoses_df_n_chars = diagnoses_df_n_chars.drop_nulls()\n",
    "    print(\"Number of unique ICD codes after initial 4 chars: \",len(np.unique(diagnoses_df_n_chars.select('get_first_'+str(diag_config.n_icd_chars)+'_char_icdcode')['get_first_'+str(diag_config.n_icd_chars)+'_char_icdcode'].to_list())))\n",
    "    diagnoses_df_n_chars.write_parquet('./Determine_cohort_files/Determine_cohort_diagnoses_initail_'+str(diag_config.n_icd_chars)+'_chars.parquet')"
   ]
  },
  {
   "cell_type": "markdown",
   "id": "affb9508",
   "metadata": {},
   "source": [
    "### Phecodes_v1 (legacy)"
   ]
  },
  {
   "cell_type": "code",
   "execution_count": null,
   "id": "91d5e2a4",
   "metadata": {},
   "outputs": [],
   "source": [
    "icd10_phecode_map.head()"
   ]
  },
  {
   "cell_type": "code",
   "execution_count": null,
   "id": "59c16354",
   "metadata": {},
   "outputs": [],
   "source": [
    "len(np.unique(icd10_phecode_map['PHECODE'].to_list()))"
   ]
  },
  {
   "cell_type": "code",
   "execution_count": null,
   "id": "469485a9",
   "metadata": {},
   "outputs": [],
   "source": [
    "icd10cm_to_phecode_dict = dict(zip(icd10_phecode_map['ICD10CM'].to_list(), icd10_phecode_map['PHECODE'].to_list()))"
   ]
  },
  {
   "cell_type": "code",
   "execution_count": null,
   "id": "63a1e5bc",
   "metadata": {},
   "outputs": [],
   "source": [
    "def icd10_to_phecode_map_func(icd10code):\n",
    "    if icd10code in list(icd10cm_to_phecode_dict.keys()):\n",
    "        return str(icd10cm_to_phecode_dict[icd10code])\n",
    "    else:\n",
    "        return \"\"str(icd10code)"
   ]
  },
  {
   "cell_type": "code",
   "execution_count": null,
   "id": "dc0e59ed",
   "metadata": {},
   "outputs": [],
   "source": [
    "diagnoses_df = diagnoses_df.with_columns(pl.col('CONCEPT_CD').map_elements(standardize_concept_cd,return_dtype = pl.Utf8).alias('standardized_icd10_codes'))"
   ]
  },
  {
   "cell_type": "code",
   "execution_count": null,
   "id": "f9a07bbf",
   "metadata": {
    "scrolled": true
   },
   "outputs": [],
   "source": [
    "diagnoses_df.collect().head()"
   ]
  },
  {
   "cell_type": "code",
   "execution_count": null,
   "id": "dda4f440",
   "metadata": {},
   "outputs": [],
   "source": [
    "diagnoses_df = diagnoses_df.with_columns(\n",
    "    pl.when(pl.col('standardized_icd10_codes').is_in(list(icd10cm_to_phecode_dict.keys())))\n",
    "    .then(pl.col('standardized_icd10_codes').replace(icd10cm_to_phecode_dict))\n",
    "    .otherwise(pl.col('CONCEPT_CD'))\n",
    "    .cast(pl.Utf8)\n",
    "    .alias('phecode_map')\n",
    ")"
   ]
  },
  {
   "cell_type": "code",
   "execution_count": null,
   "id": "60ad3adc",
   "metadata": {},
   "outputs": [],
   "source": [
    "diagnoses_df.collect().head()"
   ]
  },
  {
   "cell_type": "code",
   "execution_count": null,
   "id": "f2702819",
   "metadata": {},
   "outputs": [],
   "source": [
    "diagnoses_df.null_count().collect()"
   ]
  },
  {
   "cell_type": "code",
   "execution_count": null,
   "id": "ddb9409a",
   "metadata": {},
   "outputs": [],
   "source": [
    "diagnoses_df = diagnoses_df.drop_nulls()"
   ]
  },
  {
   "cell_type": "code",
   "execution_count": null,
   "id": "3c375b32",
   "metadata": {},
   "outputs": [],
   "source": [
    "print(\"Number if unique codes after phecode map: \",len(np.unique(diagnoses_df.filter(~pl.col('standardized_icd10_codes').is_null())\n",
    "                                                                 .select('phecode_map').collect()['phecode_map'].to_list())))"
   ]
  },
  {
   "cell_type": "code",
   "execution_count": null,
   "id": "a1cfd128",
   "metadata": {},
   "outputs": [],
   "source": [
    "print(\"Number if unique codes which cannot be converted after phecode map: \",len(np.unique(diagnoses_df.filter(pl.col('phecode_map').str.starts_with('ICD'))\n",
    "                                                                .select('phecode_map').collect()['phecode_map'].to_list())))"
   ]
  },
  {
   "cell_type": "code",
   "execution_count": null,
   "id": "d8984528",
   "metadata": {},
   "outputs": [],
   "source": [
    "diagnoses_df.collect().write_parquet(\"Determine_cohort_diagnoses_phecode_map.parquet\")"
   ]
  },
  {
   "cell_type": "markdown",
   "id": "b2a7eb7f",
   "metadata": {},
   "source": [
    "### Phecode v2 (Standardizing from ICD9 and ICD10)"
   ]
  },
  {
   "cell_type": "code",
   "execution_count": 101,
   "id": "00cdd0a1",
   "metadata": {},
   "outputs": [],
   "source": [
    "diagnoses_df = diagnoses_df.with_columns(pl.col('CONCEPT_CD').map_elements(get_phecode_from_concept_cd,return_dtype = pl.Utf8).alias('phecode_map'))"
   ]
  },
  {
   "cell_type": "code",
   "execution_count": 102,
   "id": "88b82454",
   "metadata": {
    "scrolled": true
   },
   "outputs": [
    {
     "data": {
      "text/html": [
       "<div><style>\n",
       ".dataframe > thead > tr,\n",
       ".dataframe > tbody > tr {\n",
       "  text-align: right;\n",
       "  white-space: pre-wrap;\n",
       "}\n",
       "</style>\n",
       "<small>shape: (5, 5)</small><table border=\"1\" class=\"dataframe\"><thead><tr><th>PATIENT_NUM</th><th>ENCOUNTER_NUM</th><th>START_DATE</th><th>CONCEPT_CD</th><th>phecode_map</th></tr><tr><td>i64</td><td>i64</td><td>datetime[μs]</td><td>str</td><td>str</td></tr></thead><tbody><tr><td>556</td><td>27844565</td><td>2016-02-26 00:00:00</td><td>&quot;ICD10CM:Z23&quot;</td><td>&quot;ICD10CM:Z23&quot;</td></tr><tr><td>556</td><td>27844565</td><td>2016-02-26 00:00:00</td><td>&quot;ICD10CM:Z13.89&quot;</td><td>&quot;ICD10CM:Z13&quot;</td></tr><tr><td>556</td><td>27844565</td><td>2016-02-26 00:00:00</td><td>&quot;ICD10CM:Z13.220&quot;</td><td>&quot;ICD10CM:Z13&quot;</td></tr><tr><td>556</td><td>28287946</td><td>2016-03-23 00:00:00</td><td>&quot;ICD10CM:Z12.4&quot;</td><td>&quot;ICD10CM:Z12&quot;</td></tr><tr><td>556</td><td>28287946</td><td>2016-03-23 00:00:00</td><td>&quot;ICD10CM:Z12.39&quot;</td><td>&quot;ICD10CM:Z12&quot;</td></tr></tbody></table></div>"
      ],
      "text/plain": [
       "shape: (5, 5)\n",
       "┌─────────────┬───────────────┬─────────────────────┬─────────────────┬─────────────┐\n",
       "│ PATIENT_NUM ┆ ENCOUNTER_NUM ┆ START_DATE          ┆ CONCEPT_CD      ┆ phecode_map │\n",
       "│ ---         ┆ ---           ┆ ---                 ┆ ---             ┆ ---         │\n",
       "│ i64         ┆ i64           ┆ datetime[μs]        ┆ str             ┆ str         │\n",
       "╞═════════════╪═══════════════╪═════════════════════╪═════════════════╪═════════════╡\n",
       "│ 556         ┆ 27844565      ┆ 2016-02-26 00:00:00 ┆ ICD10CM:Z23     ┆ ICD10CM:Z23 │\n",
       "│ 556         ┆ 27844565      ┆ 2016-02-26 00:00:00 ┆ ICD10CM:Z13.89  ┆ ICD10CM:Z13 │\n",
       "│ 556         ┆ 27844565      ┆ 2016-02-26 00:00:00 ┆ ICD10CM:Z13.220 ┆ ICD10CM:Z13 │\n",
       "│ 556         ┆ 28287946      ┆ 2016-03-23 00:00:00 ┆ ICD10CM:Z12.4   ┆ ICD10CM:Z12 │\n",
       "│ 556         ┆ 28287946      ┆ 2016-03-23 00:00:00 ┆ ICD10CM:Z12.39  ┆ ICD10CM:Z12 │\n",
       "└─────────────┴───────────────┴─────────────────────┴─────────────────┴─────────────┘"
      ]
     },
     "execution_count": 102,
     "metadata": {},
     "output_type": "execute_result"
    }
   ],
   "source": [
    "diagnoses_df.collect().head()"
   ]
  },
  {
   "cell_type": "code",
   "execution_count": 103,
   "id": "4fcb6aa7",
   "metadata": {},
   "outputs": [
    {
     "data": {
      "text/html": [
       "<div><style>\n",
       ".dataframe > thead > tr,\n",
       ".dataframe > tbody > tr {\n",
       "  text-align: right;\n",
       "  white-space: pre-wrap;\n",
       "}\n",
       "</style>\n",
       "<small>shape: (1, 5)</small><table border=\"1\" class=\"dataframe\"><thead><tr><th>PATIENT_NUM</th><th>ENCOUNTER_NUM</th><th>START_DATE</th><th>CONCEPT_CD</th><th>phecode_map</th></tr><tr><td>u32</td><td>u32</td><td>u32</td><td>u32</td><td>u32</td></tr></thead><tbody><tr><td>0</td><td>0</td><td>0</td><td>0</td><td>0</td></tr></tbody></table></div>"
      ],
      "text/plain": [
       "shape: (1, 5)\n",
       "┌─────────────┬───────────────┬────────────┬────────────┬─────────────┐\n",
       "│ PATIENT_NUM ┆ ENCOUNTER_NUM ┆ START_DATE ┆ CONCEPT_CD ┆ phecode_map │\n",
       "│ ---         ┆ ---           ┆ ---        ┆ ---        ┆ ---         │\n",
       "│ u32         ┆ u32           ┆ u32        ┆ u32        ┆ u32         │\n",
       "╞═════════════╪═══════════════╪════════════╪════════════╪═════════════╡\n",
       "│ 0           ┆ 0             ┆ 0          ┆ 0          ┆ 0           │\n",
       "└─────────────┴───────────────┴────────────┴────────────┴─────────────┘"
      ]
     },
     "execution_count": 103,
     "metadata": {},
     "output_type": "execute_result"
    }
   ],
   "source": [
    "diagnoses_df.null_count().collect()"
   ]
  },
  {
   "cell_type": "code",
   "execution_count": 104,
   "id": "7154e3bc",
   "metadata": {},
   "outputs": [],
   "source": [
    "diag_null_phe_df = diagnoses_df.filter(pl.col('phecode_map').is_null())"
   ]
  },
  {
   "cell_type": "code",
   "execution_count": 105,
   "id": "2a070450",
   "metadata": {},
   "outputs": [
    {
     "data": {
      "text/plain": [
       "0"
      ]
     },
     "execution_count": 105,
     "metadata": {},
     "output_type": "execute_result"
    }
   ],
   "source": [
    "len(np.unique(diag_null_phe_df.filter(pl.col('CONCEPT_CD').str.starts_with('ICD10')).collect()['CONCEPT_CD'].to_list()))"
   ]
  },
  {
   "cell_type": "code",
   "execution_count": 106,
   "id": "d78c4dc0",
   "metadata": {},
   "outputs": [
    {
     "data": {
      "text/html": [
       "<div><style>\n",
       ".dataframe > thead > tr,\n",
       ".dataframe > tbody > tr {\n",
       "  text-align: right;\n",
       "  white-space: pre-wrap;\n",
       "}\n",
       "</style>\n",
       "<small>shape: (31_723, 5)</small><table border=\"1\" class=\"dataframe\"><thead><tr><th>PATIENT_NUM</th><th>ENCOUNTER_NUM</th><th>START_DATE</th><th>CONCEPT_CD</th><th>phecode_map</th></tr><tr><td>i64</td><td>i64</td><td>datetime[μs]</td><td>str</td><td>str</td></tr></thead><tbody><tr><td>823</td><td>2498907</td><td>2017-03-13 00:00:00</td><td>&quot;ICD10CM:Z68.38&quot;</td><td>&quot;ICD10CM:Z68&quot;</td></tr><tr><td>1016</td><td>2456176</td><td>2016-07-15 00:00:00</td><td>&quot;ICD10CM:Z68.31&quot;</td><td>&quot;ICD10CM:Z68&quot;</td></tr><tr><td>1016</td><td>1964356</td><td>2016-08-25 00:00:00</td><td>&quot;ICD10CM:Z68.31&quot;</td><td>&quot;ICD10CM:Z68&quot;</td></tr><tr><td>1213</td><td>60490975</td><td>2016-07-28 00:00:00</td><td>&quot;ICD10CM:Z68.30&quot;</td><td>&quot;ICD10CM:Z68&quot;</td></tr><tr><td>1390</td><td>60086251</td><td>2016-05-25 00:00:00</td><td>&quot;ICD10CM:Z68.31&quot;</td><td>&quot;ICD10CM:Z68&quot;</td></tr><tr><td>&hellip;</td><td>&hellip;</td><td>&hellip;</td><td>&hellip;</td><td>&hellip;</td></tr><tr><td>12319299</td><td>0</td><td>2016-05-10 00:00:00</td><td>&quot;ICD10CM:Z68.33&quot;</td><td>&quot;ICD10CM:Z68&quot;</td></tr><tr><td>12365454</td><td>0</td><td>2016-05-31 00:00:00</td><td>&quot;ICD10CM:Z68.39&quot;</td><td>&quot;ICD10CM:Z68&quot;</td></tr><tr><td>12378183</td><td>0</td><td>2016-03-04 00:00:00</td><td>&quot;ICD10CM:Z68.38&quot;</td><td>&quot;ICD10CM:Z68&quot;</td></tr><tr><td>12387244</td><td>0</td><td>2017-01-09 00:00:00</td><td>&quot;ICD10CM:Z68.35&quot;</td><td>&quot;ICD10CM:Z68&quot;</td></tr><tr><td>12397801</td><td>0</td><td>2016-03-02 00:00:00</td><td>&quot;ICD10CM:Z68.32&quot;</td><td>&quot;ICD10CM:Z68&quot;</td></tr></tbody></table></div>"
      ],
      "text/plain": [
       "shape: (31_723, 5)\n",
       "┌─────────────┬───────────────┬─────────────────────┬────────────────┬─────────────┐\n",
       "│ PATIENT_NUM ┆ ENCOUNTER_NUM ┆ START_DATE          ┆ CONCEPT_CD     ┆ phecode_map │\n",
       "│ ---         ┆ ---           ┆ ---                 ┆ ---            ┆ ---         │\n",
       "│ i64         ┆ i64           ┆ datetime[μs]        ┆ str            ┆ str         │\n",
       "╞═════════════╪═══════════════╪═════════════════════╪════════════════╪═════════════╡\n",
       "│ 823         ┆ 2498907       ┆ 2017-03-13 00:00:00 ┆ ICD10CM:Z68.38 ┆ ICD10CM:Z68 │\n",
       "│ 1016        ┆ 2456176       ┆ 2016-07-15 00:00:00 ┆ ICD10CM:Z68.31 ┆ ICD10CM:Z68 │\n",
       "│ 1016        ┆ 1964356       ┆ 2016-08-25 00:00:00 ┆ ICD10CM:Z68.31 ┆ ICD10CM:Z68 │\n",
       "│ 1213        ┆ 60490975      ┆ 2016-07-28 00:00:00 ┆ ICD10CM:Z68.30 ┆ ICD10CM:Z68 │\n",
       "│ 1390        ┆ 60086251      ┆ 2016-05-25 00:00:00 ┆ ICD10CM:Z68.31 ┆ ICD10CM:Z68 │\n",
       "│ …           ┆ …             ┆ …                   ┆ …              ┆ …           │\n",
       "│ 12319299    ┆ 0             ┆ 2016-05-10 00:00:00 ┆ ICD10CM:Z68.33 ┆ ICD10CM:Z68 │\n",
       "│ 12365454    ┆ 0             ┆ 2016-05-31 00:00:00 ┆ ICD10CM:Z68.39 ┆ ICD10CM:Z68 │\n",
       "│ 12378183    ┆ 0             ┆ 2016-03-04 00:00:00 ┆ ICD10CM:Z68.38 ┆ ICD10CM:Z68 │\n",
       "│ 12387244    ┆ 0             ┆ 2017-01-09 00:00:00 ┆ ICD10CM:Z68.35 ┆ ICD10CM:Z68 │\n",
       "│ 12397801    ┆ 0             ┆ 2016-03-02 00:00:00 ┆ ICD10CM:Z68.32 ┆ ICD10CM:Z68 │\n",
       "└─────────────┴───────────────┴─────────────────────┴────────────────┴─────────────┘"
      ]
     },
     "execution_count": 106,
     "metadata": {},
     "output_type": "execute_result"
    }
   ],
   "source": [
    "diagnoses_df.filter(#(pl.col('phecode_map').str.starts_with('1010')) & \n",
    "                   (pl.col('CONCEPT_CD').str.starts_with('ICD10CM:Z68.3'))).collect()"
   ]
  },
  {
   "cell_type": "code",
   "execution_count": 107,
   "id": "6a9e6339",
   "metadata": {},
   "outputs": [],
   "source": [
    "icd_codes_not_phe = np.unique(diagnoses_df.filter(#(pl.col('phecode_map').str.starts_with('1010')) & \n",
    "                   (pl.col('phecode_map').str.starts_with('ICD'))).collect()['phecode_map'].to_list())"
   ]
  },
  {
   "cell_type": "code",
   "execution_count": 108,
   "id": "303429f7",
   "metadata": {},
   "outputs": [
    {
     "data": {
      "text/plain": [
       "631"
      ]
     },
     "execution_count": 108,
     "metadata": {},
     "output_type": "execute_result"
    }
   ],
   "source": [
    "len(icd_codes_not_phe)"
   ]
  },
  {
   "cell_type": "code",
   "execution_count": 109,
   "id": "f89dadd9",
   "metadata": {},
   "outputs": [
    {
     "data": {
      "text/plain": [
       "array(['ICD10CM:A04', 'ICD10CM:A41', 'ICD10CM:A52', 'ICD10CM:A54',\n",
       "       'ICD10CM:A56', 'ICD10CM:A63', 'ICD10CM:A74', 'ICD10CM:A88',\n",
       "       'ICD10CM:A92', 'ICD10CM:B08', 'ICD10CM:B15', 'ICD10CM:B17',\n",
       "       'ICD10CM:B18', 'ICD10CM:B95', 'ICD10CM:B96', 'ICD10CM:B97',\n",
       "       'ICD10CM:C44', 'ICD10CM:D32', 'ICD10CM:D35', 'ICD10CM:D47',\n",
       "       'ICD10CM:D48', 'ICD10CM:D53', 'ICD10CM:D57', 'ICD10CM:D63',\n",
       "       'ICD10CM:D68', 'ICD10CM:D75', 'ICD10CM:E01', 'ICD10CM:E03',\n",
       "       'ICD10CM:E04', 'ICD10CM:E22', 'ICD10CM:E23', 'ICD10CM:E27',\n",
       "       'ICD10CM:E61', 'ICD10CM:E66', 'ICD10CM:E71', 'ICD10CM:E72',\n",
       "       'ICD10CM:E74', 'ICD10CM:E78', 'ICD10CM:E80', 'ICD10CM:E87',\n",
       "       'ICD10CM:E88', 'ICD10CM:E89', 'ICD10CM:F06', 'ICD10CM:F10',\n",
       "       'ICD10CM:F11', 'ICD10CM:F12', 'ICD10CM:F13', 'ICD10CM:F14',\n",
       "       'ICD10CM:F15', 'ICD10CM:F16', 'ICD10CM:F17', 'ICD10CM:F19',\n",
       "       'ICD10CM:F34', 'ICD10CM:F41', 'ICD10CM:F43', 'ICD10CM:F48',\n",
       "       'ICD10CM:F51', 'ICD10CM:F52', 'ICD10CM:F53', 'ICD10CM:F60',\n",
       "       'ICD10CM:F63', 'ICD10CM:F68', 'ICD10CM:F81', 'ICD10CM:F94',\n",
       "       'ICD10CM:F98', 'ICD10CM:G25', 'ICD10CM:G31', 'ICD10CM:G40',\n",
       "       'ICD10CM:G45', 'ICD10CM:G46', 'ICD10CM:G51', 'ICD10CM:G58',\n",
       "       'ICD10CM:G62', 'ICD10CM:G71', 'ICD10CM:G89', 'ICD10CM:G93',\n",
       "       'ICD10CM:G97', 'ICD10CM:H01', 'ICD10CM:H02', 'ICD10CM:H05',\n",
       "       'ICD10CM:H10', 'ICD10CM:H33', 'ICD10CM:H40', 'ICD10CM:H50',\n",
       "       'ICD10CM:H57', 'ICD10CM:H81', 'ICD10CM:H83', 'ICD10CM:I24',\n",
       "       'ICD10CM:I25', 'ICD10CM:I27', 'ICD10CM:I44', 'ICD10CM:I48',\n",
       "       'ICD10CM:I49', 'ICD10CM:I51', 'ICD10CM:I60', 'ICD10CM:I63',\n",
       "       'ICD10CM:I67', 'ICD10CM:I70', 'ICD10CM:I71', 'ICD10CM:I72',\n",
       "       'ICD10CM:I82', 'ICD10CM:I87', 'ICD10CM:I95', 'ICD10CM:J15',\n",
       "       'ICD10CM:J34', 'ICD10CM:J45', 'ICD10CM:J81', 'ICD10CM:J84',\n",
       "       'ICD10CM:J91', 'ICD10CM:K03', 'ICD10CM:K06', 'ICD10CM:K08',\n",
       "       'ICD10CM:K09', 'ICD10CM:K12', 'ICD10CM:K13', 'ICD10CM:K22',\n",
       "       'ICD10CM:K35', 'ICD10CM:K51', 'ICD10CM:K52', 'ICD10CM:K56',\n",
       "       'ICD10CM:K57', 'ICD10CM:K61', 'ICD10CM:K62', 'ICD10CM:K74',\n",
       "       'ICD10CM:K75', 'ICD10CM:K80', 'ICD10CM:K83', 'ICD10CM:K86',\n",
       "       'ICD10CM:K91', 'ICD10CM:K92', 'ICD10CM:L02', 'ICD10CM:L20',\n",
       "       'ICD10CM:L30', 'ICD10CM:L53', 'ICD10CM:L65', 'ICD10CM:L73',\n",
       "       'ICD10CM:L85', 'ICD10CM:L89', 'ICD10CM:L91', 'ICD10CM:L92',\n",
       "       'ICD10CM:L94', 'ICD10CM:L95', 'ICD10CM:L98', 'ICD10CM:M04',\n",
       "       'ICD10CM:M05', 'ICD10CM:M06', 'ICD10CM:M13', 'ICD10CM:M15',\n",
       "       'ICD10CM:M16', 'ICD10CM:M25', 'ICD10CM:M27', 'ICD10CM:M32',\n",
       "       'ICD10CM:M35', 'ICD10CM:M36', 'ICD10CM:M43', 'ICD10CM:M51',\n",
       "       'ICD10CM:M54', 'ICD10CM:M62', 'ICD10CM:M72', 'ICD10CM:M79',\n",
       "       'ICD10CM:M89', 'ICD10CM:N02', 'ICD10CM:N13', 'ICD10CM:N15',\n",
       "       'ICD10CM:N25', 'ICD10CM:N28', 'ICD10CM:N35', 'ICD10CM:N39',\n",
       "       'ICD10CM:N42', 'ICD10CM:N43', 'ICD10CM:N44', 'ICD10CM:N47',\n",
       "       'ICD10CM:N48', 'ICD10CM:N50', 'ICD10CM:N63', 'ICD10CM:N73',\n",
       "       'ICD10CM:N76', 'ICD10CM:N77', 'ICD10CM:N81', 'ICD10CM:N83',\n",
       "       'ICD10CM:N84', 'ICD10CM:N85', 'ICD10CM:N88', 'ICD10CM:N89',\n",
       "       'ICD10CM:N90', 'ICD10CM:N92', 'ICD10CM:N93', 'ICD10CM:N94',\n",
       "       'ICD10CM:N95', 'ICD10CM:N96', 'ICD10CM:N99', 'ICD10CM:O04',\n",
       "       'ICD10CM:O07', 'ICD10CM:O26', 'ICD10CM:O86', 'ICD10CM:O90',\n",
       "       'ICD10CM:O99', 'ICD10CM:P04', 'ICD10CM:P83', 'ICD10CM:Q20',\n",
       "       'ICD10CM:Q23', 'ICD10CM:Q51', 'ICD10CM:Q52', 'ICD10CM:Q64',\n",
       "       'ICD10CM:Q66', 'ICD10CM:Q67', 'ICD10CM:Q79', 'ICD10CM:Q82',\n",
       "       'ICD10CM:Q87', 'ICD10CM:Q89', 'ICD10CM:Q93', 'ICD10CM:R03',\n",
       "       'ICD10CM:R04', 'ICD10CM:R06', 'ICD10CM:R07', 'ICD10CM:R09',\n",
       "       'ICD10CM:R10', 'ICD10CM:R11', 'ICD10CM:R16', 'ICD10CM:R19',\n",
       "       'ICD10CM:R23', 'ICD10CM:R26', 'ICD10CM:R29', 'ICD10CM:R39',\n",
       "       'ICD10CM:R41', 'ICD10CM:R44', 'ICD10CM:R45', 'ICD10CM:R47',\n",
       "       'ICD10CM:R48', 'ICD10CM:R50', 'ICD10CM:R53', 'ICD10CM:R62',\n",
       "       'ICD10CM:R63', 'ICD10CM:R68', 'ICD10CM:R70', 'ICD10CM:R73',\n",
       "       'ICD10CM:R76', 'ICD10CM:R78', 'ICD10CM:R79', 'ICD10CM:R82',\n",
       "       'ICD10CM:R84', 'ICD10CM:R85', 'ICD10CM:R87', 'ICD10CM:R88',\n",
       "       'ICD10CM:R89', 'ICD10CM:R90', 'ICD10CM:R92', 'ICD10CM:R93',\n",
       "       'ICD10CM:R94', 'ICD10CM:S02', 'ICD10CM:S06', 'ICD10CM:T36',\n",
       "       'ICD10CM:T38', 'ICD10CM:T45', 'ICD10CM:T46', 'ICD10CM:T50',\n",
       "       'ICD10CM:T56', 'ICD10CM:T57', 'ICD10CM:T67', 'ICD10CM:T81',\n",
       "       'ICD10CM:U07', 'ICD10CM:V00', 'ICD10CM:V01', 'ICD10CM:V03',\n",
       "       'ICD10CM:V05', 'ICD10CM:V06', 'ICD10CM:V09', 'ICD10CM:V16',\n",
       "       'ICD10CM:V18', 'ICD10CM:V19', 'ICD10CM:V20', 'ICD10CM:V22',\n",
       "       'ICD10CM:V23', 'ICD10CM:V25', 'ICD10CM:V27', 'ICD10CM:V29',\n",
       "       'ICD10CM:V34', 'ICD10CM:V39', 'ICD10CM:V40', 'ICD10CM:V43',\n",
       "       'ICD10CM:V46', 'ICD10CM:V47', 'ICD10CM:V48', 'ICD10CM:V53',\n",
       "       'ICD10CM:V60', 'ICD10CM:V61', 'ICD10CM:V62', 'ICD10CM:V68',\n",
       "       'ICD10CM:V69', 'ICD10CM:V70', 'ICD10CM:V71', 'ICD10CM:V72',\n",
       "       'ICD10CM:V74', 'ICD10CM:V78', 'ICD10CM:V79', 'ICD10CM:V80',\n",
       "       'ICD10CM:V81', 'ICD10CM:V82', 'ICD10CM:V85', 'ICD10CM:V86',\n",
       "       'ICD10CM:V87', 'ICD10CM:V89', 'ICD10CM:V93', 'ICD10CM:V99',\n",
       "       'ICD10CM:W00', 'ICD10CM:W01', 'ICD10CM:W03', 'ICD10CM:W05',\n",
       "       'ICD10CM:W06', 'ICD10CM:W07', 'ICD10CM:W08', 'ICD10CM:W09',\n",
       "       'ICD10CM:W10', 'ICD10CM:W11', 'ICD10CM:W12', 'ICD10CM:W13',\n",
       "       'ICD10CM:W14', 'ICD10CM:W15', 'ICD10CM:W16', 'ICD10CM:W17',\n",
       "       'ICD10CM:W18', 'ICD10CM:W20', 'ICD10CM:W22', 'ICD10CM:W23',\n",
       "       'ICD10CM:W24', 'ICD10CM:W25', 'ICD10CM:W26', 'ICD10CM:W27',\n",
       "       'ICD10CM:W28', 'ICD10CM:W29', 'ICD10CM:W30', 'ICD10CM:W31',\n",
       "       'ICD10CM:W33', 'ICD10CM:W34', 'ICD10CM:W39', 'ICD10CM:W42',\n",
       "       'ICD10CM:W45', 'ICD10CM:W46', 'ICD10CM:W49', 'ICD10CM:W50',\n",
       "       'ICD10CM:W51', 'ICD10CM:W53', 'ICD10CM:W54', 'ICD10CM:W56',\n",
       "       'ICD10CM:W57', 'ICD10CM:W58', 'ICD10CM:W61', 'ICD10CM:W64',\n",
       "       'ICD10CM:W86', 'ICD10CM:W88', 'ICD10CM:W89', 'ICD10CM:W94',\n",
       "       'ICD10CM:W99', 'ICD10CM:X00', 'ICD10CM:X08', 'ICD10CM:X50',\n",
       "       'ICD10CM:X93', 'ICD10CM:X94', 'ICD10CM:X95', 'ICD10CM:X99',\n",
       "       'ICD10CM:Y00', 'ICD10CM:Y02', 'ICD10CM:Y03', 'ICD10CM:Y04',\n",
       "       'ICD10CM:Y07', 'ICD10CM:Y08', 'ICD10CM:Y09', 'ICD10CM:Y35',\n",
       "       'ICD10CM:Y36', 'ICD10CM:Y37', 'ICD10CM:Y38', 'ICD10CM:Y63',\n",
       "       'ICD10CM:Y64', 'ICD10CM:Y65', 'ICD10CM:Y66', 'ICD10CM:Y69',\n",
       "       'ICD10CM:Y73', 'ICD10CM:Y76', 'ICD10CM:Y79', 'ICD10CM:Y80',\n",
       "       'ICD10CM:Y82', 'ICD10CM:Y84', 'ICD10CM:Y90', 'ICD10CM:Y92',\n",
       "       'ICD10CM:Y93', 'ICD10CM:Y95', 'ICD10CM:Y99', 'ICD10CM:Z00',\n",
       "       'ICD10CM:Z01', 'ICD10CM:Z02', 'ICD10CM:Z03', 'ICD10CM:Z04',\n",
       "       'ICD10CM:Z08', 'ICD10CM:Z09', 'ICD10CM:Z11', 'ICD10CM:Z12',\n",
       "       'ICD10CM:Z13', 'ICD10CM:Z14', 'ICD10CM:Z15', 'ICD10CM:Z16',\n",
       "       'ICD10CM:Z17', 'ICD10CM:Z18', 'ICD10CM:Z19', 'ICD10CM:Z20',\n",
       "       'ICD10CM:Z21', 'ICD10CM:Z22', 'ICD10CM:Z23', 'ICD10CM:Z28',\n",
       "       'ICD10CM:Z29', 'ICD10CM:Z30', 'ICD10CM:Z31', 'ICD10CM:Z32',\n",
       "       'ICD10CM:Z33', 'ICD10CM:Z34', 'ICD10CM:Z36', 'ICD10CM:Z37',\n",
       "       'ICD10CM:Z38', 'ICD10CM:Z39', 'ICD10CM:Z3A', 'ICD10CM:Z40',\n",
       "       'ICD10CM:Z41', 'ICD10CM:Z42', 'ICD10CM:Z43', 'ICD10CM:Z44',\n",
       "       'ICD10CM:Z45', 'ICD10CM:Z46', 'ICD10CM:Z47', 'ICD10CM:Z48',\n",
       "       'ICD10CM:Z49', 'ICD10CM:Z51', 'ICD10CM:Z52', 'ICD10CM:Z53',\n",
       "       'ICD10CM:Z55', 'ICD10CM:Z56', 'ICD10CM:Z57', 'ICD10CM:Z59',\n",
       "       'ICD10CM:Z60', 'ICD10CM:Z62', 'ICD10CM:Z63', 'ICD10CM:Z64',\n",
       "       'ICD10CM:Z65', 'ICD10CM:Z66', 'ICD10CM:Z67', 'ICD10CM:Z68',\n",
       "       'ICD10CM:Z69', 'ICD10CM:Z70', 'ICD10CM:Z71', 'ICD10CM:Z72',\n",
       "       'ICD10CM:Z73', 'ICD10CM:Z74', 'ICD10CM:Z75', 'ICD10CM:Z76',\n",
       "       'ICD10CM:Z77', 'ICD10CM:Z78', 'ICD10CM:Z79', 'ICD10CM:Z80',\n",
       "       'ICD10CM:Z81', 'ICD10CM:Z82', 'ICD10CM:Z83', 'ICD10CM:Z84',\n",
       "       'ICD10CM:Z85', 'ICD10CM:Z86', 'ICD10CM:Z87', 'ICD10CM:Z88',\n",
       "       'ICD10CM:Z89', 'ICD10CM:Z90', 'ICD10CM:Z91', 'ICD10CM:Z92',\n",
       "       'ICD10CM:Z93', 'ICD10CM:Z94', 'ICD10CM:Z95', 'ICD10CM:Z96',\n",
       "       'ICD10CM:Z97', 'ICD10CM:Z98', 'ICD10CM:Z99', 'ICD10PCS:04',\n",
       "       'ICD9CM:291', 'ICD9CM:564', 'ICD9CM:629', 'ICD9CM:635',\n",
       "       'ICD9CM:637', 'ICD9CM:645', 'ICD9CM:649', 'ICD9CM:651',\n",
       "       'ICD9CM:652', 'ICD9CM:653', 'ICD9CM:654', 'ICD9CM:659',\n",
       "       'ICD9CM:663', 'ICD9CM:665', 'ICD9CM:674', 'ICD9CM:764',\n",
       "       'ICD9CM:765', 'ICD9CM:784', 'ICD9CM:792', 'ICD9CM:793',\n",
       "       'ICD9CM:795', 'ICD9CM:796', 'ICD9CM:866', 'ICD9CM:867'],\n",
       "      dtype='<U11')"
      ]
     },
     "execution_count": 109,
     "metadata": {},
     "output_type": "execute_result"
    }
   ],
   "source": [
    "icd_codes_not_phe[:500]"
   ]
  },
  {
   "cell_type": "code",
   "execution_count": 110,
   "id": "7c44256e",
   "metadata": {},
   "outputs": [],
   "source": [
    "def get_initial_char_for_icd_codes(code):\n",
    "    if code.startswith(\"ICD10CM\"):\n",
    "        return code.split('.')[0]\n",
    "    else:\n",
    "        return code"
   ]
  },
  {
   "cell_type": "code",
   "execution_count": 111,
   "id": "fe853b6b",
   "metadata": {},
   "outputs": [],
   "source": [
    "diagnoses_df = diagnoses_df.with_columns(pl.col(\"phecode_map\").map_elements(get_initial_char_for_icd_codes, return_dtype = pl.Utf8).alias(\"phecode_map\"))"
   ]
  },
  {
   "cell_type": "code",
   "execution_count": 112,
   "id": "2a189ee9",
   "metadata": {
    "scrolled": true
   },
   "outputs": [
    {
     "name": "stdout",
     "output_type": "stream",
     "text": [
      "Number of phecodes that start with ICD10: , 475\n"
     ]
    }
   ],
   "source": [
    "icd10_codes = diagnoses_df.filter(pl.col('phecode_map').str.starts_with('ICD10CM:')).collect()['phecode_map'].to_list()\n",
    "first_characters = [code.split(':')[1].split('.')[0] for code in icd10_codes]\n",
    "print(\"Number of phecodes that start with ICD10: ,\", len(np.unique(icd10_codes)))"
   ]
  },
  {
   "cell_type": "code",
   "execution_count": 113,
   "id": "f94c4838",
   "metadata": {},
   "outputs": [
    {
     "name": "stdout",
     "output_type": "stream",
     "text": [
      "Number of phecodes that start with ICD9: , 154\n"
     ]
    }
   ],
   "source": [
    "icd9_codes = diagnoses_df.filter(pl.col('phecode_map').str.starts_with('ICD9CM')).collect()['phecode_map'].to_list()\n",
    "#first_characters = [code.split(':')[1].split('.')[0] for code in icd10_codes]\n",
    "print(\"Number of phecodes that start with ICD9: ,\", len(np.unique(icd9_codes)))"
   ]
  },
  {
   "cell_type": "code",
   "execution_count": 114,
   "id": "2495d90e",
   "metadata": {},
   "outputs": [
    {
     "name": "stdout",
     "output_type": "stream",
     "text": [
      "Number if unique codes after phecode map:  2810\n"
     ]
    }
   ],
   "source": [
    "print(\"Number if unique codes after phecode map: \",len(np.unique(diagnoses_df\n",
    "                                                                 .select('phecode_map').collect()['phecode_map'].to_list())))"
   ]
  },
  {
   "cell_type": "markdown",
   "id": "ea23e4d8",
   "metadata": {},
   "source": [
    "#### Creating two diagnoses datasets one with Z codes other without these codes"
   ]
  },
  {
   "cell_type": "code",
   "execution_count": 115,
   "id": "fafdfc83",
   "metadata": {},
   "outputs": [],
   "source": [
    "diagnoses_df.collect().write_parquet(\"./Determine_cohort_files/Determine_cohort_diagnoses_phecode_map_v2_with_z_codes.parquet\")"
   ]
  },
  {
   "cell_type": "code",
   "execution_count": 116,
   "id": "7e23e4fc",
   "metadata": {},
   "outputs": [],
   "source": [
    "diagnoses_df_without_icd10z = diagnoses_df.filter(~pl.col('phecode_map').str.starts_with('ICD10CM:Z'))\n",
    "diagnoses_df_without_icd10z.collect().write_parquet(\"./Determine_cohort_files/Determine_cohort_diagnoses_phecode_map_v2_without_z_codes.parquet\")"
   ]
  },
  {
   "cell_type": "markdown",
   "id": "3133dbf4",
   "metadata": {},
   "source": [
    "### Archive code for diagnoses"
   ]
  },
  {
   "cell_type": "code",
   "execution_count": null,
   "id": "80ba8e6e",
   "metadata": {},
   "outputs": [],
   "source": [
    "diagnoses_df"
   ]
  },
  {
   "cell_type": "code",
   "execution_count": null,
   "id": "4dc53827",
   "metadata": {},
   "outputs": [],
   "source": [
    "icd10_phecode_map.shape"
   ]
  },
  {
   "cell_type": "code",
   "execution_count": null,
   "id": "aae083f1",
   "metadata": {},
   "outputs": [],
   "source": [
    "#### ICD 10 codes from phecodes ###\n",
    "phe_icd10_codes = icd10_phecode_map['ICD10CM'].to_list()"
   ]
  },
  {
   "cell_type": "code",
   "execution_count": null,
   "id": "d52dddf3",
   "metadata": {},
   "outputs": [],
   "source": [
    "### ICD 10 codes from dataframe ###\n",
    "icd10_from_df = np.unique(diagnoses_df.filter(~pl.col('standardized_icd10_codes').is_null())\n",
    "                          .select('standardized_icd10_codes')\n",
    "                          .collect()['standardized_icd10_codes'].to_list())"
   ]
  },
  {
   "cell_type": "code",
   "execution_count": null,
   "id": "8b4dbfaa",
   "metadata": {},
   "outputs": [],
   "source": [
    "icd10_from_df"
   ]
  },
  {
   "cell_type": "code",
   "execution_count": null,
   "id": "6515ca88",
   "metadata": {},
   "outputs": [],
   "source": [
    "common_elements = np.intersect1d(icd10_from_df, phe_icd10_codes)"
   ]
  },
  {
   "cell_type": "code",
   "execution_count": null,
   "id": "8bf443ec",
   "metadata": {},
   "outputs": [],
   "source": [
    "len(common_elements)"
   ]
  },
  {
   "cell_type": "code",
   "execution_count": null,
   "id": "6c2b8634",
   "metadata": {},
   "outputs": [],
   "source": [
    "len(icd10_from_df)"
   ]
  },
  {
   "cell_type": "code",
   "execution_count": null,
   "id": "69b61bf7",
   "metadata": {},
   "outputs": [],
   "source": [
    "# Find elements in `sample_array` that are not in `list_set`\n",
    "elements_in_array_not_in_list = np.setdiff1d(icd10_from_df, phe_icd10_codes)"
   ]
  },
  {
   "cell_type": "code",
   "execution_count": null,
   "id": "b49650a5",
   "metadata": {},
   "outputs": [],
   "source": [
    "len(elements_in_array_not_in_list)"
   ]
  },
  {
   "cell_type": "code",
   "execution_count": null,
   "id": "34e20026",
   "metadata": {},
   "outputs": [],
   "source": [
    "elements_in_array_not_in_list[:10]"
   ]
  },
  {
   "cell_type": "markdown",
   "id": "cc05c903",
   "metadata": {},
   "source": [
    "### EDA for target variable"
   ]
  },
  {
   "cell_type": "code",
   "execution_count": 117,
   "id": "00cb1431",
   "metadata": {},
   "outputs": [
    {
     "data": {
      "text/html": [
       "<div><style>\n",
       ".dataframe > thead > tr,\n",
       ".dataframe > tbody > tr {\n",
       "  text-align: right;\n",
       "  white-space: pre-wrap;\n",
       "}\n",
       "</style>\n",
       "<small>shape: (5, 7)</small><table border=\"1\" class=\"dataframe\"><thead><tr><th>PATIENT_NUM</th><th>Index_Start_date</th><th>FirstOutcomeDate</th><th>Age_at_encounter_date</th><th>Outcome</th><th>DEATH_DATE</th><th>Zip_CD</th></tr><tr><td>i64</td><td>datetime[μs]</td><td>datetime[μs]</td><td>i64</td><td>i64</td><td>datetime[μs]</td><td>str</td></tr></thead><tbody><tr><td>8202921</td><td>2017-03-15 00:00:00</td><td>2019-05-29 00:00:00</td><td>60</td><td>1</td><td>null</td><td>&quot;83706&quot;</td></tr><tr><td>6046573</td><td>2017-03-27 00:00:00</td><td>null</td><td>45</td><td>0</td><td>null</td><td>&quot;97136&quot;</td></tr><tr><td>2179286</td><td>2016-12-13 00:00:00</td><td>null</td><td>34</td><td>0</td><td>null</td><td>&quot;77530&quot;</td></tr><tr><td>6861988</td><td>2016-09-16 00:00:00</td><td>null</td><td>33</td><td>0</td><td>null</td><td>&quot;90035&quot;</td></tr><tr><td>7452088</td><td>2017-02-02 00:00:00</td><td>null</td><td>43</td><td>0</td><td>null</td><td>&quot;75217&quot;</td></tr></tbody></table></div>"
      ],
      "text/plain": [
       "shape: (5, 7)\n",
       "┌─────────────┬────────────────┬────────────────┬────────────────┬─────────┬──────────────┬────────┐\n",
       "│ PATIENT_NUM ┆ Index_Start_da ┆ FirstOutcomeDa ┆ Age_at_encount ┆ Outcome ┆ DEATH_DATE   ┆ Zip_CD │\n",
       "│ ---         ┆ te             ┆ te             ┆ er_date        ┆ ---     ┆ ---          ┆ ---    │\n",
       "│ i64         ┆ ---            ┆ ---            ┆ ---            ┆ i64     ┆ datetime[μs] ┆ str    │\n",
       "│             ┆ datetime[μs]   ┆ datetime[μs]   ┆ i64            ┆         ┆              ┆        │\n",
       "╞═════════════╪════════════════╪════════════════╪════════════════╪═════════╪══════════════╪════════╡\n",
       "│ 8202921     ┆ 2017-03-15     ┆ 2019-05-29     ┆ 60             ┆ 1       ┆ null         ┆ 83706  │\n",
       "│             ┆ 00:00:00       ┆ 00:00:00       ┆                ┆         ┆              ┆        │\n",
       "│ 6046573     ┆ 2017-03-27     ┆ null           ┆ 45             ┆ 0       ┆ null         ┆ 97136  │\n",
       "│             ┆ 00:00:00       ┆                ┆                ┆         ┆              ┆        │\n",
       "│ 2179286     ┆ 2016-12-13     ┆ null           ┆ 34             ┆ 0       ┆ null         ┆ 77530  │\n",
       "│             ┆ 00:00:00       ┆                ┆                ┆         ┆              ┆        │\n",
       "│ 6861988     ┆ 2016-09-16     ┆ null           ┆ 33             ┆ 0       ┆ null         ┆ 90035  │\n",
       "│             ┆ 00:00:00       ┆                ┆                ┆         ┆              ┆        │\n",
       "│ 7452088     ┆ 2017-02-02     ┆ null           ┆ 43             ┆ 0       ┆ null         ┆ 75217  │\n",
       "│             ┆ 00:00:00       ┆                ┆                ┆         ┆              ┆        │\n",
       "└─────────────┴────────────────┴────────────────┴────────────────┴─────────┴──────────────┴────────┘"
      ]
     },
     "execution_count": 117,
     "metadata": {},
     "output_type": "execute_result"
    }
   ],
   "source": [
    "cohort_df.collect().head()"
   ]
  },
  {
   "cell_type": "code",
   "execution_count": 118,
   "id": "ead54f61",
   "metadata": {},
   "outputs": [],
   "source": [
    "list_outcome_years = cohort_df.filter(~pl.col('FirstOutcomeDate').is_null()).with_columns(\n",
    "        pl.col(\"FirstOutcomeDate\").dt.year().alias(\"year_from_date\")\n",
    "    ).select('year_from_date').collect()['year_from_date'].to_list()"
   ]
  },
  {
   "cell_type": "code",
   "execution_count": 119,
   "id": "546dc4c3",
   "metadata": {},
   "outputs": [
    {
     "data": {
      "text/plain": [
       "(array([2016, 2017, 2018, 2019, 2020, 2021, 2022]),\n",
       " array([  372, 10165, 13982, 16817,  9417,  9592,  8007]))"
      ]
     },
     "execution_count": 119,
     "metadata": {},
     "output_type": "execute_result"
    }
   ],
   "source": [
    "np.unique(list_outcome_years, return_counts = True)"
   ]
  },
  {
   "cell_type": "code",
   "execution_count": 123,
   "id": "cee9ae7a",
   "metadata": {},
   "outputs": [],
   "source": [
    "cohort_df = cohort_df.filter(pl.col('PATIENT_NUM').is_in(PID_REQ))"
   ]
  },
  {
   "cell_type": "code",
   "execution_count": 124,
   "id": "1dc731bf",
   "metadata": {},
   "outputs": [
    {
     "data": {
      "text/html": [
       "<div><style>\n",
       ".dataframe > thead > tr,\n",
       ".dataframe > tbody > tr {\n",
       "  text-align: right;\n",
       "  white-space: pre-wrap;\n",
       "}\n",
       "</style>\n",
       "<small>shape: (5, 7)</small><table border=\"1\" class=\"dataframe\"><thead><tr><th>PATIENT_NUM</th><th>Index_Start_date</th><th>FirstOutcomeDate</th><th>Age_at_encounter_date</th><th>Outcome</th><th>DEATH_DATE</th><th>Zip_CD</th></tr><tr><td>i64</td><td>datetime[μs]</td><td>datetime[μs]</td><td>i64</td><td>i64</td><td>datetime[μs]</td><td>str</td></tr></thead><tbody><tr><td>6046573</td><td>2017-03-27 00:00:00</td><td>null</td><td>45</td><td>0</td><td>null</td><td>&quot;97136&quot;</td></tr><tr><td>2179286</td><td>2016-12-13 00:00:00</td><td>null</td><td>34</td><td>0</td><td>null</td><td>&quot;77530&quot;</td></tr><tr><td>6861988</td><td>2016-09-16 00:00:00</td><td>null</td><td>33</td><td>0</td><td>null</td><td>&quot;90035&quot;</td></tr><tr><td>576517</td><td>2017-03-24 00:00:00</td><td>null</td><td>47</td><td>0</td><td>null</td><td>&quot;97031&quot;</td></tr><tr><td>807301</td><td>2017-03-08 00:00:00</td><td>null</td><td>32</td><td>0</td><td>null</td><td>&quot;98023&quot;</td></tr></tbody></table></div>"
      ],
      "text/plain": [
       "shape: (5, 7)\n",
       "┌─────────────┬────────────────┬────────────────┬────────────────┬─────────┬──────────────┬────────┐\n",
       "│ PATIENT_NUM ┆ Index_Start_da ┆ FirstOutcomeDa ┆ Age_at_encount ┆ Outcome ┆ DEATH_DATE   ┆ Zip_CD │\n",
       "│ ---         ┆ te             ┆ te             ┆ er_date        ┆ ---     ┆ ---          ┆ ---    │\n",
       "│ i64         ┆ ---            ┆ ---            ┆ ---            ┆ i64     ┆ datetime[μs] ┆ str    │\n",
       "│             ┆ datetime[μs]   ┆ datetime[μs]   ┆ i64            ┆         ┆              ┆        │\n",
       "╞═════════════╪════════════════╪════════════════╪════════════════╪═════════╪══════════════╪════════╡\n",
       "│ 6046573     ┆ 2017-03-27     ┆ null           ┆ 45             ┆ 0       ┆ null         ┆ 97136  │\n",
       "│             ┆ 00:00:00       ┆                ┆                ┆         ┆              ┆        │\n",
       "│ 2179286     ┆ 2016-12-13     ┆ null           ┆ 34             ┆ 0       ┆ null         ┆ 77530  │\n",
       "│             ┆ 00:00:00       ┆                ┆                ┆         ┆              ┆        │\n",
       "│ 6861988     ┆ 2016-09-16     ┆ null           ┆ 33             ┆ 0       ┆ null         ┆ 90035  │\n",
       "│             ┆ 00:00:00       ┆                ┆                ┆         ┆              ┆        │\n",
       "│ 576517      ┆ 2017-03-24     ┆ null           ┆ 47             ┆ 0       ┆ null         ┆ 97031  │\n",
       "│             ┆ 00:00:00       ┆                ┆                ┆         ┆              ┆        │\n",
       "│ 807301      ┆ 2017-03-08     ┆ null           ┆ 32             ┆ 0       ┆ null         ┆ 98023  │\n",
       "│             ┆ 00:00:00       ┆                ┆                ┆         ┆              ┆        │\n",
       "└─────────────┴────────────────┴────────────────┴────────────────┴─────────┴──────────────┴────────┘"
      ]
     },
     "execution_count": 124,
     "metadata": {},
     "output_type": "execute_result"
    }
   ],
   "source": [
    "cohort_df.collect().head()"
   ]
  },
  {
   "cell_type": "code",
   "execution_count": 125,
   "id": "aded248c",
   "metadata": {},
   "outputs": [],
   "source": [
    "### Transforming the age feature to groups"
   ]
  },
  {
   "cell_type": "code",
   "execution_count": 126,
   "id": "26d2b442",
   "metadata": {},
   "outputs": [],
   "source": [
    "cohort_df = cohort_df.with_columns(pl.col('Age_at_encounter_date').map_elements(lambda x : '18-34' if x <= 34 \\\n",
    "                                                        else '35-44' if 35<=x<=44 else '45-54'\\\n",
    "                                                        if 45<=x<=54 else '55-64' if 55<=x<=64 else \\\n",
    "                                                        '65-74' if  65<=x<=74 else '75_older').alias('Age_group'))"
   ]
  },
  {
   "cell_type": "code",
   "execution_count": 127,
   "id": "488a27b9",
   "metadata": {},
   "outputs": [
    {
     "name": "stderr",
     "output_type": "stream",
     "text": [
      "sys:1: MapWithoutReturnDtypeWarning: Calling `map_elements` without specifying `return_dtype` can lead to unpredictable results. Specify `return_dtype` to silence this warning.\n",
      "sys:1: MapWithoutReturnDtypeWarning: Calling `map_elements` without specifying `return_dtype` can lead to unpredictable results. Specify `return_dtype` to silence this warning.\n",
      "sys:1: MapWithoutReturnDtypeWarning: Calling `map_elements` without specifying `return_dtype` can lead to unpredictable results. Specify `return_dtype` to silence this warning.\n",
      "sys:1: MapWithoutReturnDtypeWarning: Calling `map_elements` without specifying `return_dtype` can lead to unpredictable results. Specify `return_dtype` to silence this warning.\n"
     ]
    },
    {
     "data": {
      "text/html": [
       "<div><style>\n",
       ".dataframe > thead > tr,\n",
       ".dataframe > tbody > tr {\n",
       "  text-align: right;\n",
       "  white-space: pre-wrap;\n",
       "}\n",
       "</style>\n",
       "<small>shape: (5, 8)</small><table border=\"1\" class=\"dataframe\"><thead><tr><th>PATIENT_NUM</th><th>Index_Start_date</th><th>FirstOutcomeDate</th><th>Age_at_encounter_date</th><th>Outcome</th><th>DEATH_DATE</th><th>Zip_CD</th><th>Age_group</th></tr><tr><td>i64</td><td>datetime[μs]</td><td>datetime[μs]</td><td>i64</td><td>i64</td><td>datetime[μs]</td><td>str</td><td>str</td></tr></thead><tbody><tr><td>6046573</td><td>2017-03-27 00:00:00</td><td>null</td><td>45</td><td>0</td><td>null</td><td>&quot;97136&quot;</td><td>&quot;45-54&quot;</td></tr><tr><td>2179286</td><td>2016-12-13 00:00:00</td><td>null</td><td>34</td><td>0</td><td>null</td><td>&quot;77530&quot;</td><td>&quot;18-34&quot;</td></tr><tr><td>6861988</td><td>2016-09-16 00:00:00</td><td>null</td><td>33</td><td>0</td><td>null</td><td>&quot;90035&quot;</td><td>&quot;18-34&quot;</td></tr><tr><td>576517</td><td>2017-03-24 00:00:00</td><td>null</td><td>47</td><td>0</td><td>null</td><td>&quot;97031&quot;</td><td>&quot;45-54&quot;</td></tr><tr><td>807301</td><td>2017-03-08 00:00:00</td><td>null</td><td>32</td><td>0</td><td>null</td><td>&quot;98023&quot;</td><td>&quot;18-34&quot;</td></tr></tbody></table></div>"
      ],
      "text/plain": [
       "shape: (5, 8)\n",
       "┌─────────────┬─────────────┬─────────────┬────────────┬─────────┬────────────┬────────┬───────────┐\n",
       "│ PATIENT_NUM ┆ Index_Start ┆ FirstOutcom ┆ Age_at_enc ┆ Outcome ┆ DEATH_DATE ┆ Zip_CD ┆ Age_group │\n",
       "│ ---         ┆ _date       ┆ eDate       ┆ ounter_dat ┆ ---     ┆ ---        ┆ ---    ┆ ---       │\n",
       "│ i64         ┆ ---         ┆ ---         ┆ e          ┆ i64     ┆ datetime[μ ┆ str    ┆ str       │\n",
       "│             ┆ datetime[μs ┆ datetime[μs ┆ ---        ┆         ┆ s]         ┆        ┆           │\n",
       "│             ┆ ]           ┆ ]           ┆ i64        ┆         ┆            ┆        ┆           │\n",
       "╞═════════════╪═════════════╪═════════════╪════════════╪═════════╪════════════╪════════╪═══════════╡\n",
       "│ 6046573     ┆ 2017-03-27  ┆ null        ┆ 45         ┆ 0       ┆ null       ┆ 97136  ┆ 45-54     │\n",
       "│             ┆ 00:00:00    ┆             ┆            ┆         ┆            ┆        ┆           │\n",
       "│ 2179286     ┆ 2016-12-13  ┆ null        ┆ 34         ┆ 0       ┆ null       ┆ 77530  ┆ 18-34     │\n",
       "│             ┆ 00:00:00    ┆             ┆            ┆         ┆            ┆        ┆           │\n",
       "│ 6861988     ┆ 2016-09-16  ┆ null        ┆ 33         ┆ 0       ┆ null       ┆ 90035  ┆ 18-34     │\n",
       "│             ┆ 00:00:00    ┆             ┆            ┆         ┆            ┆        ┆           │\n",
       "│ 576517      ┆ 2017-03-24  ┆ null        ┆ 47         ┆ 0       ┆ null       ┆ 97031  ┆ 45-54     │\n",
       "│             ┆ 00:00:00    ┆             ┆            ┆         ┆            ┆        ┆           │\n",
       "│ 807301      ┆ 2017-03-08  ┆ null        ┆ 32         ┆ 0       ┆ null       ┆ 98023  ┆ 18-34     │\n",
       "│             ┆ 00:00:00    ┆             ┆            ┆         ┆            ┆        ┆           │\n",
       "└─────────────┴─────────────┴─────────────┴────────────┴─────────┴────────────┴────────┴───────────┘"
      ]
     },
     "execution_count": 127,
     "metadata": {},
     "output_type": "execute_result"
    }
   ],
   "source": [
    "cohort_df.collect().head()"
   ]
  },
  {
   "cell_type": "markdown",
   "id": "a45e9d91",
   "metadata": {},
   "source": [
    "## EDA for demographics "
   ]
  },
  {
   "cell_type": "code",
   "execution_count": 128,
   "id": "9dfd778d",
   "metadata": {},
   "outputs": [
    {
     "data": {
      "text/html": [
       "<div><style>\n",
       ".dataframe > thead > tr,\n",
       ".dataframe > tbody > tr {\n",
       "  text-align: right;\n",
       "  white-space: pre-wrap;\n",
       "}\n",
       "</style>\n",
       "<small>shape: (5, 5)</small><table border=\"1\" class=\"dataframe\"><thead><tr><th>Patient_num</th><th>Sex_CD</th><th>Race_CD</th><th>Hispanic_CD</th><th>Gender_CD</th></tr><tr><td>i64</td><td>str</td><td>str</td><td>str</td><td>str</td></tr></thead><tbody><tr><td>114343</td><td>&quot;DEM|SEX:M&quot;</td><td>&quot;DEM|RACE:05&quot;</td><td>&quot;DEM|HISPANIC:N&quot;</td><td>&quot;DEM|GENDER:M&quot;</td></tr><tr><td>114400</td><td>&quot;DEM|SEX:F&quot;</td><td>&quot;DEM|RACE:05&quot;</td><td>&quot;DEM|HISPANIC:N&quot;</td><td>&quot;DEM|GENDER:W&quot;</td></tr><tr><td>114403</td><td>&quot;DEM|SEX:M&quot;</td><td>&quot;DEM|RACE:03&quot;</td><td>&quot;DEM|HISPANIC:N&quot;</td><td>&quot;DEM|GENDER:UN&quot;</td></tr><tr><td>114406</td><td>&quot;DEM|SEX:F&quot;</td><td>&quot;DEM|RACE:07&quot;</td><td>&quot;DEM|HISPANIC:Y&quot;</td><td>&quot;DEM|GENDER:W&quot;</td></tr><tr><td>114407</td><td>&quot;DEM|SEX:F&quot;</td><td>&quot;DEM|RACE:03&quot;</td><td>&quot;DEM|HISPANIC:N&quot;</td><td>&quot;DEM|GENDER:UN&quot;</td></tr></tbody></table></div>"
      ],
      "text/plain": [
       "shape: (5, 5)\n",
       "┌─────────────┬───────────┬─────────────┬────────────────┬───────────────┐\n",
       "│ Patient_num ┆ Sex_CD    ┆ Race_CD     ┆ Hispanic_CD    ┆ Gender_CD     │\n",
       "│ ---         ┆ ---       ┆ ---         ┆ ---            ┆ ---           │\n",
       "│ i64         ┆ str       ┆ str         ┆ str            ┆ str           │\n",
       "╞═════════════╪═══════════╪═════════════╪════════════════╪═══════════════╡\n",
       "│ 114343      ┆ DEM|SEX:M ┆ DEM|RACE:05 ┆ DEM|HISPANIC:N ┆ DEM|GENDER:M  │\n",
       "│ 114400      ┆ DEM|SEX:F ┆ DEM|RACE:05 ┆ DEM|HISPANIC:N ┆ DEM|GENDER:W  │\n",
       "│ 114403      ┆ DEM|SEX:M ┆ DEM|RACE:03 ┆ DEM|HISPANIC:N ┆ DEM|GENDER:UN │\n",
       "│ 114406      ┆ DEM|SEX:F ┆ DEM|RACE:07 ┆ DEM|HISPANIC:Y ┆ DEM|GENDER:W  │\n",
       "│ 114407      ┆ DEM|SEX:F ┆ DEM|RACE:03 ┆ DEM|HISPANIC:N ┆ DEM|GENDER:UN │\n",
       "└─────────────┴───────────┴─────────────┴────────────────┴───────────────┘"
      ]
     },
     "execution_count": 128,
     "metadata": {},
     "output_type": "execute_result"
    }
   ],
   "source": [
    "demographics_df.collect().head()"
   ]
  },
  {
   "cell_type": "code",
   "execution_count": 129,
   "id": "9a860b1b",
   "metadata": {},
   "outputs": [
    {
     "data": {
      "text/plain": [
       "array(['DEM|GENDER:GQ', 'DEM|GENDER:M', 'DEM|GENDER:OT', 'DEM|GENDER:TG',\n",
       "       'DEM|GENDER:UN', 'DEM|GENDER:W'], dtype='<U13')"
      ]
     },
     "execution_count": 129,
     "metadata": {},
     "output_type": "execute_result"
    }
   ],
   "source": [
    "np.unique(demographics_df.select('Gender_CD').collect()['Gender_CD'].to_list())"
   ]
  },
  {
   "cell_type": "code",
   "execution_count": 130,
   "id": "6ff08a64",
   "metadata": {},
   "outputs": [
    {
     "data": {
      "text/plain": [
       "[8388608, 6291456, 6291458, 8388613]"
      ]
     },
     "execution_count": 130,
     "metadata": {},
     "output_type": "execute_result"
    }
   ],
   "source": [
    "PID_REQ[:4]"
   ]
  },
  {
   "cell_type": "code",
   "execution_count": 131,
   "id": "67cc86a8",
   "metadata": {},
   "outputs": [],
   "source": [
    "demographics_df = demographics_df.filter(pl.col('Patient_num').is_in(PID_REQ))"
   ]
  },
  {
   "cell_type": "code",
   "execution_count": 132,
   "id": "86279c25",
   "metadata": {},
   "outputs": [],
   "source": [
    "def clean_prefix_data(value):\n",
    "    return value.split(':')[-1]"
   ]
  },
  {
   "cell_type": "code",
   "execution_count": 133,
   "id": "b36971df",
   "metadata": {},
   "outputs": [],
   "source": [
    "demographics_df = demographics_df.with_columns( pl.col('Sex_CD').map_elements(clean_prefix_data, return_dtype = pl.Utf8).alias('Sex_CD'),\n",
    "                                               pl.col('Race_CD').map_elements(clean_prefix_data, return_dtype = pl.Utf8).alias('Race_CD'),\n",
    "                                               pl.col('Hispanic_CD').map_elements(clean_prefix_data, return_dtype = pl.Utf8).alias('Hispanic_CD'),\n",
    "                                               pl.col('Gender_CD').map_elements(clean_prefix_data, return_dtype = pl.Utf8).alias('Gender_CD')\n",
    "                                  )"
   ]
  },
  {
   "cell_type": "code",
   "execution_count": 134,
   "id": "4badab75",
   "metadata": {},
   "outputs": [
    {
     "data": {
      "text/html": [
       "<div><style>\n",
       ".dataframe > thead > tr,\n",
       ".dataframe > tbody > tr {\n",
       "  text-align: right;\n",
       "  white-space: pre-wrap;\n",
       "}\n",
       "</style>\n",
       "<small>shape: (5, 5)</small><table border=\"1\" class=\"dataframe\"><thead><tr><th>Patient_num</th><th>Sex_CD</th><th>Race_CD</th><th>Hispanic_CD</th><th>Gender_CD</th></tr><tr><td>i64</td><td>str</td><td>str</td><td>str</td><td>str</td></tr></thead><tbody><tr><td>114343</td><td>&quot;M&quot;</td><td>&quot;05&quot;</td><td>&quot;N&quot;</td><td>&quot;M&quot;</td></tr><tr><td>114406</td><td>&quot;F&quot;</td><td>&quot;07&quot;</td><td>&quot;Y&quot;</td><td>&quot;W&quot;</td></tr><tr><td>114410</td><td>&quot;F&quot;</td><td>&quot;05&quot;</td><td>&quot;N&quot;</td><td>&quot;W&quot;</td></tr><tr><td>114413</td><td>&quot;M&quot;</td><td>&quot;05&quot;</td><td>&quot;Y&quot;</td><td>&quot;UN&quot;</td></tr><tr><td>114440</td><td>&quot;M&quot;</td><td>&quot;05&quot;</td><td>&quot;N&quot;</td><td>&quot;UN&quot;</td></tr></tbody></table></div>"
      ],
      "text/plain": [
       "shape: (5, 5)\n",
       "┌─────────────┬────────┬─────────┬─────────────┬───────────┐\n",
       "│ Patient_num ┆ Sex_CD ┆ Race_CD ┆ Hispanic_CD ┆ Gender_CD │\n",
       "│ ---         ┆ ---    ┆ ---     ┆ ---         ┆ ---       │\n",
       "│ i64         ┆ str    ┆ str     ┆ str         ┆ str       │\n",
       "╞═════════════╪════════╪═════════╪═════════════╪═══════════╡\n",
       "│ 114343      ┆ M      ┆ 05      ┆ N           ┆ M         │\n",
       "│ 114406      ┆ F      ┆ 07      ┆ Y           ┆ W         │\n",
       "│ 114410      ┆ F      ┆ 05      ┆ N           ┆ W         │\n",
       "│ 114413      ┆ M      ┆ 05      ┆ Y           ┆ UN        │\n",
       "│ 114440      ┆ M      ┆ 05      ┆ N           ┆ UN        │\n",
       "└─────────────┴────────┴─────────┴─────────────┴───────────┘"
      ]
     },
     "execution_count": 134,
     "metadata": {},
     "output_type": "execute_result"
    }
   ],
   "source": [
    "demographics_df.head().collect()"
   ]
  },
  {
   "cell_type": "code",
   "execution_count": 135,
   "id": "4d053c31",
   "metadata": {},
   "outputs": [
    {
     "data": {
      "text/html": [
       "<div><style>\n",
       ".dataframe > thead > tr,\n",
       ".dataframe > tbody > tr {\n",
       "  text-align: right;\n",
       "  white-space: pre-wrap;\n",
       "}\n",
       "</style>\n",
       "<small>shape: (10, 3)</small><table border=\"1\" class=\"dataframe\"><thead><tr><th>Race_CD</th><th>count</th><th>percentage</th></tr><tr><td>str</td><td>u32</td><td>f64</td></tr></thead><tbody><tr><td>&quot;NI&quot;</td><td>2849</td><td>0.344641</td></tr><tr><td>&quot;UN&quot;</td><td>56292</td><td>6.809588</td></tr><tr><td>&quot;04&quot;</td><td>5281</td><td>0.638837</td></tr><tr><td>&quot;07&quot;</td><td>19339</td><td>2.33942</td></tr><tr><td>&quot;01&quot;</td><td>8164</td><td>0.987591</td></tr><tr><td>&quot;05&quot;</td><td>518922</td><td>62.773481</td></tr><tr><td>&quot;03&quot;</td><td>157652</td><td>19.071006</td></tr><tr><td>&quot;OT&quot;</td><td>865</td><td>0.104638</td></tr><tr><td>&quot;06&quot;</td><td>9006</td><td>1.089447</td></tr><tr><td>&quot;02&quot;</td><td>48288</td><td>5.841352</td></tr></tbody></table></div>"
      ],
      "text/plain": [
       "shape: (10, 3)\n",
       "┌─────────┬────────┬────────────┐\n",
       "│ Race_CD ┆ count  ┆ percentage │\n",
       "│ ---     ┆ ---    ┆ ---        │\n",
       "│ str     ┆ u32    ┆ f64        │\n",
       "╞═════════╪════════╪════════════╡\n",
       "│ NI      ┆ 2849   ┆ 0.344641   │\n",
       "│ UN      ┆ 56292  ┆ 6.809588   │\n",
       "│ 04      ┆ 5281   ┆ 0.638837   │\n",
       "│ 07      ┆ 19339  ┆ 2.33942    │\n",
       "│ 01      ┆ 8164   ┆ 0.987591   │\n",
       "│ 05      ┆ 518922 ┆ 62.773481  │\n",
       "│ 03      ┆ 157652 ┆ 19.071006  │\n",
       "│ OT      ┆ 865    ┆ 0.104638   │\n",
       "│ 06      ┆ 9006   ┆ 1.089447   │\n",
       "│ 02      ┆ 48288  ┆ 5.841352   │\n",
       "└─────────┴────────┴────────────┘"
      ]
     },
     "execution_count": 135,
     "metadata": {},
     "output_type": "execute_result"
    }
   ],
   "source": [
    "race_codes = {\n",
    "    \"01\": \"American Indian or Alaska Native\",\n",
    "    \"02\": \"Asian\",\n",
    "    \"03\": \"Black or African American\",\n",
    "    \"04\": \"Native Hawaiian or Other Pacific Islander\",\n",
    "    \"05\": \"White\",\n",
    "    \"06\": \"Multiple race\",\n",
    "    \"07\": \"Refuse to answer\",\n",
    "    \"NI\": \"No information\",\n",
    "    \"OT\": \"Other\",\n",
    "    \"UN\": \"Unknown/missing\"\n",
    "}\n",
    "\n",
    "result = (\n",
    "    demographics_df\n",
    "    .group_by('Race_CD')\n",
    "    .agg([\n",
    "        pl.count('Race_CD').alias('count'),\n",
    "        (pl.count('Race_CD') / len(demographics_df.collect()) * 100).alias('percentage')\n",
    "    ])\n",
    ")\n",
    "\n",
    "result.collect()"
   ]
  },
  {
   "cell_type": "code",
   "execution_count": 136,
   "id": "f0da1ad3",
   "metadata": {},
   "outputs": [
    {
     "data": {
      "text/html": [
       "<div><style>\n",
       ".dataframe > thead > tr,\n",
       ".dataframe > tbody > tr {\n",
       "  text-align: right;\n",
       "  white-space: pre-wrap;\n",
       "}\n",
       "</style>\n",
       "<small>shape: (10, 3)</small><table border=\"1\" class=\"dataframe\"><thead><tr><th>Race_CD</th><th>count</th><th>percentage</th></tr><tr><td>str</td><td>u32</td><td>f64</td></tr></thead><tbody><tr><td>&quot;Black or African American&quot;</td><td>157652</td><td>19.071006</td></tr><tr><td>&quot;White&quot;</td><td>518922</td><td>62.773481</td></tr><tr><td>&quot;No information&quot;</td><td>2849</td><td>0.344641</td></tr><tr><td>&quot;American Indian or Alaska Nati…</td><td>8164</td><td>0.987591</td></tr><tr><td>&quot;Other&quot;</td><td>865</td><td>0.104638</td></tr><tr><td>&quot;Native Hawaiian or Other Pacif…</td><td>5281</td><td>0.638837</td></tr><tr><td>&quot;Refuse to answer&quot;</td><td>19339</td><td>2.33942</td></tr><tr><td>&quot;Multiple race&quot;</td><td>9006</td><td>1.089447</td></tr><tr><td>&quot;Asian&quot;</td><td>48288</td><td>5.841352</td></tr><tr><td>&quot;Unknown/missing&quot;</td><td>56292</td><td>6.809588</td></tr></tbody></table></div>"
      ],
      "text/plain": [
       "shape: (10, 3)\n",
       "┌─────────────────────────────────┬────────┬────────────┐\n",
       "│ Race_CD                         ┆ count  ┆ percentage │\n",
       "│ ---                             ┆ ---    ┆ ---        │\n",
       "│ str                             ┆ u32    ┆ f64        │\n",
       "╞═════════════════════════════════╪════════╪════════════╡\n",
       "│ Black or African American       ┆ 157652 ┆ 19.071006  │\n",
       "│ White                           ┆ 518922 ┆ 62.773481  │\n",
       "│ No information                  ┆ 2849   ┆ 0.344641   │\n",
       "│ American Indian or Alaska Nati… ┆ 8164   ┆ 0.987591   │\n",
       "│ Other                           ┆ 865    ┆ 0.104638   │\n",
       "│ Native Hawaiian or Other Pacif… ┆ 5281   ┆ 0.638837   │\n",
       "│ Refuse to answer                ┆ 19339  ┆ 2.33942    │\n",
       "│ Multiple race                   ┆ 9006   ┆ 1.089447   │\n",
       "│ Asian                           ┆ 48288  ┆ 5.841352   │\n",
       "│ Unknown/missing                 ┆ 56292  ┆ 6.809588   │\n",
       "└─────────────────────────────────┴────────┴────────────┘"
      ]
     },
     "execution_count": 136,
     "metadata": {},
     "output_type": "execute_result"
    }
   ],
   "source": [
    "result.with_columns(pl.col('Race_CD').replace_strict(race_codes).alias('Race_CD')).collect()"
   ]
  },
  {
   "cell_type": "code",
   "execution_count": 137,
   "id": "464c4e54",
   "metadata": {},
   "outputs": [
    {
     "data": {
      "text/plain": [
       "array(['01', '02', '03', '04', '05', '06', '07', 'NI', 'OT', 'UN'],\n",
       "      dtype='<U2')"
      ]
     },
     "execution_count": 137,
     "metadata": {},
     "output_type": "execute_result"
    }
   ],
   "source": [
    "np.unique(demographics_df.select('Race_CD').collect()['Race_CD'].to_list())"
   ]
  },
  {
   "cell_type": "code",
   "execution_count": 138,
   "id": "08707030",
   "metadata": {},
   "outputs": [],
   "source": [
    "# Values to be replaced\n",
    "values_to_replace = [\"06\", \"07\"]\n",
    "replacement_value = \"UN\"\n",
    "\n",
    "# Replace multiple values with a single value\n",
    "demographics_df = demographics_df.with_columns(\n",
    "    pl.when(pl.col(\"Race_CD\").is_in(values_to_replace))\n",
    "    .then(pl.lit(replacement_value))\n",
    "    .otherwise(pl.col(\"Race_CD\"))\n",
    "    .alias(\"Race_CD\"))"
   ]
  },
  {
   "cell_type": "code",
   "execution_count": 139,
   "id": "e8a9ea62",
   "metadata": {},
   "outputs": [
    {
     "data": {
      "text/html": [
       "<div><style>\n",
       ".dataframe > thead > tr,\n",
       ".dataframe > tbody > tr {\n",
       "  text-align: right;\n",
       "  white-space: pre-wrap;\n",
       "}\n",
       "</style>\n",
       "<small>shape: (5, 5)</small><table border=\"1\" class=\"dataframe\"><thead><tr><th>Patient_num</th><th>Sex_CD</th><th>Race_CD</th><th>Hispanic_CD</th><th>Gender_CD</th></tr><tr><td>i64</td><td>str</td><td>str</td><td>str</td><td>str</td></tr></thead><tbody><tr><td>114343</td><td>&quot;M&quot;</td><td>&quot;05&quot;</td><td>&quot;N&quot;</td><td>&quot;M&quot;</td></tr><tr><td>114406</td><td>&quot;F&quot;</td><td>&quot;UN&quot;</td><td>&quot;Y&quot;</td><td>&quot;W&quot;</td></tr><tr><td>114410</td><td>&quot;F&quot;</td><td>&quot;05&quot;</td><td>&quot;N&quot;</td><td>&quot;W&quot;</td></tr><tr><td>114413</td><td>&quot;M&quot;</td><td>&quot;05&quot;</td><td>&quot;Y&quot;</td><td>&quot;UN&quot;</td></tr><tr><td>114440</td><td>&quot;M&quot;</td><td>&quot;05&quot;</td><td>&quot;N&quot;</td><td>&quot;UN&quot;</td></tr></tbody></table></div>"
      ],
      "text/plain": [
       "shape: (5, 5)\n",
       "┌─────────────┬────────┬─────────┬─────────────┬───────────┐\n",
       "│ Patient_num ┆ Sex_CD ┆ Race_CD ┆ Hispanic_CD ┆ Gender_CD │\n",
       "│ ---         ┆ ---    ┆ ---     ┆ ---         ┆ ---       │\n",
       "│ i64         ┆ str    ┆ str     ┆ str         ┆ str       │\n",
       "╞═════════════╪════════╪═════════╪═════════════╪═══════════╡\n",
       "│ 114343      ┆ M      ┆ 05      ┆ N           ┆ M         │\n",
       "│ 114406      ┆ F      ┆ UN      ┆ Y           ┆ W         │\n",
       "│ 114410      ┆ F      ┆ 05      ┆ N           ┆ W         │\n",
       "│ 114413      ┆ M      ┆ 05      ┆ Y           ┆ UN        │\n",
       "│ 114440      ┆ M      ┆ 05      ┆ N           ┆ UN        │\n",
       "└─────────────┴────────┴─────────┴─────────────┴───────────┘"
      ]
     },
     "execution_count": 139,
     "metadata": {},
     "output_type": "execute_result"
    }
   ],
   "source": [
    "demographics_df.collect().head()"
   ]
  },
  {
   "cell_type": "code",
   "execution_count": 140,
   "id": "0198f684",
   "metadata": {},
   "outputs": [],
   "source": [
    "demographics_df.collect().write_parquet('./Determine_cohort_files/Determine_modeling_demographics_data.parquet')"
   ]
  },
  {
   "cell_type": "markdown",
   "id": "0c742d26",
   "metadata": {},
   "source": [
    "## EDA for BMI and BP"
   ]
  },
  {
   "cell_type": "markdown",
   "id": "e5c1e2ad",
   "metadata": {},
   "source": [
    "### BMI (Legacy)"
   ]
  },
  {
   "cell_type": "code",
   "execution_count": null,
   "id": "c702ed4d",
   "metadata": {},
   "outputs": [],
   "source": [
    "bmi_bP_df.collect().head()"
   ]
  },
  {
   "cell_type": "code",
   "execution_count": null,
   "id": "69b8cb4c",
   "metadata": {},
   "outputs": [],
   "source": [
    "bmi_bP_df = bmi_bP_df.cast({'NVAL_NUM': pl.Float32})"
   ]
  },
  {
   "cell_type": "code",
   "execution_count": null,
   "id": "2d184240",
   "metadata": {},
   "outputs": [],
   "source": [
    "### filtering BMI data\n",
    "bmi_df = bmi_bP_df.filter(pl.col('CONCEPT_CD').str.contains('VIT\\|BMI'))"
   ]
  },
  {
   "cell_type": "code",
   "execution_count": null,
   "id": "d74cfe24",
   "metadata": {},
   "outputs": [],
   "source": [
    "bmi_df.collect().head()"
   ]
  },
  {
   "cell_type": "code",
   "execution_count": null,
   "id": "c2253411",
   "metadata": {},
   "outputs": [],
   "source": [
    "bmi_df.collect().null_count()"
   ]
  },
  {
   "cell_type": "code",
   "execution_count": null,
   "id": "e2195ac5",
   "metadata": {},
   "outputs": [],
   "source": [
    "print(\"Number of unique patients: \",len(np.unique(bmi_df.select('PATIENT_NUM').collect()['PATIENT_NUM'].to_list())))"
   ]
  },
  {
   "cell_type": "code",
   "execution_count": null,
   "id": "2aba4fb1",
   "metadata": {},
   "outputs": [],
   "source": [
    "print(\"Number of records: \",bmi_df.collect().shape)"
   ]
  },
  {
   "cell_type": "code",
   "execution_count": null,
   "id": "abc1237d",
   "metadata": {},
   "outputs": [],
   "source": [
    "print(\"Number of unique BMI CONCEPT_CD ranges : \", np.unique(bmi_df.select('CONCEPT_CD').collect()['CONCEPT_CD'].to_list()))"
   ]
  },
  {
   "cell_type": "code",
   "execution_count": null,
   "id": "428bf44f",
   "metadata": {},
   "outputs": [],
   "source": [
    "print(\"Number of unique measuring units : \", np.unique(bmi_df.select('UNITS_CD').collect()['UNITS_CD'].to_list()))"
   ]
  },
  {
   "cell_type": "code",
   "execution_count": null,
   "id": "2cc5010a",
   "metadata": {},
   "outputs": [],
   "source": [
    "bmi_list = bmi_df.select('NVAL_NUM').collect()['NVAL_NUM'].to_list()\n",
    "print(\"Min and max of BMI: \", min(bmi_list), max(bmi_list))"
   ]
  },
  {
   "cell_type": "code",
   "execution_count": null,
   "id": "79b873f3",
   "metadata": {},
   "outputs": [],
   "source": [
    "bmi_less_80_df = bmi_df.filter(pl.col('NVAL_NUM') < 80)"
   ]
  },
  {
   "cell_type": "code",
   "execution_count": null,
   "id": "340af537",
   "metadata": {},
   "outputs": [],
   "source": [
    "len(np.unique(bmi_less_80_df.select('PATIENT_NUM').collect()['PATIENT_NUM'].to_list()))"
   ]
  },
  {
   "cell_type": "markdown",
   "id": "4e5dd8e8",
   "metadata": {},
   "source": [
    "## Verifying BMI using height and weight"
   ]
  },
  {
   "cell_type": "markdown",
   "id": "0374ab9e",
   "metadata": {},
   "source": [
    "### Weight"
   ]
  },
  {
   "cell_type": "code",
   "execution_count": 157,
   "id": "15d8aab1",
   "metadata": {},
   "outputs": [],
   "source": [
    "ht_wt_df = bmi_bP_df.filter(pl.col('CONCEPT_CD').str.contains('WT'))"
   ]
  },
  {
   "cell_type": "code",
   "execution_count": 158,
   "id": "8642eff8",
   "metadata": {},
   "outputs": [],
   "source": [
    "ht_wt_df = ht_wt_df.with_columns(pl.col(\"NVAL_NUM\").cast(pl.Float32))"
   ]
  },
  {
   "cell_type": "code",
   "execution_count": 159,
   "id": "10153240",
   "metadata": {},
   "outputs": [
    {
     "name": "stdout",
     "output_type": "stream",
     "text": [
      "Number of unique pid 665713\n"
     ]
    }
   ],
   "source": [
    "print(\"Number of unique pid\", len(np.unique(ht_wt_df.select('PATIENT_NUM').collect()['PATIENT_NUM'].to_list())))"
   ]
  },
  {
   "cell_type": "code",
   "execution_count": 160,
   "id": "5cb2091e",
   "metadata": {},
   "outputs": [
    {
     "name": "stdout",
     "output_type": "stream",
     "text": [
      "Number of unique units 1\n"
     ]
    }
   ],
   "source": [
    "print(\"Number of unique units\", len(np.unique(ht_wt_df.select('UNITS_CD').collect()['UNITS_CD'].to_list())))"
   ]
  },
  {
   "cell_type": "code",
   "execution_count": 161,
   "id": "0289b4fa",
   "metadata": {},
   "outputs": [
    {
     "data": {
      "text/html": [
       "<div><style>\n",
       ".dataframe > thead > tr,\n",
       ".dataframe > tbody > tr {\n",
       "  text-align: right;\n",
       "  white-space: pre-wrap;\n",
       "}\n",
       "</style>\n",
       "<small>shape: (537, 5)</small><table border=\"1\" class=\"dataframe\"><thead><tr><th>PATIENT_NUM</th><th>CONCEPT_CD</th><th>NVAL_NUM</th><th>UNITS_CD</th><th>START_DATE</th></tr><tr><td>i64</td><td>str</td><td>f32</td><td>str</td><td>datetime[μs]</td></tr></thead><tbody><tr><td>43530</td><td>&quot;VIT|WT:&gt;499&quot;</td><td>564.0</td><td>&quot;Lb&quot;</td><td>2017-02-10 00:00:00</td></tr><tr><td>43530</td><td>&quot;VIT|WT:&gt;499&quot;</td><td>571.799988</td><td>&quot;Lb&quot;</td><td>2016-06-07 00:00:00</td></tr><tr><td>43530</td><td>&quot;VIT|WT:&gt;499&quot;</td><td>581.0</td><td>&quot;Lb&quot;</td><td>2016-05-12 00:00:00</td></tr><tr><td>43530</td><td>&quot;VIT|WT:&gt;499&quot;</td><td>581.799988</td><td>&quot;Lb&quot;</td><td>2016-08-02 00:00:00</td></tr><tr><td>63622</td><td>&quot;VIT|WT:&gt;499&quot;</td><td>508.0</td><td>&quot;Lb&quot;</td><td>2016-12-13 00:00:00</td></tr><tr><td>&hellip;</td><td>&hellip;</td><td>&hellip;</td><td>&hellip;</td><td>&hellip;</td></tr><tr><td>11275054</td><td>&quot;VIT|WT:&gt;499&quot;</td><td>1458.800049</td><td>&quot;Lb&quot;</td><td>2016-09-24 00:00:00</td></tr><tr><td>11341172</td><td>&quot;VIT|WT:&gt;499&quot;</td><td>786.599976</td><td>&quot;Lb&quot;</td><td>2016-03-07 00:00:00</td></tr><tr><td>11377332</td><td>&quot;VIT|WT:&gt;499&quot;</td><td>523.0</td><td>&quot;Lb&quot;</td><td>2017-01-31 00:00:00</td></tr><tr><td>11667413</td><td>&quot;VIT|WT:&gt;499&quot;</td><td>2828.800049</td><td>&quot;Lb&quot;</td><td>2016-06-06 00:00:00</td></tr><tr><td>12193128</td><td>&quot;VIT|WT:&gt;499&quot;</td><td>520.0</td><td>&quot;Lb&quot;</td><td>2017-02-22 00:00:00</td></tr></tbody></table></div>"
      ],
      "text/plain": [
       "shape: (537, 5)\n",
       "┌─────────────┬─────────────┬─────────────┬──────────┬─────────────────────┐\n",
       "│ PATIENT_NUM ┆ CONCEPT_CD  ┆ NVAL_NUM    ┆ UNITS_CD ┆ START_DATE          │\n",
       "│ ---         ┆ ---         ┆ ---         ┆ ---      ┆ ---                 │\n",
       "│ i64         ┆ str         ┆ f32         ┆ str      ┆ datetime[μs]        │\n",
       "╞═════════════╪═════════════╪═════════════╪══════════╪═════════════════════╡\n",
       "│ 43530       ┆ VIT|WT:>499 ┆ 564.0       ┆ Lb       ┆ 2017-02-10 00:00:00 │\n",
       "│ 43530       ┆ VIT|WT:>499 ┆ 571.799988  ┆ Lb       ┆ 2016-06-07 00:00:00 │\n",
       "│ 43530       ┆ VIT|WT:>499 ┆ 581.0       ┆ Lb       ┆ 2016-05-12 00:00:00 │\n",
       "│ 43530       ┆ VIT|WT:>499 ┆ 581.799988  ┆ Lb       ┆ 2016-08-02 00:00:00 │\n",
       "│ 63622       ┆ VIT|WT:>499 ┆ 508.0       ┆ Lb       ┆ 2016-12-13 00:00:00 │\n",
       "│ …           ┆ …           ┆ …           ┆ …        ┆ …                   │\n",
       "│ 11275054    ┆ VIT|WT:>499 ┆ 1458.800049 ┆ Lb       ┆ 2016-09-24 00:00:00 │\n",
       "│ 11341172    ┆ VIT|WT:>499 ┆ 786.599976  ┆ Lb       ┆ 2016-03-07 00:00:00 │\n",
       "│ 11377332    ┆ VIT|WT:>499 ┆ 523.0       ┆ Lb       ┆ 2017-01-31 00:00:00 │\n",
       "│ 11667413    ┆ VIT|WT:>499 ┆ 2828.800049 ┆ Lb       ┆ 2016-06-06 00:00:00 │\n",
       "│ 12193128    ┆ VIT|WT:>499 ┆ 520.0       ┆ Lb       ┆ 2017-02-22 00:00:00 │\n",
       "└─────────────┴─────────────┴─────────────┴──────────┴─────────────────────┘"
      ]
     },
     "execution_count": 161,
     "metadata": {},
     "output_type": "execute_result"
    }
   ],
   "source": [
    "ht_wt_df.collect().filter(pl.col('NVAL_NUM') > 500).sort('PATIENT_NUM','NVAL_NUM')"
   ]
  },
  {
   "cell_type": "code",
   "execution_count": 164,
   "id": "2bb90428",
   "metadata": {},
   "outputs": [
    {
     "name": "stdout",
     "output_type": "stream",
     "text": [
      "shape: (618, 5)\n",
      "┌─────────────┬───────┬────────────┬────────────┬────────────┐\n",
      "│ PATIENT_NUM ┆ count ┆ mean_value ┆ min_value  ┆ max_value  │\n",
      "│ ---         ┆ ---   ┆ ---        ┆ ---        ┆ ---        │\n",
      "│ i64         ┆ u32   ┆ f32        ┆ f32        ┆ f32        │\n",
      "╞═════════════╪═══════╪════════════╪════════════╪════════════╡\n",
      "│ 5460790     ┆ 8     ┆ 168.625    ┆ 132.5      ┆ 402.0      │\n",
      "│ 6989323     ┆ 4     ┆ 439.734985 ┆ 371.200012 ┆ 637.0      │\n",
      "│ 4537203     ┆ 6     ┆ 234.0      ┆ 219.0      ┆ 292.0      │\n",
      "│ 7624920     ┆ 9     ┆ 382.022217 ┆ 186.600006 ┆ 1906.0     │\n",
      "│ 17968       ┆ 6     ┆ 256.75     ┆ 240.0      ┆ 340.0      │\n",
      "│ …           ┆ …     ┆ …          ┆ …          ┆ …          │\n",
      "│ 6477170     ┆ 14    ┆ 231.128571 ┆ 223.0      ┆ 288.0      │\n",
      "│ 10136255    ┆ 3     ┆ 221.75     ┆ 157.399994 ┆ 349.649994 │\n",
      "│ 7917605     ┆ 5     ┆ 125.599998 ┆ 111.5      ┆ 176.0      │\n",
      "│ 7186708     ┆ 3     ┆ 253.199997 ┆ 150.0      ┆ 455.0      │\n",
      "│ 4542306     ┆ 14    ┆ 89.222862  ┆ 56.400002  ┆ 155.0      │\n",
      "└─────────────┴───────┴────────────┴────────────┴────────────┘\n"
     ]
    }
   ],
   "source": [
    "filtered = (\n",
    "    ht_wt_df\n",
    "    .group_by(\"PATIENT_NUM\")\n",
    "    .agg([\n",
    "        pl.count(\"NVAL_NUM\").alias(\"count\"),\n",
    "        pl.mean(\"NVAL_NUM\").alias(\"mean_value\"),\n",
    "        pl.min(\"NVAL_NUM\").alias(\"min_value\"),\n",
    "        pl.max(\"NVAL_NUM\").alias(\"max_value\")\n",
    "    ])\n",
    "    .filter((pl.col(\"count\") > 2) & ((pl.col(\"max_value\") - pl.col(\"mean_value\")) > 50))\n",
    ")\n",
    "\n",
    "# Join back to original LazyFrame if needed\n",
    "# result = ht_wt_df.join(filtered, on=\"PATIENT_NUM\")\n",
    "\n",
    "# # Collect the results\n",
    "# final_result = result.collect()\n",
    "\n",
    "print(filtered.collect())"
   ]
  },
  {
   "cell_type": "code",
   "execution_count": 170,
   "id": "e9483d1b",
   "metadata": {},
   "outputs": [
    {
     "data": {
      "text/plain": [
       "[69.5999984741211,\n",
       " 69.19999694824219,\n",
       " 155.0,\n",
       " 151.1199951171875,\n",
       " 125.0,\n",
       " 139.0,\n",
       " 125.0]"
      ]
     },
     "execution_count": 170,
     "metadata": {},
     "output_type": "execute_result"
    }
   ],
   "source": [
    "ht_wt_df.collect().sort('PATIENT_NUM').filter(pl.col('PATIENT_NUM') == 4542306          )['NVAL_NUM'].to_list()"
   ]
  },
  {
   "cell_type": "markdown",
   "id": "d8af8bc8",
   "metadata": {},
   "source": [
    "#### upon manual examination weight below 65lbs and 600 lbs"
   ]
  },
  {
   "cell_type": "code",
   "execution_count": 167,
   "id": "bd2e57e8",
   "metadata": {},
   "outputs": [],
   "source": [
    "ht_wt_df = ht_wt_df.filter((pl.col('NVAL_NUM') > 65) & (pl.col('NVAL_NUM') < 600))"
   ]
  },
  {
   "cell_type": "code",
   "execution_count": 171,
   "id": "d393f9ab",
   "metadata": {},
   "outputs": [],
   "source": [
    "### transforming to modeling dataset for bmi\n",
    "average_weight_per_patient = ht_wt_df.group_by(\"PATIENT_NUM\").agg([\n",
    "    pl.col(\"NVAL_NUM\").median().alias(\"median_weight\")\n",
    "])"
   ]
  },
  {
   "cell_type": "code",
   "execution_count": 172,
   "id": "f6d08a2f",
   "metadata": {},
   "outputs": [
    {
     "data": {
      "text/html": [
       "<div><style>\n",
       ".dataframe > thead > tr,\n",
       ".dataframe > tbody > tr {\n",
       "  text-align: right;\n",
       "  white-space: pre-wrap;\n",
       "}\n",
       "</style>\n",
       "<small>shape: (665_573, 2)</small><table border=\"1\" class=\"dataframe\"><thead><tr><th>PATIENT_NUM</th><th>median_weight</th></tr><tr><td>i64</td><td>f32</td></tr></thead><tbody><tr><td>4544682</td><td>144.200012</td></tr><tr><td>6259614</td><td>258.125</td></tr><tr><td>1986800</td><td>105.0</td></tr><tr><td>4606955</td><td>128.0</td></tr><tr><td>4005165</td><td>341.0</td></tr><tr><td>&hellip;</td><td>&hellip;</td></tr><tr><td>3446206</td><td>142.399994</td></tr><tr><td>2666157</td><td>135.300003</td></tr><tr><td>3535739</td><td>195.899994</td></tr><tr><td>3488680</td><td>200.399994</td></tr><tr><td>2726849</td><td>189.0</td></tr></tbody></table></div>"
      ],
      "text/plain": [
       "shape: (665_573, 2)\n",
       "┌─────────────┬───────────────┐\n",
       "│ PATIENT_NUM ┆ median_weight │\n",
       "│ ---         ┆ ---           │\n",
       "│ i64         ┆ f32           │\n",
       "╞═════════════╪═══════════════╡\n",
       "│ 4544682     ┆ 144.200012    │\n",
       "│ 6259614     ┆ 258.125       │\n",
       "│ 1986800     ┆ 105.0         │\n",
       "│ 4606955     ┆ 128.0         │\n",
       "│ 4005165     ┆ 341.0         │\n",
       "│ …           ┆ …             │\n",
       "│ 3446206     ┆ 142.399994    │\n",
       "│ 2666157     ┆ 135.300003    │\n",
       "│ 3535739     ┆ 195.899994    │\n",
       "│ 3488680     ┆ 200.399994    │\n",
       "│ 2726849     ┆ 189.0         │\n",
       "└─────────────┴───────────────┘"
      ]
     },
     "execution_count": 172,
     "metadata": {},
     "output_type": "execute_result"
    }
   ],
   "source": [
    "average_weight_per_patient.collect()"
   ]
  },
  {
   "cell_type": "markdown",
   "id": "48e58bf0",
   "metadata": {},
   "source": [
    "### Height"
   ]
  },
  {
   "cell_type": "code",
   "execution_count": 173,
   "id": "a3dc7a3f",
   "metadata": {},
   "outputs": [
    {
     "data": {
      "text/html": [
       "<div><style>\n",
       ".dataframe > thead > tr,\n",
       ".dataframe > tbody > tr {\n",
       "  text-align: right;\n",
       "  white-space: pre-wrap;\n",
       "}\n",
       "</style>\n",
       "<small>shape: (5, 5)</small><table border=\"1\" class=\"dataframe\"><thead><tr><th>PATIENT_NUM</th><th>CONCEPT_PATH</th><th>NAME_CHAR</th><th>NVAL_NUM</th><th>UNITS_CD</th></tr><tr><td>i64</td><td>str</td><td>str</td><td>decimal[18,5]</td><td>str</td></tr></thead><tbody><tr><td>5375663</td><td>&quot;\\i2b2\\Vitals\\Height\\&gt; 84 inche…</td><td>&quot;Vitals height more than 84 inc…</td><td>84.96000</td><td>&quot;In&quot;</td></tr><tr><td>1982351</td><td>&quot;\\i2b2\\Vitals\\Height\\&gt; 84 inche…</td><td>&quot;Vitals height more than 84 inc…</td><td>91.00000</td><td>&quot;In&quot;</td></tr><tr><td>2784015</td><td>&quot;\\i2b2\\Vitals\\Height\\&gt; 84 inche…</td><td>&quot;Vitals height more than 84 inc…</td><td>129.00000</td><td>&quot;In&quot;</td></tr><tr><td>4814083</td><td>&quot;\\i2b2\\Vitals\\Height\\&gt; 84 inche…</td><td>&quot;Vitals height more than 84 inc…</td><td>123.00000</td><td>&quot;In&quot;</td></tr><tr><td>6783073</td><td>&quot;\\i2b2\\Vitals\\Height\\&gt; 84 inche…</td><td>&quot;Vitals height more than 84 inc…</td><td>186.96000</td><td>&quot;In&quot;</td></tr></tbody></table></div>"
      ],
      "text/plain": [
       "shape: (5, 5)\n",
       "┌─────────────┬────────────────────────────┬────────────────────────────┬───────────────┬──────────┐\n",
       "│ PATIENT_NUM ┆ CONCEPT_PATH               ┆ NAME_CHAR                  ┆ NVAL_NUM      ┆ UNITS_CD │\n",
       "│ ---         ┆ ---                        ┆ ---                        ┆ ---           ┆ ---      │\n",
       "│ i64         ┆ str                        ┆ str                        ┆ decimal[18,5] ┆ str      │\n",
       "╞═════════════╪════════════════════════════╪════════════════════════════╪═══════════════╪══════════╡\n",
       "│ 5375663     ┆ \\i2b2\\Vitals\\Height\\> 84   ┆ Vitals height more than 84 ┆ 84.96000      ┆ In       │\n",
       "│             ┆ inche…                     ┆ inc…                       ┆               ┆          │\n",
       "│ 1982351     ┆ \\i2b2\\Vitals\\Height\\> 84   ┆ Vitals height more than 84 ┆ 91.00000      ┆ In       │\n",
       "│             ┆ inche…                     ┆ inc…                       ┆               ┆          │\n",
       "│ 2784015     ┆ \\i2b2\\Vitals\\Height\\> 84   ┆ Vitals height more than 84 ┆ 129.00000     ┆ In       │\n",
       "│             ┆ inche…                     ┆ inc…                       ┆               ┆          │\n",
       "│ 4814083     ┆ \\i2b2\\Vitals\\Height\\> 84   ┆ Vitals height more than 84 ┆ 123.00000     ┆ In       │\n",
       "│             ┆ inche…                     ┆ inc…                       ┆               ┆          │\n",
       "│ 6783073     ┆ \\i2b2\\Vitals\\Height\\> 84   ┆ Vitals height more than 84 ┆ 186.96000     ┆ In       │\n",
       "│             ┆ inche…                     ┆ inc…                       ┆               ┆          │\n",
       "└─────────────┴────────────────────────────┴────────────────────────────┴───────────────┴──────────┘"
      ]
     },
     "execution_count": 173,
     "metadata": {},
     "output_type": "execute_result"
    }
   ],
   "source": [
    "height_df.head().collect()"
   ]
  },
  {
   "cell_type": "code",
   "execution_count": 174,
   "id": "8a42cac3",
   "metadata": {},
   "outputs": [
    {
     "name": "stdout",
     "output_type": "stream",
     "text": [
      "Number of unique patients:  949537\n"
     ]
    }
   ],
   "source": [
    "print(\"Number of unique patients: \",len(np.unique(height_df.select('PATIENT_NUM').collect()['PATIENT_NUM'].to_list())))"
   ]
  },
  {
   "cell_type": "code",
   "execution_count": 175,
   "id": "4d4394cc",
   "metadata": {},
   "outputs": [
    {
     "name": "stdout",
     "output_type": "stream",
     "text": [
      "Number of records:  (9506009, 5)\n"
     ]
    }
   ],
   "source": [
    "print(\"Number of records: \",height_df.collect().shape)"
   ]
  },
  {
   "cell_type": "code",
   "execution_count": 176,
   "id": "8d5238fe",
   "metadata": {},
   "outputs": [
    {
     "name": "stdout",
     "output_type": "stream",
     "text": [
      "Number of unique BMI CONCEPT_CD ranges :  ['\\\\i2b2\\\\Vitals\\\\Height\\\\> 84 inches\\\\'\n",
      " '\\\\i2b2\\\\Vitals\\\\Height\\\\[0-84 inches]\\\\']\n"
     ]
    }
   ],
   "source": [
    "print(\"Number of unique BMI CONCEPT_CD ranges : \", np.unique(height_df.select('CONCEPT_PATH').collect()['CONCEPT_PATH'].to_list()))"
   ]
  },
  {
   "cell_type": "code",
   "execution_count": 177,
   "id": "801433b7",
   "metadata": {},
   "outputs": [
    {
     "data": {
      "text/html": [
       "<div><style>\n",
       ".dataframe > thead > tr,\n",
       ".dataframe > tbody > tr {\n",
       "  text-align: right;\n",
       "  white-space: pre-wrap;\n",
       "}\n",
       "</style>\n",
       "<small>shape: (16_819, 5)</small><table border=\"1\" class=\"dataframe\"><thead><tr><th>PATIENT_NUM</th><th>CONCEPT_PATH</th><th>NAME_CHAR</th><th>NVAL_NUM</th><th>UNITS_CD</th></tr><tr><td>i64</td><td>str</td><td>str</td><td>decimal[18,5]</td><td>str</td></tr></thead><tbody><tr><td>4365</td><td>&quot;\\i2b2\\Vitals\\Height\\&gt; 84 inche…</td><td>&quot;Vitals height more than 84 inc…</td><td>165.10000</td><td>&quot;In&quot;</td></tr><tr><td>4365</td><td>&quot;\\i2b2\\Vitals\\Height\\&gt; 84 inche…</td><td>&quot;Vitals height more than 84 inc…</td><td>165.10000</td><td>&quot;In&quot;</td></tr><tr><td>4365</td><td>&quot;\\i2b2\\Vitals\\Height\\&gt; 84 inche…</td><td>&quot;Vitals height more than 84 inc…</td><td>165.10000</td><td>&quot;In&quot;</td></tr><tr><td>4365</td><td>&quot;\\i2b2\\Vitals\\Height\\&gt; 84 inche…</td><td>&quot;Vitals height more than 84 inc…</td><td>165.10000</td><td>&quot;In&quot;</td></tr><tr><td>4365</td><td>&quot;\\i2b2\\Vitals\\Height\\&gt; 84 inche…</td><td>&quot;Vitals height more than 84 inc…</td><td>165.10000</td><td>&quot;In&quot;</td></tr><tr><td>&hellip;</td><td>&hellip;</td><td>&hellip;</td><td>&hellip;</td><td>&hellip;</td></tr><tr><td>12381942</td><td>&quot;\\i2b2\\Vitals\\Height\\&gt; 84 inche…</td><td>&quot;Vitals height more than 84 inc…</td><td>185.42000</td><td>&quot;In&quot;</td></tr><tr><td>12381942</td><td>&quot;\\i2b2\\Vitals\\Height\\&gt; 84 inche…</td><td>&quot;Vitals height more than 84 inc…</td><td>185.42000</td><td>&quot;In&quot;</td></tr><tr><td>12381942</td><td>&quot;\\i2b2\\Vitals\\Height\\&gt; 84 inche…</td><td>&quot;Vitals height more than 84 inc…</td><td>185.42000</td><td>&quot;In&quot;</td></tr><tr><td>12381942</td><td>&quot;\\i2b2\\Vitals\\Height\\&gt; 84 inche…</td><td>&quot;Vitals height more than 84 inc…</td><td>185.42000</td><td>&quot;In&quot;</td></tr><tr><td>12389168</td><td>&quot;\\i2b2\\Vitals\\Height\\&gt; 84 inche…</td><td>&quot;Vitals height more than 84 inc…</td><td>160.02000</td><td>&quot;In&quot;</td></tr></tbody></table></div>"
      ],
      "text/plain": [
       "shape: (16_819, 5)\n",
       "┌─────────────┬────────────────────────────┬────────────────────────────┬───────────────┬──────────┐\n",
       "│ PATIENT_NUM ┆ CONCEPT_PATH               ┆ NAME_CHAR                  ┆ NVAL_NUM      ┆ UNITS_CD │\n",
       "│ ---         ┆ ---                        ┆ ---                        ┆ ---           ┆ ---      │\n",
       "│ i64         ┆ str                        ┆ str                        ┆ decimal[18,5] ┆ str      │\n",
       "╞═════════════╪════════════════════════════╪════════════════════════════╪═══════════════╪══════════╡\n",
       "│ 4365        ┆ \\i2b2\\Vitals\\Height\\> 84   ┆ Vitals height more than 84 ┆ 165.10000     ┆ In       │\n",
       "│             ┆ inche…                     ┆ inc…                       ┆               ┆          │\n",
       "│ 4365        ┆ \\i2b2\\Vitals\\Height\\> 84   ┆ Vitals height more than 84 ┆ 165.10000     ┆ In       │\n",
       "│             ┆ inche…                     ┆ inc…                       ┆               ┆          │\n",
       "│ 4365        ┆ \\i2b2\\Vitals\\Height\\> 84   ┆ Vitals height more than 84 ┆ 165.10000     ┆ In       │\n",
       "│             ┆ inche…                     ┆ inc…                       ┆               ┆          │\n",
       "│ 4365        ┆ \\i2b2\\Vitals\\Height\\> 84   ┆ Vitals height more than 84 ┆ 165.10000     ┆ In       │\n",
       "│             ┆ inche…                     ┆ inc…                       ┆               ┆          │\n",
       "│ 4365        ┆ \\i2b2\\Vitals\\Height\\> 84   ┆ Vitals height more than 84 ┆ 165.10000     ┆ In       │\n",
       "│             ┆ inche…                     ┆ inc…                       ┆               ┆          │\n",
       "│ …           ┆ …                          ┆ …                          ┆ …             ┆ …        │\n",
       "│ 12381942    ┆ \\i2b2\\Vitals\\Height\\> 84   ┆ Vitals height more than 84 ┆ 185.42000     ┆ In       │\n",
       "│             ┆ inche…                     ┆ inc…                       ┆               ┆          │\n",
       "│ 12381942    ┆ \\i2b2\\Vitals\\Height\\> 84   ┆ Vitals height more than 84 ┆ 185.42000     ┆ In       │\n",
       "│             ┆ inche…                     ┆ inc…                       ┆               ┆          │\n",
       "│ 12381942    ┆ \\i2b2\\Vitals\\Height\\> 84   ┆ Vitals height more than 84 ┆ 185.42000     ┆ In       │\n",
       "│             ┆ inche…                     ┆ inc…                       ┆               ┆          │\n",
       "│ 12381942    ┆ \\i2b2\\Vitals\\Height\\> 84   ┆ Vitals height more than 84 ┆ 185.42000     ┆ In       │\n",
       "│             ┆ inche…                     ┆ inc…                       ┆               ┆          │\n",
       "│ 12389168    ┆ \\i2b2\\Vitals\\Height\\> 84   ┆ Vitals height more than 84 ┆ 160.02000     ┆ In       │\n",
       "│             ┆ inche…                     ┆ inc…                       ┆               ┆          │\n",
       "└─────────────┴────────────────────────────┴────────────────────────────┴───────────────┴──────────┘"
      ]
     },
     "execution_count": 177,
     "metadata": {},
     "output_type": "execute_result"
    }
   ],
   "source": [
    "height_df.sort('PATIENT_NUM').filter(#(pl.col('NVAL_NUM')< 96) &\n",
    "                                    (pl.col('NVAL_NUM') > 84)).collect()"
   ]
  },
  {
   "cell_type": "code",
   "execution_count": 178,
   "id": "3587e746",
   "metadata": {},
   "outputs": [
    {
     "data": {
      "text/html": [
       "<div><style>\n",
       ".dataframe > thead > tr,\n",
       ".dataframe > tbody > tr {\n",
       "  text-align: right;\n",
       "  white-space: pre-wrap;\n",
       "}\n",
       "</style>\n",
       "<small>shape: (0, 5)</small><table border=\"1\" class=\"dataframe\"><thead><tr><th>PATIENT_NUM</th><th>CONCEPT_PATH</th><th>NAME_CHAR</th><th>NVAL_NUM</th><th>UNITS_CD</th></tr><tr><td>i64</td><td>str</td><td>str</td><td>decimal[18,5]</td><td>str</td></tr></thead><tbody></tbody></table></div>"
      ],
      "text/plain": [
       "shape: (0, 5)\n",
       "┌─────────────┬──────────────┬───────────┬───────────────┬──────────┐\n",
       "│ PATIENT_NUM ┆ CONCEPT_PATH ┆ NAME_CHAR ┆ NVAL_NUM      ┆ UNITS_CD │\n",
       "│ ---         ┆ ---          ┆ ---       ┆ ---           ┆ ---      │\n",
       "│ i64         ┆ str          ┆ str       ┆ decimal[18,5] ┆ str      │\n",
       "╞═════════════╪══════════════╪═══════════╪═══════════════╪══════════╡\n",
       "└─────────────┴──────────────┴───────────┴───────────────┴──────────┘"
      ]
     },
     "execution_count": 178,
     "metadata": {},
     "output_type": "execute_result"
    }
   ],
   "source": [
    "height_df.filter(pl.col('PATIENT_NUM') == 10270897).sort('PATIENT_NUM').collect()"
   ]
  },
  {
   "cell_type": "code",
   "execution_count": 179,
   "id": "51407cdc",
   "metadata": {},
   "outputs": [],
   "source": [
    "def custom_height_aggregator(ht_list):\n",
    "    ht_list = [ht for ht in ht_list if (ht>36 and ht< 96)]\n",
    "    if ht_list == []:\n",
    "        return None\n",
    "    return max(set(ht_list), key=ht_list.count)\n",
    "    "
   ]
  },
  {
   "cell_type": "code",
   "execution_count": 180,
   "id": "91aa54c0",
   "metadata": {},
   "outputs": [],
   "source": [
    "mode_height_df = height_df.group_by(\"PATIENT_NUM\").agg([\n",
    "    pl.col(\"NVAL_NUM\").map_elements(custom_height_aggregator, return_dtype = pl.Float32).alias(\"mode_height\")\n",
    "])"
   ]
  },
  {
   "cell_type": "code",
   "execution_count": 181,
   "id": "3f98c85a",
   "metadata": {},
   "outputs": [
    {
     "data": {
      "text/html": [
       "<div><style>\n",
       ".dataframe > thead > tr,\n",
       ".dataframe > tbody > tr {\n",
       "  text-align: right;\n",
       "  white-space: pre-wrap;\n",
       "}\n",
       "</style>\n",
       "<small>shape: (949_537, 2)</small><table border=\"1\" class=\"dataframe\"><thead><tr><th>PATIENT_NUM</th><th>mode_height</th></tr><tr><td>i64</td><td>f32</td></tr></thead><tbody><tr><td>6113971</td><td>69.0</td></tr><tr><td>2891514</td><td>67.0</td></tr><tr><td>1433635</td><td>65.5</td></tr><tr><td>7596365</td><td>59.0</td></tr><tr><td>1062802</td><td>62.0</td></tr><tr><td>&hellip;</td><td>&hellip;</td></tr><tr><td>1808237</td><td>64.0</td></tr><tr><td>4827524</td><td>64.0</td></tr><tr><td>10943064</td><td>63.0</td></tr><tr><td>2550147</td><td>66.5</td></tr><tr><td>9703563</td><td>59.25</td></tr></tbody></table></div>"
      ],
      "text/plain": [
       "shape: (949_537, 2)\n",
       "┌─────────────┬─────────────┐\n",
       "│ PATIENT_NUM ┆ mode_height │\n",
       "│ ---         ┆ ---         │\n",
       "│ i64         ┆ f32         │\n",
       "╞═════════════╪═════════════╡\n",
       "│ 6113971     ┆ 69.0        │\n",
       "│ 2891514     ┆ 67.0        │\n",
       "│ 1433635     ┆ 65.5        │\n",
       "│ 7596365     ┆ 59.0        │\n",
       "│ 1062802     ┆ 62.0        │\n",
       "│ …           ┆ …           │\n",
       "│ 1808237     ┆ 64.0        │\n",
       "│ 4827524     ┆ 64.0        │\n",
       "│ 10943064    ┆ 63.0        │\n",
       "│ 2550147     ┆ 66.5        │\n",
       "│ 9703563     ┆ 59.25       │\n",
       "└─────────────┴─────────────┘"
      ]
     },
     "execution_count": 181,
     "metadata": {},
     "output_type": "execute_result"
    }
   ],
   "source": [
    "mode_height_df.collect()"
   ]
  },
  {
   "cell_type": "code",
   "execution_count": 183,
   "id": "67b5aba6",
   "metadata": {},
   "outputs": [
    {
     "name": "stdout",
     "output_type": "stream",
     "text": [
      "Number of unique patients in the mode  height df 949537\n"
     ]
    }
   ],
   "source": [
    "print(\"Number of unique patients in the mode  height df\", len(np.unique(mode_height_df.select('PATIENT_NUM').collect()['PATIENT_NUM'].to_list())))"
   ]
  },
  {
   "cell_type": "markdown",
   "id": "bbd129be",
   "metadata": {},
   "source": [
    "## Calculating BMI"
   ]
  },
  {
   "cell_type": "code",
   "execution_count": 186,
   "id": "ed427021",
   "metadata": {},
   "outputs": [],
   "source": [
    "# Join the DataFrames on 'patient_id'\n",
    "df_combined = mode_height_df.join(average_weight_per_patient, on=\"PATIENT_NUM\", how=\"inner\")\n",
    "\n",
    "# Calculate BMI\n",
    "df_combined = df_combined.with_columns(\n",
    "    (pl.col(\"median_weight\") / (pl.col(\"mode_height\") ** 2) * 703).alias(\"BMI\")\n",
    ")"
   ]
  },
  {
   "cell_type": "code",
   "execution_count": 187,
   "id": "8ad9c33d",
   "metadata": {},
   "outputs": [
    {
     "data": {
      "text/html": [
       "<div><style>\n",
       ".dataframe > thead > tr,\n",
       ".dataframe > tbody > tr {\n",
       "  text-align: right;\n",
       "  white-space: pre-wrap;\n",
       "}\n",
       "</style>\n",
       "<small>shape: (657_056, 4)</small><table border=\"1\" class=\"dataframe\"><thead><tr><th>PATIENT_NUM</th><th>mode_height</th><th>median_weight</th><th>BMI</th></tr><tr><td>i64</td><td>f32</td><td>f32</td><td>f64</td></tr></thead><tbody><tr><td>4233642</td><td>63.0</td><td>95.0</td><td>16.826657</td></tr><tr><td>3885877</td><td>63.0</td><td>111.0</td><td>19.660619</td></tr><tr><td>4045266</td><td>70.0</td><td>155.0</td><td>22.237756</td></tr><tr><td>7817235</td><td>67.0</td><td>206.0</td><td>32.260638</td></tr><tr><td>1896094</td><td>67.0</td><td>209.199997</td><td>32.761774</td></tr><tr><td>&hellip;</td><td>&hellip;</td><td>&hellip;</td><td>&hellip;</td></tr><tr><td>283122</td><td>72.0</td><td>207.300003</td><td>28.111865</td></tr><tr><td>2852681</td><td>62.0</td><td>189.0</td><td>34.564775</td></tr><tr><td>4594992</td><td>62.0</td><td>159.0</td><td>29.078305</td></tr><tr><td>7614806</td><td>74.0</td><td>206.5</td><td>26.510135</td></tr><tr><td>4601283</td><td>67.720001</td><td>181.0</td><td>27.745974</td></tr></tbody></table></div>"
      ],
      "text/plain": [
       "shape: (657_056, 4)\n",
       "┌─────────────┬─────────────┬───────────────┬───────────┐\n",
       "│ PATIENT_NUM ┆ mode_height ┆ median_weight ┆ BMI       │\n",
       "│ ---         ┆ ---         ┆ ---           ┆ ---       │\n",
       "│ i64         ┆ f32         ┆ f32           ┆ f64       │\n",
       "╞═════════════╪═════════════╪═══════════════╪═══════════╡\n",
       "│ 4233642     ┆ 63.0        ┆ 95.0          ┆ 16.826657 │\n",
       "│ 3885877     ┆ 63.0        ┆ 111.0         ┆ 19.660619 │\n",
       "│ 4045266     ┆ 70.0        ┆ 155.0         ┆ 22.237756 │\n",
       "│ 7817235     ┆ 67.0        ┆ 206.0         ┆ 32.260638 │\n",
       "│ 1896094     ┆ 67.0        ┆ 209.199997    ┆ 32.761774 │\n",
       "│ …           ┆ …           ┆ …             ┆ …         │\n",
       "│ 283122      ┆ 72.0        ┆ 207.300003    ┆ 28.111865 │\n",
       "│ 2852681     ┆ 62.0        ┆ 189.0         ┆ 34.564775 │\n",
       "│ 4594992     ┆ 62.0        ┆ 159.0         ┆ 29.078305 │\n",
       "│ 7614806     ┆ 74.0        ┆ 206.5         ┆ 26.510135 │\n",
       "│ 4601283     ┆ 67.720001   ┆ 181.0         ┆ 27.745974 │\n",
       "└─────────────┴─────────────┴───────────────┴───────────┘"
      ]
     },
     "execution_count": 187,
     "metadata": {},
     "output_type": "execute_result"
    }
   ],
   "source": [
    "df_combined.collect()"
   ]
  },
  {
   "cell_type": "code",
   "execution_count": 189,
   "id": "92bf1e5e",
   "metadata": {},
   "outputs": [
    {
     "data": {
      "text/html": [
       "<div><style>\n",
       ".dataframe > thead > tr,\n",
       ".dataframe > tbody > tr {\n",
       "  text-align: right;\n",
       "  white-space: pre-wrap;\n",
       "}\n",
       "</style>\n",
       "<small>shape: (244_111, 4)</small><table border=\"1\" class=\"dataframe\"><thead><tr><th>PATIENT_NUM</th><th>mode_height</th><th>median_weight</th><th>BMI</th></tr><tr><td>i64</td><td>f32</td><td>f32</td><td>f64</td></tr></thead><tbody><tr><td>3224970</td><td>61.0</td><td>166.0</td><td>31.361999</td></tr><tr><td>6757193</td><td>67.0</td><td>288.5</td><td>45.180551</td></tr><tr><td>9111503</td><td>72.0</td><td>233.0</td><td>31.59703</td></tr><tr><td>3104893</td><td>61.0</td><td>160.154999</td><td>30.257717</td></tr><tr><td>1300720</td><td>69.0</td><td>246.699997</td><td>36.427241</td></tr><tr><td>&hellip;</td><td>&hellip;</td><td>&hellip;</td><td>&hellip;</td></tr><tr><td>2479633</td><td>62.0</td><td>200.5</td><td>36.667924</td></tr><tr><td>6546243</td><td>65.5</td><td>188.0</td><td>30.805665</td></tr><tr><td>5958348</td><td>66.75</td><td>256.0</td><td>40.391758</td></tr><tr><td>6825590</td><td>65.0</td><td>180.5</td><td>30.033491</td></tr><tr><td>7503268</td><td>60.0</td><td>169.020004</td><td>33.005851</td></tr></tbody></table></div>"
      ],
      "text/plain": [
       "shape: (244_111, 4)\n",
       "┌─────────────┬─────────────┬───────────────┬───────────┐\n",
       "│ PATIENT_NUM ┆ mode_height ┆ median_weight ┆ BMI       │\n",
       "│ ---         ┆ ---         ┆ ---           ┆ ---       │\n",
       "│ i64         ┆ f32         ┆ f32           ┆ f64       │\n",
       "╞═════════════╪═════════════╪═══════════════╪═══════════╡\n",
       "│ 3224970     ┆ 61.0        ┆ 166.0         ┆ 31.361999 │\n",
       "│ 6757193     ┆ 67.0        ┆ 288.5         ┆ 45.180551 │\n",
       "│ 9111503     ┆ 72.0        ┆ 233.0         ┆ 31.59703  │\n",
       "│ 3104893     ┆ 61.0        ┆ 160.154999    ┆ 30.257717 │\n",
       "│ 1300720     ┆ 69.0        ┆ 246.699997    ┆ 36.427241 │\n",
       "│ …           ┆ …           ┆ …             ┆ …         │\n",
       "│ 2479633     ┆ 62.0        ┆ 200.5         ┆ 36.667924 │\n",
       "│ 6546243     ┆ 65.5        ┆ 188.0         ┆ 30.805665 │\n",
       "│ 5958348     ┆ 66.75       ┆ 256.0         ┆ 40.391758 │\n",
       "│ 6825590     ┆ 65.0        ┆ 180.5         ┆ 30.033491 │\n",
       "│ 7503268     ┆ 60.0        ┆ 169.020004    ┆ 33.005851 │\n",
       "└─────────────┴─────────────┴───────────────┴───────────┘"
      ]
     },
     "execution_count": 189,
     "metadata": {},
     "output_type": "execute_result"
    }
   ],
   "source": [
    "df_combined.filter(pl.col('BMI')> 30).collect()"
   ]
  },
  {
   "cell_type": "code",
   "execution_count": 190,
   "id": "f35d82a6",
   "metadata": {},
   "outputs": [],
   "source": [
    "df_combined.collect().write_parquet('./Determine_cohort_files/Determine_modeling_bmi_data_manual.parquet')"
   ]
  },
  {
   "cell_type": "markdown",
   "id": "b46d816b",
   "metadata": {},
   "source": [
    "### BP"
   ]
  },
  {
   "cell_type": "code",
   "execution_count": 191,
   "id": "dd61d719",
   "metadata": {},
   "outputs": [],
   "source": [
    "### filtering Diastolic BP data\n",
    "dia_bp_df = bmi_bP_df.filter(pl.col('CONCEPT_CD').str.contains('VIT\\|DIA'))\n",
    "sys_bp_df = bmi_bP_df.filter(pl.col('CONCEPT_CD').str.contains('VIT\\|SYS'))"
   ]
  },
  {
   "cell_type": "code",
   "execution_count": 211,
   "id": "b60b8f0d",
   "metadata": {},
   "outputs": [],
   "source": [
    "dia_bp_df = bmi_bP_df.with_columns(pl.col('NVAL_NUM').cast(pl.Float32).alias('NVAL_NUM'))\n",
    "sys_bp_df = bmi_bP_df.with_columns(pl.col('NVAL_NUM').cast(pl.Float32).alias('NVAL_NUM'))"
   ]
  },
  {
   "cell_type": "code",
   "execution_count": 212,
   "id": "f0208e69",
   "metadata": {},
   "outputs": [
    {
     "data": {
      "text/html": [
       "<div><style>\n",
       ".dataframe > thead > tr,\n",
       ".dataframe > tbody > tr {\n",
       "  text-align: right;\n",
       "  white-space: pre-wrap;\n",
       "}\n",
       "</style>\n",
       "<small>shape: (5, 5)</small><table border=\"1\" class=\"dataframe\"><thead><tr><th>PATIENT_NUM</th><th>CONCEPT_CD</th><th>NVAL_NUM</th><th>UNITS_CD</th><th>START_DATE</th></tr><tr><td>i64</td><td>str</td><td>f32</td><td>str</td><td>datetime[μs]</td></tr></thead><tbody><tr><td>6735102</td><td>&quot;VIT|WT:0-499&quot;</td><td>139.0</td><td>&quot;Lb&quot;</td><td>2017-03-16 00:00:00</td></tr><tr><td>3198040</td><td>&quot;VIT|WT:0-499&quot;</td><td>168.0</td><td>&quot;Lb&quot;</td><td>2017-01-16 00:00:00</td></tr><tr><td>1362288</td><td>&quot;VIT|WT:0-499&quot;</td><td>134.800003</td><td>&quot;Lb&quot;</td><td>2017-02-15 00:00:00</td></tr><tr><td>11852072</td><td>&quot;VIT|WT:0-499&quot;</td><td>223.0</td><td>&quot;Lb&quot;</td><td>2017-02-16 00:00:00</td></tr><tr><td>3598189</td><td>&quot;VIT|WT:0-499&quot;</td><td>208.0</td><td>&quot;Lb&quot;</td><td>2017-02-13 00:00:00</td></tr></tbody></table></div>"
      ],
      "text/plain": [
       "shape: (5, 5)\n",
       "┌─────────────┬──────────────┬────────────┬──────────┬─────────────────────┐\n",
       "│ PATIENT_NUM ┆ CONCEPT_CD   ┆ NVAL_NUM   ┆ UNITS_CD ┆ START_DATE          │\n",
       "│ ---         ┆ ---          ┆ ---        ┆ ---      ┆ ---                 │\n",
       "│ i64         ┆ str          ┆ f32        ┆ str      ┆ datetime[μs]        │\n",
       "╞═════════════╪══════════════╪════════════╪══════════╪═════════════════════╡\n",
       "│ 6735102     ┆ VIT|WT:0-499 ┆ 139.0      ┆ Lb       ┆ 2017-03-16 00:00:00 │\n",
       "│ 3198040     ┆ VIT|WT:0-499 ┆ 168.0      ┆ Lb       ┆ 2017-01-16 00:00:00 │\n",
       "│ 1362288     ┆ VIT|WT:0-499 ┆ 134.800003 ┆ Lb       ┆ 2017-02-15 00:00:00 │\n",
       "│ 11852072    ┆ VIT|WT:0-499 ┆ 223.0      ┆ Lb       ┆ 2017-02-16 00:00:00 │\n",
       "│ 3598189     ┆ VIT|WT:0-499 ┆ 208.0      ┆ Lb       ┆ 2017-02-13 00:00:00 │\n",
       "└─────────────┴──────────────┴────────────┴──────────┴─────────────────────┘"
      ]
     },
     "execution_count": 212,
     "metadata": {},
     "output_type": "execute_result"
    }
   ],
   "source": [
    "dia_bp_df.collect().head()"
   ]
  },
  {
   "cell_type": "code",
   "execution_count": 213,
   "id": "6d3f5bf2",
   "metadata": {},
   "outputs": [
    {
     "name": "stdout",
     "output_type": "stream",
     "text": [
      "Number of unique patients in diastolic bp:  680089\n",
      "Number of unique patients in systolic bp:  680089\n"
     ]
    }
   ],
   "source": [
    "print(\"Number of unique patients in diastolic bp: \",len(np.unique(dia_bp_df.select('PATIENT_NUM').collect()['PATIENT_NUM'].to_list())))\n",
    "print(\"Number of unique patients in systolic bp: \",len(np.unique(sys_bp_df.select('PATIENT_NUM').collect()['PATIENT_NUM'].to_list())))"
   ]
  },
  {
   "cell_type": "code",
   "execution_count": 214,
   "id": "f48af2e8",
   "metadata": {},
   "outputs": [
    {
     "name": "stdout",
     "output_type": "stream",
     "text": [
      "Number of records in dia bp:  (9095625, 5)\n",
      "Number of records in sys bp:  (9095625, 5)\n"
     ]
    }
   ],
   "source": [
    "print(\"Number of records in dia bp: \",dia_bp_df.collect().shape)\n",
    "print(\"Number of records in sys bp: \",sys_bp_df.collect().shape)"
   ]
  },
  {
   "cell_type": "code",
   "execution_count": 215,
   "id": "7fcdcb2b",
   "metadata": {},
   "outputs": [
    {
     "name": "stdout",
     "output_type": "stream",
     "text": [
      "Number of unique dia BP CONCEPT_CD values :  (array(['VIT|BMI:0-79', 'VIT|BMI:>79', 'VIT|DIASTOLIC:0-200',\n",
      "       'VIT|DIASTOLIC:>200', 'VIT|SYSTOLIC:0-200', 'VIT|SYSTOLIC:>200',\n",
      "       'VIT|WT:0-499', 'VIT|WT:>499'], dtype='<U19'), array([2105400,    2452, 2405834,      82, 2402266,    3655, 2175386,\n",
      "           550]))\n",
      "Number of unique sys BP CONCEPT_CD values :  (array(['VIT|BMI:0-79', 'VIT|BMI:>79', 'VIT|DIASTOLIC:0-200',\n",
      "       'VIT|DIASTOLIC:>200', 'VIT|SYSTOLIC:0-200', 'VIT|SYSTOLIC:>200',\n",
      "       'VIT|WT:0-499', 'VIT|WT:>499'], dtype='<U19'), array([2105400,    2452, 2405834,      82, 2402266,    3655, 2175386,\n",
      "           550]))\n"
     ]
    }
   ],
   "source": [
    "print(\"Number of unique dia BP CONCEPT_CD values : \", np.unique(dia_bp_df.select('CONCEPT_CD').collect()['CONCEPT_CD'].to_list(), return_counts =True))\n",
    "print(\"Number of unique sys BP CONCEPT_CD values : \", np.unique(sys_bp_df.select('CONCEPT_CD').collect()['CONCEPT_CD'].to_list(), return_counts =True))"
   ]
  },
  {
   "cell_type": "code",
   "execution_count": 216,
   "id": "7c5f9fa0",
   "metadata": {},
   "outputs": [
    {
     "name": "stdout",
     "output_type": "stream",
     "text": [
      "Number of unique measuring units in dia bp :  ['In' 'Lb' 'kg/m2' 'mmHg']\n",
      "Number of unique measuring units in sys bp :  ['In' 'Lb' 'kg/m2' 'mmHg']\n"
     ]
    }
   ],
   "source": [
    "print(\"Number of unique measuring units in dia bp : \", np.unique(dia_bp_df.select('UNITS_CD').collect()['UNITS_CD'].to_list()))\n",
    "print(\"Number of unique measuring units in sys bp : \", np.unique(sys_bp_df.select('UNITS_CD').collect()['UNITS_CD'].to_list()))"
   ]
  },
  {
   "cell_type": "code",
   "execution_count": 217,
   "id": "5e3a33c5",
   "metadata": {},
   "outputs": [
    {
     "name": "stdout",
     "output_type": "stream",
     "text": [
      "Min and max of dia bp:  0.0 280222.21875\n",
      "Min and max of sys bp:  0.0 280222.21875\n"
     ]
    }
   ],
   "source": [
    "dia_list = dia_bp_df.select('NVAL_NUM').collect()['NVAL_NUM'].to_list()\n",
    "sys_list = sys_bp_df.select('NVAL_NUM').collect()['NVAL_NUM'].to_list()\n",
    "\n",
    "print(\"Min and max of dia bp: \", min(dia_list), max(dia_list))\n",
    "print(\"Min and max of sys bp: \", min(sys_list), max(sys_list))"
   ]
  },
  {
   "cell_type": "code",
   "execution_count": 218,
   "id": "c73a3e4e",
   "metadata": {},
   "outputs": [
    {
     "data": {
      "text/html": [
       "<div><style>\n",
       ".dataframe > thead > tr,\n",
       ".dataframe > tbody > tr {\n",
       "  text-align: right;\n",
       "  white-space: pre-wrap;\n",
       "}\n",
       "</style>\n",
       "<small>shape: (3_245_643, 5)</small><table border=\"1\" class=\"dataframe\"><thead><tr><th>PATIENT_NUM</th><th>CONCEPT_CD</th><th>NVAL_NUM</th><th>UNITS_CD</th><th>START_DATE</th></tr><tr><td>i64</td><td>str</td><td>f32</td><td>str</td><td>datetime[μs]</td></tr></thead><tbody><tr><td>6735102</td><td>&quot;VIT|WT:0-499&quot;</td><td>139.0</td><td>&quot;Lb&quot;</td><td>2017-03-16 00:00:00</td></tr><tr><td>3198040</td><td>&quot;VIT|WT:0-499&quot;</td><td>168.0</td><td>&quot;Lb&quot;</td><td>2017-01-16 00:00:00</td></tr><tr><td>1362288</td><td>&quot;VIT|WT:0-499&quot;</td><td>134.800003</td><td>&quot;Lb&quot;</td><td>2017-02-15 00:00:00</td></tr><tr><td>11852072</td><td>&quot;VIT|WT:0-499&quot;</td><td>223.0</td><td>&quot;Lb&quot;</td><td>2017-02-16 00:00:00</td></tr><tr><td>3598189</td><td>&quot;VIT|WT:0-499&quot;</td><td>208.0</td><td>&quot;Lb&quot;</td><td>2017-02-13 00:00:00</td></tr><tr><td>&hellip;</td><td>&hellip;</td><td>&hellip;</td><td>&hellip;</td><td>&hellip;</td></tr><tr><td>254859</td><td>&quot;VIT|WT:0-499&quot;</td><td>161.0</td><td>&quot;Lb&quot;</td><td>2017-01-16 00:00:00</td></tr><tr><td>510848</td><td>&quot;VIT|WT:0-499&quot;</td><td>129.399994</td><td>&quot;Lb&quot;</td><td>2017-01-09 00:00:00</td></tr><tr><td>3912363</td><td>&quot;VIT|WT:0-499&quot;</td><td>294.0</td><td>&quot;Lb&quot;</td><td>2017-03-10 00:00:00</td></tr><tr><td>3371179</td><td>&quot;VIT|WT:0-499&quot;</td><td>160.800003</td><td>&quot;Lb&quot;</td><td>2017-02-15 00:00:00</td></tr><tr><td>5579577</td><td>&quot;VIT|WT:0-499&quot;</td><td>141.0</td><td>&quot;Lb&quot;</td><td>2017-03-02 00:00:00</td></tr></tbody></table></div>"
      ],
      "text/plain": [
       "shape: (3_245_643, 5)\n",
       "┌─────────────┬──────────────┬────────────┬──────────┬─────────────────────┐\n",
       "│ PATIENT_NUM ┆ CONCEPT_CD   ┆ NVAL_NUM   ┆ UNITS_CD ┆ START_DATE          │\n",
       "│ ---         ┆ ---          ┆ ---        ┆ ---      ┆ ---                 │\n",
       "│ i64         ┆ str          ┆ f32        ┆ str      ┆ datetime[μs]        │\n",
       "╞═════════════╪══════════════╪════════════╪══════════╪═════════════════════╡\n",
       "│ 6735102     ┆ VIT|WT:0-499 ┆ 139.0      ┆ Lb       ┆ 2017-03-16 00:00:00 │\n",
       "│ 3198040     ┆ VIT|WT:0-499 ┆ 168.0      ┆ Lb       ┆ 2017-01-16 00:00:00 │\n",
       "│ 1362288     ┆ VIT|WT:0-499 ┆ 134.800003 ┆ Lb       ┆ 2017-02-15 00:00:00 │\n",
       "│ 11852072    ┆ VIT|WT:0-499 ┆ 223.0      ┆ Lb       ┆ 2017-02-16 00:00:00 │\n",
       "│ 3598189     ┆ VIT|WT:0-499 ┆ 208.0      ┆ Lb       ┆ 2017-02-13 00:00:00 │\n",
       "│ …           ┆ …            ┆ …          ┆ …        ┆ …                   │\n",
       "│ 254859      ┆ VIT|WT:0-499 ┆ 161.0      ┆ Lb       ┆ 2017-01-16 00:00:00 │\n",
       "│ 510848      ┆ VIT|WT:0-499 ┆ 129.399994 ┆ Lb       ┆ 2017-01-09 00:00:00 │\n",
       "│ 3912363     ┆ VIT|WT:0-499 ┆ 294.0      ┆ Lb       ┆ 2017-03-10 00:00:00 │\n",
       "│ 3371179     ┆ VIT|WT:0-499 ┆ 160.800003 ┆ Lb       ┆ 2017-02-15 00:00:00 │\n",
       "│ 5579577     ┆ VIT|WT:0-499 ┆ 141.0      ┆ Lb       ┆ 2017-03-02 00:00:00 │\n",
       "└─────────────┴──────────────┴────────────┴──────────┴─────────────────────┘"
      ]
     },
     "execution_count": 218,
     "metadata": {},
     "output_type": "execute_result"
    }
   ],
   "source": [
    "dia_bp_df.filter(pl.col('NVAL_NUM') > 120).collect()"
   ]
  },
  {
   "cell_type": "markdown",
   "id": "fe8d3bb1",
   "metadata": {},
   "source": [
    "#### for diastolic values rnage to be considered 40 and 160 \n",
    "#### for systolic values range to be condsidered 60 and 190"
   ]
  },
  {
   "cell_type": "code",
   "execution_count": 219,
   "id": "09990c01",
   "metadata": {},
   "outputs": [
    {
     "data": {
      "text/html": [
       "<div><style>\n",
       ".dataframe > thead > tr,\n",
       ".dataframe > tbody > tr {\n",
       "  text-align: right;\n",
       "  white-space: pre-wrap;\n",
       "}\n",
       "</style>\n",
       "<small>shape: (2, 5)</small><table border=\"1\" class=\"dataframe\"><thead><tr><th>PATIENT_NUM</th><th>CONCEPT_CD</th><th>NVAL_NUM</th><th>UNITS_CD</th><th>START_DATE</th></tr><tr><td>i64</td><td>str</td><td>f32</td><td>str</td><td>datetime[μs]</td></tr></thead><tbody><tr><td>5023457</td><td>&quot;VIT|SYSTOLIC:0-200&quot;</td><td>140.0</td><td>&quot;mmHg&quot;</td><td>2017-01-23 00:00:00</td></tr><tr><td>5023457</td><td>&quot;VIT|DIASTOLIC:0-200&quot;</td><td>90.0</td><td>&quot;In&quot;</td><td>2017-01-23 00:00:00</td></tr></tbody></table></div>"
      ],
      "text/plain": [
       "shape: (2, 5)\n",
       "┌─────────────┬─────────────────────┬──────────┬──────────┬─────────────────────┐\n",
       "│ PATIENT_NUM ┆ CONCEPT_CD          ┆ NVAL_NUM ┆ UNITS_CD ┆ START_DATE          │\n",
       "│ ---         ┆ ---                 ┆ ---      ┆ ---      ┆ ---                 │\n",
       "│ i64         ┆ str                 ┆ f32      ┆ str      ┆ datetime[μs]        │\n",
       "╞═════════════╪═════════════════════╪══════════╪══════════╪═════════════════════╡\n",
       "│ 5023457     ┆ VIT|SYSTOLIC:0-200  ┆ 140.0    ┆ mmHg     ┆ 2017-01-23 00:00:00 │\n",
       "│ 5023457     ┆ VIT|DIASTOLIC:0-200 ┆ 90.0     ┆ In       ┆ 2017-01-23 00:00:00 │\n",
       "└─────────────┴─────────────────────┴──────────┴──────────┴─────────────────────┘"
      ]
     },
     "execution_count": 219,
     "metadata": {},
     "output_type": "execute_result"
    }
   ],
   "source": [
    "sys_bp_df.filter(pl.col('PATIENT_NUM') == 5023457).collect()"
   ]
  },
  {
   "cell_type": "code",
   "execution_count": 220,
   "id": "0a02247c",
   "metadata": {},
   "outputs": [],
   "source": [
    "dia_bp_df  = dia_bp_df.filter((pl.col('NVAL_NUM') > 40) &\n",
    "                             (pl.col('NVAL_NUM') < 160))\n",
    "sys_bp_df  = sys_bp_df.filter((pl.col('NVAL_NUM') > 60) &\n",
    "                             (pl.col('NVAL_NUM') < 190))"
   ]
  },
  {
   "cell_type": "code",
   "execution_count": 221,
   "id": "a17a8363",
   "metadata": {},
   "outputs": [
    {
     "name": "stdout",
     "output_type": "stream",
     "text": [
      "Number of unique pateint ids in diasytolic data:  676081\n",
      "Number of unique pateint ids in systolic data:  677752\n"
     ]
    }
   ],
   "source": [
    "print(\"Number of unique pateint ids in diasytolic data: \",len(np.unique(dia_bp_df.select('PATIENT_NUM').collect()['PATIENT_NUM'].to_list())))\n",
    "print(\"Number of unique pateint ids in systolic data: \",len(np.unique(sys_bp_df.select('PATIENT_NUM').collect()['PATIENT_NUM'].to_list())))"
   ]
  },
  {
   "cell_type": "code",
   "execution_count": 223,
   "id": "fd82a017",
   "metadata": {},
   "outputs": [],
   "source": [
    "### transforming to modeling dataset for bmi\n",
    "average_dia_bp_per_patient = dia_bp_df.group_by(\"PATIENT_NUM\").agg([\n",
    "    pl.col(\"NVAL_NUM\").mean().alias(\"median_diastolic_value\"),\n",
    "#     pl.col(\"NVAL_NUM\").min().alias(\"min_diastolic_value\"),\n",
    "#     pl.col(\"NVAL_NUM\").max().alias(\"max_diastolic_value\")\n",
    "])\n",
    "\n",
    "average_sys_bp_per_patient = sys_bp_df.group_by(\"PATIENT_NUM\").agg([\n",
    "    pl.col(\"NVAL_NUM\").mean().alias(\"median_systolic_value\"),\n",
    "#     pl.col(\"NVAL_NUM\").min().alias(\"min_systolic_value\"),\n",
    "#     pl.col(\"NVAL_NUM\").max().alias(\"max_systolic_value\")\n",
    "])"
   ]
  },
  {
   "cell_type": "code",
   "execution_count": 225,
   "id": "84ff229d",
   "metadata": {},
   "outputs": [],
   "source": [
    "average_dia_bp_per_patient.collect().write_parquet('./Determine_cohort_files/Determine_modeling_diastolic_bp_data.parquet')\n",
    "average_sys_bp_per_patient.collect().write_parquet('./Determine_cohort_files/Determine_modeling_systolic_bp_data.parquet')"
   ]
  },
  {
   "cell_type": "markdown",
   "id": "3267cfd3",
   "metadata": {},
   "source": [
    "# Tob & smoking data"
   ]
  },
  {
   "cell_type": "code",
   "execution_count": null,
   "id": "3d60ffca",
   "metadata": {},
   "outputs": [],
   "source": [
    "tob_df.head().collect()"
   ]
  },
  {
   "cell_type": "code",
   "execution_count": null,
   "id": "0cc8b044",
   "metadata": {},
   "outputs": [],
   "source": [
    "tob_df.filter(pl.col('PATIENT_NUM')==722088).collect().head(10)"
   ]
  },
  {
   "cell_type": "code",
   "execution_count": null,
   "id": "0047f2b2",
   "metadata": {},
   "outputs": [],
   "source": [
    "tob_df = tob_df.with_columns(pl.lit(1).alias('Indicator'))"
   ]
  },
  {
   "cell_type": "code",
   "execution_count": null,
   "id": "5f6de29e",
   "metadata": {},
   "outputs": [],
   "source": [
    "tob_df.head().collect()"
   ]
  },
  {
   "cell_type": "markdown",
   "id": "714e8a94",
   "metadata": {},
   "source": [
    "# Community vital signs"
   ]
  },
  {
   "cell_type": "code",
   "execution_count": 226,
   "id": "92aca437",
   "metadata": {},
   "outputs": [
    {
     "data": {
      "text/html": [
       "<div><style>\n",
       ".dataframe > thead > tr,\n",
       ".dataframe > tbody > tr {\n",
       "  text-align: right;\n",
       "  white-space: pre-wrap;\n",
       "}\n",
       "</style>\n",
       "<small>shape: (5, 5)</small><table border=\"1\" class=\"dataframe\"><thead><tr><th>PATIENT_NUM</th><th>ZIP_CD</th><th>Indicator</th><th>PERIOD</th><th>FACT</th></tr><tr><td>i64</td><td>str</td><td>str</td><td>str</td><td>str</td></tr></thead><tbody><tr><td>5627352</td><td>&quot;01001&quot;</td><td>&quot;ACS_GINI&quot;</td><td>&quot;2016-2020&quot;</td><td>&quot;41.85&quot;</td></tr><tr><td>5621397</td><td>&quot;01001&quot;</td><td>&quot;ACS_GINI&quot;</td><td>&quot;2016-2020&quot;</td><td>&quot;41.85&quot;</td></tr><tr><td>563554</td><td>&quot;01001&quot;</td><td>&quot;ACS_GINI&quot;</td><td>&quot;2016-2020&quot;</td><td>&quot;41.85&quot;</td></tr><tr><td>528640</td><td>&quot;01001&quot;</td><td>&quot;ACS_GINI&quot;</td><td>&quot;2016-2020&quot;</td><td>&quot;41.85&quot;</td></tr><tr><td>517732</td><td>&quot;01001&quot;</td><td>&quot;ACS_GINI&quot;</td><td>&quot;2016-2020&quot;</td><td>&quot;41.85&quot;</td></tr></tbody></table></div>"
      ],
      "text/plain": [
       "shape: (5, 5)\n",
       "┌─────────────┬────────┬───────────┬───────────┬───────┐\n",
       "│ PATIENT_NUM ┆ ZIP_CD ┆ Indicator ┆ PERIOD    ┆ FACT  │\n",
       "│ ---         ┆ ---    ┆ ---       ┆ ---       ┆ ---   │\n",
       "│ i64         ┆ str    ┆ str       ┆ str       ┆ str   │\n",
       "╞═════════════╪════════╪═══════════╪═══════════╪═══════╡\n",
       "│ 5627352     ┆ 01001  ┆ ACS_GINI  ┆ 2016-2020 ┆ 41.85 │\n",
       "│ 5621397     ┆ 01001  ┆ ACS_GINI  ┆ 2016-2020 ┆ 41.85 │\n",
       "│ 563554      ┆ 01001  ┆ ACS_GINI  ┆ 2016-2020 ┆ 41.85 │\n",
       "│ 528640      ┆ 01001  ┆ ACS_GINI  ┆ 2016-2020 ┆ 41.85 │\n",
       "│ 517732      ┆ 01001  ┆ ACS_GINI  ┆ 2016-2020 ┆ 41.85 │\n",
       "└─────────────┴────────┴───────────┴───────────┴───────┘"
      ]
     },
     "execution_count": 226,
     "metadata": {},
     "output_type": "execute_result"
    }
   ],
   "source": [
    "community_vital_df.collect().head()"
   ]
  },
  {
   "cell_type": "code",
   "execution_count": 227,
   "id": "44ea64f1",
   "metadata": {},
   "outputs": [],
   "source": [
    "community_vital_df = community_vital_df.with_columns(pl.col('FACT').cast(pl.Float32).alias('FACT'))"
   ]
  },
  {
   "cell_type": "code",
   "execution_count": 228,
   "id": "0dc7cd44",
   "metadata": {},
   "outputs": [
    {
     "data": {
      "text/html": [
       "<div><style>\n",
       ".dataframe > thead > tr,\n",
       ".dataframe > tbody > tr {\n",
       "  text-align: right;\n",
       "  white-space: pre-wrap;\n",
       "}\n",
       "</style>\n",
       "<small>shape: (1, 5)</small><table border=\"1\" class=\"dataframe\"><thead><tr><th>PATIENT_NUM</th><th>ZIP_CD</th><th>Indicator</th><th>PERIOD</th><th>FACT</th></tr><tr><td>u32</td><td>u32</td><td>u32</td><td>u32</td><td>u32</td></tr></thead><tbody><tr><td>0</td><td>0</td><td>0</td><td>0</td><td>6836</td></tr></tbody></table></div>"
      ],
      "text/plain": [
       "shape: (1, 5)\n",
       "┌─────────────┬────────┬───────────┬────────┬──────┐\n",
       "│ PATIENT_NUM ┆ ZIP_CD ┆ Indicator ┆ PERIOD ┆ FACT │\n",
       "│ ---         ┆ ---    ┆ ---       ┆ ---    ┆ ---  │\n",
       "│ u32         ┆ u32    ┆ u32       ┆ u32    ┆ u32  │\n",
       "╞═════════════╪════════╪═══════════╪════════╪══════╡\n",
       "│ 0           ┆ 0      ┆ 0         ┆ 0      ┆ 6836 │\n",
       "└─────────────┴────────┴───────────┴────────┴──────┘"
      ]
     },
     "execution_count": 228,
     "metadata": {},
     "output_type": "execute_result"
    }
   ],
   "source": [
    "community_vital_df.null_count().collect()"
   ]
  },
  {
   "cell_type": "code",
   "execution_count": 229,
   "id": "64fc46eb",
   "metadata": {},
   "outputs": [
    {
     "data": {
      "text/html": [
       "<div><style>\n",
       ".dataframe > thead > tr,\n",
       ".dataframe > tbody > tr {\n",
       "  text-align: right;\n",
       "  white-space: pre-wrap;\n",
       "}\n",
       "</style>\n",
       "<small>shape: (5, 5)</small><table border=\"1\" class=\"dataframe\"><thead><tr><th>PATIENT_NUM</th><th>ZIP_CD</th><th>Indicator</th><th>PERIOD</th><th>FACT</th></tr><tr><td>i64</td><td>str</td><td>str</td><td>str</td><td>f32</td></tr></thead><tbody><tr><td>556</td><td>&quot;95519&quot;</td><td>&quot;ACS_GINI&quot;</td><td>&quot;2016-2020&quot;</td><td>45.75</td></tr><tr><td>556</td><td>&quot;95519&quot;</td><td>&quot;ACS_MedHHIncome&quot;</td><td>&quot;2016-2020&quot;</td><td>56422.0</td></tr><tr><td>556</td><td>&quot;95519&quot;</td><td>&quot;ACS_pctCollGrad&quot;</td><td>&quot;2016-2020&quot;</td><td>33.120899</td></tr><tr><td>556</td><td>&quot;95519&quot;</td><td>&quot;ACS_pctPoverty100&quot;</td><td>&quot;2016-2020&quot;</td><td>16.0502</td></tr><tr><td>556</td><td>&quot;95519&quot;</td><td>&quot;ACS_Unemployment&quot;</td><td>&quot;2016-2020&quot;</td><td>3.09941</td></tr></tbody></table></div>"
      ],
      "text/plain": [
       "shape: (5, 5)\n",
       "┌─────────────┬────────┬───────────────────┬───────────┬───────────┐\n",
       "│ PATIENT_NUM ┆ ZIP_CD ┆ Indicator         ┆ PERIOD    ┆ FACT      │\n",
       "│ ---         ┆ ---    ┆ ---               ┆ ---       ┆ ---       │\n",
       "│ i64         ┆ str    ┆ str               ┆ str       ┆ f32       │\n",
       "╞═════════════╪════════╪═══════════════════╪═══════════╪═══════════╡\n",
       "│ 556         ┆ 95519  ┆ ACS_GINI          ┆ 2016-2020 ┆ 45.75     │\n",
       "│ 556         ┆ 95519  ┆ ACS_MedHHIncome   ┆ 2016-2020 ┆ 56422.0   │\n",
       "│ 556         ┆ 95519  ┆ ACS_pctCollGrad   ┆ 2016-2020 ┆ 33.120899 │\n",
       "│ 556         ┆ 95519  ┆ ACS_pctPoverty100 ┆ 2016-2020 ┆ 16.0502   │\n",
       "│ 556         ┆ 95519  ┆ ACS_Unemployment  ┆ 2016-2020 ┆ 3.09941   │\n",
       "└─────────────┴────────┴───────────────────┴───────────┴───────────┘"
      ]
     },
     "execution_count": 229,
     "metadata": {},
     "output_type": "execute_result"
    }
   ],
   "source": [
    "community_vital_df.filter(pl.col('PATIENT_NUM')==556).collect()"
   ]
  },
  {
   "cell_type": "code",
   "execution_count": 230,
   "id": "8808319e",
   "metadata": {},
   "outputs": [
    {
     "data": {
      "text/plain": [
       "(5235440, 5)"
      ]
     },
     "execution_count": 230,
     "metadata": {},
     "output_type": "execute_result"
    }
   ],
   "source": [
    "community_vital_df.collect().shape"
   ]
  },
  {
   "cell_type": "code",
   "execution_count": 231,
   "id": "62e941a2",
   "metadata": {},
   "outputs": [
    {
     "data": {
      "text/plain": [
       "1047088"
      ]
     },
     "execution_count": 231,
     "metadata": {},
     "output_type": "execute_result"
    }
   ],
   "source": [
    "len(community_vital_df.unique(subset=[\"PATIENT_NUM\", \"ZIP_CD\"]).collect())"
   ]
  },
  {
   "cell_type": "markdown",
   "id": "3d02ddb8",
   "metadata": {},
   "source": [
    "# SDoH screening data"
   ]
  },
  {
   "cell_type": "code",
   "execution_count": 41,
   "id": "3c16a416",
   "metadata": {},
   "outputs": [],
   "source": [
    "sdoh_screening_df = sdoh_screening_df.with_columns(pl.col('QUANTITY_NUM').cast(pl.Float32).alias('QUANTITY_NUM'))"
   ]
  },
  {
   "cell_type": "code",
   "execution_count": 42,
   "id": "89c91ddc",
   "metadata": {},
   "outputs": [
    {
     "data": {
      "text/html": [
       "<div><style>\n",
       ".dataframe > thead > tr,\n",
       ".dataframe > tbody > tr {\n",
       "  text-align: right;\n",
       "  white-space: pre-wrap;\n",
       "}\n",
       "</style>\n",
       "<small>shape: (5, 5)</small><table border=\"1\" class=\"dataframe\"><thead><tr><th>PATIENT_NUM</th><th>CONCEPT_PATH</th><th>NAME_CHAR</th><th>CONCEPT_CD</th><th>QUANTITY_NUM</th></tr><tr><td>i64</td><td>str</td><td>str</td><td>str</td><td>f32</td></tr></thead><tbody><tr><td>6833020</td><td>&quot;\\i2b2\\SDH\\Food Insecurity\\ADV0…</td><td>&quot;Did your household run out of …</td><td>&quot;SDH:ADV0041&nbsp;&nbsp;&nbsp;&quot;</td><td>0.0</td></tr><tr><td>2240700</td><td>&quot;\\i2b2\\SDH\\Food Insecurity\\ADV0…</td><td>&quot;Did your household run out of …</td><td>&quot;SDH:ADV0041&nbsp;&nbsp;&nbsp;&quot;</td><td>0.0</td></tr><tr><td>2790074</td><td>&quot;\\i2b2\\SDH\\Food Insecurity\\ADV0…</td><td>&quot;Did your household run out of …</td><td>&quot;SDH:ADV0041&nbsp;&nbsp;&nbsp;&quot;</td><td>0.0</td></tr><tr><td>2116451</td><td>&quot;\\i2b2\\SDH\\Food Insecurity\\ADV0…</td><td>&quot;Did your household run out of …</td><td>&quot;SDH:ADV0041&nbsp;&nbsp;&nbsp;&quot;</td><td>0.0</td></tr><tr><td>4102386</td><td>&quot;\\i2b2\\SDH\\Food Insecurity\\ADV0…</td><td>&quot;Did your household run out of …</td><td>&quot;SDH:ADV0041&nbsp;&nbsp;&nbsp;&quot;</td><td>0.0</td></tr></tbody></table></div>"
      ],
      "text/plain": [
       "shape: (5, 5)\n",
       "┌─────────────┬──────────────────┬─────────────────────────────────┬────────────────┬──────────────┐\n",
       "│ PATIENT_NUM ┆ CONCEPT_PATH     ┆ NAME_CHAR                       ┆ CONCEPT_CD     ┆ QUANTITY_NUM │\n",
       "│ ---         ┆ ---              ┆ ---                             ┆ ---            ┆ ---          │\n",
       "│ i64         ┆ str              ┆ str                             ┆ str            ┆ f32          │\n",
       "╞═════════════╪══════════════════╪═════════════════════════════════╪════════════════╪══════════════╡\n",
       "│ 6833020     ┆ \\i2b2\\SDH\\Food   ┆ Did your household run out of … ┆ SDH:ADV0041    ┆ 0.0          │\n",
       "│             ┆ Insecurity\\ADV0… ┆                                 ┆                ┆              │\n",
       "│ 2240700     ┆ \\i2b2\\SDH\\Food   ┆ Did your household run out of … ┆ SDH:ADV0041    ┆ 0.0          │\n",
       "│             ┆ Insecurity\\ADV0… ┆                                 ┆                ┆              │\n",
       "│ 2790074     ┆ \\i2b2\\SDH\\Food   ┆ Did your household run out of … ┆ SDH:ADV0041    ┆ 0.0          │\n",
       "│             ┆ Insecurity\\ADV0… ┆                                 ┆                ┆              │\n",
       "│ 2116451     ┆ \\i2b2\\SDH\\Food   ┆ Did your household run out of … ┆ SDH:ADV0041    ┆ 0.0          │\n",
       "│             ┆ Insecurity\\ADV0… ┆                                 ┆                ┆              │\n",
       "│ 4102386     ┆ \\i2b2\\SDH\\Food   ┆ Did your household run out of … ┆ SDH:ADV0041    ┆ 0.0          │\n",
       "│             ┆ Insecurity\\ADV0… ┆                                 ┆                ┆              │\n",
       "└─────────────┴──────────────────┴─────────────────────────────────┴────────────────┴──────────────┘"
      ]
     },
     "execution_count": 42,
     "metadata": {},
     "output_type": "execute_result"
    }
   ],
   "source": [
    "sdoh_screening_df.head()"
   ]
  },
  {
   "cell_type": "code",
   "execution_count": 44,
   "id": "c7051d08",
   "metadata": {},
   "outputs": [
    {
     "name": "stdout",
     "output_type": "stream",
     "text": [
      "Number of unique patients in SDoH screening data 11447\n",
      "Number of unique answers in SDoH screening data 3\n",
      "Number of unique features in SDoH screening data 50\n"
     ]
    }
   ],
   "source": [
    "print(\"Number of unique patients in SDoH screening data\",len(np.unique(sdoh_screening_df['PATIENT_NUM'].to_list())))\n",
    "print(\"Number of unique answers in SDoH screening data\",len(np.unique(sdoh_screening_df['QUANTITY_NUM'].to_list())))\n",
    "print(\"Number of unique features in SDoH screening data\",len(np.unique(sdoh_screening_df['CONCEPT_CD'].to_list())))"
   ]
  },
  {
   "cell_type": "code",
   "execution_count": 48,
   "id": "b33bd23c",
   "metadata": {},
   "outputs": [
    {
     "data": {
      "text/plain": [
       "array([0., 1., 9.])"
      ]
     },
     "execution_count": 48,
     "metadata": {},
     "output_type": "execute_result"
    }
   ],
   "source": [
    "np.unique(sdoh_screening_df['QUANTITY_NUM'].to_list())"
   ]
  },
  {
   "cell_type": "code",
   "execution_count": 49,
   "id": "4a8e9e11",
   "metadata": {},
   "outputs": [
    {
     "data": {
      "text/html": [
       "<div><style>\n",
       ".dataframe > thead > tr,\n",
       ".dataframe > tbody > tr {\n",
       "  text-align: right;\n",
       "  white-space: pre-wrap;\n",
       "}\n",
       "</style>\n",
       "<small>shape: (5, 51)</small><table border=\"1\" class=\"dataframe\"><thead><tr><th>PATIENT_NUM</th><th>SDH:ADV0041   </th><th>SDH:ADV0046   </th><th>SDH:ADV0051   </th><th>SDH:ADV0042   </th><th>SDH:ADV0047   </th><th>SDH:ADV0048   </th><th>SDH:ADV0052   </th><th>SDH:ADV0050   </th><th>SDH:ADV0055   </th><th>SDH:ADV0049   </th><th>SDH:ADV0043   </th><th>SDH:ADV0054   </th><th>SDH:ADV0053   </th><th>SDH:ADV0056   </th><th>SDH:ADV0070   </th><th>SDH:ADV0071   </th><th>SDH:ADV0044   </th><th>SDH:ADV0078   </th><th>SDH:ADV0073   </th><th>SDH:ADV0086   </th><th>SDH:ADV0093   </th><th>SDH:ADV0095   </th><th>SDH:ADV0067   </th><th>SDH:ADV0074   </th><th>SDH:ADV0075   </th><th>SDH:ADV0076   </th><th>SDH:ADV0088   </th><th>SDH:ADV0069   </th><th>SDH:ADV0072   </th><th>SDH:ADV0068   </th><th>SDH:ADV0089   </th><th>SDH:ADV0077   </th><th>SDH:ADV0079   </th><th>SDH:ADV0080   </th><th>SDH:ADV0085   </th><th>SDH:ADV0081   </th><th>SDH:ADV0082   </th><th>SDH:ADV0087   </th><th>SDH:ADV0083   </th><th>SDH:ADV0084   </th><th>SDH:ADV0090   </th><th>SDH:ADV0091   </th><th>SDH:ADV0092   </th><th>SDH:ADV0094   </th><th>SDH:ADV0247   </th><th>SDH:ADV0248   </th><th>SDH:ADV0249   </th><th>SDH:ADV0250   </th><th>SDH:ADV0400   </th><th>SDH:ADV0401   </th></tr><tr><td>i64</td><td>f32</td><td>f32</td><td>f32</td><td>f32</td><td>f32</td><td>f32</td><td>f32</td><td>f32</td><td>f32</td><td>f32</td><td>f32</td><td>f32</td><td>f32</td><td>f32</td><td>f32</td><td>f32</td><td>f32</td><td>f32</td><td>f32</td><td>f32</td><td>f32</td><td>f32</td><td>f32</td><td>f32</td><td>f32</td><td>f32</td><td>f32</td><td>f32</td><td>f32</td><td>f32</td><td>f32</td><td>f32</td><td>f32</td><td>f32</td><td>f32</td><td>f32</td><td>f32</td><td>f32</td><td>f32</td><td>f32</td><td>f32</td><td>f32</td><td>f32</td><td>f32</td><td>f32</td><td>f32</td><td>f32</td><td>f32</td><td>f32</td><td>f32</td></tr></thead><tbody><tr><td>6833020</td><td>0.0</td><td>9.0</td><td>9.0</td><td>9.0</td><td>9.0</td><td>9.0</td><td>9.0</td><td>9.0</td><td>9.0</td><td>9.0</td><td>9.0</td><td>9.0</td><td>9.0</td><td>9.0</td><td>9.0</td><td>9.0</td><td>9.0</td><td>9.0</td><td>9.0</td><td>9.0</td><td>9.0</td><td>9.0</td><td>9.0</td><td>9.0</td><td>9.0</td><td>9.0</td><td>9.0</td><td>9.0</td><td>9.0</td><td>9.0</td><td>9.0</td><td>9.0</td><td>9.0</td><td>9.0</td><td>9.0</td><td>9.0</td><td>9.0</td><td>9.0</td><td>9.0</td><td>9.0</td><td>9.0</td><td>9.0</td><td>9.0</td><td>9.0</td><td>9.0</td><td>9.0</td><td>9.0</td><td>9.0</td><td>0.0</td><td>9.0</td></tr><tr><td>2240700</td><td>0.0</td><td>9.0</td><td>9.0</td><td>9.0</td><td>9.0</td><td>9.0</td><td>9.0</td><td>9.0</td><td>9.0</td><td>9.0</td><td>9.0</td><td>9.0</td><td>9.0</td><td>9.0</td><td>9.0</td><td>9.0</td><td>9.0</td><td>9.0</td><td>9.0</td><td>9.0</td><td>9.0</td><td>9.0</td><td>9.0</td><td>9.0</td><td>9.0</td><td>9.0</td><td>9.0</td><td>9.0</td><td>9.0</td><td>9.0</td><td>9.0</td><td>9.0</td><td>9.0</td><td>9.0</td><td>9.0</td><td>9.0</td><td>9.0</td><td>9.0</td><td>9.0</td><td>9.0</td><td>9.0</td><td>9.0</td><td>9.0</td><td>9.0</td><td>9.0</td><td>9.0</td><td>9.0</td><td>9.0</td><td>0.0</td><td>9.0</td></tr><tr><td>2790074</td><td>0.0</td><td>9.0</td><td>9.0</td><td>9.0</td><td>9.0</td><td>9.0</td><td>9.0</td><td>9.0</td><td>9.0</td><td>9.0</td><td>9.0</td><td>9.0</td><td>9.0</td><td>9.0</td><td>9.0</td><td>9.0</td><td>9.0</td><td>9.0</td><td>9.0</td><td>9.0</td><td>9.0</td><td>9.0</td><td>9.0</td><td>9.0</td><td>9.0</td><td>9.0</td><td>9.0</td><td>9.0</td><td>9.0</td><td>9.0</td><td>9.0</td><td>9.0</td><td>9.0</td><td>9.0</td><td>9.0</td><td>9.0</td><td>9.0</td><td>9.0</td><td>9.0</td><td>9.0</td><td>9.0</td><td>9.0</td><td>9.0</td><td>9.0</td><td>9.0</td><td>9.0</td><td>9.0</td><td>9.0</td><td>0.0</td><td>9.0</td></tr><tr><td>2116451</td><td>0.0</td><td>9.0</td><td>9.0</td><td>9.0</td><td>9.0</td><td>9.0</td><td>9.0</td><td>9.0</td><td>9.0</td><td>9.0</td><td>9.0</td><td>9.0</td><td>9.0</td><td>9.0</td><td>9.0</td><td>9.0</td><td>9.0</td><td>9.0</td><td>9.0</td><td>9.0</td><td>9.0</td><td>9.0</td><td>9.0</td><td>9.0</td><td>9.0</td><td>9.0</td><td>9.0</td><td>9.0</td><td>9.0</td><td>9.0</td><td>9.0</td><td>9.0</td><td>9.0</td><td>9.0</td><td>9.0</td><td>9.0</td><td>9.0</td><td>9.0</td><td>9.0</td><td>9.0</td><td>9.0</td><td>9.0</td><td>9.0</td><td>9.0</td><td>9.0</td><td>9.0</td><td>9.0</td><td>9.0</td><td>0.0</td><td>9.0</td></tr><tr><td>4102386</td><td>0.0</td><td>9.0</td><td>9.0</td><td>9.0</td><td>9.0</td><td>9.0</td><td>9.0</td><td>9.0</td><td>9.0</td><td>9.0</td><td>9.0</td><td>9.0</td><td>9.0</td><td>9.0</td><td>9.0</td><td>9.0</td><td>9.0</td><td>9.0</td><td>9.0</td><td>9.0</td><td>9.0</td><td>9.0</td><td>9.0</td><td>9.0</td><td>9.0</td><td>9.0</td><td>9.0</td><td>9.0</td><td>9.0</td><td>9.0</td><td>9.0</td><td>9.0</td><td>9.0</td><td>9.0</td><td>9.0</td><td>9.0</td><td>9.0</td><td>9.0</td><td>9.0</td><td>9.0</td><td>9.0</td><td>9.0</td><td>9.0</td><td>9.0</td><td>9.0</td><td>9.0</td><td>9.0</td><td>9.0</td><td>0.0</td><td>9.0</td></tr></tbody></table></div>"
      ],
      "text/plain": [
       "shape: (5, 51)\n",
       "┌───────────┬───────────┬───────────┬───────────┬───┬───────────┬───────────┬───────────┬──────────┐\n",
       "│ PATIENT_N ┆ SDH:ADV00 ┆ SDH:ADV00 ┆ SDH:ADV00 ┆ … ┆ SDH:ADV02 ┆ SDH:ADV02 ┆ SDH:ADV04 ┆ SDH:ADV0 │\n",
       "│ UM        ┆ 41        ┆ 46        ┆ 51        ┆   ┆ 49        ┆ 50        ┆ 00        ┆ 401      │\n",
       "│ ---       ┆ ---       ┆ ---       ┆ ---       ┆   ┆ ---       ┆ ---       ┆ ---       ┆ ---      │\n",
       "│ i64       ┆ f32       ┆ f32       ┆ f32       ┆   ┆ f32       ┆ f32       ┆ f32       ┆ f32      │\n",
       "╞═══════════╪═══════════╪═══════════╪═══════════╪═══╪═══════════╪═══════════╪═══════════╪══════════╡\n",
       "│ 6833020   ┆ 0.0       ┆ 9.0       ┆ 9.0       ┆ … ┆ 9.0       ┆ 9.0       ┆ 0.0       ┆ 9.0      │\n",
       "│ 2240700   ┆ 0.0       ┆ 9.0       ┆ 9.0       ┆ … ┆ 9.0       ┆ 9.0       ┆ 0.0       ┆ 9.0      │\n",
       "│ 2790074   ┆ 0.0       ┆ 9.0       ┆ 9.0       ┆ … ┆ 9.0       ┆ 9.0       ┆ 0.0       ┆ 9.0      │\n",
       "│ 2116451   ┆ 0.0       ┆ 9.0       ┆ 9.0       ┆ … ┆ 9.0       ┆ 9.0       ┆ 0.0       ┆ 9.0      │\n",
       "│ 4102386   ┆ 0.0       ┆ 9.0       ┆ 9.0       ┆ … ┆ 9.0       ┆ 9.0       ┆ 0.0       ┆ 9.0      │\n",
       "└───────────┴───────────┴───────────┴───────────┴───┴───────────┴───────────┴───────────┴──────────┘"
      ]
     },
     "execution_count": 49,
     "metadata": {},
     "output_type": "execute_result"
    }
   ],
   "source": [
    "sdoh_screening_pivot_df = sdoh_screening_df.pivot(on = 'CONCEPT_CD', index = 'PATIENT_NUM', values = 'QUANTITY_NUM', aggregate_function = 'max').fill_null(9)\n",
    "sdoh_screening_pivot_df.head()"
   ]
  },
  {
   "cell_type": "code",
   "execution_count": 55,
   "id": "a2c37a7e",
   "metadata": {},
   "outputs": [
    {
     "data": {
      "text/html": [
       "<div><style>\n",
       ".dataframe > thead > tr,\n",
       ".dataframe > tbody > tr {\n",
       "  text-align: right;\n",
       "  white-space: pre-wrap;\n",
       "}\n",
       "</style>\n",
       "<small>shape: (11_447, 96)</small><table border=\"1\" class=\"dataframe\"><thead><tr><th>SDH:ADV0041   _0.0</th><th>SDH:ADV0041   _1.0</th><th>SDH:ADV0041   _9.0</th><th>SDH:ADV0046   _0.0</th><th>SDH:ADV0046   _1.0</th><th>SDH:ADV0046   _9.0</th><th>SDH:ADV0051   _0.0</th><th>SDH:ADV0051   _1.0</th><th>SDH:ADV0051   _9.0</th><th>SDH:ADV0042   _9.0</th><th>SDH:ADV0047   _0.0</th><th>SDH:ADV0047   _1.0</th><th>SDH:ADV0047   _9.0</th><th>SDH:ADV0048   _0.0</th><th>SDH:ADV0048   _1.0</th><th>SDH:ADV0048   _9.0</th><th>SDH:ADV0052   _0.0</th><th>SDH:ADV0052   _1.0</th><th>SDH:ADV0052   _9.0</th><th>SDH:ADV0050   _0.0</th><th>SDH:ADV0050   _1.0</th><th>SDH:ADV0050   _9.0</th><th>SDH:ADV0055   _9.0</th><th>SDH:ADV0049   _0.0</th><th>SDH:ADV0049   _1.0</th><th>SDH:ADV0049   _9.0</th><th>SDH:ADV0043   _0.0</th><th>SDH:ADV0043   _1.0</th><th>SDH:ADV0043   _9.0</th><th>SDH:ADV0054   _0.0</th><th>SDH:ADV0054   _1.0</th><th>SDH:ADV0054   _9.0</th><th>SDH:ADV0053   _0.0</th><th>SDH:ADV0053   _1.0</th><th>SDH:ADV0053   _9.0</th><th>SDH:ADV0056   _9.0</th><th>SDH:ADV0070   _0.0</th><th>&hellip;</th><th>SDH:ADV0069   _0.0</th><th>SDH:ADV0069   _1.0</th><th>SDH:ADV0069   _9.0</th><th>SDH:ADV0072   _0.0</th><th>SDH:ADV0072   _1.0</th><th>SDH:ADV0072   _9.0</th><th>SDH:ADV0068   _9.0</th><th>SDH:ADV0089   _0.0</th><th>SDH:ADV0089   _1.0</th><th>SDH:ADV0089   _9.0</th><th>SDH:ADV0077   _9.0</th><th>SDH:ADV0079   _9.0</th><th>SDH:ADV0080   _9.0</th><th>SDH:ADV0085   _9.0</th><th>SDH:ADV0081   _9.0</th><th>SDH:ADV0082   _9.0</th><th>SDH:ADV0087   _9.0</th><th>SDH:ADV0083   _0.0</th><th>SDH:ADV0083   _1.0</th><th>SDH:ADV0083   _9.0</th><th>SDH:ADV0084   _0.0</th><th>SDH:ADV0084   _1.0</th><th>SDH:ADV0084   _9.0</th><th>SDH:ADV0090   _9.0</th><th>SDH:ADV0091   _9.0</th><th>SDH:ADV0092   _9.0</th><th>SDH:ADV0094   _9.0</th><th>SDH:ADV0247   _9.0</th><th>SDH:ADV0248   _9.0</th><th>SDH:ADV0249   _9.0</th><th>SDH:ADV0250   _9.0</th><th>SDH:ADV0400   _0.0</th><th>SDH:ADV0400   _1.0</th><th>SDH:ADV0400   _9.0</th><th>SDH:ADV0401   _0.0</th><th>SDH:ADV0401   _1.0</th><th>SDH:ADV0401   _9.0</th></tr><tr><td>u8</td><td>u8</td><td>u8</td><td>u8</td><td>u8</td><td>u8</td><td>u8</td><td>u8</td><td>u8</td><td>u8</td><td>u8</td><td>u8</td><td>u8</td><td>u8</td><td>u8</td><td>u8</td><td>u8</td><td>u8</td><td>u8</td><td>u8</td><td>u8</td><td>u8</td><td>u8</td><td>u8</td><td>u8</td><td>u8</td><td>u8</td><td>u8</td><td>u8</td><td>u8</td><td>u8</td><td>u8</td><td>u8</td><td>u8</td><td>u8</td><td>u8</td><td>u8</td><td>&hellip;</td><td>u8</td><td>u8</td><td>u8</td><td>u8</td><td>u8</td><td>u8</td><td>u8</td><td>u8</td><td>u8</td><td>u8</td><td>u8</td><td>u8</td><td>u8</td><td>u8</td><td>u8</td><td>u8</td><td>u8</td><td>u8</td><td>u8</td><td>u8</td><td>u8</td><td>u8</td><td>u8</td><td>u8</td><td>u8</td><td>u8</td><td>u8</td><td>u8</td><td>u8</td><td>u8</td><td>u8</td><td>u8</td><td>u8</td><td>u8</td><td>u8</td><td>u8</td><td>u8</td></tr></thead><tbody><tr><td>1</td><td>0</td><td>0</td><td>0</td><td>0</td><td>1</td><td>0</td><td>0</td><td>1</td><td>1</td><td>0</td><td>0</td><td>1</td><td>0</td><td>0</td><td>1</td><td>0</td><td>0</td><td>1</td><td>0</td><td>0</td><td>1</td><td>1</td><td>0</td><td>0</td><td>1</td><td>0</td><td>0</td><td>1</td><td>0</td><td>0</td><td>1</td><td>0</td><td>0</td><td>1</td><td>1</td><td>0</td><td>&hellip;</td><td>0</td><td>0</td><td>1</td><td>0</td><td>0</td><td>1</td><td>1</td><td>0</td><td>0</td><td>1</td><td>1</td><td>1</td><td>1</td><td>1</td><td>1</td><td>1</td><td>1</td><td>0</td><td>0</td><td>1</td><td>0</td><td>0</td><td>1</td><td>1</td><td>1</td><td>1</td><td>1</td><td>1</td><td>1</td><td>1</td><td>1</td><td>1</td><td>0</td><td>0</td><td>0</td><td>0</td><td>1</td></tr><tr><td>1</td><td>0</td><td>0</td><td>0</td><td>0</td><td>1</td><td>0</td><td>0</td><td>1</td><td>1</td><td>0</td><td>0</td><td>1</td><td>0</td><td>0</td><td>1</td><td>0</td><td>0</td><td>1</td><td>0</td><td>0</td><td>1</td><td>1</td><td>0</td><td>0</td><td>1</td><td>0</td><td>0</td><td>1</td><td>0</td><td>0</td><td>1</td><td>0</td><td>0</td><td>1</td><td>1</td><td>0</td><td>&hellip;</td><td>0</td><td>0</td><td>1</td><td>0</td><td>0</td><td>1</td><td>1</td><td>0</td><td>0</td><td>1</td><td>1</td><td>1</td><td>1</td><td>1</td><td>1</td><td>1</td><td>1</td><td>0</td><td>0</td><td>1</td><td>0</td><td>0</td><td>1</td><td>1</td><td>1</td><td>1</td><td>1</td><td>1</td><td>1</td><td>1</td><td>1</td><td>1</td><td>0</td><td>0</td><td>0</td><td>0</td><td>1</td></tr><tr><td>1</td><td>0</td><td>0</td><td>0</td><td>0</td><td>1</td><td>0</td><td>0</td><td>1</td><td>1</td><td>0</td><td>0</td><td>1</td><td>0</td><td>0</td><td>1</td><td>0</td><td>0</td><td>1</td><td>0</td><td>0</td><td>1</td><td>1</td><td>0</td><td>0</td><td>1</td><td>0</td><td>0</td><td>1</td><td>0</td><td>0</td><td>1</td><td>0</td><td>0</td><td>1</td><td>1</td><td>0</td><td>&hellip;</td><td>0</td><td>0</td><td>1</td><td>0</td><td>0</td><td>1</td><td>1</td><td>0</td><td>0</td><td>1</td><td>1</td><td>1</td><td>1</td><td>1</td><td>1</td><td>1</td><td>1</td><td>0</td><td>0</td><td>1</td><td>0</td><td>0</td><td>1</td><td>1</td><td>1</td><td>1</td><td>1</td><td>1</td><td>1</td><td>1</td><td>1</td><td>1</td><td>0</td><td>0</td><td>0</td><td>0</td><td>1</td></tr><tr><td>1</td><td>0</td><td>0</td><td>0</td><td>0</td><td>1</td><td>0</td><td>0</td><td>1</td><td>1</td><td>0</td><td>0</td><td>1</td><td>0</td><td>0</td><td>1</td><td>0</td><td>0</td><td>1</td><td>0</td><td>0</td><td>1</td><td>1</td><td>0</td><td>0</td><td>1</td><td>0</td><td>0</td><td>1</td><td>0</td><td>0</td><td>1</td><td>0</td><td>0</td><td>1</td><td>1</td><td>0</td><td>&hellip;</td><td>0</td><td>0</td><td>1</td><td>0</td><td>0</td><td>1</td><td>1</td><td>0</td><td>0</td><td>1</td><td>1</td><td>1</td><td>1</td><td>1</td><td>1</td><td>1</td><td>1</td><td>0</td><td>0</td><td>1</td><td>0</td><td>0</td><td>1</td><td>1</td><td>1</td><td>1</td><td>1</td><td>1</td><td>1</td><td>1</td><td>1</td><td>1</td><td>0</td><td>0</td><td>0</td><td>0</td><td>1</td></tr><tr><td>1</td><td>0</td><td>0</td><td>0</td><td>0</td><td>1</td><td>0</td><td>0</td><td>1</td><td>1</td><td>0</td><td>0</td><td>1</td><td>0</td><td>0</td><td>1</td><td>0</td><td>0</td><td>1</td><td>0</td><td>0</td><td>1</td><td>1</td><td>0</td><td>0</td><td>1</td><td>0</td><td>0</td><td>1</td><td>0</td><td>0</td><td>1</td><td>0</td><td>0</td><td>1</td><td>1</td><td>0</td><td>&hellip;</td><td>0</td><td>0</td><td>1</td><td>0</td><td>0</td><td>1</td><td>1</td><td>0</td><td>0</td><td>1</td><td>1</td><td>1</td><td>1</td><td>1</td><td>1</td><td>1</td><td>1</td><td>0</td><td>0</td><td>1</td><td>0</td><td>0</td><td>1</td><td>1</td><td>1</td><td>1</td><td>1</td><td>1</td><td>1</td><td>1</td><td>1</td><td>1</td><td>0</td><td>0</td><td>0</td><td>0</td><td>1</td></tr><tr><td>&hellip;</td><td>&hellip;</td><td>&hellip;</td><td>&hellip;</td><td>&hellip;</td><td>&hellip;</td><td>&hellip;</td><td>&hellip;</td><td>&hellip;</td><td>&hellip;</td><td>&hellip;</td><td>&hellip;</td><td>&hellip;</td><td>&hellip;</td><td>&hellip;</td><td>&hellip;</td><td>&hellip;</td><td>&hellip;</td><td>&hellip;</td><td>&hellip;</td><td>&hellip;</td><td>&hellip;</td><td>&hellip;</td><td>&hellip;</td><td>&hellip;</td><td>&hellip;</td><td>&hellip;</td><td>&hellip;</td><td>&hellip;</td><td>&hellip;</td><td>&hellip;</td><td>&hellip;</td><td>&hellip;</td><td>&hellip;</td><td>&hellip;</td><td>&hellip;</td><td>&hellip;</td><td>&hellip;</td><td>&hellip;</td><td>&hellip;</td><td>&hellip;</td><td>&hellip;</td><td>&hellip;</td><td>&hellip;</td><td>&hellip;</td><td>&hellip;</td><td>&hellip;</td><td>&hellip;</td><td>&hellip;</td><td>&hellip;</td><td>&hellip;</td><td>&hellip;</td><td>&hellip;</td><td>&hellip;</td><td>&hellip;</td><td>&hellip;</td><td>&hellip;</td><td>&hellip;</td><td>&hellip;</td><td>&hellip;</td><td>&hellip;</td><td>&hellip;</td><td>&hellip;</td><td>&hellip;</td><td>&hellip;</td><td>&hellip;</td><td>&hellip;</td><td>&hellip;</td><td>&hellip;</td><td>&hellip;</td><td>&hellip;</td><td>&hellip;</td><td>&hellip;</td><td>&hellip;</td><td>&hellip;</td></tr><tr><td>0</td><td>0</td><td>1</td><td>0</td><td>0</td><td>1</td><td>0</td><td>0</td><td>1</td><td>1</td><td>0</td><td>0</td><td>1</td><td>0</td><td>0</td><td>1</td><td>0</td><td>0</td><td>1</td><td>0</td><td>0</td><td>1</td><td>1</td><td>0</td><td>0</td><td>1</td><td>0</td><td>0</td><td>1</td><td>0</td><td>0</td><td>1</td><td>0</td><td>0</td><td>1</td><td>1</td><td>0</td><td>&hellip;</td><td>0</td><td>0</td><td>1</td><td>0</td><td>0</td><td>1</td><td>1</td><td>0</td><td>0</td><td>1</td><td>1</td><td>1</td><td>1</td><td>1</td><td>1</td><td>1</td><td>1</td><td>0</td><td>0</td><td>1</td><td>0</td><td>0</td><td>1</td><td>1</td><td>1</td><td>1</td><td>1</td><td>1</td><td>1</td><td>1</td><td>1</td><td>1</td><td>0</td><td>0</td><td>0</td><td>0</td><td>1</td></tr><tr><td>0</td><td>0</td><td>1</td><td>0</td><td>0</td><td>1</td><td>0</td><td>0</td><td>1</td><td>1</td><td>0</td><td>0</td><td>1</td><td>0</td><td>0</td><td>1</td><td>0</td><td>0</td><td>1</td><td>0</td><td>0</td><td>1</td><td>1</td><td>0</td><td>0</td><td>1</td><td>0</td><td>0</td><td>1</td><td>0</td><td>0</td><td>1</td><td>0</td><td>0</td><td>1</td><td>1</td><td>0</td><td>&hellip;</td><td>0</td><td>0</td><td>1</td><td>0</td><td>0</td><td>1</td><td>1</td><td>0</td><td>0</td><td>1</td><td>1</td><td>1</td><td>1</td><td>1</td><td>1</td><td>1</td><td>1</td><td>0</td><td>0</td><td>1</td><td>0</td><td>0</td><td>1</td><td>1</td><td>1</td><td>1</td><td>1</td><td>1</td><td>1</td><td>1</td><td>1</td><td>1</td><td>0</td><td>0</td><td>0</td><td>0</td><td>1</td></tr><tr><td>0</td><td>0</td><td>1</td><td>0</td><td>0</td><td>1</td><td>0</td><td>0</td><td>1</td><td>1</td><td>0</td><td>0</td><td>1</td><td>0</td><td>0</td><td>1</td><td>0</td><td>0</td><td>1</td><td>0</td><td>0</td><td>1</td><td>1</td><td>0</td><td>0</td><td>1</td><td>0</td><td>0</td><td>1</td><td>0</td><td>0</td><td>1</td><td>0</td><td>0</td><td>1</td><td>1</td><td>0</td><td>&hellip;</td><td>0</td><td>0</td><td>1</td><td>0</td><td>0</td><td>1</td><td>1</td><td>0</td><td>0</td><td>1</td><td>1</td><td>1</td><td>1</td><td>1</td><td>1</td><td>1</td><td>1</td><td>0</td><td>0</td><td>1</td><td>0</td><td>0</td><td>1</td><td>1</td><td>1</td><td>1</td><td>1</td><td>1</td><td>1</td><td>1</td><td>1</td><td>1</td><td>0</td><td>0</td><td>0</td><td>0</td><td>1</td></tr><tr><td>0</td><td>0</td><td>1</td><td>0</td><td>0</td><td>1</td><td>0</td><td>0</td><td>1</td><td>1</td><td>0</td><td>0</td><td>1</td><td>0</td><td>0</td><td>1</td><td>0</td><td>0</td><td>1</td><td>0</td><td>0</td><td>1</td><td>1</td><td>0</td><td>0</td><td>1</td><td>0</td><td>0</td><td>1</td><td>0</td><td>0</td><td>1</td><td>0</td><td>0</td><td>1</td><td>1</td><td>0</td><td>&hellip;</td><td>0</td><td>0</td><td>1</td><td>0</td><td>0</td><td>1</td><td>1</td><td>0</td><td>0</td><td>1</td><td>1</td><td>1</td><td>1</td><td>1</td><td>1</td><td>1</td><td>1</td><td>0</td><td>0</td><td>1</td><td>0</td><td>0</td><td>1</td><td>1</td><td>1</td><td>1</td><td>1</td><td>1</td><td>1</td><td>1</td><td>1</td><td>1</td><td>0</td><td>0</td><td>0</td><td>0</td><td>1</td></tr><tr><td>0</td><td>0</td><td>1</td><td>0</td><td>0</td><td>1</td><td>0</td><td>0</td><td>1</td><td>1</td><td>0</td><td>0</td><td>1</td><td>0</td><td>0</td><td>1</td><td>0</td><td>0</td><td>1</td><td>0</td><td>0</td><td>1</td><td>1</td><td>0</td><td>0</td><td>1</td><td>0</td><td>0</td><td>1</td><td>0</td><td>0</td><td>1</td><td>0</td><td>0</td><td>1</td><td>1</td><td>0</td><td>&hellip;</td><td>0</td><td>0</td><td>1</td><td>0</td><td>0</td><td>1</td><td>1</td><td>0</td><td>0</td><td>1</td><td>1</td><td>1</td><td>1</td><td>1</td><td>1</td><td>1</td><td>1</td><td>0</td><td>0</td><td>1</td><td>0</td><td>0</td><td>1</td><td>1</td><td>1</td><td>1</td><td>1</td><td>1</td><td>1</td><td>1</td><td>1</td><td>0</td><td>1</td><td>0</td><td>0</td><td>0</td><td>1</td></tr></tbody></table></div>"
      ],
      "text/plain": [
       "shape: (11_447, 96)\n",
       "┌───────────┬───────────┬───────────┬───────────┬───┬───────────┬───────────┬───────────┬──────────┐\n",
       "│ SDH:ADV00 ┆ SDH:ADV00 ┆ SDH:ADV00 ┆ SDH:ADV00 ┆ … ┆ SDH:ADV04 ┆ SDH:ADV04 ┆ SDH:ADV04 ┆ SDH:ADV0 │\n",
       "│ 41   _0.0 ┆ 41   _1.0 ┆ 41   _9.0 ┆ 46   _0.0 ┆   ┆ 00   _9.0 ┆ 01   _0.0 ┆ 01   _1.0 ┆ 401      │\n",
       "│ ---       ┆ ---       ┆ ---       ┆ ---       ┆   ┆ ---       ┆ ---       ┆ ---       ┆ _9.0     │\n",
       "│ u8        ┆ u8        ┆ u8        ┆ u8        ┆   ┆ u8        ┆ u8        ┆ u8        ┆ ---      │\n",
       "│           ┆           ┆           ┆           ┆   ┆           ┆           ┆           ┆ u8       │\n",
       "╞═══════════╪═══════════╪═══════════╪═══════════╪═══╪═══════════╪═══════════╪═══════════╪══════════╡\n",
       "│ 1         ┆ 0         ┆ 0         ┆ 0         ┆ … ┆ 0         ┆ 0         ┆ 0         ┆ 1        │\n",
       "│ 1         ┆ 0         ┆ 0         ┆ 0         ┆ … ┆ 0         ┆ 0         ┆ 0         ┆ 1        │\n",
       "│ 1         ┆ 0         ┆ 0         ┆ 0         ┆ … ┆ 0         ┆ 0         ┆ 0         ┆ 1        │\n",
       "│ 1         ┆ 0         ┆ 0         ┆ 0         ┆ … ┆ 0         ┆ 0         ┆ 0         ┆ 1        │\n",
       "│ 1         ┆ 0         ┆ 0         ┆ 0         ┆ … ┆ 0         ┆ 0         ┆ 0         ┆ 1        │\n",
       "│ …         ┆ …         ┆ …         ┆ …         ┆ … ┆ …         ┆ …         ┆ …         ┆ …        │\n",
       "│ 0         ┆ 0         ┆ 1         ┆ 0         ┆ … ┆ 0         ┆ 0         ┆ 0         ┆ 1        │\n",
       "│ 0         ┆ 0         ┆ 1         ┆ 0         ┆ … ┆ 0         ┆ 0         ┆ 0         ┆ 1        │\n",
       "│ 0         ┆ 0         ┆ 1         ┆ 0         ┆ … ┆ 0         ┆ 0         ┆ 0         ┆ 1        │\n",
       "│ 0         ┆ 0         ┆ 1         ┆ 0         ┆ … ┆ 0         ┆ 0         ┆ 0         ┆ 1        │\n",
       "│ 0         ┆ 0         ┆ 1         ┆ 0         ┆ … ┆ 0         ┆ 0         ┆ 0         ┆ 1        │\n",
       "└───────────┴───────────┴───────────┴───────────┴───┴───────────┴───────────┴───────────┴──────────┘"
      ]
     },
     "execution_count": 55,
     "metadata": {},
     "output_type": "execute_result"
    }
   ],
   "source": [
    "## Create dummy variable:\n",
    "sdoh_screening_pivot_df_dummies = sdoh_screening_pivot_df.select(sdoh_screening_pivot_df.columns[1:]).to_dummies()\n",
    "sdoh_screening_pivot_df_dummies"
   ]
  },
  {
   "cell_type": "code",
   "execution_count": 56,
   "id": "8ca213ab",
   "metadata": {},
   "outputs": [],
   "source": [
    "sdoh_screening_pivot_modeling_df = pl.concat([sdoh_screening_pivot_df.select('PATIENT_NUM'), sdoh_screening_pivot_df_dummies], how='horizontal')\n"
   ]
  },
  {
   "cell_type": "code",
   "execution_count": 61,
   "id": "7d253936",
   "metadata": {},
   "outputs": [
    {
     "data": {
      "text/plain": [
       "['PATIENT_NUM',\n",
       " 'SDH:ADV0041   _0.0',\n",
       " 'SDH:ADV0041   _1.0',\n",
       " 'SDH:ADV0046   _0.0',\n",
       " 'SDH:ADV0046   _1.0',\n",
       " 'SDH:ADV0051   _0.0',\n",
       " 'SDH:ADV0051   _1.0',\n",
       " 'SDH:ADV0047   _0.0',\n",
       " 'SDH:ADV0047   _1.0',\n",
       " 'SDH:ADV0048   _0.0',\n",
       " 'SDH:ADV0048   _1.0',\n",
       " 'SDH:ADV0052   _0.0',\n",
       " 'SDH:ADV0052   _1.0',\n",
       " 'SDH:ADV0050   _0.0',\n",
       " 'SDH:ADV0050   _1.0',\n",
       " 'SDH:ADV0049   _0.0',\n",
       " 'SDH:ADV0049   _1.0',\n",
       " 'SDH:ADV0043   _0.0',\n",
       " 'SDH:ADV0043   _1.0',\n",
       " 'SDH:ADV0054   _0.0',\n",
       " 'SDH:ADV0054   _1.0',\n",
       " 'SDH:ADV0053   _0.0',\n",
       " 'SDH:ADV0053   _1.0',\n",
       " 'SDH:ADV0070   _0.0',\n",
       " 'SDH:ADV0070   _1.0',\n",
       " 'SDH:ADV0044   _0.0',\n",
       " 'SDH:ADV0044   _1.0',\n",
       " 'SDH:ADV0073   _0.0',\n",
       " 'SDH:ADV0073   _1.0',\n",
       " 'SDH:ADV0067   _0.0',\n",
       " 'SDH:ADV0067   _1.0',\n",
       " 'SDH:ADV0074   _0.0',\n",
       " 'SDH:ADV0074   _1.0',\n",
       " 'SDH:ADV0069   _0.0',\n",
       " 'SDH:ADV0069   _1.0',\n",
       " 'SDH:ADV0072   _0.0',\n",
       " 'SDH:ADV0072   _1.0',\n",
       " 'SDH:ADV0089   _0.0',\n",
       " 'SDH:ADV0089   _1.0',\n",
       " 'SDH:ADV0083   _0.0',\n",
       " 'SDH:ADV0083   _1.0',\n",
       " 'SDH:ADV0084   _0.0',\n",
       " 'SDH:ADV0084   _1.0',\n",
       " 'SDH:ADV0400   _0.0',\n",
       " 'SDH:ADV0400   _1.0',\n",
       " 'SDH:ADV0401   _0.0',\n",
       " 'SDH:ADV0401   _1.0']"
      ]
     },
     "execution_count": 61,
     "metadata": {},
     "output_type": "execute_result"
    }
   ],
   "source": [
    "req_cols = [col for col in sdoh_screening_pivot_modeling_df.columns if not col.endswith('9.0')]\n",
    "req_cols"
   ]
  },
  {
   "cell_type": "code",
   "execution_count": 64,
   "id": "73becb09",
   "metadata": {},
   "outputs": [
    {
     "data": {
      "text/html": [
       "<div><style>\n",
       ".dataframe > thead > tr,\n",
       ".dataframe > tbody > tr {\n",
       "  text-align: right;\n",
       "  white-space: pre-wrap;\n",
       "}\n",
       "</style>\n",
       "<small>shape: (11_447, 47)</small><table border=\"1\" class=\"dataframe\"><thead><tr><th>PATIENT_NUM</th><th>SDH:ADV0041   _0.0</th><th>SDH:ADV0041   _1.0</th><th>SDH:ADV0046   _0.0</th><th>SDH:ADV0046   _1.0</th><th>SDH:ADV0051   _0.0</th><th>SDH:ADV0051   _1.0</th><th>SDH:ADV0047   _0.0</th><th>SDH:ADV0047   _1.0</th><th>SDH:ADV0048   _0.0</th><th>SDH:ADV0048   _1.0</th><th>SDH:ADV0052   _0.0</th><th>SDH:ADV0052   _1.0</th><th>SDH:ADV0050   _0.0</th><th>SDH:ADV0050   _1.0</th><th>SDH:ADV0049   _0.0</th><th>SDH:ADV0049   _1.0</th><th>SDH:ADV0043   _0.0</th><th>SDH:ADV0043   _1.0</th><th>SDH:ADV0054   _0.0</th><th>SDH:ADV0054   _1.0</th><th>SDH:ADV0053   _0.0</th><th>SDH:ADV0053   _1.0</th><th>SDH:ADV0070   _0.0</th><th>SDH:ADV0070   _1.0</th><th>SDH:ADV0044   _0.0</th><th>SDH:ADV0044   _1.0</th><th>SDH:ADV0073   _0.0</th><th>SDH:ADV0073   _1.0</th><th>SDH:ADV0067   _0.0</th><th>SDH:ADV0067   _1.0</th><th>SDH:ADV0074   _0.0</th><th>SDH:ADV0074   _1.0</th><th>SDH:ADV0069   _0.0</th><th>SDH:ADV0069   _1.0</th><th>SDH:ADV0072   _0.0</th><th>SDH:ADV0072   _1.0</th><th>SDH:ADV0089   _0.0</th><th>SDH:ADV0089   _1.0</th><th>SDH:ADV0083   _0.0</th><th>SDH:ADV0083   _1.0</th><th>SDH:ADV0084   _0.0</th><th>SDH:ADV0084   _1.0</th><th>SDH:ADV0400   _0.0</th><th>SDH:ADV0400   _1.0</th><th>SDH:ADV0401   _0.0</th><th>SDH:ADV0401   _1.0</th></tr><tr><td>i64</td><td>u8</td><td>u8</td><td>u8</td><td>u8</td><td>u8</td><td>u8</td><td>u8</td><td>u8</td><td>u8</td><td>u8</td><td>u8</td><td>u8</td><td>u8</td><td>u8</td><td>u8</td><td>u8</td><td>u8</td><td>u8</td><td>u8</td><td>u8</td><td>u8</td><td>u8</td><td>u8</td><td>u8</td><td>u8</td><td>u8</td><td>u8</td><td>u8</td><td>u8</td><td>u8</td><td>u8</td><td>u8</td><td>u8</td><td>u8</td><td>u8</td><td>u8</td><td>u8</td><td>u8</td><td>u8</td><td>u8</td><td>u8</td><td>u8</td><td>u8</td><td>u8</td><td>u8</td><td>u8</td></tr></thead><tbody><tr><td>6833020</td><td>1</td><td>0</td><td>0</td><td>0</td><td>0</td><td>0</td><td>0</td><td>0</td><td>0</td><td>0</td><td>0</td><td>0</td><td>0</td><td>0</td><td>0</td><td>0</td><td>0</td><td>0</td><td>0</td><td>0</td><td>0</td><td>0</td><td>0</td><td>0</td><td>0</td><td>0</td><td>0</td><td>0</td><td>0</td><td>0</td><td>0</td><td>0</td><td>0</td><td>0</td><td>0</td><td>0</td><td>0</td><td>0</td><td>0</td><td>0</td><td>0</td><td>0</td><td>1</td><td>0</td><td>0</td><td>0</td></tr><tr><td>2240700</td><td>1</td><td>0</td><td>0</td><td>0</td><td>0</td><td>0</td><td>0</td><td>0</td><td>0</td><td>0</td><td>0</td><td>0</td><td>0</td><td>0</td><td>0</td><td>0</td><td>0</td><td>0</td><td>0</td><td>0</td><td>0</td><td>0</td><td>0</td><td>0</td><td>0</td><td>0</td><td>0</td><td>0</td><td>0</td><td>0</td><td>0</td><td>0</td><td>0</td><td>0</td><td>0</td><td>0</td><td>0</td><td>0</td><td>0</td><td>0</td><td>0</td><td>0</td><td>1</td><td>0</td><td>0</td><td>0</td></tr><tr><td>2790074</td><td>1</td><td>0</td><td>0</td><td>0</td><td>0</td><td>0</td><td>0</td><td>0</td><td>0</td><td>0</td><td>0</td><td>0</td><td>0</td><td>0</td><td>0</td><td>0</td><td>0</td><td>0</td><td>0</td><td>0</td><td>0</td><td>0</td><td>0</td><td>0</td><td>0</td><td>0</td><td>0</td><td>0</td><td>0</td><td>0</td><td>0</td><td>0</td><td>0</td><td>0</td><td>0</td><td>0</td><td>0</td><td>0</td><td>0</td><td>0</td><td>0</td><td>0</td><td>1</td><td>0</td><td>0</td><td>0</td></tr><tr><td>2116451</td><td>1</td><td>0</td><td>0</td><td>0</td><td>0</td><td>0</td><td>0</td><td>0</td><td>0</td><td>0</td><td>0</td><td>0</td><td>0</td><td>0</td><td>0</td><td>0</td><td>0</td><td>0</td><td>0</td><td>0</td><td>0</td><td>0</td><td>0</td><td>0</td><td>0</td><td>0</td><td>0</td><td>0</td><td>0</td><td>0</td><td>0</td><td>0</td><td>0</td><td>0</td><td>0</td><td>0</td><td>0</td><td>0</td><td>0</td><td>0</td><td>0</td><td>0</td><td>1</td><td>0</td><td>0</td><td>0</td></tr><tr><td>4102386</td><td>1</td><td>0</td><td>0</td><td>0</td><td>0</td><td>0</td><td>0</td><td>0</td><td>0</td><td>0</td><td>0</td><td>0</td><td>0</td><td>0</td><td>0</td><td>0</td><td>0</td><td>0</td><td>0</td><td>0</td><td>0</td><td>0</td><td>0</td><td>0</td><td>0</td><td>0</td><td>0</td><td>0</td><td>0</td><td>0</td><td>0</td><td>0</td><td>0</td><td>0</td><td>0</td><td>0</td><td>0</td><td>0</td><td>0</td><td>0</td><td>0</td><td>0</td><td>1</td><td>0</td><td>0</td><td>0</td></tr><tr><td>&hellip;</td><td>&hellip;</td><td>&hellip;</td><td>&hellip;</td><td>&hellip;</td><td>&hellip;</td><td>&hellip;</td><td>&hellip;</td><td>&hellip;</td><td>&hellip;</td><td>&hellip;</td><td>&hellip;</td><td>&hellip;</td><td>&hellip;</td><td>&hellip;</td><td>&hellip;</td><td>&hellip;</td><td>&hellip;</td><td>&hellip;</td><td>&hellip;</td><td>&hellip;</td><td>&hellip;</td><td>&hellip;</td><td>&hellip;</td><td>&hellip;</td><td>&hellip;</td><td>&hellip;</td><td>&hellip;</td><td>&hellip;</td><td>&hellip;</td><td>&hellip;</td><td>&hellip;</td><td>&hellip;</td><td>&hellip;</td><td>&hellip;</td><td>&hellip;</td><td>&hellip;</td><td>&hellip;</td><td>&hellip;</td><td>&hellip;</td><td>&hellip;</td><td>&hellip;</td><td>&hellip;</td><td>&hellip;</td><td>&hellip;</td><td>&hellip;</td><td>&hellip;</td></tr><tr><td>3981388</td><td>0</td><td>0</td><td>0</td><td>0</td><td>0</td><td>0</td><td>0</td><td>0</td><td>0</td><td>0</td><td>0</td><td>0</td><td>0</td><td>0</td><td>0</td><td>0</td><td>0</td><td>0</td><td>0</td><td>0</td><td>0</td><td>0</td><td>0</td><td>0</td><td>0</td><td>0</td><td>0</td><td>0</td><td>0</td><td>0</td><td>0</td><td>0</td><td>0</td><td>0</td><td>0</td><td>0</td><td>0</td><td>0</td><td>0</td><td>0</td><td>0</td><td>0</td><td>1</td><td>0</td><td>0</td><td>0</td></tr><tr><td>5537882</td><td>0</td><td>0</td><td>0</td><td>0</td><td>0</td><td>0</td><td>0</td><td>0</td><td>0</td><td>0</td><td>0</td><td>0</td><td>0</td><td>0</td><td>0</td><td>0</td><td>0</td><td>0</td><td>0</td><td>0</td><td>0</td><td>0</td><td>0</td><td>0</td><td>0</td><td>0</td><td>0</td><td>0</td><td>0</td><td>0</td><td>0</td><td>0</td><td>0</td><td>0</td><td>0</td><td>0</td><td>0</td><td>0</td><td>0</td><td>0</td><td>0</td><td>0</td><td>1</td><td>0</td><td>0</td><td>0</td></tr><tr><td>709541</td><td>0</td><td>0</td><td>0</td><td>0</td><td>0</td><td>0</td><td>0</td><td>0</td><td>0</td><td>0</td><td>0</td><td>0</td><td>0</td><td>0</td><td>0</td><td>0</td><td>0</td><td>0</td><td>0</td><td>0</td><td>0</td><td>0</td><td>0</td><td>0</td><td>0</td><td>0</td><td>0</td><td>0</td><td>0</td><td>0</td><td>0</td><td>0</td><td>0</td><td>0</td><td>0</td><td>0</td><td>0</td><td>0</td><td>0</td><td>0</td><td>0</td><td>0</td><td>1</td><td>0</td><td>0</td><td>0</td></tr><tr><td>3845854</td><td>0</td><td>0</td><td>0</td><td>0</td><td>0</td><td>0</td><td>0</td><td>0</td><td>0</td><td>0</td><td>0</td><td>0</td><td>0</td><td>0</td><td>0</td><td>0</td><td>0</td><td>0</td><td>0</td><td>0</td><td>0</td><td>0</td><td>0</td><td>0</td><td>0</td><td>0</td><td>0</td><td>0</td><td>0</td><td>0</td><td>0</td><td>0</td><td>0</td><td>0</td><td>0</td><td>0</td><td>0</td><td>0</td><td>0</td><td>0</td><td>0</td><td>0</td><td>1</td><td>0</td><td>0</td><td>0</td></tr><tr><td>4997915</td><td>0</td><td>0</td><td>0</td><td>0</td><td>0</td><td>0</td><td>0</td><td>0</td><td>0</td><td>0</td><td>0</td><td>0</td><td>0</td><td>0</td><td>0</td><td>0</td><td>0</td><td>0</td><td>0</td><td>0</td><td>0</td><td>0</td><td>0</td><td>0</td><td>0</td><td>0</td><td>0</td><td>0</td><td>0</td><td>0</td><td>0</td><td>0</td><td>0</td><td>0</td><td>0</td><td>0</td><td>0</td><td>0</td><td>0</td><td>0</td><td>0</td><td>0</td><td>0</td><td>1</td><td>0</td><td>0</td></tr></tbody></table></div>"
      ],
      "text/plain": [
       "shape: (11_447, 47)\n",
       "┌───────────┬───────────┬───────────┬───────────┬───┬───────────┬───────────┬───────────┬──────────┐\n",
       "│ PATIENT_N ┆ SDH:ADV00 ┆ SDH:ADV00 ┆ SDH:ADV00 ┆ … ┆ SDH:ADV04 ┆ SDH:ADV04 ┆ SDH:ADV04 ┆ SDH:ADV0 │\n",
       "│ UM        ┆ 41   _0.0 ┆ 41   _1.0 ┆ 46   _0.0 ┆   ┆ 00   _0.0 ┆ 00   _1.0 ┆ 01   _0.0 ┆ 401      │\n",
       "│ ---       ┆ ---       ┆ ---       ┆ ---       ┆   ┆ ---       ┆ ---       ┆ ---       ┆ _1.0     │\n",
       "│ i64       ┆ u8        ┆ u8        ┆ u8        ┆   ┆ u8        ┆ u8        ┆ u8        ┆ ---      │\n",
       "│           ┆           ┆           ┆           ┆   ┆           ┆           ┆           ┆ u8       │\n",
       "╞═══════════╪═══════════╪═══════════╪═══════════╪═══╪═══════════╪═══════════╪═══════════╪══════════╡\n",
       "│ 6833020   ┆ 1         ┆ 0         ┆ 0         ┆ … ┆ 1         ┆ 0         ┆ 0         ┆ 0        │\n",
       "│ 2240700   ┆ 1         ┆ 0         ┆ 0         ┆ … ┆ 1         ┆ 0         ┆ 0         ┆ 0        │\n",
       "│ 2790074   ┆ 1         ┆ 0         ┆ 0         ┆ … ┆ 1         ┆ 0         ┆ 0         ┆ 0        │\n",
       "│ 2116451   ┆ 1         ┆ 0         ┆ 0         ┆ … ┆ 1         ┆ 0         ┆ 0         ┆ 0        │\n",
       "│ 4102386   ┆ 1         ┆ 0         ┆ 0         ┆ … ┆ 1         ┆ 0         ┆ 0         ┆ 0        │\n",
       "│ …         ┆ …         ┆ …         ┆ …         ┆ … ┆ …         ┆ …         ┆ …         ┆ …        │\n",
       "│ 3981388   ┆ 0         ┆ 0         ┆ 0         ┆ … ┆ 1         ┆ 0         ┆ 0         ┆ 0        │\n",
       "│ 5537882   ┆ 0         ┆ 0         ┆ 0         ┆ … ┆ 1         ┆ 0         ┆ 0         ┆ 0        │\n",
       "│ 709541    ┆ 0         ┆ 0         ┆ 0         ┆ … ┆ 1         ┆ 0         ┆ 0         ┆ 0        │\n",
       "│ 3845854   ┆ 0         ┆ 0         ┆ 0         ┆ … ┆ 1         ┆ 0         ┆ 0         ┆ 0        │\n",
       "│ 4997915   ┆ 0         ┆ 0         ┆ 0         ┆ … ┆ 0         ┆ 1         ┆ 0         ┆ 0        │\n",
       "└───────────┴───────────┴───────────┴───────────┴───┴───────────┴───────────┴───────────┴──────────┘"
      ]
     },
     "execution_count": 64,
     "metadata": {},
     "output_type": "execute_result"
    }
   ],
   "source": [
    "sdoh_screening_pivot_modeling_df = sdoh_screening_pivot_modeling_df.select(req_cols)\n",
    "sdoh_screening_pivot_modeling_df"
   ]
  },
  {
   "cell_type": "code",
   "execution_count": 65,
   "id": "d6790aba",
   "metadata": {},
   "outputs": [],
   "source": [
    "sdoh_screening_pivot_modeling_df.write_parquet('./Determine_modeling_datasets/Determine_sdoh_screening_pivot.parquet')"
   ]
  },
  {
   "cell_type": "markdown",
   "id": "6b614d81",
   "metadata": {},
   "source": [
    "# Pivoting dataframes for modeling"
   ]
  },
  {
   "cell_type": "code",
   "execution_count": 256,
   "id": "af9a3a46",
   "metadata": {},
   "outputs": [],
   "source": [
    "class pivoting_config:\n",
    "    min_association_patients = 50\n",
    "    diag_phemap_pivot = True\n",
    "    diag_icd_nchars_pivot = True\n"
   ]
  },
  {
   "cell_type": "markdown",
   "id": "59576418",
   "metadata": {},
   "source": [
    "## Medications pivot"
   ]
  },
  {
   "cell_type": "code",
   "execution_count": 232,
   "id": "e360ea98",
   "metadata": {},
   "outputs": [],
   "source": [
    "# Loading the dataset\n",
    "medications_df = pl.read_parquet(\"./Determine_cohort_files/Determine_cohort_medications_active_ing.parquet\")"
   ]
  },
  {
   "cell_type": "code",
   "execution_count": 233,
   "id": "0e2b5163",
   "metadata": {},
   "outputs": [],
   "source": [
    "medications_df = medications_df.with_columns(pl.lit(1).alias('usage'))"
   ]
  },
  {
   "cell_type": "code",
   "execution_count": 234,
   "id": "ae593367",
   "metadata": {},
   "outputs": [
    {
     "data": {
      "text/html": [
       "<div><style>\n",
       ".dataframe > thead > tr,\n",
       ".dataframe > tbody > tr {\n",
       "  text-align: right;\n",
       "  white-space: pre-wrap;\n",
       "}\n",
       "</style>\n",
       "<small>shape: (5, 11)</small><table border=\"1\" class=\"dataframe\"><thead><tr><th>PATIENT_NUM</th><th>ENCOUNTER_NUM</th><th>START_DATE</th><th>RxNorm</th><th>Medication_Name</th><th>RX_StartDate</th><th>RX_Dose_Ordered</th><th>Rx_Dose_Ordered_Unit</th><th>RX_Quantity</th><th>Active_ingrident</th><th>usage</th></tr><tr><td>i64</td><td>i64</td><td>datetime[μs]</td><td>str</td><td>str</td><td>datetime[μs]</td><td>decimal[15,5]</td><td>str</td><td>decimal[15,8]</td><td>str</td><td>i32</td></tr></thead><tbody><tr><td>556</td><td>25455227</td><td>2016-02-12 00:00:00</td><td>&quot;RXNORM:1094104 &quot;</td><td>&quot;Phenazopyridine Hydrochloride …</td><td>2016-02-12 00:00:00</td><td>200.00000</td><td>&quot;mg&quot;</td><td>10.00000000</td><td>&quot;phenazopyridine&quot;</td><td>1</td></tr><tr><td>556</td><td>25455227</td><td>2016-02-12 00:00:00</td><td>&quot;RXNORM:1648755 &quot;</td><td>&quot;Nitrofurantoin, Macrocrystals …</td><td>2016-02-12 00:00:00</td><td>100.00000</td><td>&quot;mg&quot;</td><td>14.00000000</td><td>&quot;nitrofurantoin&quot;</td><td>1</td></tr><tr><td>556</td><td>26227551</td><td>2016-02-01 00:00:00</td><td>&quot;RXNORM:197886&nbsp;&nbsp;&quot;</td><td>&quot;Hydrochlorothiazide 12.5 Mg / …</td><td>2016-02-01 00:00:00</td><td>null</td><td>&quot;NI&quot;</td><td>30.00000000</td><td>&quot;lisinopril_hydrochlorothiazide&quot;</td><td>1</td></tr><tr><td>556</td><td>27284087</td><td>2016-05-03 00:00:00</td><td>&quot;RXNORM:197886&nbsp;&nbsp;&quot;</td><td>&quot;Hydrochlorothiazide 12.5 Mg / …</td><td>2016-05-03 00:00:00</td><td>null</td><td>&quot;NI&quot;</td><td>30.00000000</td><td>&quot;lisinopril_hydrochlorothiazide&quot;</td><td>1</td></tr><tr><td>556</td><td>27284087</td><td>2016-05-03 00:00:00</td><td>&quot;RXNORM:197361&nbsp;&nbsp;&quot;</td><td>&quot;Amlodipine 5 Mg Oral Tablet (1…</td><td>2016-05-03 00:00:00</td><td>5.00000</td><td>&quot;mg&quot;</td><td>30.00000000</td><td>&quot;amlodipine&quot;</td><td>1</td></tr></tbody></table></div>"
      ],
      "text/plain": [
       "shape: (5, 11)\n",
       "┌────────────┬────────────┬────────────┬───────────┬───┬───────────┬───────────┬───────────┬───────┐\n",
       "│ PATIENT_NU ┆ ENCOUNTER_ ┆ START_DATE ┆ RxNorm    ┆ … ┆ Rx_Dose_O ┆ RX_Quanti ┆ Active_in ┆ usage │\n",
       "│ M          ┆ NUM        ┆ ---        ┆ ---       ┆   ┆ rdered_Un ┆ ty        ┆ grident   ┆ ---   │\n",
       "│ ---        ┆ ---        ┆ datetime[μ ┆ str       ┆   ┆ it        ┆ ---       ┆ ---       ┆ i32   │\n",
       "│ i64        ┆ i64        ┆ s]         ┆           ┆   ┆ ---       ┆ decimal[1 ┆ str       ┆       │\n",
       "│            ┆            ┆            ┆           ┆   ┆ str       ┆ 5,8]      ┆           ┆       │\n",
       "╞════════════╪════════════╪════════════╪═══════════╪═══╪═══════════╪═══════════╪═══════════╪═══════╡\n",
       "│ 556        ┆ 25455227   ┆ 2016-02-12 ┆ RXNORM:10 ┆ … ┆ mg        ┆ 10.000000 ┆ phenazopy ┆ 1     │\n",
       "│            ┆            ┆ 00:00:00   ┆ 94104     ┆   ┆           ┆ 00        ┆ ridine    ┆       │\n",
       "│ 556        ┆ 25455227   ┆ 2016-02-12 ┆ RXNORM:16 ┆ … ┆ mg        ┆ 14.000000 ┆ nitrofura ┆ 1     │\n",
       "│            ┆            ┆ 00:00:00   ┆ 48755     ┆   ┆           ┆ 00        ┆ ntoin     ┆       │\n",
       "│ 556        ┆ 26227551   ┆ 2016-02-01 ┆ RXNORM:19 ┆ … ┆ NI        ┆ 30.000000 ┆ lisinopri ┆ 1     │\n",
       "│            ┆            ┆ 00:00:00   ┆ 7886      ┆   ┆           ┆ 00        ┆ l_hydroch ┆       │\n",
       "│            ┆            ┆            ┆           ┆   ┆           ┆           ┆ lorothiaz ┆       │\n",
       "│            ┆            ┆            ┆           ┆   ┆           ┆           ┆ ide       ┆       │\n",
       "│ 556        ┆ 27284087   ┆ 2016-05-03 ┆ RXNORM:19 ┆ … ┆ NI        ┆ 30.000000 ┆ lisinopri ┆ 1     │\n",
       "│            ┆            ┆ 00:00:00   ┆ 7886      ┆   ┆           ┆ 00        ┆ l_hydroch ┆       │\n",
       "│            ┆            ┆            ┆           ┆   ┆           ┆           ┆ lorothiaz ┆       │\n",
       "│            ┆            ┆            ┆           ┆   ┆           ┆           ┆ ide       ┆       │\n",
       "│ 556        ┆ 27284087   ┆ 2016-05-03 ┆ RXNORM:19 ┆ … ┆ mg        ┆ 30.000000 ┆ amlodipin ┆ 1     │\n",
       "│            ┆            ┆ 00:00:00   ┆ 7361      ┆   ┆           ┆ 00        ┆ e         ┆       │\n",
       "└────────────┴────────────┴────────────┴───────────┴───┴───────────┴───────────┴───────────┴───────┘"
      ]
     },
     "execution_count": 234,
     "metadata": {},
     "output_type": "execute_result"
    }
   ],
   "source": [
    "medications_df.head()"
   ]
  },
  {
   "cell_type": "code",
   "execution_count": 235,
   "id": "c909429b",
   "metadata": {},
   "outputs": [],
   "source": [
    "### Pivoting\n",
    "medications_df_pivot = medications_df.pivot(on = 'Active_ingrident', index = 'PATIENT_NUM', values = 'usage', aggregate_function = 'max')"
   ]
  },
  {
   "cell_type": "code",
   "execution_count": 236,
   "id": "2a124757",
   "metadata": {},
   "outputs": [
    {
     "data": {
      "text/html": [
       "<div><style>\n",
       ".dataframe > thead > tr,\n",
       ".dataframe > tbody > tr {\n",
       "  text-align: right;\n",
       "  white-space: pre-wrap;\n",
       "}\n",
       "</style>\n",
       "<small>shape: (5, 1_480)</small><table border=\"1\" class=\"dataframe\"><thead><tr><th>PATIENT_NUM</th><th>phenazopyridine</th><th>nitrofurantoin</th><th>lisinopril_hydrochlorothiazide</th><th>amlodipine</th><th>cephalexin</th><th>albuterol</th><th>nystatin</th><th>metronidazole</th><th>mometasone_formoterol</th><th>varicella-zoster virus vaccine live (Oka-Merck) strain</th><th>potassium chloride</th><th>chlorthalidone</th><th>ketorolac</th><th>azithromycin</th><th>triamcinolone</th><th>gabapentin</th><th>acetaminophen_hydrocodone</th><th>capsaicin</th><th>naproxen</th><th>tramadol</th><th>ibuprofen</th><th>codeine_promethazine</th><th>omeprazole</th><th>clotrimazole</th><th>lorazepam</th><th>fluticasone</th><th>calcium carbonate</th><th>loratadine</th><th>paroxetine</th><th>cholecalciferol</th><th>aluminum chloride</th><th>penicillin G</th><th>sulfamethoxazole_trimethoprim</th><th>ondansetron</th><th>doxylamine_pyridoxine</th><th>folic acid</th><th>&hellip;</th><th>chlorpheniramine_codeine_pseudoephedrine</th><th>nabilone</th><th>zinc acetate</th><th>vitamin B12_ascorbic acid_iron carbonyl_folic acid_docusate</th><th>thioguanine</th><th>carbinoxamine</th><th>ketamine</th><th>rx_cui:1303740</th><th>ammonia</th><th>tyrosine</th><th>sodium phosphate</th><th>rx_cui:1150087</th><th>factor VIII</th><th>ethanol</th><th>fingolimod</th><th>rx_cui:1247404</th><th>icatibant</th><th>rx_cui:1356525</th><th>polysaccharide iron complex_vitamin B12_folic acid_heme iron polypeptide</th><th>rx_cui:856892</th><th>rx_cui:313409</th><th>poliovirus vaccine inactivated, type 1 (Mahoney)_poliovirus vaccine inactivated, type 2 (MEF-1)_poliovirus vaccine inactivated, type 3 (Saukett)_acellular pertussis vaccine, inactivated_diphtheria toxoid vaccine, inactivated_tetanus toxoid vaccine, inactivated</th><th>rx_cui:198725</th><th>rx_cui:1249797</th><th>rx_cui:966545</th><th>dexbrompheniramine_pseudoephedrine</th><th>benzethonium_benzocaine</th><th>rx_cui:237778</th><th>rx_cui:2174531</th><th>rx_cui:204969</th><th>rx_cui:310468</th><th>ganirelix</th><th>follicle stimulating hormone_luteinizing hormone</th><th>aztreonam</th><th>isoniazid_rifampin</th><th>lactate_calcium chloride_glucose_potassium chloride_sodium chloride</th><th>glucose_potassium chloride_sodium chloride</th></tr><tr><td>i64</td><td>i32</td><td>i32</td><td>i32</td><td>i32</td><td>i32</td><td>i32</td><td>i32</td><td>i32</td><td>i32</td><td>i32</td><td>i32</td><td>i32</td><td>i32</td><td>i32</td><td>i32</td><td>i32</td><td>i32</td><td>i32</td><td>i32</td><td>i32</td><td>i32</td><td>i32</td><td>i32</td><td>i32</td><td>i32</td><td>i32</td><td>i32</td><td>i32</td><td>i32</td><td>i32</td><td>i32</td><td>i32</td><td>i32</td><td>i32</td><td>i32</td><td>i32</td><td>&hellip;</td><td>i32</td><td>i32</td><td>i32</td><td>i32</td><td>i32</td><td>i32</td><td>i32</td><td>i32</td><td>i32</td><td>i32</td><td>i32</td><td>i32</td><td>i32</td><td>i32</td><td>i32</td><td>i32</td><td>i32</td><td>i32</td><td>i32</td><td>i32</td><td>i32</td><td>i32</td><td>i32</td><td>i32</td><td>i32</td><td>i32</td><td>i32</td><td>i32</td><td>i32</td><td>i32</td><td>i32</td><td>i32</td><td>i32</td><td>i32</td><td>i32</td><td>i32</td><td>i32</td></tr></thead><tbody><tr><td>556</td><td>1</td><td>1</td><td>1</td><td>1</td><td>null</td><td>null</td><td>null</td><td>null</td><td>null</td><td>null</td><td>null</td><td>null</td><td>null</td><td>null</td><td>null</td><td>null</td><td>null</td><td>null</td><td>null</td><td>null</td><td>null</td><td>null</td><td>null</td><td>null</td><td>null</td><td>null</td><td>null</td><td>null</td><td>null</td><td>null</td><td>null</td><td>null</td><td>null</td><td>null</td><td>null</td><td>null</td><td>&hellip;</td><td>null</td><td>null</td><td>null</td><td>null</td><td>null</td><td>null</td><td>null</td><td>null</td><td>null</td><td>null</td><td>null</td><td>null</td><td>null</td><td>null</td><td>null</td><td>null</td><td>null</td><td>null</td><td>null</td><td>null</td><td>null</td><td>null</td><td>null</td><td>null</td><td>null</td><td>null</td><td>null</td><td>null</td><td>null</td><td>null</td><td>null</td><td>null</td><td>null</td><td>null</td><td>null</td><td>null</td><td>null</td></tr><tr><td>560</td><td>null</td><td>null</td><td>null</td><td>null</td><td>1</td><td>1</td><td>1</td><td>null</td><td>null</td><td>null</td><td>null</td><td>null</td><td>null</td><td>null</td><td>null</td><td>null</td><td>null</td><td>null</td><td>null</td><td>null</td><td>null</td><td>null</td><td>null</td><td>null</td><td>null</td><td>null</td><td>null</td><td>null</td><td>null</td><td>null</td><td>null</td><td>null</td><td>null</td><td>null</td><td>null</td><td>null</td><td>&hellip;</td><td>null</td><td>null</td><td>null</td><td>null</td><td>null</td><td>null</td><td>null</td><td>null</td><td>null</td><td>null</td><td>null</td><td>null</td><td>null</td><td>null</td><td>null</td><td>null</td><td>null</td><td>null</td><td>null</td><td>null</td><td>null</td><td>null</td><td>null</td><td>null</td><td>null</td><td>null</td><td>null</td><td>null</td><td>null</td><td>null</td><td>null</td><td>null</td><td>null</td><td>null</td><td>null</td><td>null</td><td>null</td></tr><tr><td>561</td><td>null</td><td>null</td><td>null</td><td>null</td><td>null</td><td>null</td><td>null</td><td>1</td><td>null</td><td>null</td><td>null</td><td>null</td><td>null</td><td>null</td><td>null</td><td>null</td><td>null</td><td>null</td><td>null</td><td>null</td><td>null</td><td>null</td><td>null</td><td>null</td><td>null</td><td>null</td><td>null</td><td>null</td><td>null</td><td>null</td><td>null</td><td>null</td><td>null</td><td>null</td><td>null</td><td>null</td><td>&hellip;</td><td>null</td><td>null</td><td>null</td><td>null</td><td>null</td><td>null</td><td>null</td><td>null</td><td>null</td><td>null</td><td>null</td><td>null</td><td>null</td><td>null</td><td>null</td><td>null</td><td>null</td><td>null</td><td>null</td><td>null</td><td>null</td><td>null</td><td>null</td><td>null</td><td>null</td><td>null</td><td>null</td><td>null</td><td>null</td><td>null</td><td>null</td><td>null</td><td>null</td><td>null</td><td>null</td><td>null</td><td>null</td></tr><tr><td>562</td><td>null</td><td>null</td><td>null</td><td>null</td><td>null</td><td>null</td><td>null</td><td>null</td><td>1</td><td>1</td><td>1</td><td>1</td><td>null</td><td>null</td><td>null</td><td>null</td><td>null</td><td>null</td><td>null</td><td>null</td><td>null</td><td>null</td><td>null</td><td>null</td><td>null</td><td>null</td><td>null</td><td>null</td><td>null</td><td>null</td><td>null</td><td>null</td><td>null</td><td>null</td><td>null</td><td>null</td><td>&hellip;</td><td>null</td><td>null</td><td>null</td><td>null</td><td>null</td><td>null</td><td>null</td><td>null</td><td>null</td><td>null</td><td>null</td><td>null</td><td>null</td><td>null</td><td>null</td><td>null</td><td>null</td><td>null</td><td>null</td><td>null</td><td>null</td><td>null</td><td>null</td><td>null</td><td>null</td><td>null</td><td>null</td><td>null</td><td>null</td><td>null</td><td>null</td><td>null</td><td>null</td><td>null</td><td>null</td><td>null</td><td>null</td></tr><tr><td>564</td><td>null</td><td>null</td><td>null</td><td>null</td><td>null</td><td>1</td><td>null</td><td>null</td><td>null</td><td>null</td><td>null</td><td>null</td><td>1</td><td>1</td><td>1</td><td>1</td><td>1</td><td>1</td><td>1</td><td>1</td><td>1</td><td>1</td><td>null</td><td>null</td><td>null</td><td>null</td><td>null</td><td>null</td><td>null</td><td>null</td><td>null</td><td>null</td><td>null</td><td>null</td><td>null</td><td>null</td><td>&hellip;</td><td>null</td><td>null</td><td>null</td><td>null</td><td>null</td><td>null</td><td>null</td><td>null</td><td>null</td><td>null</td><td>null</td><td>null</td><td>null</td><td>null</td><td>null</td><td>null</td><td>null</td><td>null</td><td>null</td><td>null</td><td>null</td><td>null</td><td>null</td><td>null</td><td>null</td><td>null</td><td>null</td><td>null</td><td>null</td><td>null</td><td>null</td><td>null</td><td>null</td><td>null</td><td>null</td><td>null</td><td>null</td></tr></tbody></table></div>"
      ],
      "text/plain": [
       "shape: (5, 1_480)\n",
       "┌───────────┬───────────┬───────────┬───────────┬───┬───────────┬───────────┬───────────┬──────────┐\n",
       "│ PATIENT_N ┆ phenazopy ┆ nitrofura ┆ lisinopri ┆ … ┆ aztreonam ┆ isoniazid ┆ lactate_c ┆ glucose_ │\n",
       "│ UM        ┆ ridine    ┆ ntoin     ┆ l_hydroch ┆   ┆ ---       ┆ _rifampin ┆ alcium    ┆ potassiu │\n",
       "│ ---       ┆ ---       ┆ ---       ┆ lorothiaz ┆   ┆ i32       ┆ ---       ┆ chloride_ ┆ m chlori │\n",
       "│ i64       ┆ i32       ┆ i32       ┆ ide       ┆   ┆           ┆ i32       ┆ gluco…    ┆ de_sod…  │\n",
       "│           ┆           ┆           ┆ ---       ┆   ┆           ┆           ┆ ---       ┆ ---      │\n",
       "│           ┆           ┆           ┆ i32       ┆   ┆           ┆           ┆ i32       ┆ i32      │\n",
       "╞═══════════╪═══════════╪═══════════╪═══════════╪═══╪═══════════╪═══════════╪═══════════╪══════════╡\n",
       "│ 556       ┆ 1         ┆ 1         ┆ 1         ┆ … ┆ null      ┆ null      ┆ null      ┆ null     │\n",
       "│ 560       ┆ null      ┆ null      ┆ null      ┆ … ┆ null      ┆ null      ┆ null      ┆ null     │\n",
       "│ 561       ┆ null      ┆ null      ┆ null      ┆ … ┆ null      ┆ null      ┆ null      ┆ null     │\n",
       "│ 562       ┆ null      ┆ null      ┆ null      ┆ … ┆ null      ┆ null      ┆ null      ┆ null     │\n",
       "│ 564       ┆ null      ┆ null      ┆ null      ┆ … ┆ null      ┆ null      ┆ null      ┆ null     │\n",
       "└───────────┴───────────┴───────────┴───────────┴───┴───────────┴───────────┴───────────┴──────────┘"
      ]
     },
     "execution_count": 236,
     "metadata": {},
     "output_type": "execute_result"
    }
   ],
   "source": [
    "medications_df_pivot.head()"
   ]
  },
  {
   "cell_type": "code",
   "execution_count": 237,
   "id": "4ce6af88",
   "metadata": {},
   "outputs": [],
   "source": [
    "medications_df_pivot = medications_df_pivot.fill_null(0)"
   ]
  },
  {
   "cell_type": "code",
   "execution_count": 238,
   "id": "9451b58e",
   "metadata": {},
   "outputs": [
    {
     "data": {
      "text/html": [
       "<div><style>\n",
       ".dataframe > thead > tr,\n",
       ".dataframe > tbody > tr {\n",
       "  text-align: right;\n",
       "  white-space: pre-wrap;\n",
       "}\n",
       "</style>\n",
       "<small>shape: (5, 1_480)</small><table border=\"1\" class=\"dataframe\"><thead><tr><th>PATIENT_NUM</th><th>phenazopyridine</th><th>nitrofurantoin</th><th>lisinopril_hydrochlorothiazide</th><th>amlodipine</th><th>cephalexin</th><th>albuterol</th><th>nystatin</th><th>metronidazole</th><th>mometasone_formoterol</th><th>varicella-zoster virus vaccine live (Oka-Merck) strain</th><th>potassium chloride</th><th>chlorthalidone</th><th>ketorolac</th><th>azithromycin</th><th>triamcinolone</th><th>gabapentin</th><th>acetaminophen_hydrocodone</th><th>capsaicin</th><th>naproxen</th><th>tramadol</th><th>ibuprofen</th><th>codeine_promethazine</th><th>omeprazole</th><th>clotrimazole</th><th>lorazepam</th><th>fluticasone</th><th>calcium carbonate</th><th>loratadine</th><th>paroxetine</th><th>cholecalciferol</th><th>aluminum chloride</th><th>penicillin G</th><th>sulfamethoxazole_trimethoprim</th><th>ondansetron</th><th>doxylamine_pyridoxine</th><th>folic acid</th><th>&hellip;</th><th>chlorpheniramine_codeine_pseudoephedrine</th><th>nabilone</th><th>zinc acetate</th><th>vitamin B12_ascorbic acid_iron carbonyl_folic acid_docusate</th><th>thioguanine</th><th>carbinoxamine</th><th>ketamine</th><th>rx_cui:1303740</th><th>ammonia</th><th>tyrosine</th><th>sodium phosphate</th><th>rx_cui:1150087</th><th>factor VIII</th><th>ethanol</th><th>fingolimod</th><th>rx_cui:1247404</th><th>icatibant</th><th>rx_cui:1356525</th><th>polysaccharide iron complex_vitamin B12_folic acid_heme iron polypeptide</th><th>rx_cui:856892</th><th>rx_cui:313409</th><th>poliovirus vaccine inactivated, type 1 (Mahoney)_poliovirus vaccine inactivated, type 2 (MEF-1)_poliovirus vaccine inactivated, type 3 (Saukett)_acellular pertussis vaccine, inactivated_diphtheria toxoid vaccine, inactivated_tetanus toxoid vaccine, inactivated</th><th>rx_cui:198725</th><th>rx_cui:1249797</th><th>rx_cui:966545</th><th>dexbrompheniramine_pseudoephedrine</th><th>benzethonium_benzocaine</th><th>rx_cui:237778</th><th>rx_cui:2174531</th><th>rx_cui:204969</th><th>rx_cui:310468</th><th>ganirelix</th><th>follicle stimulating hormone_luteinizing hormone</th><th>aztreonam</th><th>isoniazid_rifampin</th><th>lactate_calcium chloride_glucose_potassium chloride_sodium chloride</th><th>glucose_potassium chloride_sodium chloride</th></tr><tr><td>i64</td><td>i32</td><td>i32</td><td>i32</td><td>i32</td><td>i32</td><td>i32</td><td>i32</td><td>i32</td><td>i32</td><td>i32</td><td>i32</td><td>i32</td><td>i32</td><td>i32</td><td>i32</td><td>i32</td><td>i32</td><td>i32</td><td>i32</td><td>i32</td><td>i32</td><td>i32</td><td>i32</td><td>i32</td><td>i32</td><td>i32</td><td>i32</td><td>i32</td><td>i32</td><td>i32</td><td>i32</td><td>i32</td><td>i32</td><td>i32</td><td>i32</td><td>i32</td><td>&hellip;</td><td>i32</td><td>i32</td><td>i32</td><td>i32</td><td>i32</td><td>i32</td><td>i32</td><td>i32</td><td>i32</td><td>i32</td><td>i32</td><td>i32</td><td>i32</td><td>i32</td><td>i32</td><td>i32</td><td>i32</td><td>i32</td><td>i32</td><td>i32</td><td>i32</td><td>i32</td><td>i32</td><td>i32</td><td>i32</td><td>i32</td><td>i32</td><td>i32</td><td>i32</td><td>i32</td><td>i32</td><td>i32</td><td>i32</td><td>i32</td><td>i32</td><td>i32</td><td>i32</td></tr></thead><tbody><tr><td>556</td><td>1</td><td>1</td><td>1</td><td>1</td><td>0</td><td>0</td><td>0</td><td>0</td><td>0</td><td>0</td><td>0</td><td>0</td><td>0</td><td>0</td><td>0</td><td>0</td><td>0</td><td>0</td><td>0</td><td>0</td><td>0</td><td>0</td><td>0</td><td>0</td><td>0</td><td>0</td><td>0</td><td>0</td><td>0</td><td>0</td><td>0</td><td>0</td><td>0</td><td>0</td><td>0</td><td>0</td><td>&hellip;</td><td>0</td><td>0</td><td>0</td><td>0</td><td>0</td><td>0</td><td>0</td><td>0</td><td>0</td><td>0</td><td>0</td><td>0</td><td>0</td><td>0</td><td>0</td><td>0</td><td>0</td><td>0</td><td>0</td><td>0</td><td>0</td><td>0</td><td>0</td><td>0</td><td>0</td><td>0</td><td>0</td><td>0</td><td>0</td><td>0</td><td>0</td><td>0</td><td>0</td><td>0</td><td>0</td><td>0</td><td>0</td></tr><tr><td>560</td><td>0</td><td>0</td><td>0</td><td>0</td><td>1</td><td>1</td><td>1</td><td>0</td><td>0</td><td>0</td><td>0</td><td>0</td><td>0</td><td>0</td><td>0</td><td>0</td><td>0</td><td>0</td><td>0</td><td>0</td><td>0</td><td>0</td><td>0</td><td>0</td><td>0</td><td>0</td><td>0</td><td>0</td><td>0</td><td>0</td><td>0</td><td>0</td><td>0</td><td>0</td><td>0</td><td>0</td><td>&hellip;</td><td>0</td><td>0</td><td>0</td><td>0</td><td>0</td><td>0</td><td>0</td><td>0</td><td>0</td><td>0</td><td>0</td><td>0</td><td>0</td><td>0</td><td>0</td><td>0</td><td>0</td><td>0</td><td>0</td><td>0</td><td>0</td><td>0</td><td>0</td><td>0</td><td>0</td><td>0</td><td>0</td><td>0</td><td>0</td><td>0</td><td>0</td><td>0</td><td>0</td><td>0</td><td>0</td><td>0</td><td>0</td></tr><tr><td>561</td><td>0</td><td>0</td><td>0</td><td>0</td><td>0</td><td>0</td><td>0</td><td>1</td><td>0</td><td>0</td><td>0</td><td>0</td><td>0</td><td>0</td><td>0</td><td>0</td><td>0</td><td>0</td><td>0</td><td>0</td><td>0</td><td>0</td><td>0</td><td>0</td><td>0</td><td>0</td><td>0</td><td>0</td><td>0</td><td>0</td><td>0</td><td>0</td><td>0</td><td>0</td><td>0</td><td>0</td><td>&hellip;</td><td>0</td><td>0</td><td>0</td><td>0</td><td>0</td><td>0</td><td>0</td><td>0</td><td>0</td><td>0</td><td>0</td><td>0</td><td>0</td><td>0</td><td>0</td><td>0</td><td>0</td><td>0</td><td>0</td><td>0</td><td>0</td><td>0</td><td>0</td><td>0</td><td>0</td><td>0</td><td>0</td><td>0</td><td>0</td><td>0</td><td>0</td><td>0</td><td>0</td><td>0</td><td>0</td><td>0</td><td>0</td></tr><tr><td>562</td><td>0</td><td>0</td><td>0</td><td>0</td><td>0</td><td>0</td><td>0</td><td>0</td><td>1</td><td>1</td><td>1</td><td>1</td><td>0</td><td>0</td><td>0</td><td>0</td><td>0</td><td>0</td><td>0</td><td>0</td><td>0</td><td>0</td><td>0</td><td>0</td><td>0</td><td>0</td><td>0</td><td>0</td><td>0</td><td>0</td><td>0</td><td>0</td><td>0</td><td>0</td><td>0</td><td>0</td><td>&hellip;</td><td>0</td><td>0</td><td>0</td><td>0</td><td>0</td><td>0</td><td>0</td><td>0</td><td>0</td><td>0</td><td>0</td><td>0</td><td>0</td><td>0</td><td>0</td><td>0</td><td>0</td><td>0</td><td>0</td><td>0</td><td>0</td><td>0</td><td>0</td><td>0</td><td>0</td><td>0</td><td>0</td><td>0</td><td>0</td><td>0</td><td>0</td><td>0</td><td>0</td><td>0</td><td>0</td><td>0</td><td>0</td></tr><tr><td>564</td><td>0</td><td>0</td><td>0</td><td>0</td><td>0</td><td>1</td><td>0</td><td>0</td><td>0</td><td>0</td><td>0</td><td>0</td><td>1</td><td>1</td><td>1</td><td>1</td><td>1</td><td>1</td><td>1</td><td>1</td><td>1</td><td>1</td><td>0</td><td>0</td><td>0</td><td>0</td><td>0</td><td>0</td><td>0</td><td>0</td><td>0</td><td>0</td><td>0</td><td>0</td><td>0</td><td>0</td><td>&hellip;</td><td>0</td><td>0</td><td>0</td><td>0</td><td>0</td><td>0</td><td>0</td><td>0</td><td>0</td><td>0</td><td>0</td><td>0</td><td>0</td><td>0</td><td>0</td><td>0</td><td>0</td><td>0</td><td>0</td><td>0</td><td>0</td><td>0</td><td>0</td><td>0</td><td>0</td><td>0</td><td>0</td><td>0</td><td>0</td><td>0</td><td>0</td><td>0</td><td>0</td><td>0</td><td>0</td><td>0</td><td>0</td></tr></tbody></table></div>"
      ],
      "text/plain": [
       "shape: (5, 1_480)\n",
       "┌───────────┬───────────┬───────────┬───────────┬───┬───────────┬───────────┬───────────┬──────────┐\n",
       "│ PATIENT_N ┆ phenazopy ┆ nitrofura ┆ lisinopri ┆ … ┆ aztreonam ┆ isoniazid ┆ lactate_c ┆ glucose_ │\n",
       "│ UM        ┆ ridine    ┆ ntoin     ┆ l_hydroch ┆   ┆ ---       ┆ _rifampin ┆ alcium    ┆ potassiu │\n",
       "│ ---       ┆ ---       ┆ ---       ┆ lorothiaz ┆   ┆ i32       ┆ ---       ┆ chloride_ ┆ m chlori │\n",
       "│ i64       ┆ i32       ┆ i32       ┆ ide       ┆   ┆           ┆ i32       ┆ gluco…    ┆ de_sod…  │\n",
       "│           ┆           ┆           ┆ ---       ┆   ┆           ┆           ┆ ---       ┆ ---      │\n",
       "│           ┆           ┆           ┆ i32       ┆   ┆           ┆           ┆ i32       ┆ i32      │\n",
       "╞═══════════╪═══════════╪═══════════╪═══════════╪═══╪═══════════╪═══════════╪═══════════╪══════════╡\n",
       "│ 556       ┆ 1         ┆ 1         ┆ 1         ┆ … ┆ 0         ┆ 0         ┆ 0         ┆ 0        │\n",
       "│ 560       ┆ 0         ┆ 0         ┆ 0         ┆ … ┆ 0         ┆ 0         ┆ 0         ┆ 0        │\n",
       "│ 561       ┆ 0         ┆ 0         ┆ 0         ┆ … ┆ 0         ┆ 0         ┆ 0         ┆ 0        │\n",
       "│ 562       ┆ 0         ┆ 0         ┆ 0         ┆ … ┆ 0         ┆ 0         ┆ 0         ┆ 0        │\n",
       "│ 564       ┆ 0         ┆ 0         ┆ 0         ┆ … ┆ 0         ┆ 0         ┆ 0         ┆ 0        │\n",
       "└───────────┴───────────┴───────────┴───────────┴───┴───────────┴───────────┴───────────┴──────────┘"
      ]
     },
     "execution_count": 238,
     "metadata": {},
     "output_type": "execute_result"
    }
   ],
   "source": [
    "medications_df_pivot.head()"
   ]
  },
  {
   "cell_type": "code",
   "execution_count": 239,
   "id": "8e9a05e1",
   "metadata": {},
   "outputs": [
    {
     "data": {
      "text/html": [
       "<div><style>\n",
       ".dataframe > thead > tr,\n",
       ".dataframe > tbody > tr {\n",
       "  text-align: right;\n",
       "  white-space: pre-wrap;\n",
       "}\n",
       "</style>\n",
       "<small>shape: (1, 1_480)</small><table border=\"1\" class=\"dataframe\"><thead><tr><th>PATIENT_NUM</th><th>phenazopyridine</th><th>nitrofurantoin</th><th>lisinopril_hydrochlorothiazide</th><th>amlodipine</th><th>cephalexin</th><th>albuterol</th><th>nystatin</th><th>metronidazole</th><th>mometasone_formoterol</th><th>varicella-zoster virus vaccine live (Oka-Merck) strain</th><th>potassium chloride</th><th>chlorthalidone</th><th>ketorolac</th><th>azithromycin</th><th>triamcinolone</th><th>gabapentin</th><th>acetaminophen_hydrocodone</th><th>capsaicin</th><th>naproxen</th><th>tramadol</th><th>ibuprofen</th><th>codeine_promethazine</th><th>omeprazole</th><th>clotrimazole</th><th>lorazepam</th><th>fluticasone</th><th>calcium carbonate</th><th>loratadine</th><th>paroxetine</th><th>cholecalciferol</th><th>aluminum chloride</th><th>penicillin G</th><th>sulfamethoxazole_trimethoprim</th><th>ondansetron</th><th>doxylamine_pyridoxine</th><th>folic acid</th><th>&hellip;</th><th>chlorpheniramine_codeine_pseudoephedrine</th><th>nabilone</th><th>zinc acetate</th><th>vitamin B12_ascorbic acid_iron carbonyl_folic acid_docusate</th><th>thioguanine</th><th>carbinoxamine</th><th>ketamine</th><th>rx_cui:1303740</th><th>ammonia</th><th>tyrosine</th><th>sodium phosphate</th><th>rx_cui:1150087</th><th>factor VIII</th><th>ethanol</th><th>fingolimod</th><th>rx_cui:1247404</th><th>icatibant</th><th>rx_cui:1356525</th><th>polysaccharide iron complex_vitamin B12_folic acid_heme iron polypeptide</th><th>rx_cui:856892</th><th>rx_cui:313409</th><th>poliovirus vaccine inactivated, type 1 (Mahoney)_poliovirus vaccine inactivated, type 2 (MEF-1)_poliovirus vaccine inactivated, type 3 (Saukett)_acellular pertussis vaccine, inactivated_diphtheria toxoid vaccine, inactivated_tetanus toxoid vaccine, inactivated</th><th>rx_cui:198725</th><th>rx_cui:1249797</th><th>rx_cui:966545</th><th>dexbrompheniramine_pseudoephedrine</th><th>benzethonium_benzocaine</th><th>rx_cui:237778</th><th>rx_cui:2174531</th><th>rx_cui:204969</th><th>rx_cui:310468</th><th>ganirelix</th><th>follicle stimulating hormone_luteinizing hormone</th><th>aztreonam</th><th>isoniazid_rifampin</th><th>lactate_calcium chloride_glucose_potassium chloride_sodium chloride</th><th>glucose_potassium chloride_sodium chloride</th></tr><tr><td>u32</td><td>u32</td><td>u32</td><td>u32</td><td>u32</td><td>u32</td><td>u32</td><td>u32</td><td>u32</td><td>u32</td><td>u32</td><td>u32</td><td>u32</td><td>u32</td><td>u32</td><td>u32</td><td>u32</td><td>u32</td><td>u32</td><td>u32</td><td>u32</td><td>u32</td><td>u32</td><td>u32</td><td>u32</td><td>u32</td><td>u32</td><td>u32</td><td>u32</td><td>u32</td><td>u32</td><td>u32</td><td>u32</td><td>u32</td><td>u32</td><td>u32</td><td>u32</td><td>&hellip;</td><td>u32</td><td>u32</td><td>u32</td><td>u32</td><td>u32</td><td>u32</td><td>u32</td><td>u32</td><td>u32</td><td>u32</td><td>u32</td><td>u32</td><td>u32</td><td>u32</td><td>u32</td><td>u32</td><td>u32</td><td>u32</td><td>u32</td><td>u32</td><td>u32</td><td>u32</td><td>u32</td><td>u32</td><td>u32</td><td>u32</td><td>u32</td><td>u32</td><td>u32</td><td>u32</td><td>u32</td><td>u32</td><td>u32</td><td>u32</td><td>u32</td><td>u32</td><td>u32</td></tr></thead><tbody><tr><td>0</td><td>0</td><td>0</td><td>0</td><td>0</td><td>0</td><td>0</td><td>0</td><td>0</td><td>0</td><td>0</td><td>0</td><td>0</td><td>0</td><td>0</td><td>0</td><td>0</td><td>0</td><td>0</td><td>0</td><td>0</td><td>0</td><td>0</td><td>0</td><td>0</td><td>0</td><td>0</td><td>0</td><td>0</td><td>0</td><td>0</td><td>0</td><td>0</td><td>0</td><td>0</td><td>0</td><td>0</td><td>&hellip;</td><td>0</td><td>0</td><td>0</td><td>0</td><td>0</td><td>0</td><td>0</td><td>0</td><td>0</td><td>0</td><td>0</td><td>0</td><td>0</td><td>0</td><td>0</td><td>0</td><td>0</td><td>0</td><td>0</td><td>0</td><td>0</td><td>0</td><td>0</td><td>0</td><td>0</td><td>0</td><td>0</td><td>0</td><td>0</td><td>0</td><td>0</td><td>0</td><td>0</td><td>0</td><td>0</td><td>0</td><td>0</td></tr></tbody></table></div>"
      ],
      "text/plain": [
       "shape: (1, 1_480)\n",
       "┌───────────┬───────────┬───────────┬───────────┬───┬───────────┬───────────┬───────────┬──────────┐\n",
       "│ PATIENT_N ┆ phenazopy ┆ nitrofura ┆ lisinopri ┆ … ┆ aztreonam ┆ isoniazid ┆ lactate_c ┆ glucose_ │\n",
       "│ UM        ┆ ridine    ┆ ntoin     ┆ l_hydroch ┆   ┆ ---       ┆ _rifampin ┆ alcium    ┆ potassiu │\n",
       "│ ---       ┆ ---       ┆ ---       ┆ lorothiaz ┆   ┆ u32       ┆ ---       ┆ chloride_ ┆ m chlori │\n",
       "│ u32       ┆ u32       ┆ u32       ┆ ide       ┆   ┆           ┆ u32       ┆ gluco…    ┆ de_sod…  │\n",
       "│           ┆           ┆           ┆ ---       ┆   ┆           ┆           ┆ ---       ┆ ---      │\n",
       "│           ┆           ┆           ┆ u32       ┆   ┆           ┆           ┆ u32       ┆ u32      │\n",
       "╞═══════════╪═══════════╪═══════════╪═══════════╪═══╪═══════════╪═══════════╪═══════════╪══════════╡\n",
       "│ 0         ┆ 0         ┆ 0         ┆ 0         ┆ … ┆ 0         ┆ 0         ┆ 0         ┆ 0        │\n",
       "└───────────┴───────────┴───────────┴───────────┴───┴───────────┴───────────┴───────────┴──────────┘"
      ]
     },
     "execution_count": 239,
     "metadata": {},
     "output_type": "execute_result"
    }
   ],
   "source": [
    "medications_df_pivot.null_count().sum()"
   ]
  },
  {
   "cell_type": "code",
   "execution_count": 240,
   "id": "d0e2cd13",
   "metadata": {},
   "outputs": [],
   "source": [
    "medications_df_pivot.write_parquet(\"./Determine_Cohort_files_pivot/Determine_medications_active_ingredients_pivot.parquet\")"
   ]
  },
  {
   "cell_type": "markdown",
   "id": "85e3edeb",
   "metadata": {},
   "source": [
    "## Lab results pivot"
   ]
  },
  {
   "cell_type": "code",
   "execution_count": 248,
   "id": "4c1899ca",
   "metadata": {},
   "outputs": [
    {
     "data": {
      "text/html": [
       "<div><style>\n",
       ".dataframe > thead > tr,\n",
       ".dataframe > tbody > tr {\n",
       "  text-align: right;\n",
       "  white-space: pre-wrap;\n",
       "}\n",
       "</style>\n",
       "<small>shape: (5, 3)</small><table border=\"1\" class=\"dataframe\"><thead><tr><th>PATIENT_NUM</th><th>LabLOINC</th><th>Result_Number</th></tr><tr><td>i64</td><td>str</td><td>f32</td></tr></thead><tbody><tr><td>469479</td><td>&quot;LOINC:704-7&quot;</td><td>0.028</td></tr><tr><td>5906095</td><td>&quot;LOINC:43396-1&quot;</td><td>194.0</td></tr><tr><td>555871</td><td>&quot;LOINC:10834-0&quot;</td><td>3.0</td></tr><tr><td>5468509</td><td>&quot;LOINC:43396-1&quot;</td><td>117.0</td></tr><tr><td>6318519</td><td>&quot;LOINC:48643-1&quot;</td><td>140.5</td></tr></tbody></table></div>"
      ],
      "text/plain": [
       "shape: (5, 3)\n",
       "┌─────────────┬───────────────┬───────────────┐\n",
       "│ PATIENT_NUM ┆ LabLOINC      ┆ Result_Number │\n",
       "│ ---         ┆ ---           ┆ ---           │\n",
       "│ i64         ┆ str           ┆ f32           │\n",
       "╞═════════════╪═══════════════╪═══════════════╡\n",
       "│ 469479      ┆ LOINC:704-7   ┆ 0.028         │\n",
       "│ 5906095     ┆ LOINC:43396-1 ┆ 194.0         │\n",
       "│ 555871      ┆ LOINC:10834-0 ┆ 3.0           │\n",
       "│ 5468509     ┆ LOINC:43396-1 ┆ 117.0         │\n",
       "│ 6318519     ┆ LOINC:48643-1 ┆ 140.5         │\n",
       "└─────────────┴───────────────┴───────────────┘"
      ]
     },
     "execution_count": 248,
     "metadata": {},
     "output_type": "execute_result"
    }
   ],
   "source": [
    "lab_results_path = './Determine_cohort_files/Determine_cohort_labresults_domain_expert_median.parquet'\n",
    "lab_results_df = pl.read_parquet(lab_results_path)\n",
    "lab_results_df.head()"
   ]
  },
  {
   "cell_type": "code",
   "execution_count": 249,
   "id": "62acf5bb",
   "metadata": {},
   "outputs": [
    {
     "data": {
      "text/html": [
       "<div><style>\n",
       ".dataframe > thead > tr,\n",
       ".dataframe > tbody > tr {\n",
       "  text-align: right;\n",
       "  white-space: pre-wrap;\n",
       "}\n",
       "</style>\n",
       "<small>shape: (1, 3)</small><table border=\"1\" class=\"dataframe\"><thead><tr><th>PATIENT_NUM</th><th>LabLOINC</th><th>Result_Number</th></tr><tr><td>u32</td><td>u32</td><td>u32</td></tr></thead><tbody><tr><td>0</td><td>0</td><td>0</td></tr></tbody></table></div>"
      ],
      "text/plain": [
       "shape: (1, 3)\n",
       "┌─────────────┬──────────┬───────────────┐\n",
       "│ PATIENT_NUM ┆ LabLOINC ┆ Result_Number │\n",
       "│ ---         ┆ ---      ┆ ---           │\n",
       "│ u32         ┆ u32      ┆ u32           │\n",
       "╞═════════════╪══════════╪═══════════════╡\n",
       "│ 0           ┆ 0        ┆ 0             │\n",
       "└─────────────┴──────────┴───────────────┘"
      ]
     },
     "execution_count": 249,
     "metadata": {},
     "output_type": "execute_result"
    }
   ],
   "source": [
    "lab_results_df.null_count()"
   ]
  },
  {
   "cell_type": "code",
   "execution_count": 250,
   "id": "75a85060",
   "metadata": {},
   "outputs": [],
   "source": [
    "lab_results_pivot_df = lab_results_df.pivot(on = 'LabLOINC', index = 'PATIENT_NUM', values = 'Result_Number')"
   ]
  },
  {
   "cell_type": "code",
   "execution_count": 251,
   "id": "46156281",
   "metadata": {},
   "outputs": [
    {
     "data": {
      "text/html": [
       "<div><style>\n",
       ".dataframe > thead > tr,\n",
       ".dataframe > tbody > tr {\n",
       "  text-align: right;\n",
       "  white-space: pre-wrap;\n",
       "}\n",
       "</style>\n",
       "<small>shape: (1, 1_111)</small><table border=\"1\" class=\"dataframe\"><thead><tr><th>PATIENT_NUM</th><th>LOINC:704-7</th><th>LOINC:43396-1</th><th>LOINC:10834-0</th><th>LOINC:48643-1</th><th>LOINC:788-0</th><th>LOINC:11579-0</th><th>LOINC:17861-6</th><th>LOINC:2085-9</th><th>LOINC:4544-3</th><th>LOINC:2160-0</th><th>LOINC:713-8</th><th>LOINC:751-8</th><th>LOINC:718-7</th><th>LOINC:777-3</th><th>LOINC:1742-6</th><th>LOINC:2075-0</th><th>LOINC:30428-7</th><th>LOINC:2885-2</th><th>LOINC:2571-8</th><th>LOINC:1759-0</th><th>LOINC:3094-0</th><th>LOINC:792-2</th><th>LOINC:1920-8</th><th>LOINC:33914-3</th><th>LOINC:5905-5</th><th>LOINC:785-6</th><th>LOINC:1968-7</th><th>LOINC:2345-7</th><th>LOINC:2823-3</th><th>LOINC:51584-1</th><th>LOINC:62291-0</th><th>LOINC:3040-3</th><th>LOINC:3097-3</th><th>LOINC:1751-7</th><th>LOINC:2857-1</th><th>LOINC:2093-3</th><th>&hellip;</th><th>LOINC:30565-6</th><th>LOINC:26524-9</th><th>LOINC:13797-6</th><th>LOINC:69573-4</th><th>LOINC:38190-5</th><th>LOINC:4621-9</th><th>LOINC:83083-6</th><th>LOINC:2705-2</th><th>LOINC:26610-6</th><th>LOINC:19176-7</th><th>LOINC:9616-4</th><th>LOINC:30542-5</th><th>LOINC:13706-7</th><th>LOINC:33805-3</th><th>LOINC:26452-3</th><th>LOINC:14044-2</th><th>LOINC:13518-6</th><th>LOINC:33254-4</th><th>LOINC:9410-2</th><th>LOINC:19074-4</th><th>LOINC:56448-4</th><th>LOINC:30328-9</th><th>LOINC:13526-9</th><th>LOINC:46737-3</th><th>LOINC:18314-5</th><th>LOINC:14328-9</th><th>LOINC:12480-0</th><th>LOINC:74428-4</th><th>LOINC:32173-7</th><th>LOINC:3066-8</th><th>LOINC:3096-5</th><th>LOINC:42482-0</th><th>LOINC:2744-1</th><th>LOINC:21019-5</th><th>LOINC:33325-2</th><th>LOINC:19235-1</th><th>LOINC:26881-3</th></tr><tr><td>u32</td><td>u32</td><td>u32</td><td>u32</td><td>u32</td><td>u32</td><td>u32</td><td>u32</td><td>u32</td><td>u32</td><td>u32</td><td>u32</td><td>u32</td><td>u32</td><td>u32</td><td>u32</td><td>u32</td><td>u32</td><td>u32</td><td>u32</td><td>u32</td><td>u32</td><td>u32</td><td>u32</td><td>u32</td><td>u32</td><td>u32</td><td>u32</td><td>u32</td><td>u32</td><td>u32</td><td>u32</td><td>u32</td><td>u32</td><td>u32</td><td>u32</td><td>u32</td><td>&hellip;</td><td>u32</td><td>u32</td><td>u32</td><td>u32</td><td>u32</td><td>u32</td><td>u32</td><td>u32</td><td>u32</td><td>u32</td><td>u32</td><td>u32</td><td>u32</td><td>u32</td><td>u32</td><td>u32</td><td>u32</td><td>u32</td><td>u32</td><td>u32</td><td>u32</td><td>u32</td><td>u32</td><td>u32</td><td>u32</td><td>u32</td><td>u32</td><td>u32</td><td>u32</td><td>u32</td><td>u32</td><td>u32</td><td>u32</td><td>u32</td><td>u32</td><td>u32</td><td>u32</td></tr></thead><tbody><tr><td>0</td><td>206802</td><td>272478</td><td>204585</td><td>183008</td><td>152950</td><td>357645</td><td>146690</td><td>195681</td><td>166887</td><td>265922</td><td>210902</td><td>212327</td><td>166752</td><td>152655</td><td>186856</td><td>137167</td><td>402001</td><td>171517</td><td>201448</td><td>196451</td><td>142625</td><td>397845</td><td>171673</td><td>240677</td><td>207186</td><td>171929</td><td>394756</td><td>143316</td><td>146187</td><td>349310</td><td>400163</td><td>398580</td><td>296497</td><td>191436</td><td>385743</td><td>188922</td><td>&hellip;</td><td>406121</td><td>406121</td><td>406121</td><td>406121</td><td>406121</td><td>406121</td><td>406121</td><td>406121</td><td>406119</td><td>406121</td><td>406121</td><td>406121</td><td>406121</td><td>406120</td><td>406120</td><td>406121</td><td>406121</td><td>406120</td><td>406121</td><td>406121</td><td>406121</td><td>406121</td><td>406121</td><td>406121</td><td>406121</td><td>406121</td><td>406121</td><td>406121</td><td>406121</td><td>406121</td><td>406121</td><td>406121</td><td>406120</td><td>406121</td><td>406121</td><td>406121</td><td>406121</td></tr></tbody></table></div>"
      ],
      "text/plain": [
       "shape: (1, 1_111)\n",
       "┌───────────┬───────────┬───────────┬───────────┬───┬───────────┬───────────┬───────────┬──────────┐\n",
       "│ PATIENT_N ┆ LOINC:704 ┆ LOINC:433 ┆ LOINC:108 ┆ … ┆ LOINC:210 ┆ LOINC:333 ┆ LOINC:192 ┆ LOINC:26 │\n",
       "│ UM        ┆ -7        ┆ 96-1      ┆ 34-0      ┆   ┆ 19-5      ┆ 25-2      ┆ 35-1      ┆ 881-3    │\n",
       "│ ---       ┆ ---       ┆ ---       ┆ ---       ┆   ┆ ---       ┆ ---       ┆ ---       ┆ ---      │\n",
       "│ u32       ┆ u32       ┆ u32       ┆ u32       ┆   ┆ u32       ┆ u32       ┆ u32       ┆ u32      │\n",
       "╞═══════════╪═══════════╪═══════════╪═══════════╪═══╪═══════════╪═══════════╪═══════════╪══════════╡\n",
       "│ 0         ┆ 206802    ┆ 272478    ┆ 204585    ┆ … ┆ 406121    ┆ 406121    ┆ 406121    ┆ 406121   │\n",
       "└───────────┴───────────┴───────────┴───────────┴───┴───────────┴───────────┴───────────┴──────────┘"
      ]
     },
     "execution_count": 251,
     "metadata": {},
     "output_type": "execute_result"
    }
   ],
   "source": [
    "lab_results_pivot_df.null_count()"
   ]
  },
  {
   "cell_type": "code",
   "execution_count": 252,
   "id": "63dca5ee",
   "metadata": {},
   "outputs": [],
   "source": [
    "#lab_results_pivot_df = lab_results_pivot_df.fill_null(-100)"
   ]
  },
  {
   "cell_type": "code",
   "execution_count": 253,
   "id": "483cb90e",
   "metadata": {},
   "outputs": [
    {
     "data": {
      "text/html": [
       "<div><style>\n",
       ".dataframe > thead > tr,\n",
       ".dataframe > tbody > tr {\n",
       "  text-align: right;\n",
       "  white-space: pre-wrap;\n",
       "}\n",
       "</style>\n",
       "<small>shape: (5, 1_111)</small><table border=\"1\" class=\"dataframe\"><thead><tr><th>PATIENT_NUM</th><th>LOINC:704-7</th><th>LOINC:43396-1</th><th>LOINC:10834-0</th><th>LOINC:48643-1</th><th>LOINC:788-0</th><th>LOINC:11579-0</th><th>LOINC:17861-6</th><th>LOINC:2085-9</th><th>LOINC:4544-3</th><th>LOINC:2160-0</th><th>LOINC:713-8</th><th>LOINC:751-8</th><th>LOINC:718-7</th><th>LOINC:777-3</th><th>LOINC:1742-6</th><th>LOINC:2075-0</th><th>LOINC:30428-7</th><th>LOINC:2885-2</th><th>LOINC:2571-8</th><th>LOINC:1759-0</th><th>LOINC:3094-0</th><th>LOINC:792-2</th><th>LOINC:1920-8</th><th>LOINC:33914-3</th><th>LOINC:5905-5</th><th>LOINC:785-6</th><th>LOINC:1968-7</th><th>LOINC:2345-7</th><th>LOINC:2823-3</th><th>LOINC:51584-1</th><th>LOINC:62291-0</th><th>LOINC:3040-3</th><th>LOINC:3097-3</th><th>LOINC:1751-7</th><th>LOINC:2857-1</th><th>LOINC:2093-3</th><th>&hellip;</th><th>LOINC:30565-6</th><th>LOINC:26524-9</th><th>LOINC:13797-6</th><th>LOINC:69573-4</th><th>LOINC:38190-5</th><th>LOINC:4621-9</th><th>LOINC:83083-6</th><th>LOINC:2705-2</th><th>LOINC:26610-6</th><th>LOINC:19176-7</th><th>LOINC:9616-4</th><th>LOINC:30542-5</th><th>LOINC:13706-7</th><th>LOINC:33805-3</th><th>LOINC:26452-3</th><th>LOINC:14044-2</th><th>LOINC:13518-6</th><th>LOINC:33254-4</th><th>LOINC:9410-2</th><th>LOINC:19074-4</th><th>LOINC:56448-4</th><th>LOINC:30328-9</th><th>LOINC:13526-9</th><th>LOINC:46737-3</th><th>LOINC:18314-5</th><th>LOINC:14328-9</th><th>LOINC:12480-0</th><th>LOINC:74428-4</th><th>LOINC:32173-7</th><th>LOINC:3066-8</th><th>LOINC:3096-5</th><th>LOINC:42482-0</th><th>LOINC:2744-1</th><th>LOINC:21019-5</th><th>LOINC:33325-2</th><th>LOINC:19235-1</th><th>LOINC:26881-3</th></tr><tr><td>i64</td><td>f32</td><td>f32</td><td>f32</td><td>f32</td><td>f32</td><td>f32</td><td>f32</td><td>f32</td><td>f32</td><td>f32</td><td>f32</td><td>f32</td><td>f32</td><td>f32</td><td>f32</td><td>f32</td><td>f32</td><td>f32</td><td>f32</td><td>f32</td><td>f32</td><td>f32</td><td>f32</td><td>f32</td><td>f32</td><td>f32</td><td>f32</td><td>f32</td><td>f32</td><td>f32</td><td>f32</td><td>f32</td><td>f32</td><td>f32</td><td>f32</td><td>f32</td><td>&hellip;</td><td>f32</td><td>f32</td><td>f32</td><td>f32</td><td>f32</td><td>f32</td><td>f32</td><td>f32</td><td>f32</td><td>f32</td><td>f32</td><td>f32</td><td>f32</td><td>f32</td><td>f32</td><td>f32</td><td>f32</td><td>f32</td><td>f32</td><td>f32</td><td>f32</td><td>f32</td><td>f32</td><td>f32</td><td>f32</td><td>f32</td><td>f32</td><td>f32</td><td>f32</td><td>f32</td><td>f32</td><td>f32</td><td>f32</td><td>f32</td><td>f32</td><td>f32</td><td>f32</td></tr></thead><tbody><tr><td>469479</td><td>0.028</td><td>67.0</td><td>2.55</td><td>133.5</td><td>12.950001</td><td>null</td><td>10.049999</td><td>52.0</td><td>51.099998</td><td>0.885</td><td>3.0</td><td>2.542</td><td>17.200001</td><td>229.5</td><td>18.0</td><td>103.0</td><td>null</td><td>7.4</td><td>43.0</td><td>1.9</td><td>16.0</td><td>null</td><td>17.5</td><td>115.0</td><td>10.15</td><td>29.450001</td><td>null</td><td>88.5</td><td>4.65</td><td>null</td><td>null</td><td>null</td><td>null</td><td>4.85</td><td>null</td><td>119.0</td><td>&hellip;</td><td>null</td><td>null</td><td>null</td><td>null</td><td>null</td><td>null</td><td>null</td><td>null</td><td>null</td><td>null</td><td>null</td><td>null</td><td>null</td><td>null</td><td>null</td><td>null</td><td>null</td><td>null</td><td>null</td><td>null</td><td>null</td><td>null</td><td>null</td><td>null</td><td>null</td><td>null</td><td>null</td><td>null</td><td>null</td><td>null</td><td>null</td><td>null</td><td>null</td><td>null</td><td>null</td><td>null</td><td>null</td></tr><tr><td>5906095</td><td>0.04</td><td>194.0</td><td>3.1</td><td>85.5</td><td>15.1</td><td>null</td><td>10.65</td><td>51.0</td><td>42.599998</td><td>1.095</td><td>9.0</td><td>3.91</td><td>13.4</td><td>256.0</td><td>16.5</td><td>100.0</td><td>null</td><td>7.85</td><td>81.0</td><td>1.5</td><td>22.0</td><td>null</td><td>14.0</td><td>74.0</td><td>7.0</td><td>27.9</td><td>null</td><td>119.0</td><td>4.2</td><td>null</td><td>null</td><td>null</td><td>20.400002</td><td>4.75</td><td>null</td><td>245.0</td><td>&hellip;</td><td>null</td><td>null</td><td>null</td><td>null</td><td>null</td><td>null</td><td>null</td><td>null</td><td>null</td><td>null</td><td>null</td><td>null</td><td>null</td><td>null</td><td>null</td><td>null</td><td>null</td><td>null</td><td>null</td><td>null</td><td>null</td><td>null</td><td>null</td><td>null</td><td>null</td><td>null</td><td>null</td><td>null</td><td>null</td><td>null</td><td>null</td><td>null</td><td>null</td><td>null</td><td>null</td><td>null</td><td>null</td></tr><tr><td>555871</td><td>0.05</td><td>106.0</td><td>3.0</td><td>72.0</td><td>14.4</td><td>null</td><td>9.8</td><td>46.0</td><td>40.299999</td><td>1.26</td><td>3.0</td><td>7.47</td><td>13.1</td><td>302.0</td><td>8.0</td><td>104.0</td><td>null</td><td>7.6</td><td>119.0</td><td>1.6</td><td>9.0</td><td>null</td><td>12.0</td><td>62.0</td><td>6.0</td><td>29.1</td><td>null</td><td>106.0</td><td>4.1</td><td>null</td><td>null</td><td>null</td><td>6.8</td><td>4.6</td><td>null</td><td>152.0</td><td>&hellip;</td><td>null</td><td>null</td><td>null</td><td>null</td><td>null</td><td>null</td><td>null</td><td>null</td><td>null</td><td>null</td><td>null</td><td>null</td><td>null</td><td>null</td><td>null</td><td>null</td><td>null</td><td>null</td><td>null</td><td>null</td><td>null</td><td>null</td><td>null</td><td>null</td><td>null</td><td>null</td><td>null</td><td>null</td><td>null</td><td>null</td><td>null</td><td>null</td><td>null</td><td>null</td><td>null</td><td>null</td><td>null</td></tr><tr><td>5468509</td><td>null</td><td>117.0</td><td>2.7</td><td>123.0</td><td>16.200001</td><td>null</td><td>9.6</td><td>47.0</td><td>46.0</td><td>null</td><td>null</td><td>null</td><td>14.9</td><td>189.0</td><td>18.0</td><td>105.0</td><td>null</td><td>7.3</td><td>70.0</td><td>1.7</td><td>14.0</td><td>null</td><td>21.0</td><td>107.0</td><td>null</td><td>25.700001</td><td>null</td><td>96.0</td><td>5.0</td><td>null</td><td>null</td><td>null</td><td>null</td><td>4.6</td><td>null</td><td>164.0</td><td>&hellip;</td><td>null</td><td>null</td><td>null</td><td>null</td><td>null</td><td>null</td><td>null</td><td>null</td><td>null</td><td>null</td><td>null</td><td>null</td><td>null</td><td>null</td><td>null</td><td>null</td><td>null</td><td>null</td><td>null</td><td>null</td><td>null</td><td>null</td><td>null</td><td>null</td><td>null</td><td>null</td><td>null</td><td>null</td><td>null</td><td>null</td><td>null</td><td>null</td><td>null</td><td>null</td><td>null</td><td>null</td><td>null</td></tr><tr><td>6318519</td><td>0.0</td><td>null</td><td>2.25</td><td>140.5</td><td>13.5</td><td>null</td><td>9.2</td><td>null</td><td>42.599998</td><td>null</td><td>1.0</td><td>3.0</td><td>15.0</td><td>272.0</td><td>23.0</td><td>103.0</td><td>null</td><td>6.55</td><td>null</td><td>1.9</td><td>13.0</td><td>null</td><td>14.5</td><td>null</td><td>10.0</td><td>30.6</td><td>null</td><td>92.0</td><td>4.25</td><td>0.0</td><td>null</td><td>null</td><td>19.0</td><td>4.3</td><td>null</td><td>null</td><td>&hellip;</td><td>null</td><td>null</td><td>null</td><td>null</td><td>null</td><td>null</td><td>null</td><td>null</td><td>null</td><td>null</td><td>null</td><td>null</td><td>null</td><td>null</td><td>null</td><td>null</td><td>null</td><td>null</td><td>null</td><td>null</td><td>null</td><td>null</td><td>null</td><td>null</td><td>null</td><td>null</td><td>null</td><td>null</td><td>null</td><td>null</td><td>null</td><td>null</td><td>null</td><td>null</td><td>null</td><td>null</td><td>null</td></tr></tbody></table></div>"
      ],
      "text/plain": [
       "shape: (5, 1_111)\n",
       "┌───────────┬───────────┬───────────┬───────────┬───┬───────────┬───────────┬───────────┬──────────┐\n",
       "│ PATIENT_N ┆ LOINC:704 ┆ LOINC:433 ┆ LOINC:108 ┆ … ┆ LOINC:210 ┆ LOINC:333 ┆ LOINC:192 ┆ LOINC:26 │\n",
       "│ UM        ┆ -7        ┆ 96-1      ┆ 34-0      ┆   ┆ 19-5      ┆ 25-2      ┆ 35-1      ┆ 881-3    │\n",
       "│ ---       ┆ ---       ┆ ---       ┆ ---       ┆   ┆ ---       ┆ ---       ┆ ---       ┆ ---      │\n",
       "│ i64       ┆ f32       ┆ f32       ┆ f32       ┆   ┆ f32       ┆ f32       ┆ f32       ┆ f32      │\n",
       "╞═══════════╪═══════════╪═══════════╪═══════════╪═══╪═══════════╪═══════════╪═══════════╪══════════╡\n",
       "│ 469479    ┆ 0.028     ┆ 67.0      ┆ 2.55      ┆ … ┆ null      ┆ null      ┆ null      ┆ null     │\n",
       "│ 5906095   ┆ 0.04      ┆ 194.0     ┆ 3.1       ┆ … ┆ null      ┆ null      ┆ null      ┆ null     │\n",
       "│ 555871    ┆ 0.05      ┆ 106.0     ┆ 3.0       ┆ … ┆ null      ┆ null      ┆ null      ┆ null     │\n",
       "│ 5468509   ┆ null      ┆ 117.0     ┆ 2.7       ┆ … ┆ null      ┆ null      ┆ null      ┆ null     │\n",
       "│ 6318519   ┆ 0.0       ┆ null      ┆ 2.25      ┆ … ┆ null      ┆ null      ┆ null      ┆ null     │\n",
       "└───────────┴───────────┴───────────┴───────────┴───┴───────────┴───────────┴───────────┴──────────┘"
      ]
     },
     "execution_count": 253,
     "metadata": {},
     "output_type": "execute_result"
    }
   ],
   "source": [
    "lab_results_pivot_df.head()"
   ]
  },
  {
   "cell_type": "code",
   "execution_count": 254,
   "id": "c1865f36",
   "metadata": {},
   "outputs": [],
   "source": [
    "if 'all_features' not in lab_results_path:\n",
    "    lab_results_pivot_df.write_parquet(\"./Determine_Cohort_files_pivot/Determine_lab_results_median_domain_expert_pivot.parquet\")\n",
    "else:\n",
    "    lab_results_pivot_df.write_parquet(\"./Determine_Cohort_files_pivot/Determine_lab_results_median_all_features_pivot.parquet\")"
   ]
  },
  {
   "cell_type": "markdown",
   "id": "a6e148a5",
   "metadata": {},
   "source": [
    "## Diagnoses pivot"
   ]
  },
  {
   "cell_type": "code",
   "execution_count": 257,
   "id": "e0c08d61",
   "metadata": {},
   "outputs": [],
   "source": [
    "if pivoting_config.diag_phemap_pivot:\n",
    "    diagnoses_df = pl.read_parquet('./Determine_cohort_files/Determine_cohort_diagnoses_phecode_map_v2_with_z_codes.parquet') ### mention version of phecode\n",
    "    diagnoses_df = diagnoses_df.with_columns(pl.lit(1).alias('Usage'))\n",
    "    diagnoses_pivot_df = diagnoses_df.pivot(on = 'phecode_map', index = 'PATIENT_NUM', values = 'Usage', aggregate_function = 'max')\n",
    "    diagnoses_pivot_df = diagnoses_pivot_df.fill_null(0)\n",
    "    diagnoses_pivot_df.write_parquet('./Determine_Cohort_files_pivot/Determine_diagnoses_phemap_pivot_with_icd10z.parquet')\n",
    "    \n",
    "    \n",
    "    diagnoses_df = pl.read_parquet('./Determine_cohort_files/Determine_cohort_diagnoses_phecode_map_v2_without_z_codes.parquet') ### mention version of phecode\n",
    "    diagnoses_df = diagnoses_df.with_columns(pl.lit(1).alias('Usage'))\n",
    "    diagnoses_pivot_df = diagnoses_df.pivot(on = 'phecode_map', index = 'PATIENT_NUM', values = 'Usage', aggregate_function = 'max')\n",
    "    diagnoses_pivot_df = diagnoses_pivot_df.fill_null(0)\n",
    "    diagnoses_pivot_df.write_parquet('./Determine_Cohort_files_pivot/Determine_diagnoses_phemap_pivot_without_icd10z.parquet')"
   ]
  },
  {
   "cell_type": "code",
   "execution_count": 259,
   "id": "076f5d3d",
   "metadata": {},
   "outputs": [],
   "source": [
    "if pivoting_config.diag_icd_nchars_pivot:\n",
    "    diagnoses_df = pl.read_parquet('./Determine_cohort_files/Determine_cohort_diagnoses_initail_3_chars.parquet') ### mention version of phecode\n",
    "    diagnoses_df = diagnoses_df.with_columns(pl.lit(1).alias('Usage'))\n",
    "    diagnoses_pivot_df = diagnoses_df.pivot(on = 'get_first_3_char_icdcode', index = 'PATIENT_NUM', values = 'Usage', aggregate_function = 'max')\n",
    "    diagnoses_pivot_df = diagnoses_pivot_df.fill_null(0)\n",
    "    diagnoses_pivot_df.write_parquet('./Determine_Cohort_files_pivot/Determine_diagnoses_initial_3_chars_with_icd10z.parquet')"
   ]
  },
  {
   "cell_type": "markdown",
   "id": "5197010a",
   "metadata": {},
   "source": [
    "# CVS pivot"
   ]
  },
  {
   "cell_type": "code",
   "execution_count": 260,
   "id": "d0cdcc87",
   "metadata": {},
   "outputs": [],
   "source": [
    "community_vital_pivot_df = community_vital_df.collect().pivot(on = 'Indicator', \n",
    "                                                    index ='PATIENT_NUM', \n",
    "                                                    values ='FACT', \n",
    "                                                    aggregate_function = 'mean')\n",
    "community_vital_pivot_df = community_vital_pivot_df.fill_null(-100)"
   ]
  },
  {
   "cell_type": "code",
   "execution_count": 261,
   "id": "6ba1a240",
   "metadata": {},
   "outputs": [
    {
     "data": {
      "text/html": [
       "<div><style>\n",
       ".dataframe > thead > tr,\n",
       ".dataframe > tbody > tr {\n",
       "  text-align: right;\n",
       "  white-space: pre-wrap;\n",
       "}\n",
       "</style>\n",
       "<small>shape: (1_047_088, 6)</small><table border=\"1\" class=\"dataframe\"><thead><tr><th>PATIENT_NUM</th><th>ACS_GINI</th><th>ACS_MedHHIncome</th><th>ACS_pctCollGrad</th><th>ACS_pctPoverty100</th><th>ACS_Unemployment</th></tr><tr><td>i64</td><td>f32</td><td>f32</td><td>f32</td><td>f32</td><td>f32</td></tr></thead><tbody><tr><td>5627352</td><td>41.849998</td><td>66088.0</td><td>34.7766</td><td>8.44147</td><td>2.68865</td></tr><tr><td>5621397</td><td>41.849998</td><td>66088.0</td><td>34.7766</td><td>8.44147</td><td>2.68865</td></tr><tr><td>563554</td><td>41.849998</td><td>66088.0</td><td>34.7766</td><td>8.44147</td><td>2.68865</td></tr><tr><td>528640</td><td>41.849998</td><td>66088.0</td><td>34.7766</td><td>8.44147</td><td>2.68865</td></tr><tr><td>517732</td><td>41.849998</td><td>66088.0</td><td>34.7766</td><td>8.44147</td><td>2.68865</td></tr><tr><td>&hellip;</td><td>&hellip;</td><td>&hellip;</td><td>&hellip;</td><td>&hellip;</td><td>&hellip;</td></tr><tr><td>6191930</td><td>42.75</td><td>74678.0</td><td>25.4405</td><td>8.82826</td><td>3.72293</td></tr><tr><td>509367</td><td>42.75</td><td>74678.0</td><td>25.4405</td><td>8.82826</td><td>3.72293</td></tr><tr><td>73920</td><td>42.75</td><td>74678.0</td><td>25.4405</td><td>8.82826</td><td>3.72293</td></tr><tr><td>4675612</td><td>42.75</td><td>74678.0</td><td>25.4405</td><td>8.82826</td><td>3.72293</td></tr><tr><td>4126036</td><td>42.75</td><td>74678.0</td><td>25.4405</td><td>8.82826</td><td>3.72293</td></tr></tbody></table></div>"
      ],
      "text/plain": [
       "shape: (1_047_088, 6)\n",
       "┌─────────────┬───────────┬─────────────────┬─────────────────┬──────────────────┬─────────────────┐\n",
       "│ PATIENT_NUM ┆ ACS_GINI  ┆ ACS_MedHHIncome ┆ ACS_pctCollGrad ┆ ACS_pctPoverty10 ┆ ACS_Unemploymen │\n",
       "│ ---         ┆ ---       ┆ ---             ┆ ---             ┆ 0                ┆ t               │\n",
       "│ i64         ┆ f32       ┆ f32             ┆ f32             ┆ ---              ┆ ---             │\n",
       "│             ┆           ┆                 ┆                 ┆ f32              ┆ f32             │\n",
       "╞═════════════╪═══════════╪═════════════════╪═════════════════╪══════════════════╪═════════════════╡\n",
       "│ 5627352     ┆ 41.849998 ┆ 66088.0         ┆ 34.7766         ┆ 8.44147          ┆ 2.68865         │\n",
       "│ 5621397     ┆ 41.849998 ┆ 66088.0         ┆ 34.7766         ┆ 8.44147          ┆ 2.68865         │\n",
       "│ 563554      ┆ 41.849998 ┆ 66088.0         ┆ 34.7766         ┆ 8.44147          ┆ 2.68865         │\n",
       "│ 528640      ┆ 41.849998 ┆ 66088.0         ┆ 34.7766         ┆ 8.44147          ┆ 2.68865         │\n",
       "│ 517732      ┆ 41.849998 ┆ 66088.0         ┆ 34.7766         ┆ 8.44147          ┆ 2.68865         │\n",
       "│ …           ┆ …         ┆ …               ┆ …               ┆ …                ┆ …               │\n",
       "│ 6191930     ┆ 42.75     ┆ 74678.0         ┆ 25.4405         ┆ 8.82826          ┆ 3.72293         │\n",
       "│ 509367      ┆ 42.75     ┆ 74678.0         ┆ 25.4405         ┆ 8.82826          ┆ 3.72293         │\n",
       "│ 73920       ┆ 42.75     ┆ 74678.0         ┆ 25.4405         ┆ 8.82826          ┆ 3.72293         │\n",
       "│ 4675612     ┆ 42.75     ┆ 74678.0         ┆ 25.4405         ┆ 8.82826          ┆ 3.72293         │\n",
       "│ 4126036     ┆ 42.75     ┆ 74678.0         ┆ 25.4405         ┆ 8.82826          ┆ 3.72293         │\n",
       "└─────────────┴───────────┴─────────────────┴─────────────────┴──────────────────┴─────────────────┘"
      ]
     },
     "execution_count": 261,
     "metadata": {},
     "output_type": "execute_result"
    }
   ],
   "source": [
    "community_vital_pivot_df"
   ]
  },
  {
   "cell_type": "code",
   "execution_count": 262,
   "id": "7d2439c0",
   "metadata": {},
   "outputs": [],
   "source": [
    "community_vital_pivot_df.write_parquet('./Determine_modeling_datasets/Determine_cvs_pivot.parquet')"
   ]
  },
  {
   "cell_type": "markdown",
   "id": "5943412d",
   "metadata": {},
   "source": [
    "# Tobacco and smoking"
   ]
  },
  {
   "cell_type": "code",
   "execution_count": null,
   "id": "01cd168c",
   "metadata": {},
   "outputs": [],
   "source": [
    "tob_pivot_df = tob_df.collect().pivot(on = 'CONCEPT_CD', \n",
    "                                                    index ='PATIENT_NUM', \n",
    "                                                    values ='Indicator', \n",
    "                                                    aggregate_function = 'first')"
   ]
  },
  {
   "cell_type": "code",
   "execution_count": null,
   "id": "f0a3edc9",
   "metadata": {},
   "outputs": [],
   "source": [
    "tob_pivot_df.head()"
   ]
  },
  {
   "cell_type": "code",
   "execution_count": null,
   "id": "b6777a39",
   "metadata": {},
   "outputs": [],
   "source": [
    "tob_pivot_df = tob_pivot_df.fill_null(0)"
   ]
  }
 ],
 "metadata": {
  "kernelspec": {
   "display_name": "conda_python3",
   "language": "python",
   "name": "conda_python3"
  },
  "language_info": {
   "codemirror_mode": {
    "name": "ipython",
    "version": 3
   },
   "file_extension": ".py",
   "mimetype": "text/x-python",
   "name": "python",
   "nbconvert_exporter": "python",
   "pygments_lexer": "ipython3",
   "version": "3.10.16"
  }
 },
 "nbformat": 4,
 "nbformat_minor": 5
}
