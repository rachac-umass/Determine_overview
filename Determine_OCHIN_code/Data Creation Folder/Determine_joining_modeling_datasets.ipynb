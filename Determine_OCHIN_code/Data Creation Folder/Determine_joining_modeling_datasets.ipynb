{
 "cells": [
  {
   "cell_type": "markdown",
   "id": "38c5a4ac",
   "metadata": {},
   "source": [
    "# Installing required libraries"
   ]
  },
  {
   "cell_type": "code",
   "execution_count": 1,
   "id": "fcca10c6",
   "metadata": {},
   "outputs": [
    {
     "name": "stdout",
     "output_type": "stream",
     "text": [
      "Channels:\n",
      " - conda-forge\n",
      " - nvidia\n",
      " - pytorch\n",
      "Platform: linux-64\n",
      "Collecting package metadata (repodata.json): ...working... done\n",
      "Solving environment: ...working... done\n",
      "\n",
      "# All requested packages already installed.\n",
      "\n"
     ]
    }
   ],
   "source": [
    "!conda install polars -y -q"
   ]
  },
  {
   "cell_type": "markdown",
   "id": "c5f8a950",
   "metadata": {},
   "source": [
    "# Importing required libraries"
   ]
  },
  {
   "cell_type": "code",
   "execution_count": 2,
   "id": "e215a95f",
   "metadata": {},
   "outputs": [],
   "source": [
    "import polars as pl\n",
    "import numpy as np\n",
    "import matplotlib.pyplot as plt"
   ]
  },
  {
   "cell_type": "markdown",
   "id": "c81864cc",
   "metadata": {},
   "source": [
    "# Config file (Paths of datasets to be joined)"
   ]
  },
  {
   "cell_type": "code",
   "execution_count": 97,
   "id": "c4eeecab",
   "metadata": {},
   "outputs": [],
   "source": [
    "class config:\n",
    "    target_path = './Determine_modeling_datasets/Determine_modeling_age_group_outcome_data.parquet'\n",
    "    demo_path = './Determine_modeling_datasets/Determine_modeling_demographics_data.parquet'\n",
    "    \n",
    "    med_path = './Determine_modeling_datasets/Determine_modeling_medications_thrs_50.parquet'\n",
    "    diag_path = './Determine_modeling_datasets/Determine_modeling_diagnoses_phemap_thrs_50_without_icd10z.parquet'\n",
    "    lab_path = './Determine_modeling_datasets/Determine_modeling_labresults_median_domain_expert_thrs_50.parquet'\n",
    "    \n",
    "    bmi_path = './Determine_cohort_files/Determine_modeling_bmi_data_manual.parquet'\n",
    "    dia_bp_path = './Determine_cohort_files/Determine_modeling_diastolic_bp_data.parquet'\n",
    "    sys_bp_path = './Determine_cohort_files/Determine_modeling_systolic_bp_data.parquet'\n",
    "    cvs_path = './Determine_modeling_datasets/Determine_cvs_pivot.parquet'\n",
    "    \n",
    "    sdoh_screening_path = './Determine_modeling_datasets/Determine_sdoh_screening_pivot.parquet'\n",
    "    \n",
    "    use_bmi_bp = True\n",
    "    use_cvs = True\n",
    "    \n",
    "    sdoh_screening_experiment = True\n",
    "    "
   ]
  },
  {
   "cell_type": "markdown",
   "id": "d9d76ed2",
   "metadata": {},
   "source": [
    "# Joining the datasets"
   ]
  },
  {
   "cell_type": "code",
   "execution_count": 98,
   "id": "c0091bda",
   "metadata": {},
   "outputs": [],
   "source": [
    "target_df = pl.scan_parquet(config.target_path)\n",
    "demo_df = pl.scan_parquet(config.demo_path)\n",
    "med_df = pl.scan_parquet(config.med_path)\n",
    "diag_df = pl.scan_parquet(config.diag_path)\n",
    "lab_df = pl.scan_parquet(config.lab_path)\n",
    "\n",
    "bmi_df = pl.scan_parquet(config.bmi_path)\n",
    "dia_bp_df = pl.scan_parquet(config.dia_bp_path)\n",
    "sys_bp_df = pl.scan_parquet(config.sys_bp_path)\n",
    "cvs_df = pl.scan_parquet(config.cvs_path)\n",
    "sdoh_screening_df = pl.scan_parquet(config.sdoh_screening_path)"
   ]
  },
  {
   "cell_type": "code",
   "execution_count": 99,
   "id": "5e1b6a30",
   "metadata": {},
   "outputs": [
    {
     "data": {
      "text/html": [
       "<div><style>\n",
       ".dataframe > thead > tr,\n",
       ".dataframe > tbody > tr {\n",
       "  text-align: right;\n",
       "  white-space: pre-wrap;\n",
       "}\n",
       "</style>\n",
       "<small>shape: (5, 99)</small><table border=\"1\" class=\"dataframe\"><thead><tr><th>PATIENT_NUM</th><th>SDH:ADV0041   _0.0</th><th>SDH:ADV0041   _1.0</th><th>SDH:ADV0051   _0.0</th><th>SDH:ADV0051   _1.0</th><th>SDH:ADV0046   _0.0</th><th>SDH:ADV0046   _1.0</th><th>SDH:ADV0047   _0.0</th><th>SDH:ADV0047   _1.0</th><th>SDH:ADV0048   _0.0</th><th>SDH:ADV0048   _1.0</th><th>SDH:ADV0052   _0.0</th><th>SDH:ADV0052   _1.0</th><th>SDH:ADV0050   _0.0</th><th>SDH:ADV0050   _1.0</th><th>SDH:ADV0049   _0.0</th><th>SDH:ADV0049   _1.0</th><th>SDH:ADV0043   _0.0</th><th>SDH:ADV0043   _1.0</th><th>SDH:ADV0054   _0.0</th><th>SDH:ADV0054   _1.0</th><th>SDH:ADV0053   _0.0</th><th>SDH:ADV0053   _1.0</th><th>SDH:ADV0059   _0.0</th><th>SDH:ADV0059   _1.0</th><th>SDH:ADV0060   _0.0</th><th>SDH:ADV0060   _1.0</th><th>SDH:ADV0061   _0.0</th><th>SDH:ADV0061   _1.0</th><th>SDH:ADV0044   _0.0</th><th>SDH:ADV0044   _1.0</th><th>SDH:ADV0062   _0.0</th><th>SDH:ADV0062   _1.0</th><th>SDH:ADV0101   _0.0</th><th>SDH:ADV0101   _1.0</th><th>SDH:ADV0064   _0.0</th><th>SDH:ADV0064   _1.0</th><th>&hellip;</th><th>SDH:ADV0096   _1.0</th><th>SDH:ADV0083   _0.0</th><th>SDH:ADV0083   _1.0</th><th>SDH:ADV0097   _0.0</th><th>SDH:ADV0097   _1.0</th><th>SDH:ADV0084   _0.0</th><th>SDH:ADV0084   _1.0</th><th>SDH:ADV0102   _0.0</th><th>SDH:ADV0102   _1.0</th><th>SDH:ADV0099   _0.0</th><th>SDH:ADV0099   _1.0</th><th>SDH:ADV0103   _0.0</th><th>SDH:ADV0103   _1.0</th><th>SDH:ADV0111   _0.0</th><th>SDH:ADV0111   _1.0</th><th>SDH:ADV0113   _0.0</th><th>SDH:ADV0113   _1.0</th><th>SDH:ADV0104   _0.0</th><th>SDH:ADV0104   _1.0</th><th>SDH:ADV0261   _0.0</th><th>SDH:ADV0261   _1.0</th><th>SDH:ADV0114   _0.0</th><th>SDH:ADV0114   _1.0</th><th>SDH:ADV0115   _0.0</th><th>SDH:ADV0115   _1.0</th><th>SDH:ADV0116   _0.0</th><th>SDH:ADV0116   _1.0</th><th>SDH:ADV0117   _0.0</th><th>SDH:ADV0117   _1.0</th><th>SDH:ADV0118   _0.0</th><th>SDH:ADV0118   _1.0</th><th>SDH:ADV0262   _0.0</th><th>SDH:ADV0262   _1.0</th><th>SDH:ADV0400   _0.0</th><th>SDH:ADV0400   _1.0</th><th>SDH:ADV0401   _0.0</th><th>SDH:ADV0401   _1.0</th></tr><tr><td>i64</td><td>u8</td><td>u8</td><td>u8</td><td>u8</td><td>u8</td><td>u8</td><td>u8</td><td>u8</td><td>u8</td><td>u8</td><td>u8</td><td>u8</td><td>u8</td><td>u8</td><td>u8</td><td>u8</td><td>u8</td><td>u8</td><td>u8</td><td>u8</td><td>u8</td><td>u8</td><td>u8</td><td>u8</td><td>u8</td><td>u8</td><td>u8</td><td>u8</td><td>u8</td><td>u8</td><td>u8</td><td>u8</td><td>u8</td><td>u8</td><td>u8</td><td>u8</td><td>&hellip;</td><td>u8</td><td>u8</td><td>u8</td><td>u8</td><td>u8</td><td>u8</td><td>u8</td><td>u8</td><td>u8</td><td>u8</td><td>u8</td><td>u8</td><td>u8</td><td>u8</td><td>u8</td><td>u8</td><td>u8</td><td>u8</td><td>u8</td><td>u8</td><td>u8</td><td>u8</td><td>u8</td><td>u8</td><td>u8</td><td>u8</td><td>u8</td><td>u8</td><td>u8</td><td>u8</td><td>u8</td><td>u8</td><td>u8</td><td>u8</td><td>u8</td><td>u8</td><td>u8</td></tr></thead><tbody><tr><td>1766173</td><td>1</td><td>0</td><td>0</td><td>0</td><td>0</td><td>0</td><td>0</td><td>0</td><td>0</td><td>0</td><td>0</td><td>0</td><td>0</td><td>0</td><td>0</td><td>0</td><td>0</td><td>0</td><td>0</td><td>0</td><td>0</td><td>0</td><td>0</td><td>0</td><td>0</td><td>0</td><td>0</td><td>0</td><td>0</td><td>0</td><td>0</td><td>0</td><td>0</td><td>0</td><td>0</td><td>0</td><td>&hellip;</td><td>0</td><td>0</td><td>0</td><td>0</td><td>0</td><td>0</td><td>0</td><td>0</td><td>0</td><td>0</td><td>0</td><td>0</td><td>0</td><td>0</td><td>0</td><td>0</td><td>0</td><td>0</td><td>0</td><td>0</td><td>0</td><td>0</td><td>0</td><td>0</td><td>0</td><td>0</td><td>0</td><td>0</td><td>0</td><td>0</td><td>0</td><td>0</td><td>0</td><td>1</td><td>0</td><td>0</td><td>0</td></tr><tr><td>2011646</td><td>1</td><td>0</td><td>0</td><td>0</td><td>0</td><td>0</td><td>0</td><td>0</td><td>0</td><td>0</td><td>0</td><td>0</td><td>0</td><td>0</td><td>0</td><td>0</td><td>0</td><td>0</td><td>0</td><td>0</td><td>0</td><td>0</td><td>0</td><td>0</td><td>0</td><td>0</td><td>0</td><td>0</td><td>0</td><td>0</td><td>0</td><td>0</td><td>0</td><td>0</td><td>0</td><td>0</td><td>&hellip;</td><td>0</td><td>0</td><td>0</td><td>0</td><td>0</td><td>0</td><td>0</td><td>0</td><td>0</td><td>0</td><td>0</td><td>0</td><td>0</td><td>0</td><td>0</td><td>0</td><td>0</td><td>0</td><td>0</td><td>0</td><td>0</td><td>0</td><td>0</td><td>0</td><td>0</td><td>0</td><td>0</td><td>0</td><td>0</td><td>0</td><td>0</td><td>0</td><td>0</td><td>1</td><td>0</td><td>0</td><td>0</td></tr><tr><td>445436</td><td>1</td><td>0</td><td>0</td><td>0</td><td>0</td><td>0</td><td>0</td><td>0</td><td>0</td><td>0</td><td>0</td><td>0</td><td>0</td><td>0</td><td>0</td><td>0</td><td>0</td><td>0</td><td>0</td><td>0</td><td>0</td><td>0</td><td>0</td><td>0</td><td>0</td><td>0</td><td>0</td><td>0</td><td>0</td><td>0</td><td>0</td><td>0</td><td>0</td><td>0</td><td>0</td><td>0</td><td>&hellip;</td><td>0</td><td>0</td><td>0</td><td>0</td><td>0</td><td>0</td><td>0</td><td>0</td><td>0</td><td>0</td><td>0</td><td>0</td><td>0</td><td>0</td><td>0</td><td>0</td><td>0</td><td>0</td><td>0</td><td>0</td><td>0</td><td>0</td><td>0</td><td>0</td><td>0</td><td>0</td><td>0</td><td>0</td><td>0</td><td>0</td><td>0</td><td>0</td><td>0</td><td>1</td><td>0</td><td>0</td><td>0</td></tr><tr><td>5646019</td><td>1</td><td>0</td><td>0</td><td>0</td><td>0</td><td>0</td><td>0</td><td>0</td><td>0</td><td>0</td><td>0</td><td>0</td><td>0</td><td>0</td><td>0</td><td>0</td><td>0</td><td>0</td><td>0</td><td>0</td><td>0</td><td>0</td><td>0</td><td>0</td><td>0</td><td>0</td><td>0</td><td>0</td><td>0</td><td>0</td><td>0</td><td>0</td><td>0</td><td>0</td><td>0</td><td>0</td><td>&hellip;</td><td>0</td><td>0</td><td>0</td><td>0</td><td>0</td><td>0</td><td>0</td><td>0</td><td>0</td><td>0</td><td>0</td><td>0</td><td>0</td><td>0</td><td>0</td><td>0</td><td>0</td><td>0</td><td>0</td><td>0</td><td>0</td><td>0</td><td>0</td><td>0</td><td>0</td><td>0</td><td>0</td><td>0</td><td>0</td><td>0</td><td>0</td><td>0</td><td>0</td><td>1</td><td>0</td><td>0</td><td>0</td></tr><tr><td>3500474</td><td>1</td><td>0</td><td>0</td><td>0</td><td>0</td><td>0</td><td>0</td><td>0</td><td>0</td><td>0</td><td>0</td><td>0</td><td>0</td><td>0</td><td>0</td><td>0</td><td>0</td><td>0</td><td>0</td><td>0</td><td>0</td><td>0</td><td>0</td><td>0</td><td>0</td><td>0</td><td>0</td><td>0</td><td>0</td><td>0</td><td>0</td><td>0</td><td>0</td><td>0</td><td>0</td><td>0</td><td>&hellip;</td><td>0</td><td>0</td><td>0</td><td>0</td><td>0</td><td>0</td><td>0</td><td>0</td><td>0</td><td>0</td><td>0</td><td>0</td><td>0</td><td>0</td><td>0</td><td>0</td><td>0</td><td>0</td><td>0</td><td>0</td><td>0</td><td>0</td><td>0</td><td>0</td><td>0</td><td>0</td><td>0</td><td>0</td><td>0</td><td>0</td><td>0</td><td>0</td><td>0</td><td>1</td><td>0</td><td>0</td><td>0</td></tr></tbody></table></div>"
      ],
      "text/plain": [
       "shape: (5, 99)\n",
       "┌───────────┬───────────┬───────────┬───────────┬───┬───────────┬───────────┬───────────┬──────────┐\n",
       "│ PATIENT_N ┆ SDH:ADV00 ┆ SDH:ADV00 ┆ SDH:ADV00 ┆ … ┆ SDH:ADV04 ┆ SDH:ADV04 ┆ SDH:ADV04 ┆ SDH:ADV0 │\n",
       "│ UM        ┆ 41   _0.0 ┆ 41   _1.0 ┆ 51   _0.0 ┆   ┆ 00   _0.0 ┆ 00   _1.0 ┆ 01   _0.0 ┆ 401      │\n",
       "│ ---       ┆ ---       ┆ ---       ┆ ---       ┆   ┆ ---       ┆ ---       ┆ ---       ┆ _1.0     │\n",
       "│ i64       ┆ u8        ┆ u8        ┆ u8        ┆   ┆ u8        ┆ u8        ┆ u8        ┆ ---      │\n",
       "│           ┆           ┆           ┆           ┆   ┆           ┆           ┆           ┆ u8       │\n",
       "╞═══════════╪═══════════╪═══════════╪═══════════╪═══╪═══════════╪═══════════╪═══════════╪══════════╡\n",
       "│ 1766173   ┆ 1         ┆ 0         ┆ 0         ┆ … ┆ 1         ┆ 0         ┆ 0         ┆ 0        │\n",
       "│ 2011646   ┆ 1         ┆ 0         ┆ 0         ┆ … ┆ 1         ┆ 0         ┆ 0         ┆ 0        │\n",
       "│ 445436    ┆ 1         ┆ 0         ┆ 0         ┆ … ┆ 1         ┆ 0         ┆ 0         ┆ 0        │\n",
       "│ 5646019   ┆ 1         ┆ 0         ┆ 0         ┆ … ┆ 1         ┆ 0         ┆ 0         ┆ 0        │\n",
       "│ 3500474   ┆ 1         ┆ 0         ┆ 0         ┆ … ┆ 1         ┆ 0         ┆ 0         ┆ 0        │\n",
       "└───────────┴───────────┴───────────┴───────────┴───┴───────────┴───────────┴───────────┴──────────┘"
      ]
     },
     "execution_count": 99,
     "metadata": {},
     "output_type": "execute_result"
    }
   ],
   "source": [
    "sdoh_screening_df.collect().head()"
   ]
  },
  {
   "cell_type": "code",
   "execution_count": 100,
   "id": "09d5aa87",
   "metadata": {},
   "outputs": [
    {
     "data": {
      "text/plain": [
       "False"
      ]
     },
     "execution_count": 100,
     "metadata": {},
     "output_type": "execute_result"
    }
   ],
   "source": [
    "'1010.0' in diag_df.collect().columns"
   ]
  },
  {
   "cell_type": "code",
   "execution_count": 101,
   "id": "f5f8cdfa",
   "metadata": {},
   "outputs": [
    {
     "name": "stdout",
     "output_type": "stream",
     "text": [
      "Number of unique patient records in demographics dataframe:  826658\n",
      "Number of unique patient records in diagnoses dataframe:  664510\n",
      "Number of unique patient records in medications dataframe:  531310\n",
      "Number of unique patient records in labresults dataframe:  406036\n",
      "Number of unique patient records in BMI dataframe:  657056\n",
      "Number of unique patient records in Dia bp dataframe:  676081\n",
      "Number of unique patient records in Sys dataframe:  677752\n"
     ]
    }
   ],
   "source": [
    "print(\"Number of unique patient records in demographics dataframe: \", len(np.unique(demo_df.select('Patient_num')\n",
    "                                                                                    .collect()['Patient_num'].to_list())))\n",
    "print(\"Number of unique patient records in diagnoses dataframe: \", len(np.unique(diag_df.select('PATIENT_NUM')\n",
    "                                                                                    .collect()['PATIENT_NUM'].to_list())))\n",
    "print(\"Number of unique patient records in medications dataframe: \", len(np.unique(med_df.select('PATIENT_NUM')\n",
    "                                                                                    .collect()['PATIENT_NUM'].to_list())))\n",
    "print(\"Number of unique patient records in labresults dataframe: \", len(np.unique(lab_df.select('PATIENT_NUM')\n",
    "                                                                                    .collect()['PATIENT_NUM'].to_list())))\n",
    "print(\"Number of unique patient records in BMI dataframe: \", len(np.unique(bmi_df.select('PATIENT_NUM')\n",
    "                                                                                    .collect()['PATIENT_NUM'].to_list())))\n",
    "print(\"Number of unique patient records in Dia bp dataframe: \", len(np.unique(dia_bp_df.select('PATIENT_NUM')\n",
    "                                                                                    .collect()['PATIENT_NUM'].to_list())))\n",
    "print(\"Number of unique patient records in Sys dataframe: \", len(np.unique(sys_bp_df.select('PATIENT_NUM')\n",
    "                                                                                    .collect()['PATIENT_NUM'].to_list())))"
   ]
  },
  {
   "cell_type": "code",
   "execution_count": 102,
   "id": "2cb9e02f",
   "metadata": {},
   "outputs": [
    {
     "name": "stdout",
     "output_type": "stream",
     "text": [
      "Number of patient ids that have data in atleast one of the medications, lab_results, diagnoses and sdoh_screening:  43624\n"
     ]
    }
   ],
   "source": [
    "med_pids = np.unique(med_df.select(['PATIENT_NUM']).collect()['PATIENT_NUM'].to_list())\n",
    "dx_pids = np.unique(diag_df.select(['PATIENT_NUM']).collect()['PATIENT_NUM'].to_list())\n",
    "lab_pid = np.unique(lab_df.select(['PATIENT_NUM']).collect()['PATIENT_NUM'].to_list())\n",
    "\n",
    "if config.sdoh_screening_experiment:\n",
    "    sdoh_screening_pids = np.unique(sdoh_screening_df.select(['PATIENT_NUM']).collect()['PATIENT_NUM'].to_list())\n",
    "    result = (set(med_pids) | set(dx_pids) | set(lab_pid)) & set(sdoh_screening_pids)\n",
    "    result_list = list(result)\n",
    "    print(\"Number of patient ids that have data in atleast one of the medications, lab_results, diagnoses and sdoh_screening: \",len(result_list))\n",
    "\n",
    "else:\n",
    "    \n",
    "    # Convert lists to sets and use the union operation\n",
    "    result = set(med_pids) | set(dx_pids) | set(lab_pid)\n",
    "    result_list = list(result)\n",
    "    print(\"Number of patient ids that have data in atleast one of the medications, lab_results, diagnoses : \",len(result_list))\n"
   ]
  },
  {
   "cell_type": "code",
   "execution_count": 103,
   "id": "a3cc15c5",
   "metadata": {},
   "outputs": [],
   "source": [
    "target_df_filtered = target_df.filter(pl.col('PATIENT_NUM').is_in(result_list))\n",
    "demo_df_filtered = demo_df.filter(pl.col('Patient_num').is_in(result_list))"
   ]
  },
  {
   "cell_type": "code",
   "execution_count": 104,
   "id": "e8ffb2f9",
   "metadata": {},
   "outputs": [],
   "source": [
    "temp_df = target_df_filtered.join(demo_df_filtered, how = 'left', left_on = 'PATIENT_NUM', right_on = 'Patient_num')"
   ]
  },
  {
   "cell_type": "code",
   "execution_count": 105,
   "id": "e43d1d62",
   "metadata": {},
   "outputs": [
    {
     "name": "stderr",
     "output_type": "stream",
     "text": [
      "/tmp/ipykernel_26207/3421553128.py:1: PerformanceWarning: Determining the column names of a LazyFrame requires resolving its schema, which is a potentially expensive operation. Use `LazyFrame.collect_schema().names()` to get the column names without this warning.\n",
      "  temp_df.columns\n"
     ]
    },
    {
     "data": {
      "text/plain": [
       "['PATIENT_NUM',\n",
       " 'Age_group',\n",
       " 'FirstOutcomeDate',\n",
       " 'Outcome',\n",
       " 'Sex_CD',\n",
       " 'Race_CD',\n",
       " 'Hispanic_CD',\n",
       " 'Gender_CD']"
      ]
     },
     "execution_count": 105,
     "metadata": {},
     "output_type": "execute_result"
    }
   ],
   "source": [
    "temp_df.columns"
   ]
  },
  {
   "cell_type": "code",
   "execution_count": 106,
   "id": "759701da",
   "metadata": {},
   "outputs": [],
   "source": [
    "temp_df = temp_df.join(med_df, on = 'PATIENT_NUM', how = 'left')\n",
    "temp_df = temp_df.fill_null(0)"
   ]
  },
  {
   "cell_type": "code",
   "execution_count": 107,
   "id": "810ffef6",
   "metadata": {},
   "outputs": [
    {
     "data": {
      "text/html": [
       "<div><style>\n",
       ".dataframe > thead > tr,\n",
       ".dataframe > tbody > tr {\n",
       "  text-align: right;\n",
       "  white-space: pre-wrap;\n",
       "}\n",
       "</style>\n",
       "<small>shape: (5, 699)</small><table border=\"1\" class=\"dataframe\"><thead><tr><th>PATIENT_NUM</th><th>Age_group</th><th>FirstOutcomeDate</th><th>Outcome</th><th>Sex_CD</th><th>Race_CD</th><th>Hispanic_CD</th><th>Gender_CD</th><th>phenazopyridine</th><th>nitrofurantoin</th><th>lisinopril_hydrochlorothiazide</th><th>amlodipine</th><th>cephalexin</th><th>albuterol</th><th>nystatin</th><th>metronidazole</th><th>mometasone_formoterol</th><th>varicella-zoster virus vaccine live (Oka-Merck) strain</th><th>potassium chloride</th><th>chlorthalidone</th><th>ketorolac</th><th>azithromycin</th><th>triamcinolone</th><th>gabapentin</th><th>acetaminophen_hydrocodone</th><th>capsaicin</th><th>naproxen</th><th>tramadol</th><th>ibuprofen</th><th>codeine_promethazine</th><th>omeprazole</th><th>clotrimazole</th><th>lorazepam</th><th>fluticasone</th><th>calcium carbonate</th><th>loratadine</th><th>paroxetine</th><th>&hellip;</th><th>candesartan</th><th>liraglutide</th><th>tretinoin_fluocinolone_hydroquinone</th><th>carboxymethylcellulose_glycerin</th><th>L1 protein, human papillomavirus type 31 vaccine_L1 protein, human papillomavirus type 33 vaccine_L1 protein, human papillomavirus type 45 vaccine_L1 protein, human papillomavirus type 52 vaccine_L1 protein, human papillomavirus type 58 vaccine_L1 protein, human papillomavirus type 11 vaccine_L1 protein, human papillomavirus type 16 vaccine_L1 protein, human papillomavirus type 18 vaccine_L1 protein, human papillomavirus type 6 vaccine</th><th>neomycin</th><th>lamivudine</th><th>magnesium sulfate</th><th>Neisseria meningitidis serogroup A capsular polysaccharide diphtheria toxoid protein conjugate vaccine_Neisseria meningitidis serogroup C capsular polysaccharide diphtheria toxoid protein conjugate vaccine_Neisseria meningitidis serogroup W-135 capsular polysaccharide diphtheria toxoid protein conjugate vaccine_Neisseria meningitidis serogroup Y capsular polysaccharide diphtheria toxoid protein conjugate vaccine</th><th>maraviroc</th><th>rilpivirine</th><th>calcium acetate</th><th>eflornithine</th><th>sodium bicarbonate</th><th>lindane</th><th>entecavir</th><th>colestipol</th><th>hydrochlorothiazide_irbesartan</th><th>aspirin_caffeine_butalbital_codeine</th><th>indapamide</th><th>risedronate</th><th>vancomycin</th><th>leuprolide</th><th>amlodipine_olmesartan_hydrochlorothiazide</th><th>wheat dextrin</th><th>epinastine</th><th>desipramine</th><th>camphor_menthol</th><th>rx_cui:993763</th><th>estrogens, esterified (USP)</th><th>trospium</th><th>methylcellulose</th><th>clorazepate</th><th>rx_cui:1291624</th><th>spinosad</th><th>sofosbuvir</th><th>ribavirin</th></tr><tr><td>i64</td><td>str</td><td>datetime[μs]</td><td>i64</td><td>str</td><td>str</td><td>str</td><td>str</td><td>i32</td><td>i32</td><td>i32</td><td>i32</td><td>i32</td><td>i32</td><td>i32</td><td>i32</td><td>i32</td><td>i32</td><td>i32</td><td>i32</td><td>i32</td><td>i32</td><td>i32</td><td>i32</td><td>i32</td><td>i32</td><td>i32</td><td>i32</td><td>i32</td><td>i32</td><td>i32</td><td>i32</td><td>i32</td><td>i32</td><td>i32</td><td>i32</td><td>i32</td><td>&hellip;</td><td>i32</td><td>i32</td><td>i32</td><td>i32</td><td>i32</td><td>i32</td><td>i32</td><td>i32</td><td>i32</td><td>i32</td><td>i32</td><td>i32</td><td>i32</td><td>i32</td><td>i32</td><td>i32</td><td>i32</td><td>i32</td><td>i32</td><td>i32</td><td>i32</td><td>i32</td><td>i32</td><td>i32</td><td>i32</td><td>i32</td><td>i32</td><td>i32</td><td>i32</td><td>i32</td><td>i32</td><td>i32</td><td>i32</td><td>i32</td><td>i32</td><td>i32</td><td>i32</td></tr></thead><tbody><tr><td>576517</td><td>&quot;45-54&quot;</td><td>null</td><td>0</td><td>&quot;F&quot;</td><td>&quot;05&quot;</td><td>&quot;N&quot;</td><td>&quot;W&quot;</td><td>0</td><td>0</td><td>0</td><td>0</td><td>0</td><td>0</td><td>0</td><td>0</td><td>0</td><td>0</td><td>0</td><td>0</td><td>0</td><td>0</td><td>0</td><td>0</td><td>0</td><td>0</td><td>0</td><td>0</td><td>0</td><td>0</td><td>0</td><td>0</td><td>0</td><td>0</td><td>0</td><td>0</td><td>0</td><td>&hellip;</td><td>0</td><td>0</td><td>0</td><td>0</td><td>0</td><td>0</td><td>0</td><td>0</td><td>0</td><td>0</td><td>0</td><td>0</td><td>0</td><td>0</td><td>0</td><td>0</td><td>0</td><td>0</td><td>0</td><td>0</td><td>0</td><td>0</td><td>0</td><td>0</td><td>0</td><td>0</td><td>0</td><td>0</td><td>0</td><td>0</td><td>0</td><td>0</td><td>0</td><td>0</td><td>0</td><td>0</td><td>0</td></tr><tr><td>5886210</td><td>&quot;55-64&quot;</td><td>null</td><td>0</td><td>&quot;F&quot;</td><td>&quot;UN&quot;</td><td>&quot;Y&quot;</td><td>&quot;W&quot;</td><td>0</td><td>0</td><td>0</td><td>0</td><td>0</td><td>0</td><td>0</td><td>0</td><td>0</td><td>0</td><td>0</td><td>0</td><td>0</td><td>0</td><td>1</td><td>0</td><td>0</td><td>0</td><td>0</td><td>0</td><td>1</td><td>0</td><td>0</td><td>1</td><td>0</td><td>1</td><td>0</td><td>1</td><td>0</td><td>&hellip;</td><td>0</td><td>0</td><td>0</td><td>0</td><td>0</td><td>0</td><td>0</td><td>0</td><td>0</td><td>0</td><td>0</td><td>0</td><td>0</td><td>0</td><td>0</td><td>0</td><td>0</td><td>0</td><td>0</td><td>0</td><td>0</td><td>0</td><td>0</td><td>0</td><td>0</td><td>0</td><td>0</td><td>0</td><td>0</td><td>0</td><td>0</td><td>0</td><td>0</td><td>0</td><td>0</td><td>0</td><td>0</td></tr><tr><td>390161</td><td>&quot;18-34&quot;</td><td>null</td><td>0</td><td>&quot;F&quot;</td><td>&quot;03&quot;</td><td>&quot;UN&quot;</td><td>&quot;UN&quot;</td><td>0</td><td>0</td><td>0</td><td>0</td><td>0</td><td>0</td><td>0</td><td>0</td><td>0</td><td>0</td><td>0</td><td>0</td><td>0</td><td>0</td><td>0</td><td>0</td><td>0</td><td>0</td><td>0</td><td>0</td><td>0</td><td>0</td><td>0</td><td>0</td><td>0</td><td>0</td><td>0</td><td>0</td><td>0</td><td>&hellip;</td><td>0</td><td>0</td><td>0</td><td>0</td><td>0</td><td>0</td><td>0</td><td>0</td><td>0</td><td>0</td><td>0</td><td>0</td><td>0</td><td>0</td><td>0</td><td>0</td><td>0</td><td>0</td><td>0</td><td>0</td><td>0</td><td>0</td><td>0</td><td>0</td><td>0</td><td>0</td><td>0</td><td>0</td><td>0</td><td>0</td><td>0</td><td>0</td><td>0</td><td>0</td><td>0</td><td>0</td><td>0</td></tr><tr><td>5378498</td><td>&quot;55-64&quot;</td><td>null</td><td>0</td><td>&quot;F&quot;</td><td>&quot;05&quot;</td><td>&quot;UN&quot;</td><td>&quot;W&quot;</td><td>0</td><td>0</td><td>0</td><td>1</td><td>0</td><td>1</td><td>0</td><td>0</td><td>0</td><td>0</td><td>0</td><td>0</td><td>0</td><td>0</td><td>0</td><td>0</td><td>0</td><td>0</td><td>0</td><td>0</td><td>1</td><td>0</td><td>0</td><td>0</td><td>1</td><td>0</td><td>0</td><td>0</td><td>0</td><td>&hellip;</td><td>0</td><td>0</td><td>0</td><td>0</td><td>0</td><td>0</td><td>0</td><td>0</td><td>0</td><td>0</td><td>0</td><td>0</td><td>0</td><td>0</td><td>0</td><td>0</td><td>0</td><td>0</td><td>0</td><td>0</td><td>0</td><td>0</td><td>0</td><td>0</td><td>0</td><td>0</td><td>0</td><td>0</td><td>0</td><td>0</td><td>0</td><td>0</td><td>0</td><td>0</td><td>0</td><td>0</td><td>0</td></tr><tr><td>3476481</td><td>&quot;55-64&quot;</td><td>null</td><td>0</td><td>&quot;F&quot;</td><td>&quot;UN&quot;</td><td>&quot;UN&quot;</td><td>&quot;UN&quot;</td><td>0</td><td>0</td><td>0</td><td>0</td><td>0</td><td>0</td><td>0</td><td>0</td><td>0</td><td>0</td><td>0</td><td>0</td><td>0</td><td>0</td><td>0</td><td>0</td><td>0</td><td>0</td><td>0</td><td>0</td><td>0</td><td>0</td><td>0</td><td>0</td><td>0</td><td>0</td><td>0</td><td>0</td><td>0</td><td>&hellip;</td><td>0</td><td>0</td><td>0</td><td>0</td><td>0</td><td>0</td><td>0</td><td>0</td><td>0</td><td>0</td><td>0</td><td>0</td><td>0</td><td>0</td><td>0</td><td>0</td><td>0</td><td>0</td><td>0</td><td>0</td><td>0</td><td>0</td><td>0</td><td>0</td><td>0</td><td>0</td><td>0</td><td>0</td><td>0</td><td>0</td><td>0</td><td>0</td><td>0</td><td>0</td><td>0</td><td>0</td><td>0</td></tr></tbody></table></div>"
      ],
      "text/plain": [
       "shape: (5, 699)\n",
       "┌────────────┬───────────┬────────────┬─────────┬───┬───────────┬──────────┬───────────┬───────────┐\n",
       "│ PATIENT_NU ┆ Age_group ┆ FirstOutco ┆ Outcome ┆ … ┆ rx_cui:12 ┆ spinosad ┆ sofosbuvi ┆ ribavirin │\n",
       "│ M          ┆ ---       ┆ meDate     ┆ ---     ┆   ┆ 91624     ┆ ---      ┆ r         ┆ ---       │\n",
       "│ ---        ┆ str       ┆ ---        ┆ i64     ┆   ┆ ---       ┆ i32      ┆ ---       ┆ i32       │\n",
       "│ i64        ┆           ┆ datetime[μ ┆         ┆   ┆ i32       ┆          ┆ i32       ┆           │\n",
       "│            ┆           ┆ s]         ┆         ┆   ┆           ┆          ┆           ┆           │\n",
       "╞════════════╪═══════════╪════════════╪═════════╪═══╪═══════════╪══════════╪═══════════╪═══════════╡\n",
       "│ 576517     ┆ 45-54     ┆ null       ┆ 0       ┆ … ┆ 0         ┆ 0        ┆ 0         ┆ 0         │\n",
       "│ 5886210    ┆ 55-64     ┆ null       ┆ 0       ┆ … ┆ 0         ┆ 0        ┆ 0         ┆ 0         │\n",
       "│ 390161     ┆ 18-34     ┆ null       ┆ 0       ┆ … ┆ 0         ┆ 0        ┆ 0         ┆ 0         │\n",
       "│ 5378498    ┆ 55-64     ┆ null       ┆ 0       ┆ … ┆ 0         ┆ 0        ┆ 0         ┆ 0         │\n",
       "│ 3476481    ┆ 55-64     ┆ null       ┆ 0       ┆ … ┆ 0         ┆ 0        ┆ 0         ┆ 0         │\n",
       "└────────────┴───────────┴────────────┴─────────┴───┴───────────┴──────────┴───────────┴───────────┘"
      ]
     },
     "execution_count": 107,
     "metadata": {},
     "output_type": "execute_result"
    }
   ],
   "source": [
    "temp_df.head().collect()"
   ]
  },
  {
   "cell_type": "code",
   "execution_count": 108,
   "id": "0a8b8e2a",
   "metadata": {},
   "outputs": [],
   "source": [
    "temp_df = temp_df.join(diag_df, on = 'PATIENT_NUM', how = 'left')\n",
    "temp_df = temp_df.fill_null(0)"
   ]
  },
  {
   "cell_type": "code",
   "execution_count": 109,
   "id": "8ca72c9e",
   "metadata": {},
   "outputs": [
    {
     "data": {
      "text/html": [
       "<div><style>\n",
       ".dataframe > thead > tr,\n",
       ".dataframe > tbody > tr {\n",
       "  text-align: right;\n",
       "  white-space: pre-wrap;\n",
       "}\n",
       "</style>\n",
       "<small>shape: (5, 2_309)</small><table border=\"1\" class=\"dataframe\"><thead><tr><th>PATIENT_NUM</th><th>Age_group</th><th>FirstOutcomeDate</th><th>Outcome</th><th>Sex_CD</th><th>Race_CD</th><th>Hispanic_CD</th><th>Gender_CD</th><th>phenazopyridine</th><th>nitrofurantoin</th><th>lisinopril_hydrochlorothiazide</th><th>amlodipine</th><th>cephalexin</th><th>albuterol</th><th>nystatin</th><th>metronidazole</th><th>mometasone_formoterol</th><th>varicella-zoster virus vaccine live (Oka-Merck) strain</th><th>potassium chloride</th><th>chlorthalidone</th><th>ketorolac</th><th>azithromycin</th><th>triamcinolone</th><th>gabapentin</th><th>acetaminophen_hydrocodone</th><th>capsaicin</th><th>naproxen</th><th>tramadol</th><th>ibuprofen</th><th>codeine_promethazine</th><th>omeprazole</th><th>clotrimazole</th><th>lorazepam</th><th>fluticasone</th><th>calcium carbonate</th><th>loratadine</th><th>paroxetine</th><th>&hellip;</th><th>phe_145.2</th><th>phe_426.23</th><th>phe_590</th><th>phe_349.0</th><th>phe_198.5</th><th>phe_989.0</th><th>phe_375.0</th><th>ICD10CM:N89</th><th>phe_284.0</th><th>phe_686.4</th><th>phe_255.12</th><th>phe_149.1</th><th>ICD10CM:F34</th><th>ICD10CM:F17</th><th>phe_750.22</th><th>phe_151.0</th><th>phe_426.3</th><th>phe_374.6</th><th>phe_615</th><th>phe_709.5</th><th>phe_281.1</th><th>ICD10CM:R10</th><th>ICD10CM:R63</th><th>ICD10CM:F41</th><th>ICD10CM:N93</th><th>ICD10CM:R79</th><th>ICD10CM:L30</th><th>ICD10CM:R94</th><th>ICD10CM:N95</th><th>ICD10CM:B18</th><th>ICD10CM:N94</th><th>ICD10CM:R03</th><th>ICD10CM:R68</th><th>ICD10CM:E87</th><th>ICD10CM:R92</th><th>ICD10CM:G89</th><th>ICD10CM:R09</th></tr><tr><td>i64</td><td>str</td><td>datetime[μs]</td><td>i64</td><td>str</td><td>str</td><td>str</td><td>str</td><td>i32</td><td>i32</td><td>i32</td><td>i32</td><td>i32</td><td>i32</td><td>i32</td><td>i32</td><td>i32</td><td>i32</td><td>i32</td><td>i32</td><td>i32</td><td>i32</td><td>i32</td><td>i32</td><td>i32</td><td>i32</td><td>i32</td><td>i32</td><td>i32</td><td>i32</td><td>i32</td><td>i32</td><td>i32</td><td>i32</td><td>i32</td><td>i32</td><td>i32</td><td>&hellip;</td><td>i32</td><td>i32</td><td>i32</td><td>i32</td><td>i32</td><td>i32</td><td>i32</td><td>i32</td><td>i32</td><td>i32</td><td>i32</td><td>i32</td><td>i32</td><td>i32</td><td>i32</td><td>i32</td><td>i32</td><td>i32</td><td>i32</td><td>i32</td><td>i32</td><td>i32</td><td>i32</td><td>i32</td><td>i32</td><td>i32</td><td>i32</td><td>i32</td><td>i32</td><td>i32</td><td>i32</td><td>i32</td><td>i32</td><td>i32</td><td>i32</td><td>i32</td><td>i32</td></tr></thead><tbody><tr><td>576517</td><td>&quot;45-54&quot;</td><td>null</td><td>0</td><td>&quot;F&quot;</td><td>&quot;05&quot;</td><td>&quot;N&quot;</td><td>&quot;W&quot;</td><td>0</td><td>0</td><td>0</td><td>0</td><td>0</td><td>0</td><td>0</td><td>0</td><td>0</td><td>0</td><td>0</td><td>0</td><td>0</td><td>0</td><td>0</td><td>0</td><td>0</td><td>0</td><td>0</td><td>0</td><td>0</td><td>0</td><td>0</td><td>0</td><td>0</td><td>0</td><td>0</td><td>0</td><td>0</td><td>&hellip;</td><td>0</td><td>0</td><td>0</td><td>0</td><td>0</td><td>0</td><td>0</td><td>0</td><td>0</td><td>0</td><td>0</td><td>0</td><td>0</td><td>0</td><td>0</td><td>0</td><td>0</td><td>0</td><td>0</td><td>0</td><td>0</td><td>0</td><td>0</td><td>0</td><td>0</td><td>0</td><td>0</td><td>0</td><td>0</td><td>0</td><td>0</td><td>0</td><td>0</td><td>0</td><td>0</td><td>0</td><td>0</td></tr><tr><td>5886210</td><td>&quot;55-64&quot;</td><td>null</td><td>0</td><td>&quot;F&quot;</td><td>&quot;UN&quot;</td><td>&quot;Y&quot;</td><td>&quot;W&quot;</td><td>0</td><td>0</td><td>0</td><td>0</td><td>0</td><td>0</td><td>0</td><td>0</td><td>0</td><td>0</td><td>0</td><td>0</td><td>0</td><td>0</td><td>1</td><td>0</td><td>0</td><td>0</td><td>0</td><td>0</td><td>1</td><td>0</td><td>0</td><td>1</td><td>0</td><td>1</td><td>0</td><td>1</td><td>0</td><td>&hellip;</td><td>0</td><td>0</td><td>0</td><td>0</td><td>0</td><td>0</td><td>0</td><td>0</td><td>0</td><td>0</td><td>0</td><td>0</td><td>0</td><td>0</td><td>0</td><td>0</td><td>0</td><td>0</td><td>0</td><td>0</td><td>0</td><td>0</td><td>0</td><td>0</td><td>0</td><td>0</td><td>0</td><td>0</td><td>0</td><td>0</td><td>0</td><td>0</td><td>0</td><td>0</td><td>0</td><td>0</td><td>0</td></tr><tr><td>390161</td><td>&quot;18-34&quot;</td><td>null</td><td>0</td><td>&quot;F&quot;</td><td>&quot;03&quot;</td><td>&quot;UN&quot;</td><td>&quot;UN&quot;</td><td>0</td><td>0</td><td>0</td><td>0</td><td>0</td><td>0</td><td>0</td><td>0</td><td>0</td><td>0</td><td>0</td><td>0</td><td>0</td><td>0</td><td>0</td><td>0</td><td>0</td><td>0</td><td>0</td><td>0</td><td>0</td><td>0</td><td>0</td><td>0</td><td>0</td><td>0</td><td>0</td><td>0</td><td>0</td><td>&hellip;</td><td>0</td><td>0</td><td>0</td><td>0</td><td>0</td><td>0</td><td>0</td><td>0</td><td>0</td><td>0</td><td>0</td><td>0</td><td>0</td><td>0</td><td>0</td><td>0</td><td>0</td><td>0</td><td>0</td><td>0</td><td>0</td><td>0</td><td>0</td><td>0</td><td>0</td><td>0</td><td>0</td><td>0</td><td>0</td><td>0</td><td>0</td><td>0</td><td>0</td><td>0</td><td>0</td><td>0</td><td>0</td></tr><tr><td>5378498</td><td>&quot;55-64&quot;</td><td>null</td><td>0</td><td>&quot;F&quot;</td><td>&quot;05&quot;</td><td>&quot;UN&quot;</td><td>&quot;W&quot;</td><td>0</td><td>0</td><td>0</td><td>1</td><td>0</td><td>1</td><td>0</td><td>0</td><td>0</td><td>0</td><td>0</td><td>0</td><td>0</td><td>0</td><td>0</td><td>0</td><td>0</td><td>0</td><td>0</td><td>0</td><td>1</td><td>0</td><td>0</td><td>0</td><td>1</td><td>0</td><td>0</td><td>0</td><td>0</td><td>&hellip;</td><td>0</td><td>0</td><td>0</td><td>0</td><td>0</td><td>0</td><td>0</td><td>0</td><td>0</td><td>0</td><td>0</td><td>0</td><td>0</td><td>0</td><td>0</td><td>0</td><td>0</td><td>0</td><td>0</td><td>0</td><td>0</td><td>0</td><td>0</td><td>0</td><td>0</td><td>0</td><td>0</td><td>0</td><td>0</td><td>0</td><td>0</td><td>0</td><td>0</td><td>0</td><td>0</td><td>0</td><td>0</td></tr><tr><td>3476481</td><td>&quot;55-64&quot;</td><td>null</td><td>0</td><td>&quot;F&quot;</td><td>&quot;UN&quot;</td><td>&quot;UN&quot;</td><td>&quot;UN&quot;</td><td>0</td><td>0</td><td>0</td><td>0</td><td>0</td><td>0</td><td>0</td><td>0</td><td>0</td><td>0</td><td>0</td><td>0</td><td>0</td><td>0</td><td>0</td><td>0</td><td>0</td><td>0</td><td>0</td><td>0</td><td>0</td><td>0</td><td>0</td><td>0</td><td>0</td><td>0</td><td>0</td><td>0</td><td>0</td><td>&hellip;</td><td>0</td><td>0</td><td>0</td><td>0</td><td>0</td><td>0</td><td>0</td><td>0</td><td>0</td><td>0</td><td>0</td><td>0</td><td>0</td><td>0</td><td>0</td><td>0</td><td>0</td><td>0</td><td>0</td><td>0</td><td>0</td><td>0</td><td>0</td><td>0</td><td>0</td><td>0</td><td>0</td><td>0</td><td>0</td><td>0</td><td>0</td><td>0</td><td>0</td><td>0</td><td>0</td><td>0</td><td>0</td></tr></tbody></table></div>"
      ],
      "text/plain": [
       "shape: (5, 2_309)\n",
       "┌────────────┬───────────┬───────────┬─────────┬───┬───────────┬───────────┬───────────┬───────────┐\n",
       "│ PATIENT_NU ┆ Age_group ┆ FirstOutc ┆ Outcome ┆ … ┆ ICD10CM:E ┆ ICD10CM:R ┆ ICD10CM:G ┆ ICD10CM:R │\n",
       "│ M          ┆ ---       ┆ omeDate   ┆ ---     ┆   ┆ 87        ┆ 92        ┆ 89        ┆ 09        │\n",
       "│ ---        ┆ str       ┆ ---       ┆ i64     ┆   ┆ ---       ┆ ---       ┆ ---       ┆ ---       │\n",
       "│ i64        ┆           ┆ datetime[ ┆         ┆   ┆ i32       ┆ i32       ┆ i32       ┆ i32       │\n",
       "│            ┆           ┆ μs]       ┆         ┆   ┆           ┆           ┆           ┆           │\n",
       "╞════════════╪═══════════╪═══════════╪═════════╪═══╪═══════════╪═══════════╪═══════════╪═══════════╡\n",
       "│ 576517     ┆ 45-54     ┆ null      ┆ 0       ┆ … ┆ 0         ┆ 0         ┆ 0         ┆ 0         │\n",
       "│ 5886210    ┆ 55-64     ┆ null      ┆ 0       ┆ … ┆ 0         ┆ 0         ┆ 0         ┆ 0         │\n",
       "│ 390161     ┆ 18-34     ┆ null      ┆ 0       ┆ … ┆ 0         ┆ 0         ┆ 0         ┆ 0         │\n",
       "│ 5378498    ┆ 55-64     ┆ null      ┆ 0       ┆ … ┆ 0         ┆ 0         ┆ 0         ┆ 0         │\n",
       "│ 3476481    ┆ 55-64     ┆ null      ┆ 0       ┆ … ┆ 0         ┆ 0         ┆ 0         ┆ 0         │\n",
       "└────────────┴───────────┴───────────┴─────────┴───┴───────────┴───────────┴───────────┴───────────┘"
      ]
     },
     "execution_count": 109,
     "metadata": {},
     "output_type": "execute_result"
    }
   ],
   "source": [
    "temp_df.head().collect()"
   ]
  },
  {
   "cell_type": "code",
   "execution_count": 110,
   "id": "ce9bd4cc",
   "metadata": {},
   "outputs": [],
   "source": [
    "temp_df = temp_df.join(lab_df, on = 'PATIENT_NUM', how = 'left')\n",
    "temp_df = temp_df.fill_null(-100)"
   ]
  },
  {
   "cell_type": "code",
   "execution_count": 111,
   "id": "124c69aa",
   "metadata": {},
   "outputs": [],
   "source": [
    "temp_df = temp_df.with_columns([\n",
    "    pl.col('Sex_CD').str.replace(r'^(NI|OT|UN)$', 'UNK', literal=False).alias('Sex_CD'),\n",
    "    pl.col('Race_CD').str.replace(r'^(NI|OT|UN)$', 'UNK', literal=False).alias('Race_CD'),\n",
    "    pl.col('Hispanic_CD').str.replace(r'^(R|NI|UN)$', 'UNK', literal=False).alias('Hispanic_CD'),\n",
    "    pl.col('Gender_CD').str.replace(r'^(OT|NI|UN)$', 'UNK', literal=False).alias('Gender_CD')\n",
    "])"
   ]
  },
  {
   "cell_type": "code",
   "execution_count": 112,
   "id": "cabbf26f",
   "metadata": {},
   "outputs": [],
   "source": [
    "if config.use_bmi_bp:\n",
    "    temp_df = temp_df.join(bmi_df, on = 'PATIENT_NUM', how = 'left')\n",
    "    temp_df = temp_df.fill_null(-100)\n",
    "    temp_df = temp_df.join(dia_bp_df, on = 'PATIENT_NUM', how = 'left')\n",
    "    temp_df = temp_df.fill_null(-100)\n",
    "    temp_df = temp_df.join(sys_bp_df, on = 'PATIENT_NUM', how = 'left')\n",
    "    temp_df = temp_df.fill_null(-100)\n",
    "    "
   ]
  },
  {
   "cell_type": "code",
   "execution_count": 113,
   "id": "d4cf38f8",
   "metadata": {},
   "outputs": [],
   "source": [
    "if config.use_cvs:\n",
    "    temp_df = temp_df.join(cvs_df, on = 'PATIENT_NUM',how ='left')\n",
    "    temp_df = temp_df.fill_null(-100)"
   ]
  },
  {
   "cell_type": "code",
   "execution_count": 114,
   "id": "ea87e01f",
   "metadata": {},
   "outputs": [
    {
     "data": {
      "text/html": [
       "<div><style>\n",
       ".dataframe > thead > tr,\n",
       ".dataframe > tbody > tr {\n",
       "  text-align: right;\n",
       "  white-space: pre-wrap;\n",
       "}\n",
       "</style>\n",
       "<small>shape: (5, 2_792)</small><table border=\"1\" class=\"dataframe\"><thead><tr><th>PATIENT_NUM</th><th>Age_group</th><th>FirstOutcomeDate</th><th>Outcome</th><th>Sex_CD</th><th>Race_CD</th><th>Hispanic_CD</th><th>Gender_CD</th><th>phenazopyridine</th><th>nitrofurantoin</th><th>lisinopril_hydrochlorothiazide</th><th>amlodipine</th><th>cephalexin</th><th>albuterol</th><th>nystatin</th><th>metronidazole</th><th>mometasone_formoterol</th><th>varicella-zoster virus vaccine live (Oka-Merck) strain</th><th>potassium chloride</th><th>chlorthalidone</th><th>ketorolac</th><th>azithromycin</th><th>triamcinolone</th><th>gabapentin</th><th>acetaminophen_hydrocodone</th><th>capsaicin</th><th>naproxen</th><th>tramadol</th><th>ibuprofen</th><th>codeine_promethazine</th><th>omeprazole</th><th>clotrimazole</th><th>lorazepam</th><th>fluticasone</th><th>calcium carbonate</th><th>loratadine</th><th>paroxetine</th><th>&hellip;</th><th>LOINC:41649-5</th><th>LOINC:13801-6</th><th>LOINC:49502-8</th><th>LOINC:15061-5</th><th>LOINC:6874-2</th><th>LOINC:32046-5</th><th>LOINC:2240-0</th><th>LOINC:3054-4</th><th>LOINC:6942-7</th><th>LOINC:29239-1</th><th>LOINC:42245-1</th><th>LOINC:1854-9</th><th>LOINC:35707-9</th><th>LOINC:2148-5</th><th>LOINC:38252-3</th><th>LOINC:72888-1</th><th>LOINC:83102-4</th><th>LOINC:38506-2</th><th>LOINC:26499-4</th><th>LOINC:2609-6</th><th>LOINC:2579-1</th><th>LOINC:26019-0</th><th>LOINC:33951-5</th><th>LOINC:26498-6</th><th>LOINC:2669-0</th><th>LOINC:30433-7</th><th>LOINC:42246-9</th><th>mode_height</th><th>median_weight</th><th>BMI</th><th>median_diastolic_value</th><th>median_systolic_value</th><th>ACS_MedHHIncome</th><th>ACS_GINI</th><th>ACS_Unemployment</th><th>ACS_pctPoverty100</th><th>ACS_pctCollGrad</th></tr><tr><td>i64</td><td>str</td><td>datetime[μs]</td><td>i64</td><td>str</td><td>str</td><td>str</td><td>str</td><td>i32</td><td>i32</td><td>i32</td><td>i32</td><td>i32</td><td>i32</td><td>i32</td><td>i32</td><td>i32</td><td>i32</td><td>i32</td><td>i32</td><td>i32</td><td>i32</td><td>i32</td><td>i32</td><td>i32</td><td>i32</td><td>i32</td><td>i32</td><td>i32</td><td>i32</td><td>i32</td><td>i32</td><td>i32</td><td>i32</td><td>i32</td><td>i32</td><td>i32</td><td>&hellip;</td><td>f32</td><td>f32</td><td>f32</td><td>f32</td><td>f32</td><td>f32</td><td>f32</td><td>f32</td><td>f32</td><td>f32</td><td>f32</td><td>f32</td><td>f32</td><td>f32</td><td>f32</td><td>f32</td><td>f32</td><td>f32</td><td>f32</td><td>f32</td><td>f32</td><td>f32</td><td>f32</td><td>f32</td><td>f32</td><td>f32</td><td>f32</td><td>f32</td><td>f32</td><td>f64</td><td>f32</td><td>f32</td><td>f32</td><td>f32</td><td>f32</td><td>f32</td><td>f32</td></tr></thead><tbody><tr><td>576517</td><td>&quot;45-54&quot;</td><td>null</td><td>0</td><td>&quot;F&quot;</td><td>&quot;05&quot;</td><td>&quot;N&quot;</td><td>&quot;W&quot;</td><td>0</td><td>0</td><td>0</td><td>0</td><td>0</td><td>0</td><td>0</td><td>0</td><td>0</td><td>0</td><td>0</td><td>0</td><td>0</td><td>0</td><td>0</td><td>0</td><td>0</td><td>0</td><td>0</td><td>0</td><td>0</td><td>0</td><td>0</td><td>0</td><td>0</td><td>0</td><td>0</td><td>0</td><td>0</td><td>&hellip;</td><td>-100.0</td><td>-100.0</td><td>-100.0</td><td>-100.0</td><td>-100.0</td><td>-100.0</td><td>-100.0</td><td>-100.0</td><td>-100.0</td><td>-100.0</td><td>-100.0</td><td>-100.0</td><td>-100.0</td><td>-100.0</td><td>-100.0</td><td>-100.0</td><td>-100.0</td><td>-100.0</td><td>-100.0</td><td>-100.0</td><td>-100.0</td><td>-100.0</td><td>-100.0</td><td>-100.0</td><td>-100.0</td><td>-100.0</td><td>-100.0</td><td>65.0</td><td>208.0</td><td>34.609231</td><td>102.5</td><td>107.71154</td><td>76434.0</td><td>41.59</td><td>3.82166</td><td>3.36611</td><td>37.911701</td></tr><tr><td>5886210</td><td>&quot;55-64&quot;</td><td>null</td><td>0</td><td>&quot;F&quot;</td><td>&quot;UNK&quot;</td><td>&quot;Y&quot;</td><td>&quot;W&quot;</td><td>0</td><td>0</td><td>0</td><td>0</td><td>0</td><td>0</td><td>0</td><td>0</td><td>0</td><td>0</td><td>0</td><td>0</td><td>0</td><td>0</td><td>1</td><td>0</td><td>0</td><td>0</td><td>0</td><td>0</td><td>1</td><td>0</td><td>0</td><td>1</td><td>0</td><td>1</td><td>0</td><td>1</td><td>0</td><td>&hellip;</td><td>-100.0</td><td>-100.0</td><td>-100.0</td><td>-100.0</td><td>-100.0</td><td>-100.0</td><td>-100.0</td><td>-100.0</td><td>-100.0</td><td>-100.0</td><td>-100.0</td><td>-100.0</td><td>-100.0</td><td>-100.0</td><td>-100.0</td><td>-100.0</td><td>-100.0</td><td>-100.0</td><td>-100.0</td><td>-100.0</td><td>-100.0</td><td>-100.0</td><td>-100.0</td><td>-100.0</td><td>-100.0</td><td>-100.0</td><td>-100.0</td><td>63.0</td><td>255.5</td><td>45.254849</td><td>75.756668</td><td>91.0</td><td>76704.0</td><td>44.709999</td><td>6.7926</td><td>12.4702</td><td>30.646299</td></tr><tr><td>390161</td><td>&quot;18-34&quot;</td><td>null</td><td>0</td><td>&quot;F&quot;</td><td>&quot;03&quot;</td><td>&quot;UNK&quot;</td><td>&quot;UNK&quot;</td><td>0</td><td>0</td><td>0</td><td>0</td><td>0</td><td>0</td><td>0</td><td>0</td><td>0</td><td>0</td><td>0</td><td>0</td><td>0</td><td>0</td><td>0</td><td>0</td><td>0</td><td>0</td><td>0</td><td>0</td><td>0</td><td>0</td><td>0</td><td>0</td><td>0</td><td>0</td><td>0</td><td>0</td><td>0</td><td>&hellip;</td><td>-100.0</td><td>-100.0</td><td>-100.0</td><td>-100.0</td><td>-100.0</td><td>-100.0</td><td>-100.0</td><td>-100.0</td><td>-100.0</td><td>-100.0</td><td>-100.0</td><td>-100.0</td><td>-100.0</td><td>-100.0</td><td>-100.0</td><td>-100.0</td><td>-100.0</td><td>-100.0</td><td>-100.0</td><td>-100.0</td><td>-100.0</td><td>-100.0</td><td>-100.0</td><td>-100.0</td><td>-100.0</td><td>-100.0</td><td>-100.0</td><td>-100.0</td><td>-100.0</td><td>-100.0</td><td>-100.0</td><td>-100.0</td><td>73399.0</td><td>46.189999</td><td>4.58634</td><td>15.5891</td><td>40.646801</td></tr><tr><td>5378498</td><td>&quot;55-64&quot;</td><td>null</td><td>0</td><td>&quot;F&quot;</td><td>&quot;05&quot;</td><td>&quot;UNK&quot;</td><td>&quot;W&quot;</td><td>0</td><td>0</td><td>0</td><td>1</td><td>0</td><td>1</td><td>0</td><td>0</td><td>0</td><td>0</td><td>0</td><td>0</td><td>0</td><td>0</td><td>0</td><td>0</td><td>0</td><td>0</td><td>0</td><td>0</td><td>1</td><td>0</td><td>0</td><td>0</td><td>1</td><td>0</td><td>0</td><td>0</td><td>0</td><td>&hellip;</td><td>-100.0</td><td>-100.0</td><td>-100.0</td><td>-100.0</td><td>-100.0</td><td>-100.0</td><td>-100.0</td><td>-100.0</td><td>-100.0</td><td>-100.0</td><td>-100.0</td><td>-100.0</td><td>-100.0</td><td>-100.0</td><td>-100.0</td><td>-100.0</td><td>-100.0</td><td>-100.0</td><td>-100.0</td><td>-100.0</td><td>-100.0</td><td>-100.0</td><td>-100.0</td><td>-100.0</td><td>-100.0</td><td>-100.0</td><td>-100.0</td><td>64.5</td><td>167.199997</td><td>28.253494</td><td>111.333336</td><td>129.570374</td><td>93160.0</td><td>39.09</td><td>5.84489</td><td>4.42763</td><td>40.234001</td></tr><tr><td>3476481</td><td>&quot;55-64&quot;</td><td>null</td><td>0</td><td>&quot;F&quot;</td><td>&quot;UNK&quot;</td><td>&quot;UNK&quot;</td><td>&quot;UNK&quot;</td><td>0</td><td>0</td><td>0</td><td>0</td><td>0</td><td>0</td><td>0</td><td>0</td><td>0</td><td>0</td><td>0</td><td>0</td><td>0</td><td>0</td><td>0</td><td>0</td><td>0</td><td>0</td><td>0</td><td>0</td><td>0</td><td>0</td><td>0</td><td>0</td><td>0</td><td>0</td><td>0</td><td>0</td><td>0</td><td>&hellip;</td><td>-100.0</td><td>-100.0</td><td>-100.0</td><td>-100.0</td><td>-100.0</td><td>-100.0</td><td>-100.0</td><td>-100.0</td><td>-100.0</td><td>-100.0</td><td>-100.0</td><td>-100.0</td><td>-100.0</td><td>-100.0</td><td>-100.0</td><td>-100.0</td><td>-100.0</td><td>-100.0</td><td>-100.0</td><td>-100.0</td><td>-100.0</td><td>-100.0</td><td>-100.0</td><td>-100.0</td><td>-100.0</td><td>-100.0</td><td>-100.0</td><td>59.5</td><td>127.5</td><td>25.318126</td><td>108.791664</td><td>108.791664</td><td>122599.0</td><td>46.139999</td><td>3.65209</td><td>12.5629</td><td>68.350899</td></tr></tbody></table></div>"
      ],
      "text/plain": [
       "shape: (5, 2_792)\n",
       "┌────────────┬───────────┬───────────┬─────────┬───┬───────────┬───────────┬───────────┬───────────┐\n",
       "│ PATIENT_NU ┆ Age_group ┆ FirstOutc ┆ Outcome ┆ … ┆ ACS_GINI  ┆ ACS_Unemp ┆ ACS_pctPo ┆ ACS_pctCo │\n",
       "│ M          ┆ ---       ┆ omeDate   ┆ ---     ┆   ┆ ---       ┆ loyment   ┆ verty100  ┆ llGrad    │\n",
       "│ ---        ┆ str       ┆ ---       ┆ i64     ┆   ┆ f32       ┆ ---       ┆ ---       ┆ ---       │\n",
       "│ i64        ┆           ┆ datetime[ ┆         ┆   ┆           ┆ f32       ┆ f32       ┆ f32       │\n",
       "│            ┆           ┆ μs]       ┆         ┆   ┆           ┆           ┆           ┆           │\n",
       "╞════════════╪═══════════╪═══════════╪═════════╪═══╪═══════════╪═══════════╪═══════════╪═══════════╡\n",
       "│ 576517     ┆ 45-54     ┆ null      ┆ 0       ┆ … ┆ 41.59     ┆ 3.82166   ┆ 3.36611   ┆ 37.911701 │\n",
       "│ 5886210    ┆ 55-64     ┆ null      ┆ 0       ┆ … ┆ 44.709999 ┆ 6.7926    ┆ 12.4702   ┆ 30.646299 │\n",
       "│ 390161     ┆ 18-34     ┆ null      ┆ 0       ┆ … ┆ 46.189999 ┆ 4.58634   ┆ 15.5891   ┆ 40.646801 │\n",
       "│ 5378498    ┆ 55-64     ┆ null      ┆ 0       ┆ … ┆ 39.09     ┆ 5.84489   ┆ 4.42763   ┆ 40.234001 │\n",
       "│ 3476481    ┆ 55-64     ┆ null      ┆ 0       ┆ … ┆ 46.139999 ┆ 3.65209   ┆ 12.5629   ┆ 68.350899 │\n",
       "└────────────┴───────────┴───────────┴─────────┴───┴───────────┴───────────┴───────────┴───────────┘"
      ]
     },
     "execution_count": 114,
     "metadata": {},
     "output_type": "execute_result"
    }
   ],
   "source": [
    "temp_df.head().collect()"
   ]
  },
  {
   "cell_type": "code",
   "execution_count": 115,
   "id": "f2a491d7",
   "metadata": {},
   "outputs": [
    {
     "data": {
      "text/plain": [
       "(array([0, 1]), array([42123,  1501]))"
      ]
     },
     "execution_count": 115,
     "metadata": {},
     "output_type": "execute_result"
    }
   ],
   "source": [
    "np.unique(temp_df.select('Outcome').collect()['Outcome'].to_list(), return_counts = True)"
   ]
  },
  {
   "cell_type": "code",
   "execution_count": 116,
   "id": "003aced6",
   "metadata": {},
   "outputs": [
    {
     "data": {
      "text/plain": [
       "(array(['GQ', 'M', 'TG', 'UNK', 'W'], dtype='<U3'),\n",
       " array([   94, 11477,   225,  9157, 22671]))"
      ]
     },
     "execution_count": 116,
     "metadata": {},
     "output_type": "execute_result"
    }
   ],
   "source": [
    "np.unique(temp_df.select('Gender_CD').collect()['Gender_CD'].to_list(), return_counts = True)"
   ]
  },
  {
   "cell_type": "code",
   "execution_count": 117,
   "id": "157362bf",
   "metadata": {},
   "outputs": [],
   "source": [
    "# Dicts to map \n",
    "age_group_dict = {'18-34': 0,\n",
    "                  '35-44': 1,\n",
    "                  '45-54':2,\n",
    "                  '55-64':3,\n",
    "                  '65-74':4,\n",
    "                  '75_older':5    \n",
    "}\n",
    "\n",
    "# nominal encoding Gender, Sex and Race\n"
   ]
  },
  {
   "cell_type": "code",
   "execution_count": 118,
   "id": "36809b60",
   "metadata": {},
   "outputs": [],
   "source": [
    "temp_df = temp_df.with_columns(pl.col('Age_group').replace_strict(age_group_dict).alias('Age_group'))"
   ]
  },
  {
   "cell_type": "code",
   "execution_count": 119,
   "id": "aa269b16",
   "metadata": {},
   "outputs": [
    {
     "data": {
      "text/html": [
       "<div><style>\n",
       ".dataframe > thead > tr,\n",
       ".dataframe > tbody > tr {\n",
       "  text-align: right;\n",
       "  white-space: pre-wrap;\n",
       "}\n",
       "</style>\n",
       "<small>shape: (5, 2_792)</small><table border=\"1\" class=\"dataframe\"><thead><tr><th>PATIENT_NUM</th><th>Age_group</th><th>FirstOutcomeDate</th><th>Outcome</th><th>Sex_CD</th><th>Race_CD</th><th>Hispanic_CD</th><th>Gender_CD</th><th>phenazopyridine</th><th>nitrofurantoin</th><th>lisinopril_hydrochlorothiazide</th><th>amlodipine</th><th>cephalexin</th><th>albuterol</th><th>nystatin</th><th>metronidazole</th><th>mometasone_formoterol</th><th>varicella-zoster virus vaccine live (Oka-Merck) strain</th><th>potassium chloride</th><th>chlorthalidone</th><th>ketorolac</th><th>azithromycin</th><th>triamcinolone</th><th>gabapentin</th><th>acetaminophen_hydrocodone</th><th>capsaicin</th><th>naproxen</th><th>tramadol</th><th>ibuprofen</th><th>codeine_promethazine</th><th>omeprazole</th><th>clotrimazole</th><th>lorazepam</th><th>fluticasone</th><th>calcium carbonate</th><th>loratadine</th><th>paroxetine</th><th>&hellip;</th><th>LOINC:41649-5</th><th>LOINC:13801-6</th><th>LOINC:49502-8</th><th>LOINC:15061-5</th><th>LOINC:6874-2</th><th>LOINC:32046-5</th><th>LOINC:2240-0</th><th>LOINC:3054-4</th><th>LOINC:6942-7</th><th>LOINC:29239-1</th><th>LOINC:42245-1</th><th>LOINC:1854-9</th><th>LOINC:35707-9</th><th>LOINC:2148-5</th><th>LOINC:38252-3</th><th>LOINC:72888-1</th><th>LOINC:83102-4</th><th>LOINC:38506-2</th><th>LOINC:26499-4</th><th>LOINC:2609-6</th><th>LOINC:2579-1</th><th>LOINC:26019-0</th><th>LOINC:33951-5</th><th>LOINC:26498-6</th><th>LOINC:2669-0</th><th>LOINC:30433-7</th><th>LOINC:42246-9</th><th>mode_height</th><th>median_weight</th><th>BMI</th><th>median_diastolic_value</th><th>median_systolic_value</th><th>ACS_MedHHIncome</th><th>ACS_GINI</th><th>ACS_Unemployment</th><th>ACS_pctPoverty100</th><th>ACS_pctCollGrad</th></tr><tr><td>i64</td><td>i64</td><td>datetime[μs]</td><td>i64</td><td>str</td><td>str</td><td>str</td><td>str</td><td>i32</td><td>i32</td><td>i32</td><td>i32</td><td>i32</td><td>i32</td><td>i32</td><td>i32</td><td>i32</td><td>i32</td><td>i32</td><td>i32</td><td>i32</td><td>i32</td><td>i32</td><td>i32</td><td>i32</td><td>i32</td><td>i32</td><td>i32</td><td>i32</td><td>i32</td><td>i32</td><td>i32</td><td>i32</td><td>i32</td><td>i32</td><td>i32</td><td>i32</td><td>&hellip;</td><td>f32</td><td>f32</td><td>f32</td><td>f32</td><td>f32</td><td>f32</td><td>f32</td><td>f32</td><td>f32</td><td>f32</td><td>f32</td><td>f32</td><td>f32</td><td>f32</td><td>f32</td><td>f32</td><td>f32</td><td>f32</td><td>f32</td><td>f32</td><td>f32</td><td>f32</td><td>f32</td><td>f32</td><td>f32</td><td>f32</td><td>f32</td><td>f32</td><td>f32</td><td>f64</td><td>f32</td><td>f32</td><td>f32</td><td>f32</td><td>f32</td><td>f32</td><td>f32</td></tr></thead><tbody><tr><td>576517</td><td>2</td><td>null</td><td>0</td><td>&quot;F&quot;</td><td>&quot;05&quot;</td><td>&quot;N&quot;</td><td>&quot;W&quot;</td><td>0</td><td>0</td><td>0</td><td>0</td><td>0</td><td>0</td><td>0</td><td>0</td><td>0</td><td>0</td><td>0</td><td>0</td><td>0</td><td>0</td><td>0</td><td>0</td><td>0</td><td>0</td><td>0</td><td>0</td><td>0</td><td>0</td><td>0</td><td>0</td><td>0</td><td>0</td><td>0</td><td>0</td><td>0</td><td>&hellip;</td><td>-100.0</td><td>-100.0</td><td>-100.0</td><td>-100.0</td><td>-100.0</td><td>-100.0</td><td>-100.0</td><td>-100.0</td><td>-100.0</td><td>-100.0</td><td>-100.0</td><td>-100.0</td><td>-100.0</td><td>-100.0</td><td>-100.0</td><td>-100.0</td><td>-100.0</td><td>-100.0</td><td>-100.0</td><td>-100.0</td><td>-100.0</td><td>-100.0</td><td>-100.0</td><td>-100.0</td><td>-100.0</td><td>-100.0</td><td>-100.0</td><td>65.0</td><td>208.0</td><td>34.609231</td><td>102.5</td><td>107.71154</td><td>76434.0</td><td>41.59</td><td>3.82166</td><td>3.36611</td><td>37.911701</td></tr><tr><td>5886210</td><td>3</td><td>null</td><td>0</td><td>&quot;F&quot;</td><td>&quot;UNK&quot;</td><td>&quot;Y&quot;</td><td>&quot;W&quot;</td><td>0</td><td>0</td><td>0</td><td>0</td><td>0</td><td>0</td><td>0</td><td>0</td><td>0</td><td>0</td><td>0</td><td>0</td><td>0</td><td>0</td><td>1</td><td>0</td><td>0</td><td>0</td><td>0</td><td>0</td><td>1</td><td>0</td><td>0</td><td>1</td><td>0</td><td>1</td><td>0</td><td>1</td><td>0</td><td>&hellip;</td><td>-100.0</td><td>-100.0</td><td>-100.0</td><td>-100.0</td><td>-100.0</td><td>-100.0</td><td>-100.0</td><td>-100.0</td><td>-100.0</td><td>-100.0</td><td>-100.0</td><td>-100.0</td><td>-100.0</td><td>-100.0</td><td>-100.0</td><td>-100.0</td><td>-100.0</td><td>-100.0</td><td>-100.0</td><td>-100.0</td><td>-100.0</td><td>-100.0</td><td>-100.0</td><td>-100.0</td><td>-100.0</td><td>-100.0</td><td>-100.0</td><td>63.0</td><td>255.5</td><td>45.254849</td><td>75.756668</td><td>91.0</td><td>76704.0</td><td>44.709999</td><td>6.7926</td><td>12.4702</td><td>30.646299</td></tr><tr><td>390161</td><td>0</td><td>null</td><td>0</td><td>&quot;F&quot;</td><td>&quot;03&quot;</td><td>&quot;UNK&quot;</td><td>&quot;UNK&quot;</td><td>0</td><td>0</td><td>0</td><td>0</td><td>0</td><td>0</td><td>0</td><td>0</td><td>0</td><td>0</td><td>0</td><td>0</td><td>0</td><td>0</td><td>0</td><td>0</td><td>0</td><td>0</td><td>0</td><td>0</td><td>0</td><td>0</td><td>0</td><td>0</td><td>0</td><td>0</td><td>0</td><td>0</td><td>0</td><td>&hellip;</td><td>-100.0</td><td>-100.0</td><td>-100.0</td><td>-100.0</td><td>-100.0</td><td>-100.0</td><td>-100.0</td><td>-100.0</td><td>-100.0</td><td>-100.0</td><td>-100.0</td><td>-100.0</td><td>-100.0</td><td>-100.0</td><td>-100.0</td><td>-100.0</td><td>-100.0</td><td>-100.0</td><td>-100.0</td><td>-100.0</td><td>-100.0</td><td>-100.0</td><td>-100.0</td><td>-100.0</td><td>-100.0</td><td>-100.0</td><td>-100.0</td><td>-100.0</td><td>-100.0</td><td>-100.0</td><td>-100.0</td><td>-100.0</td><td>73399.0</td><td>46.189999</td><td>4.58634</td><td>15.5891</td><td>40.646801</td></tr><tr><td>5378498</td><td>3</td><td>null</td><td>0</td><td>&quot;F&quot;</td><td>&quot;05&quot;</td><td>&quot;UNK&quot;</td><td>&quot;W&quot;</td><td>0</td><td>0</td><td>0</td><td>1</td><td>0</td><td>1</td><td>0</td><td>0</td><td>0</td><td>0</td><td>0</td><td>0</td><td>0</td><td>0</td><td>0</td><td>0</td><td>0</td><td>0</td><td>0</td><td>0</td><td>1</td><td>0</td><td>0</td><td>0</td><td>1</td><td>0</td><td>0</td><td>0</td><td>0</td><td>&hellip;</td><td>-100.0</td><td>-100.0</td><td>-100.0</td><td>-100.0</td><td>-100.0</td><td>-100.0</td><td>-100.0</td><td>-100.0</td><td>-100.0</td><td>-100.0</td><td>-100.0</td><td>-100.0</td><td>-100.0</td><td>-100.0</td><td>-100.0</td><td>-100.0</td><td>-100.0</td><td>-100.0</td><td>-100.0</td><td>-100.0</td><td>-100.0</td><td>-100.0</td><td>-100.0</td><td>-100.0</td><td>-100.0</td><td>-100.0</td><td>-100.0</td><td>64.5</td><td>167.199997</td><td>28.253494</td><td>111.333336</td><td>129.570374</td><td>93160.0</td><td>39.09</td><td>5.84489</td><td>4.42763</td><td>40.234001</td></tr><tr><td>3476481</td><td>3</td><td>null</td><td>0</td><td>&quot;F&quot;</td><td>&quot;UNK&quot;</td><td>&quot;UNK&quot;</td><td>&quot;UNK&quot;</td><td>0</td><td>0</td><td>0</td><td>0</td><td>0</td><td>0</td><td>0</td><td>0</td><td>0</td><td>0</td><td>0</td><td>0</td><td>0</td><td>0</td><td>0</td><td>0</td><td>0</td><td>0</td><td>0</td><td>0</td><td>0</td><td>0</td><td>0</td><td>0</td><td>0</td><td>0</td><td>0</td><td>0</td><td>0</td><td>&hellip;</td><td>-100.0</td><td>-100.0</td><td>-100.0</td><td>-100.0</td><td>-100.0</td><td>-100.0</td><td>-100.0</td><td>-100.0</td><td>-100.0</td><td>-100.0</td><td>-100.0</td><td>-100.0</td><td>-100.0</td><td>-100.0</td><td>-100.0</td><td>-100.0</td><td>-100.0</td><td>-100.0</td><td>-100.0</td><td>-100.0</td><td>-100.0</td><td>-100.0</td><td>-100.0</td><td>-100.0</td><td>-100.0</td><td>-100.0</td><td>-100.0</td><td>59.5</td><td>127.5</td><td>25.318126</td><td>108.791664</td><td>108.791664</td><td>122599.0</td><td>46.139999</td><td>3.65209</td><td>12.5629</td><td>68.350899</td></tr></tbody></table></div>"
      ],
      "text/plain": [
       "shape: (5, 2_792)\n",
       "┌────────────┬───────────┬───────────┬─────────┬───┬───────────┬───────────┬───────────┬───────────┐\n",
       "│ PATIENT_NU ┆ Age_group ┆ FirstOutc ┆ Outcome ┆ … ┆ ACS_GINI  ┆ ACS_Unemp ┆ ACS_pctPo ┆ ACS_pctCo │\n",
       "│ M          ┆ ---       ┆ omeDate   ┆ ---     ┆   ┆ ---       ┆ loyment   ┆ verty100  ┆ llGrad    │\n",
       "│ ---        ┆ i64       ┆ ---       ┆ i64     ┆   ┆ f32       ┆ ---       ┆ ---       ┆ ---       │\n",
       "│ i64        ┆           ┆ datetime[ ┆         ┆   ┆           ┆ f32       ┆ f32       ┆ f32       │\n",
       "│            ┆           ┆ μs]       ┆         ┆   ┆           ┆           ┆           ┆           │\n",
       "╞════════════╪═══════════╪═══════════╪═════════╪═══╪═══════════╪═══════════╪═══════════╪═══════════╡\n",
       "│ 576517     ┆ 2         ┆ null      ┆ 0       ┆ … ┆ 41.59     ┆ 3.82166   ┆ 3.36611   ┆ 37.911701 │\n",
       "│ 5886210    ┆ 3         ┆ null      ┆ 0       ┆ … ┆ 44.709999 ┆ 6.7926    ┆ 12.4702   ┆ 30.646299 │\n",
       "│ 390161     ┆ 0         ┆ null      ┆ 0       ┆ … ┆ 46.189999 ┆ 4.58634   ┆ 15.5891   ┆ 40.646801 │\n",
       "│ 5378498    ┆ 3         ┆ null      ┆ 0       ┆ … ┆ 39.09     ┆ 5.84489   ┆ 4.42763   ┆ 40.234001 │\n",
       "│ 3476481    ┆ 3         ┆ null      ┆ 0       ┆ … ┆ 46.139999 ┆ 3.65209   ┆ 12.5629   ┆ 68.350899 │\n",
       "└────────────┴───────────┴───────────┴─────────┴───┴───────────┴───────────┴───────────┴───────────┘"
      ]
     },
     "execution_count": 119,
     "metadata": {},
     "output_type": "execute_result"
    }
   ],
   "source": [
    "temp_df.head().collect()"
   ]
  },
  {
   "cell_type": "code",
   "execution_count": 120,
   "id": "5c79e593",
   "metadata": {},
   "outputs": [],
   "source": [
    "if config.sdoh_screening_experiment:\n",
    "    temp_df = temp_df.join(sdoh_screening_df, on = 'PATIENT_NUM', how = 'left')"
   ]
  },
  {
   "cell_type": "code",
   "execution_count": 121,
   "id": "39378362",
   "metadata": {},
   "outputs": [],
   "source": [
    "temp_materialized_df = temp_df.collect()\n",
    "\n",
    "# Define the columns to one-hot encode\n",
    "columns_to_one_hot_encode = ['Sex_CD', 'Race_CD', 'Hispanic_CD', 'Gender_CD']\n",
    "\n",
    "# Combine the non-encoded columns with the encoded ones\n",
    "dt_modeling_cat_encoded_df = pl.concat([\n",
    "    temp_materialized_df.select(pl.all().exclude(columns_to_one_hot_encode)),\n",
    "    temp_materialized_df.select(columns_to_one_hot_encode).to_dummies()\n",
    "], how='horizontal')"
   ]
  },
  {
   "cell_type": "code",
   "execution_count": 122,
   "id": "6a9deba0",
   "metadata": {},
   "outputs": [
    {
     "data": {
      "text/html": [
       "<div><style>\n",
       ".dataframe > thead > tr,\n",
       ".dataframe > tbody > tr {\n",
       "  text-align: right;\n",
       "  white-space: pre-wrap;\n",
       "}\n",
       "</style>\n",
       "<small>shape: (5, 2_903)</small><table border=\"1\" class=\"dataframe\"><thead><tr><th>PATIENT_NUM</th><th>Age_group</th><th>FirstOutcomeDate</th><th>Outcome</th><th>phenazopyridine</th><th>nitrofurantoin</th><th>lisinopril_hydrochlorothiazide</th><th>amlodipine</th><th>cephalexin</th><th>albuterol</th><th>nystatin</th><th>metronidazole</th><th>mometasone_formoterol</th><th>varicella-zoster virus vaccine live (Oka-Merck) strain</th><th>potassium chloride</th><th>chlorthalidone</th><th>ketorolac</th><th>azithromycin</th><th>triamcinolone</th><th>gabapentin</th><th>acetaminophen_hydrocodone</th><th>capsaicin</th><th>naproxen</th><th>tramadol</th><th>ibuprofen</th><th>codeine_promethazine</th><th>omeprazole</th><th>clotrimazole</th><th>lorazepam</th><th>fluticasone</th><th>calcium carbonate</th><th>loratadine</th><th>paroxetine</th><th>cholecalciferol</th><th>aluminum chloride</th><th>penicillin G</th><th>sulfamethoxazole_trimethoprim</th><th>&hellip;</th><th>SDH:ADV0104   _0.0</th><th>SDH:ADV0104   _1.0</th><th>SDH:ADV0261   _0.0</th><th>SDH:ADV0261   _1.0</th><th>SDH:ADV0114   _0.0</th><th>SDH:ADV0114   _1.0</th><th>SDH:ADV0115   _0.0</th><th>SDH:ADV0115   _1.0</th><th>SDH:ADV0116   _0.0</th><th>SDH:ADV0116   _1.0</th><th>SDH:ADV0117   _0.0</th><th>SDH:ADV0117   _1.0</th><th>SDH:ADV0118   _0.0</th><th>SDH:ADV0118   _1.0</th><th>SDH:ADV0262   _0.0</th><th>SDH:ADV0262   _1.0</th><th>SDH:ADV0400   _0.0</th><th>SDH:ADV0400   _1.0</th><th>SDH:ADV0401   _0.0</th><th>SDH:ADV0401   _1.0</th><th>Sex_CD_F</th><th>Sex_CD_M</th><th>Sex_CD_UNK</th><th>Race_CD_01</th><th>Race_CD_02</th><th>Race_CD_03</th><th>Race_CD_04</th><th>Race_CD_05</th><th>Race_CD_UNK</th><th>Hispanic_CD_N</th><th>Hispanic_CD_UNK</th><th>Hispanic_CD_Y</th><th>Gender_CD_GQ</th><th>Gender_CD_M</th><th>Gender_CD_TG</th><th>Gender_CD_UNK</th><th>Gender_CD_W</th></tr><tr><td>i64</td><td>i64</td><td>datetime[μs]</td><td>i64</td><td>i32</td><td>i32</td><td>i32</td><td>i32</td><td>i32</td><td>i32</td><td>i32</td><td>i32</td><td>i32</td><td>i32</td><td>i32</td><td>i32</td><td>i32</td><td>i32</td><td>i32</td><td>i32</td><td>i32</td><td>i32</td><td>i32</td><td>i32</td><td>i32</td><td>i32</td><td>i32</td><td>i32</td><td>i32</td><td>i32</td><td>i32</td><td>i32</td><td>i32</td><td>i32</td><td>i32</td><td>i32</td><td>i32</td><td>&hellip;</td><td>u8</td><td>u8</td><td>u8</td><td>u8</td><td>u8</td><td>u8</td><td>u8</td><td>u8</td><td>u8</td><td>u8</td><td>u8</td><td>u8</td><td>u8</td><td>u8</td><td>u8</td><td>u8</td><td>u8</td><td>u8</td><td>u8</td><td>u8</td><td>u8</td><td>u8</td><td>u8</td><td>u8</td><td>u8</td><td>u8</td><td>u8</td><td>u8</td><td>u8</td><td>u8</td><td>u8</td><td>u8</td><td>u8</td><td>u8</td><td>u8</td><td>u8</td><td>u8</td></tr></thead><tbody><tr><td>576517</td><td>2</td><td>null</td><td>0</td><td>0</td><td>0</td><td>0</td><td>0</td><td>0</td><td>0</td><td>0</td><td>0</td><td>0</td><td>0</td><td>0</td><td>0</td><td>0</td><td>0</td><td>0</td><td>0</td><td>0</td><td>0</td><td>0</td><td>0</td><td>0</td><td>0</td><td>0</td><td>0</td><td>0</td><td>0</td><td>0</td><td>0</td><td>0</td><td>0</td><td>0</td><td>0</td><td>0</td><td>&hellip;</td><td>0</td><td>0</td><td>0</td><td>0</td><td>0</td><td>0</td><td>0</td><td>0</td><td>0</td><td>0</td><td>0</td><td>0</td><td>0</td><td>0</td><td>0</td><td>0</td><td>0</td><td>1</td><td>0</td><td>0</td><td>1</td><td>0</td><td>0</td><td>0</td><td>0</td><td>0</td><td>0</td><td>1</td><td>0</td><td>1</td><td>0</td><td>0</td><td>0</td><td>0</td><td>0</td><td>0</td><td>1</td></tr><tr><td>5886210</td><td>3</td><td>null</td><td>0</td><td>0</td><td>0</td><td>0</td><td>0</td><td>0</td><td>0</td><td>0</td><td>0</td><td>0</td><td>0</td><td>0</td><td>0</td><td>0</td><td>0</td><td>1</td><td>0</td><td>0</td><td>0</td><td>0</td><td>0</td><td>1</td><td>0</td><td>0</td><td>1</td><td>0</td><td>1</td><td>0</td><td>1</td><td>0</td><td>0</td><td>0</td><td>0</td><td>0</td><td>&hellip;</td><td>0</td><td>0</td><td>0</td><td>0</td><td>0</td><td>1</td><td>1</td><td>0</td><td>1</td><td>0</td><td>0</td><td>1</td><td>0</td><td>1</td><td>0</td><td>0</td><td>0</td><td>0</td><td>0</td><td>0</td><td>1</td><td>0</td><td>0</td><td>0</td><td>0</td><td>0</td><td>0</td><td>0</td><td>1</td><td>0</td><td>0</td><td>1</td><td>0</td><td>0</td><td>0</td><td>0</td><td>1</td></tr><tr><td>390161</td><td>0</td><td>null</td><td>0</td><td>0</td><td>0</td><td>0</td><td>0</td><td>0</td><td>0</td><td>0</td><td>0</td><td>0</td><td>0</td><td>0</td><td>0</td><td>0</td><td>0</td><td>0</td><td>0</td><td>0</td><td>0</td><td>0</td><td>0</td><td>0</td><td>0</td><td>0</td><td>0</td><td>0</td><td>0</td><td>0</td><td>0</td><td>0</td><td>0</td><td>0</td><td>0</td><td>0</td><td>&hellip;</td><td>0</td><td>0</td><td>0</td><td>0</td><td>0</td><td>1</td><td>1</td><td>0</td><td>0</td><td>1</td><td>1</td><td>0</td><td>1</td><td>0</td><td>0</td><td>0</td><td>0</td><td>0</td><td>0</td><td>0</td><td>1</td><td>0</td><td>0</td><td>0</td><td>0</td><td>1</td><td>0</td><td>0</td><td>0</td><td>0</td><td>1</td><td>0</td><td>0</td><td>0</td><td>0</td><td>1</td><td>0</td></tr><tr><td>5378498</td><td>3</td><td>null</td><td>0</td><td>0</td><td>0</td><td>0</td><td>1</td><td>0</td><td>1</td><td>0</td><td>0</td><td>0</td><td>0</td><td>0</td><td>0</td><td>0</td><td>0</td><td>0</td><td>0</td><td>0</td><td>0</td><td>0</td><td>0</td><td>1</td><td>0</td><td>0</td><td>0</td><td>1</td><td>0</td><td>0</td><td>0</td><td>0</td><td>0</td><td>0</td><td>0</td><td>0</td><td>&hellip;</td><td>1</td><td>0</td><td>0</td><td>0</td><td>0</td><td>0</td><td>0</td><td>0</td><td>0</td><td>0</td><td>0</td><td>0</td><td>0</td><td>0</td><td>0</td><td>0</td><td>0</td><td>0</td><td>0</td><td>0</td><td>1</td><td>0</td><td>0</td><td>0</td><td>0</td><td>0</td><td>0</td><td>1</td><td>0</td><td>0</td><td>1</td><td>0</td><td>0</td><td>0</td><td>0</td><td>0</td><td>1</td></tr><tr><td>3476481</td><td>3</td><td>null</td><td>0</td><td>0</td><td>0</td><td>0</td><td>0</td><td>0</td><td>0</td><td>0</td><td>0</td><td>0</td><td>0</td><td>0</td><td>0</td><td>0</td><td>0</td><td>0</td><td>0</td><td>0</td><td>0</td><td>0</td><td>0</td><td>0</td><td>0</td><td>0</td><td>0</td><td>0</td><td>0</td><td>0</td><td>0</td><td>0</td><td>0</td><td>0</td><td>0</td><td>0</td><td>&hellip;</td><td>1</td><td>0</td><td>0</td><td>0</td><td>0</td><td>0</td><td>0</td><td>0</td><td>0</td><td>0</td><td>0</td><td>0</td><td>0</td><td>0</td><td>0</td><td>0</td><td>0</td><td>0</td><td>0</td><td>0</td><td>1</td><td>0</td><td>0</td><td>0</td><td>0</td><td>0</td><td>0</td><td>0</td><td>1</td><td>0</td><td>1</td><td>0</td><td>0</td><td>0</td><td>0</td><td>1</td><td>0</td></tr></tbody></table></div>"
      ],
      "text/plain": [
       "shape: (5, 2_903)\n",
       "┌────────────┬───────────┬───────────┬─────────┬───┬───────────┬───────────┬───────────┬───────────┐\n",
       "│ PATIENT_NU ┆ Age_group ┆ FirstOutc ┆ Outcome ┆ … ┆ Gender_CD ┆ Gender_CD ┆ Gender_CD ┆ Gender_CD │\n",
       "│ M          ┆ ---       ┆ omeDate   ┆ ---     ┆   ┆ _M        ┆ _TG       ┆ _UNK      ┆ _W        │\n",
       "│ ---        ┆ i64       ┆ ---       ┆ i64     ┆   ┆ ---       ┆ ---       ┆ ---       ┆ ---       │\n",
       "│ i64        ┆           ┆ datetime[ ┆         ┆   ┆ u8        ┆ u8        ┆ u8        ┆ u8        │\n",
       "│            ┆           ┆ μs]       ┆         ┆   ┆           ┆           ┆           ┆           │\n",
       "╞════════════╪═══════════╪═══════════╪═════════╪═══╪═══════════╪═══════════╪═══════════╪═══════════╡\n",
       "│ 576517     ┆ 2         ┆ null      ┆ 0       ┆ … ┆ 0         ┆ 0         ┆ 0         ┆ 1         │\n",
       "│ 5886210    ┆ 3         ┆ null      ┆ 0       ┆ … ┆ 0         ┆ 0         ┆ 0         ┆ 1         │\n",
       "│ 390161     ┆ 0         ┆ null      ┆ 0       ┆ … ┆ 0         ┆ 0         ┆ 1         ┆ 0         │\n",
       "│ 5378498    ┆ 3         ┆ null      ┆ 0       ┆ … ┆ 0         ┆ 0         ┆ 0         ┆ 1         │\n",
       "│ 3476481    ┆ 3         ┆ null      ┆ 0       ┆ … ┆ 0         ┆ 0         ┆ 1         ┆ 0         │\n",
       "└────────────┴───────────┴───────────┴─────────┴───┴───────────┴───────────┴───────────┴───────────┘"
      ]
     },
     "execution_count": 122,
     "metadata": {},
     "output_type": "execute_result"
    }
   ],
   "source": [
    "dt_modeling_cat_encoded_df.head()"
   ]
  },
  {
   "cell_type": "code",
   "execution_count": 123,
   "id": "fb39328d",
   "metadata": {},
   "outputs": [
    {
     "data": {
      "text/plain": [
       "True"
      ]
     },
     "execution_count": 123,
     "metadata": {},
     "output_type": "execute_result"
    }
   ],
   "source": [
    "# drop unk column in demogrpahics 'Sex_CD', 'Race_CD', 'Hispanic_CD', 'Gender_CD'\n",
    "'Hispanic_CD_UNK' in dt_modeling_cat_encoded_df.columns"
   ]
  },
  {
   "cell_type": "code",
   "execution_count": 124,
   "id": "21322e6d",
   "metadata": {},
   "outputs": [],
   "source": [
    "dt_modeling_cat_encoded_df = dt_modeling_cat_encoded_df.drop('Sex_CD_UNK','Race_CD_UNK','Hispanic_CD_UNK','Gender_CD_UNK')"
   ]
  },
  {
   "cell_type": "code",
   "execution_count": 125,
   "id": "3b943f85",
   "metadata": {},
   "outputs": [
    {
     "data": {
      "text/plain": [
       "['Gender_CD_GQ', 'Gender_CD_M', 'Gender_CD_TG', 'Gender_CD_W']"
      ]
     },
     "execution_count": 125,
     "metadata": {},
     "output_type": "execute_result"
    }
   ],
   "source": [
    "[col for col in dt_modeling_cat_encoded_df.columns if col.startswith('Gender')]"
   ]
  },
  {
   "cell_type": "code",
   "execution_count": 126,
   "id": "c9590b39",
   "metadata": {},
   "outputs": [
    {
     "data": {
      "text/plain": [
       "(array([0, 1]), array([42123,  1501]))"
      ]
     },
     "execution_count": 126,
     "metadata": {},
     "output_type": "execute_result"
    }
   ],
   "source": [
    "np.unique(dt_modeling_cat_encoded_df['Outcome'].to_list(), return_counts = True)"
   ]
  },
  {
   "cell_type": "code",
   "execution_count": 127,
   "id": "f30e76a2",
   "metadata": {},
   "outputs": [],
   "source": [
    "if 'initial' in config.diag_path:\n",
    "    diag_prefix = 'initial_3_chars'\n",
    "else:\n",
    "    diag_prefix = 'phemap'\n",
    "\n",
    "if 'without_icd10z' in config.diag_path:\n",
    "    diag_prefix = diag_prefix+'_without_icd10z'\n",
    "else:\n",
    "    diag_prefix = diag_prefix +'_with_icd10z'\n",
    "    \n",
    "if \"all_features\" in config.lab_path:\n",
    "    lab_prefix = 'all_features'\n",
    "else:\n",
    "    lab_prefix = 'domain_expert'\n",
    "\n",
    "sdoh_prefix = ''    \n",
    "if config.sdoh_screening_experiment:\n",
    "    sdoh_prefix = '_SDOH_Screening'\n",
    "\n",
    "if config.use_bmi_bp and config.use_cvs:\n",
    "    dt_modeling_cat_encoded_df.write_parquet('./Determine_final_modeling_datasets/Determine_joined_med_'+'usage'\n",
    "                      +'_lab_'+'median_'+lab_prefix\n",
    "                      +'_diag_'+diag_prefix\n",
    "                      +'_bmi_bp_'+ 'cvs'              \n",
    "                      +'_ordinal_nominal_encoded'+sdoh_prefix+\n",
    "                      '.parquet')\n",
    "\n",
    "elif config.use_bmi_bp:\n",
    "    dt_modeling_cat_encoded_df.write_parquet('./Determine_final_modeling_datasets/Determine_joined_med_'+'usage'\n",
    "                      +'_lab_'+'median_'+lab_prefix\n",
    "                      +'_diag_'+diag_prefix\n",
    "                      +'_bmi_bp_'              \n",
    "                      +'_ordinal_nominal_encoded'+sdoh_prefix+\n",
    "                      '.parquet')\n",
    "\n",
    "\n",
    "else:\n",
    "    dt_modeling_cat_encoded_df.write_parquet('./Determine_final_modeling_datasets/Determine_joined_med_'+'usage'\n",
    "                      +'_lab_'+'median_'+lab_prefix\n",
    "                      +'_diag_'+diag_prefix\n",
    "                      +'_ordinal_nominal_encoded'+sdoh_prefix+\n",
    "                      '.parquet')"
   ]
  },
  {
   "cell_type": "markdown",
   "id": "4e64824d",
   "metadata": {},
   "source": [
    "# Checking missing values for each patient"
   ]
  },
  {
   "cell_type": "code",
   "execution_count": null,
   "id": "1160daf1",
   "metadata": {},
   "outputs": [],
   "source": [
    "modeling_df = pl.read_parquet('./Determine_final_modeling_datasets/Determine_joined_med_'+'usage'\n",
    "                      +'_lab_'+'latest'\n",
    "                      +'_diag_'+'phe_icd10'\n",
    "                      +'_bmi_bp_'+ 'cvs'              \n",
    "                      +'_ordinal_nominal_encoded'+\n",
    "                      '.parquet')"
   ]
  },
  {
   "cell_type": "code",
   "execution_count": null,
   "id": "d553ccbf",
   "metadata": {},
   "outputs": [],
   "source": [
    "modeling_df = modeling_df.select([\n",
    "    pl.col(col).cast(pl.Float32) if col.startswith('LOINC') else pl.col(col)\n",
    "    for col in modeling_df.columns\n",
    "])"
   ]
  },
  {
   "cell_type": "code",
   "execution_count": null,
   "id": "86080e1e",
   "metadata": {},
   "outputs": [],
   "source": [
    "modeling_df.head()"
   ]
  },
  {
   "cell_type": "code",
   "execution_count": null,
   "id": "0403fe25",
   "metadata": {},
   "outputs": [],
   "source": [
    "columns_to_ignore = [ 'Outcome', 'Age_group', 'FirstOutcomeDate'] + ['Sex_CD_F',\n",
    " 'Sex_CD_M',\n",
    " #'Sex_CD_UNK',\n",
    " 'Race_CD_01',\n",
    " 'Race_CD_02',\n",
    " 'Race_CD_03',\n",
    " 'Race_CD_04',\n",
    " 'Race_CD_05',\n",
    " #'Race_CD_06',\n",
    " #'Race_CD_07',\n",
    " #'Race_CD_UNK',\n",
    " 'Hispanic_CD_N',\n",
    " #'Hispanic_CD_UNK',\n",
    " 'Hispanic_CD_Y',\n",
    " 'Gender_CD_GQ',\n",
    " 'Gender_CD_M',\n",
    " 'Gender_CD_TG',\n",
    " #'Gender_CD_UNK',\n",
    " 'Gender_CD_W']"
   ]
  },
  {
   "cell_type": "code",
   "execution_count": null,
   "id": "80a34d4c",
   "metadata": {},
   "outputs": [],
   "source": [
    "modeling_df = modeling_df.drop(columns_to_ignore)"
   ]
  },
  {
   "cell_type": "code",
   "execution_count": null,
   "id": "3f3e170a",
   "metadata": {},
   "outputs": [],
   "source": [
    "lab_columns  = [col for col in modeling_df.columns if col.startswith('LOINC')]\n",
    "med_diag_columns = list(set(modeling_df.columns) - set(lab_columns))"
   ]
  },
  {
   "cell_type": "code",
   "execution_count": null,
   "id": "b8a9fd2a",
   "metadata": {},
   "outputs": [],
   "source": [
    "print(\"Numbe of lab results columns\", len(lab_columns))\n",
    "print(\"Numbe of medications and diagnoses results columns\", len(med_diag_columns))"
   ]
  },
  {
   "cell_type": "code",
   "execution_count": null,
   "id": "dd272d02",
   "metadata": {},
   "outputs": [],
   "source": [
    "# sum_value_count_lab = []\n",
    "# sum_value_count_med_diag = []\n",
    "# for row in modeling_df.rows(named=True):\n",
    "    \n",
    "#     labs_dict = {key:row[key] for key in lab_columns}\n",
    "#     med_diag_dict = {key:row[key] for key in med_diag_columns}\n",
    "    \n",
    "#     sum_value_count_lab.append(len(lab_columns) - list(labs_dict.values()).count(-100))\n",
    "#     sum_value_count_med_diag.append(len(med_diag_columns) - list(med_diag_dict.values()).count(0))"
   ]
  },
  {
   "cell_type": "code",
   "execution_count": null,
   "id": "c02697f9",
   "metadata": {},
   "outputs": [],
   "source": [
    "def count_values_in_med_diag(row:dict):\n",
    "    return len(row) - list(row.values()).count(0)\n",
    "\n",
    "def count_values_in_lab(row:dict):\n",
    "    float_values = list(row.values())\n",
    "    return len(float_values) - float_values.count(-100)"
   ]
  },
  {
   "cell_type": "code",
   "execution_count": null,
   "id": "233f3fb7",
   "metadata": {},
   "outputs": [],
   "source": [
    "counts_df = modeling_df.with_columns(\n",
    "    pl.struct(pl.all().exclude(lab_columns)).map_elements(count_values_in_med_diag, return_dtype=pl.Int64).alias('non_null_med_diag_value_count'),\n",
    "    pl.struct(pl.all().exclude(med_diag_columns)).map_elements(count_values_in_lab, return_dtype=pl.Int64).alias('non_null_lab_value_count')\n",
    "    )"
   ]
  },
  {
   "cell_type": "code",
   "execution_count": null,
   "id": "44b71c6d",
   "metadata": {},
   "outputs": [],
   "source": [
    "counts_df.head()"
   ]
  },
  {
   "cell_type": "code",
   "execution_count": null,
   "id": "d7a503ea",
   "metadata": {},
   "outputs": [],
   "source": [
    "counts_df = counts_df.with_columns(pl.sum_horizontal(['non_null_med_diag_value_count','non_null_lab_value_count']).alias(\"Count_of_available_features\"))"
   ]
  },
  {
   "cell_type": "code",
   "execution_count": null,
   "id": "0416eb67",
   "metadata": {},
   "outputs": [],
   "source": [
    "counts_df.head()"
   ]
  },
  {
   "cell_type": "code",
   "execution_count": null,
   "id": "622b689b",
   "metadata": {},
   "outputs": [],
   "source": [
    "with open('catboost_false_positives_pids_test.pkl','rb') as f:\n",
    "    fp_ids = pickle.load(f)"
   ]
  },
  {
   "cell_type": "code",
   "execution_count": null,
   "id": "d216ff56",
   "metadata": {},
   "outputs": [],
   "source": [
    "import matplotlib.pyplot as plt\n",
    "bins = 10 \n",
    "\n",
    "data = counts_df['Count_of_available_features']\n",
    "\n",
    "# Plotting the histogram\n",
    "plt.xlim([min(data)-5, max(data)+5])\n",
    "plt.hist(data, bins=bins, alpha=0.5)\n",
    "# plt.xticks(range(10))\n",
    "plt.xlabel('Value')\n",
    "plt.ylabel('Frequency')\n",
    "plt.title('Data points feature count')\n",
    "plt.show()"
   ]
  },
  {
   "cell_type": "markdown",
   "id": "04f86bfe",
   "metadata": {},
   "source": [
    "## Check for key features missing rate in "
   ]
  }
 ],
 "metadata": {
  "kernelspec": {
   "display_name": "conda_python3",
   "language": "python",
   "name": "conda_python3"
  },
  "language_info": {
   "codemirror_mode": {
    "name": "ipython",
    "version": 3
   },
   "file_extension": ".py",
   "mimetype": "text/x-python",
   "name": "python",
   "nbconvert_exporter": "python",
   "pygments_lexer": "ipython3",
   "version": "3.10.17"
  }
 },
 "nbformat": 4,
 "nbformat_minor": 5
}
