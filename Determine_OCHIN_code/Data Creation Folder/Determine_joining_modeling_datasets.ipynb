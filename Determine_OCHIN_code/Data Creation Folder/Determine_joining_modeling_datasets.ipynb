{
 "cells": [
  {
   "cell_type": "markdown",
   "id": "38c5a4ac",
   "metadata": {},
   "source": [
    "# Installing required libraries"
   ]
  },
  {
   "cell_type": "code",
   "execution_count": 1,
   "id": "fcca10c6",
   "metadata": {},
   "outputs": [
    {
     "name": "stdout",
     "output_type": "stream",
     "text": [
      "Channels:\n",
      " - conda-forge\n",
      " - nvidia\n",
      " - pytorch\n",
      "Platform: linux-64\n",
      "Collecting package metadata (repodata.json): ...working... done\n",
      "Solving environment: ...working... done\n",
      "\n",
      "# All requested packages already installed.\n",
      "\n"
     ]
    }
   ],
   "source": [
    "!conda install polars -y -q"
   ]
  },
  {
   "cell_type": "markdown",
   "id": "c5f8a950",
   "metadata": {},
   "source": [
    "# Importing required libraries"
   ]
  },
  {
   "cell_type": "code",
   "execution_count": 2,
   "id": "e215a95f",
   "metadata": {},
   "outputs": [],
   "source": [
    "import polars as pl\n",
    "import numpy as np\n",
    "import matplotlib.pyplot as plt"
   ]
  },
  {
   "cell_type": "markdown",
   "id": "c81864cc",
   "metadata": {},
   "source": [
    "# Config file (Paths of datasets to be joined)"
   ]
  },
  {
   "cell_type": "code",
   "execution_count": 3,
   "id": "c4eeecab",
   "metadata": {},
   "outputs": [],
   "source": [
    "class config:\n",
    "    target_path = './Determine_modeling_datasets/Determine_modeling_age_group_outcome_data.parquet'\n",
    "    demo_path = './Determine_modeling_datasets/Determine_modeling_demographics_data.parquet'\n",
    "    med_path = './Determine_modeling_datasets/Determine_modeling_medications_thrs_50.parquet'\n",
    "    diag_path = './Determine_modeling_datasets/Determine_modeling_diagnoses_thrs_50_without_icd10z.parquet'\n",
    "    lab_path = './Determine_modeling_datasets/Determine_modeling_labresults_latest_thrs_50.parquet'\n",
    "    bmi_path = 'Determine_modeling_bmi_data_manual.parquet'\n",
    "    dia_bp_path = 'Determine_modeling_diastolic_bp_data.parquet'\n",
    "    sys_bp_path = 'Determine_modeling_systolic_bp_data.parquet'\n",
    "    cvs_path = './Determine_modeling_datasets/Determine_cvs_pivot.parquet'\n",
    "    \n",
    "    use_bmi_bp = True\n",
    "    use_cvs = False\n",
    "    "
   ]
  },
  {
   "cell_type": "markdown",
   "id": "d9d76ed2",
   "metadata": {},
   "source": [
    "# Joining the datasets"
   ]
  },
  {
   "cell_type": "code",
   "execution_count": 4,
   "id": "c0091bda",
   "metadata": {},
   "outputs": [],
   "source": [
    "target_df = pl.scan_parquet(config.target_path)\n",
    "demo_df = pl.scan_parquet(config.demo_path)\n",
    "med_df = pl.scan_parquet(config.med_path)\n",
    "diag_df = pl.scan_parquet(config.diag_path)\n",
    "lab_df = pl.scan_parquet(config.lab_path)\n",
    "\n",
    "bmi_df = pl.scan_parquet(config.bmi_path)\n",
    "dia_bp_df = pl.scan_parquet(config.dia_bp_path)\n",
    "sys_bp_df = pl.scan_parquet(config.sys_bp_path)\n",
    "cvs_df = pl.scan_parquet(config.cvs_path)"
   ]
  },
  {
   "cell_type": "code",
   "execution_count": 5,
   "id": "5e1b6a30",
   "metadata": {},
   "outputs": [
    {
     "data": {
      "text/html": [
       "<div><style>\n",
       ".dataframe > thead > tr,\n",
       ".dataframe > tbody > tr {\n",
       "  text-align: right;\n",
       "  white-space: pre-wrap;\n",
       "}\n",
       "</style>\n",
       "<small>shape: (5, 1_468)</small><table border=\"1\" class=\"dataframe\"><thead><tr><th>PATIENT_NUM</th><th>611.0</th><th>790.6</th><th>250.42</th><th>289.4</th><th>591.0</th><th>585.3</th><th>401.1</th><th>338.2</th><th>272.1</th><th>261.4</th><th>112.3</th><th>512.9</th><th>513.31</th><th>605.0</th><th>495.0</th><th>574.1</th><th>455.0</th><th>563.0</th><th>38.0</th><th>172.21</th><th>261.2</th><th>300.1</th><th>355.1</th><th>458.1</th><th>458.9</th><th>480.0</th><th>994.2</th><th>599.9</th><th>600.0</th><th>745.0</th><th>689.0</th><th>496.2</th><th>110.11</th><th>215.0</th><th>218.1</th><th>285.0</th><th>&hellip;</th><th>151.0</th><th>695.22</th><th>441.1</th><th>ICD10CM:W00</th><th>504.1</th><th>ICD10CM:J45</th><th>286.12</th><th>ICD10CM:W11</th><th>704.12</th><th>732.0</th><th>709.5</th><th>441.2</th><th>751.2</th><th>227.2</th><th>613.0</th><th>270.34</th><th>622.0</th><th>ICD10CM:R68</th><th>ICD10CM:G40</th><th>ICD10CM:N76</th><th>ICD10CM:F51</th><th>ICD10CM:B18</th><th>ICD10CM:G89</th><th>ICD10CM:L02</th><th>ICD10CM:R63</th><th>ICD10CM:N93</th><th>ICD10CM:N95</th><th>ICD10CM:R39</th><th>ICD10CM:E04</th><th>ICD10CM:E87</th><th>ICD10CM:N94</th><th>ICD10CM:K92</th><th>ICD10CM:F34</th><th>ICD10CM:R92</th><th>ICD10CM:R79</th><th>ICD10CM:A74</th><th>ICD10CM:R26</th></tr><tr><td>i64</td><td>i32</td><td>i32</td><td>i32</td><td>i32</td><td>i32</td><td>i32</td><td>i32</td><td>i32</td><td>i32</td><td>i32</td><td>i32</td><td>i32</td><td>i32</td><td>i32</td><td>i32</td><td>i32</td><td>i32</td><td>i32</td><td>i32</td><td>i32</td><td>i32</td><td>i32</td><td>i32</td><td>i32</td><td>i32</td><td>i32</td><td>i32</td><td>i32</td><td>i32</td><td>i32</td><td>i32</td><td>i32</td><td>i32</td><td>i32</td><td>i32</td><td>i32</td><td>&hellip;</td><td>i32</td><td>i32</td><td>i32</td><td>i32</td><td>i32</td><td>i32</td><td>i32</td><td>i32</td><td>i32</td><td>i32</td><td>i32</td><td>i32</td><td>i32</td><td>i32</td><td>i32</td><td>i32</td><td>i32</td><td>i32</td><td>i32</td><td>i32</td><td>i32</td><td>i32</td><td>i32</td><td>i32</td><td>i32</td><td>i32</td><td>i32</td><td>i32</td><td>i32</td><td>i32</td><td>i32</td><td>i32</td><td>i32</td><td>i32</td><td>i32</td><td>i32</td><td>i32</td></tr></thead><tbody><tr><td>556</td><td>1</td><td>1</td><td>1</td><td>1</td><td>1</td><td>1</td><td>1</td><td>1</td><td>1</td><td>1</td><td>1</td><td>0</td><td>0</td><td>0</td><td>0</td><td>0</td><td>0</td><td>0</td><td>0</td><td>0</td><td>0</td><td>0</td><td>0</td><td>0</td><td>0</td><td>0</td><td>0</td><td>0</td><td>0</td><td>0</td><td>0</td><td>0</td><td>0</td><td>0</td><td>0</td><td>0</td><td>&hellip;</td><td>0</td><td>0</td><td>0</td><td>0</td><td>0</td><td>0</td><td>0</td><td>0</td><td>0</td><td>0</td><td>0</td><td>0</td><td>0</td><td>0</td><td>0</td><td>0</td><td>0</td><td>0</td><td>0</td><td>0</td><td>0</td><td>0</td><td>0</td><td>0</td><td>0</td><td>0</td><td>0</td><td>0</td><td>0</td><td>0</td><td>0</td><td>0</td><td>0</td><td>0</td><td>0</td><td>0</td><td>0</td></tr><tr><td>562</td><td>0</td><td>0</td><td>0</td><td>0</td><td>0</td><td>0</td><td>1</td><td>0</td><td>0</td><td>0</td><td>0</td><td>1</td><td>1</td><td>1</td><td>1</td><td>0</td><td>0</td><td>0</td><td>0</td><td>0</td><td>0</td><td>0</td><td>0</td><td>0</td><td>0</td><td>0</td><td>0</td><td>0</td><td>0</td><td>0</td><td>0</td><td>0</td><td>0</td><td>0</td><td>0</td><td>0</td><td>&hellip;</td><td>0</td><td>0</td><td>0</td><td>0</td><td>0</td><td>0</td><td>0</td><td>0</td><td>0</td><td>0</td><td>0</td><td>0</td><td>0</td><td>0</td><td>0</td><td>0</td><td>0</td><td>0</td><td>0</td><td>0</td><td>0</td><td>0</td><td>0</td><td>0</td><td>0</td><td>0</td><td>0</td><td>0</td><td>0</td><td>0</td><td>0</td><td>0</td><td>0</td><td>0</td><td>0</td><td>0</td><td>0</td></tr><tr><td>621</td><td>0</td><td>0</td><td>0</td><td>0</td><td>0</td><td>0</td><td>1</td><td>0</td><td>0</td><td>0</td><td>0</td><td>0</td><td>0</td><td>0</td><td>0</td><td>1</td><td>1</td><td>1</td><td>0</td><td>0</td><td>0</td><td>0</td><td>0</td><td>0</td><td>0</td><td>0</td><td>0</td><td>0</td><td>0</td><td>0</td><td>0</td><td>0</td><td>0</td><td>0</td><td>0</td><td>0</td><td>&hellip;</td><td>0</td><td>0</td><td>0</td><td>0</td><td>0</td><td>0</td><td>0</td><td>0</td><td>0</td><td>0</td><td>0</td><td>0</td><td>0</td><td>0</td><td>0</td><td>0</td><td>0</td><td>0</td><td>0</td><td>0</td><td>0</td><td>0</td><td>0</td><td>0</td><td>0</td><td>0</td><td>0</td><td>0</td><td>0</td><td>0</td><td>0</td><td>0</td><td>0</td><td>0</td><td>0</td><td>0</td><td>0</td></tr><tr><td>624</td><td>0</td><td>0</td><td>0</td><td>0</td><td>0</td><td>0</td><td>0</td><td>1</td><td>0</td><td>0</td><td>0</td><td>0</td><td>0</td><td>0</td><td>0</td><td>0</td><td>0</td><td>0</td><td>1</td><td>1</td><td>1</td><td>1</td><td>1</td><td>1</td><td>1</td><td>1</td><td>1</td><td>1</td><td>1</td><td>1</td><td>1</td><td>1</td><td>0</td><td>0</td><td>0</td><td>0</td><td>&hellip;</td><td>0</td><td>0</td><td>0</td><td>0</td><td>0</td><td>0</td><td>0</td><td>0</td><td>0</td><td>0</td><td>0</td><td>0</td><td>0</td><td>0</td><td>0</td><td>0</td><td>0</td><td>0</td><td>0</td><td>0</td><td>0</td><td>0</td><td>0</td><td>0</td><td>0</td><td>0</td><td>0</td><td>0</td><td>0</td><td>0</td><td>0</td><td>0</td><td>0</td><td>0</td><td>0</td><td>0</td><td>0</td></tr><tr><td>642</td><td>0</td><td>0</td><td>0</td><td>0</td><td>0</td><td>0</td><td>0</td><td>0</td><td>0</td><td>0</td><td>0</td><td>0</td><td>0</td><td>0</td><td>0</td><td>0</td><td>0</td><td>1</td><td>0</td><td>0</td><td>0</td><td>0</td><td>0</td><td>0</td><td>0</td><td>0</td><td>0</td><td>0</td><td>0</td><td>1</td><td>0</td><td>0</td><td>1</td><td>1</td><td>1</td><td>1</td><td>&hellip;</td><td>0</td><td>0</td><td>0</td><td>0</td><td>0</td><td>0</td><td>0</td><td>0</td><td>0</td><td>0</td><td>0</td><td>0</td><td>0</td><td>0</td><td>0</td><td>0</td><td>0</td><td>0</td><td>0</td><td>0</td><td>0</td><td>0</td><td>0</td><td>0</td><td>0</td><td>0</td><td>0</td><td>0</td><td>0</td><td>0</td><td>0</td><td>0</td><td>0</td><td>0</td><td>0</td><td>0</td><td>0</td></tr></tbody></table></div>"
      ],
      "text/plain": [
       "shape: (5, 1_468)\n",
       "┌─────────────┬───────┬───────┬────────┬───┬─────────────┬─────────────┬─────────────┬─────────────┐\n",
       "│ PATIENT_NUM ┆ 611.0 ┆ 790.6 ┆ 250.42 ┆ … ┆ ICD10CM:R92 ┆ ICD10CM:R79 ┆ ICD10CM:A74 ┆ ICD10CM:R26 │\n",
       "│ ---         ┆ ---   ┆ ---   ┆ ---    ┆   ┆ ---         ┆ ---         ┆ ---         ┆ ---         │\n",
       "│ i64         ┆ i32   ┆ i32   ┆ i32    ┆   ┆ i32         ┆ i32         ┆ i32         ┆ i32         │\n",
       "╞═════════════╪═══════╪═══════╪════════╪═══╪═════════════╪═════════════╪═════════════╪═════════════╡\n",
       "│ 556         ┆ 1     ┆ 1     ┆ 1      ┆ … ┆ 0           ┆ 0           ┆ 0           ┆ 0           │\n",
       "│ 562         ┆ 0     ┆ 0     ┆ 0      ┆ … ┆ 0           ┆ 0           ┆ 0           ┆ 0           │\n",
       "│ 621         ┆ 0     ┆ 0     ┆ 0      ┆ … ┆ 0           ┆ 0           ┆ 0           ┆ 0           │\n",
       "│ 624         ┆ 0     ┆ 0     ┆ 0      ┆ … ┆ 0           ┆ 0           ┆ 0           ┆ 0           │\n",
       "│ 642         ┆ 0     ┆ 0     ┆ 0      ┆ … ┆ 0           ┆ 0           ┆ 0           ┆ 0           │\n",
       "└─────────────┴───────┴───────┴────────┴───┴─────────────┴─────────────┴─────────────┴─────────────┘"
      ]
     },
     "execution_count": 5,
     "metadata": {},
     "output_type": "execute_result"
    }
   ],
   "source": [
    "diag_df.collect().head()"
   ]
  },
  {
   "cell_type": "code",
   "execution_count": 6,
   "id": "09d5aa87",
   "metadata": {},
   "outputs": [
    {
     "data": {
      "text/plain": [
       "False"
      ]
     },
     "execution_count": 6,
     "metadata": {},
     "output_type": "execute_result"
    }
   ],
   "source": [
    "'1010.0' in diag_df.collect().columns"
   ]
  },
  {
   "cell_type": "code",
   "execution_count": 7,
   "id": "f5f8cdfa",
   "metadata": {},
   "outputs": [
    {
     "name": "stdout",
     "output_type": "stream",
     "text": [
      "Number of unique patient records in demographics dataframe:  1068408\n",
      "Number of unique patient records in diagnoses dataframe:  818322\n",
      "Number of unique patient records in medications dataframe:  598798\n",
      "Number of unique patient records in labresults dataframe:  533819\n",
      "Number of unique patient records in BMI dataframe:  880276\n",
      "Number of unique patient records in Dia bp dataframe:  924831\n",
      "Number of unique patient records in Sys dataframe:  924262\n"
     ]
    }
   ],
   "source": [
    "print(\"Number of unique patient records in demographics dataframe: \", len(np.unique(demo_df.select('Patient_num')\n",
    "                                                                                    .collect()['Patient_num'].to_list())))\n",
    "print(\"Number of unique patient records in diagnoses dataframe: \", len(np.unique(diag_df.select('PATIENT_NUM')\n",
    "                                                                                    .collect()['PATIENT_NUM'].to_list())))\n",
    "print(\"Number of unique patient records in medications dataframe: \", len(np.unique(med_df.select('PATIENT_NUM')\n",
    "                                                                                    .collect()['PATIENT_NUM'].to_list())))\n",
    "print(\"Number of unique patient records in labresults dataframe: \", len(np.unique(lab_df.select('PATIENT_NUM')\n",
    "                                                                                    .collect()['PATIENT_NUM'].to_list())))\n",
    "print(\"Number of unique patient records in BMI dataframe: \", len(np.unique(bmi_df.select('PATIENT_NUM')\n",
    "                                                                                    .collect()['PATIENT_NUM'].to_list())))\n",
    "print(\"Number of unique patient records in Dia bp dataframe: \", len(np.unique(dia_bp_df.select('PATIENT_NUM')\n",
    "                                                                                    .collect()['PATIENT_NUM'].to_list())))\n",
    "print(\"Number of unique patient records in Sys dataframe: \", len(np.unique(sys_bp_df.select('PATIENT_NUM')\n",
    "                                                                                    .collect()['PATIENT_NUM'].to_list())))"
   ]
  },
  {
   "cell_type": "code",
   "execution_count": 8,
   "id": "2cb9e02f",
   "metadata": {},
   "outputs": [
    {
     "name": "stdout",
     "output_type": "stream",
     "text": [
      "Number of patient ids that have data in atleast one of the medications, lab_results and diagnoses:  968392\n"
     ]
    }
   ],
   "source": [
    "med_pids = np.unique(med_df.select(['PATIENT_NUM']).collect()['PATIENT_NUM'].to_list())\n",
    "dx_pids = np.unique(diag_df.select(['PATIENT_NUM']).collect()['PATIENT_NUM'].to_list())\n",
    "lab_pid = np.unique(lab_df.select(['PATIENT_NUM']).collect()['PATIENT_NUM'].to_list())\n",
    "\n",
    "# Convert lists to sets and use the union operation\n",
    "result = set(med_pids) | set(dx_pids) | set(lab_pid)\n",
    "\n",
    "# Convert the set back to a list if needed\n",
    "result_list = list(result)\n",
    "\n",
    "# Display the result\n",
    "print(\"Number of patient ids that have data in atleast one of the medications, lab_results and diagnoses: \",len(result_list))\n"
   ]
  },
  {
   "cell_type": "code",
   "execution_count": 9,
   "id": "a3cc15c5",
   "metadata": {},
   "outputs": [],
   "source": [
    "target_df_filtered = target_df.filter(pl.col('PATIENT_NUM').is_in(result_list))\n",
    "demo_df_filtered = demo_df.filter(pl.col('Patient_num').is_in(result_list))"
   ]
  },
  {
   "cell_type": "code",
   "execution_count": 10,
   "id": "e8ffb2f9",
   "metadata": {},
   "outputs": [],
   "source": [
    "temp_df = target_df_filtered.join(demo_df_filtered, how = 'left', left_on = 'PATIENT_NUM', right_on = 'Patient_num')"
   ]
  },
  {
   "cell_type": "code",
   "execution_count": 11,
   "id": "e43d1d62",
   "metadata": {},
   "outputs": [
    {
     "name": "stderr",
     "output_type": "stream",
     "text": [
      "/tmp/ipykernel_21797/3421553128.py:1: PerformanceWarning: Determining the column names of a LazyFrame requires resolving its schema, which is a potentially expensive operation. Use `LazyFrame.collect_schema().names()` to get the column names without this warning.\n",
      "  temp_df.columns\n"
     ]
    },
    {
     "data": {
      "text/plain": [
       "['PATIENT_NUM',\n",
       " 'Age_group',\n",
       " 'FirstOutcomeDate',\n",
       " 'Outcome',\n",
       " 'Sex_CD',\n",
       " 'Race_CD',\n",
       " 'Hispanic_CD',\n",
       " 'Gender_CD']"
      ]
     },
     "execution_count": 11,
     "metadata": {},
     "output_type": "execute_result"
    }
   ],
   "source": [
    "temp_df.columns"
   ]
  },
  {
   "cell_type": "code",
   "execution_count": 12,
   "id": "759701da",
   "metadata": {},
   "outputs": [],
   "source": [
    "temp_df = temp_df.join(med_df, on = 'PATIENT_NUM', how = 'left')\n",
    "temp_df = temp_df.fill_null(0)"
   ]
  },
  {
   "cell_type": "code",
   "execution_count": 13,
   "id": "810ffef6",
   "metadata": {},
   "outputs": [
    {
     "data": {
      "text/html": [
       "<div><style>\n",
       ".dataframe > thead > tr,\n",
       ".dataframe > tbody > tr {\n",
       "  text-align: right;\n",
       "  white-space: pre-wrap;\n",
       "}\n",
       "</style>\n",
       "<small>shape: (5, 700)</small><table border=\"1\" class=\"dataframe\"><thead><tr><th>PATIENT_NUM</th><th>Age_group</th><th>FirstOutcomeDate</th><th>Outcome</th><th>Sex_CD</th><th>Race_CD</th><th>Hispanic_CD</th><th>Gender_CD</th><th>nitrofurantoin</th><th>nystatin</th><th>atorvastatin</th><th>amlodipine</th><th>lisinopril_hydrochlorothiazide</th><th>tadalafil</th><th>albuterol</th><th>chlorthalidone</th><th>potassium chloride</th><th>vilanterol_fluticasone</th><th>hydrocortisone</th><th>lisinopril</th><th>sennosides, USP_docusate</th><th>mupirocin</th><th>folic acid</th><th>tamsulosin</th><th>meloxicam</th><th>amitriptyline</th><th>quetiapine</th><th>gabapentin</th><th>tranexamic acid</th><th>polyvinyl alcohol</th><th>terbinafine</th><th>ascorbic acid</th><th>ferrous sulfate</th><th>losartan</th><th>clavulanate_amoxicillin</th><th>penicillin V</th><th>duloxetine</th><th>&hellip;</th><th>1291624</th><th>benzoyl peroxide_erythromycin</th><th>tetrahydrozoline</th><th>sofosbuvir_ledipasvir</th><th>acetaminophen_dextromethorphan_phenylephrine</th><th>isosorbide dinitrate</th><th>nonoxynol-9</th><th>betamethasone_calcipotriene</th><th>hyaluronate</th><th>indapamide</th><th>phenylephrine_promethazine</th><th>tazarotene</th><th>calamine_pramoxine</th><th>clomipramine</th><th>1359572</th><th>potassium nitrate_sodium fluoride</th><th>sodium polystyrene sulfonate</th><th>lidocaine_menthol</th><th>meningococcal group B vaccine</th><th>chlorpheniramine_dextromethorphan</th><th>wheat dextrin</th><th>etravirine</th><th>guaifenesin_phenylephrine</th><th>letrozole</th><th>crisaborole</th><th>isotretinoin</th><th>acetaminophen_diphenhydramine</th><th>salmon calcitonin</th><th>1302488</th><th>phendimetrazine</th><th>collagenase</th><th>282708</th><th>povidone-iodine</th><th>naftifine</th><th>codeine</th><th>triprolidine_pseudoephedrine</th><th>1303868</th></tr><tr><td>i64</td><td>str</td><td>datetime[μs]</td><td>i64</td><td>str</td><td>str</td><td>str</td><td>str</td><td>i32</td><td>i32</td><td>i32</td><td>i32</td><td>i32</td><td>i32</td><td>i32</td><td>i32</td><td>i32</td><td>i32</td><td>i32</td><td>i32</td><td>i32</td><td>i32</td><td>i32</td><td>i32</td><td>i32</td><td>i32</td><td>i32</td><td>i32</td><td>i32</td><td>i32</td><td>i32</td><td>i32</td><td>i32</td><td>i32</td><td>i32</td><td>i32</td><td>i32</td><td>&hellip;</td><td>i32</td><td>i32</td><td>i32</td><td>i32</td><td>i32</td><td>i32</td><td>i32</td><td>i32</td><td>i32</td><td>i32</td><td>i32</td><td>i32</td><td>i32</td><td>i32</td><td>i32</td><td>i32</td><td>i32</td><td>i32</td><td>i32</td><td>i32</td><td>i32</td><td>i32</td><td>i32</td><td>i32</td><td>i32</td><td>i32</td><td>i32</td><td>i32</td><td>i32</td><td>i32</td><td>i32</td><td>i32</td><td>i32</td><td>i32</td><td>i32</td><td>i32</td><td>i32</td></tr></thead><tbody><tr><td>10464243</td><td>&quot;18-34&quot;</td><td>null</td><td>0</td><td>&quot;F&quot;</td><td>&quot;UN&quot;</td><td>&quot;R&quot;</td><td>&quot;W&quot;</td><td>0</td><td>0</td><td>0</td><td>0</td><td>0</td><td>0</td><td>0</td><td>0</td><td>0</td><td>0</td><td>0</td><td>0</td><td>0</td><td>0</td><td>0</td><td>0</td><td>0</td><td>0</td><td>0</td><td>0</td><td>0</td><td>0</td><td>0</td><td>0</td><td>0</td><td>0</td><td>0</td><td>0</td><td>0</td><td>&hellip;</td><td>0</td><td>0</td><td>0</td><td>0</td><td>0</td><td>0</td><td>0</td><td>0</td><td>0</td><td>0</td><td>0</td><td>0</td><td>0</td><td>0</td><td>0</td><td>0</td><td>0</td><td>0</td><td>0</td><td>0</td><td>0</td><td>0</td><td>0</td><td>0</td><td>0</td><td>0</td><td>0</td><td>0</td><td>0</td><td>0</td><td>0</td><td>0</td><td>0</td><td>0</td><td>0</td><td>0</td><td>0</td></tr><tr><td>2245024</td><td>&quot;45-54&quot;</td><td>null</td><td>0</td><td>&quot;F&quot;</td><td>&quot;05&quot;</td><td>&quot;N&quot;</td><td>&quot;UN&quot;</td><td>0</td><td>0</td><td>0</td><td>0</td><td>0</td><td>0</td><td>0</td><td>0</td><td>0</td><td>0</td><td>0</td><td>0</td><td>0</td><td>0</td><td>0</td><td>0</td><td>0</td><td>0</td><td>0</td><td>0</td><td>0</td><td>0</td><td>0</td><td>0</td><td>0</td><td>0</td><td>0</td><td>0</td><td>0</td><td>&hellip;</td><td>0</td><td>0</td><td>0</td><td>0</td><td>0</td><td>0</td><td>0</td><td>0</td><td>0</td><td>0</td><td>0</td><td>0</td><td>0</td><td>0</td><td>0</td><td>0</td><td>0</td><td>0</td><td>0</td><td>0</td><td>0</td><td>0</td><td>0</td><td>0</td><td>0</td><td>0</td><td>0</td><td>0</td><td>0</td><td>0</td><td>0</td><td>0</td><td>0</td><td>0</td><td>0</td><td>0</td><td>0</td></tr><tr><td>8474922</td><td>&quot;55-64&quot;</td><td>null</td><td>0</td><td>&quot;F&quot;</td><td>&quot;03&quot;</td><td>&quot;N&quot;</td><td>&quot;W&quot;</td><td>0</td><td>0</td><td>0</td><td>0</td><td>0</td><td>0</td><td>0</td><td>0</td><td>0</td><td>0</td><td>0</td><td>0</td><td>0</td><td>0</td><td>0</td><td>0</td><td>0</td><td>0</td><td>0</td><td>0</td><td>0</td><td>0</td><td>0</td><td>0</td><td>0</td><td>0</td><td>0</td><td>0</td><td>0</td><td>&hellip;</td><td>0</td><td>0</td><td>0</td><td>0</td><td>0</td><td>0</td><td>0</td><td>0</td><td>0</td><td>0</td><td>0</td><td>0</td><td>0</td><td>0</td><td>0</td><td>0</td><td>0</td><td>0</td><td>0</td><td>0</td><td>0</td><td>0</td><td>0</td><td>0</td><td>0</td><td>0</td><td>0</td><td>0</td><td>0</td><td>0</td><td>0</td><td>0</td><td>0</td><td>0</td><td>0</td><td>0</td><td>0</td></tr><tr><td>7621798</td><td>&quot;18-34&quot;</td><td>null</td><td>0</td><td>&quot;F&quot;</td><td>&quot;05&quot;</td><td>&quot;Y&quot;</td><td>&quot;W&quot;</td><td>0</td><td>0</td><td>0</td><td>0</td><td>0</td><td>0</td><td>0</td><td>0</td><td>0</td><td>0</td><td>0</td><td>0</td><td>0</td><td>0</td><td>0</td><td>0</td><td>0</td><td>0</td><td>0</td><td>0</td><td>0</td><td>0</td><td>0</td><td>0</td><td>0</td><td>0</td><td>0</td><td>0</td><td>0</td><td>&hellip;</td><td>0</td><td>0</td><td>0</td><td>0</td><td>0</td><td>0</td><td>0</td><td>0</td><td>0</td><td>0</td><td>0</td><td>0</td><td>0</td><td>0</td><td>0</td><td>0</td><td>0</td><td>0</td><td>0</td><td>0</td><td>0</td><td>0</td><td>0</td><td>0</td><td>0</td><td>0</td><td>0</td><td>0</td><td>0</td><td>0</td><td>0</td><td>0</td><td>0</td><td>0</td><td>0</td><td>0</td><td>0</td></tr><tr><td>10756244</td><td>&quot;18-34&quot;</td><td>null</td><td>0</td><td>&quot;M&quot;</td><td>&quot;05&quot;</td><td>&quot;N&quot;</td><td>&quot;M&quot;</td><td>0</td><td>0</td><td>0</td><td>0</td><td>0</td><td>0</td><td>0</td><td>0</td><td>0</td><td>0</td><td>0</td><td>0</td><td>0</td><td>0</td><td>0</td><td>0</td><td>0</td><td>0</td><td>0</td><td>0</td><td>0</td><td>0</td><td>0</td><td>0</td><td>0</td><td>0</td><td>0</td><td>0</td><td>0</td><td>&hellip;</td><td>0</td><td>0</td><td>0</td><td>0</td><td>0</td><td>0</td><td>0</td><td>0</td><td>0</td><td>0</td><td>0</td><td>0</td><td>0</td><td>0</td><td>0</td><td>0</td><td>0</td><td>0</td><td>0</td><td>0</td><td>0</td><td>0</td><td>0</td><td>0</td><td>0</td><td>0</td><td>0</td><td>0</td><td>0</td><td>0</td><td>0</td><td>0</td><td>0</td><td>0</td><td>0</td><td>0</td><td>0</td></tr></tbody></table></div>"
      ],
      "text/plain": [
       "shape: (5, 700)\n",
       "┌─────────────┬───────────┬─────────────┬─────────┬───┬───────────┬─────────┬────────────┬─────────┐\n",
       "│ PATIENT_NUM ┆ Age_group ┆ FirstOutcom ┆ Outcome ┆ … ┆ naftifine ┆ codeine ┆ triprolidi ┆ 1303868 │\n",
       "│ ---         ┆ ---       ┆ eDate       ┆ ---     ┆   ┆ ---       ┆ ---     ┆ ne_pseudoe ┆ ---     │\n",
       "│ i64         ┆ str       ┆ ---         ┆ i64     ┆   ┆ i32       ┆ i32     ┆ phedrine   ┆ i32     │\n",
       "│             ┆           ┆ datetime[μs ┆         ┆   ┆           ┆         ┆ ---        ┆         │\n",
       "│             ┆           ┆ ]           ┆         ┆   ┆           ┆         ┆ i32        ┆         │\n",
       "╞═════════════╪═══════════╪═════════════╪═════════╪═══╪═══════════╪═════════╪════════════╪═════════╡\n",
       "│ 10464243    ┆ 18-34     ┆ null        ┆ 0       ┆ … ┆ 0         ┆ 0       ┆ 0          ┆ 0       │\n",
       "│ 2245024     ┆ 45-54     ┆ null        ┆ 0       ┆ … ┆ 0         ┆ 0       ┆ 0          ┆ 0       │\n",
       "│ 8474922     ┆ 55-64     ┆ null        ┆ 0       ┆ … ┆ 0         ┆ 0       ┆ 0          ┆ 0       │\n",
       "│ 7621798     ┆ 18-34     ┆ null        ┆ 0       ┆ … ┆ 0         ┆ 0       ┆ 0          ┆ 0       │\n",
       "│ 10756244    ┆ 18-34     ┆ null        ┆ 0       ┆ … ┆ 0         ┆ 0       ┆ 0          ┆ 0       │\n",
       "└─────────────┴───────────┴─────────────┴─────────┴───┴───────────┴─────────┴────────────┴─────────┘"
      ]
     },
     "execution_count": 13,
     "metadata": {},
     "output_type": "execute_result"
    }
   ],
   "source": [
    "temp_df.head().collect()"
   ]
  },
  {
   "cell_type": "code",
   "execution_count": 14,
   "id": "0a8b8e2a",
   "metadata": {},
   "outputs": [],
   "source": [
    "temp_df = temp_df.join(diag_df, on = 'PATIENT_NUM', how = 'left')\n",
    "temp_df = temp_df.fill_null(0)"
   ]
  },
  {
   "cell_type": "code",
   "execution_count": 15,
   "id": "8ca72c9e",
   "metadata": {},
   "outputs": [
    {
     "data": {
      "text/html": [
       "<div><style>\n",
       ".dataframe > thead > tr,\n",
       ".dataframe > tbody > tr {\n",
       "  text-align: right;\n",
       "  white-space: pre-wrap;\n",
       "}\n",
       "</style>\n",
       "<small>shape: (5, 2_167)</small><table border=\"1\" class=\"dataframe\"><thead><tr><th>PATIENT_NUM</th><th>Age_group</th><th>FirstOutcomeDate</th><th>Outcome</th><th>Sex_CD</th><th>Race_CD</th><th>Hispanic_CD</th><th>Gender_CD</th><th>nitrofurantoin</th><th>nystatin</th><th>atorvastatin</th><th>amlodipine</th><th>lisinopril_hydrochlorothiazide</th><th>tadalafil</th><th>albuterol</th><th>chlorthalidone</th><th>potassium chloride</th><th>vilanterol_fluticasone</th><th>hydrocortisone</th><th>lisinopril</th><th>sennosides, USP_docusate</th><th>mupirocin</th><th>folic acid</th><th>tamsulosin</th><th>meloxicam</th><th>amitriptyline</th><th>quetiapine</th><th>gabapentin</th><th>tranexamic acid</th><th>polyvinyl alcohol</th><th>terbinafine</th><th>ascorbic acid</th><th>ferrous sulfate</th><th>losartan</th><th>clavulanate_amoxicillin</th><th>penicillin V</th><th>duloxetine</th><th>&hellip;</th><th>151.0</th><th>695.22</th><th>441.1</th><th>ICD10CM:W00</th><th>504.1</th><th>ICD10CM:J45</th><th>286.12</th><th>ICD10CM:W11</th><th>704.12</th><th>732.0</th><th>709.5</th><th>441.2</th><th>751.2</th><th>227.2</th><th>613.0</th><th>270.34</th><th>622.0</th><th>ICD10CM:R68</th><th>ICD10CM:G40</th><th>ICD10CM:N76</th><th>ICD10CM:F51</th><th>ICD10CM:B18</th><th>ICD10CM:G89</th><th>ICD10CM:L02</th><th>ICD10CM:R63</th><th>ICD10CM:N93</th><th>ICD10CM:N95</th><th>ICD10CM:R39</th><th>ICD10CM:E04</th><th>ICD10CM:E87</th><th>ICD10CM:N94</th><th>ICD10CM:K92</th><th>ICD10CM:F34</th><th>ICD10CM:R92</th><th>ICD10CM:R79</th><th>ICD10CM:A74</th><th>ICD10CM:R26</th></tr><tr><td>i64</td><td>str</td><td>datetime[μs]</td><td>i64</td><td>str</td><td>str</td><td>str</td><td>str</td><td>i32</td><td>i32</td><td>i32</td><td>i32</td><td>i32</td><td>i32</td><td>i32</td><td>i32</td><td>i32</td><td>i32</td><td>i32</td><td>i32</td><td>i32</td><td>i32</td><td>i32</td><td>i32</td><td>i32</td><td>i32</td><td>i32</td><td>i32</td><td>i32</td><td>i32</td><td>i32</td><td>i32</td><td>i32</td><td>i32</td><td>i32</td><td>i32</td><td>i32</td><td>&hellip;</td><td>i32</td><td>i32</td><td>i32</td><td>i32</td><td>i32</td><td>i32</td><td>i32</td><td>i32</td><td>i32</td><td>i32</td><td>i32</td><td>i32</td><td>i32</td><td>i32</td><td>i32</td><td>i32</td><td>i32</td><td>i32</td><td>i32</td><td>i32</td><td>i32</td><td>i32</td><td>i32</td><td>i32</td><td>i32</td><td>i32</td><td>i32</td><td>i32</td><td>i32</td><td>i32</td><td>i32</td><td>i32</td><td>i32</td><td>i32</td><td>i32</td><td>i32</td><td>i32</td></tr></thead><tbody><tr><td>10464243</td><td>&quot;18-34&quot;</td><td>null</td><td>0</td><td>&quot;F&quot;</td><td>&quot;UN&quot;</td><td>&quot;R&quot;</td><td>&quot;W&quot;</td><td>0</td><td>0</td><td>0</td><td>0</td><td>0</td><td>0</td><td>0</td><td>0</td><td>0</td><td>0</td><td>0</td><td>0</td><td>0</td><td>0</td><td>0</td><td>0</td><td>0</td><td>0</td><td>0</td><td>0</td><td>0</td><td>0</td><td>0</td><td>0</td><td>0</td><td>0</td><td>0</td><td>0</td><td>0</td><td>&hellip;</td><td>0</td><td>0</td><td>0</td><td>0</td><td>0</td><td>0</td><td>0</td><td>0</td><td>0</td><td>0</td><td>0</td><td>0</td><td>0</td><td>0</td><td>0</td><td>0</td><td>0</td><td>0</td><td>0</td><td>0</td><td>0</td><td>0</td><td>0</td><td>0</td><td>0</td><td>0</td><td>0</td><td>0</td><td>0</td><td>0</td><td>0</td><td>0</td><td>0</td><td>0</td><td>0</td><td>0</td><td>0</td></tr><tr><td>2245024</td><td>&quot;45-54&quot;</td><td>null</td><td>0</td><td>&quot;F&quot;</td><td>&quot;05&quot;</td><td>&quot;N&quot;</td><td>&quot;UN&quot;</td><td>0</td><td>0</td><td>0</td><td>0</td><td>0</td><td>0</td><td>0</td><td>0</td><td>0</td><td>0</td><td>0</td><td>0</td><td>0</td><td>0</td><td>0</td><td>0</td><td>0</td><td>0</td><td>0</td><td>0</td><td>0</td><td>0</td><td>0</td><td>0</td><td>0</td><td>0</td><td>0</td><td>0</td><td>0</td><td>&hellip;</td><td>0</td><td>0</td><td>0</td><td>0</td><td>0</td><td>0</td><td>0</td><td>0</td><td>0</td><td>0</td><td>0</td><td>0</td><td>0</td><td>0</td><td>0</td><td>0</td><td>0</td><td>0</td><td>0</td><td>0</td><td>0</td><td>0</td><td>0</td><td>0</td><td>0</td><td>0</td><td>0</td><td>0</td><td>0</td><td>0</td><td>0</td><td>0</td><td>0</td><td>0</td><td>0</td><td>0</td><td>0</td></tr><tr><td>8474922</td><td>&quot;55-64&quot;</td><td>null</td><td>0</td><td>&quot;F&quot;</td><td>&quot;03&quot;</td><td>&quot;N&quot;</td><td>&quot;W&quot;</td><td>0</td><td>0</td><td>0</td><td>0</td><td>0</td><td>0</td><td>0</td><td>0</td><td>0</td><td>0</td><td>0</td><td>0</td><td>0</td><td>0</td><td>0</td><td>0</td><td>0</td><td>0</td><td>0</td><td>0</td><td>0</td><td>0</td><td>0</td><td>0</td><td>0</td><td>0</td><td>0</td><td>0</td><td>0</td><td>&hellip;</td><td>0</td><td>0</td><td>0</td><td>0</td><td>0</td><td>0</td><td>0</td><td>0</td><td>0</td><td>0</td><td>0</td><td>0</td><td>0</td><td>0</td><td>0</td><td>0</td><td>0</td><td>0</td><td>0</td><td>0</td><td>0</td><td>0</td><td>0</td><td>0</td><td>0</td><td>0</td><td>0</td><td>0</td><td>0</td><td>0</td><td>0</td><td>0</td><td>0</td><td>0</td><td>0</td><td>0</td><td>0</td></tr><tr><td>7621798</td><td>&quot;18-34&quot;</td><td>null</td><td>0</td><td>&quot;F&quot;</td><td>&quot;05&quot;</td><td>&quot;Y&quot;</td><td>&quot;W&quot;</td><td>0</td><td>0</td><td>0</td><td>0</td><td>0</td><td>0</td><td>0</td><td>0</td><td>0</td><td>0</td><td>0</td><td>0</td><td>0</td><td>0</td><td>0</td><td>0</td><td>0</td><td>0</td><td>0</td><td>0</td><td>0</td><td>0</td><td>0</td><td>0</td><td>0</td><td>0</td><td>0</td><td>0</td><td>0</td><td>&hellip;</td><td>0</td><td>0</td><td>0</td><td>0</td><td>0</td><td>0</td><td>0</td><td>0</td><td>0</td><td>0</td><td>0</td><td>0</td><td>0</td><td>0</td><td>0</td><td>0</td><td>0</td><td>0</td><td>0</td><td>0</td><td>0</td><td>0</td><td>0</td><td>0</td><td>0</td><td>0</td><td>0</td><td>0</td><td>0</td><td>0</td><td>0</td><td>0</td><td>0</td><td>0</td><td>0</td><td>0</td><td>0</td></tr><tr><td>10756244</td><td>&quot;18-34&quot;</td><td>null</td><td>0</td><td>&quot;M&quot;</td><td>&quot;05&quot;</td><td>&quot;N&quot;</td><td>&quot;M&quot;</td><td>0</td><td>0</td><td>0</td><td>0</td><td>0</td><td>0</td><td>0</td><td>0</td><td>0</td><td>0</td><td>0</td><td>0</td><td>0</td><td>0</td><td>0</td><td>0</td><td>0</td><td>0</td><td>0</td><td>0</td><td>0</td><td>0</td><td>0</td><td>0</td><td>0</td><td>0</td><td>0</td><td>0</td><td>0</td><td>&hellip;</td><td>0</td><td>0</td><td>0</td><td>0</td><td>0</td><td>0</td><td>0</td><td>0</td><td>0</td><td>0</td><td>0</td><td>0</td><td>0</td><td>0</td><td>0</td><td>0</td><td>0</td><td>0</td><td>0</td><td>0</td><td>0</td><td>0</td><td>0</td><td>0</td><td>0</td><td>0</td><td>0</td><td>0</td><td>0</td><td>0</td><td>0</td><td>0</td><td>0</td><td>0</td><td>0</td><td>0</td><td>0</td></tr></tbody></table></div>"
      ],
      "text/plain": [
       "shape: (5, 2_167)\n",
       "┌────────────┬───────────┬───────────┬─────────┬───┬───────────┬───────────┬───────────┬───────────┐\n",
       "│ PATIENT_NU ┆ Age_group ┆ FirstOutc ┆ Outcome ┆ … ┆ ICD10CM:R ┆ ICD10CM:R ┆ ICD10CM:A ┆ ICD10CM:R │\n",
       "│ M          ┆ ---       ┆ omeDate   ┆ ---     ┆   ┆ 92        ┆ 79        ┆ 74        ┆ 26        │\n",
       "│ ---        ┆ str       ┆ ---       ┆ i64     ┆   ┆ ---       ┆ ---       ┆ ---       ┆ ---       │\n",
       "│ i64        ┆           ┆ datetime[ ┆         ┆   ┆ i32       ┆ i32       ┆ i32       ┆ i32       │\n",
       "│            ┆           ┆ μs]       ┆         ┆   ┆           ┆           ┆           ┆           │\n",
       "╞════════════╪═══════════╪═══════════╪═════════╪═══╪═══════════╪═══════════╪═══════════╪═══════════╡\n",
       "│ 10464243   ┆ 18-34     ┆ null      ┆ 0       ┆ … ┆ 0         ┆ 0         ┆ 0         ┆ 0         │\n",
       "│ 2245024    ┆ 45-54     ┆ null      ┆ 0       ┆ … ┆ 0         ┆ 0         ┆ 0         ┆ 0         │\n",
       "│ 8474922    ┆ 55-64     ┆ null      ┆ 0       ┆ … ┆ 0         ┆ 0         ┆ 0         ┆ 0         │\n",
       "│ 7621798    ┆ 18-34     ┆ null      ┆ 0       ┆ … ┆ 0         ┆ 0         ┆ 0         ┆ 0         │\n",
       "│ 10756244   ┆ 18-34     ┆ null      ┆ 0       ┆ … ┆ 0         ┆ 0         ┆ 0         ┆ 0         │\n",
       "└────────────┴───────────┴───────────┴─────────┴───┴───────────┴───────────┴───────────┴───────────┘"
      ]
     },
     "execution_count": 15,
     "metadata": {},
     "output_type": "execute_result"
    }
   ],
   "source": [
    "temp_df.head().collect()"
   ]
  },
  {
   "cell_type": "code",
   "execution_count": 16,
   "id": "ce9bd4cc",
   "metadata": {},
   "outputs": [],
   "source": [
    "temp_df = temp_df.join(lab_df, on = 'PATIENT_NUM', how = 'left')\n",
    "temp_df = temp_df.fill_null(-100)"
   ]
  },
  {
   "cell_type": "code",
   "execution_count": 17,
   "id": "124c69aa",
   "metadata": {},
   "outputs": [],
   "source": [
    "temp_df = temp_df.with_columns([\n",
    "    pl.col('Sex_CD').str.replace(r'^(NI|OT|UN)$', 'UNK', literal=False).alias('Sex_CD'),\n",
    "    pl.col('Race_CD').str.replace(r'^(NI|OT|UN)$', 'UNK', literal=False).alias('Race_CD'),\n",
    "    pl.col('Hispanic_CD').str.replace(r'^(R|NI|UN)$', 'UNK', literal=False).alias('Hispanic_CD'),\n",
    "    pl.col('Gender_CD').str.replace(r'^(OT|NI|UN)$', 'UNK', literal=False).alias('Gender_CD')\n",
    "])"
   ]
  },
  {
   "cell_type": "code",
   "execution_count": 18,
   "id": "cabbf26f",
   "metadata": {},
   "outputs": [],
   "source": [
    "if config.use_bmi_bp:\n",
    "    temp_df = temp_df.join(bmi_df, on = 'PATIENT_NUM', how = 'left')\n",
    "    temp_df = temp_df.fill_null(-100)\n",
    "    temp_df = temp_df.join(dia_bp_df, on = 'PATIENT_NUM', how = 'left')\n",
    "    temp_df = temp_df.fill_null(-100)\n",
    "    temp_df = temp_df.join(sys_bp_df, on = 'PATIENT_NUM', how = 'left')\n",
    "    temp_df = temp_df.fill_null(-100)\n",
    "    "
   ]
  },
  {
   "cell_type": "code",
   "execution_count": 19,
   "id": "d4cf38f8",
   "metadata": {},
   "outputs": [],
   "source": [
    "if config.use_cvs:\n",
    "    temp_df = temp_df.join(cvs_df, on = 'PATIENT_NUM',how ='left')\n",
    "    temp_df = temp_df.fill_null(-100)"
   ]
  },
  {
   "cell_type": "code",
   "execution_count": 20,
   "id": "ea87e01f",
   "metadata": {},
   "outputs": [
    {
     "data": {
      "text/html": [
       "<div><style>\n",
       ".dataframe > thead > tr,\n",
       ".dataframe > tbody > tr {\n",
       "  text-align: right;\n",
       "  white-space: pre-wrap;\n",
       "}\n",
       "</style>\n",
       "<small>shape: (5, 2_707)</small><table border=\"1\" class=\"dataframe\"><thead><tr><th>PATIENT_NUM</th><th>Age_group</th><th>FirstOutcomeDate</th><th>Outcome</th><th>Sex_CD</th><th>Race_CD</th><th>Hispanic_CD</th><th>Gender_CD</th><th>nitrofurantoin</th><th>nystatin</th><th>atorvastatin</th><th>amlodipine</th><th>lisinopril_hydrochlorothiazide</th><th>tadalafil</th><th>albuterol</th><th>chlorthalidone</th><th>potassium chloride</th><th>vilanterol_fluticasone</th><th>hydrocortisone</th><th>lisinopril</th><th>sennosides, USP_docusate</th><th>mupirocin</th><th>folic acid</th><th>tamsulosin</th><th>meloxicam</th><th>amitriptyline</th><th>quetiapine</th><th>gabapentin</th><th>tranexamic acid</th><th>polyvinyl alcohol</th><th>terbinafine</th><th>ascorbic acid</th><th>ferrous sulfate</th><th>losartan</th><th>clavulanate_amoxicillin</th><th>penicillin V</th><th>duloxetine</th><th>&hellip;</th><th>LOINC:42250-1</th><th>LOINC:43743-4</th><th>LOINC:21525-1</th><th>LOINC:2988-4</th><th>LOINC:2021-4</th><th>LOINC:4575-7</th><th>LOINC:48343-8</th><th>LOINC:83122-2</th><th>LOINC:9749-3</th><th>LOINC:9321-1</th><th>LOINC:76630-3</th><th>LOINC:2601-3</th><th>LOINC:53765-4</th><th>LOINC:4547-6</th><th>LOINC:21458-5</th><th>LOINC:18184-2</th><th>LOINC:19195-7</th><th>LOINC:14805-6</th><th>LOINC:13056-7</th><th>LOINC:20567-4</th><th>LOINC:6942-7</th><th>LOINC:1764-0</th><th>LOINC:41649-5</th><th>LOINC:50210-4</th><th>LOINC:83102-4</th><th>LOINC:72888-1</th><th>LOINC:2349-9</th><th>LOINC:2657-5</th><th>mode_height</th><th>average_weight</th><th>BMI</th><th>average_diastolic_value</th><th>min_diastolic_value</th><th>max_diastolic_value</th><th>average_systolic_value</th><th>min_systolic_value</th><th>max_systolic_value</th></tr><tr><td>i64</td><td>str</td><td>datetime[μs]</td><td>i64</td><td>str</td><td>str</td><td>str</td><td>str</td><td>i32</td><td>i32</td><td>i32</td><td>i32</td><td>i32</td><td>i32</td><td>i32</td><td>i32</td><td>i32</td><td>i32</td><td>i32</td><td>i32</td><td>i32</td><td>i32</td><td>i32</td><td>i32</td><td>i32</td><td>i32</td><td>i32</td><td>i32</td><td>i32</td><td>i32</td><td>i32</td><td>i32</td><td>i32</td><td>i32</td><td>i32</td><td>i32</td><td>i32</td><td>&hellip;</td><td>decimal[18,5]</td><td>decimal[18,5]</td><td>decimal[18,5]</td><td>decimal[18,5]</td><td>decimal[18,5]</td><td>decimal[18,5]</td><td>decimal[18,5]</td><td>decimal[18,5]</td><td>decimal[18,5]</td><td>decimal[18,5]</td><td>decimal[18,5]</td><td>decimal[18,5]</td><td>decimal[18,5]</td><td>decimal[18,5]</td><td>decimal[18,5]</td><td>decimal[18,5]</td><td>decimal[18,5]</td><td>decimal[18,5]</td><td>decimal[18,5]</td><td>decimal[18,5]</td><td>decimal[18,5]</td><td>decimal[18,5]</td><td>decimal[18,5]</td><td>decimal[18,5]</td><td>decimal[18,5]</td><td>decimal[18,5]</td><td>decimal[18,5]</td><td>decimal[18,5]</td><td>f32</td><td>f32</td><td>f64</td><td>decimal[18,5]</td><td>decimal[18,5]</td><td>decimal[18,5]</td><td>decimal[18,5]</td><td>decimal[18,5]</td><td>decimal[18,5]</td></tr></thead><tbody><tr><td>10464243</td><td>&quot;18-34&quot;</td><td>null</td><td>0</td><td>&quot;F&quot;</td><td>&quot;UNK&quot;</td><td>&quot;UNK&quot;</td><td>&quot;W&quot;</td><td>0</td><td>0</td><td>0</td><td>0</td><td>0</td><td>0</td><td>0</td><td>0</td><td>0</td><td>0</td><td>0</td><td>0</td><td>0</td><td>0</td><td>0</td><td>0</td><td>0</td><td>0</td><td>0</td><td>0</td><td>0</td><td>0</td><td>0</td><td>0</td><td>0</td><td>0</td><td>0</td><td>0</td><td>0</td><td>&hellip;</td><td>-100.00000</td><td>-100.00000</td><td>-100.00000</td><td>-100.00000</td><td>-100.00000</td><td>-100.00000</td><td>-100.00000</td><td>-100.00000</td><td>-100.00000</td><td>-100.00000</td><td>-100.00000</td><td>-100.00000</td><td>-100.00000</td><td>-100.00000</td><td>-100.00000</td><td>-100.00000</td><td>-100.00000</td><td>-100.00000</td><td>-100.00000</td><td>-100.00000</td><td>-100.00000</td><td>-100.00000</td><td>-100.00000</td><td>-100.00000</td><td>-100.00000</td><td>-100.00000</td><td>-100.00000</td><td>-100.00000</td><td>69.0</td><td>172.333328</td><td>25.446404</td><td>-100.00000</td><td>81.00000</td><td>86.00000</td><td>-100.00000</td><td>128.00000</td><td>132.00000</td></tr><tr><td>2245024</td><td>&quot;45-54&quot;</td><td>null</td><td>0</td><td>&quot;F&quot;</td><td>&quot;05&quot;</td><td>&quot;N&quot;</td><td>&quot;UNK&quot;</td><td>0</td><td>0</td><td>0</td><td>0</td><td>0</td><td>0</td><td>0</td><td>0</td><td>0</td><td>0</td><td>0</td><td>0</td><td>0</td><td>0</td><td>0</td><td>0</td><td>0</td><td>0</td><td>0</td><td>0</td><td>0</td><td>0</td><td>0</td><td>0</td><td>0</td><td>0</td><td>0</td><td>0</td><td>0</td><td>&hellip;</td><td>-100.00000</td><td>-100.00000</td><td>-100.00000</td><td>-100.00000</td><td>-100.00000</td><td>-100.00000</td><td>-100.00000</td><td>-100.00000</td><td>-100.00000</td><td>-100.00000</td><td>-100.00000</td><td>-100.00000</td><td>-100.00000</td><td>-100.00000</td><td>-100.00000</td><td>-100.00000</td><td>-100.00000</td><td>-100.00000</td><td>-100.00000</td><td>-100.00000</td><td>-100.00000</td><td>-100.00000</td><td>-100.00000</td><td>-100.00000</td><td>-100.00000</td><td>-100.00000</td><td>-100.00000</td><td>-100.00000</td><td>-100.0</td><td>-100.0</td><td>-100.0</td><td>-100.00000</td><td>-100.00000</td><td>-100.00000</td><td>-100.00000</td><td>-100.00000</td><td>-100.00000</td></tr><tr><td>8474922</td><td>&quot;55-64&quot;</td><td>null</td><td>0</td><td>&quot;F&quot;</td><td>&quot;03&quot;</td><td>&quot;N&quot;</td><td>&quot;W&quot;</td><td>0</td><td>0</td><td>0</td><td>0</td><td>0</td><td>0</td><td>0</td><td>0</td><td>0</td><td>0</td><td>0</td><td>0</td><td>0</td><td>0</td><td>0</td><td>0</td><td>0</td><td>0</td><td>0</td><td>0</td><td>0</td><td>0</td><td>0</td><td>0</td><td>0</td><td>0</td><td>0</td><td>0</td><td>0</td><td>&hellip;</td><td>-100.00000</td><td>-100.00000</td><td>-100.00000</td><td>-100.00000</td><td>-100.00000</td><td>-100.00000</td><td>-100.00000</td><td>-100.00000</td><td>-100.00000</td><td>-100.00000</td><td>-100.00000</td><td>-100.00000</td><td>-100.00000</td><td>-100.00000</td><td>-100.00000</td><td>-100.00000</td><td>-100.00000</td><td>-100.00000</td><td>-100.00000</td><td>-100.00000</td><td>-100.00000</td><td>-100.00000</td><td>-100.00000</td><td>-100.00000</td><td>-100.00000</td><td>-100.00000</td><td>-100.00000</td><td>-100.00000</td><td>68.0</td><td>210.0</td><td>31.926904</td><td>-100.00000</td><td>70.00000</td><td>84.00000</td><td>-100.00000</td><td>122.00000</td><td>138.00000</td></tr><tr><td>7621798</td><td>&quot;18-34&quot;</td><td>null</td><td>0</td><td>&quot;F&quot;</td><td>&quot;05&quot;</td><td>&quot;Y&quot;</td><td>&quot;W&quot;</td><td>0</td><td>0</td><td>0</td><td>0</td><td>0</td><td>0</td><td>0</td><td>0</td><td>0</td><td>0</td><td>0</td><td>0</td><td>0</td><td>0</td><td>0</td><td>0</td><td>0</td><td>0</td><td>0</td><td>0</td><td>0</td><td>0</td><td>0</td><td>0</td><td>0</td><td>0</td><td>0</td><td>0</td><td>0</td><td>&hellip;</td><td>-100.00000</td><td>-100.00000</td><td>-100.00000</td><td>-100.00000</td><td>-100.00000</td><td>-100.00000</td><td>-100.00000</td><td>-100.00000</td><td>-100.00000</td><td>-100.00000</td><td>-100.00000</td><td>-100.00000</td><td>-100.00000</td><td>-100.00000</td><td>-100.00000</td><td>-100.00000</td><td>-100.00000</td><td>-100.00000</td><td>-100.00000</td><td>-100.00000</td><td>-100.00000</td><td>-100.00000</td><td>-100.00000</td><td>-100.00000</td><td>-100.00000</td><td>-100.00000</td><td>-100.00000</td><td>-100.00000</td><td>59.5</td><td>135.800003</td><td>26.966289</td><td>-100.00000</td><td>80.00000</td><td>80.00000</td><td>-100.00000</td><td>117.00000</td><td>117.00000</td></tr><tr><td>10756244</td><td>&quot;18-34&quot;</td><td>null</td><td>0</td><td>&quot;M&quot;</td><td>&quot;05&quot;</td><td>&quot;N&quot;</td><td>&quot;M&quot;</td><td>0</td><td>0</td><td>0</td><td>0</td><td>0</td><td>0</td><td>0</td><td>0</td><td>0</td><td>0</td><td>0</td><td>0</td><td>0</td><td>0</td><td>0</td><td>0</td><td>0</td><td>0</td><td>0</td><td>0</td><td>0</td><td>0</td><td>0</td><td>0</td><td>0</td><td>0</td><td>0</td><td>0</td><td>0</td><td>&hellip;</td><td>-100.00000</td><td>-100.00000</td><td>-100.00000</td><td>-100.00000</td><td>-100.00000</td><td>-100.00000</td><td>-100.00000</td><td>-100.00000</td><td>-100.00000</td><td>-100.00000</td><td>-100.00000</td><td>-100.00000</td><td>-100.00000</td><td>-100.00000</td><td>-100.00000</td><td>-100.00000</td><td>-100.00000</td><td>-100.00000</td><td>-100.00000</td><td>-100.00000</td><td>-100.00000</td><td>-100.00000</td><td>-100.00000</td><td>-100.00000</td><td>-100.00000</td><td>-100.00000</td><td>-100.00000</td><td>-100.00000</td><td>71.0</td><td>199.0</td><td>27.751835</td><td>-100.00000</td><td>86.00000</td><td>96.00000</td><td>-100.00000</td><td>132.00000</td><td>143.00000</td></tr></tbody></table></div>"
      ],
      "text/plain": [
       "shape: (5, 2_707)\n",
       "┌────────────┬───────────┬───────────┬─────────┬───┬───────────┬───────────┬───────────┬───────────┐\n",
       "│ PATIENT_NU ┆ Age_group ┆ FirstOutc ┆ Outcome ┆ … ┆ max_diast ┆ average_s ┆ min_systo ┆ max_systo │\n",
       "│ M          ┆ ---       ┆ omeDate   ┆ ---     ┆   ┆ olic_valu ┆ ystolic_v ┆ lic_value ┆ lic_value │\n",
       "│ ---        ┆ str       ┆ ---       ┆ i64     ┆   ┆ e         ┆ alue      ┆ ---       ┆ ---       │\n",
       "│ i64        ┆           ┆ datetime[ ┆         ┆   ┆ ---       ┆ ---       ┆ decimal[1 ┆ decimal[1 │\n",
       "│            ┆           ┆ μs]       ┆         ┆   ┆ decimal[1 ┆ decimal[1 ┆ 8,5]      ┆ 8,5]      │\n",
       "│            ┆           ┆           ┆         ┆   ┆ 8,5]      ┆ 8,5]      ┆           ┆           │\n",
       "╞════════════╪═══════════╪═══════════╪═════════╪═══╪═══════════╪═══════════╪═══════════╪═══════════╡\n",
       "│ 10464243   ┆ 18-34     ┆ null      ┆ 0       ┆ … ┆ 86.00000  ┆ -100.0000 ┆ 128.00000 ┆ 132.00000 │\n",
       "│            ┆           ┆           ┆         ┆   ┆           ┆ 0         ┆           ┆           │\n",
       "│ 2245024    ┆ 45-54     ┆ null      ┆ 0       ┆ … ┆ -100.0000 ┆ -100.0000 ┆ -100.0000 ┆ -100.0000 │\n",
       "│            ┆           ┆           ┆         ┆   ┆ 0         ┆ 0         ┆ 0         ┆ 0         │\n",
       "│ 8474922    ┆ 55-64     ┆ null      ┆ 0       ┆ … ┆ 84.00000  ┆ -100.0000 ┆ 122.00000 ┆ 138.00000 │\n",
       "│            ┆           ┆           ┆         ┆   ┆           ┆ 0         ┆           ┆           │\n",
       "│ 7621798    ┆ 18-34     ┆ null      ┆ 0       ┆ … ┆ 80.00000  ┆ -100.0000 ┆ 117.00000 ┆ 117.00000 │\n",
       "│            ┆           ┆           ┆         ┆   ┆           ┆ 0         ┆           ┆           │\n",
       "│ 10756244   ┆ 18-34     ┆ null      ┆ 0       ┆ … ┆ 96.00000  ┆ -100.0000 ┆ 132.00000 ┆ 143.00000 │\n",
       "│            ┆           ┆           ┆         ┆   ┆           ┆ 0         ┆           ┆           │\n",
       "└────────────┴───────────┴───────────┴─────────┴───┴───────────┴───────────┴───────────┴───────────┘"
      ]
     },
     "execution_count": 20,
     "metadata": {},
     "output_type": "execute_result"
    }
   ],
   "source": [
    "temp_df.head().collect()"
   ]
  },
  {
   "cell_type": "code",
   "execution_count": 21,
   "id": "f2a491d7",
   "metadata": {},
   "outputs": [
    {
     "data": {
      "text/plain": [
       "(array([0, 1]), array([922506,  45832]))"
      ]
     },
     "execution_count": 21,
     "metadata": {},
     "output_type": "execute_result"
    }
   ],
   "source": [
    "np.unique(temp_df.select('Outcome').collect()['Outcome'].to_list(), return_counts = True)"
   ]
  },
  {
   "cell_type": "code",
   "execution_count": 22,
   "id": "003aced6",
   "metadata": {},
   "outputs": [
    {
     "data": {
      "text/plain": [
       "(array(['GQ', 'M', 'TG', 'UNK', 'W'], dtype='<U3'),\n",
       " array([  2299, 283490,   4095, 202363, 476091]))"
      ]
     },
     "execution_count": 22,
     "metadata": {},
     "output_type": "execute_result"
    }
   ],
   "source": [
    "np.unique(temp_df.select('Gender_CD').collect()['Gender_CD'].to_list(), return_counts = True)"
   ]
  },
  {
   "cell_type": "code",
   "execution_count": 23,
   "id": "157362bf",
   "metadata": {},
   "outputs": [],
   "source": [
    "# Dicts to map \n",
    "age_group_dict = {'18-34': 0,\n",
    "                  '35-44': 1,\n",
    "                  '45-54':2,\n",
    "                  '55-64':3,\n",
    "                  '65-74':4,\n",
    "                  '75_older':5    \n",
    "}\n",
    "\n",
    "# nominal encoding Gender, Sex and Race\n"
   ]
  },
  {
   "cell_type": "code",
   "execution_count": 24,
   "id": "36809b60",
   "metadata": {},
   "outputs": [],
   "source": [
    "temp_df = temp_df.with_columns(pl.col('Age_group').replace_strict(age_group_dict).alias('Age_group'))"
   ]
  },
  {
   "cell_type": "code",
   "execution_count": 25,
   "id": "aa269b16",
   "metadata": {},
   "outputs": [
    {
     "data": {
      "text/html": [
       "<div><style>\n",
       ".dataframe > thead > tr,\n",
       ".dataframe > tbody > tr {\n",
       "  text-align: right;\n",
       "  white-space: pre-wrap;\n",
       "}\n",
       "</style>\n",
       "<small>shape: (5, 2_707)</small><table border=\"1\" class=\"dataframe\"><thead><tr><th>PATIENT_NUM</th><th>Age_group</th><th>FirstOutcomeDate</th><th>Outcome</th><th>Sex_CD</th><th>Race_CD</th><th>Hispanic_CD</th><th>Gender_CD</th><th>nitrofurantoin</th><th>nystatin</th><th>atorvastatin</th><th>amlodipine</th><th>lisinopril_hydrochlorothiazide</th><th>tadalafil</th><th>albuterol</th><th>chlorthalidone</th><th>potassium chloride</th><th>vilanterol_fluticasone</th><th>hydrocortisone</th><th>lisinopril</th><th>sennosides, USP_docusate</th><th>mupirocin</th><th>folic acid</th><th>tamsulosin</th><th>meloxicam</th><th>amitriptyline</th><th>quetiapine</th><th>gabapentin</th><th>tranexamic acid</th><th>polyvinyl alcohol</th><th>terbinafine</th><th>ascorbic acid</th><th>ferrous sulfate</th><th>losartan</th><th>clavulanate_amoxicillin</th><th>penicillin V</th><th>duloxetine</th><th>&hellip;</th><th>LOINC:42250-1</th><th>LOINC:43743-4</th><th>LOINC:21525-1</th><th>LOINC:2988-4</th><th>LOINC:2021-4</th><th>LOINC:4575-7</th><th>LOINC:48343-8</th><th>LOINC:83122-2</th><th>LOINC:9749-3</th><th>LOINC:9321-1</th><th>LOINC:76630-3</th><th>LOINC:2601-3</th><th>LOINC:53765-4</th><th>LOINC:4547-6</th><th>LOINC:21458-5</th><th>LOINC:18184-2</th><th>LOINC:19195-7</th><th>LOINC:14805-6</th><th>LOINC:13056-7</th><th>LOINC:20567-4</th><th>LOINC:6942-7</th><th>LOINC:1764-0</th><th>LOINC:41649-5</th><th>LOINC:50210-4</th><th>LOINC:83102-4</th><th>LOINC:72888-1</th><th>LOINC:2349-9</th><th>LOINC:2657-5</th><th>mode_height</th><th>average_weight</th><th>BMI</th><th>average_diastolic_value</th><th>min_diastolic_value</th><th>max_diastolic_value</th><th>average_systolic_value</th><th>min_systolic_value</th><th>max_systolic_value</th></tr><tr><td>i64</td><td>i64</td><td>datetime[μs]</td><td>i64</td><td>str</td><td>str</td><td>str</td><td>str</td><td>i32</td><td>i32</td><td>i32</td><td>i32</td><td>i32</td><td>i32</td><td>i32</td><td>i32</td><td>i32</td><td>i32</td><td>i32</td><td>i32</td><td>i32</td><td>i32</td><td>i32</td><td>i32</td><td>i32</td><td>i32</td><td>i32</td><td>i32</td><td>i32</td><td>i32</td><td>i32</td><td>i32</td><td>i32</td><td>i32</td><td>i32</td><td>i32</td><td>i32</td><td>&hellip;</td><td>decimal[18,5]</td><td>decimal[18,5]</td><td>decimal[18,5]</td><td>decimal[18,5]</td><td>decimal[18,5]</td><td>decimal[18,5]</td><td>decimal[18,5]</td><td>decimal[18,5]</td><td>decimal[18,5]</td><td>decimal[18,5]</td><td>decimal[18,5]</td><td>decimal[18,5]</td><td>decimal[18,5]</td><td>decimal[18,5]</td><td>decimal[18,5]</td><td>decimal[18,5]</td><td>decimal[18,5]</td><td>decimal[18,5]</td><td>decimal[18,5]</td><td>decimal[18,5]</td><td>decimal[18,5]</td><td>decimal[18,5]</td><td>decimal[18,5]</td><td>decimal[18,5]</td><td>decimal[18,5]</td><td>decimal[18,5]</td><td>decimal[18,5]</td><td>decimal[18,5]</td><td>f32</td><td>f32</td><td>f64</td><td>decimal[18,5]</td><td>decimal[18,5]</td><td>decimal[18,5]</td><td>decimal[18,5]</td><td>decimal[18,5]</td><td>decimal[18,5]</td></tr></thead><tbody><tr><td>10464243</td><td>0</td><td>null</td><td>0</td><td>&quot;F&quot;</td><td>&quot;UNK&quot;</td><td>&quot;UNK&quot;</td><td>&quot;W&quot;</td><td>0</td><td>0</td><td>0</td><td>0</td><td>0</td><td>0</td><td>0</td><td>0</td><td>0</td><td>0</td><td>0</td><td>0</td><td>0</td><td>0</td><td>0</td><td>0</td><td>0</td><td>0</td><td>0</td><td>0</td><td>0</td><td>0</td><td>0</td><td>0</td><td>0</td><td>0</td><td>0</td><td>0</td><td>0</td><td>&hellip;</td><td>-100.00000</td><td>-100.00000</td><td>-100.00000</td><td>-100.00000</td><td>-100.00000</td><td>-100.00000</td><td>-100.00000</td><td>-100.00000</td><td>-100.00000</td><td>-100.00000</td><td>-100.00000</td><td>-100.00000</td><td>-100.00000</td><td>-100.00000</td><td>-100.00000</td><td>-100.00000</td><td>-100.00000</td><td>-100.00000</td><td>-100.00000</td><td>-100.00000</td><td>-100.00000</td><td>-100.00000</td><td>-100.00000</td><td>-100.00000</td><td>-100.00000</td><td>-100.00000</td><td>-100.00000</td><td>-100.00000</td><td>69.0</td><td>172.333328</td><td>25.446404</td><td>-100.00000</td><td>81.00000</td><td>86.00000</td><td>-100.00000</td><td>128.00000</td><td>132.00000</td></tr><tr><td>2245024</td><td>2</td><td>null</td><td>0</td><td>&quot;F&quot;</td><td>&quot;05&quot;</td><td>&quot;N&quot;</td><td>&quot;UNK&quot;</td><td>0</td><td>0</td><td>0</td><td>0</td><td>0</td><td>0</td><td>0</td><td>0</td><td>0</td><td>0</td><td>0</td><td>0</td><td>0</td><td>0</td><td>0</td><td>0</td><td>0</td><td>0</td><td>0</td><td>0</td><td>0</td><td>0</td><td>0</td><td>0</td><td>0</td><td>0</td><td>0</td><td>0</td><td>0</td><td>&hellip;</td><td>-100.00000</td><td>-100.00000</td><td>-100.00000</td><td>-100.00000</td><td>-100.00000</td><td>-100.00000</td><td>-100.00000</td><td>-100.00000</td><td>-100.00000</td><td>-100.00000</td><td>-100.00000</td><td>-100.00000</td><td>-100.00000</td><td>-100.00000</td><td>-100.00000</td><td>-100.00000</td><td>-100.00000</td><td>-100.00000</td><td>-100.00000</td><td>-100.00000</td><td>-100.00000</td><td>-100.00000</td><td>-100.00000</td><td>-100.00000</td><td>-100.00000</td><td>-100.00000</td><td>-100.00000</td><td>-100.00000</td><td>-100.0</td><td>-100.0</td><td>-100.0</td><td>-100.00000</td><td>-100.00000</td><td>-100.00000</td><td>-100.00000</td><td>-100.00000</td><td>-100.00000</td></tr><tr><td>8474922</td><td>3</td><td>null</td><td>0</td><td>&quot;F&quot;</td><td>&quot;03&quot;</td><td>&quot;N&quot;</td><td>&quot;W&quot;</td><td>0</td><td>0</td><td>0</td><td>0</td><td>0</td><td>0</td><td>0</td><td>0</td><td>0</td><td>0</td><td>0</td><td>0</td><td>0</td><td>0</td><td>0</td><td>0</td><td>0</td><td>0</td><td>0</td><td>0</td><td>0</td><td>0</td><td>0</td><td>0</td><td>0</td><td>0</td><td>0</td><td>0</td><td>0</td><td>&hellip;</td><td>-100.00000</td><td>-100.00000</td><td>-100.00000</td><td>-100.00000</td><td>-100.00000</td><td>-100.00000</td><td>-100.00000</td><td>-100.00000</td><td>-100.00000</td><td>-100.00000</td><td>-100.00000</td><td>-100.00000</td><td>-100.00000</td><td>-100.00000</td><td>-100.00000</td><td>-100.00000</td><td>-100.00000</td><td>-100.00000</td><td>-100.00000</td><td>-100.00000</td><td>-100.00000</td><td>-100.00000</td><td>-100.00000</td><td>-100.00000</td><td>-100.00000</td><td>-100.00000</td><td>-100.00000</td><td>-100.00000</td><td>68.0</td><td>210.0</td><td>31.926904</td><td>-100.00000</td><td>70.00000</td><td>84.00000</td><td>-100.00000</td><td>122.00000</td><td>138.00000</td></tr><tr><td>7621798</td><td>0</td><td>null</td><td>0</td><td>&quot;F&quot;</td><td>&quot;05&quot;</td><td>&quot;Y&quot;</td><td>&quot;W&quot;</td><td>0</td><td>0</td><td>0</td><td>0</td><td>0</td><td>0</td><td>0</td><td>0</td><td>0</td><td>0</td><td>0</td><td>0</td><td>0</td><td>0</td><td>0</td><td>0</td><td>0</td><td>0</td><td>0</td><td>0</td><td>0</td><td>0</td><td>0</td><td>0</td><td>0</td><td>0</td><td>0</td><td>0</td><td>0</td><td>&hellip;</td><td>-100.00000</td><td>-100.00000</td><td>-100.00000</td><td>-100.00000</td><td>-100.00000</td><td>-100.00000</td><td>-100.00000</td><td>-100.00000</td><td>-100.00000</td><td>-100.00000</td><td>-100.00000</td><td>-100.00000</td><td>-100.00000</td><td>-100.00000</td><td>-100.00000</td><td>-100.00000</td><td>-100.00000</td><td>-100.00000</td><td>-100.00000</td><td>-100.00000</td><td>-100.00000</td><td>-100.00000</td><td>-100.00000</td><td>-100.00000</td><td>-100.00000</td><td>-100.00000</td><td>-100.00000</td><td>-100.00000</td><td>59.5</td><td>135.800003</td><td>26.966289</td><td>-100.00000</td><td>80.00000</td><td>80.00000</td><td>-100.00000</td><td>117.00000</td><td>117.00000</td></tr><tr><td>10756244</td><td>0</td><td>null</td><td>0</td><td>&quot;M&quot;</td><td>&quot;05&quot;</td><td>&quot;N&quot;</td><td>&quot;M&quot;</td><td>0</td><td>0</td><td>0</td><td>0</td><td>0</td><td>0</td><td>0</td><td>0</td><td>0</td><td>0</td><td>0</td><td>0</td><td>0</td><td>0</td><td>0</td><td>0</td><td>0</td><td>0</td><td>0</td><td>0</td><td>0</td><td>0</td><td>0</td><td>0</td><td>0</td><td>0</td><td>0</td><td>0</td><td>0</td><td>&hellip;</td><td>-100.00000</td><td>-100.00000</td><td>-100.00000</td><td>-100.00000</td><td>-100.00000</td><td>-100.00000</td><td>-100.00000</td><td>-100.00000</td><td>-100.00000</td><td>-100.00000</td><td>-100.00000</td><td>-100.00000</td><td>-100.00000</td><td>-100.00000</td><td>-100.00000</td><td>-100.00000</td><td>-100.00000</td><td>-100.00000</td><td>-100.00000</td><td>-100.00000</td><td>-100.00000</td><td>-100.00000</td><td>-100.00000</td><td>-100.00000</td><td>-100.00000</td><td>-100.00000</td><td>-100.00000</td><td>-100.00000</td><td>71.0</td><td>199.0</td><td>27.751835</td><td>-100.00000</td><td>86.00000</td><td>96.00000</td><td>-100.00000</td><td>132.00000</td><td>143.00000</td></tr></tbody></table></div>"
      ],
      "text/plain": [
       "shape: (5, 2_707)\n",
       "┌────────────┬───────────┬───────────┬─────────┬───┬───────────┬───────────┬───────────┬───────────┐\n",
       "│ PATIENT_NU ┆ Age_group ┆ FirstOutc ┆ Outcome ┆ … ┆ max_diast ┆ average_s ┆ min_systo ┆ max_systo │\n",
       "│ M          ┆ ---       ┆ omeDate   ┆ ---     ┆   ┆ olic_valu ┆ ystolic_v ┆ lic_value ┆ lic_value │\n",
       "│ ---        ┆ i64       ┆ ---       ┆ i64     ┆   ┆ e         ┆ alue      ┆ ---       ┆ ---       │\n",
       "│ i64        ┆           ┆ datetime[ ┆         ┆   ┆ ---       ┆ ---       ┆ decimal[1 ┆ decimal[1 │\n",
       "│            ┆           ┆ μs]       ┆         ┆   ┆ decimal[1 ┆ decimal[1 ┆ 8,5]      ┆ 8,5]      │\n",
       "│            ┆           ┆           ┆         ┆   ┆ 8,5]      ┆ 8,5]      ┆           ┆           │\n",
       "╞════════════╪═══════════╪═══════════╪═════════╪═══╪═══════════╪═══════════╪═══════════╪═══════════╡\n",
       "│ 10464243   ┆ 0         ┆ null      ┆ 0       ┆ … ┆ 86.00000  ┆ -100.0000 ┆ 128.00000 ┆ 132.00000 │\n",
       "│            ┆           ┆           ┆         ┆   ┆           ┆ 0         ┆           ┆           │\n",
       "│ 2245024    ┆ 2         ┆ null      ┆ 0       ┆ … ┆ -100.0000 ┆ -100.0000 ┆ -100.0000 ┆ -100.0000 │\n",
       "│            ┆           ┆           ┆         ┆   ┆ 0         ┆ 0         ┆ 0         ┆ 0         │\n",
       "│ 8474922    ┆ 3         ┆ null      ┆ 0       ┆ … ┆ 84.00000  ┆ -100.0000 ┆ 122.00000 ┆ 138.00000 │\n",
       "│            ┆           ┆           ┆         ┆   ┆           ┆ 0         ┆           ┆           │\n",
       "│ 7621798    ┆ 0         ┆ null      ┆ 0       ┆ … ┆ 80.00000  ┆ -100.0000 ┆ 117.00000 ┆ 117.00000 │\n",
       "│            ┆           ┆           ┆         ┆   ┆           ┆ 0         ┆           ┆           │\n",
       "│ 10756244   ┆ 0         ┆ null      ┆ 0       ┆ … ┆ 96.00000  ┆ -100.0000 ┆ 132.00000 ┆ 143.00000 │\n",
       "│            ┆           ┆           ┆         ┆   ┆           ┆ 0         ┆           ┆           │\n",
       "└────────────┴───────────┴───────────┴─────────┴───┴───────────┴───────────┴───────────┴───────────┘"
      ]
     },
     "execution_count": 25,
     "metadata": {},
     "output_type": "execute_result"
    }
   ],
   "source": [
    "temp_df.head().collect()"
   ]
  },
  {
   "cell_type": "code",
   "execution_count": 26,
   "id": "39378362",
   "metadata": {},
   "outputs": [],
   "source": [
    "temp_materialized_df = temp_df.collect()\n",
    "\n",
    "# Define the columns to one-hot encode\n",
    "columns_to_one_hot_encode = ['Sex_CD', 'Race_CD', 'Hispanic_CD', 'Gender_CD']\n",
    "\n",
    "# Combine the non-encoded columns with the encoded ones\n",
    "dt_modeling_cat_encoded_df = pl.concat([\n",
    "    temp_materialized_df.select(pl.all().exclude(columns_to_one_hot_encode)),\n",
    "    temp_materialized_df.select(columns_to_one_hot_encode).to_dummies()\n",
    "], how='horizontal')"
   ]
  },
  {
   "cell_type": "code",
   "execution_count": 27,
   "id": "6a9deba0",
   "metadata": {},
   "outputs": [
    {
     "data": {
      "text/html": [
       "<div><style>\n",
       ".dataframe > thead > tr,\n",
       ".dataframe > tbody > tr {\n",
       "  text-align: right;\n",
       "  white-space: pre-wrap;\n",
       "}\n",
       "</style>\n",
       "<small>shape: (5, 2_720)</small><table border=\"1\" class=\"dataframe\"><thead><tr><th>PATIENT_NUM</th><th>Age_group</th><th>FirstOutcomeDate</th><th>Outcome</th><th>nitrofurantoin</th><th>nystatin</th><th>atorvastatin</th><th>amlodipine</th><th>lisinopril_hydrochlorothiazide</th><th>tadalafil</th><th>albuterol</th><th>chlorthalidone</th><th>potassium chloride</th><th>vilanterol_fluticasone</th><th>hydrocortisone</th><th>lisinopril</th><th>sennosides, USP_docusate</th><th>mupirocin</th><th>folic acid</th><th>tamsulosin</th><th>meloxicam</th><th>amitriptyline</th><th>quetiapine</th><th>gabapentin</th><th>tranexamic acid</th><th>polyvinyl alcohol</th><th>terbinafine</th><th>ascorbic acid</th><th>ferrous sulfate</th><th>losartan</th><th>clavulanate_amoxicillin</th><th>penicillin V</th><th>duloxetine</th><th>clobetasol</th><th>methadone</th><th>bupropion</th><th>tretinoin</th><th>&hellip;</th><th>LOINC:14805-6</th><th>LOINC:13056-7</th><th>LOINC:20567-4</th><th>LOINC:6942-7</th><th>LOINC:1764-0</th><th>LOINC:41649-5</th><th>LOINC:50210-4</th><th>LOINC:83102-4</th><th>LOINC:72888-1</th><th>LOINC:2349-9</th><th>LOINC:2657-5</th><th>mode_height</th><th>average_weight</th><th>BMI</th><th>average_diastolic_value</th><th>min_diastolic_value</th><th>max_diastolic_value</th><th>average_systolic_value</th><th>min_systolic_value</th><th>max_systolic_value</th><th>Sex_CD_F</th><th>Sex_CD_M</th><th>Sex_CD_UNK</th><th>Race_CD_01</th><th>Race_CD_02</th><th>Race_CD_03</th><th>Race_CD_04</th><th>Race_CD_05</th><th>Race_CD_UNK</th><th>Hispanic_CD_N</th><th>Hispanic_CD_UNK</th><th>Hispanic_CD_Y</th><th>Gender_CD_GQ</th><th>Gender_CD_M</th><th>Gender_CD_TG</th><th>Gender_CD_UNK</th><th>Gender_CD_W</th></tr><tr><td>i64</td><td>i64</td><td>datetime[μs]</td><td>i64</td><td>i32</td><td>i32</td><td>i32</td><td>i32</td><td>i32</td><td>i32</td><td>i32</td><td>i32</td><td>i32</td><td>i32</td><td>i32</td><td>i32</td><td>i32</td><td>i32</td><td>i32</td><td>i32</td><td>i32</td><td>i32</td><td>i32</td><td>i32</td><td>i32</td><td>i32</td><td>i32</td><td>i32</td><td>i32</td><td>i32</td><td>i32</td><td>i32</td><td>i32</td><td>i32</td><td>i32</td><td>i32</td><td>i32</td><td>&hellip;</td><td>decimal[18,5]</td><td>decimal[18,5]</td><td>decimal[18,5]</td><td>decimal[18,5]</td><td>decimal[18,5]</td><td>decimal[18,5]</td><td>decimal[18,5]</td><td>decimal[18,5]</td><td>decimal[18,5]</td><td>decimal[18,5]</td><td>decimal[18,5]</td><td>f32</td><td>f32</td><td>f64</td><td>decimal[18,5]</td><td>decimal[18,5]</td><td>decimal[18,5]</td><td>decimal[18,5]</td><td>decimal[18,5]</td><td>decimal[18,5]</td><td>u8</td><td>u8</td><td>u8</td><td>u8</td><td>u8</td><td>u8</td><td>u8</td><td>u8</td><td>u8</td><td>u8</td><td>u8</td><td>u8</td><td>u8</td><td>u8</td><td>u8</td><td>u8</td><td>u8</td></tr></thead><tbody><tr><td>10464243</td><td>0</td><td>null</td><td>0</td><td>0</td><td>0</td><td>0</td><td>0</td><td>0</td><td>0</td><td>0</td><td>0</td><td>0</td><td>0</td><td>0</td><td>0</td><td>0</td><td>0</td><td>0</td><td>0</td><td>0</td><td>0</td><td>0</td><td>0</td><td>0</td><td>0</td><td>0</td><td>0</td><td>0</td><td>0</td><td>0</td><td>0</td><td>0</td><td>0</td><td>0</td><td>0</td><td>0</td><td>&hellip;</td><td>-100.00000</td><td>-100.00000</td><td>-100.00000</td><td>-100.00000</td><td>-100.00000</td><td>-100.00000</td><td>-100.00000</td><td>-100.00000</td><td>-100.00000</td><td>-100.00000</td><td>-100.00000</td><td>69.0</td><td>172.333328</td><td>25.446404</td><td>-100.00000</td><td>81.00000</td><td>86.00000</td><td>-100.00000</td><td>128.00000</td><td>132.00000</td><td>1</td><td>0</td><td>0</td><td>0</td><td>0</td><td>0</td><td>0</td><td>0</td><td>1</td><td>0</td><td>1</td><td>0</td><td>0</td><td>0</td><td>0</td><td>0</td><td>1</td></tr><tr><td>2245024</td><td>2</td><td>null</td><td>0</td><td>0</td><td>0</td><td>0</td><td>0</td><td>0</td><td>0</td><td>0</td><td>0</td><td>0</td><td>0</td><td>0</td><td>0</td><td>0</td><td>0</td><td>0</td><td>0</td><td>0</td><td>0</td><td>0</td><td>0</td><td>0</td><td>0</td><td>0</td><td>0</td><td>0</td><td>0</td><td>0</td><td>0</td><td>0</td><td>0</td><td>0</td><td>0</td><td>0</td><td>&hellip;</td><td>-100.00000</td><td>-100.00000</td><td>-100.00000</td><td>-100.00000</td><td>-100.00000</td><td>-100.00000</td><td>-100.00000</td><td>-100.00000</td><td>-100.00000</td><td>-100.00000</td><td>-100.00000</td><td>-100.0</td><td>-100.0</td><td>-100.0</td><td>-100.00000</td><td>-100.00000</td><td>-100.00000</td><td>-100.00000</td><td>-100.00000</td><td>-100.00000</td><td>1</td><td>0</td><td>0</td><td>0</td><td>0</td><td>0</td><td>0</td><td>1</td><td>0</td><td>1</td><td>0</td><td>0</td><td>0</td><td>0</td><td>0</td><td>1</td><td>0</td></tr><tr><td>8474922</td><td>3</td><td>null</td><td>0</td><td>0</td><td>0</td><td>0</td><td>0</td><td>0</td><td>0</td><td>0</td><td>0</td><td>0</td><td>0</td><td>0</td><td>0</td><td>0</td><td>0</td><td>0</td><td>0</td><td>0</td><td>0</td><td>0</td><td>0</td><td>0</td><td>0</td><td>0</td><td>0</td><td>0</td><td>0</td><td>0</td><td>0</td><td>0</td><td>0</td><td>0</td><td>0</td><td>0</td><td>&hellip;</td><td>-100.00000</td><td>-100.00000</td><td>-100.00000</td><td>-100.00000</td><td>-100.00000</td><td>-100.00000</td><td>-100.00000</td><td>-100.00000</td><td>-100.00000</td><td>-100.00000</td><td>-100.00000</td><td>68.0</td><td>210.0</td><td>31.926904</td><td>-100.00000</td><td>70.00000</td><td>84.00000</td><td>-100.00000</td><td>122.00000</td><td>138.00000</td><td>1</td><td>0</td><td>0</td><td>0</td><td>0</td><td>1</td><td>0</td><td>0</td><td>0</td><td>1</td><td>0</td><td>0</td><td>0</td><td>0</td><td>0</td><td>0</td><td>1</td></tr><tr><td>7621798</td><td>0</td><td>null</td><td>0</td><td>0</td><td>0</td><td>0</td><td>0</td><td>0</td><td>0</td><td>0</td><td>0</td><td>0</td><td>0</td><td>0</td><td>0</td><td>0</td><td>0</td><td>0</td><td>0</td><td>0</td><td>0</td><td>0</td><td>0</td><td>0</td><td>0</td><td>0</td><td>0</td><td>0</td><td>0</td><td>0</td><td>0</td><td>0</td><td>0</td><td>0</td><td>0</td><td>0</td><td>&hellip;</td><td>-100.00000</td><td>-100.00000</td><td>-100.00000</td><td>-100.00000</td><td>-100.00000</td><td>-100.00000</td><td>-100.00000</td><td>-100.00000</td><td>-100.00000</td><td>-100.00000</td><td>-100.00000</td><td>59.5</td><td>135.800003</td><td>26.966289</td><td>-100.00000</td><td>80.00000</td><td>80.00000</td><td>-100.00000</td><td>117.00000</td><td>117.00000</td><td>1</td><td>0</td><td>0</td><td>0</td><td>0</td><td>0</td><td>0</td><td>1</td><td>0</td><td>0</td><td>0</td><td>1</td><td>0</td><td>0</td><td>0</td><td>0</td><td>1</td></tr><tr><td>10756244</td><td>0</td><td>null</td><td>0</td><td>0</td><td>0</td><td>0</td><td>0</td><td>0</td><td>0</td><td>0</td><td>0</td><td>0</td><td>0</td><td>0</td><td>0</td><td>0</td><td>0</td><td>0</td><td>0</td><td>0</td><td>0</td><td>0</td><td>0</td><td>0</td><td>0</td><td>0</td><td>0</td><td>0</td><td>0</td><td>0</td><td>0</td><td>0</td><td>0</td><td>0</td><td>0</td><td>0</td><td>&hellip;</td><td>-100.00000</td><td>-100.00000</td><td>-100.00000</td><td>-100.00000</td><td>-100.00000</td><td>-100.00000</td><td>-100.00000</td><td>-100.00000</td><td>-100.00000</td><td>-100.00000</td><td>-100.00000</td><td>71.0</td><td>199.0</td><td>27.751835</td><td>-100.00000</td><td>86.00000</td><td>96.00000</td><td>-100.00000</td><td>132.00000</td><td>143.00000</td><td>0</td><td>1</td><td>0</td><td>0</td><td>0</td><td>0</td><td>0</td><td>1</td><td>0</td><td>1</td><td>0</td><td>0</td><td>0</td><td>1</td><td>0</td><td>0</td><td>0</td></tr></tbody></table></div>"
      ],
      "text/plain": [
       "shape: (5, 2_720)\n",
       "┌────────────┬───────────┬───────────┬─────────┬───┬───────────┬───────────┬───────────┬───────────┐\n",
       "│ PATIENT_NU ┆ Age_group ┆ FirstOutc ┆ Outcome ┆ … ┆ Gender_CD ┆ Gender_CD ┆ Gender_CD ┆ Gender_CD │\n",
       "│ M          ┆ ---       ┆ omeDate   ┆ ---     ┆   ┆ _M        ┆ _TG       ┆ _UNK      ┆ _W        │\n",
       "│ ---        ┆ i64       ┆ ---       ┆ i64     ┆   ┆ ---       ┆ ---       ┆ ---       ┆ ---       │\n",
       "│ i64        ┆           ┆ datetime[ ┆         ┆   ┆ u8        ┆ u8        ┆ u8        ┆ u8        │\n",
       "│            ┆           ┆ μs]       ┆         ┆   ┆           ┆           ┆           ┆           │\n",
       "╞════════════╪═══════════╪═══════════╪═════════╪═══╪═══════════╪═══════════╪═══════════╪═══════════╡\n",
       "│ 10464243   ┆ 0         ┆ null      ┆ 0       ┆ … ┆ 0         ┆ 0         ┆ 0         ┆ 1         │\n",
       "│ 2245024    ┆ 2         ┆ null      ┆ 0       ┆ … ┆ 0         ┆ 0         ┆ 1         ┆ 0         │\n",
       "│ 8474922    ┆ 3         ┆ null      ┆ 0       ┆ … ┆ 0         ┆ 0         ┆ 0         ┆ 1         │\n",
       "│ 7621798    ┆ 0         ┆ null      ┆ 0       ┆ … ┆ 0         ┆ 0         ┆ 0         ┆ 1         │\n",
       "│ 10756244   ┆ 0         ┆ null      ┆ 0       ┆ … ┆ 1         ┆ 0         ┆ 0         ┆ 0         │\n",
       "└────────────┴───────────┴───────────┴─────────┴───┴───────────┴───────────┴───────────┴───────────┘"
      ]
     },
     "execution_count": 27,
     "metadata": {},
     "output_type": "execute_result"
    }
   ],
   "source": [
    "dt_modeling_cat_encoded_df.head()"
   ]
  },
  {
   "cell_type": "code",
   "execution_count": 28,
   "id": "fb39328d",
   "metadata": {},
   "outputs": [
    {
     "data": {
      "text/plain": [
       "True"
      ]
     },
     "execution_count": 28,
     "metadata": {},
     "output_type": "execute_result"
    }
   ],
   "source": [
    "# drop unk column in demogrpahics 'Sex_CD', 'Race_CD', 'Hispanic_CD', 'Gender_CD'\n",
    "'Hispanic_CD_UNK' in dt_modeling_cat_encoded_df.columns"
   ]
  },
  {
   "cell_type": "code",
   "execution_count": 29,
   "id": "21322e6d",
   "metadata": {},
   "outputs": [],
   "source": [
    "dt_modeling_cat_encoded_df = dt_modeling_cat_encoded_df.drop('Sex_CD_UNK','Race_CD_UNK','Hispanic_CD_UNK','Gender_CD_UNK')"
   ]
  },
  {
   "cell_type": "code",
   "execution_count": 30,
   "id": "3b943f85",
   "metadata": {},
   "outputs": [
    {
     "data": {
      "text/plain": [
       "['Gender_CD_GQ', 'Gender_CD_M', 'Gender_CD_TG', 'Gender_CD_W']"
      ]
     },
     "execution_count": 30,
     "metadata": {},
     "output_type": "execute_result"
    }
   ],
   "source": [
    "[col for col in dt_modeling_cat_encoded_df.columns if col.startswith('Gender')]"
   ]
  },
  {
   "cell_type": "code",
   "execution_count": 31,
   "id": "f30e76a2",
   "metadata": {},
   "outputs": [],
   "source": [
    "if 'without_icd10z' in config.diag_path:\n",
    "    diag_prefix = 'without_icd10z'\n",
    "else:\n",
    "    diag_prefix = 'with_icd10z'\n",
    "\n",
    "if config.use_bmi_bp and config.use_cvs:\n",
    "    dt_modeling_cat_encoded_df.write_parquet('./Determine_final_modeling_datasets/Determine_joined_med_'+'usage'\n",
    "                      +'_lab_'+'latest'\n",
    "                      +'_diag_'+'phe_'+diag_prefix\n",
    "                      +'_bmi_bp_'+ 'cvs'              \n",
    "                      +'_ordinal_nominal_encoded'+\n",
    "                      '.parquet')\n",
    "\n",
    "elif config.use_bmi_bp:\n",
    "    dt_modeling_cat_encoded_df.write_parquet('./Determine_final_modeling_datasets/Determine_joined_med_'+'usage'\n",
    "                      +'_lab_'+'latest'\n",
    "                      +'_diag_'+'phe_'+diag_prefix\n",
    "                      +'_bmi_bp_'              \n",
    "                      +'_ordinal_nominal_encoded'+\n",
    "                      '.parquet')\n",
    "\n",
    "\n",
    "else:\n",
    "    dt_modeling_cat_encoded_df.write_parquet('./Determine_final_modeling_datasets/Determine_joined_med_'+'usage'\n",
    "                      +'_lab_'+'latest'\n",
    "                      +'_diag_'+'phe_'+diag_prefix\n",
    "                      +'_ordinal_nominal_encoded'+\n",
    "                      '.parquet')"
   ]
  },
  {
   "cell_type": "markdown",
   "id": "4e64824d",
   "metadata": {},
   "source": [
    "# Checking missing values for each patient"
   ]
  },
  {
   "cell_type": "code",
   "execution_count": null,
   "id": "1160daf1",
   "metadata": {},
   "outputs": [],
   "source": [
    "modeling_df = pl.read_parquet('./Determine_final_modeling_datasets/Determine_joined_med_'+'usage'\n",
    "                      +'_lab_'+'latest'\n",
    "                      +'_diag_'+'phe_icd10'\n",
    "                      +'_bmi_bp_'+ 'cvs'              \n",
    "                      +'_ordinal_nominal_encoded'+\n",
    "                      '.parquet')"
   ]
  },
  {
   "cell_type": "code",
   "execution_count": null,
   "id": "d553ccbf",
   "metadata": {},
   "outputs": [],
   "source": [
    "modeling_df = modeling_df.select([\n",
    "    pl.col(col).cast(pl.Float32) if col.startswith('LOINC') else pl.col(col)\n",
    "    for col in modeling_df.columns\n",
    "])"
   ]
  },
  {
   "cell_type": "code",
   "execution_count": null,
   "id": "86080e1e",
   "metadata": {},
   "outputs": [],
   "source": [
    "modeling_df.head()"
   ]
  },
  {
   "cell_type": "code",
   "execution_count": null,
   "id": "0403fe25",
   "metadata": {},
   "outputs": [],
   "source": [
    "columns_to_ignore = [ 'Outcome', 'Age_group', 'FirstOutcomeDate'] + ['Sex_CD_F',\n",
    " 'Sex_CD_M',\n",
    " #'Sex_CD_UNK',\n",
    " 'Race_CD_01',\n",
    " 'Race_CD_02',\n",
    " 'Race_CD_03',\n",
    " 'Race_CD_04',\n",
    " 'Race_CD_05',\n",
    " #'Race_CD_06',\n",
    " #'Race_CD_07',\n",
    " #'Race_CD_UNK',\n",
    " 'Hispanic_CD_N',\n",
    " #'Hispanic_CD_UNK',\n",
    " 'Hispanic_CD_Y',\n",
    " 'Gender_CD_GQ',\n",
    " 'Gender_CD_M',\n",
    " 'Gender_CD_TG',\n",
    " #'Gender_CD_UNK',\n",
    " 'Gender_CD_W']"
   ]
  },
  {
   "cell_type": "code",
   "execution_count": null,
   "id": "80a34d4c",
   "metadata": {},
   "outputs": [],
   "source": [
    "modeling_df = modeling_df.drop(columns_to_ignore)"
   ]
  },
  {
   "cell_type": "code",
   "execution_count": null,
   "id": "3f3e170a",
   "metadata": {},
   "outputs": [],
   "source": [
    "lab_columns  = [col for col in modeling_df.columns if col.startswith('LOINC')]\n",
    "med_diag_columns = list(set(modeling_df.columns) - set(lab_columns))"
   ]
  },
  {
   "cell_type": "code",
   "execution_count": null,
   "id": "b8a9fd2a",
   "metadata": {},
   "outputs": [],
   "source": [
    "print(\"Numbe of lab results columns\", len(lab_columns))\n",
    "print(\"Numbe of medications and diagnoses results columns\", len(med_diag_columns))"
   ]
  },
  {
   "cell_type": "code",
   "execution_count": null,
   "id": "dd272d02",
   "metadata": {},
   "outputs": [],
   "source": [
    "# sum_value_count_lab = []\n",
    "# sum_value_count_med_diag = []\n",
    "# for row in modeling_df.rows(named=True):\n",
    "    \n",
    "#     labs_dict = {key:row[key] for key in lab_columns}\n",
    "#     med_diag_dict = {key:row[key] for key in med_diag_columns}\n",
    "    \n",
    "#     sum_value_count_lab.append(len(lab_columns) - list(labs_dict.values()).count(-100))\n",
    "#     sum_value_count_med_diag.append(len(med_diag_columns) - list(med_diag_dict.values()).count(0))"
   ]
  },
  {
   "cell_type": "code",
   "execution_count": null,
   "id": "c02697f9",
   "metadata": {},
   "outputs": [],
   "source": [
    "def count_values_in_med_diag(row:dict):\n",
    "    return len(row) - list(row.values()).count(0)\n",
    "\n",
    "def count_values_in_lab(row:dict):\n",
    "    float_values = list(row.values())\n",
    "    return len(float_values) - float_values.count(-100)"
   ]
  },
  {
   "cell_type": "code",
   "execution_count": null,
   "id": "233f3fb7",
   "metadata": {},
   "outputs": [],
   "source": [
    "counts_df = modeling_df.with_columns(\n",
    "    pl.struct(pl.all().exclude(lab_columns)).map_elements(count_values_in_med_diag, return_dtype=pl.Int64).alias('non_null_med_diag_value_count'),\n",
    "    pl.struct(pl.all().exclude(med_diag_columns)).map_elements(count_values_in_lab, return_dtype=pl.Int64).alias('non_null_lab_value_count')\n",
    "    )"
   ]
  },
  {
   "cell_type": "code",
   "execution_count": null,
   "id": "44b71c6d",
   "metadata": {},
   "outputs": [],
   "source": [
    "counts_df.head()"
   ]
  },
  {
   "cell_type": "code",
   "execution_count": null,
   "id": "d7a503ea",
   "metadata": {},
   "outputs": [],
   "source": [
    "counts_df = counts_df.with_columns(pl.sum_horizontal(['non_null_med_diag_value_count','non_null_lab_value_count']).alias(\"Count_of_available_features\"))"
   ]
  },
  {
   "cell_type": "code",
   "execution_count": null,
   "id": "0416eb67",
   "metadata": {},
   "outputs": [],
   "source": [
    "counts_df.head()"
   ]
  },
  {
   "cell_type": "code",
   "execution_count": null,
   "id": "622b689b",
   "metadata": {},
   "outputs": [],
   "source": [
    "with open('catboost_false_positives_pids_test.pkl','rb') as f:\n",
    "    fp_ids = pickle.load(f)"
   ]
  },
  {
   "cell_type": "code",
   "execution_count": null,
   "id": "d216ff56",
   "metadata": {},
   "outputs": [],
   "source": [
    "import matplotlib.pyplot as plt\n",
    "bins = 10 \n",
    "\n",
    "data = counts_df['Count_of_available_features']\n",
    "\n",
    "# Plotting the histogram\n",
    "plt.xlim([min(data)-5, max(data)+5])\n",
    "plt.hist(data, bins=bins, alpha=0.5)\n",
    "# plt.xticks(range(10))\n",
    "plt.xlabel('Value')\n",
    "plt.ylabel('Frequency')\n",
    "plt.title('Data points feature count')\n",
    "plt.show()"
   ]
  },
  {
   "cell_type": "markdown",
   "id": "04f86bfe",
   "metadata": {},
   "source": [
    "## Check for key features missing rate in "
   ]
  }
 ],
 "metadata": {
  "kernelspec": {
   "display_name": "conda_python3",
   "language": "python",
   "name": "conda_python3"
  },
  "language_info": {
   "codemirror_mode": {
    "name": "ipython",
    "version": 3
   },
   "file_extension": ".py",
   "mimetype": "text/x-python",
   "name": "python",
   "nbconvert_exporter": "python",
   "pygments_lexer": "ipython3",
   "version": "3.10.16"
  }
 },
 "nbformat": 4,
 "nbformat_minor": 5
}
