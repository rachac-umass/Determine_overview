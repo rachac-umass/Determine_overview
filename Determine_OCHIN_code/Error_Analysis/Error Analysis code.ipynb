{
 "cells": [
  {
   "cell_type": "markdown",
   "id": "34d34be1",
   "metadata": {},
   "source": [
    "# Installing Libraries"
   ]
  },
  {
   "cell_type": "code",
   "execution_count": 1,
   "id": "8ae70442",
   "metadata": {
    "scrolled": true
   },
   "outputs": [
    {
     "name": "stderr",
     "output_type": "stream",
     "text": [
      "  % Total    % Received % Xferd  Average Speed   Time    Time     Time  Current\n",
      "                                 Dload  Upload   Total   Spent    Left  Speed\n",
      "100   413  100   413    0     0  10336      0 --:--:-- --:--:-- --:--:-- 1   00589\n"
     ]
    },
    {
     "name": "stdout",
     "output_type": "stream",
     "text": [
      "Loaded plugins: dkms-build-requires, extras_suggestions, kernel-livepatch,\n",
      "              : langpacks, priorities, update-motd, versionlock\n"
     ]
    },
    {
     "name": "stderr",
     "output_type": "stream",
     "text": [
      "No Match for argument: unixODBC-utf16\n",
      "No Match for argument: unixODBC-utf16-devel\n"
     ]
    },
    {
     "name": "stdout",
     "output_type": "stream",
     "text": [
      "No Packages marked for removal\n",
      "Loaded plugins: dkms-build-requires, extras_suggestions, kernel-livepatch,\n",
      "              : langpacks, priorities, update-motd, versionlock\n"
     ]
    },
    {
     "name": "stderr",
     "output_type": "stream",
     "text": [
      "https://download.docker.com/linux/centos/2/x86_64/stable/repodata/repomd.xml: [Errno 14] HTTPS Error 404 - Not Found\n",
      "Trying other mirror.\n"
     ]
    },
    {
     "name": "stdout",
     "output_type": "stream",
     "text": [
      "Retrieving key from https://packages.microsoft.com/keys/microsoft.asc\n"
     ]
    },
    {
     "name": "stderr",
     "output_type": "stream",
     "text": [
      "Importing GPG key 0xBE1229CF:\n",
      " Userid     : \"Microsoft (Release signing) <gpgsecurity@microsoft.com>\"\n",
      " Fingerprint: bc52 8686 b50d 79e3 39d3 721c eb3e 94ad be12 29cf\n",
      " From       : https://packages.microsoft.com/keys/microsoft.asc\n"
     ]
    },
    {
     "name": "stdout",
     "output_type": "stream",
     "text": [
      "67 packages excluded due to repository priority protections\n",
      "Resolving Dependencies\n",
      "--> Running transaction check\n",
      "---> Package msodbcsql17.x86_64 0:17.10.6.1-1 will be installed\n",
      "--> Processing Dependency: unixODBC >= 2.3.1 for package: msodbcsql17-17.10.6.1-1.x86_64\n",
      "--> Running transaction check\n",
      "---> Package unixODBC.x86_64 0:2.3.1-15.amzn2 will be installed\n",
      "--> Finished Dependency Resolution\n",
      "\n",
      "Dependencies Resolved\n",
      "\n",
      "================================================================================\n",
      " Package       Arch     Version             Repository                     Size\n",
      "================================================================================\n",
      "Installing:\n",
      " msodbcsql17   x86_64   17.10.6.1-1         packages-microsoft-com-prod   911 k\n",
      "Installing for dependencies:\n",
      " unixODBC      x86_64   2.3.1-15.amzn2      amzn2-core                    413 k\n",
      "\n",
      "Transaction Summary\n",
      "================================================================================\n",
      "Install  1 Package (+1 Dependent package)\n",
      "\n",
      "Total download size: 1.3 M\n",
      "Installed size: 3.4 M\n",
      "Downloading packages:\n"
     ]
    },
    {
     "name": "stderr",
     "output_type": "stream",
     "text": [
      "warning: /var/cache/yum/x86_64/2/packages-microsoft-com-prod/packages/msodbcsql17-17.10.6.1-1.x86_64.rpm: Header V4 RSA/SHA256 Signature, key ID be1229cf: NOKEY\n"
     ]
    },
    {
     "name": "stdout",
     "output_type": "stream",
     "text": [
      "Public key for msodbcsql17-17.10.6.1-1.x86_64.rpm is not installed\n",
      "--------------------------------------------------------------------------------\n",
      "Total                                              6.5 MB/s | 1.3 MB  00:00     \n",
      "Retrieving key from https://packages.microsoft.com/keys/microsoft.asc\n"
     ]
    },
    {
     "name": "stderr",
     "output_type": "stream",
     "text": [
      "Importing GPG key 0xBE1229CF:\n",
      " Userid     : \"Microsoft (Release signing) <gpgsecurity@microsoft.com>\"\n",
      " Fingerprint: bc52 8686 b50d 79e3 39d3 721c eb3e 94ad be12 29cf\n",
      " From       : https://packages.microsoft.com/keys/microsoft.asc\n"
     ]
    },
    {
     "name": "stdout",
     "output_type": "stream",
     "text": [
      "Running transaction check\n",
      "Running transaction test\n",
      "Transaction test succeeded\n",
      "Running transaction\n",
      "  Installing : unixODBC-2.3.1-15.amzn2.x86_64                               1/2 \n",
      "  Installing : msodbcsql17-17.10.6.1-1.x86_64                               2/2 \n",
      "odbcinst: Driver installed. Usage count increased to 1. \n",
      "    Target directory is /etc\n",
      "  Verifying  : msodbcsql17-17.10.6.1-1.x86_64                               1/2 \n",
      "  Verifying  : unixODBC-2.3.1-15.amzn2.x86_64                               2/2 \n",
      "\n",
      "Installed:\n",
      "  msodbcsql17.x86_64 0:17.10.6.1-1                                              \n",
      "\n",
      "Dependency Installed:\n",
      "  unixODBC.x86_64 0:2.3.1-15.amzn2                                              \n",
      "\n",
      "Complete!\n",
      "Loaded plugins: dkms-build-requires, extras_suggestions, kernel-livepatch,\n",
      "              : langpacks, priorities, update-motd, versionlock\n"
     ]
    },
    {
     "name": "stderr",
     "output_type": "stream",
     "text": [
      "https://download.docker.com/linux/centos/2/x86_64/stable/repodata/repomd.xml: [Errno 14] HTTPS Error 404 - Not Found\n",
      "Trying other mirror.\n"
     ]
    },
    {
     "name": "stdout",
     "output_type": "stream",
     "text": [
      "67 packages excluded due to repository priority protections\n",
      "Resolving Dependencies\n",
      "--> Running transaction check\n",
      "---> Package mssql-tools.x86_64 0:17.10.1.1-1 will be installed\n",
      "--> Finished Dependency Resolution\n",
      "\n",
      "Dependencies Resolved\n",
      "\n",
      "================================================================================\n",
      " Package        Arch      Version          Repository                      Size\n",
      "================================================================================\n",
      "Installing:\n",
      " mssql-tools    x86_64    17.10.1.1-1      packages-microsoft-com-prod    291 k\n",
      "\n",
      "Transaction Summary\n",
      "================================================================================\n",
      "Install  1 Package\n",
      "\n",
      "Total download size: 291 k\n",
      "Installed size: 714 k\n",
      "Downloading packages:\n",
      "Running transaction check\n",
      "Running transaction test\n",
      "Transaction test succeeded\n",
      "Running transaction\n",
      "  Installing : mssql-tools-17.10.1.1-1.x86_64                               1/1 \n",
      "  Verifying  : mssql-tools-17.10.1.1-1.x86_64                               1/1 \n",
      "\n",
      "Installed:\n",
      "  mssql-tools.x86_64 0:17.10.1.1-1                                              \n",
      "\n",
      "Complete!\n",
      "Loaded plugins: dkms-build-requires, extras_suggestions, kernel-livepatch,\n",
      "              : langpacks, priorities, update-motd, versionlock\n"
     ]
    },
    {
     "name": "stderr",
     "output_type": "stream",
     "text": [
      "https://download.docker.com/linux/centos/2/x86_64/stable/repodata/repomd.xml: [Errno 14] HTTPS Error 404 - Not Found\n",
      "Trying other mirror.\n"
     ]
    },
    {
     "name": "stdout",
     "output_type": "stream",
     "text": [
      "67 packages excluded due to repository priority protections\n",
      "Resolving Dependencies\n",
      "--> Running transaction check\n",
      "---> Package unixODBC-devel.x86_64 0:2.3.1-15.amzn2 will be installed\n",
      "--> Finished Dependency Resolution\n",
      "\n",
      "Dependencies Resolved\n",
      "\n",
      "================================================================================\n",
      " Package              Arch         Version               Repository        Size\n",
      "================================================================================\n",
      "Installing:\n",
      " unixODBC-devel       x86_64       2.3.1-15.amzn2        amzn2-core        55 k\n",
      "\n",
      "Transaction Summary\n",
      "================================================================================\n",
      "Install  1 Package\n",
      "\n",
      "Total download size: 55 k\n",
      "Installed size: 186 k\n",
      "Downloading packages:\n",
      "Running transaction check\n",
      "Running transaction test\n",
      "Transaction test succeeded\n",
      "Running transaction\n",
      "  Installing : unixODBC-devel-2.3.1-15.amzn2.x86_64                         1/1 \n",
      "  Verifying  : unixODBC-devel-2.3.1-15.amzn2.x86_64                         1/1 \n",
      "\n",
      "Installed:\n",
      "  unixODBC-devel.x86_64 0:2.3.1-15.amzn2                                        \n",
      "\n",
      "Complete!\n"
     ]
    }
   ],
   "source": [
    "%%sh\n",
    "\n",
    "sudo su \n",
    "\n",
    "#Download appropriate package for the OS version\n",
    "#Choose only ONE of the following, corresponding to your OS version\n",
    "\n",
    "#RHEL 7 and Oracle Linux 7\n",
    "curl https://packages.microsoft.com/config/rhel/7/prod.repo > /etc/yum.repos.d/mssql-release.repo\n",
    "\n",
    "#RHEL 8 and Oracle Linux 8\n",
    "#curl https://packages.microsoft.com/config/rhel/8/prod.repo > /etc/yum.repos.d/mssql-release.repo\n",
    "\n",
    "#RHEL 9\n",
    "#curl https://packages.microsoft.com/config/rhel/9.0/prod.repo > /etc/yum.repos.d/mssql-release.repo\n",
    "\n",
    "exit\n",
    "\n",
    "sudo yum remove unixODBC-utf16 unixODBC-utf16-devel #to avoid conflicts\n",
    "sudo ACCEPT_EULA=Y yum install -y msodbcsql17\n",
    "# optional: for bcp and sqlcmd\n",
    "sudo ACCEPT_EULA=Y yum install -y mssql-tools\n",
    "echo 'export PATH=\"$PATH:/opt/mssql-tools/bin\"' >> ~/.bashrc\n",
    "source ~/.bashrc\n",
    "# optional: for unixODBC development headers\n",
    "sudo yum install -y unixODBC-devel"
   ]
  },
  {
   "cell_type": "markdown",
   "id": "4823d714",
   "metadata": {},
   "source": [
    "# Installing libraries"
   ]
  },
  {
   "cell_type": "code",
   "execution_count": 2,
   "id": "23e958f6",
   "metadata": {},
   "outputs": [
    {
     "name": "stdout",
     "output_type": "stream",
     "text": [
      "Retrieving notices: ...working... done\n",
      "Channels:\n",
      " - conda-forge\n",
      " - nvidia\n",
      " - pytorch\n",
      "Platform: linux-64\n",
      "Collecting package metadata (repodata.json): ...working... done\n",
      "Solving environment: ...working... done\n",
      "\n",
      "## Package Plan ##\n",
      "\n",
      "  environment location: /home/ec2-user/anaconda3/envs/python3\n",
      "\n",
      "  added / updated specs:\n",
      "    - polars\n",
      "\n",
      "\n",
      "The following packages will be downloaded:\n",
      "\n",
      "    package                    |            build\n",
      "    ---------------------------|-----------------\n",
      "    polars-1.24.0              |  py310hc556931_0        24.7 MB  conda-forge\n",
      "    ------------------------------------------------------------\n",
      "                                           Total:        24.7 MB\n",
      "\n",
      "The following NEW packages will be INSTALLED:\n",
      "\n",
      "  packaging          conda-forge/noarch::packaging-24.2-pyhd8ed1ab_2 \n",
      "  polars             conda-forge/linux-64::polars-1.24.0-py310hc556931_0 \n",
      "\n",
      "\n",
      "Preparing transaction: ...working... done\n",
      "Verifying transaction: ...working... done\n",
      "Executing transaction: ...working... done\n"
     ]
    }
   ],
   "source": [
    "!conda install polars -y -q"
   ]
  },
  {
   "cell_type": "markdown",
   "id": "b25682bc",
   "metadata": {},
   "source": [
    "# Connecting to database"
   ]
  },
  {
   "cell_type": "code",
   "execution_count": 3,
   "id": "0c2c73b4",
   "metadata": {},
   "outputs": [],
   "source": [
    "import re\n",
    "import pyodbc"
   ]
  },
  {
   "cell_type": "code",
   "execution_count": 4,
   "id": "75f4c3b0",
   "metadata": {},
   "outputs": [],
   "source": [
    "file_path = '/home/ec2-user/SageMaker/db-credentials.txt'\n",
    "\n",
    "with open(file_path, 'r') as file:\n",
    "    # Code to parse the data will go here\n",
    "    file_contents = file.read()\n",
    "\n",
    "# Remove newlines and extra spaces\n",
    "cleaned_string = file_contents.replace('\\n', '').strip()\n",
    "\n",
    "# Extract variable-value pairs using regular expressions\n",
    "pattern = r'\"([^\"]+)\": \"([^\"]+)\"'\n",
    "pairs = re.findall(pattern, cleaned_string)\n",
    "\n",
    "parsed_data = {}\n",
    "\n",
    "for variable, data in pairs:\n",
    "    parsed_data[variable] = data"
   ]
  },
  {
   "cell_type": "code",
   "execution_count": 5,
   "id": "2111a747",
   "metadata": {},
   "outputs": [],
   "source": [
    "### This example shows how to view tables in the AAOCHIN2023 database. \n",
    "raw_db = 'AAOCHIN2023' \n",
    "raw_connection_string = \"DRIVER={ODBC Driver 17 for SQL Server};\" + \\\n",
    "                    \"SERVER=\" + parsed_data['host'] + ',' + parsed_data['port'] + ';' + \\\n",
    "                    \"DATABASE=\" + raw_db + ';' + \\\n",
    "                    \"UID=\" + parsed_data['username'] + ';' + \\\n",
    "                    \"PWD={\" + parsed_data['password'] + \"};\"\n",
    "raw_conn = pyodbc.connect(raw_connection_string, trusted_connection = 'no')\n",
    "raw_cursor = raw_conn.cursor()"
   ]
  },
  {
   "cell_type": "code",
   "execution_count": 6,
   "id": "d0145d87",
   "metadata": {},
   "outputs": [
    {
     "name": "stdout",
     "output_type": "stream",
     "text": [
      "OBSERVATION_FACT\n",
      "PATIENT_DIMENSION\n",
      "PROVIDER_DIMENSION\n",
      "VISIT_DIMENSION\n",
      "ZCTA_CVS\n",
      "SIDECAR_FACILITIES\n",
      "CONCEPT_DIMENSION\n",
      "I2B2\n"
     ]
    }
   ],
   "source": [
    "#### CHECK IF DATABASE CURSOR IS WORKING\n",
    "raw_cursor.execute('''\n",
    "SELECT name AS TABLE_NAME\n",
    "FROM sys.views\n",
    "''')\n",
    "for row in raw_cursor:\n",
    "    print(row[0])"
   ]
  },
  {
   "cell_type": "markdown",
   "id": "f501d527",
   "metadata": {},
   "source": [
    "# Importing required libraries"
   ]
  },
  {
   "cell_type": "code",
   "execution_count": 7,
   "id": "ace86b18",
   "metadata": {},
   "outputs": [],
   "source": [
    "import polars as pl\n",
    "import numpy as np"
   ]
  },
  {
   "cell_type": "markdown",
   "id": "f553c357",
   "metadata": {},
   "source": [
    "# code"
   ]
  },
  {
   "cell_type": "markdown",
   "id": "adfd3ddb",
   "metadata": {},
   "source": [
    "# Metformin analysis"
   ]
  },
  {
   "cell_type": "code",
   "execution_count": null,
   "id": "60eea98a",
   "metadata": {},
   "outputs": [],
   "source": [
    "medications_df = pl.scan_parquet(\"Determine_cohort_medications_active_ing.parquet\")"
   ]
  },
  {
   "cell_type": "code",
   "execution_count": null,
   "id": "172aa172",
   "metadata": {},
   "outputs": [],
   "source": [
    "medications_df.filter(pl.col('Active_ingrident')== 'metformin').collect()"
   ]
  },
  {
   "cell_type": "code",
   "execution_count": null,
   "id": "47bd5ec1",
   "metadata": {},
   "outputs": [],
   "source": [
    "np.unique(medications_df.filter(pl.col('Active_ingrident')== 'metformin').collect()['Medication_Name'])"
   ]
  },
  {
   "cell_type": "code",
   "execution_count": null,
   "id": "fc04120d",
   "metadata": {},
   "outputs": [],
   "source": [
    "np.unique(medications_df.filter(pl.col('Active_ingrident')== 'metformin').collect()['RxNorm'])"
   ]
  },
  {
   "cell_type": "code",
   "execution_count": null,
   "id": "43bd11b9",
   "metadata": {},
   "outputs": [],
   "source": [
    "pids_with_metformin = np.unique(medications_df.filter(pl.col('Active_ingrident')== 'metformin').collect()['PATIENT_NUM'])"
   ]
  },
  {
   "cell_type": "code",
   "execution_count": null,
   "id": "ed056db3",
   "metadata": {},
   "outputs": [],
   "source": [
    "len(pids_with_metformin)"
   ]
  },
  {
   "cell_type": "code",
   "execution_count": null,
   "id": "ffe0df53",
   "metadata": {},
   "outputs": [],
   "source": [
    "## Target data\n",
    "target_df = pl.scan_parquet('Determine_Cohort_with_labels_OutcomeDate.parquet')"
   ]
  },
  {
   "cell_type": "code",
   "execution_count": null,
   "id": "bdc664be",
   "metadata": {},
   "outputs": [],
   "source": [
    "req_target_df = target_df.filter(pl.col('PATIENT_NUM').is_in(pids_with_metformin)).collect()"
   ]
  },
  {
   "cell_type": "code",
   "execution_count": null,
   "id": "38e8530d",
   "metadata": {},
   "outputs": [],
   "source": [
    "np.unique(req_target_df['Outcome'].to_list(),return_counts = True) ## 4867 who dont have diabetes used metformin hydrochloride"
   ]
  },
  {
   "cell_type": "code",
   "execution_count": null,
   "id": "fa58ca04",
   "metadata": {},
   "outputs": [],
   "source": [
    "target_df.filter(pl.col('PATIENT_NUM').is_in(pids_with_metformin)).filter(pl.col('Outcome')==1).collect()"
   ]
  },
  {
   "cell_type": "markdown",
   "id": "faecf26f",
   "metadata": {},
   "source": [
    "## Type 1 and Gestational diabetes mellitus "
   ]
  },
  {
   "cell_type": "code",
   "execution_count": 16,
   "id": "fb5b3d17",
   "metadata": {},
   "outputs": [],
   "source": [
    "import pickle\n",
    "with open('./Determine_models_running_folder/catboost_false_positives_pids_test.pkl', 'rb') as file: \n",
    "    data_test_pids_fp = pickle.load(file) "
   ]
  },
  {
   "cell_type": "code",
   "execution_count": 17,
   "id": "cb6cb596",
   "metadata": {},
   "outputs": [
    {
     "data": {
      "text/plain": [
       "54194"
      ]
     },
     "execution_count": 17,
     "metadata": {},
     "output_type": "execute_result"
    }
   ],
   "source": [
    "len(data_test_pids_fp)"
   ]
  },
  {
   "cell_type": "code",
   "execution_count": 19,
   "id": "117eb09a",
   "metadata": {},
   "outputs": [
    {
     "data": {
      "text/plain": [
       "[520088,\n",
       " 2702717,\n",
       " 1195023,\n",
       " 7836063,\n",
       " 7244562,\n",
       " 5177246,\n",
       " 280011,\n",
       " 7393359,\n",
       " 6598902,\n",
       " 8032692]"
      ]
     },
     "execution_count": 19,
     "metadata": {},
     "output_type": "execute_result"
    }
   ],
   "source": [
    "data_test_pids_fp[:10]"
   ]
  },
  {
   "cell_type": "code",
   "execution_count": 10,
   "id": "b5465f42",
   "metadata": {},
   "outputs": [],
   "source": [
    "patient_nums_str = ', '.join(map(str, data_test_pids_fp[10000:20000]))"
   ]
  },
  {
   "cell_type": "code",
   "execution_count": null,
   "id": "d1bbfbae",
   "metadata": {},
   "outputs": [],
   "source": [
    "test_df = pl.read_database(f\"\"\" \n",
    "    SELECT ob.PATIENT_NUM, ob.CONCEPT_CD, ob.start_date\n",
    "    FROM AAOCHIN2023.S348.OBSERVATION_FACT ob     \n",
    "    WHERE ob.PATIENT_NUM IN ({patient_nums_str})\n",
    "    AND (ob.CONCEPT_CD LIKE 'ICD10CM:E11%'\n",
    "        OR ob.CONCEPT_CD LIKE 'ICD10CM:E10%'\n",
    "         OR ob.CONCEPT_CD = 'ICD10CM:O24.429'\n",
    "    ); \n",
    "\"\"\", connection=raw_cursor)\n",
    "\n",
    "# test_df = pl.read_database(f\"\"\" \n",
    "#     select * from S348.dbo.DETERMINE_OCHIN_COHORT where PATIENT_NUM IN ({patient_nums_str}); \n",
    "# \"\"\", connection=raw_cursor)"
   ]
  },
  {
   "cell_type": "code",
   "execution_count": null,
   "id": "5c62f24f",
   "metadata": {},
   "outputs": [],
   "source": [
    "test_df"
   ]
  },
  {
   "cell_type": "code",
   "execution_count": null,
   "id": "52056820",
   "metadata": {},
   "outputs": [],
   "source": [
    "len(np.unique(test_df['PATIENT_NUM'].to_list()))"
   ]
  },
  {
   "cell_type": "code",
   "execution_count": 18,
   "id": "04ac8bf7",
   "metadata": {},
   "outputs": [],
   "source": [
    "cohort_df = pl.read_database(f\"\"\" \n",
    "    select * from S348.dbo.DETERMINE_OCHIN_COHORT where PATIENT_NUM IN ({patient_nums_str}); \n",
    "\"\"\", connection=raw_cursor)"
   ]
  },
  {
   "cell_type": "code",
   "execution_count": null,
   "id": "18229dac",
   "metadata": {},
   "outputs": [],
   "source": [
    "1098665 in data_test_pids_fp"
   ]
  },
  {
   "cell_type": "code",
   "execution_count": 21,
   "id": "12074a89",
   "metadata": {},
   "outputs": [
    {
     "data": {
      "text/html": [
       "<div><style>\n",
       ".dataframe > thead > tr,\n",
       ".dataframe > tbody > tr {\n",
       "  text-align: right;\n",
       "  white-space: pre-wrap;\n",
       "}\n",
       "</style>\n",
       "<small>shape: (42, 7)</small><table border=\"1\" class=\"dataframe\"><thead><tr><th>PATIENT_NUM</th><th>Index_Start_date</th><th>FirstOutcomeDate</th><th>Age_at_encounter_date</th><th>Outcome</th><th>DEATH_DATE</th><th>Zip_CD</th></tr><tr><td>i64</td><td>datetime[μs]</td><td>datetime[μs]</td><td>i64</td><td>i64</td><td>datetime[μs]</td><td>str</td></tr></thead><tbody><tr><td>2085983</td><td>2019-04-08 00:00:00</td><td>2021-12-17 00:00:00</td><td>81</td><td>1</td><td>null</td><td>&quot;44224&quot;</td></tr><tr><td>2255770</td><td>2018-09-29 00:00:00</td><td>2020-02-17 00:00:00</td><td>58</td><td>1</td><td>null</td><td>&quot;02121&quot;</td></tr><tr><td>2407886</td><td>2019-04-18 00:00:00</td><td>2020-11-19 00:00:00</td><td>72</td><td>1</td><td>null</td><td>&quot;55404&quot;</td></tr><tr><td>2563031</td><td>2019-01-17 00:00:00</td><td>2021-03-16 00:00:00</td><td>58</td><td>1</td><td>null</td><td>&quot;97206&quot;</td></tr><tr><td>2812882</td><td>2019-04-22 00:00:00</td><td>2022-05-25 00:00:00</td><td>37</td><td>1</td><td>null</td><td>&quot;55414&quot;</td></tr><tr><td>&hellip;</td><td>&hellip;</td><td>&hellip;</td><td>&hellip;</td><td>&hellip;</td><td>&hellip;</td><td>&hellip;</td></tr><tr><td>10025135</td><td>2018-11-08 00:00:00</td><td>2022-03-16 00:00:00</td><td>62</td><td>1</td><td>null</td><td>&quot;02532&quot;</td></tr><tr><td>10625151</td><td>2019-01-30 00:00:00</td><td>2021-08-25 00:00:00</td><td>69</td><td>1</td><td>null</td><td>&quot;98057&quot;</td></tr><tr><td>11090904</td><td>2019-04-11 00:00:00</td><td>2022-07-29 00:00:00</td><td>62</td><td>1</td><td>null</td><td>&quot;60618&quot;</td></tr><tr><td>11584259</td><td>2018-05-31 00:00:00</td><td>2021-07-09 00:00:00</td><td>60</td><td>1</td><td>null</td><td>&quot;94903&quot;</td></tr><tr><td>11797559</td><td>2018-12-03 00:00:00</td><td>2019-10-04 00:00:00</td><td>64</td><td>1</td><td>null</td><td>&quot;94901&quot;</td></tr></tbody></table></div>"
      ],
      "text/plain": [
       "shape: (42, 7)\n",
       "┌─────────────┬────────────────┬────────────────┬────────────────┬─────────┬──────────────┬────────┐\n",
       "│ PATIENT_NUM ┆ Index_Start_da ┆ FirstOutcomeDa ┆ Age_at_encount ┆ Outcome ┆ DEATH_DATE   ┆ Zip_CD │\n",
       "│ ---         ┆ te             ┆ te             ┆ er_date        ┆ ---     ┆ ---          ┆ ---    │\n",
       "│ i64         ┆ ---            ┆ ---            ┆ ---            ┆ i64     ┆ datetime[μs] ┆ str    │\n",
       "│             ┆ datetime[μs]   ┆ datetime[μs]   ┆ i64            ┆         ┆              ┆        │\n",
       "╞═════════════╪════════════════╪════════════════╪════════════════╪═════════╪══════════════╪════════╡\n",
       "│ 2085983     ┆ 2019-04-08     ┆ 2021-12-17     ┆ 81             ┆ 1       ┆ null         ┆ 44224  │\n",
       "│             ┆ 00:00:00       ┆ 00:00:00       ┆                ┆         ┆              ┆        │\n",
       "│ 2255770     ┆ 2018-09-29     ┆ 2020-02-17     ┆ 58             ┆ 1       ┆ null         ┆ 02121  │\n",
       "│             ┆ 00:00:00       ┆ 00:00:00       ┆                ┆         ┆              ┆        │\n",
       "│ 2407886     ┆ 2019-04-18     ┆ 2020-11-19     ┆ 72             ┆ 1       ┆ null         ┆ 55404  │\n",
       "│             ┆ 00:00:00       ┆ 00:00:00       ┆                ┆         ┆              ┆        │\n",
       "│ 2563031     ┆ 2019-01-17     ┆ 2021-03-16     ┆ 58             ┆ 1       ┆ null         ┆ 97206  │\n",
       "│             ┆ 00:00:00       ┆ 00:00:00       ┆                ┆         ┆              ┆        │\n",
       "│ 2812882     ┆ 2019-04-22     ┆ 2022-05-25     ┆ 37             ┆ 1       ┆ null         ┆ 55414  │\n",
       "│             ┆ 00:00:00       ┆ 00:00:00       ┆                ┆         ┆              ┆        │\n",
       "│ …           ┆ …              ┆ …              ┆ …              ┆ …       ┆ …            ┆ …      │\n",
       "│ 10025135    ┆ 2018-11-08     ┆ 2022-03-16     ┆ 62             ┆ 1       ┆ null         ┆ 02532  │\n",
       "│             ┆ 00:00:00       ┆ 00:00:00       ┆                ┆         ┆              ┆        │\n",
       "│ 10625151    ┆ 2019-01-30     ┆ 2021-08-25     ┆ 69             ┆ 1       ┆ null         ┆ 98057  │\n",
       "│             ┆ 00:00:00       ┆ 00:00:00       ┆                ┆         ┆              ┆        │\n",
       "│ 11090904    ┆ 2019-04-11     ┆ 2022-07-29     ┆ 62             ┆ 1       ┆ null         ┆ 60618  │\n",
       "│             ┆ 00:00:00       ┆ 00:00:00       ┆                ┆         ┆              ┆        │\n",
       "│ 11584259    ┆ 2018-05-31     ┆ 2021-07-09     ┆ 60             ┆ 1       ┆ null         ┆ 94903  │\n",
       "│             ┆ 00:00:00       ┆ 00:00:00       ┆                ┆         ┆              ┆        │\n",
       "│ 11797559    ┆ 2018-12-03     ┆ 2019-10-04     ┆ 64             ┆ 1       ┆ null         ┆ 94901  │\n",
       "│             ┆ 00:00:00       ┆ 00:00:00       ┆                ┆         ┆              ┆        │\n",
       "└─────────────┴────────────────┴────────────────┴────────────────┴─────────┴──────────────┴────────┘"
      ]
     },
     "execution_count": 21,
     "metadata": {},
     "output_type": "execute_result"
    }
   ],
   "source": [
    "cohort_df.sort('PATIENT_NUM').filter(pl.col('PATIENT_NUM').is_in(data_test_pids_fp)).filter(pl.col('Outcome') == 1)"
   ]
  },
  {
   "cell_type": "code",
   "execution_count": null,
   "id": "2cb327ca",
   "metadata": {},
   "outputs": [],
   "source": [
    "test_df = pl.read_database(f\"\"\" \n",
    "    SELECT ob.PATIENT_NUM, ob.CONCEPT_CD, ob.start_date\n",
    "    FROM AAOCHIN2023.S348.OBSERVATION_FACT ob     \n",
    "    WHERE ob.PATIENT_NUM IN (10502111)\n",
    "    AND (ob.CONCEPT_CD LIKE 'ICD10CM:E11%'\n",
    "        OR ob.CONCEPT_CD LIKE 'ICD10CM:E10%'\n",
    "         OR ob.CONCEPT_CD = 'ICD10CM:O24.429'\n",
    "    ); \n",
    "\"\"\", connection=raw_cursor)\n",
    "test_df"
   ]
  },
  {
   "cell_type": "code",
   "execution_count": null,
   "id": "b7929eef",
   "metadata": {},
   "outputs": [],
   "source": [
    "len(np.unique(test_df['PATIENT_NUM'].to_list()))"
   ]
  },
  {
   "cell_type": "markdown",
   "id": "f5286b40",
   "metadata": {},
   "source": [
    "## False positives and False negatives distribution"
   ]
  },
  {
   "cell_type": "code",
   "execution_count": 45,
   "id": "6fac1488",
   "metadata": {},
   "outputs": [],
   "source": [
    "import pickle\n",
    "# Open the file in binary mode \n",
    "with open('./Determine_models_running_folder/catboost_false_positives_pids_test.pkl', 'rb') as file: \n",
    "    data_test_pids_fp = pickle.load(file) \n",
    "\n",
    "\n",
    "# Open the file in binary mode \n",
    "with open('./Determine_models_running_folder/catboost_false_negatives_pids_test.pkl', 'rb') as file: \n",
    "    data_test_pids_fn = pickle.load(file) "
   ]
  },
  {
   "cell_type": "markdown",
   "id": "a2d6fcae",
   "metadata": {},
   "source": [
    "# Feature missingness"
   ]
  },
  {
   "cell_type": "code",
   "execution_count": 8,
   "id": "0e1a3e0d",
   "metadata": {},
   "outputs": [],
   "source": [
    "class modeling_config:\n",
    "    labs_latest_path = 'Determine_lab_results_latest_domain_expert_pivot.parquet'\n",
    "#     labs_mean_path =\n",
    "#     labs_temporal_path =\n",
    "    meds_path = 'Determine_medications_active_ingredients_pivot.parquet'\n",
    "    diag_path = 'Determine_diagnoses_phemap_pivot_with_icd10z.parquet'\n",
    "    demo_path = 'Determine_modeling_demographics_data.parquet'\n",
    "    target_path = 'Determine_Cohort_with_labels_OutcomeDate.parquet'\n",
    "    association_threshold = 20"
   ]
  },
  {
   "cell_type": "code",
   "execution_count": 9,
   "id": "85533d9a",
   "metadata": {},
   "outputs": [],
   "source": [
    "labresults_df = pl.read_parquet(modeling_config.labs_latest_path)\n",
    "medications_pivot_df = pl.read_parquet('Determine_medications_active_ingredients_pivot.parquet')\n",
    "diag_pivot_df = pl.read_parquet(modeling_config.diag_path)"
   ]
  },
  {
   "cell_type": "code",
   "execution_count": 10,
   "id": "33f03649",
   "metadata": {},
   "outputs": [],
   "source": [
    "labresults_df = labresults_df.fill_null(-100)"
   ]
  },
  {
   "cell_type": "code",
   "execution_count": 15,
   "id": "9458bb34",
   "metadata": {},
   "outputs": [],
   "source": [
    "def count_values_not_zero(row:dict):\n",
    "    return sum(list(row.values()))\n",
    "\n",
    "def count_values_not_neg_100(row: dict):\n",
    "    return sum(1 for value in row.values() if value != -100)"
   ]
  },
  {
   "cell_type": "code",
   "execution_count": 16,
   "id": "6b1adf3c",
   "metadata": {},
   "outputs": [],
   "source": [
    "all_pids = list(set(labresults_df['PATIENT_NUM']) |set(medications_pivot_df['PATIENT_NUM']) | set(diag_pivot_df['PATIENT_NUM']))"
   ]
  },
  {
   "cell_type": "code",
   "execution_count": 17,
   "id": "508fdd68",
   "metadata": {},
   "outputs": [],
   "source": [
    "all_pids_df = pl.DataFrame({'PATIENT_NUM':all_pids})"
   ]
  },
  {
   "cell_type": "code",
   "execution_count": 18,
   "id": "e5cb1cff",
   "metadata": {},
   "outputs": [],
   "source": [
    "labs_feat_count_df = labresults_df.with_columns(pl.struct(pl.all().exclude('PATIENT_NUM')).map_elements(count_values_not_neg_100, return_dtype =pl.Int32).alias('lab_feature_count')).select(['PATIENT_NUM','lab_feature_count'])\n",
    "med_feat_count_df = medications_pivot_df.with_columns(pl.struct(pl.all().exclude('PATIENT_NUM')).map_elements(count_values_not_zero, return_dtype =pl.Int32).alias('med_feature_count')).select(['PATIENT_NUM','med_feature_count'])\n",
    "dx_feat_count_df = diag_pivot_df.with_columns(pl.struct(pl.all().exclude('PATIENT_NUM')).map_elements(count_values_not_zero, return_dtype =pl.Int32).alias('dx_feature_count')).select(['PATIENT_NUM','dx_feature_count'])"
   ]
  },
  {
   "cell_type": "code",
   "execution_count": 24,
   "id": "ffac3cfb",
   "metadata": {},
   "outputs": [],
   "source": [
    "feature_missing_df = all_pids_df.join(labs_feat_count_df, on  = 'PATIENT_NUM',how = 'left').join(med_feat_count_df, on  = 'PATIENT_NUM',how = 'left').join(dx_feat_count_df, on  = 'PATIENT_NUM',how = 'left')"
   ]
  },
  {
   "cell_type": "code",
   "execution_count": 25,
   "id": "cdb9381b",
   "metadata": {},
   "outputs": [],
   "source": [
    "feature_missing_df = feature_missing_df.fill_null(0)"
   ]
  },
  {
   "cell_type": "code",
   "execution_count": 26,
   "id": "85c58848",
   "metadata": {},
   "outputs": [],
   "source": [
    "feature_missing_df = feature_missing_df.with_columns(pl.sum_horizontal(pl.all().exclude('PATIENT_NUM')).alias('Total_Feature_Count'))"
   ]
  },
  {
   "cell_type": "code",
   "execution_count": 27,
   "id": "be950d00",
   "metadata": {},
   "outputs": [
    {
     "data": {
      "text/html": [
       "<div><style>\n",
       ".dataframe > thead > tr,\n",
       ".dataframe > tbody > tr {\n",
       "  text-align: right;\n",
       "  white-space: pre-wrap;\n",
       "}\n",
       "</style>\n",
       "<small>shape: (1_042_572, 5)</small><table border=\"1\" class=\"dataframe\"><thead><tr><th>PATIENT_NUM</th><th>lab_feature_count</th><th>med_feature_count</th><th>dx_feature_count</th><th>Total_Feature_Count</th></tr><tr><td>i64</td><td>i32</td><td>i32</td><td>i32</td><td>i32</td></tr></thead><tbody><tr><td>8388608</td><td>37</td><td>0</td><td>0</td><td>37</td></tr><tr><td>8388609</td><td>32</td><td>0</td><td>1</td><td>33</td></tr><tr><td>8388610</td><td>0</td><td>0</td><td>1</td><td>1</td></tr><tr><td>4194311</td><td>48</td><td>2</td><td>5</td><td>55</td></tr><tr><td>8388618</td><td>5</td><td>0</td><td>5</td><td>10</td></tr><tr><td>&hellip;</td><td>&hellip;</td><td>&hellip;</td><td>&hellip;</td><td>&hellip;</td></tr><tr><td>8388594</td><td>44</td><td>0</td><td>2</td><td>46</td></tr><tr><td>4194297</td><td>31</td><td>1</td><td>4</td><td>36</td></tr><tr><td>4194299</td><td>0</td><td>1</td><td>1</td><td>2</td></tr><tr><td>8388604</td><td>31</td><td>0</td><td>2</td><td>33</td></tr><tr><td>8388607</td><td>0</td><td>0</td><td>3</td><td>3</td></tr></tbody></table></div>"
      ],
      "text/plain": [
       "shape: (1_042_572, 5)\n",
       "┌─────────────┬───────────────────┬───────────────────┬──────────────────┬─────────────────────┐\n",
       "│ PATIENT_NUM ┆ lab_feature_count ┆ med_feature_count ┆ dx_feature_count ┆ Total_Feature_Count │\n",
       "│ ---         ┆ ---               ┆ ---               ┆ ---              ┆ ---                 │\n",
       "│ i64         ┆ i32               ┆ i32               ┆ i32              ┆ i32                 │\n",
       "╞═════════════╪═══════════════════╪═══════════════════╪══════════════════╪═════════════════════╡\n",
       "│ 8388608     ┆ 37                ┆ 0                 ┆ 0                ┆ 37                  │\n",
       "│ 8388609     ┆ 32                ┆ 0                 ┆ 1                ┆ 33                  │\n",
       "│ 8388610     ┆ 0                 ┆ 0                 ┆ 1                ┆ 1                   │\n",
       "│ 4194311     ┆ 48                ┆ 2                 ┆ 5                ┆ 55                  │\n",
       "│ 8388618     ┆ 5                 ┆ 0                 ┆ 5                ┆ 10                  │\n",
       "│ …           ┆ …                 ┆ …                 ┆ …                ┆ …                   │\n",
       "│ 8388594     ┆ 44                ┆ 0                 ┆ 2                ┆ 46                  │\n",
       "│ 4194297     ┆ 31                ┆ 1                 ┆ 4                ┆ 36                  │\n",
       "│ 4194299     ┆ 0                 ┆ 1                 ┆ 1                ┆ 2                   │\n",
       "│ 8388604     ┆ 31                ┆ 0                 ┆ 2                ┆ 33                  │\n",
       "│ 8388607     ┆ 0                 ┆ 0                 ┆ 3                ┆ 3                   │\n",
       "└─────────────┴───────────────────┴───────────────────┴──────────────────┴─────────────────────┘"
      ]
     },
     "execution_count": 27,
     "metadata": {},
     "output_type": "execute_result"
    }
   ],
   "source": [
    "feature_missing_df"
   ]
  },
  {
   "cell_type": "code",
   "execution_count": 30,
   "id": "ab9213c7",
   "metadata": {},
   "outputs": [
    {
     "data": {
      "text/html": [
       "<div><style>\n",
       ".dataframe > thead > tr,\n",
       ".dataframe > tbody > tr {\n",
       "  text-align: right;\n",
       "  white-space: pre-wrap;\n",
       "}\n",
       "</style>\n",
       "<small>shape: (133_188, 5)</small><table border=\"1\" class=\"dataframe\"><thead><tr><th>PATIENT_NUM</th><th>lab_feature_count</th><th>med_feature_count</th><th>dx_feature_count</th><th>Total_Feature_Count</th></tr><tr><td>i64</td><td>i32</td><td>i32</td><td>i32</td><td>i32</td></tr></thead><tbody><tr><td>8388610</td><td>0</td><td>0</td><td>1</td><td>1</td></tr><tr><td>4194425</td><td>0</td><td>0</td><td>1</td><td>1</td></tr><tr><td>8388730</td><td>0</td><td>0</td><td>1</td><td>1</td></tr><tr><td>8388735</td><td>0</td><td>0</td><td>1</td><td>1</td></tr><tr><td>8388761</td><td>0</td><td>0</td><td>1</td><td>1</td></tr><tr><td>&hellip;</td><td>&hellip;</td><td>&hellip;</td><td>&hellip;</td><td>&hellip;</td></tr><tr><td>8388395</td><td>0</td><td>0</td><td>1</td><td>1</td></tr><tr><td>4194188</td><td>0</td><td>0</td><td>1</td><td>1</td></tr><tr><td>8388519</td><td>0</td><td>0</td><td>1</td><td>1</td></tr><tr><td>4194219</td><td>0</td><td>1</td><td>0</td><td>1</td></tr><tr><td>8388590</td><td>0</td><td>0</td><td>1</td><td>1</td></tr></tbody></table></div>"
      ],
      "text/plain": [
       "shape: (133_188, 5)\n",
       "┌─────────────┬───────────────────┬───────────────────┬──────────────────┬─────────────────────┐\n",
       "│ PATIENT_NUM ┆ lab_feature_count ┆ med_feature_count ┆ dx_feature_count ┆ Total_Feature_Count │\n",
       "│ ---         ┆ ---               ┆ ---               ┆ ---              ┆ ---                 │\n",
       "│ i64         ┆ i32               ┆ i32               ┆ i32              ┆ i32                 │\n",
       "╞═════════════╪═══════════════════╪═══════════════════╪══════════════════╪═════════════════════╡\n",
       "│ 8388610     ┆ 0                 ┆ 0                 ┆ 1                ┆ 1                   │\n",
       "│ 4194425     ┆ 0                 ┆ 0                 ┆ 1                ┆ 1                   │\n",
       "│ 8388730     ┆ 0                 ┆ 0                 ┆ 1                ┆ 1                   │\n",
       "│ 8388735     ┆ 0                 ┆ 0                 ┆ 1                ┆ 1                   │\n",
       "│ 8388761     ┆ 0                 ┆ 0                 ┆ 1                ┆ 1                   │\n",
       "│ …           ┆ …                 ┆ …                 ┆ …                ┆ …                   │\n",
       "│ 8388395     ┆ 0                 ┆ 0                 ┆ 1                ┆ 1                   │\n",
       "│ 4194188     ┆ 0                 ┆ 0                 ┆ 1                ┆ 1                   │\n",
       "│ 8388519     ┆ 0                 ┆ 0                 ┆ 1                ┆ 1                   │\n",
       "│ 4194219     ┆ 0                 ┆ 1                 ┆ 0                ┆ 1                   │\n",
       "│ 8388590     ┆ 0                 ┆ 0                 ┆ 1                ┆ 1                   │\n",
       "└─────────────┴───────────────────┴───────────────────┴──────────────────┴─────────────────────┘"
      ]
     },
     "execution_count": 30,
     "metadata": {},
     "output_type": "execute_result"
    }
   ],
   "source": [
    "feature_missing_df.filter(pl.col('Total_Feature_Count')==1)"
   ]
  },
  {
   "cell_type": "markdown",
   "id": "09519ae6",
   "metadata": {},
   "source": [
    "### Joining with target  and demographics data"
   ]
  },
  {
   "cell_type": "code",
   "execution_count": 32,
   "id": "f9949ad6",
   "metadata": {},
   "outputs": [],
   "source": [
    "target_df = pl.read_parquet(modeling_config.target_path)\n",
    "feature_missing_df = feature_missing_df.join(target_df, on = 'PATIENT_NUM',how = 'left')"
   ]
  },
  {
   "cell_type": "code",
   "execution_count": 37,
   "id": "9d1d8897",
   "metadata": {},
   "outputs": [],
   "source": [
    "demo_df = pl.read_parquet(modeling_config.demo_path)\n",
    "feature_missing_df = feature_missing_df.join(demo_df, left_on = 'PATIENT_NUM',right_on = 'Patient_num',how = 'left')"
   ]
  },
  {
   "cell_type": "code",
   "execution_count": 40,
   "id": "fd91200d",
   "metadata": {},
   "outputs": [],
   "source": [
    "feature_missing_df.write_parquet('Determine_missing_features_OCHIN.parquet')"
   ]
  },
  {
   "cell_type": "markdown",
   "id": "1c1d80b7",
   "metadata": {},
   "source": [
    "# Missing features in False positives and False negatives"
   ]
  },
  {
   "cell_type": "code",
   "execution_count": 59,
   "id": "957e6677",
   "metadata": {},
   "outputs": [
    {
     "name": "stdout",
     "output_type": "stream",
     "text": [
      "Number of False Positives:  54194\n",
      "Number of False Negatives:  2163\n"
     ]
    }
   ],
   "source": [
    "print(\"Number of False Positives: \",len(data_test_pids_fp))\n",
    "print(\"Number of False Negatives: \",len(data_test_pids_fn))"
   ]
  },
  {
   "cell_type": "code",
   "execution_count": 55,
   "id": "edfa642e",
   "metadata": {},
   "outputs": [],
   "source": [
    "rows = ['Feature Count <= 1','Feature Count <= 2','Feature Count <= 3','Feature Count <= 4','Feature Count <= 5']"
   ]
  },
  {
   "cell_type": "code",
   "execution_count": 56,
   "id": "1976d54f",
   "metadata": {},
   "outputs": [],
   "source": [
    "fp_missing_count_per_threshold = []\n",
    "fn_missing_count_per_threshold = []\n",
    "for i in range(1,6):\n",
    "    fp_missing_count_per_threshold.append(len(feature_missing_df.filter((pl.col('PATIENT_NUM').is_in(data_test_pids_fp)) & (pl.col('Total_Feature_Count')<= i))))\n",
    "    fn_missing_count_per_threshold.append(len(feature_missing_df.filter((pl.col('PATIENT_NUM').is_in(data_test_pids_fn)) & (pl.col('Total_Feature_Count')<= i))))"
   ]
  },
  {
   "cell_type": "code",
   "execution_count": 57,
   "id": "bc5c151d",
   "metadata": {},
   "outputs": [
    {
     "data": {
      "text/html": [
       "<div><style>\n",
       ".dataframe > thead > tr,\n",
       ".dataframe > tbody > tr {\n",
       "  text-align: right;\n",
       "  white-space: pre-wrap;\n",
       "}\n",
       "</style>\n",
       "<small>shape: (5, 3)</small><table border=\"1\" class=\"dataframe\"><thead><tr><th>feature Count</th><th>False Positive ID count</th><th>False Negative ID count</th></tr><tr><td>str</td><td>i64</td><td>i64</td></tr></thead><tbody><tr><td>&quot;Feature Count less than 1&quot;</td><td>6335</td><td>313</td></tr><tr><td>&quot;Feature Count less than 2&quot;</td><td>9889</td><td>488</td></tr><tr><td>&quot;Feature Count less than 3&quot;</td><td>12512</td><td>626</td></tr><tr><td>&quot;Feature Count less than 4&quot;</td><td>14612</td><td>735</td></tr><tr><td>&quot;Feature Count less than 5&quot;</td><td>16387</td><td>825</td></tr></tbody></table></div>"
      ],
      "text/plain": [
       "shape: (5, 3)\n",
       "┌───────────────────────────┬─────────────────────────┬─────────────────────────┐\n",
       "│ feature Count             ┆ False Positive ID count ┆ False Negative ID count │\n",
       "│ ---                       ┆ ---                     ┆ ---                     │\n",
       "│ str                       ┆ i64                     ┆ i64                     │\n",
       "╞═══════════════════════════╪═════════════════════════╪═════════════════════════╡\n",
       "│ Feature Count less than 1 ┆ 6335                    ┆ 313                     │\n",
       "│ Feature Count less than 2 ┆ 9889                    ┆ 488                     │\n",
       "│ Feature Count less than 3 ┆ 12512                   ┆ 626                     │\n",
       "│ Feature Count less than 4 ┆ 14612                   ┆ 735                     │\n",
       "│ Feature Count less than 5 ┆ 16387                   ┆ 825                     │\n",
       "└───────────────────────────┴─────────────────────────┴─────────────────────────┘"
      ]
     },
     "execution_count": 57,
     "metadata": {},
     "output_type": "execute_result"
    }
   ],
   "source": [
    "pl.DataFrame({'feature Count':rows,\n",
    "             'False Positive ID count': fp_missing_count_per_threshold,\n",
    "             'False Negative ID count': fn_missing_count_per_threshold})"
   ]
  },
  {
   "cell_type": "markdown",
   "id": "36246b3c",
   "metadata": {},
   "source": [
    "## Distribution across Outcome 1 and 0"
   ]
  },
  {
   "cell_type": "code",
   "execution_count": 68,
   "id": "b003cdf4",
   "metadata": {},
   "outputs": [
    {
     "name": "stdout",
     "output_type": "stream",
     "text": [
      "Number of data points with Outcome 0:  993147\n",
      "Number of data points with Outcome 1:  49425\n"
     ]
    }
   ],
   "source": [
    "print(\"Number of data points with Outcome 0: \",len(feature_missing_df.filter(pl.col('Outcome')==0)))\n",
    "print(\"Number of data points with Outcome 1: \", len(feature_missing_df.filter(pl.col('Outcome')==1)))"
   ]
  },
  {
   "cell_type": "code",
   "execution_count": 72,
   "id": "e99202d7",
   "metadata": {},
   "outputs": [],
   "source": [
    "rows = ['Feature Count <= 1','Feature Count <= 2','Feature Count <= 3','Feature Count <= 4','Feature Count <= 5']"
   ]
  },
  {
   "cell_type": "code",
   "execution_count": 73,
   "id": "0d6edfdd",
   "metadata": {},
   "outputs": [],
   "source": [
    "Outcome0_missing_count_per_threshold = []\n",
    "Outcome1_missing_count_per_threshold = []\n",
    "for i in range(1,6):\n",
    "    Outcome0_missing_count_per_threshold.append(len(feature_missing_df.filter((pl.col('Outcome') == 0) & (pl.col('Total_Feature_Count')<= i))))\n",
    "    Outcome1_missing_count_per_threshold.append(len(feature_missing_df.filter((pl.col('Outcome') == 1) & (pl.col('Total_Feature_Count')<= i))))"
   ]
  },
  {
   "cell_type": "code",
   "execution_count": 74,
   "id": "fa78508b",
   "metadata": {},
   "outputs": [
    {
     "data": {
      "text/html": [
       "<div><style>\n",
       ".dataframe > thead > tr,\n",
       ".dataframe > tbody > tr {\n",
       "  text-align: right;\n",
       "  white-space: pre-wrap;\n",
       "}\n",
       "</style>\n",
       "<small>shape: (5, 3)</small><table border=\"1\" class=\"dataframe\"><thead><tr><th>feature Count</th><th>Outcome 0 ID count</th><th>Outcome 1 ID count</th></tr><tr><td>str</td><td>i64</td><td>i64</td></tr></thead><tbody><tr><td>&quot;Feature Count &lt;= 1&quot;</td><td>127595</td><td>5593</td></tr><tr><td>&quot;Feature Count &lt;= 2&quot;</td><td>201313</td><td>8897</td></tr><tr><td>&quot;Feature Count &lt;= 3&quot;</td><td>257007</td><td>11286</td></tr><tr><td>&quot;Feature Count &lt;= 4&quot;</td><td>301618</td><td>13140</td></tr><tr><td>&quot;Feature Count &lt;= 5&quot;</td><td>339335</td><td>14641</td></tr></tbody></table></div>"
      ],
      "text/plain": [
       "shape: (5, 3)\n",
       "┌────────────────────┬────────────────────┬────────────────────┐\n",
       "│ feature Count      ┆ Outcome 0 ID count ┆ Outcome 1 ID count │\n",
       "│ ---                ┆ ---                ┆ ---                │\n",
       "│ str                ┆ i64                ┆ i64                │\n",
       "╞════════════════════╪════════════════════╪════════════════════╡\n",
       "│ Feature Count <= 1 ┆ 127595             ┆ 5593               │\n",
       "│ Feature Count <= 2 ┆ 201313             ┆ 8897               │\n",
       "│ Feature Count <= 3 ┆ 257007             ┆ 11286              │\n",
       "│ Feature Count <= 4 ┆ 301618             ┆ 13140              │\n",
       "│ Feature Count <= 5 ┆ 339335             ┆ 14641              │\n",
       "└────────────────────┴────────────────────┴────────────────────┘"
      ]
     },
     "execution_count": 74,
     "metadata": {},
     "output_type": "execute_result"
    }
   ],
   "source": [
    "pl.DataFrame({'feature Count':rows,\n",
    "             'Outcome 0 ID count': Outcome0_missing_count_per_threshold,\n",
    "             'Outcome 1 ID count': Outcome1_missing_count_per_threshold})"
   ]
  },
  {
   "cell_type": "code",
   "execution_count": null,
   "id": "9a9e60e7",
   "metadata": {},
   "outputs": [],
   "source": []
  },
  {
   "cell_type": "code",
   "execution_count": null,
   "id": "0286a94a",
   "metadata": {},
   "outputs": [],
   "source": []
  },
  {
   "cell_type": "markdown",
   "id": "6d489d57",
   "metadata": {},
   "source": [
    "## Distribution of low count feature data points in data_test and data_train pids"
   ]
  },
  {
   "cell_type": "code",
   "execution_count": 61,
   "id": "c43e68bf",
   "metadata": {},
   "outputs": [],
   "source": [
    "# Open the file in binary mode \n",
    "with open('./Determine_models_running_folder/train_data_pids.pkl', 'rb') as file: \n",
    "    train_pids = pickle.load(file) \n",
    "with open('./Determine_models_running_folder/test_data_pids.pkl', 'rb') as file: \n",
    "    test_pids = pickle.load(file) "
   ]
  },
  {
   "cell_type": "code",
   "execution_count": 63,
   "id": "71f7ee20",
   "metadata": {},
   "outputs": [
    {
     "name": "stdout",
     "output_type": "stream",
     "text": [
      "Number of data points in the train pids 833965\n",
      "Number of data points in the test pids 208492\n"
     ]
    }
   ],
   "source": [
    "print(\"Number of data points in the train pids\",len(train_pids))\n",
    "print(\"Number of data points in the test pids\",len(test_pids))"
   ]
  },
  {
   "cell_type": "code",
   "execution_count": 75,
   "id": "6190c83f",
   "metadata": {},
   "outputs": [],
   "source": [
    "rows = ['Feature Count <= 1','Feature Count <= 2','Feature Count <= 3','Feature Count <= 4','Feature Count <= 5']"
   ]
  },
  {
   "cell_type": "code",
   "execution_count": 77,
   "id": "c7ad3999",
   "metadata": {},
   "outputs": [],
   "source": [
    "train_pids_missing_count_per_threshold = []\n",
    "test_pids_missing_count_per_threshold = []\n",
    "for i in range(1,6):\n",
    "    train_pids_missing_count_per_threshold.append(len(feature_missing_df.filter((pl.col('Outcome').is_in(train_pids)) & (pl.col('Total_Feature_Count')<= i))))\n",
    "    test_pids_missing_count_per_threshold.append(len(feature_missing_df.filter((pl.col('Outcome').is_in(test_pids)) & (pl.col('Total_Feature_Count')<= i))))"
   ]
  },
  {
   "cell_type": "code",
   "execution_count": 80,
   "id": "d86e58f8",
   "metadata": {},
   "outputs": [
    {
     "data": {
      "text/html": [
       "<div><style>\n",
       ".dataframe > thead > tr,\n",
       ".dataframe > tbody > tr {\n",
       "  text-align: right;\n",
       "  white-space: pre-wrap;\n",
       "}\n",
       "</style>\n",
       "<small>shape: (5, 3)</small><table border=\"1\" class=\"dataframe\"><thead><tr><th>feature Count</th><th>Train ID count</th><th>Test ID count</th></tr><tr><td>str</td><td>i64</td><td>i64</td></tr></thead><tbody><tr><td>&quot;Feature Count &lt;= 1&quot;</td><td>127595</td><td>5593</td></tr><tr><td>&quot;Feature Count &lt;= 2&quot;</td><td>201313</td><td>8897</td></tr><tr><td>&quot;Feature Count &lt;= 3&quot;</td><td>257007</td><td>11286</td></tr><tr><td>&quot;Feature Count &lt;= 4&quot;</td><td>301618</td><td>13140</td></tr><tr><td>&quot;Feature Count &lt;= 5&quot;</td><td>339335</td><td>14641</td></tr></tbody></table></div>"
      ],
      "text/plain": [
       "shape: (5, 3)\n",
       "┌────────────────────┬────────────────┬───────────────┐\n",
       "│ feature Count      ┆ Train ID count ┆ Test ID count │\n",
       "│ ---                ┆ ---            ┆ ---           │\n",
       "│ str                ┆ i64            ┆ i64           │\n",
       "╞════════════════════╪════════════════╪═══════════════╡\n",
       "│ Feature Count <= 1 ┆ 127595         ┆ 5593          │\n",
       "│ Feature Count <= 2 ┆ 201313         ┆ 8897          │\n",
       "│ Feature Count <= 3 ┆ 257007         ┆ 11286         │\n",
       "│ Feature Count <= 4 ┆ 301618         ┆ 13140         │\n",
       "│ Feature Count <= 5 ┆ 339335         ┆ 14641         │\n",
       "└────────────────────┴────────────────┴───────────────┘"
      ]
     },
     "execution_count": 80,
     "metadata": {},
     "output_type": "execute_result"
    }
   ],
   "source": [
    "pl.DataFrame({'feature Count':rows,\n",
    "             'Train ID count': Outcome0_missing_count_per_threshold,\n",
    "             'Test ID count': Outcome1_missing_count_per_threshold})"
   ]
  },
  {
   "cell_type": "markdown",
   "id": "2d5a6999",
   "metadata": {},
   "source": [
    "## Distribution across Gender Identity"
   ]
  },
  {
   "cell_type": "code",
   "execution_count": 81,
   "id": "b7e13f46",
   "metadata": {},
   "outputs": [
    {
     "data": {
      "text/html": [
       "<div><style>\n",
       ".dataframe > thead > tr,\n",
       ".dataframe > tbody > tr {\n",
       "  text-align: right;\n",
       "  white-space: pre-wrap;\n",
       "}\n",
       "</style>\n",
       "<small>shape: (5, 15)</small><table border=\"1\" class=\"dataframe\"><thead><tr><th>PATIENT_NUM</th><th>lab_feature_count</th><th>med_feature_count</th><th>dx_feature_count</th><th>Total_Feature_Count</th><th>Index_Start_date</th><th>FirstOutcomeDate</th><th>Age_at_encounter_date</th><th>Outcome</th><th>DEATH_DATE</th><th>Zip_CD</th><th>Sex_CD</th><th>Race_CD</th><th>Hispanic_CD</th><th>Gender_CD</th></tr><tr><td>i64</td><td>i32</td><td>i32</td><td>i32</td><td>i32</td><td>datetime[μs]</td><td>datetime[μs]</td><td>i64</td><td>i64</td><td>datetime[μs]</td><td>str</td><td>str</td><td>str</td><td>str</td><td>str</td></tr></thead><tbody><tr><td>8388608</td><td>37</td><td>0</td><td>0</td><td>37</td><td>2018-04-25 00:00:00</td><td>null</td><td>52</td><td>0</td><td>null</td><td>&quot;94619&quot;</td><td>&quot;M&quot;</td><td>&quot;02&quot;</td><td>&quot;N&quot;</td><td>&quot;M&quot;</td></tr><tr><td>8388609</td><td>32</td><td>0</td><td>1</td><td>33</td><td>2019-03-18 00:00:00</td><td>null</td><td>23</td><td>0</td><td>null</td><td>&quot;93306&quot;</td><td>&quot;F&quot;</td><td>&quot;UN&quot;</td><td>&quot;Y&quot;</td><td>&quot;W&quot;</td></tr><tr><td>8388610</td><td>0</td><td>0</td><td>1</td><td>1</td><td>2019-03-18 00:00:00</td><td>2019-09-18 00:00:00</td><td>46</td><td>1</td><td>null</td><td>&quot;94804&quot;</td><td>&quot;F&quot;</td><td>&quot;05&quot;</td><td>&quot;Y&quot;</td><td>&quot;W&quot;</td></tr><tr><td>4194311</td><td>48</td><td>2</td><td>5</td><td>55</td><td>2018-07-05 00:00:00</td><td>null</td><td>31</td><td>0</td><td>null</td><td>&quot;90805&quot;</td><td>&quot;F&quot;</td><td>&quot;UN&quot;</td><td>&quot;N&quot;</td><td>&quot;UN&quot;</td></tr><tr><td>8388618</td><td>5</td><td>0</td><td>5</td><td>10</td><td>2019-04-22 00:00:00</td><td>null</td><td>36</td><td>0</td><td>null</td><td>&quot;55407&quot;</td><td>&quot;F&quot;</td><td>&quot;05&quot;</td><td>&quot;Y&quot;</td><td>&quot;W&quot;</td></tr></tbody></table></div>"
      ],
      "text/plain": [
       "shape: (5, 15)\n",
       "┌────────────┬────────────┬────────────┬────────────┬───┬────────┬─────────┬───────────┬───────────┐\n",
       "│ PATIENT_NU ┆ lab_featur ┆ med_featur ┆ dx_feature ┆ … ┆ Sex_CD ┆ Race_CD ┆ Hispanic_ ┆ Gender_CD │\n",
       "│ M          ┆ e_count    ┆ e_count    ┆ _count     ┆   ┆ ---    ┆ ---     ┆ CD        ┆ ---       │\n",
       "│ ---        ┆ ---        ┆ ---        ┆ ---        ┆   ┆ str    ┆ str     ┆ ---       ┆ str       │\n",
       "│ i64        ┆ i32        ┆ i32        ┆ i32        ┆   ┆        ┆         ┆ str       ┆           │\n",
       "╞════════════╪════════════╪════════════╪════════════╪═══╪════════╪═════════╪═══════════╪═══════════╡\n",
       "│ 8388608    ┆ 37         ┆ 0          ┆ 0          ┆ … ┆ M      ┆ 02      ┆ N         ┆ M         │\n",
       "│ 8388609    ┆ 32         ┆ 0          ┆ 1          ┆ … ┆ F      ┆ UN      ┆ Y         ┆ W         │\n",
       "│ 8388610    ┆ 0          ┆ 0          ┆ 1          ┆ … ┆ F      ┆ 05      ┆ Y         ┆ W         │\n",
       "│ 4194311    ┆ 48         ┆ 2          ┆ 5          ┆ … ┆ F      ┆ UN      ┆ N         ┆ UN        │\n",
       "│ 8388618    ┆ 5          ┆ 0          ┆ 5          ┆ … ┆ F      ┆ 05      ┆ Y         ┆ W         │\n",
       "└────────────┴────────────┴────────────┴────────────┴───┴────────┴─────────┴───────────┴───────────┘"
      ]
     },
     "execution_count": 81,
     "metadata": {},
     "output_type": "execute_result"
    }
   ],
   "source": [
    "feature_missing_df.head()"
   ]
  },
  {
   "cell_type": "code",
   "execution_count": 87,
   "id": "a640a41d",
   "metadata": {},
   "outputs": [
    {
     "data": {
      "text/plain": [
       "(array(['GQ', 'M', 'OT', 'TG', 'UN', 'W'], dtype='<U2'),\n",
       " array([  2376, 301073,   1185,   4198, 229584, 504156]))"
      ]
     },
     "execution_count": 87,
     "metadata": {},
     "output_type": "execute_result"
    }
   ],
   "source": [
    "unique_gender_cd =np.unique(feature_missing_df['Gender_CD'].to_list(), return_counts = True)\n",
    "unique_gender_cd"
   ]
  },
  {
   "cell_type": "code",
   "execution_count": 88,
   "id": "79c3bdca",
   "metadata": {},
   "outputs": [
    {
     "data": {
      "text/html": [
       "<div><style>\n",
       ".dataframe > thead > tr,\n",
       ".dataframe > tbody > tr {\n",
       "  text-align: right;\n",
       "  white-space: pre-wrap;\n",
       "}\n",
       "</style>\n",
       "<small>shape: (6, 2)</small><table border=\"1\" class=\"dataframe\"><thead><tr><th>Gender</th><th>Count</th></tr><tr><td>str</td><td>i64</td></tr></thead><tbody><tr><td>&quot;GQ&quot;</td><td>2376</td></tr><tr><td>&quot;M&quot;</td><td>301073</td></tr><tr><td>&quot;OT&quot;</td><td>1185</td></tr><tr><td>&quot;TG&quot;</td><td>4198</td></tr><tr><td>&quot;UN&quot;</td><td>229584</td></tr><tr><td>&quot;W&quot;</td><td>504156</td></tr></tbody></table></div>"
      ],
      "text/plain": [
       "shape: (6, 2)\n",
       "┌────────┬────────┐\n",
       "│ Gender ┆ Count  │\n",
       "│ ---    ┆ ---    │\n",
       "│ str    ┆ i64    │\n",
       "╞════════╪════════╡\n",
       "│ GQ     ┆ 2376   │\n",
       "│ M      ┆ 301073 │\n",
       "│ OT     ┆ 1185   │\n",
       "│ TG     ┆ 4198   │\n",
       "│ UN     ┆ 229584 │\n",
       "│ W      ┆ 504156 │\n",
       "└────────┴────────┘"
      ]
     },
     "execution_count": 88,
     "metadata": {},
     "output_type": "execute_result"
    }
   ],
   "source": [
    "pl.DataFrame({'Gender': unique_gender_cd[0],\n",
    "             'Count':unique_gender_cd[1]})"
   ]
  },
  {
   "cell_type": "code",
   "execution_count": 85,
   "id": "019ffa99",
   "metadata": {},
   "outputs": [],
   "source": [
    "GQ_missing_count_per_threshold = []\n",
    "M_missing_count_per_threshold = []\n",
    "OT_missing_count_per_threshold = []\n",
    "TG_missing_count_per_threshold = []\n",
    "UN_missing_count_per_threshold = []\n",
    "W_missing_count_per_threshold = []\n",
    "\n",
    "for i in range(1,6):\n",
    "    GQ_missing_count_per_threshold.append(len(feature_missing_df.filter((pl.col('Gender_CD')=='GQ') & (pl.col('Total_Feature_Count')<= i))))\n",
    "    M_missing_count_per_threshold.append(len(feature_missing_df.filter((pl.col('Gender_CD')=='M') & (pl.col('Total_Feature_Count')<= i))))\n",
    "    OT_missing_count_per_threshold.append(len(feature_missing_df.filter((pl.col('Gender_CD')=='OT') & (pl.col('Total_Feature_Count')<= i))))\n",
    "    TG_missing_count_per_threshold.append(len(feature_missing_df.filter((pl.col('Gender_CD')=='TG') & (pl.col('Total_Feature_Count')<= i))))\n",
    "    UN_missing_count_per_threshold.append(len(feature_missing_df.filter((pl.col('Gender_CD')=='UN') & (pl.col('Total_Feature_Count')<= i))))\n",
    "    W_missing_count_per_threshold.append(len(feature_missing_df.filter((pl.col('Gender_CD')=='W') & (pl.col('Total_Feature_Count')<= i))))"
   ]
  },
  {
   "cell_type": "code",
   "execution_count": 86,
   "id": "e4b8449e",
   "metadata": {},
   "outputs": [
    {
     "data": {
      "text/html": [
       "<div><style>\n",
       ".dataframe > thead > tr,\n",
       ".dataframe > tbody > tr {\n",
       "  text-align: right;\n",
       "  white-space: pre-wrap;\n",
       "}\n",
       "</style>\n",
       "<small>shape: (5, 7)</small><table border=\"1\" class=\"dataframe\"><thead><tr><th>feature Count</th><th>GQ Gender count</th><th>M Gender count</th><th>OT Gender count</th><th>TG Gender count</th><th>UN Gender count</th><th>W Gender count</th></tr><tr><td>str</td><td>i64</td><td>i64</td><td>i64</td><td>i64</td><td>i64</td><td>i64</td></tr></thead><tbody><tr><td>&quot;Feature Count &lt;= 1&quot;</td><td>218</td><td>35720</td><td>98</td><td>292</td><td>41662</td><td>55198</td></tr><tr><td>&quot;Feature Count &lt;= 2&quot;</td><td>357</td><td>56828</td><td>152</td><td>514</td><td>63856</td><td>88503</td></tr><tr><td>&quot;Feature Count &lt;= 3&quot;</td><td>491</td><td>73240</td><td>212</td><td>697</td><td>79976</td><td>113677</td></tr><tr><td>&quot;Feature Count &lt;= 4&quot;</td><td>570</td><td>86223</td><td>261</td><td>842</td><td>92437</td><td>134425</td></tr><tr><td>&quot;Feature Count &lt;= 5&quot;</td><td>666</td><td>97198</td><td>306</td><td>949</td><td>102825</td><td>152032</td></tr></tbody></table></div>"
      ],
      "text/plain": [
       "shape: (5, 7)\n",
       "┌────────────────────┬───────────┬──────────┬───────────┬───────────┬───────────────────┬──────────┐\n",
       "│ feature Count      ┆ GQ Gender ┆ M Gender ┆ OT Gender ┆ TG Gender ┆ UN Gender count   ┆ W Gender │\n",
       "│ ---                ┆ count     ┆ count    ┆ count     ┆ count     ┆ ---               ┆ count    │\n",
       "│ str                ┆ ---       ┆ ---      ┆ ---       ┆ ---       ┆ i64               ┆ ---      │\n",
       "│                    ┆ i64       ┆ i64      ┆ i64       ┆ i64       ┆                   ┆ i64      │\n",
       "╞════════════════════╪═══════════╪══════════╪═══════════╪═══════════╪═══════════════════╪══════════╡\n",
       "│ Feature Count <= 1 ┆ 218       ┆ 35720    ┆ 98        ┆ 292       ┆ 41662             ┆ 55198    │\n",
       "│ Feature Count <= 2 ┆ 357       ┆ 56828    ┆ 152       ┆ 514       ┆ 63856             ┆ 88503    │\n",
       "│ Feature Count <= 3 ┆ 491       ┆ 73240    ┆ 212       ┆ 697       ┆ 79976             ┆ 113677   │\n",
       "│ Feature Count <= 4 ┆ 570       ┆ 86223    ┆ 261       ┆ 842       ┆ 92437             ┆ 134425   │\n",
       "│ Feature Count <= 5 ┆ 666       ┆ 97198    ┆ 306       ┆ 949       ┆ 102825            ┆ 152032   │\n",
       "└────────────────────┴───────────┴──────────┴───────────┴───────────┴───────────────────┴──────────┘"
      ]
     },
     "execution_count": 86,
     "metadata": {},
     "output_type": "execute_result"
    }
   ],
   "source": [
    "pl.DataFrame({'feature Count':rows,\n",
    "             'GQ Gender count': GQ_missing_count_per_threshold,\n",
    "             'M Gender count': M_missing_count_per_threshold,\n",
    "             'OT Gender count': OT_missing_count_per_threshold,\n",
    "             'TG Gender count': TG_missing_count_per_threshold,\n",
    "             'UN Gender count': UN_missing_count_per_threshold,\n",
    "             'W Gender count': W_missing_count_per_threshold,})"
   ]
  },
  {
   "cell_type": "code",
   "execution_count": null,
   "id": "b7cf8478",
   "metadata": {},
   "outputs": [],
   "source": []
  }
 ],
 "metadata": {
  "kernelspec": {
   "display_name": "conda_python3",
   "language": "python",
   "name": "conda_python3"
  },
  "language_info": {
   "codemirror_mode": {
    "name": "ipython",
    "version": 3
   },
   "file_extension": ".py",
   "mimetype": "text/x-python",
   "name": "python",
   "nbconvert_exporter": "python",
   "pygments_lexer": "ipython3",
   "version": "3.10.16"
  }
 },
 "nbformat": 4,
 "nbformat_minor": 5
}
