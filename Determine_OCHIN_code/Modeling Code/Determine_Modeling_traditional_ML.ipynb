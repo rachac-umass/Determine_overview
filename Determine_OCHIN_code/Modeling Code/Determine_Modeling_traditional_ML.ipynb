{
 "cells": [
  {
   "cell_type": "markdown",
   "id": "327f274c",
   "metadata": {},
   "source": [
    "# Installing required libraries"
   ]
  },
  {
   "cell_type": "code",
   "execution_count": 3,
   "id": "cc7d0591",
   "metadata": {},
   "outputs": [],
   "source": [
    "!pip install xgboost catboost polars optuna shap -q"
   ]
  },
  {
   "cell_type": "code",
   "execution_count": 4,
   "id": "4b7583e5",
   "metadata": {},
   "outputs": [],
   "source": [
    "!pip install scikit-learn-intelex -q"
   ]
  },
  {
   "cell_type": "code",
   "execution_count": 5,
   "id": "70a9e637",
   "metadata": {},
   "outputs": [],
   "source": [
    "!pip install mlflow -q"
   ]
  },
  {
   "cell_type": "markdown",
   "id": "d344a16b",
   "metadata": {},
   "source": [
    "# Importing required libraries"
   ]
  },
  {
   "cell_type": "code",
   "execution_count": 6,
   "id": "40228411",
   "metadata": {},
   "outputs": [
    {
     "name": "stderr",
     "output_type": "stream",
     "text": [
      "Intel(R) Extension for Scikit-learn* enabled (https://github.com/intel/scikit-learn-intelex)\n"
     ]
    }
   ],
   "source": [
    "import pandas as pd\n",
    "import polars as pl\n",
    "import optuna\n",
    "import pickle\n",
    "\n",
    "import joblib\n",
    "\n",
    "import numpy as np\n",
    "## Enabling intel optimizations to \n",
    "import matplotlib.pyplot as plt\n",
    "import os\n",
    "import seaborn as sns\n",
    "from sklearnex import patch_sklearn\n",
    "patch_sklearn()"
   ]
  },
  {
   "cell_type": "code",
   "execution_count": 7,
   "id": "f5a9894b",
   "metadata": {},
   "outputs": [],
   "source": [
    "import mlflow"
   ]
  },
  {
   "cell_type": "code",
   "execution_count": 8,
   "id": "120994b0",
   "metadata": {},
   "outputs": [],
   "source": [
    "from sklearn.model_selection import train_test_split\n",
    "from sklearn.metrics import classification_report,f1_score, roc_auc_score, accuracy_score"
   ]
  },
  {
   "cell_type": "code",
   "execution_count": 9,
   "id": "c6a9e2db",
   "metadata": {},
   "outputs": [
    {
     "name": "stderr",
     "output_type": "stream",
     "text": [
      "/home/ec2-user/anaconda3/envs/tensorflow2_p310/lib/python3.10/site-packages/xgboost/core.py:377: FutureWarning: Your system has an old version of glibc (< 2.28). We will stop supporting Linux distros with glibc older than 2.28 after **May 31, 2025**. Please upgrade to a recent Linux distro (with glibc >= 2.28) to use future versions of XGBoost.\n",
      "Note: You have installed the 'manylinux2014' variant of XGBoost. Certain features such as GPU algorithms or federated learning are not available. To use these features, please upgrade to a recent Linux distro with glibc 2.28+, and install the 'manylinux_2_28' variant.\n",
      "  warnings.warn(\n"
     ]
    }
   ],
   "source": [
    "from catboost import CatBoostClassifier\n",
    "from sklearn.linear_model import LogisticRegression\n",
    "from sklearn.preprocessing import StandardScaler"
   ]
  },
  {
   "cell_type": "markdown",
   "id": "173d0eb0",
   "metadata": {},
   "source": [
    "# Helper functions"
   ]
  },
  {
   "cell_type": "code",
   "execution_count": 10,
   "id": "2c4457c5",
   "metadata": {},
   "outputs": [],
   "source": [
    "# Helper functions\n",
    "def diag_med_lab_pid_exist_check(modeling_pids, diag_pid, medications_pid, lab_pid,age_data = None):\n",
    "    # Convert sets of pids for faster lookup\n",
    "    diag_pid_set = set(diag_pid)\n",
    "    medications_pid_set = set(medications_pid)\n",
    "    lab_pid_set = set(lab_pid)\n",
    "\n",
    "    # Create the result list using a single loop\n",
    "    if age_data:\n",
    "        result = [\n",
    "        f\"{age}_{int(pid in diag_pid_set)}{int(pid in medications_pid_set)}{int(pid in lab_pid_set)}\"\n",
    "        for pid,age in zip(modeling_pids,age_data)\n",
    "    ]\n",
    "    else:\n",
    "        result = [\n",
    "            f\"{int(pid in diag_pid_set)}{int(pid in medications_pid_set)}{int(pid in lab_pid_set)}\"\n",
    "            for pid in modeling_pids\n",
    "        ]\n",
    "    \n",
    "    return result"
   ]
  },
  {
   "cell_type": "code",
   "execution_count": 11,
   "id": "91111530",
   "metadata": {},
   "outputs": [],
   "source": [
    "from sklearn.metrics import accuracy_score, roc_auc_score, classification_report, confusion_matrix, average_precision_score\n",
    "\n",
    "def get_metrics(model, X_test, y_test):\n",
    "    y_pred = model.predict(X_test)\n",
    "    y_pred_proba = model.predict_proba(X_test)\n",
    "\n",
    "    accuracy = accuracy_score(y_test, y_pred)\n",
    "    print(\"Accuracy:\", accuracy)\n",
    "\n",
    "    roc_auc = roc_auc_score(y_test, y_pred_proba[:, 1])\n",
    "    print(\"AUC:\", roc_auc)\n",
    "\n",
    "    # Calculate the Precision-Recall AUC\n",
    "    auc_pr = average_precision_score(y_test, y_pred_proba[:, 1])\n",
    "    print(\"Precision-Recall AUC:\", auc_pr)\n",
    "\n",
    "    report = classification_report(y_test, y_pred)\n",
    "    print(\"Classification Report:\\n\", report)\n",
    "\n",
    "    # Compute confusion matrix\n",
    "    cm = confusion_matrix(y_test, y_pred)\n",
    "    TN, FP, FN, TP = cm.ravel()\n",
    "\n",
    "    # Calculate Sensitivity and Specificity\n",
    "    sensitivity = TP / (TP + FN) if (TP + FN) > 0 else 0  # handle division by zero\n",
    "    specificity = TN / (TN + FP) if (TN + FP) > 0 else 0  # handle division by zero\n",
    "\n",
    "    print(\"Sensitivity (Recall):\", sensitivity)\n",
    "    print(\"Specificity:\", specificity)\n",
    "    \n",
    "    return cm, accuracy, roc_auc, auc_pr, sensitivity, specificity, report"
   ]
  },
  {
   "cell_type": "markdown",
   "id": "df0f0686",
   "metadata": {},
   "source": [
    "# Config class"
   ]
  },
  {
   "cell_type": "code",
   "execution_count": 12,
   "id": "d7666974",
   "metadata": {},
   "outputs": [],
   "source": [
    "mlflow.set_tracking_uri(\"../Determine_ML_FLOW_Experiment\")"
   ]
  },
  {
   "cell_type": "code",
   "execution_count": 254,
   "id": "e05de974",
   "metadata": {},
   "outputs": [],
   "source": [
    "class ml_config:\n",
    "    base_folder ='../Determine_final_modeling_datasets/'\n",
    "    columns_to_ignore_cat = ['PATIENT_NUM','FirstOutcomeDate','Outcome']\n",
    "    target_column = 'Outcome'\n",
    "    file = 'Determine_joined_med_usage_lab_median_domain_expert_diag_phemap_without_icd10z_bmi_bp_cvs_ordinal_nominal_encoded.parquet'\n",
    "    \n",
    "    patient_enc_info_path = '../Determine_cohort_after_visit_index_details.parquet'\n",
    "    no_enc_ppid_experiment =  True\n",
    "    low_feature_count_exclude = False\n",
    "    \n",
    "    pat_outcome0_with_dia_meds_remove = False\n",
    "    \n",
    "    sdoh_screening_experiment = True\n",
    "    \n",
    "    \n",
    "    mlflow_experiment_name = 'Test101_mlflow'\n",
    "    \n",
    "    model_name = 'catboost'\n",
    "    \n",
    "    "
   ]
  },
  {
   "cell_type": "markdown",
   "id": "48b02885",
   "metadata": {},
   "source": [
    "# Loading modeling data file"
   ]
  },
  {
   "cell_type": "code",
   "execution_count": 255,
   "id": "8e1394e5",
   "metadata": {},
   "outputs": [],
   "source": [
    "modeling_df = pl.read_parquet(ml_config.base_folder + ml_config.file)"
   ]
  },
  {
   "cell_type": "code",
   "execution_count": 256,
   "id": "fb56e695",
   "metadata": {},
   "outputs": [
    {
     "name": "stdout",
     "output_type": "stream",
     "text": [
      "Number of data points in the dataset:  761594\n"
     ]
    }
   ],
   "source": [
    "print(\"Number of data points in the dataset: \",len(modeling_df))"
   ]
  },
  {
   "cell_type": "code",
   "execution_count": 257,
   "id": "ce9d1c82",
   "metadata": {},
   "outputs": [
    {
     "data": {
      "text/html": [
       "<div><style>\n",
       ".dataframe > thead > tr,\n",
       ".dataframe > tbody > tr {\n",
       "  text-align: right;\n",
       "  white-space: pre-wrap;\n",
       "}\n",
       "</style>\n",
       "<small>shape: (5, 2_801)</small><table border=\"1\" class=\"dataframe\"><thead><tr><th>PATIENT_NUM</th><th>Age_group</th><th>FirstOutcomeDate</th><th>Outcome</th><th>phenazopyridine</th><th>nitrofurantoin</th><th>lisinopril_hydrochlorothiazide</th><th>amlodipine</th><th>cephalexin</th><th>albuterol</th><th>nystatin</th><th>metronidazole</th><th>mometasone_formoterol</th><th>varicella-zoster virus vaccine live (Oka-Merck) strain</th><th>potassium chloride</th><th>chlorthalidone</th><th>ketorolac</th><th>azithromycin</th><th>triamcinolone</th><th>gabapentin</th><th>acetaminophen_hydrocodone</th><th>capsaicin</th><th>naproxen</th><th>tramadol</th><th>ibuprofen</th><th>codeine_promethazine</th><th>omeprazole</th><th>clotrimazole</th><th>lorazepam</th><th>fluticasone</th><th>calcium carbonate</th><th>loratadine</th><th>paroxetine</th><th>cholecalciferol</th><th>aluminum chloride</th><th>penicillin G</th><th>sulfamethoxazole_trimethoprim</th><th>&hellip;</th><th>LOINC:2148-5</th><th>LOINC:38252-3</th><th>LOINC:72888-1</th><th>LOINC:83102-4</th><th>LOINC:38506-2</th><th>LOINC:26499-4</th><th>LOINC:2609-6</th><th>LOINC:2579-1</th><th>LOINC:26019-0</th><th>LOINC:33951-5</th><th>LOINC:26498-6</th><th>LOINC:2669-0</th><th>LOINC:30433-7</th><th>LOINC:42246-9</th><th>mode_height</th><th>median_weight</th><th>BMI</th><th>median_diastolic_value</th><th>median_systolic_value</th><th>ACS_MedHHIncome</th><th>ACS_GINI</th><th>ACS_Unemployment</th><th>ACS_pctPoverty100</th><th>ACS_pctCollGrad</th><th>Sex_CD_F</th><th>Sex_CD_M</th><th>Race_CD_01</th><th>Race_CD_02</th><th>Race_CD_03</th><th>Race_CD_04</th><th>Race_CD_05</th><th>Hispanic_CD_N</th><th>Hispanic_CD_Y</th><th>Gender_CD_GQ</th><th>Gender_CD_M</th><th>Gender_CD_TG</th><th>Gender_CD_W</th></tr><tr><td>i64</td><td>i64</td><td>datetime[μs]</td><td>i64</td><td>i32</td><td>i32</td><td>i32</td><td>i32</td><td>i32</td><td>i32</td><td>i32</td><td>i32</td><td>i32</td><td>i32</td><td>i32</td><td>i32</td><td>i32</td><td>i32</td><td>i32</td><td>i32</td><td>i32</td><td>i32</td><td>i32</td><td>i32</td><td>i32</td><td>i32</td><td>i32</td><td>i32</td><td>i32</td><td>i32</td><td>i32</td><td>i32</td><td>i32</td><td>i32</td><td>i32</td><td>i32</td><td>i32</td><td>&hellip;</td><td>f32</td><td>f32</td><td>f32</td><td>f32</td><td>f32</td><td>f32</td><td>f32</td><td>f32</td><td>f32</td><td>f32</td><td>f32</td><td>f32</td><td>f32</td><td>f32</td><td>f32</td><td>f32</td><td>f64</td><td>f32</td><td>f32</td><td>f32</td><td>f32</td><td>f32</td><td>f32</td><td>f32</td><td>u8</td><td>u8</td><td>u8</td><td>u8</td><td>u8</td><td>u8</td><td>u8</td><td>u8</td><td>u8</td><td>u8</td><td>u8</td><td>u8</td><td>u8</td></tr></thead><tbody><tr><td>8905893</td><td>3</td><td>2016-04-05 00:00:00</td><td>1</td><td>0</td><td>0</td><td>0</td><td>0</td><td>0</td><td>0</td><td>0</td><td>0</td><td>0</td><td>0</td><td>0</td><td>0</td><td>0</td><td>0</td><td>0</td><td>0</td><td>0</td><td>0</td><td>0</td><td>0</td><td>0</td><td>0</td><td>0</td><td>0</td><td>0</td><td>0</td><td>0</td><td>0</td><td>0</td><td>0</td><td>0</td><td>0</td><td>0</td><td>&hellip;</td><td>-100.0</td><td>-100.0</td><td>-100.0</td><td>-100.0</td><td>-100.0</td><td>-100.0</td><td>-100.0</td><td>-100.0</td><td>-100.0</td><td>-100.0</td><td>-100.0</td><td>-100.0</td><td>-100.0</td><td>-100.0</td><td>-100.0</td><td>-100.0</td><td>-100.0</td><td>-100.0</td><td>-100.0</td><td>-100.0</td><td>-100.0</td><td>-100.0</td><td>-100.0</td><td>-100.0</td><td>0</td><td>1</td><td>0</td><td>0</td><td>0</td><td>0</td><td>0</td><td>0</td><td>1</td><td>0</td><td>1</td><td>0</td><td>0</td></tr><tr><td>10799365</td><td>2</td><td>2016-04-08 00:00:00</td><td>1</td><td>0</td><td>0</td><td>0</td><td>0</td><td>0</td><td>0</td><td>0</td><td>0</td><td>0</td><td>0</td><td>0</td><td>0</td><td>0</td><td>0</td><td>0</td><td>0</td><td>0</td><td>0</td><td>0</td><td>0</td><td>0</td><td>0</td><td>0</td><td>0</td><td>0</td><td>0</td><td>0</td><td>0</td><td>0</td><td>0</td><td>0</td><td>0</td><td>0</td><td>&hellip;</td><td>-100.0</td><td>-100.0</td><td>-100.0</td><td>-100.0</td><td>-100.0</td><td>-100.0</td><td>-100.0</td><td>-100.0</td><td>-100.0</td><td>-100.0</td><td>-100.0</td><td>-100.0</td><td>-100.0</td><td>-100.0</td><td>-100.0</td><td>-100.0</td><td>-100.0</td><td>-100.0</td><td>-100.0</td><td>-100.0</td><td>-100.0</td><td>-100.0</td><td>-100.0</td><td>-100.0</td><td>0</td><td>1</td><td>0</td><td>0</td><td>0</td><td>0</td><td>1</td><td>0</td><td>1</td><td>0</td><td>0</td><td>0</td><td>0</td></tr><tr><td>6601492</td><td>4</td><td>2016-04-19 00:00:00</td><td>1</td><td>0</td><td>0</td><td>0</td><td>0</td><td>0</td><td>0</td><td>0</td><td>0</td><td>0</td><td>0</td><td>0</td><td>0</td><td>0</td><td>0</td><td>0</td><td>0</td><td>0</td><td>0</td><td>0</td><td>0</td><td>0</td><td>0</td><td>0</td><td>0</td><td>0</td><td>0</td><td>0</td><td>0</td><td>0</td><td>0</td><td>0</td><td>0</td><td>0</td><td>&hellip;</td><td>-100.0</td><td>-100.0</td><td>-100.0</td><td>-100.0</td><td>-100.0</td><td>-100.0</td><td>-100.0</td><td>-100.0</td><td>-100.0</td><td>-100.0</td><td>-100.0</td><td>-100.0</td><td>-100.0</td><td>-100.0</td><td>-100.0</td><td>-100.0</td><td>-100.0</td><td>-100.0</td><td>-100.0</td><td>-100.0</td><td>-100.0</td><td>-100.0</td><td>-100.0</td><td>-100.0</td><td>1</td><td>0</td><td>0</td><td>0</td><td>0</td><td>0</td><td>1</td><td>1</td><td>0</td><td>0</td><td>0</td><td>0</td><td>0</td></tr><tr><td>5674597</td><td>1</td><td>2016-04-20 00:00:00</td><td>1</td><td>0</td><td>0</td><td>0</td><td>0</td><td>0</td><td>0</td><td>0</td><td>0</td><td>0</td><td>0</td><td>0</td><td>0</td><td>0</td><td>0</td><td>0</td><td>0</td><td>0</td><td>0</td><td>0</td><td>0</td><td>0</td><td>0</td><td>0</td><td>0</td><td>0</td><td>0</td><td>0</td><td>0</td><td>0</td><td>0</td><td>0</td><td>0</td><td>0</td><td>&hellip;</td><td>-100.0</td><td>-100.0</td><td>-100.0</td><td>-100.0</td><td>-100.0</td><td>-100.0</td><td>-100.0</td><td>-100.0</td><td>-100.0</td><td>-100.0</td><td>-100.0</td><td>-100.0</td><td>-100.0</td><td>-100.0</td><td>-100.0</td><td>-100.0</td><td>-100.0</td><td>-100.0</td><td>-100.0</td><td>-100.0</td><td>-100.0</td><td>-100.0</td><td>-100.0</td><td>-100.0</td><td>1</td><td>0</td><td>0</td><td>0</td><td>1</td><td>0</td><td>0</td><td>1</td><td>0</td><td>0</td><td>0</td><td>0</td><td>0</td></tr><tr><td>11624705</td><td>1</td><td>2016-04-22 00:00:00</td><td>1</td><td>0</td><td>0</td><td>0</td><td>0</td><td>0</td><td>0</td><td>0</td><td>0</td><td>0</td><td>0</td><td>0</td><td>0</td><td>0</td><td>0</td><td>0</td><td>0</td><td>0</td><td>0</td><td>0</td><td>0</td><td>0</td><td>0</td><td>0</td><td>0</td><td>0</td><td>0</td><td>0</td><td>0</td><td>0</td><td>0</td><td>0</td><td>0</td><td>0</td><td>&hellip;</td><td>-100.0</td><td>-100.0</td><td>-100.0</td><td>-100.0</td><td>-100.0</td><td>-100.0</td><td>-100.0</td><td>-100.0</td><td>-100.0</td><td>-100.0</td><td>-100.0</td><td>-100.0</td><td>-100.0</td><td>-100.0</td><td>-100.0</td><td>-100.0</td><td>-100.0</td><td>-100.0</td><td>-100.0</td><td>-100.0</td><td>-100.0</td><td>-100.0</td><td>-100.0</td><td>-100.0</td><td>1</td><td>0</td><td>0</td><td>0</td><td>0</td><td>0</td><td>1</td><td>0</td><td>1</td><td>0</td><td>0</td><td>0</td><td>1</td></tr></tbody></table></div>"
      ],
      "text/plain": [
       "shape: (5, 2_801)\n",
       "┌────────────┬───────────┬───────────┬─────────┬───┬───────────┬───────────┬───────────┬───────────┐\n",
       "│ PATIENT_NU ┆ Age_group ┆ FirstOutc ┆ Outcome ┆ … ┆ Gender_CD ┆ Gender_CD ┆ Gender_CD ┆ Gender_CD │\n",
       "│ M          ┆ ---       ┆ omeDate   ┆ ---     ┆   ┆ _GQ       ┆ _M        ┆ _TG       ┆ _W        │\n",
       "│ ---        ┆ i64       ┆ ---       ┆ i64     ┆   ┆ ---       ┆ ---       ┆ ---       ┆ ---       │\n",
       "│ i64        ┆           ┆ datetime[ ┆         ┆   ┆ u8        ┆ u8        ┆ u8        ┆ u8        │\n",
       "│            ┆           ┆ μs]       ┆         ┆   ┆           ┆           ┆           ┆           │\n",
       "╞════════════╪═══════════╪═══════════╪═════════╪═══╪═══════════╪═══════════╪═══════════╪═══════════╡\n",
       "│ 8905893    ┆ 3         ┆ 2016-04-0 ┆ 1       ┆ … ┆ 0         ┆ 1         ┆ 0         ┆ 0         │\n",
       "│            ┆           ┆ 5         ┆         ┆   ┆           ┆           ┆           ┆           │\n",
       "│            ┆           ┆ 00:00:00  ┆         ┆   ┆           ┆           ┆           ┆           │\n",
       "│ 10799365   ┆ 2         ┆ 2016-04-0 ┆ 1       ┆ … ┆ 0         ┆ 0         ┆ 0         ┆ 0         │\n",
       "│            ┆           ┆ 8         ┆         ┆   ┆           ┆           ┆           ┆           │\n",
       "│            ┆           ┆ 00:00:00  ┆         ┆   ┆           ┆           ┆           ┆           │\n",
       "│ 6601492    ┆ 4         ┆ 2016-04-1 ┆ 1       ┆ … ┆ 0         ┆ 0         ┆ 0         ┆ 0         │\n",
       "│            ┆           ┆ 9         ┆         ┆   ┆           ┆           ┆           ┆           │\n",
       "│            ┆           ┆ 00:00:00  ┆         ┆   ┆           ┆           ┆           ┆           │\n",
       "│ 5674597    ┆ 1         ┆ 2016-04-2 ┆ 1       ┆ … ┆ 0         ┆ 0         ┆ 0         ┆ 0         │\n",
       "│            ┆           ┆ 0         ┆         ┆   ┆           ┆           ┆           ┆           │\n",
       "│            ┆           ┆ 00:00:00  ┆         ┆   ┆           ┆           ┆           ┆           │\n",
       "│ 11624705   ┆ 1         ┆ 2016-04-2 ┆ 1       ┆ … ┆ 0         ┆ 0         ┆ 0         ┆ 1         │\n",
       "│            ┆           ┆ 2         ┆         ┆   ┆           ┆           ┆           ┆           │\n",
       "│            ┆           ┆ 00:00:00  ┆         ┆   ┆           ┆           ┆           ┆           │\n",
       "└────────────┴───────────┴───────────┴─────────┴───┴───────────┴───────────┴───────────┴───────────┘"
      ]
     },
     "execution_count": 257,
     "metadata": {},
     "output_type": "execute_result"
    }
   ],
   "source": [
    "modeling_df.filter(pl.col('Outcome')==1).sort('FirstOutcomeDate', descending=False).head()"
   ]
  },
  {
   "cell_type": "code",
   "execution_count": 258,
   "id": "d87fd71b",
   "metadata": {},
   "outputs": [
    {
     "data": {
      "text/html": [
       "<div><style>\n",
       ".dataframe > thead > tr,\n",
       ".dataframe > tbody > tr {\n",
       "  text-align: right;\n",
       "  white-space: pre-wrap;\n",
       "}\n",
       "</style>\n",
       "<small>shape: (1, 2_801)</small><table border=\"1\" class=\"dataframe\"><thead><tr><th>PATIENT_NUM</th><th>Age_group</th><th>FirstOutcomeDate</th><th>Outcome</th><th>phenazopyridine</th><th>nitrofurantoin</th><th>lisinopril_hydrochlorothiazide</th><th>amlodipine</th><th>cephalexin</th><th>albuterol</th><th>nystatin</th><th>metronidazole</th><th>mometasone_formoterol</th><th>varicella-zoster virus vaccine live (Oka-Merck) strain</th><th>potassium chloride</th><th>chlorthalidone</th><th>ketorolac</th><th>azithromycin</th><th>triamcinolone</th><th>gabapentin</th><th>acetaminophen_hydrocodone</th><th>capsaicin</th><th>naproxen</th><th>tramadol</th><th>ibuprofen</th><th>codeine_promethazine</th><th>omeprazole</th><th>clotrimazole</th><th>lorazepam</th><th>fluticasone</th><th>calcium carbonate</th><th>loratadine</th><th>paroxetine</th><th>cholecalciferol</th><th>aluminum chloride</th><th>penicillin G</th><th>sulfamethoxazole_trimethoprim</th><th>&hellip;</th><th>LOINC:2148-5</th><th>LOINC:38252-3</th><th>LOINC:72888-1</th><th>LOINC:83102-4</th><th>LOINC:38506-2</th><th>LOINC:26499-4</th><th>LOINC:2609-6</th><th>LOINC:2579-1</th><th>LOINC:26019-0</th><th>LOINC:33951-5</th><th>LOINC:26498-6</th><th>LOINC:2669-0</th><th>LOINC:30433-7</th><th>LOINC:42246-9</th><th>mode_height</th><th>median_weight</th><th>BMI</th><th>median_diastolic_value</th><th>median_systolic_value</th><th>ACS_MedHHIncome</th><th>ACS_GINI</th><th>ACS_Unemployment</th><th>ACS_pctPoverty100</th><th>ACS_pctCollGrad</th><th>Sex_CD_F</th><th>Sex_CD_M</th><th>Race_CD_01</th><th>Race_CD_02</th><th>Race_CD_03</th><th>Race_CD_04</th><th>Race_CD_05</th><th>Hispanic_CD_N</th><th>Hispanic_CD_Y</th><th>Gender_CD_GQ</th><th>Gender_CD_M</th><th>Gender_CD_TG</th><th>Gender_CD_W</th></tr><tr><td>i64</td><td>i64</td><td>datetime[μs]</td><td>i64</td><td>i32</td><td>i32</td><td>i32</td><td>i32</td><td>i32</td><td>i32</td><td>i32</td><td>i32</td><td>i32</td><td>i32</td><td>i32</td><td>i32</td><td>i32</td><td>i32</td><td>i32</td><td>i32</td><td>i32</td><td>i32</td><td>i32</td><td>i32</td><td>i32</td><td>i32</td><td>i32</td><td>i32</td><td>i32</td><td>i32</td><td>i32</td><td>i32</td><td>i32</td><td>i32</td><td>i32</td><td>i32</td><td>i32</td><td>&hellip;</td><td>f32</td><td>f32</td><td>f32</td><td>f32</td><td>f32</td><td>f32</td><td>f32</td><td>f32</td><td>f32</td><td>f32</td><td>f32</td><td>f32</td><td>f32</td><td>f32</td><td>f32</td><td>f32</td><td>f64</td><td>f32</td><td>f32</td><td>f32</td><td>f32</td><td>f32</td><td>f32</td><td>f32</td><td>u8</td><td>u8</td><td>u8</td><td>u8</td><td>u8</td><td>u8</td><td>u8</td><td>u8</td><td>u8</td><td>u8</td><td>u8</td><td>u8</td><td>u8</td></tr></thead><tbody><tr><td>297249</td><td>0</td><td>2017-05-23 00:00:00</td><td>1</td><td>0</td><td>0</td><td>0</td><td>0</td><td>0</td><td>0</td><td>0</td><td>0</td><td>0</td><td>0</td><td>0</td><td>0</td><td>0</td><td>0</td><td>0</td><td>0</td><td>0</td><td>0</td><td>0</td><td>0</td><td>0</td><td>0</td><td>0</td><td>0</td><td>0</td><td>0</td><td>0</td><td>0</td><td>0</td><td>0</td><td>0</td><td>0</td><td>0</td><td>&hellip;</td><td>-100.0</td><td>-100.0</td><td>-100.0</td><td>-100.0</td><td>-100.0</td><td>-100.0</td><td>-100.0</td><td>-100.0</td><td>-100.0</td><td>-100.0</td><td>-100.0</td><td>-100.0</td><td>-100.0</td><td>-100.0</td><td>72.0</td><td>312.350006</td><td>42.357648</td><td>96.502357</td><td>128.833328</td><td>-100.0</td><td>-100.0</td><td>-100.0</td><td>-100.0</td><td>-100.0</td><td>1</td><td>0</td><td>0</td><td>0</td><td>1</td><td>0</td><td>0</td><td>1</td><td>0</td><td>0</td><td>0</td><td>0</td><td>1</td></tr></tbody></table></div>"
      ],
      "text/plain": [
       "shape: (1, 2_801)\n",
       "┌────────────┬───────────┬───────────┬─────────┬───┬───────────┬───────────┬───────────┬───────────┐\n",
       "│ PATIENT_NU ┆ Age_group ┆ FirstOutc ┆ Outcome ┆ … ┆ Gender_CD ┆ Gender_CD ┆ Gender_CD ┆ Gender_CD │\n",
       "│ M          ┆ ---       ┆ omeDate   ┆ ---     ┆   ┆ _GQ       ┆ _M        ┆ _TG       ┆ _W        │\n",
       "│ ---        ┆ i64       ┆ ---       ┆ i64     ┆   ┆ ---       ┆ ---       ┆ ---       ┆ ---       │\n",
       "│ i64        ┆           ┆ datetime[ ┆         ┆   ┆ u8        ┆ u8        ┆ u8        ┆ u8        │\n",
       "│            ┆           ┆ μs]       ┆         ┆   ┆           ┆           ┆           ┆           │\n",
       "╞════════════╪═══════════╪═══════════╪═════════╪═══╪═══════════╪═══════════╪═══════════╪═══════════╡\n",
       "│ 297249     ┆ 0         ┆ 2017-05-2 ┆ 1       ┆ … ┆ 0         ┆ 0         ┆ 0         ┆ 1         │\n",
       "│            ┆           ┆ 3         ┆         ┆   ┆           ┆           ┆           ┆           │\n",
       "│            ┆           ┆ 00:00:00  ┆         ┆   ┆           ┆           ┆           ┆           │\n",
       "└────────────┴───────────┴───────────┴─────────┴───┴───────────┴───────────┴───────────┴───────────┘"
      ]
     },
     "execution_count": 258,
     "metadata": {},
     "output_type": "execute_result"
    }
   ],
   "source": [
    "modeling_df.filter(pl.col('PATIENT_NUM') == 297249)"
   ]
  },
  {
   "cell_type": "code",
   "execution_count": 223,
   "id": "ad4b022c",
   "metadata": {},
   "outputs": [
    {
     "data": {
      "text/plain": [
       "(array([0, 1]), array([42123,  1501]))"
      ]
     },
     "execution_count": 223,
     "metadata": {},
     "output_type": "execute_result"
    }
   ],
   "source": [
    "np.unique(modeling_df['Outcome'].to_list(),return_counts = True)"
   ]
  },
  {
   "cell_type": "code",
   "execution_count": 224,
   "id": "72840f8a",
   "metadata": {},
   "outputs": [
    {
     "name": "stdout",
     "output_type": "stream",
     "text": [
      "Number of records after dropping the patients who dont have encounters after their index visit: 43624\n",
      "The target distribution is: (array([0, 1]), array([42123,  1501]))\n"
     ]
    }
   ],
   "source": [
    "if ml_config.no_enc_ppid_experiment:\n",
    "    modeling_patient_ids = modeling_df['PATIENT_NUM'].to_list()\n",
    "    pids_enc_info_after_vi = pl.read_parquet(ml_config.patient_enc_info_path)['PATIENT_NUM'].to_list()\n",
    "    pids_to_drop = set(modeling_patient_ids) - set(pids_enc_info_after_vi)\n",
    "    modeling_df = modeling_df.filter(((~pl.col('PATIENT_NUM').is_in(pids_to_drop)) & (pl.col('Outcome')==0)) | (pl.col('Outcome')==1))\n",
    "    print(\"Number of records after dropping the patients who dont have encounters after their index visit:\",len(modeling_df))\n",
    "    print(\"The target distribution is:\", np.unique(modeling_df['Outcome'].to_list(),return_counts = True) )"
   ]
  },
  {
   "cell_type": "code",
   "execution_count": 225,
   "id": "f9c7ab91",
   "metadata": {},
   "outputs": [],
   "source": [
    "# if ml_config.low_feature_count_exclude:\n",
    "    \n",
    "    \n",
    "if ml_config.pat_outcome0_with_dia_meds_remove:\n",
    "    with open('Determine_outcome0_act_ing_dia_after_index_visit_patient_nums.pkl', 'rb') as f:\n",
    "        pat_outcome0_with_dia_meds_remove = pickle.load(f)\n",
    "        \n",
    "    modeling_df = modeling_df.filter(((~pl.col('PATIENT_NUM').is_in(pids_to_drop)) & (pl.col('Outcome')==0)) | (pl.col('Outcome')==1)) "
   ]
  },
  {
   "cell_type": "code",
   "execution_count": 226,
   "id": "9214ffb2",
   "metadata": {},
   "outputs": [],
   "source": [
    "# modeling_df  = modeling_df.drop(ml_config.columns_to_drop)\n",
    "# modeling_df.head()"
   ]
  },
  {
   "cell_type": "code",
   "execution_count": 227,
   "id": "f0dd7ef1",
   "metadata": {},
   "outputs": [],
   "source": [
    "### Defining categorical columns\n",
    "cat_features = [col for col in modeling_df.columns if  not (col.startswith('LOINC') \n",
    "                                                            or col in ml_config.columns_to_ignore_cat\n",
    "                                                            or col in ['BMI',\n",
    "                                                                       'mode_height',\n",
    "                                                                       'average_weight',\n",
    "                                                                         'average_diastolic_value',\n",
    "                                                                         'average_systolic_value',\n",
    "                                                                          \"ACS_MedHHIncome\", \n",
    "                                                                       \"ACS_GINI\", \n",
    "                                                                       \"ACS_Unemployment\", \n",
    "                                                                       \"ACS_pctPoverty100\", \n",
    "                                                                       \"ACS_pctCollGrad\"]\n",
    "                                                                          )]\n",
    "numerical_features = [col for col in modeling_df.columns if col.startswith('LOINC') \n",
    "                                                            or col not in ml_config.columns_to_ignore_cat\n",
    "                                                            or col in ['BMI',\n",
    "                                                                       'mode_height',\n",
    "                                                                       'average_weight',\n",
    "                                                                         'average_diastolic_value',\n",
    "                                                                         'average_systolic_value',\n",
    "                                                                          \"ACS_MedHHIncome\", \n",
    "                                                                       \"ACS_GINI\", \n",
    "                                                                       \"ACS_Unemployment\", \n",
    "                                                                       \"ACS_pctPoverty100\", \n",
    "                                                                       \"ACS_pctCollGrad\"]\n",
    "                                                                          ] + [\n",
    "                                                                            \"mode_height\",\n",
    "                                                                            \"median_value\",\n",
    "                                                                            \"slope_weight\",\n",
    "                                                                            \"BMI\",\n",
    "                                                                            \"median_diastolic_value\",\n",
    "                                                                            \"slope_dia_bp\",\n",
    "                                                                            \"median_systolic_value\",\n",
    "                                                                            \"slope_sys_bp\"\n",
    "                                                                        ]"
   ]
  },
  {
   "cell_type": "code",
   "execution_count": 228,
   "id": "230cb66b",
   "metadata": {},
   "outputs": [
    {
     "data": {
      "text/plain": [
       "False"
      ]
     },
     "execution_count": 228,
     "metadata": {},
     "output_type": "execute_result"
    }
   ],
   "source": [
    "'average_weight' in cat_features"
   ]
  },
  {
   "cell_type": "code",
   "execution_count": 229,
   "id": "13e40e62",
   "metadata": {},
   "outputs": [
    {
     "name": "stdout",
     "output_type": "stream",
     "text": [
      "Number of categorical features:  2416\n",
      "Number of numerical features:  2904\n"
     ]
    }
   ],
   "source": [
    "print(\"Number of categorical features: \",len(cat_features))\n",
    "print(\"Number of numerical features: \",len(numerical_features))"
   ]
  },
  {
   "cell_type": "code",
   "execution_count": 230,
   "id": "b21658db",
   "metadata": {},
   "outputs": [
    {
     "name": "stdout",
     "output_type": "stream",
     "text": [
      "Number of lab results features:  473\n"
     ]
    }
   ],
   "source": [
    "loinc_columns = [col for col in modeling_df.columns if col.startswith('LOINC')]\n",
    "print(\"Number of lab results features: \",len(loinc_columns))"
   ]
  },
  {
   "cell_type": "code",
   "execution_count": 231,
   "id": "1bdc9d05",
   "metadata": {},
   "outputs": [],
   "source": [
    "### VERY IMPORTANT!!!!\n",
    "modeling_df = modeling_df.with_columns([\n",
    "    pl.col(col).cast(pl.Float32)\n",
    "    for col in loinc_columns\n",
    "])"
   ]
  },
  {
   "cell_type": "code",
   "execution_count": 232,
   "id": "cccb3ddc",
   "metadata": {},
   "outputs": [
    {
     "data": {
      "text/html": [
       "<div><style>\n",
       ".dataframe > thead > tr,\n",
       ".dataframe > tbody > tr {\n",
       "  text-align: right;\n",
       "  white-space: pre-wrap;\n",
       "}\n",
       "</style>\n",
       "<small>shape: (5, 2_899)</small><table border=\"1\" class=\"dataframe\"><thead><tr><th>PATIENT_NUM</th><th>Age_group</th><th>FirstOutcomeDate</th><th>Outcome</th><th>phenazopyridine</th><th>nitrofurantoin</th><th>lisinopril_hydrochlorothiazide</th><th>amlodipine</th><th>cephalexin</th><th>albuterol</th><th>nystatin</th><th>metronidazole</th><th>mometasone_formoterol</th><th>varicella-zoster virus vaccine live (Oka-Merck) strain</th><th>potassium chloride</th><th>chlorthalidone</th><th>ketorolac</th><th>azithromycin</th><th>triamcinolone</th><th>gabapentin</th><th>acetaminophen_hydrocodone</th><th>capsaicin</th><th>naproxen</th><th>tramadol</th><th>ibuprofen</th><th>codeine_promethazine</th><th>omeprazole</th><th>clotrimazole</th><th>lorazepam</th><th>fluticasone</th><th>calcium carbonate</th><th>loratadine</th><th>paroxetine</th><th>cholecalciferol</th><th>aluminum chloride</th><th>penicillin G</th><th>sulfamethoxazole_trimethoprim</th><th>&hellip;</th><th>SDH:ADV0111   _0.0</th><th>SDH:ADV0111   _1.0</th><th>SDH:ADV0113   _0.0</th><th>SDH:ADV0113   _1.0</th><th>SDH:ADV0104   _0.0</th><th>SDH:ADV0104   _1.0</th><th>SDH:ADV0261   _0.0</th><th>SDH:ADV0261   _1.0</th><th>SDH:ADV0114   _0.0</th><th>SDH:ADV0114   _1.0</th><th>SDH:ADV0115   _0.0</th><th>SDH:ADV0115   _1.0</th><th>SDH:ADV0116   _0.0</th><th>SDH:ADV0116   _1.0</th><th>SDH:ADV0117   _0.0</th><th>SDH:ADV0117   _1.0</th><th>SDH:ADV0118   _0.0</th><th>SDH:ADV0118   _1.0</th><th>SDH:ADV0262   _0.0</th><th>SDH:ADV0262   _1.0</th><th>SDH:ADV0400   _0.0</th><th>SDH:ADV0400   _1.0</th><th>SDH:ADV0401   _0.0</th><th>SDH:ADV0401   _1.0</th><th>Sex_CD_F</th><th>Sex_CD_M</th><th>Race_CD_01</th><th>Race_CD_02</th><th>Race_CD_03</th><th>Race_CD_04</th><th>Race_CD_05</th><th>Hispanic_CD_N</th><th>Hispanic_CD_Y</th><th>Gender_CD_GQ</th><th>Gender_CD_M</th><th>Gender_CD_TG</th><th>Gender_CD_W</th></tr><tr><td>i64</td><td>i64</td><td>datetime[μs]</td><td>i64</td><td>i32</td><td>i32</td><td>i32</td><td>i32</td><td>i32</td><td>i32</td><td>i32</td><td>i32</td><td>i32</td><td>i32</td><td>i32</td><td>i32</td><td>i32</td><td>i32</td><td>i32</td><td>i32</td><td>i32</td><td>i32</td><td>i32</td><td>i32</td><td>i32</td><td>i32</td><td>i32</td><td>i32</td><td>i32</td><td>i32</td><td>i32</td><td>i32</td><td>i32</td><td>i32</td><td>i32</td><td>i32</td><td>i32</td><td>&hellip;</td><td>u8</td><td>u8</td><td>u8</td><td>u8</td><td>u8</td><td>u8</td><td>u8</td><td>u8</td><td>u8</td><td>u8</td><td>u8</td><td>u8</td><td>u8</td><td>u8</td><td>u8</td><td>u8</td><td>u8</td><td>u8</td><td>u8</td><td>u8</td><td>u8</td><td>u8</td><td>u8</td><td>u8</td><td>u8</td><td>u8</td><td>u8</td><td>u8</td><td>u8</td><td>u8</td><td>u8</td><td>u8</td><td>u8</td><td>u8</td><td>u8</td><td>u8</td><td>u8</td></tr></thead><tbody><tr><td>576517</td><td>2</td><td>null</td><td>0</td><td>0</td><td>0</td><td>0</td><td>0</td><td>0</td><td>0</td><td>0</td><td>0</td><td>0</td><td>0</td><td>0</td><td>0</td><td>0</td><td>0</td><td>0</td><td>0</td><td>0</td><td>0</td><td>0</td><td>0</td><td>0</td><td>0</td><td>0</td><td>0</td><td>0</td><td>0</td><td>0</td><td>0</td><td>0</td><td>0</td><td>0</td><td>0</td><td>0</td><td>&hellip;</td><td>0</td><td>0</td><td>0</td><td>0</td><td>0</td><td>0</td><td>0</td><td>0</td><td>0</td><td>0</td><td>0</td><td>0</td><td>0</td><td>0</td><td>0</td><td>0</td><td>0</td><td>0</td><td>0</td><td>0</td><td>0</td><td>1</td><td>0</td><td>0</td><td>1</td><td>0</td><td>0</td><td>0</td><td>0</td><td>0</td><td>1</td><td>1</td><td>0</td><td>0</td><td>0</td><td>0</td><td>1</td></tr><tr><td>5886210</td><td>3</td><td>null</td><td>0</td><td>0</td><td>0</td><td>0</td><td>0</td><td>0</td><td>0</td><td>0</td><td>0</td><td>0</td><td>0</td><td>0</td><td>0</td><td>0</td><td>0</td><td>1</td><td>0</td><td>0</td><td>0</td><td>0</td><td>0</td><td>1</td><td>0</td><td>0</td><td>1</td><td>0</td><td>1</td><td>0</td><td>1</td><td>0</td><td>0</td><td>0</td><td>0</td><td>0</td><td>&hellip;</td><td>1</td><td>0</td><td>1</td><td>0</td><td>0</td><td>0</td><td>0</td><td>0</td><td>0</td><td>1</td><td>1</td><td>0</td><td>1</td><td>0</td><td>0</td><td>1</td><td>0</td><td>1</td><td>0</td><td>0</td><td>0</td><td>0</td><td>0</td><td>0</td><td>1</td><td>0</td><td>0</td><td>0</td><td>0</td><td>0</td><td>0</td><td>0</td><td>1</td><td>0</td><td>0</td><td>0</td><td>1</td></tr><tr><td>390161</td><td>0</td><td>null</td><td>0</td><td>0</td><td>0</td><td>0</td><td>0</td><td>0</td><td>0</td><td>0</td><td>0</td><td>0</td><td>0</td><td>0</td><td>0</td><td>0</td><td>0</td><td>0</td><td>0</td><td>0</td><td>0</td><td>0</td><td>0</td><td>0</td><td>0</td><td>0</td><td>0</td><td>0</td><td>0</td><td>0</td><td>0</td><td>0</td><td>0</td><td>0</td><td>0</td><td>0</td><td>&hellip;</td><td>0</td><td>1</td><td>1</td><td>0</td><td>0</td><td>0</td><td>0</td><td>0</td><td>0</td><td>1</td><td>1</td><td>0</td><td>0</td><td>1</td><td>1</td><td>0</td><td>1</td><td>0</td><td>0</td><td>0</td><td>0</td><td>0</td><td>0</td><td>0</td><td>1</td><td>0</td><td>0</td><td>0</td><td>1</td><td>0</td><td>0</td><td>0</td><td>0</td><td>0</td><td>0</td><td>0</td><td>0</td></tr><tr><td>5378498</td><td>3</td><td>null</td><td>0</td><td>0</td><td>0</td><td>0</td><td>1</td><td>0</td><td>1</td><td>0</td><td>0</td><td>0</td><td>0</td><td>0</td><td>0</td><td>0</td><td>0</td><td>0</td><td>0</td><td>0</td><td>0</td><td>0</td><td>0</td><td>1</td><td>0</td><td>0</td><td>0</td><td>1</td><td>0</td><td>0</td><td>0</td><td>0</td><td>0</td><td>0</td><td>0</td><td>0</td><td>&hellip;</td><td>0</td><td>0</td><td>0</td><td>0</td><td>1</td><td>0</td><td>0</td><td>0</td><td>0</td><td>0</td><td>0</td><td>0</td><td>0</td><td>0</td><td>0</td><td>0</td><td>0</td><td>0</td><td>0</td><td>0</td><td>0</td><td>0</td><td>0</td><td>0</td><td>1</td><td>0</td><td>0</td><td>0</td><td>0</td><td>0</td><td>1</td><td>0</td><td>0</td><td>0</td><td>0</td><td>0</td><td>1</td></tr><tr><td>3476481</td><td>3</td><td>null</td><td>0</td><td>0</td><td>0</td><td>0</td><td>0</td><td>0</td><td>0</td><td>0</td><td>0</td><td>0</td><td>0</td><td>0</td><td>0</td><td>0</td><td>0</td><td>0</td><td>0</td><td>0</td><td>0</td><td>0</td><td>0</td><td>0</td><td>0</td><td>0</td><td>0</td><td>0</td><td>0</td><td>0</td><td>0</td><td>0</td><td>0</td><td>0</td><td>0</td><td>0</td><td>&hellip;</td><td>0</td><td>0</td><td>0</td><td>0</td><td>1</td><td>0</td><td>0</td><td>0</td><td>0</td><td>0</td><td>0</td><td>0</td><td>0</td><td>0</td><td>0</td><td>0</td><td>0</td><td>0</td><td>0</td><td>0</td><td>0</td><td>0</td><td>0</td><td>0</td><td>1</td><td>0</td><td>0</td><td>0</td><td>0</td><td>0</td><td>0</td><td>0</td><td>0</td><td>0</td><td>0</td><td>0</td><td>0</td></tr></tbody></table></div>"
      ],
      "text/plain": [
       "shape: (5, 2_899)\n",
       "┌────────────┬───────────┬───────────┬─────────┬───┬───────────┬───────────┬───────────┬───────────┐\n",
       "│ PATIENT_NU ┆ Age_group ┆ FirstOutc ┆ Outcome ┆ … ┆ Gender_CD ┆ Gender_CD ┆ Gender_CD ┆ Gender_CD │\n",
       "│ M          ┆ ---       ┆ omeDate   ┆ ---     ┆   ┆ _GQ       ┆ _M        ┆ _TG       ┆ _W        │\n",
       "│ ---        ┆ i64       ┆ ---       ┆ i64     ┆   ┆ ---       ┆ ---       ┆ ---       ┆ ---       │\n",
       "│ i64        ┆           ┆ datetime[ ┆         ┆   ┆ u8        ┆ u8        ┆ u8        ┆ u8        │\n",
       "│            ┆           ┆ μs]       ┆         ┆   ┆           ┆           ┆           ┆           │\n",
       "╞════════════╪═══════════╪═══════════╪═════════╪═══╪═══════════╪═══════════╪═══════════╪═══════════╡\n",
       "│ 576517     ┆ 2         ┆ null      ┆ 0       ┆ … ┆ 0         ┆ 0         ┆ 0         ┆ 1         │\n",
       "│ 5886210    ┆ 3         ┆ null      ┆ 0       ┆ … ┆ 0         ┆ 0         ┆ 0         ┆ 1         │\n",
       "│ 390161     ┆ 0         ┆ null      ┆ 0       ┆ … ┆ 0         ┆ 0         ┆ 0         ┆ 0         │\n",
       "│ 5378498    ┆ 3         ┆ null      ┆ 0       ┆ … ┆ 0         ┆ 0         ┆ 0         ┆ 1         │\n",
       "│ 3476481    ┆ 3         ┆ null      ┆ 0       ┆ … ┆ 0         ┆ 0         ┆ 0         ┆ 0         │\n",
       "└────────────┴───────────┴───────────┴─────────┴───┴───────────┴───────────┴───────────┴───────────┘"
      ]
     },
     "execution_count": 232,
     "metadata": {},
     "output_type": "execute_result"
    }
   ],
   "source": [
    "modeling_df.head()"
   ]
  },
  {
   "cell_type": "markdown",
   "id": "b09862a3",
   "metadata": {},
   "source": [
    "# Train/test split"
   ]
  },
  {
   "cell_type": "code",
   "execution_count": 233,
   "id": "5c014d26",
   "metadata": {},
   "outputs": [],
   "source": [
    "data_train_pids, data_test_pids = train_test_split(modeling_df['PATIENT_NUM'], test_size=0.2, stratify=modeling_df['Outcome'], random_state = 42)"
   ]
  },
  {
   "cell_type": "code",
   "execution_count": 234,
   "id": "8877c12b",
   "metadata": {},
   "outputs": [],
   "source": [
    "data_train_pids = data_train_pids.to_list()\n",
    "data_test_pids = data_test_pids.to_list()"
   ]
  },
  {
   "cell_type": "code",
   "execution_count": 235,
   "id": "41aeb326",
   "metadata": {},
   "outputs": [
    {
     "data": {
      "text/plain": [
       "8725"
      ]
     },
     "execution_count": 235,
     "metadata": {},
     "output_type": "execute_result"
    }
   ],
   "source": [
    "len(data_test_pids)"
   ]
  },
  {
   "cell_type": "code",
   "execution_count": 236,
   "id": "fa9b64cf",
   "metadata": {},
   "outputs": [
    {
     "name": "stdout",
     "output_type": "stream",
     "text": [
      "Number of train pids:  34899\n",
      "Number of test pids:  8725\n"
     ]
    }
   ],
   "source": [
    "if ml_config.sdoh_screening_experiment:\n",
    "\n",
    "    with open('sdohscreen-test_data_pids.pkl', 'wb') as file: \n",
    "        # A new file will be created \n",
    "        pickle.dump(data_test_pids, file) \n",
    "\n",
    "    with open('sdohscreen-train_data_pids.pkl', 'wb') as file: \n",
    "        # A new file will be created \n",
    "        pickle.dump(data_train_pids, file) \n",
    "\n",
    "    #Open the file in binary mode \n",
    "    with open('sdohscreen-train_data_pids.pkl', 'rb') as file: \n",
    "        train_pids = pickle.load(file) \n",
    "    with open('sdohscreen-test_data_pids.pkl', 'rb') as file: \n",
    "        test_pids = pickle.load(file)  \n",
    "    \n",
    "    \n",
    "else:\n",
    "    # saving test pids\n",
    "    # with open('test_data_pids.pkl', 'wb') as file: \n",
    "    #     # A new file will be created \n",
    "    #     pickle.dump(data_test_pids, file) \n",
    "\n",
    "    # with open('train_data_pids.pkl', 'wb') as file: \n",
    "    #     # A new file will be created \n",
    "    #     pickle.dump(data_train_pids, file) \n",
    "\n",
    "    #Open the file in binary mode \n",
    "    with open('train_data_pids.pkl', 'rb') as file: \n",
    "        train_pids = pickle.load(file) \n",
    "    with open('test_data_pids.pkl', 'rb') as file: \n",
    "        test_pids = pickle.load(file) \n",
    "    \n",
    "print(\"Number of train pids: \", len(train_pids))\n",
    "print(\"Number of test pids: \", len(test_pids))"
   ]
  },
  {
   "cell_type": "code",
   "execution_count": 237,
   "id": "ac4f6256",
   "metadata": {},
   "outputs": [],
   "source": [
    "train_pids = list(set(data_train_pids+data_test_pids) - set(test_pids))"
   ]
  },
  {
   "cell_type": "code",
   "execution_count": 238,
   "id": "9481a5a3",
   "metadata": {},
   "outputs": [],
   "source": [
    "data_train = modeling_df.filter(pl.col('PATIENT_NUM').is_in(train_pids))\n",
    "data_test = modeling_df.filter(pl.col('PATIENT_NUM').is_in(test_pids))"
   ]
  },
  {
   "cell_type": "code",
   "execution_count": 239,
   "id": "8d82f314",
   "metadata": {},
   "outputs": [
    {
     "name": "stdout",
     "output_type": "stream",
     "text": [
      "34899\n",
      "8725\n"
     ]
    }
   ],
   "source": [
    "print(len(data_train))\n",
    "print(len(data_test))"
   ]
  },
  {
   "cell_type": "code",
   "execution_count": 240,
   "id": "d61249ce",
   "metadata": {},
   "outputs": [
    {
     "data": {
      "text/plain": [
       "(array([0, 1]), array([8425,  300]))"
      ]
     },
     "execution_count": 240,
     "metadata": {},
     "output_type": "execute_result"
    }
   ],
   "source": [
    "np.unique(data_test['Outcome'].to_list(), return_counts =True)"
   ]
  },
  {
   "cell_type": "code",
   "execution_count": 241,
   "id": "aa42aecc",
   "metadata": {},
   "outputs": [],
   "source": [
    "del modeling_df"
   ]
  },
  {
   "cell_type": "code",
   "execution_count": 242,
   "id": "34ac8918",
   "metadata": {},
   "outputs": [],
   "source": [
    "test_data_firstoutcome_df = data_test.select(['PATIENT_NUM','FirstOutcomeDate','Outcome'])"
   ]
  },
  {
   "cell_type": "code",
   "execution_count": 243,
   "id": "60a86ce2",
   "metadata": {},
   "outputs": [],
   "source": [
    "X_train,y_train = data_train.drop(['PATIENT_NUM','FirstOutcomeDate','Outcome']).to_pandas(), data_train['Outcome'].to_pandas()\n",
    "X_test,y_test = data_test.drop(['PATIENT_NUM','FirstOutcomeDate','Outcome']).to_pandas(), data_test['Outcome'].to_pandas()"
   ]
  },
  {
   "cell_type": "code",
   "execution_count": 244,
   "id": "3b67dbda",
   "metadata": {},
   "outputs": [
    {
     "data": {
      "text/plain": [
       "pandas.core.series.Series"
      ]
     },
     "execution_count": 244,
     "metadata": {},
     "output_type": "execute_result"
    }
   ],
   "source": [
    "type(y_train)"
   ]
  },
  {
   "cell_type": "code",
   "execution_count": 204,
   "id": "5065dcaa",
   "metadata": {},
   "outputs": [],
   "source": [
    "# del data_train#, data_test"
   ]
  },
  {
   "cell_type": "markdown",
   "id": "faa3986e",
   "metadata": {},
   "source": [
    "### Adjusting features based on model_name (some models need feature scaling for numerical data)"
   ]
  },
  {
   "cell_type": "code",
   "execution_count": 122,
   "id": "1a316e60",
   "metadata": {},
   "outputs": [],
   "source": [
    "from sklearn.preprocessing import StandardScaler"
   ]
  },
  {
   "cell_type": "code",
   "execution_count": 123,
   "id": "7f2e0500",
   "metadata": {},
   "outputs": [],
   "source": [
    "# Initialize the scaler\n",
    "\n",
    "if ml_config.model_name == 'logistic_regression':\n",
    "    scaler = StandardScaler()\n",
    "\n",
    "    # Fit and transform only the specified columns\n",
    "    X_train[numerical_cols] = scaler.fit_transform(X_train[numerical_cols])\n",
    "    X_test[numerical_cols] = scaler.transform(X_test[numerical_cols])"
   ]
  },
  {
   "cell_type": "markdown",
   "id": "4c6259ca",
   "metadata": {},
   "source": [
    "# Boruta feature selection"
   ]
  },
  {
   "cell_type": "code",
   "execution_count": 124,
   "id": "174ab292",
   "metadata": {},
   "outputs": [],
   "source": [
    "!pip install boruta -q "
   ]
  },
  {
   "cell_type": "code",
   "execution_count": null,
   "id": "991c93c9",
   "metadata": {},
   "outputs": [],
   "source": [
    "loinc_columns = [col for col in X_train.columns if col.startswith('LOINC')]\n",
    "len(loinc_columns)"
   ]
  },
  {
   "cell_type": "code",
   "execution_count": null,
   "id": "18f3cb9d",
   "metadata": {},
   "outputs": [],
   "source": [
    "from boruta import BorutaPy\n",
    "from sklearn.ensemble import RandomForestClassifier\n",
    "\n",
    "clf = RandomForestClassifier(n_estimators=200, random_state=42, n_jobs =-1)"
   ]
  },
  {
   "cell_type": "code",
   "execution_count": null,
   "id": "38953f8e",
   "metadata": {},
   "outputs": [],
   "source": [
    "nan_columns = X_train.columns[X_train.isna().any()].tolist()\n",
    "\n",
    "print(nan_columns)"
   ]
  },
  {
   "cell_type": "code",
   "execution_count": null,
   "id": "e92a292c",
   "metadata": {},
   "outputs": [],
   "source": [
    "print(\"hello\")"
   ]
  },
  {
   "cell_type": "code",
   "execution_count": null,
   "id": "854b1afd",
   "metadata": {},
   "outputs": [],
   "source": [
    "trans = BorutaPy(clf, max_iter=5, random_state=42)\n",
    "sel = trans.fit_transform(X_train.values, y_train.values)"
   ]
  },
  {
   "cell_type": "code",
   "execution_count": null,
   "id": "46d46b00",
   "metadata": {},
   "outputs": [],
   "source": [
    "print('Hello')"
   ]
  },
  {
   "cell_type": "markdown",
   "id": "0a5cafdc",
   "metadata": {},
   "source": [
    "# ML models"
   ]
  },
  {
   "cell_type": "markdown",
   "id": "d38625c1",
   "metadata": {},
   "source": [
    "## Single objective function"
   ]
  },
  {
   "cell_type": "code",
   "execution_count": 249,
   "id": "9d5cb36a",
   "metadata": {},
   "outputs": [],
   "source": [
    "# Remove columns starting with 'SDH'\n",
    "X_train = X_train.loc[:, ~X_train.columns.str.startswith('SDH')]\n",
    "X_test = X_test.loc[:, ~X_test.columns.str.startswith('SDH')]"
   ]
  },
  {
   "cell_type": "code",
   "execution_count": 211,
   "id": "57bd55e8",
   "metadata": {},
   "outputs": [],
   "source": [
    "def objective(trial):\n",
    "    if ml_config.model_name == 'xgboost':\n",
    "    \n",
    "        param = {\n",
    "        'objective': 'binary:logistic',  # Binary classification\n",
    "        #'eval_metric': 'auc',             # Evaluation metric\n",
    "        'seed': 42,\n",
    "        'eta': trial.suggest_float('eta', 0.01, 0.3, step=0.01),\n",
    "        'n_estimators': trial.suggest_int('n_estimators', 100, 600, step =100),\n",
    "        'max_depth': trial.suggest_int('max_depth', 3, 12),\n",
    "        'subsample': trial.suggest_float('subsample', 0.5, 1.0, step=0.1),\n",
    "        'colsample_bytree': trial.suggest_float('colsample_bytree', 0.5, 1.0, step=0.1),\n",
    "        'gamma': trial.suggest_float('gamma', 0, 5.0),\n",
    "        'scale_pos_weight': (len(y_train) - sum(y_train)) / sum(y_train),  # Class weight for imbalance\n",
    "        }\n",
    "        \n",
    "        model = XGBClassifier(**param, enable_categorical=True, device=\"cuda\")\n",
    "\n",
    "    elif ml_config.model_name == 'catboost':\n",
    "        param = {\n",
    "            \"iterations\": trial.suggest_categorical('iterations',[200, 400, 600, 800]),\n",
    "            \"learning_rate\": trial.suggest_float(\"learning_rate\", 1e-3, 0.1, log=True),\n",
    "            \"depth\": trial.suggest_int(\"depth\", 4, 12),\n",
    "            #\"subsample\": trial.suggest_float(\"subsample\", 0.05, 1.0),\n",
    "            #\"colsample_bylevel\": trial.suggest_float(\"colsample_bylevel\", 0.05, 1.0),\n",
    "            \"min_data_in_leaf\": trial.suggest_int(\"min_data_in_leaf\", 1, 300),\n",
    "            'task_type':\"GPU\",\n",
    "        }\n",
    "        model = CatBoostClassifier(**param, auto_class_weights='Balanced',allow_writing_files=False,\n",
    "                                   silent=True)\n",
    "\n",
    "    elif ml_config.model_name == 'random_forest':\n",
    "        param = {\n",
    "            'n_estimators': trial.suggest_int('n_estimators', 50, 800),\n",
    "            'max_depth': trial.suggest_int('max_depth', 3, 15),\n",
    "            'min_samples_split': trial.suggest_int('min_samples_split', 2, 20),\n",
    "            'min_samples_leaf': trial.suggest_int('min_samples_leaf', 1, 10),\n",
    "        }\n",
    "        model = RandomForestClassifier(**param, class_weight ='balanced', n_jobs = -1)\n",
    "\n",
    "    elif ml_config.model_name == 'logistic_regression':\n",
    "        param = {\n",
    "            'C': trial.suggest_loguniform('C', 1e-2, 10.0),\n",
    "            'max_iter': trial.suggest_int('max_iter', 100, 600),\n",
    "            'solver': trial.suggest_categorical('solver', ['liblinear']),\n",
    "        }\n",
    "        model = LogisticRegression(**param,class_weight ='balanced', n_jobs = -1 )\n",
    "        \n",
    "    \n",
    "    \n",
    "\n",
    "    else:\n",
    "        raise ValueError(\"Unsupported model name\")\n",
    "    \n",
    "    \n",
    "    model.fit(X_train, y_train)\n",
    "    y_pred_proba = model.predict_proba(X_test)[:, 1]\n",
    "        \n",
    "    roc_auc = roc_auc_score(y_test, y_pred_proba)\n",
    "    return roc_auc\n"
   ]
  },
  {
   "cell_type": "code",
   "execution_count": 212,
   "id": "247c996a",
   "metadata": {},
   "outputs": [
    {
     "name": "stderr",
     "output_type": "stream",
     "text": [
      "[I 2025-04-30 21:31:14,069] A new study created in memory with name: no-name-130f73df-fe71-4d9d-88af-8f4c796ebd90\n",
      "[W 2025-04-30 21:31:20,664] Trial 0 failed with parameters: {'iterations': 800, 'learning_rate': 0.038778657582876845, 'depth': 6, 'min_data_in_leaf': 245} because of the following error: KeyboardInterrupt('').\n",
      "Traceback (most recent call last):\n",
      "  File \"/home/ec2-user/anaconda3/envs/tensorflow2_p310/lib/python3.10/site-packages/optuna/study/_optimize.py\", line 197, in _run_trial\n",
      "    value_or_values = func(trial)\n",
      "  File \"/tmp/ipykernel_28807/1042716350.py\", line 56, in objective\n",
      "    model.fit(X_train, y_train)\n",
      "  File \"/home/ec2-user/anaconda3/envs/tensorflow2_p310/lib/python3.10/site-packages/catboost/core.py\", line 5245, in fit\n",
      "    self._fit(X, y, cat_features, text_features, embedding_features, None, graph, sample_weight, None, None, None, None, baseline, use_best_model,\n",
      "  File \"/home/ec2-user/anaconda3/envs/tensorflow2_p310/lib/python3.10/site-packages/catboost/core.py\", line 2410, in _fit\n",
      "    self._train(\n",
      "  File \"/home/ec2-user/anaconda3/envs/tensorflow2_p310/lib/python3.10/site-packages/catboost/core.py\", line 1790, in _train\n",
      "    self._object._train(train_pool, test_pool, params, allow_clear_pool, init_model._object if init_model else None)\n",
      "  File \"_catboost.pyx\", line 5023, in _catboost._CatBoost._train\n",
      "  File \"_catboost.pyx\", line 5072, in _catboost._CatBoost._train\n",
      "KeyboardInterrupt\n",
      "[W 2025-04-30 21:31:20,796] Trial 0 failed with value None.\n"
     ]
    },
    {
     "ename": "KeyboardInterrupt",
     "evalue": "",
     "output_type": "error",
     "traceback": [
      "\u001b[0;31m---------------------------------------------------------------------------\u001b[0m",
      "\u001b[0;31mKeyboardInterrupt\u001b[0m                         Traceback (most recent call last)",
      "Cell \u001b[0;32mIn[212], line 2\u001b[0m\n\u001b[1;32m      1\u001b[0m study \u001b[38;5;241m=\u001b[39m optuna\u001b[38;5;241m.\u001b[39mcreate_study(direction\u001b[38;5;241m=\u001b[39m\u001b[38;5;124m'\u001b[39m\u001b[38;5;124mmaximize\u001b[39m\u001b[38;5;124m'\u001b[39m)\n\u001b[0;32m----> 2\u001b[0m \u001b[43mstudy\u001b[49m\u001b[38;5;241;43m.\u001b[39;49m\u001b[43moptimize\u001b[49m\u001b[43m(\u001b[49m\u001b[43mobjective\u001b[49m\u001b[43m,\u001b[49m\u001b[43m \u001b[49m\u001b[43mn_trials\u001b[49m\u001b[38;5;241;43m=\u001b[39;49m\u001b[43m \u001b[49m\u001b[38;5;241;43m5\u001b[39;49m\u001b[43m)\u001b[49m\n\u001b[1;32m      4\u001b[0m \u001b[38;5;28mprint\u001b[39m(\u001b[38;5;124m'\u001b[39m\u001b[38;5;124m'\u001b[39m)\n\u001b[1;32m      5\u001b[0m \u001b[38;5;28mprint\u001b[39m(\u001b[38;5;124m'\u001b[39m\u001b[38;5;124mBest hyperparameters:\u001b[39m\u001b[38;5;124m'\u001b[39m, study\u001b[38;5;241m.\u001b[39mbest_params)\n",
      "File \u001b[0;32m~/anaconda3/envs/tensorflow2_p310/lib/python3.10/site-packages/optuna/study/study.py:475\u001b[0m, in \u001b[0;36mStudy.optimize\u001b[0;34m(self, func, n_trials, timeout, n_jobs, catch, callbacks, gc_after_trial, show_progress_bar)\u001b[0m\n\u001b[1;32m    373\u001b[0m \u001b[38;5;28;01mdef\u001b[39;00m\u001b[38;5;250m \u001b[39m\u001b[38;5;21moptimize\u001b[39m(\n\u001b[1;32m    374\u001b[0m     \u001b[38;5;28mself\u001b[39m,\n\u001b[1;32m    375\u001b[0m     func: ObjectiveFuncType,\n\u001b[0;32m   (...)\u001b[0m\n\u001b[1;32m    382\u001b[0m     show_progress_bar: \u001b[38;5;28mbool\u001b[39m \u001b[38;5;241m=\u001b[39m \u001b[38;5;28;01mFalse\u001b[39;00m,\n\u001b[1;32m    383\u001b[0m ) \u001b[38;5;241m-\u001b[39m\u001b[38;5;241m>\u001b[39m \u001b[38;5;28;01mNone\u001b[39;00m:\n\u001b[1;32m    384\u001b[0m \u001b[38;5;250m    \u001b[39m\u001b[38;5;124;03m\"\"\"Optimize an objective function.\u001b[39;00m\n\u001b[1;32m    385\u001b[0m \n\u001b[1;32m    386\u001b[0m \u001b[38;5;124;03m    Optimization is done by choosing a suitable set of hyperparameter values from a given\u001b[39;00m\n\u001b[0;32m   (...)\u001b[0m\n\u001b[1;32m    473\u001b[0m \u001b[38;5;124;03m            If nested invocation of this method occurs.\u001b[39;00m\n\u001b[1;32m    474\u001b[0m \u001b[38;5;124;03m    \"\"\"\u001b[39;00m\n\u001b[0;32m--> 475\u001b[0m     \u001b[43m_optimize\u001b[49m\u001b[43m(\u001b[49m\n\u001b[1;32m    476\u001b[0m \u001b[43m        \u001b[49m\u001b[43mstudy\u001b[49m\u001b[38;5;241;43m=\u001b[39;49m\u001b[38;5;28;43mself\u001b[39;49m\u001b[43m,\u001b[49m\n\u001b[1;32m    477\u001b[0m \u001b[43m        \u001b[49m\u001b[43mfunc\u001b[49m\u001b[38;5;241;43m=\u001b[39;49m\u001b[43mfunc\u001b[49m\u001b[43m,\u001b[49m\n\u001b[1;32m    478\u001b[0m \u001b[43m        \u001b[49m\u001b[43mn_trials\u001b[49m\u001b[38;5;241;43m=\u001b[39;49m\u001b[43mn_trials\u001b[49m\u001b[43m,\u001b[49m\n\u001b[1;32m    479\u001b[0m \u001b[43m        \u001b[49m\u001b[43mtimeout\u001b[49m\u001b[38;5;241;43m=\u001b[39;49m\u001b[43mtimeout\u001b[49m\u001b[43m,\u001b[49m\n\u001b[1;32m    480\u001b[0m \u001b[43m        \u001b[49m\u001b[43mn_jobs\u001b[49m\u001b[38;5;241;43m=\u001b[39;49m\u001b[43mn_jobs\u001b[49m\u001b[43m,\u001b[49m\n\u001b[1;32m    481\u001b[0m \u001b[43m        \u001b[49m\u001b[43mcatch\u001b[49m\u001b[38;5;241;43m=\u001b[39;49m\u001b[38;5;28;43mtuple\u001b[39;49m\u001b[43m(\u001b[49m\u001b[43mcatch\u001b[49m\u001b[43m)\u001b[49m\u001b[43m \u001b[49m\u001b[38;5;28;43;01mif\u001b[39;49;00m\u001b[43m \u001b[49m\u001b[38;5;28;43misinstance\u001b[39;49m\u001b[43m(\u001b[49m\u001b[43mcatch\u001b[49m\u001b[43m,\u001b[49m\u001b[43m \u001b[49m\u001b[43mIterable\u001b[49m\u001b[43m)\u001b[49m\u001b[43m \u001b[49m\u001b[38;5;28;43;01melse\u001b[39;49;00m\u001b[43m \u001b[49m\u001b[43m(\u001b[49m\u001b[43mcatch\u001b[49m\u001b[43m,\u001b[49m\u001b[43m)\u001b[49m\u001b[43m,\u001b[49m\n\u001b[1;32m    482\u001b[0m \u001b[43m        \u001b[49m\u001b[43mcallbacks\u001b[49m\u001b[38;5;241;43m=\u001b[39;49m\u001b[43mcallbacks\u001b[49m\u001b[43m,\u001b[49m\n\u001b[1;32m    483\u001b[0m \u001b[43m        \u001b[49m\u001b[43mgc_after_trial\u001b[49m\u001b[38;5;241;43m=\u001b[39;49m\u001b[43mgc_after_trial\u001b[49m\u001b[43m,\u001b[49m\n\u001b[1;32m    484\u001b[0m \u001b[43m        \u001b[49m\u001b[43mshow_progress_bar\u001b[49m\u001b[38;5;241;43m=\u001b[39;49m\u001b[43mshow_progress_bar\u001b[49m\u001b[43m,\u001b[49m\n\u001b[1;32m    485\u001b[0m \u001b[43m    \u001b[49m\u001b[43m)\u001b[49m\n",
      "File \u001b[0;32m~/anaconda3/envs/tensorflow2_p310/lib/python3.10/site-packages/optuna/study/_optimize.py:63\u001b[0m, in \u001b[0;36m_optimize\u001b[0;34m(study, func, n_trials, timeout, n_jobs, catch, callbacks, gc_after_trial, show_progress_bar)\u001b[0m\n\u001b[1;32m     61\u001b[0m \u001b[38;5;28;01mtry\u001b[39;00m:\n\u001b[1;32m     62\u001b[0m     \u001b[38;5;28;01mif\u001b[39;00m n_jobs \u001b[38;5;241m==\u001b[39m \u001b[38;5;241m1\u001b[39m:\n\u001b[0;32m---> 63\u001b[0m         \u001b[43m_optimize_sequential\u001b[49m\u001b[43m(\u001b[49m\n\u001b[1;32m     64\u001b[0m \u001b[43m            \u001b[49m\u001b[43mstudy\u001b[49m\u001b[43m,\u001b[49m\n\u001b[1;32m     65\u001b[0m \u001b[43m            \u001b[49m\u001b[43mfunc\u001b[49m\u001b[43m,\u001b[49m\n\u001b[1;32m     66\u001b[0m \u001b[43m            \u001b[49m\u001b[43mn_trials\u001b[49m\u001b[43m,\u001b[49m\n\u001b[1;32m     67\u001b[0m \u001b[43m            \u001b[49m\u001b[43mtimeout\u001b[49m\u001b[43m,\u001b[49m\n\u001b[1;32m     68\u001b[0m \u001b[43m            \u001b[49m\u001b[43mcatch\u001b[49m\u001b[43m,\u001b[49m\n\u001b[1;32m     69\u001b[0m \u001b[43m            \u001b[49m\u001b[43mcallbacks\u001b[49m\u001b[43m,\u001b[49m\n\u001b[1;32m     70\u001b[0m \u001b[43m            \u001b[49m\u001b[43mgc_after_trial\u001b[49m\u001b[43m,\u001b[49m\n\u001b[1;32m     71\u001b[0m \u001b[43m            \u001b[49m\u001b[43mreseed_sampler_rng\u001b[49m\u001b[38;5;241;43m=\u001b[39;49m\u001b[38;5;28;43;01mFalse\u001b[39;49;00m\u001b[43m,\u001b[49m\n\u001b[1;32m     72\u001b[0m \u001b[43m            \u001b[49m\u001b[43mtime_start\u001b[49m\u001b[38;5;241;43m=\u001b[39;49m\u001b[38;5;28;43;01mNone\u001b[39;49;00m\u001b[43m,\u001b[49m\n\u001b[1;32m     73\u001b[0m \u001b[43m            \u001b[49m\u001b[43mprogress_bar\u001b[49m\u001b[38;5;241;43m=\u001b[39;49m\u001b[43mprogress_bar\u001b[49m\u001b[43m,\u001b[49m\n\u001b[1;32m     74\u001b[0m \u001b[43m        \u001b[49m\u001b[43m)\u001b[49m\n\u001b[1;32m     75\u001b[0m     \u001b[38;5;28;01melse\u001b[39;00m:\n\u001b[1;32m     76\u001b[0m         \u001b[38;5;28;01mif\u001b[39;00m n_jobs \u001b[38;5;241m==\u001b[39m \u001b[38;5;241m-\u001b[39m\u001b[38;5;241m1\u001b[39m:\n",
      "File \u001b[0;32m~/anaconda3/envs/tensorflow2_p310/lib/python3.10/site-packages/optuna/study/_optimize.py:160\u001b[0m, in \u001b[0;36m_optimize_sequential\u001b[0;34m(study, func, n_trials, timeout, catch, callbacks, gc_after_trial, reseed_sampler_rng, time_start, progress_bar)\u001b[0m\n\u001b[1;32m    157\u001b[0m         \u001b[38;5;28;01mbreak\u001b[39;00m\n\u001b[1;32m    159\u001b[0m \u001b[38;5;28;01mtry\u001b[39;00m:\n\u001b[0;32m--> 160\u001b[0m     frozen_trial \u001b[38;5;241m=\u001b[39m \u001b[43m_run_trial\u001b[49m\u001b[43m(\u001b[49m\u001b[43mstudy\u001b[49m\u001b[43m,\u001b[49m\u001b[43m \u001b[49m\u001b[43mfunc\u001b[49m\u001b[43m,\u001b[49m\u001b[43m \u001b[49m\u001b[43mcatch\u001b[49m\u001b[43m)\u001b[49m\n\u001b[1;32m    161\u001b[0m \u001b[38;5;28;01mfinally\u001b[39;00m:\n\u001b[1;32m    162\u001b[0m     \u001b[38;5;66;03m# The following line mitigates memory problems that can be occurred in some\u001b[39;00m\n\u001b[1;32m    163\u001b[0m     \u001b[38;5;66;03m# environments (e.g., services that use computing containers such as GitHub Actions).\u001b[39;00m\n\u001b[1;32m    164\u001b[0m     \u001b[38;5;66;03m# Please refer to the following PR for further details:\u001b[39;00m\n\u001b[1;32m    165\u001b[0m     \u001b[38;5;66;03m# https://github.com/optuna/optuna/pull/325.\u001b[39;00m\n\u001b[1;32m    166\u001b[0m     \u001b[38;5;28;01mif\u001b[39;00m gc_after_trial:\n",
      "File \u001b[0;32m~/anaconda3/envs/tensorflow2_p310/lib/python3.10/site-packages/optuna/study/_optimize.py:248\u001b[0m, in \u001b[0;36m_run_trial\u001b[0;34m(study, func, catch)\u001b[0m\n\u001b[1;32m    241\u001b[0m         \u001b[38;5;28;01massert\u001b[39;00m \u001b[38;5;28;01mFalse\u001b[39;00m, \u001b[38;5;124m\"\u001b[39m\u001b[38;5;124mShould not reach.\u001b[39m\u001b[38;5;124m\"\u001b[39m\n\u001b[1;32m    243\u001b[0m \u001b[38;5;28;01mif\u001b[39;00m (\n\u001b[1;32m    244\u001b[0m     frozen_trial\u001b[38;5;241m.\u001b[39mstate \u001b[38;5;241m==\u001b[39m TrialState\u001b[38;5;241m.\u001b[39mFAIL\n\u001b[1;32m    245\u001b[0m     \u001b[38;5;129;01mand\u001b[39;00m func_err \u001b[38;5;129;01mis\u001b[39;00m \u001b[38;5;129;01mnot\u001b[39;00m \u001b[38;5;28;01mNone\u001b[39;00m\n\u001b[1;32m    246\u001b[0m     \u001b[38;5;129;01mand\u001b[39;00m \u001b[38;5;129;01mnot\u001b[39;00m \u001b[38;5;28misinstance\u001b[39m(func_err, catch)\n\u001b[1;32m    247\u001b[0m ):\n\u001b[0;32m--> 248\u001b[0m     \u001b[38;5;28;01mraise\u001b[39;00m func_err\n\u001b[1;32m    249\u001b[0m \u001b[38;5;28;01mreturn\u001b[39;00m frozen_trial\n",
      "File \u001b[0;32m~/anaconda3/envs/tensorflow2_p310/lib/python3.10/site-packages/optuna/study/_optimize.py:197\u001b[0m, in \u001b[0;36m_run_trial\u001b[0;34m(study, func, catch)\u001b[0m\n\u001b[1;32m    195\u001b[0m \u001b[38;5;28;01mwith\u001b[39;00m get_heartbeat_thread(trial\u001b[38;5;241m.\u001b[39m_trial_id, study\u001b[38;5;241m.\u001b[39m_storage):\n\u001b[1;32m    196\u001b[0m     \u001b[38;5;28;01mtry\u001b[39;00m:\n\u001b[0;32m--> 197\u001b[0m         value_or_values \u001b[38;5;241m=\u001b[39m \u001b[43mfunc\u001b[49m\u001b[43m(\u001b[49m\u001b[43mtrial\u001b[49m\u001b[43m)\u001b[49m\n\u001b[1;32m    198\u001b[0m     \u001b[38;5;28;01mexcept\u001b[39;00m exceptions\u001b[38;5;241m.\u001b[39mTrialPruned \u001b[38;5;28;01mas\u001b[39;00m e:\n\u001b[1;32m    199\u001b[0m         \u001b[38;5;66;03m# TODO(mamu): Handle multi-objective cases.\u001b[39;00m\n\u001b[1;32m    200\u001b[0m         state \u001b[38;5;241m=\u001b[39m TrialState\u001b[38;5;241m.\u001b[39mPRUNED\n",
      "Cell \u001b[0;32mIn[211], line 56\u001b[0m, in \u001b[0;36mobjective\u001b[0;34m(trial)\u001b[0m\n\u001b[1;32m     52\u001b[0m \u001b[38;5;28;01melse\u001b[39;00m:\n\u001b[1;32m     53\u001b[0m     \u001b[38;5;28;01mraise\u001b[39;00m \u001b[38;5;167;01mValueError\u001b[39;00m(\u001b[38;5;124m\"\u001b[39m\u001b[38;5;124mUnsupported model name\u001b[39m\u001b[38;5;124m\"\u001b[39m)\n\u001b[0;32m---> 56\u001b[0m \u001b[43mmodel\u001b[49m\u001b[38;5;241;43m.\u001b[39;49m\u001b[43mfit\u001b[49m\u001b[43m(\u001b[49m\u001b[43mX_train\u001b[49m\u001b[43m,\u001b[49m\u001b[43m \u001b[49m\u001b[43my_train\u001b[49m\u001b[43m)\u001b[49m\n\u001b[1;32m     57\u001b[0m y_pred_proba \u001b[38;5;241m=\u001b[39m model\u001b[38;5;241m.\u001b[39mpredict_proba(X_test)[:, \u001b[38;5;241m1\u001b[39m]\n\u001b[1;32m     59\u001b[0m roc_auc \u001b[38;5;241m=\u001b[39m roc_auc_score(y_test, y_pred_proba)\n",
      "File \u001b[0;32m~/anaconda3/envs/tensorflow2_p310/lib/python3.10/site-packages/catboost/core.py:5245\u001b[0m, in \u001b[0;36mCatBoostClassifier.fit\u001b[0;34m(self, X, y, cat_features, text_features, embedding_features, graph, sample_weight, baseline, use_best_model, eval_set, verbose, logging_level, plot, plot_file, column_description, verbose_eval, metric_period, silent, early_stopping_rounds, save_snapshot, snapshot_file, snapshot_interval, init_model, callbacks, log_cout, log_cerr)\u001b[0m\n\u001b[1;32m   5242\u001b[0m \u001b[38;5;28;01mif\u001b[39;00m \u001b[38;5;124m'\u001b[39m\u001b[38;5;124mloss_function\u001b[39m\u001b[38;5;124m'\u001b[39m \u001b[38;5;129;01min\u001b[39;00m params:\n\u001b[1;32m   5243\u001b[0m     CatBoostClassifier\u001b[38;5;241m.\u001b[39m_check_is_compatible_loss(params[\u001b[38;5;124m'\u001b[39m\u001b[38;5;124mloss_function\u001b[39m\u001b[38;5;124m'\u001b[39m])\n\u001b[0;32m-> 5245\u001b[0m \u001b[38;5;28;43mself\u001b[39;49m\u001b[38;5;241;43m.\u001b[39;49m\u001b[43m_fit\u001b[49m\u001b[43m(\u001b[49m\u001b[43mX\u001b[49m\u001b[43m,\u001b[49m\u001b[43m \u001b[49m\u001b[43my\u001b[49m\u001b[43m,\u001b[49m\u001b[43m \u001b[49m\u001b[43mcat_features\u001b[49m\u001b[43m,\u001b[49m\u001b[43m \u001b[49m\u001b[43mtext_features\u001b[49m\u001b[43m,\u001b[49m\u001b[43m \u001b[49m\u001b[43membedding_features\u001b[49m\u001b[43m,\u001b[49m\u001b[43m \u001b[49m\u001b[38;5;28;43;01mNone\u001b[39;49;00m\u001b[43m,\u001b[49m\u001b[43m \u001b[49m\u001b[43mgraph\u001b[49m\u001b[43m,\u001b[49m\u001b[43m \u001b[49m\u001b[43msample_weight\u001b[49m\u001b[43m,\u001b[49m\u001b[43m \u001b[49m\u001b[38;5;28;43;01mNone\u001b[39;49;00m\u001b[43m,\u001b[49m\u001b[43m \u001b[49m\u001b[38;5;28;43;01mNone\u001b[39;49;00m\u001b[43m,\u001b[49m\u001b[43m \u001b[49m\u001b[38;5;28;43;01mNone\u001b[39;49;00m\u001b[43m,\u001b[49m\u001b[43m \u001b[49m\u001b[38;5;28;43;01mNone\u001b[39;49;00m\u001b[43m,\u001b[49m\u001b[43m \u001b[49m\u001b[43mbaseline\u001b[49m\u001b[43m,\u001b[49m\u001b[43m \u001b[49m\u001b[43muse_best_model\u001b[49m\u001b[43m,\u001b[49m\n\u001b[1;32m   5246\u001b[0m \u001b[43m          \u001b[49m\u001b[43meval_set\u001b[49m\u001b[43m,\u001b[49m\u001b[43m \u001b[49m\u001b[43mverbose\u001b[49m\u001b[43m,\u001b[49m\u001b[43m \u001b[49m\u001b[43mlogging_level\u001b[49m\u001b[43m,\u001b[49m\u001b[43m \u001b[49m\u001b[43mplot\u001b[49m\u001b[43m,\u001b[49m\u001b[43m \u001b[49m\u001b[43mplot_file\u001b[49m\u001b[43m,\u001b[49m\u001b[43m \u001b[49m\u001b[43mcolumn_description\u001b[49m\u001b[43m,\u001b[49m\u001b[43m \u001b[49m\u001b[43mverbose_eval\u001b[49m\u001b[43m,\u001b[49m\u001b[43m \u001b[49m\u001b[43mmetric_period\u001b[49m\u001b[43m,\u001b[49m\n\u001b[1;32m   5247\u001b[0m \u001b[43m          \u001b[49m\u001b[43msilent\u001b[49m\u001b[43m,\u001b[49m\u001b[43m \u001b[49m\u001b[43mearly_stopping_rounds\u001b[49m\u001b[43m,\u001b[49m\u001b[43m \u001b[49m\u001b[43msave_snapshot\u001b[49m\u001b[43m,\u001b[49m\u001b[43m \u001b[49m\u001b[43msnapshot_file\u001b[49m\u001b[43m,\u001b[49m\u001b[43m \u001b[49m\u001b[43msnapshot_interval\u001b[49m\u001b[43m,\u001b[49m\u001b[43m \u001b[49m\u001b[43minit_model\u001b[49m\u001b[43m,\u001b[49m\u001b[43m \u001b[49m\u001b[43mcallbacks\u001b[49m\u001b[43m,\u001b[49m\u001b[43m \u001b[49m\u001b[43mlog_cout\u001b[49m\u001b[43m,\u001b[49m\u001b[43m \u001b[49m\u001b[43mlog_cerr\u001b[49m\u001b[43m)\u001b[49m\n\u001b[1;32m   5248\u001b[0m \u001b[38;5;28;01mreturn\u001b[39;00m \u001b[38;5;28mself\u001b[39m\n",
      "File \u001b[0;32m~/anaconda3/envs/tensorflow2_p310/lib/python3.10/site-packages/catboost/core.py:2410\u001b[0m, in \u001b[0;36mCatBoost._fit\u001b[0;34m(self, X, y, cat_features, text_features, embedding_features, pairs, graph, sample_weight, group_id, group_weight, subgroup_id, pairs_weight, baseline, use_best_model, eval_set, verbose, logging_level, plot, plot_file, column_description, verbose_eval, metric_period, silent, early_stopping_rounds, save_snapshot, snapshot_file, snapshot_interval, init_model, callbacks, log_cout, log_cerr)\u001b[0m\n\u001b[1;32m   2407\u001b[0m allow_clear_pool \u001b[38;5;241m=\u001b[39m train_params[\u001b[38;5;124m\"\u001b[39m\u001b[38;5;124mallow_clear_pool\u001b[39m\u001b[38;5;124m\"\u001b[39m]\n\u001b[1;32m   2409\u001b[0m \u001b[38;5;28;01mwith\u001b[39;00m plot_wrapper(plot, plot_file, \u001b[38;5;124m'\u001b[39m\u001b[38;5;124mTraining plots\u001b[39m\u001b[38;5;124m'\u001b[39m, [_get_train_dir(\u001b[38;5;28mself\u001b[39m\u001b[38;5;241m.\u001b[39mget_params())]):\n\u001b[0;32m-> 2410\u001b[0m     \u001b[38;5;28;43mself\u001b[39;49m\u001b[38;5;241;43m.\u001b[39;49m\u001b[43m_train\u001b[49m\u001b[43m(\u001b[49m\n\u001b[1;32m   2411\u001b[0m \u001b[43m        \u001b[49m\u001b[43mtrain_pool\u001b[49m\u001b[43m,\u001b[49m\n\u001b[1;32m   2412\u001b[0m \u001b[43m        \u001b[49m\u001b[43mtrain_params\u001b[49m\u001b[43m[\u001b[49m\u001b[38;5;124;43m\"\u001b[39;49m\u001b[38;5;124;43meval_sets\u001b[39;49m\u001b[38;5;124;43m\"\u001b[39;49m\u001b[43m]\u001b[49m\u001b[43m,\u001b[49m\n\u001b[1;32m   2413\u001b[0m \u001b[43m        \u001b[49m\u001b[43mparams\u001b[49m\u001b[43m,\u001b[49m\n\u001b[1;32m   2414\u001b[0m \u001b[43m        \u001b[49m\u001b[43mallow_clear_pool\u001b[49m\u001b[43m,\u001b[49m\n\u001b[1;32m   2415\u001b[0m \u001b[43m        \u001b[49m\u001b[43mtrain_params\u001b[49m\u001b[43m[\u001b[49m\u001b[38;5;124;43m\"\u001b[39;49m\u001b[38;5;124;43minit_model\u001b[39;49m\u001b[38;5;124;43m\"\u001b[39;49m\u001b[43m]\u001b[49m\n\u001b[1;32m   2416\u001b[0m \u001b[43m    \u001b[49m\u001b[43m)\u001b[49m\n\u001b[1;32m   2418\u001b[0m \u001b[38;5;66;03m# Have property feature_importance possibly set\u001b[39;00m\n\u001b[1;32m   2419\u001b[0m loss \u001b[38;5;241m=\u001b[39m \u001b[38;5;28mself\u001b[39m\u001b[38;5;241m.\u001b[39m_object\u001b[38;5;241m.\u001b[39m_get_loss_function_name()\n",
      "File \u001b[0;32m~/anaconda3/envs/tensorflow2_p310/lib/python3.10/site-packages/catboost/core.py:1790\u001b[0m, in \u001b[0;36m_CatBoostBase._train\u001b[0;34m(self, train_pool, test_pool, params, allow_clear_pool, init_model)\u001b[0m\n\u001b[1;32m   1789\u001b[0m \u001b[38;5;28;01mdef\u001b[39;00m\u001b[38;5;250m \u001b[39m\u001b[38;5;21m_train\u001b[39m(\u001b[38;5;28mself\u001b[39m, train_pool, test_pool, params, allow_clear_pool, init_model):\n\u001b[0;32m-> 1790\u001b[0m     \u001b[38;5;28;43mself\u001b[39;49m\u001b[38;5;241;43m.\u001b[39;49m\u001b[43m_object\u001b[49m\u001b[38;5;241;43m.\u001b[39;49m\u001b[43m_train\u001b[49m\u001b[43m(\u001b[49m\u001b[43mtrain_pool\u001b[49m\u001b[43m,\u001b[49m\u001b[43m \u001b[49m\u001b[43mtest_pool\u001b[49m\u001b[43m,\u001b[49m\u001b[43m \u001b[49m\u001b[43mparams\u001b[49m\u001b[43m,\u001b[49m\u001b[43m \u001b[49m\u001b[43mallow_clear_pool\u001b[49m\u001b[43m,\u001b[49m\u001b[43m \u001b[49m\u001b[43minit_model\u001b[49m\u001b[38;5;241;43m.\u001b[39;49m\u001b[43m_object\u001b[49m\u001b[43m \u001b[49m\u001b[38;5;28;43;01mif\u001b[39;49;00m\u001b[43m \u001b[49m\u001b[43minit_model\u001b[49m\u001b[43m \u001b[49m\u001b[38;5;28;43;01melse\u001b[39;49;00m\u001b[43m \u001b[49m\u001b[38;5;28;43;01mNone\u001b[39;49;00m\u001b[43m)\u001b[49m\n\u001b[1;32m   1791\u001b[0m     \u001b[38;5;28mself\u001b[39m\u001b[38;5;241m.\u001b[39m_set_trained_model_attributes()\n",
      "File \u001b[0;32m_catboost.pyx:5023\u001b[0m, in \u001b[0;36m_catboost._CatBoost._train\u001b[0;34m()\u001b[0m\n",
      "File \u001b[0;32m_catboost.pyx:5072\u001b[0m, in \u001b[0;36m_catboost._CatBoost._train\u001b[0;34m()\u001b[0m\n",
      "\u001b[0;31mKeyboardInterrupt\u001b[0m: "
     ]
    }
   ],
   "source": [
    "study = optuna.create_study(direction='maximize')\n",
    "study.optimize(objective, n_trials= 5)\n",
    "\n",
    "print('')\n",
    "print('Best hyperparameters:', study.best_params)\n",
    "print('Best AUC:', study.best_value)\n",
    "print('')"
   ]
  },
  {
   "cell_type": "code",
   "execution_count": 250,
   "id": "b1a5de71",
   "metadata": {},
   "outputs": [],
   "source": [
    "# best_params =study.best_params\n",
    "\n",
    "if ml_config.model_name == 'xgboost':\n",
    "        \n",
    "    model = XGBClassifier(**best_params, \n",
    "                          scale_pos_weight = (len(y_train) - sum(y_train)) / sum(y_train),  \n",
    "#                           use_label_encoder=False,\n",
    "                          device = 'cuda', \n",
    "                          )\n",
    "    \n",
    "elif ml_config.model_name == 'catboost':\n",
    "    model = CatBoostClassifier(#**best_params, \n",
    "                               auto_class_weights='Balanced',allow_writing_files=False,\n",
    "                                   task_type ='GPU',\n",
    "                                   silent=True)\n",
    "    \n",
    "elif ml_config.model_name == 'random_forest':\n",
    "    model = RandomForestClassifier(**best_params, class_weight ='balanced', n_jobs = -1)\n",
    "    \n",
    "elif ml_config.model_name == 'logistic_regression':\n",
    "    model = LogisticRegression(**best_params, class_weight ='balanced', n_jobs = -1)\n",
    "    \n",
    "else:\n",
    "    raise ValueError(\"Unsupported model name\")"
   ]
  },
  {
   "cell_type": "code",
   "execution_count": 251,
   "id": "a7dd1db1",
   "metadata": {},
   "outputs": [
    {
     "data": {
      "text/plain": [
       "<catboost.core.CatBoostClassifier at 0x7f1b32224670>"
      ]
     },
     "execution_count": 251,
     "metadata": {},
     "output_type": "execute_result"
    }
   ],
   "source": [
    "model.fit(X_train,y_train)"
   ]
  },
  {
   "cell_type": "code",
   "execution_count": 252,
   "id": "7f033e32",
   "metadata": {},
   "outputs": [
    {
     "name": "stdout",
     "output_type": "stream",
     "text": [
      "Accuracy: 0.7462464183381089\n",
      "AUC: 0.7821467853610287\n",
      "Precision-Recall AUC: 0.1214866142675135\n",
      "Classification Report:\n",
      "               precision    recall  f1-score   support\n",
      "\n",
      "           0       0.98      0.75      0.85      8425\n",
      "           1       0.08      0.65      0.15       300\n",
      "\n",
      "    accuracy                           0.75      8725\n",
      "   macro avg       0.53      0.70      0.50      8725\n",
      "weighted avg       0.95      0.75      0.83      8725\n",
      "\n",
      "Sensitivity (Recall): 0.6533333333333333\n",
      "Specificity: 0.7495548961424332\n"
     ]
    }
   ],
   "source": [
    "conf_matrix, accuracy, roc_auc, sensitivity, specificity, auc_pr, cr = get_metrics(model,X_test, y_test)"
   ]
  },
  {
   "cell_type": "code",
   "execution_count": 253,
   "id": "010dce17",
   "metadata": {},
   "outputs": [
    {
     "data": {
      "image/png": "[encoded data removed]",
      "text/plain": [
       "<Figure size 640x480 with 2 Axes>"
      ]
     },
     "metadata": {},
     "output_type": "display_data"
    }
   ],
   "source": [
    "## Confusion matrix\n",
    "group_names = ['True Neg','False Pos','False Neg','True Pos']\n",
    "group_counts = [\"{0:0.0f}\".format(value) for value in\n",
    "                conf_matrix.flatten()]\n",
    "group_percentages = [\"{0:.2%}\".format(value) for value in\n",
    "                     conf_matrix.flatten()/np.sum(conf_matrix)]\n",
    "labels = [f\"{v1}\\n{v2}\\n{v3}\" for v1, v2, v3 in\n",
    "          zip(group_names,group_counts,group_percentages)]\n",
    "labels = np.asarray(labels).reshape(2,2)\n",
    "cm_plot = plt.subplot()\n",
    "sns.heatmap(conf_matrix, annot=labels, fmt='', cmap='Blues')\n",
    "\n",
    "#Labels, title and ticks\n",
    "cm_plot.set_xlabel('Predicted labels');cm_plot.set_ylabel('True labels');\n",
    "cm_plot.set_title('Confusion Matrix'); \n",
    "plt.show()"
   ]
  },
  {
   "cell_type": "code",
   "execution_count": null,
   "id": "a380bc5a",
   "metadata": {},
   "outputs": [],
   "source": [
    "# Save model using joblib\n",
    "model_filename = f\"../Determine_trained_models/{ml_config.model_name}_dataset_{ml_config.file.split('.')[0]}.pkl\"\n",
    "joblib.dump(model, model_filename)\n",
    "\n",
    "print(f\"Model saved as {model_filename}\")"
   ]
  },
  {
   "cell_type": "markdown",
   "id": "f29ea916",
   "metadata": {},
   "source": [
    "## Saving results and details to ml flow"
   ]
  },
  {
   "cell_type": "code",
   "execution_count": null,
   "id": "c29baabb",
   "metadata": {},
   "outputs": [],
   "source": [
    "params = model.get_params()\n",
    "\n",
    "\n",
    "# Create a new MLflow Experiment\n",
    "mlflow.set_experiment(f\"{ml_cofig.mlflow_experiment_name}_ModelName_{ml_config.model_name}\",\n",
    "                     description=ml_config.description)\n",
    "\n",
    "# Start an MLflow run\n",
    "with mlflow.start_run():\n",
    "    \n",
    "    #set tags\n",
    "    tags = {\n",
    "        'model_name': ml_config.model_name\n",
    "        'dataset_filename':ml_config.file\n",
    "    }\n",
    "    \n",
    "    # Log train and test PIDs\n",
    "    mlflow.log_param(\"train_pid\", train_pid)\n",
    "    mlflow.log_param(\"test_pid\", test_pid)\n",
    "    \n",
    "    # Log the hyperparameters   \n",
    "    mlflow.log_params(params)\n",
    "    \n",
    "    mlflow.log_input(X_train, context=\"training\")\n",
    "    mlflow.log_input(X_test, context=\"testing\")\n",
    "\n",
    "    # Log the loss metric\n",
    "    mlflow.log_metric(\"accuracy\", accuracy)\n",
    "    mlflow.log_metric(\"roc_auc\", roc_auc)\n",
    "    mlflow.log_metric(\"sensitivity\", sensitivity)\n",
    "    mlflow.log_metric(\"specificity\", sensitivity)\n",
    "    mlflow.log_metric(\"auc_pr\", accuracy)\n",
    "    mlflow.log_dict(cr, \"classification_report.json\")\n",
    "    \n",
    "    mlflow.log_image(cm_plot, \"confusion_matrix.png\")\n",
    "\n"
   ]
  },
  {
   "cell_type": "code",
   "execution_count": null,
   "id": "8aa1ae08",
   "metadata": {},
   "outputs": [],
   "source": []
  },
  {
   "cell_type": "markdown",
   "id": "80a3aa97",
   "metadata": {},
   "source": [
    "## Individual experiments"
   ]
  },
  {
   "cell_type": "code",
   "execution_count": null,
   "id": "2e67ab56",
   "metadata": {},
   "outputs": [],
   "source": [
    "import shap\n",
    "\n",
    "# Create a SHAP explainer\n",
    "explainer = shap.TreeExplainer(model, X_train)\n",
    "\n",
    "# Calculate SHAP values\n",
    "shap_values = explainer(X_test)\n",
    "\n",
    "# Plot the summary\n",
    "shap.summary_plot(shap_values, X_test, max_display=5)"
   ]
  },
  {
   "cell_type": "code",
   "execution_count": null,
   "id": "dc86294c",
   "metadata": {},
   "outputs": [],
   "source": [
    "# Calculate SHAP values\n",
    "shap_values = explainer(X_test)\n",
    "\n",
    "# Plot the summary\n",
    "shap.summary_plot(shap_values, X_test)"
   ]
  },
  {
   "cell_type": "markdown",
   "id": "48e4c76c",
   "metadata": {},
   "source": [
    "### Experiment: Understanding how low feature count features are classified"
   ]
  },
  {
   "cell_type": "code",
   "execution_count": null,
   "id": "83b770a3",
   "metadata": {},
   "outputs": [],
   "source": [
    "with open('../Experiment related files/pids_1_feat_bmi_missing.pkl','rb') as f:\n",
    "    pids_1_feat_bmi_missing = pickle.load(f).to_list()\n",
    "print(\"Number of patient IDs:\", len(pids_1_feat_bmi_missing))"
   ]
  },
  {
   "cell_type": "code",
   "execution_count": null,
   "id": "149da5e3",
   "metadata": {},
   "outputs": [],
   "source": [
    "pids_1_feat_bmi_missing[:5]"
   ]
  },
  {
   "cell_type": "code",
   "execution_count": null,
   "id": "4bdd3065",
   "metadata": {},
   "outputs": [],
   "source": [
    "data_test_with_index = data_test.with_row_index(\"row_nr\", offset=1) \n",
    "data_test_with_index.filter(pl.col('PATIENT_NUM').is_in(pids_1_feat_bmi_missing))"
   ]
  },
  {
   "cell_type": "code",
   "execution_count": null,
   "id": "c8ffefbc",
   "metadata": {},
   "outputs": [],
   "source": [
    "data_test.filter(pl.col('PATIENT_NUM') == 2386950).index"
   ]
  },
  {
   "cell_type": "code",
   "execution_count": null,
   "id": "515a1484",
   "metadata": {
    "scrolled": true
   },
   "outputs": [],
   "source": [
    "shap.plots.waterfall(shap_values[9], max_display=50)"
   ]
  },
  {
   "cell_type": "markdown",
   "id": "d99185a4",
   "metadata": {},
   "source": [
    "#### Hypothesis: removing data points which have feature count 1, bmi and bp missing, will improve perofrmance of test_dataset"
   ]
  },
  {
   "cell_type": "code",
   "execution_count": null,
   "id": "78229bc5",
   "metadata": {},
   "outputs": [],
   "source": [
    "data_train.filter(pl.col('PATIENT_NUM').is_in(pids_1_feat_bmi_missing))"
   ]
  },
  {
   "cell_type": "code",
   "execution_count": null,
   "id": "11124798",
   "metadata": {},
   "outputs": [],
   "source": [
    "print(\"Data train before removing pids:\",len(data_train))"
   ]
  },
  {
   "cell_type": "code",
   "execution_count": null,
   "id": "b1bfff4f",
   "metadata": {},
   "outputs": [],
   "source": [
    "data_train = data_train.filter(~pl.col('PATIENT_NUM').is_in(pids_1_feat_bmi_missing))\n",
    "# data_test = data_test.filter(~pl.col('PATIENT_NUM').is_in(pids_1_feat_bmi_missing))"
   ]
  },
  {
   "cell_type": "code",
   "execution_count": null,
   "id": "35197de4",
   "metadata": {},
   "outputs": [],
   "source": [
    "print(\"Data train after removing pids:\",len(data_train))"
   ]
  },
  {
   "cell_type": "code",
   "execution_count": null,
   "id": "5cc3b696",
   "metadata": {},
   "outputs": [],
   "source": [
    "X_train,y_train = data_train.drop(['PATIENT_NUM','FirstOutcomeDate','Outcome']).to_pandas(), data_train['Outcome'].to_pandas()\n",
    "X_test,y_test = data_test.drop(['PATIENT_NUM','FirstOutcomeDate','Outcome']).to_pandas(), data_test['Outcome'].to_pandas()"
   ]
  },
  {
   "cell_type": "code",
   "execution_count": null,
   "id": "16ee47a9",
   "metadata": {},
   "outputs": [],
   "source": [
    "model = CatBoostClassifier( auto_class_weights='Balanced',allow_writing_files=False,\n",
    "                                   task_type ='GPU',\n",
    "                                   silent=True)"
   ]
  },
  {
   "cell_type": "code",
   "execution_count": null,
   "id": "ff43a7ac",
   "metadata": {},
   "outputs": [],
   "source": [
    "model.fit(X_train,y_train)"
   ]
  },
  {
   "cell_type": "code",
   "execution_count": null,
   "id": "76071b79",
   "metadata": {},
   "outputs": [],
   "source": [
    "## Metrics\n",
    "conf_matrix, accuracy, roc_auc, sensitivity, specificity, auc_pr, cm = get_metrics(model,X_test, y_test)"
   ]
  },
  {
   "cell_type": "markdown",
   "id": "2e13b929",
   "metadata": {},
   "source": [
    "## TP, TN, FN and FP indexes"
   ]
  },
  {
   "cell_type": "code",
   "execution_count": null,
   "id": "703ce839",
   "metadata": {},
   "outputs": [],
   "source": [
    "# model  = CatBoostClassifier().load_model('../Determine_trained_models/Catboost'+ ml_config.file)"
   ]
  },
  {
   "cell_type": "code",
   "execution_count": null,
   "id": "60117d57",
   "metadata": {},
   "outputs": [],
   "source": [
    "# Assuming 'model' is your trained model and it has a predict method\n",
    "# Predict on the train data\n",
    "predictions = model.predict(X_test)\n",
    "\n",
    "# Boolean array where True indicates false positives\n",
    "false_positives_mask = (predictions == 1) & (y_test == 0)\n",
    "false_negatives_mask = (predictions == 0) & (y_test == 1)\n",
    "true_positives_mask = (predictions == 1) & (y_test == 1)\n",
    "true_negatives_mask = (predictions == 0) & (y_test == 0)\n",
    "# Get indices of false positives\n",
    "false_positive_indices = np.where(false_positives_mask)[0]\n",
    "false_negatives_indices = np.where(false_negatives_mask)[0]\n",
    "true_positives_indices = np.where(true_positives_mask)[0]\n",
    "true_negatives_indices = np.where(true_negatives_mask)[0]\n",
    "\n",
    "print(\"Indices of False Positives:\", false_positive_indices)\n",
    "print(\"Indices of False Negatives:\", false_negatives_indices)\n",
    "print(\"Indices of True Positives:\", true_positives_indices)\n",
    "print(\"Indices of True Negatives:\", true_negatives_indices)"
   ]
  },
  {
   "cell_type": "code",
   "execution_count": null,
   "id": "f82af6a2",
   "metadata": {},
   "outputs": [],
   "source": [
    "len(false_positive_indices)"
   ]
  },
  {
   "cell_type": "code",
   "execution_count": null,
   "id": "8773a57c",
   "metadata": {},
   "outputs": [],
   "source": [
    "len(false_negatives_indices)"
   ]
  },
  {
   "cell_type": "code",
   "execution_count": null,
   "id": "a2745b77",
   "metadata": {},
   "outputs": [],
   "source": [
    "data_test_pids_fp = data_test[false_positive_indices]['PATIENT_NUM'].to_list()\n",
    "data_test_pids_fn = data_test[false_negatives_indices]['PATIENT_NUM'].to_list()\n",
    "data_test_pids_tp = data_test[true_positives_indices]['PATIENT_NUM'].to_list()\n",
    "data_test_pids_tn = data_test[true_negatives_indices]['PATIENT_NUM'].to_list()\n"
   ]
  },
  {
   "cell_type": "code",
   "execution_count": null,
   "id": "090f6e37",
   "metadata": {},
   "outputs": [],
   "source": [
    "directory_path = f\"./FP_FN_{ml_config.file.split('.')[0]}\"\n",
    "\n",
    "# Create the directory\n",
    "os.makedirs(directory_path, exist_ok=True)"
   ]
  },
  {
   "cell_type": "code",
   "execution_count": null,
   "id": "4714f56f",
   "metadata": {},
   "outputs": [],
   "source": [
    "import pickle\n",
    "\n",
    "labels = {\n",
    "    'false_positives': data_test_pids_fp,\n",
    "    'false_negatives': data_test_pids_fn,\n",
    "    'true_positives': data_test_pids_tp,\n",
    "    'true_negatives': data_test_pids_tn\n",
    "}\n",
    "\n",
    "# Save all\n",
    "for label, data in labels.items():\n",
    "    with open(f'./{directory_path}/{ml_config.model_name}_{label}_pids_test.pkl', 'wb') as file:\n",
    "        pickle.dump(data, file)\n",
    "\n",
    "# Load all\n",
    "loaded = {}\n",
    "for label in labels:\n",
    "    with open(f'./{directory_path}/{ml_config.model_name}_{label}_pids_test.pkl', 'rb') as file:\n",
    "        loaded[label] = pickle.load(file)\n",
    "\n",
    "# Unpack if needed\n",
    "data_test_pids_fp = loaded['false_positives']\n",
    "data_test_pids_fn = loaded['false_negatives']\n",
    "data_test_pids_tp = loaded['true_positives']\n",
    "data_test_pids_tn = loaded['true_negatives']"
   ]
  },
  {
   "cell_type": "code",
   "execution_count": null,
   "id": "586ea2b4",
   "metadata": {},
   "outputs": [],
   "source": [
    "from datetime import datetime"
   ]
  },
  {
   "cell_type": "code",
   "execution_count": null,
   "id": "e4562241",
   "metadata": {},
   "outputs": [],
   "source": [
    "data_test.filter(pl.col('PATIENT_NUM').is_in(data_test_pids_fn)).sort('FirstOutcomeDate').filter(pl.col(\"FirstOutcomeDate\") < datetime(2019, 1, 2))\n",
    "          #,return_counts = True)"
   ]
  },
  {
   "cell_type": "code",
   "execution_count": null,
   "id": "7c623075",
   "metadata": {},
   "outputs": [],
   "source": [
    "data_test.filter(pl.col('PATIENT_NUM').is_in(data_test_pids_fp)).filter(pl.col(\"Outcome\")== 1)\n",
    "          #,return_counts = True)"
   ]
  },
  {
   "cell_type": "code",
   "execution_count": null,
   "id": "18790465",
   "metadata": {},
   "outputs": [],
   "source": [
    "data_test[[36, 54]]"
   ]
  },
  {
   "cell_type": "code",
   "execution_count": null,
   "id": "c4f04119",
   "metadata": {},
   "outputs": [],
   "source": []
  },
  {
   "cell_type": "markdown",
   "id": "ece22a13",
   "metadata": {},
   "source": [
    "## Feature Importance using SHaP"
   ]
  },
  {
   "cell_type": "code",
   "execution_count": null,
   "id": "da56aa4a",
   "metadata": {},
   "outputs": [],
   "source": [
    "import shap\n",
    "\n",
    "# Create a SHAP explainer\n",
    "explainer = shap.Explainer(model, X_train)\n",
    "\n",
    "# Calculate SHAP values\n",
    "shap_values = explainer(X_test)\n",
    "\n",
    "# Plot the summary\n",
    "shap.summary_plot(shap_values, X_test)"
   ]
  },
  {
   "cell_type": "markdown",
   "id": "99ca3688",
   "metadata": {},
   "source": [
    "# Fairness metrics"
   ]
  },
  {
   "cell_type": "code",
   "execution_count": null,
   "id": "3fafef4e",
   "metadata": {},
   "outputs": [],
   "source": []
  },
  {
   "cell_type": "markdown",
   "id": "d2d622af",
   "metadata": {},
   "source": [
    "# Sub-group performance"
   ]
  },
  {
   "cell_type": "code",
   "execution_count": null,
   "id": "5de9f06e",
   "metadata": {},
   "outputs": [],
   "source": [
    "## model to use\n",
    "model  = CatBoostClassifier().load_model('../Determine_trained_models/catboost_whole_dataset_phecodes_bmi_bp')"
   ]
  },
  {
   "cell_type": "code",
   "execution_count": null,
   "id": "2abd40c2",
   "metadata": {},
   "outputs": [],
   "source": [
    "X_test.columns[:15]"
   ]
  },
  {
   "cell_type": "code",
   "execution_count": null,
   "id": "b13d25c6",
   "metadata": {},
   "outputs": [],
   "source": [
    "y_test.values"
   ]
  },
  {
   "cell_type": "code",
   "execution_count": null,
   "id": "c7c19a54",
   "metadata": {},
   "outputs": [],
   "source": [
    "def predict_on_data(sub_x_test,sub_y_test, model):\n",
    "    y_pred = model.predict(sub_x_test)\n",
    "    y_pred_probs = model.predict_proba(sub_x_test)[:,1]\n",
    "    \n",
    "    tn, fp, fn, tp = confusion_matrix(sub_y_test, y_pred).ravel()\n",
    "\n",
    "    sensitivity = tp / (tp + fn)\n",
    "    specificity = tn / (tn + fp)\n",
    "\n",
    "    print(\"Sensitivity: \", sensitivity)\n",
    "    print(\"Specificity: \", specificity)\n",
    "    roc_auc = roc_auc_score(sub_y_test, y_pred_probs)\n",
    "    print(\"ROC curve: \", roc_auc)\n",
    "    \n",
    "    acc = accuracy_score(sub_y_test, y_pred)\n",
    "    print('Accuracy: ', acc)\n",
    "    return sensitivity, specificity, roc_auc, acc\n",
    "    \n",
    "     "
   ]
  },
  {
   "cell_type": "code",
   "execution_count": null,
   "id": "15478843",
   "metadata": {},
   "outputs": [],
   "source": [
    "# - **'DEM|RACE:01'**: White\n",
    "# - **'DEM|RACE:02'**: Black or African American\n",
    "# - **'DEM|RACE:03'**: Asian\n",
    "# - **'DEM|RACE:04'**: Native Hawaiian or Other Pacific Islander\n",
    "# - **'DEM|RACE:05'**: American Indian or Alaska Native\n",
    "# - **'DEM|RACE:06'**: Other or Unknown\n",
    "# - **'DEM|RACE:07'**: More than one race"
   ]
  },
  {
   "cell_type": "code",
   "execution_count": null,
   "id": "5fb57410",
   "metadata": {},
   "outputs": [],
   "source": [
    "import matplotlib.pyplot as plt"
   ]
  },
  {
   "cell_type": "code",
   "execution_count": null,
   "id": "1dfa2f77",
   "metadata": {},
   "outputs": [],
   "source": [
    "race_cols = [\n",
    "    \"Race_CD_01\",\n",
    "    \"Race_CD_02\",\n",
    "    \"Race_CD_03\",\n",
    "    \"Race_CD_04\",\n",
    "    \"Race_CD_05\",\n",
    "    \"Race_CD_06\",\n",
    "    \"Race_CD_07\",\n",
    "    \"Race_CD_UNK\"\n",
    "]\n",
    "\n",
    "races = []\n",
    "sens = []\n",
    "specs = []\n",
    "roc_aucs = []\n",
    "counts = []\n",
    "races = []\n",
    "class_1_count = []\n",
    "\n",
    "for col in race_cols:\n",
    "    if col.endswith('01'):\n",
    "        race = 'white'\n",
    "    if col.endswith('02'):\n",
    "        race = 'Black or African American'\n",
    "    if col.endswith('03'):\n",
    "        race = 'Asian'\n",
    "    if col.endswith('04'):\n",
    "        race = 'Native Hawaiian or Other Pacific Islander'\n",
    "    if col.endswith('05'):\n",
    "        race = 'American Indian or Alaska Native'\n",
    "    if col.endswith('06'):\n",
    "        race = 'Multiple Race'\n",
    "    if col.endswith('07'):\n",
    "        race = 'refuse to Answer'\n",
    "    elif col.endswith('UNK'):\n",
    "        race = 'UNK'\n",
    "        \n",
    "    print(\"Number of data points with race {} are: {}\".format( col, X_test[X_test[col]==1].shape[0] ))\n",
    "    \n",
    "    # Get indexes where the value is 1 for the current race column\n",
    "    X_test_race = X_test[X_test[col] == 1]\n",
    "    indexes = X_test_race.index\n",
    "    \n",
    "    # Retrieve the respective y_test data using these indexes\n",
    "    y_test_race = y_test.loc[indexes]\n",
    "    \n",
    "    sensitivity, specificity, roc_auc = predict_on_data(X_test_race, y_test_race, model)\n",
    "    races.append(race)\n",
    "    sens.append(sensitivity)\n",
    "    specs.append(specificity)\n",
    "    roc_aucs.append(roc_auc)\n",
    "    class_1_count.append(sum(y_test_race.values))\n",
    "    counts.append(X_test[X_test[col]==1].shape[0])\n",
    "    \n",
    "\n",
    "    "
   ]
  },
  {
   "cell_type": "code",
   "execution_count": null,
   "id": "5099b239",
   "metadata": {},
   "outputs": [],
   "source": [
    "df = pd.DataFrame({\n",
    "    'Race': races,\n",
    "    'counts':counts,\n",
    "    'class_1 count': class_1_count,\n",
    "    'Sensitivity': sens,\n",
    "    'Specificity': specs,\n",
    "    'ROC_AUC': roc_aucs\n",
    "})\n",
    "df"
   ]
  },
  {
   "cell_type": "code",
   "execution_count": null,
   "id": "49e2d830",
   "metadata": {},
   "outputs": [],
   "source": [
    "to_collapse = df.iloc[5:8]\n",
    "\n",
    "# Calculate the new collapsed row\n",
    "new_row = {\n",
    "    'Race': 'Collapsed Race',\n",
    "    'counts': to_collapse['counts'].sum(),\n",
    "    'class_1 count': to_collapse['class_1 count'].sum(),\n",
    "    'Sensitivity': to_collapse['Sensitivity'].mean(),\n",
    "    'Specificity': to_collapse['Specificity'].mean(),\n",
    "    'ROC_AUC': to_collapse['ROC_AUC'].mean()\n",
    "}\n",
    "\n",
    "# Drop the old rows and append the new row\n",
    "df = df.drop(index=range(5, 8)).append(new_row, ignore_index=True)"
   ]
  },
  {
   "cell_type": "code",
   "execution_count": null,
   "id": "acffd9fa",
   "metadata": {},
   "outputs": [],
   "source": [
    "new_row"
   ]
  },
  {
   "cell_type": "code",
   "execution_count": null,
   "id": "e957e4e3",
   "metadata": {},
   "outputs": [],
   "source": [
    "age_groups = np.unique(X_test['Age_group'].values)\n",
    "\n",
    "age_ranges = []\n",
    "sens = []\n",
    "specs = []\n",
    "roc_aucs = []\n",
    "counts =[]\n",
    "class_1_count = []\n",
    "\n",
    "races = []\n",
    "for age_enc in age_groups:\n",
    "    \n",
    "    if age_enc == 0:\n",
    "        age = '18-34'\n",
    "    elif age_enc == 1:\n",
    "        age = '35-44'\n",
    "    elif age_enc == 2:\n",
    "        age = '45-54'\n",
    "    elif age_enc == 3:\n",
    "        age = '54-65'\n",
    "    elif age_enc == 4:\n",
    "        age = '65-74'\n",
    "    else:\n",
    "        age = '75_older'\n",
    "        \n",
    "    print(\"Number of data points with age group {} are: {}\".format( age_enc, X_test[X_test['Age_group']== age_enc].shape[0] ))\n",
    "    \n",
    "    # Get indexes where the value is 1 for the current race column\n",
    "    X_test_race = X_test[X_test['Age_group']== age_enc]\n",
    "    indexes = X_test_race.index\n",
    "    \n",
    "    # Retrieve the respective y_test data using these indexes\n",
    "    y_test_race = y_test.loc[indexes]\n",
    "    \n",
    "    sensitivity, specificity, roc_auc = predict_on_data(X_test_race, y_test_race, model)\n",
    "    age_ranges.append(age)\n",
    "    sens.append(sensitivity)\n",
    "    specs.append(specificity)\n",
    "    roc_aucs.append(roc_auc)\n",
    "    class_1_count.append(sum(y_test_race.values))\n",
    "    counts.append(X_test[X_test['Age_group']== age_enc].shape[0])\n",
    "    \n",
    "#     # SHAP analysis for top features\n",
    "#     explainer = shap.TreeExplainer(model)\n",
    "#     shap_values = explainer.shap_values(X_test_race)\n",
    "    \n",
    "#     # Compute mean absolute SHAP values for each feature\n",
    "#     mean_shap_values = np.abs(shap_values).mean(axis=0)\n",
    "    \n",
    "#     # Get feature names\n",
    "#     feature_names = X_test_race.columns\n",
    "    \n",
    "#     # Get and display top 5 features for the current age group\n",
    "#     top_5_indices = np.argsort(mean_shap_values)[-5:][::-1]\n",
    "#     top_5_features = [feature_names[i] for i in top_5_indices]\n",
    "# #     top_features.append(top_5_features)\n",
    "    \n",
    "#     # Plotting top 5 features for the current age group\n",
    "#     plt.figure(figsize=(10, 6))\n",
    "#     sns.barplot(x=mean_shap_values[top_5_indices], y=[feature_names[i] for i in top_5_indices], palette=\"viridis\")\n",
    "#     plt.title(f\"Top 5 Features for Age Group {age}: SHAP Importance\")\n",
    "#     plt.xlabel(\"Mean SHAP Value (absolute)\")\n",
    "#     plt.ylabel(\"Features\")\n",
    "#     plt.show()\n",
    "    "
   ]
  },
  {
   "cell_type": "code",
   "execution_count": null,
   "id": "98542fd7",
   "metadata": {},
   "outputs": [],
   "source": [
    "df = pd.DataFrame({\n",
    "    'Age_Group': age_ranges,\n",
    "    'counts': counts,\n",
    "    'class_1 count': class_1_count,\n",
    "    'Sensitivity': sens,\n",
    "    'Specificity': specs,\n",
    "    'ROC_AUC': roc_aucs,\n",
    "})\n",
    "df"
   ]
  },
  {
   "cell_type": "markdown",
   "id": "7f534422",
   "metadata": {},
   "source": [
    "## Gender"
   ]
  },
  {
   "cell_type": "code",
   "execution_count": null,
   "id": "f0641137",
   "metadata": {},
   "outputs": [],
   "source": [
    "gender_cols = [\"Gender_CD_GQ\", \"Gender_CD_M\", \"Gender_CD_TG\", \"Gender_CD_UNK\", \"Gender_CD_W\"]"
   ]
  },
  {
   "cell_type": "code",
   "execution_count": null,
   "id": "d161e65f",
   "metadata": {},
   "outputs": [],
   "source": [
    "gender_list = []\n",
    "sens = []\n",
    "specs = []\n",
    "roc_aucs = []\n",
    "counts =[]\n",
    "class_1_count = []\n",
    "\n",
    "races = []\n",
    "for gen in gender_cols:\n",
    "    \n",
    "    if gen.endswith('GQ'):\n",
    "        gender = 'GenderQueer'\n",
    "    elif gen.endswith('M'):\n",
    "        gender = 'Man'\n",
    "    elif gen.endswith('W'):\n",
    "        gender = 'Woman'\n",
    "    elif gen.endswith('TG'):\n",
    "        gender = 'Transgender'\n",
    "    elif gen.endswith('UNK'):\n",
    "        gender = 'Unknown'\n",
    "\n",
    "        \n",
    "    print(\"Number of data points with gender group {} are: {}\".format( gender, X_test[X_test[gen]== 1].shape[0] ))\n",
    "    \n",
    "    # Get indexes where the value is 1 for the current race column\n",
    "    X_test_gen = X_test[X_test[gen]== 1]\n",
    "    indexes = X_test_gen.index\n",
    "    \n",
    "    # Retrieve the respective y_test data using these indexes\n",
    "    y_test_gen = y_test.loc[indexes]\n",
    "    \n",
    "    sensitivity, specificity, roc_auc,_ = predict_on_data(X_test_gen, y_test_gen, model)\n",
    "    gender_list.append(gender)\n",
    "    sens.append(sensitivity)\n",
    "    specs.append(specificity)\n",
    "    roc_aucs.append(roc_auc)\n",
    "    class_1_count.append(sum(y_test_gen.values))\n",
    "    counts.append(X_test[X_test[gen]== 1].shape[0])"
   ]
  },
  {
   "cell_type": "code",
   "execution_count": null,
   "id": "f70f941f",
   "metadata": {},
   "outputs": [],
   "source": [
    "df = pd.DataFrame({\n",
    "    'Gender': gender_list,\n",
    "    'counts': counts,\n",
    "    'class_1 count': class_1_count,\n",
    "    'Sensitivity': sens,\n",
    "    'Specificity': specs,\n",
    "    'ROC_AUC': roc_aucs,\n",
    "})\n",
    "df.reset_index(drop=True, inplace=True)\n",
    "df"
   ]
  },
  {
   "cell_type": "markdown",
   "id": "ceeea157",
   "metadata": {},
   "source": [
    "# 5-year performance"
   ]
  },
  {
   "cell_type": "code",
   "execution_count": null,
   "id": "29186aa1",
   "metadata": {},
   "outputs": [],
   "source": [
    "model  = CatBoostClassifier().load_model('../Determine_trained_models/catboost_whole_dataset_phecodes_bmi_bp')"
   ]
  },
  {
   "cell_type": "code",
   "execution_count": null,
   "id": "08a10928",
   "metadata": {},
   "outputs": [],
   "source": [
    "req_test_dates_df = test_data_firstoutcome_df.drop_nulls().to_pandas()\n",
    "req_test_dates_df"
   ]
  },
  {
   "cell_type": "code",
   "execution_count": null,
   "id": "68ab219b",
   "metadata": {},
   "outputs": [],
   "source": [
    "# Constants\n",
    "start_date = pd.Timestamp('2019-04-01')\n",
    "\n",
    "# Calculate the difference in years between the Index_Start_date and the start_date if data is available\n",
    "req_test_dates_df['year_difference'] = (req_test_dates_df['FirstOutcomeDate'] - start_date).dt.days / 365.25\n",
    "\n",
    "# Filter DataFrames based on year difference, ignore NaNs as they indicate missing data in cohort_df\n",
    "df_less_than_1 = req_test_dates_df[req_test_dates_df['year_difference'] < 1].dropna()\n",
    "df_1_to_2 = req_test_dates_df[(req_test_dates_df['year_difference'] >= 1) & (req_test_dates_df['year_difference'] < 2)].dropna()\n",
    "df_2_to_3 = req_test_dates_df[(req_test_dates_df['year_difference'] >= 2) & (req_test_dates_df['year_difference'] < 3)].dropna()\n",
    "df_3_to_4 = req_test_dates_df[(req_test_dates_df['year_difference'] >= 3) & (req_test_dates_df['year_difference'] < 4)].dropna()\n",
    "df_4_to_5 = req_test_dates_df[(req_test_dates_df['year_difference'] >= 4) & (req_test_dates_df['year_difference'] < 5)].dropna()"
   ]
  },
  {
   "cell_type": "code",
   "execution_count": null,
   "id": "1feabdc0",
   "metadata": {},
   "outputs": [],
   "source": [
    "year_ranges = []\n",
    "sens = []\n",
    "specs = []\n",
    "roc_aucs = []\n",
    "counts =[]\n",
    "class_1_count = []\n",
    "acc_scores = []"
   ]
  },
  {
   "cell_type": "code",
   "execution_count": null,
   "id": "2be89da0",
   "metadata": {},
   "outputs": [],
   "source": [
    "for i,buf_df in enumerate([df_less_than_1, df_1_to_2, df_2_to_3, df_3_to_4]):\n",
    "     # Use the index of buf_df\n",
    "    indices = buf_df.index\n",
    "    # Use the index to filter X_test\n",
    "    X_test_buf = X_test.loc[indices.intersection(X_test.index)]\n",
    "    y_test_buf = y_test.loc[indices.intersection(X_test.index)]\n",
    "    \n",
    "    if i == 0:\n",
    "        year ='Less than 1 year'\n",
    "    if i == 1:\n",
    "        year ='Between 1 and 2 year'\n",
    "    if i == 2:\n",
    "        year ='Between 2 and 3 year'\n",
    "    if i == 3:\n",
    "        year ='Between 3 and 4 year'\n",
    "    \n",
    "    print(year)\n",
    "    sensitivity, specificity, roc_auc, acc = predict_on_data(X_test_buf, y_test_buf, model)\n",
    "    year_ranges.append(year)\n",
    "    sens.append(sensitivity)\n",
    "    specs.append(specificity)\n",
    "    roc_aucs.append(roc_auc)\n",
    "    counts.append(len(y_test_buf))\n",
    "    acc_scores.append(acc)"
   ]
  },
  {
   "cell_type": "code",
   "execution_count": null,
   "id": "58eda881",
   "metadata": {},
   "outputs": [],
   "source": [
    "df = pd.DataFrame({\n",
    "    'Age_Group': year_ranges,\n",
    "    'counts (class 1)': counts,\n",
    "    'Accuracy (class 1)': acc_scores,\n",
    "    'Sensitivity': sens,\n",
    "    'Specificity': specs,\n",
    "    'ROC_AUC': roc_aucs,\n",
    "})\n",
    "df"
   ]
  },
  {
   "cell_type": "code",
   "execution_count": null,
   "id": "9a15a3d7",
   "metadata": {},
   "outputs": [],
   "source": []
  }
 ],
 "metadata": {
  "kernelspec": {
   "display_name": "conda_tensorflow2_p310",
   "language": "python",
   "name": "conda_tensorflow2_p310"
  },
  "language_info": {
   "codemirror_mode": {
    "name": "ipython",
    "version": 3
   },
   "file_extension": ".py",
   "mimetype": "text/x-python",
   "name": "python",
   "nbconvert_exporter": "python",
   "pygments_lexer": "ipython3",
   "version": "3.10.17"
  }
 },
 "nbformat": 4,
 "nbformat_minor": 5
}
