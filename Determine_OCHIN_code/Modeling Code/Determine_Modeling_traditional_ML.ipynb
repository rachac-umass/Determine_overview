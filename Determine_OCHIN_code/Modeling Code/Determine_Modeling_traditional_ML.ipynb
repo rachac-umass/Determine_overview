{
 "cells": [
  {
   "cell_type": "markdown",
   "id": "327f274c",
   "metadata": {},
   "source": [
    "# Installing required libraries"
   ]
  },
  {
   "cell_type": "code",
   "execution_count": 1,
   "id": "cc7d0591",
   "metadata": {},
   "outputs": [],
   "source": [
    "!pip install xgboost catboost polars optuna -q"
   ]
  },
  {
   "cell_type": "code",
   "execution_count": 2,
   "id": "4b7583e5",
   "metadata": {},
   "outputs": [],
   "source": [
    "!pip install scikit-learn-intelex -q"
   ]
  },
  {
   "cell_type": "code",
   "execution_count": 3,
   "id": "70a9e637",
   "metadata": {},
   "outputs": [],
   "source": [
    "!pip install mlflow -q"
   ]
  },
  {
   "cell_type": "markdown",
   "id": "d344a16b",
   "metadata": {},
   "source": [
    "# Importing required libraries"
   ]
  },
  {
   "cell_type": "code",
   "execution_count": 4,
   "id": "40228411",
   "metadata": {},
   "outputs": [
    {
     "name": "stderr",
     "output_type": "stream",
     "text": [
      "Matplotlib is building the font cache; this may take a moment.\n",
      "Intel(R) Extension for Scikit-learn* enabled (https://github.com/intel/scikit-learn-intelex)\n"
     ]
    }
   ],
   "source": [
    "import pandas as pd\n",
    "import polars as pl\n",
    "import optuna\n",
    "import pickle\n",
    "\n",
    "import joblib\n",
    "\n",
    "import numpy as np\n",
    "## Enabling intel optimizations to \n",
    "import matplotlib.pyplot as plt\n",
    "from sklearnex import patch_sklearn\n",
    "patch_sklearn()"
   ]
  },
  {
   "cell_type": "code",
   "execution_count": 5,
   "id": "f5a9894b",
   "metadata": {},
   "outputs": [],
   "source": [
    "import mlflow"
   ]
  },
  {
   "cell_type": "code",
   "execution_count": 6,
   "id": "120994b0",
   "metadata": {},
   "outputs": [],
   "source": [
    "from sklearn.model_selection import train_test_split\n",
    "from sklearn.metrics import classification_report,f1_score, roc_auc_score, accuracy_score"
   ]
  },
  {
   "cell_type": "markdown",
   "id": "173d0eb0",
   "metadata": {},
   "source": [
    "# Helper functions"
   ]
  },
  {
   "cell_type": "code",
   "execution_count": 7,
   "id": "2c4457c5",
   "metadata": {},
   "outputs": [],
   "source": [
    "# Helper functions\n",
    "def diag_med_lab_pid_exist_check(modeling_pids, diag_pid, medications_pid, lab_pid,age_data = None):\n",
    "    # Convert sets of pids for faster lookup\n",
    "    diag_pid_set = set(diag_pid)\n",
    "    medications_pid_set = set(medications_pid)\n",
    "    lab_pid_set = set(lab_pid)\n",
    "\n",
    "    # Create the result list using a single loop\n",
    "    if age_data:\n",
    "        result = [\n",
    "        f\"{age}_{int(pid in diag_pid_set)}{int(pid in medications_pid_set)}{int(pid in lab_pid_set)}\"\n",
    "        for pid,age in zip(modeling_pids,age_data)\n",
    "    ]\n",
    "    else:\n",
    "        result = [\n",
    "            f\"{int(pid in diag_pid_set)}{int(pid in medications_pid_set)}{int(pid in lab_pid_set)}\"\n",
    "            for pid in modeling_pids\n",
    "        ]\n",
    "    \n",
    "    return result"
   ]
  },
  {
   "cell_type": "code",
   "execution_count": 8,
   "id": "91111530",
   "metadata": {},
   "outputs": [],
   "source": [
    "from sklearn.metrics import accuracy_score, roc_auc_score, classification_report, confusion_matrix, average_precision_score\n",
    "\n",
    "def get_metrics(model, X_test, y_test):\n",
    "    y_pred = model.predict(X_test)\n",
    "    y_pred_proba = model.predict_proba(X_test)\n",
    "\n",
    "    accuracy = accuracy_score(y_test, y_pred)\n",
    "    print(\"Accuracy:\", accuracy)\n",
    "\n",
    "    roc_auc = roc_auc_score(y_test, y_pred_proba[:, 1])\n",
    "    print(\"AUC:\", roc_auc)\n",
    "\n",
    "    # Calculate the Precision-Recall AUC\n",
    "    auc_pr = average_precision_score(y_test, y_pred_proba[:, 1])\n",
    "    print(\"Precision-Recall AUC:\", auc_pr)\n",
    "\n",
    "    report = classification_report(y_test, y_pred)\n",
    "    print(\"Classification Report:\\n\", report)\n",
    "\n",
    "    # Compute confusion matrix\n",
    "    cm = confusion_matrix(y_test, y_pred)\n",
    "    TN, FP, FN, TP = cm.ravel()\n",
    "\n",
    "    # Calculate Sensitivity and Specificity\n",
    "    sensitivity = TP / (TP + FN) if (TP + FN) > 0 else 0  # handle division by zero\n",
    "    specificity = TN / (TN + FP) if (TN + FP) > 0 else 0  # handle division by zero\n",
    "\n",
    "    print(\"Sensitivity (Recall):\", sensitivity)\n",
    "    print(\"Specificity:\", specificity)\n",
    "    \n",
    "    return cm, accuracy, roc_auc, auc_pr, sensitivity, specificity, report"
   ]
  },
  {
   "cell_type": "markdown",
   "id": "df0f0686",
   "metadata": {},
   "source": [
    "# Config class"
   ]
  },
  {
   "cell_type": "code",
   "execution_count": 9,
   "id": "d7666974",
   "metadata": {},
   "outputs": [],
   "source": [
    "mlflow.set_tracking_uri(\"../Determine_ML_FLOW_Experiment\")"
   ]
  },
  {
   "cell_type": "code",
   "execution_count": 17,
   "id": "e05de974",
   "metadata": {},
   "outputs": [],
   "source": [
    "class ml_config:\n",
    "    base_folder ='../Determine_final_modeling_datasets/'\n",
    "    columns_to_ignore_cat = ['PATIENT_NUM','FirstOutcomeDate','Outcome']\n",
    "    target_column = 'Outcome'\n",
    "    file = 'Determine_joined_med_usage_lab_domain_expert_median_diag_phemap_with_icd10z_bmi_bp_cvs_ordinal_nominal_encoded.parquet'\n",
    "    \n",
    "    patient_enc_info_path = '../Determine_cohort_after_visit_index_details.parquet'\n",
    "    no_enc_ppid_experiment =  True\n",
    "    \n",
    "    mlflow_experiment_name = 'Test101_mlflow'\n",
    "    \n",
    "    model_name = 'catboost'\n",
    "    \n",
    "    "
   ]
  },
  {
   "cell_type": "markdown",
   "id": "48b02885",
   "metadata": {},
   "source": [
    "# Loading modeling data file"
   ]
  },
  {
   "cell_type": "code",
   "execution_count": 11,
   "id": "8e1394e5",
   "metadata": {},
   "outputs": [],
   "source": [
    "modeling_df = pl.read_parquet(ml_config.base_folder + ml_config.file)"
   ]
  },
  {
   "cell_type": "code",
   "execution_count": 12,
   "id": "d87fd71b",
   "metadata": {},
   "outputs": [
    {
     "data": {
      "text/html": [
       "<div><style>\n",
       ".dataframe > thead > tr,\n",
       ".dataframe > tbody > tr {\n",
       "  text-align: right;\n",
       "  white-space: pre-wrap;\n",
       "}\n",
       "</style>\n",
       "<small>shape: (0, 2_808)</small><table border=\"1\" class=\"dataframe\"><thead><tr><th>PATIENT_NUM</th><th>Age_group</th><th>FirstOutcomeDate</th><th>Outcome</th><th>nitrofurantoin</th><th>nystatin</th><th>atorvastatin</th><th>amlodipine</th><th>lisinopril_hydrochlorothiazide</th><th>tadalafil</th><th>albuterol</th><th>chlorthalidone</th><th>potassium chloride</th><th>vilanterol_fluticasone</th><th>hydrocortisone</th><th>lisinopril</th><th>sennosides, USP_docusate</th><th>mupirocin</th><th>folic acid</th><th>tamsulosin</th><th>meloxicam</th><th>amitriptyline</th><th>quetiapine</th><th>gabapentin</th><th>tranexamic acid</th><th>polyvinyl alcohol</th><th>terbinafine</th><th>ascorbic acid</th><th>ferrous sulfate</th><th>losartan</th><th>clavulanate_amoxicillin</th><th>penicillin V</th><th>duloxetine</th><th>clobetasol</th><th>methadone</th><th>bupropion</th><th>tretinoin</th><th>&hellip;</th><th>LOINC:14805-6</th><th>LOINC:62255-5</th><th>LOINC:13988-1</th><th>LOINC:18488-7</th><th>LOINC:21458-5</th><th>LOINC:60474-4</th><th>LOINC:734-4</th><th>LOINC:14118-4</th><th>LOINC:32693-4</th><th>LOINC:1994-3</th><th>LOINC:29945-3</th><th>mode_height</th><th>median_value</th><th>slope_weight</th><th>BMI</th><th>median_diastolic_value</th><th>slope_dia_bp</th><th>median_systolic_value</th><th>slope_sys_bp</th><th>ACS_MedHHIncome</th><th>ACS_GINI</th><th>ACS_Unemployment</th><th>ACS_pctPoverty100</th><th>ACS_pctCollGrad</th><th>Sex_CD_F</th><th>Sex_CD_M</th><th>Race_CD_01</th><th>Race_CD_02</th><th>Race_CD_03</th><th>Race_CD_04</th><th>Race_CD_05</th><th>Hispanic_CD_N</th><th>Hispanic_CD_Y</th><th>Gender_CD_GQ</th><th>Gender_CD_M</th><th>Gender_CD_TG</th><th>Gender_CD_W</th></tr><tr><td>i64</td><td>i64</td><td>datetime[μs]</td><td>i64</td><td>i32</td><td>i32</td><td>i32</td><td>i32</td><td>i32</td><td>i32</td><td>i32</td><td>i32</td><td>i32</td><td>i32</td><td>i32</td><td>i32</td><td>i32</td><td>i32</td><td>i32</td><td>i32</td><td>i32</td><td>i32</td><td>i32</td><td>i32</td><td>i32</td><td>i32</td><td>i32</td><td>i32</td><td>i32</td><td>i32</td><td>i32</td><td>i32</td><td>i32</td><td>i32</td><td>i32</td><td>i32</td><td>i32</td><td>&hellip;</td><td>f32</td><td>f32</td><td>f32</td><td>f32</td><td>f32</td><td>f32</td><td>f32</td><td>f32</td><td>f32</td><td>f32</td><td>f32</td><td>f32</td><td>f32</td><td>f32</td><td>f64</td><td>f32</td><td>f32</td><td>f32</td><td>f32</td><td>f32</td><td>f32</td><td>f32</td><td>f32</td><td>f32</td><td>u8</td><td>u8</td><td>u8</td><td>u8</td><td>u8</td><td>u8</td><td>u8</td><td>u8</td><td>u8</td><td>u8</td><td>u8</td><td>u8</td><td>u8</td></tr></thead><tbody></tbody></table></div>"
      ],
      "text/plain": [
       "shape: (0, 2_808)\n",
       "┌────────────┬───────────┬───────────┬─────────┬───┬───────────┬───────────┬───────────┬───────────┐\n",
       "│ PATIENT_NU ┆ Age_group ┆ FirstOutc ┆ Outcome ┆ … ┆ Gender_CD ┆ Gender_CD ┆ Gender_CD ┆ Gender_CD │\n",
       "│ M          ┆ ---       ┆ omeDate   ┆ ---     ┆   ┆ _GQ       ┆ _M        ┆ _TG       ┆ _W        │\n",
       "│ ---        ┆ i64       ┆ ---       ┆ i64     ┆   ┆ ---       ┆ ---       ┆ ---       ┆ ---       │\n",
       "│ i64        ┆           ┆ datetime[ ┆         ┆   ┆ u8        ┆ u8        ┆ u8        ┆ u8        │\n",
       "│            ┆           ┆ μs]       ┆         ┆   ┆           ┆           ┆           ┆           │\n",
       "╞════════════╪═══════════╪═══════════╪═════════╪═══╪═══════════╪═══════════╪═══════════╪═══════════╡\n",
       "└────────────┴───────────┴───────────┴─────────┴───┴───────────┴───────────┴───────────┴───────────┘"
      ]
     },
     "execution_count": 12,
     "metadata": {},
     "output_type": "execute_result"
    }
   ],
   "source": [
    "modeling_df.filter(pl.col('PATIENT_NUM') == 297249)"
   ]
  },
  {
   "cell_type": "code",
   "execution_count": 13,
   "id": "ad4b022c",
   "metadata": {},
   "outputs": [
    {
     "data": {
      "text/plain": [
       "(array([0, 1]), array([992825,  49388]))"
      ]
     },
     "execution_count": 13,
     "metadata": {},
     "output_type": "execute_result"
    }
   ],
   "source": [
    "np.unique(modeling_df['Outcome'].to_list(),return_counts = True)"
   ]
  },
  {
   "cell_type": "code",
   "execution_count": 14,
   "id": "72840f8a",
   "metadata": {},
   "outputs": [
    {
     "name": "stdout",
     "output_type": "stream",
     "text": [
      "Number of records after dropping the patients who dont have encounters after their index visit: 868792\n",
      "The target distribution is: (array([0, 1]), array([819404,  49388]))\n"
     ]
    }
   ],
   "source": [
    "if ml_config.no_enc_ppid_experiment:\n",
    "    modeling_patient_ids = modeling_df['PATIENT_NUM'].to_list()\n",
    "    pids_enc_info_after_vi = pl.read_parquet(ml_config.patient_enc_info_path)['PATIENT_NUM'].to_list()\n",
    "    pids_to_drop = set(modeling_patient_ids) - set(pids_enc_info_after_vi)\n",
    "    modeling_df = modeling_df.filter(((~pl.col('PATIENT_NUM').is_in(pids_to_drop)) & (pl.col('Outcome')==0)) | (pl.col('Outcome')==1))\n",
    "    print(\"Number of records after dropping the patients who dont have encounters after their index visit:\",len(modeling_df))\n",
    "    print(\"The target distribution is:\", np.unique(modeling_df['Outcome'].to_list(),return_counts = True) )"
   ]
  },
  {
   "cell_type": "code",
   "execution_count": 15,
   "id": "9214ffb2",
   "metadata": {},
   "outputs": [],
   "source": [
    "# modeling_df  = modeling_df.drop(ml_config.columns_to_drop)\n",
    "# modeling_df.head()"
   ]
  },
  {
   "cell_type": "code",
   "execution_count": 16,
   "id": "f0dd7ef1",
   "metadata": {},
   "outputs": [
    {
     "ename": "SyntaxError",
     "evalue": "invalid syntax (4056229119.py, line 15)",
     "output_type": "error",
     "traceback": [
      "\u001b[0;36m  Cell \u001b[0;32mIn[16], line 15\u001b[0;36m\u001b[0m\n\u001b[0;31m    numerical_features =\u001b[0m\n\u001b[0m                         ^\u001b[0m\n\u001b[0;31mSyntaxError\u001b[0m\u001b[0;31m:\u001b[0m invalid syntax\n"
     ]
    }
   ],
   "source": [
    "### Defining categorical columns\n",
    "cat_features = [col for col in modeling_df.columns if  not (col.startswith('LOINC') \n",
    "                                                            or col in ml_config.columns_to_ignore_cat\n",
    "                                                            or col in ['BMI',\n",
    "                                                                       'mode_height',\n",
    "                                                                       'average_weight',\n",
    "                                                                         'average_diastolic_value',\n",
    "                                                                         'average_systolic_value',\n",
    "                                                                          \"ACS_MedHHIncome\", \n",
    "                                                                       \"ACS_GINI\", \n",
    "                                                                       \"ACS_Unemployment\", \n",
    "                                                                       \"ACS_pctPoverty100\", \n",
    "                                                                       \"ACS_pctCollGrad\"]\n",
    "                                                                          )]\n",
    "numerical_features = [col for col in modeling_df.columns if col.startswith('LOINC') \n",
    "                                                            or col not in ml_config.columns_to_ignore_cat\n",
    "                                                            or col in ['BMI',\n",
    "                                                                       'mode_height',\n",
    "                                                                       'average_weight',\n",
    "                                                                         'average_diastolic_value',\n",
    "                                                                         'average_systolic_value',\n",
    "                                                                          \"ACS_MedHHIncome\", \n",
    "                                                                       \"ACS_GINI\", \n",
    "                                                                       \"ACS_Unemployment\", \n",
    "                                                                       \"ACS_pctPoverty100\", \n",
    "                                                                       \"ACS_pctCollGrad\"]\n",
    "                                                                          ] +\n",
    "                                                                        [\n",
    "                                                                            \"mode_height\",\n",
    "                                                                            \"median_value\",\n",
    "                                                                            \"slope_weight\",\n",
    "                                                                            \"BMI\",\n",
    "                                                                            \"median_diastolic_value\",\n",
    "                                                                            \"slope_dia_bp\",\n",
    "                                                                            \"median_systolic_value\",\n",
    "                                                                            \"slope_sys_bp\"\n",
    "                                                                        ]"
   ]
  },
  {
   "cell_type": "code",
   "execution_count": null,
   "id": "230cb66b",
   "metadata": {},
   "outputs": [],
   "source": [
    "'average_weight' in cat_features"
   ]
  },
  {
   "cell_type": "code",
   "execution_count": null,
   "id": "13e40e62",
   "metadata": {},
   "outputs": [],
   "source": [
    "print(\"Number of categorical features: \",len(cat_features))\n",
    "print(\"Number of numerical features: \",len(numerical_features))"
   ]
  },
  {
   "cell_type": "code",
   "execution_count": null,
   "id": "b21658db",
   "metadata": {},
   "outputs": [],
   "source": [
    "loinc_columns = [col for col in modeling_df.columns if col.startswith('LOINC')]\n",
    "print(\"Number of lab results features: \",len(loinc_codes))"
   ]
  },
  {
   "cell_type": "code",
   "execution_count": null,
   "id": "1bdc9d05",
   "metadata": {},
   "outputs": [],
   "source": [
    "### VERY IMPORTANT!!!!\n",
    "modeling_df = modeling_df.with_columns([\n",
    "    pl.col(col).cast(pl.Float32)\n",
    "    for col in loinc_columns\n",
    "])"
   ]
  },
  {
   "cell_type": "code",
   "execution_count": null,
   "id": "cccb3ddc",
   "metadata": {},
   "outputs": [],
   "source": [
    "modeling_df.head()"
   ]
  },
  {
   "cell_type": "markdown",
   "id": "b09862a3",
   "metadata": {},
   "source": [
    "# Train/test split"
   ]
  },
  {
   "cell_type": "code",
   "execution_count": null,
   "id": "5c014d26",
   "metadata": {},
   "outputs": [],
   "source": [
    "data_train_pids, data_test_pids = train_test_split(modeling_df['PATIENT_NUM'], test_size=0.2, stratify=modeling_df['Outcome'], random_state = 42)"
   ]
  },
  {
   "cell_type": "code",
   "execution_count": null,
   "id": "8877c12b",
   "metadata": {},
   "outputs": [],
   "source": [
    "train_pids = data_train_pids.to_list()\n",
    "test_pids = data_test_pids.to_list()"
   ]
  },
  {
   "cell_type": "code",
   "execution_count": null,
   "id": "41aeb326",
   "metadata": {},
   "outputs": [],
   "source": [
    "len(test_pids)"
   ]
  },
  {
   "cell_type": "code",
   "execution_count": null,
   "id": "fa9b64cf",
   "metadata": {},
   "outputs": [],
   "source": [
    "## saving test pids\n",
    "# with open('test_data_pids.pkl', 'wb') as file: \n",
    "#     # A new file will be created \n",
    "#     pickle.dump(test_pids, file) \n",
    "    \n",
    "# with open('train_data_pids.pkl', 'wb') as file: \n",
    "#     # A new file will be created \n",
    "#     pickle.dump(train_pids, file) \n",
    "\n",
    "# Open the file in binary mode \n",
    "# with open('train_data_pids.pkl', 'rb') as file: \n",
    "#     train_pids = pickle.load(file) \n",
    "# with open('test_data_pids.pkl', 'rb') as file: \n",
    "#     test_pids = pickle.load(file) "
   ]
  },
  {
   "cell_type": "code",
   "execution_count": null,
   "id": "9481a5a3",
   "metadata": {},
   "outputs": [],
   "source": [
    "data_train = modeling_df.filter(pl.col('PATIENT_NUM').is_in(train_pids))\n",
    "data_test = modeling_df.filter(pl.col('PATIENT_NUM').is_in(test_pids))"
   ]
  },
  {
   "cell_type": "code",
   "execution_count": 25,
   "id": "ff971b61",
   "metadata": {},
   "outputs": [
    {
     "data": {
      "text/html": [
       "<div><style>\n",
       ".dataframe > thead > tr,\n",
       ".dataframe > tbody > tr {\n",
       "  text-align: right;\n",
       "  white-space: pre-wrap;\n",
       "}\n",
       "</style>\n",
       "<small>shape: (173_759, 2_808)</small><table border=\"1\" class=\"dataframe\"><thead><tr><th>PATIENT_NUM</th><th>Age_group</th><th>FirstOutcomeDate</th><th>Outcome</th><th>nitrofurantoin</th><th>nystatin</th><th>atorvastatin</th><th>amlodipine</th><th>lisinopril_hydrochlorothiazide</th><th>tadalafil</th><th>albuterol</th><th>chlorthalidone</th><th>potassium chloride</th><th>vilanterol_fluticasone</th><th>hydrocortisone</th><th>lisinopril</th><th>sennosides, USP_docusate</th><th>mupirocin</th><th>folic acid</th><th>tamsulosin</th><th>meloxicam</th><th>amitriptyline</th><th>quetiapine</th><th>gabapentin</th><th>tranexamic acid</th><th>polyvinyl alcohol</th><th>terbinafine</th><th>ascorbic acid</th><th>ferrous sulfate</th><th>losartan</th><th>clavulanate_amoxicillin</th><th>penicillin V</th><th>duloxetine</th><th>clobetasol</th><th>methadone</th><th>bupropion</th><th>tretinoin</th><th>&hellip;</th><th>LOINC:14805-6</th><th>LOINC:62255-5</th><th>LOINC:13988-1</th><th>LOINC:18488-7</th><th>LOINC:21458-5</th><th>LOINC:60474-4</th><th>LOINC:734-4</th><th>LOINC:14118-4</th><th>LOINC:32693-4</th><th>LOINC:1994-3</th><th>LOINC:29945-3</th><th>mode_height</th><th>median_value</th><th>slope_weight</th><th>BMI</th><th>median_diastolic_value</th><th>slope_dia_bp</th><th>median_systolic_value</th><th>slope_sys_bp</th><th>ACS_MedHHIncome</th><th>ACS_GINI</th><th>ACS_Unemployment</th><th>ACS_pctPoverty100</th><th>ACS_pctCollGrad</th><th>Sex_CD_F</th><th>Sex_CD_M</th><th>Race_CD_01</th><th>Race_CD_02</th><th>Race_CD_03</th><th>Race_CD_04</th><th>Race_CD_05</th><th>Hispanic_CD_N</th><th>Hispanic_CD_Y</th><th>Gender_CD_GQ</th><th>Gender_CD_M</th><th>Gender_CD_TG</th><th>Gender_CD_W</th></tr><tr><td>i64</td><td>i64</td><td>datetime[μs]</td><td>i64</td><td>i32</td><td>i32</td><td>i32</td><td>i32</td><td>i32</td><td>i32</td><td>i32</td><td>i32</td><td>i32</td><td>i32</td><td>i32</td><td>i32</td><td>i32</td><td>i32</td><td>i32</td><td>i32</td><td>i32</td><td>i32</td><td>i32</td><td>i32</td><td>i32</td><td>i32</td><td>i32</td><td>i32</td><td>i32</td><td>i32</td><td>i32</td><td>i32</td><td>i32</td><td>i32</td><td>i32</td><td>i32</td><td>i32</td><td>&hellip;</td><td>f32</td><td>f32</td><td>f32</td><td>f32</td><td>f32</td><td>f32</td><td>f32</td><td>f32</td><td>f32</td><td>f32</td><td>f32</td><td>f32</td><td>f32</td><td>f32</td><td>f64</td><td>f32</td><td>f32</td><td>f32</td><td>f32</td><td>f32</td><td>f32</td><td>f32</td><td>f32</td><td>f32</td><td>u8</td><td>u8</td><td>u8</td><td>u8</td><td>u8</td><td>u8</td><td>u8</td><td>u8</td><td>u8</td><td>u8</td><td>u8</td><td>u8</td><td>u8</td></tr></thead><tbody><tr><td>9958038</td><td>1</td><td>null</td><td>0</td><td>0</td><td>0</td><td>0</td><td>0</td><td>0</td><td>0</td><td>0</td><td>0</td><td>0</td><td>0</td><td>0</td><td>0</td><td>0</td><td>0</td><td>0</td><td>0</td><td>0</td><td>0</td><td>0</td><td>0</td><td>0</td><td>0</td><td>0</td><td>0</td><td>0</td><td>0</td><td>0</td><td>0</td><td>0</td><td>0</td><td>0</td><td>0</td><td>0</td><td>&hellip;</td><td>-100.0</td><td>-100.0</td><td>-100.0</td><td>-100.0</td><td>-100.0</td><td>-100.0</td><td>-100.0</td><td>-100.0</td><td>-100.0</td><td>-100.0</td><td>-100.0</td><td>62.25</td><td>134.199997</td><td>-0.199997</td><td>24.346085</td><td>62.5</td><td>4.3</td><td>106.5</td><td>-4.9</td><td>120772.0</td><td>38.360001</td><td>2.55798</td><td>5.60921</td><td>41.368198</td><td>1</td><td>0</td><td>0</td><td>0</td><td>0</td><td>0</td><td>0</td><td>0</td><td>1</td><td>0</td><td>0</td><td>0</td><td>1</td></tr><tr><td>7615966</td><td>4</td><td>null</td><td>0</td><td>0</td><td>0</td><td>0</td><td>0</td><td>0</td><td>0</td><td>0</td><td>0</td><td>0</td><td>0</td><td>0</td><td>0</td><td>0</td><td>0</td><td>0</td><td>0</td><td>0</td><td>0</td><td>0</td><td>0</td><td>0</td><td>0</td><td>0</td><td>0</td><td>0</td><td>0</td><td>0</td><td>0</td><td>0</td><td>0</td><td>0</td><td>0</td><td>0</td><td>&hellip;</td><td>-100.0</td><td>-100.0</td><td>-100.0</td><td>-100.0</td><td>-100.0</td><td>-100.0</td><td>-100.0</td><td>-100.0</td><td>-100.0</td><td>-100.0</td><td>-100.0</td><td>-100.0</td><td>-100.0</td><td>-100.0</td><td>-100.0</td><td>100.0</td><td>0.0</td><td>134.0</td><td>0.0</td><td>57422.0</td><td>40.57</td><td>2.27416</td><td>21.816099</td><td>5.5336</td><td>1</td><td>0</td><td>0</td><td>0</td><td>0</td><td>0</td><td>1</td><td>1</td><td>0</td><td>0</td><td>0</td><td>0</td><td>1</td></tr><tr><td>9387592</td><td>3</td><td>null</td><td>0</td><td>0</td><td>0</td><td>0</td><td>0</td><td>0</td><td>0</td><td>0</td><td>0</td><td>0</td><td>0</td><td>0</td><td>0</td><td>0</td><td>0</td><td>0</td><td>0</td><td>0</td><td>0</td><td>0</td><td>0</td><td>0</td><td>0</td><td>0</td><td>0</td><td>0</td><td>0</td><td>0</td><td>0</td><td>0</td><td>0</td><td>0</td><td>0</td><td>0</td><td>&hellip;</td><td>-100.0</td><td>-100.0</td><td>-100.0</td><td>-100.0</td><td>-100.0</td><td>-100.0</td><td>-100.0</td><td>-100.0</td><td>-100.0</td><td>-100.0</td><td>-100.0</td><td>67.0</td><td>222.0</td><td>2.5</td><td>34.766316</td><td>72.0</td><td>-2.0</td><td>119.0</td><td>1.5</td><td>85047.0</td><td>40.709999</td><td>2.94748</td><td>6.97079</td><td>34.150398</td><td>0</td><td>1</td><td>0</td><td>0</td><td>0</td><td>0</td><td>1</td><td>1</td><td>0</td><td>0</td><td>1</td><td>0</td><td>0</td></tr><tr><td>10655534</td><td>5</td><td>null</td><td>0</td><td>0</td><td>0</td><td>0</td><td>0</td><td>0</td><td>0</td><td>0</td><td>0</td><td>0</td><td>0</td><td>0</td><td>0</td><td>0</td><td>0</td><td>0</td><td>0</td><td>0</td><td>0</td><td>0</td><td>0</td><td>0</td><td>0</td><td>0</td><td>0</td><td>0</td><td>0</td><td>0</td><td>0</td><td>0</td><td>0</td><td>0</td><td>0</td><td>0</td><td>&hellip;</td><td>-100.0</td><td>-100.0</td><td>-100.0</td><td>-100.0</td><td>-100.0</td><td>-100.0</td><td>-100.0</td><td>-100.0</td><td>-100.0</td><td>-100.0</td><td>-100.0</td><td>-100.0</td><td>-100.0</td><td>-100.0</td><td>-100.0</td><td>-100.0</td><td>-100.0</td><td>-100.0</td><td>-100.0</td><td>67599.0</td><td>45.59</td><td>3.90124</td><td>11.2949</td><td>32.2836</td><td>1</td><td>0</td><td>0</td><td>0</td><td>0</td><td>0</td><td>1</td><td>0</td><td>1</td><td>0</td><td>0</td><td>0</td><td>1</td></tr><tr><td>3693315</td><td>1</td><td>null</td><td>0</td><td>0</td><td>0</td><td>0</td><td>0</td><td>0</td><td>0</td><td>0</td><td>0</td><td>0</td><td>0</td><td>0</td><td>1</td><td>0</td><td>0</td><td>0</td><td>0</td><td>0</td><td>0</td><td>0</td><td>0</td><td>0</td><td>0</td><td>0</td><td>0</td><td>0</td><td>0</td><td>0</td><td>0</td><td>0</td><td>0</td><td>0</td><td>0</td><td>0</td><td>&hellip;</td><td>-100.0</td><td>-100.0</td><td>-100.0</td><td>-100.0</td><td>-100.0</td><td>-100.0</td><td>-100.0</td><td>-100.0</td><td>-100.0</td><td>-100.0</td><td>-100.0</td><td>72.0</td><td>165.0</td><td>-0.5</td><td>22.37558</td><td>90.0</td><td>5.5</td><td>140.0</td><td>-4.6927e-16</td><td>67147.0</td><td>45.27</td><td>4.77789</td><td>29.688499</td><td>52.203701</td><td>0</td><td>1</td><td>0</td><td>0</td><td>1</td><td>0</td><td>0</td><td>1</td><td>0</td><td>0</td><td>1</td><td>0</td><td>0</td></tr><tr><td>&hellip;</td><td>&hellip;</td><td>&hellip;</td><td>&hellip;</td><td>&hellip;</td><td>&hellip;</td><td>&hellip;</td><td>&hellip;</td><td>&hellip;</td><td>&hellip;</td><td>&hellip;</td><td>&hellip;</td><td>&hellip;</td><td>&hellip;</td><td>&hellip;</td><td>&hellip;</td><td>&hellip;</td><td>&hellip;</td><td>&hellip;</td><td>&hellip;</td><td>&hellip;</td><td>&hellip;</td><td>&hellip;</td><td>&hellip;</td><td>&hellip;</td><td>&hellip;</td><td>&hellip;</td><td>&hellip;</td><td>&hellip;</td><td>&hellip;</td><td>&hellip;</td><td>&hellip;</td><td>&hellip;</td><td>&hellip;</td><td>&hellip;</td><td>&hellip;</td><td>&hellip;</td><td>&hellip;</td><td>&hellip;</td><td>&hellip;</td><td>&hellip;</td><td>&hellip;</td><td>&hellip;</td><td>&hellip;</td><td>&hellip;</td><td>&hellip;</td><td>&hellip;</td><td>&hellip;</td><td>&hellip;</td><td>&hellip;</td><td>&hellip;</td><td>&hellip;</td><td>&hellip;</td><td>&hellip;</td><td>&hellip;</td><td>&hellip;</td><td>&hellip;</td><td>&hellip;</td><td>&hellip;</td><td>&hellip;</td><td>&hellip;</td><td>&hellip;</td><td>&hellip;</td><td>&hellip;</td><td>&hellip;</td><td>&hellip;</td><td>&hellip;</td><td>&hellip;</td><td>&hellip;</td><td>&hellip;</td><td>&hellip;</td><td>&hellip;</td><td>&hellip;</td><td>&hellip;</td><td>&hellip;</td></tr><tr><td>2030050</td><td>3</td><td>null</td><td>0</td><td>0</td><td>0</td><td>0</td><td>0</td><td>0</td><td>0</td><td>0</td><td>0</td><td>0</td><td>0</td><td>0</td><td>0</td><td>0</td><td>0</td><td>0</td><td>0</td><td>0</td><td>0</td><td>0</td><td>0</td><td>0</td><td>0</td><td>0</td><td>0</td><td>0</td><td>0</td><td>0</td><td>0</td><td>0</td><td>0</td><td>0</td><td>0</td><td>0</td><td>&hellip;</td><td>-100.0</td><td>-100.0</td><td>-100.0</td><td>-100.0</td><td>-100.0</td><td>-100.0</td><td>-100.0</td><td>-100.0</td><td>-100.0</td><td>-100.0</td><td>-100.0</td><td>68.5</td><td>134.0</td><td>0.2</td><td>20.076083</td><td>72.5</td><td>-0.9</td><td>117.0</td><td>-0.8</td><td>59062.0</td><td>42.5</td><td>3.78051</td><td>17.4809</td><td>24.3978</td><td>0</td><td>1</td><td>0</td><td>0</td><td>0</td><td>0</td><td>1</td><td>1</td><td>0</td><td>0</td><td>1</td><td>0</td><td>0</td></tr><tr><td>7740621</td><td>0</td><td>null</td><td>0</td><td>0</td><td>0</td><td>0</td><td>0</td><td>0</td><td>0</td><td>0</td><td>0</td><td>0</td><td>0</td><td>0</td><td>0</td><td>0</td><td>0</td><td>0</td><td>0</td><td>0</td><td>0</td><td>0</td><td>0</td><td>0</td><td>0</td><td>0</td><td>0</td><td>0</td><td>0</td><td>0</td><td>0</td><td>0</td><td>0</td><td>0</td><td>0</td><td>0</td><td>&hellip;</td><td>-100.0</td><td>-100.0</td><td>-100.0</td><td>-100.0</td><td>-100.0</td><td>-100.0</td><td>-100.0</td><td>-100.0</td><td>-100.0</td><td>-100.0</td><td>-100.0</td><td>65.0</td><td>115.0</td><td>0.0</td><td>19.134911</td><td>62.0</td><td>0.0</td><td>104.0</td><td>0.0</td><td>34075.0</td><td>48.869999</td><td>3.82143</td><td>25.0921</td><td>19.6677</td><td>1</td><td>0</td><td>0</td><td>0</td><td>0</td><td>0</td><td>1</td><td>1</td><td>0</td><td>0</td><td>0</td><td>0</td><td>1</td></tr><tr><td>5092649</td><td>1</td><td>null</td><td>0</td><td>0</td><td>0</td><td>0</td><td>0</td><td>0</td><td>0</td><td>1</td><td>0</td><td>0</td><td>0</td><td>0</td><td>0</td><td>0</td><td>0</td><td>0</td><td>0</td><td>0</td><td>0</td><td>0</td><td>0</td><td>0</td><td>0</td><td>0</td><td>0</td><td>0</td><td>0</td><td>0</td><td>0</td><td>0</td><td>0</td><td>0</td><td>0</td><td>0</td><td>&hellip;</td><td>-100.0</td><td>-100.0</td><td>-100.0</td><td>-100.0</td><td>-100.0</td><td>-100.0</td><td>-100.0</td><td>-100.0</td><td>-100.0</td><td>-100.0</td><td>-100.0</td><td>65.0</td><td>139.0</td><td>3.5</td><td>23.128285</td><td>62.0</td><td>3.0</td><td>110.0</td><td>-7.0</td><td>58590.0</td><td>53.290001</td><td>2.96276</td><td>18.1803</td><td>60.6026</td><td>1</td><td>0</td><td>0</td><td>0</td><td>0</td><td>0</td><td>1</td><td>1</td><td>0</td><td>0</td><td>0</td><td>0</td><td>1</td></tr><tr><td>601971</td><td>0</td><td>null</td><td>0</td><td>0</td><td>0</td><td>0</td><td>0</td><td>0</td><td>0</td><td>0</td><td>0</td><td>0</td><td>0</td><td>0</td><td>0</td><td>0</td><td>0</td><td>0</td><td>0</td><td>0</td><td>0</td><td>0</td><td>0</td><td>0</td><td>0</td><td>0</td><td>0</td><td>0</td><td>0</td><td>0</td><td>0</td><td>0</td><td>0</td><td>0</td><td>0</td><td>0</td><td>&hellip;</td><td>-100.0</td><td>-100.0</td><td>-100.0</td><td>-100.0</td><td>-100.0</td><td>-100.0</td><td>-100.0</td><td>-100.0</td><td>-100.0</td><td>-100.0</td><td>-100.0</td><td>66.93</td><td>151.800003</td><td>6.399994</td><td>23.822395</td><td>61.5</td><td>1.3</td><td>114.5</td><td>3.3</td><td>103421.0</td><td>38.419998</td><td>4.40513</td><td>4.33584</td><td>54.3027</td><td>1</td><td>0</td><td>0</td><td>0</td><td>0</td><td>0</td><td>1</td><td>1</td><td>0</td><td>0</td><td>0</td><td>0</td><td>1</td></tr><tr><td>690506</td><td>1</td><td>null</td><td>0</td><td>0</td><td>0</td><td>0</td><td>0</td><td>0</td><td>0</td><td>0</td><td>0</td><td>0</td><td>0</td><td>0</td><td>0</td><td>0</td><td>0</td><td>0</td><td>0</td><td>0</td><td>0</td><td>0</td><td>0</td><td>0</td><td>0</td><td>0</td><td>0</td><td>0</td><td>0</td><td>0</td><td>0</td><td>0</td><td>0</td><td>0</td><td>0</td><td>0</td><td>&hellip;</td><td>-100.0</td><td>-100.0</td><td>-100.0</td><td>-100.0</td><td>-100.0</td><td>-100.0</td><td>-100.0</td><td>-100.0</td><td>-100.0</td><td>-100.0</td><td>-100.0</td><td>67.0</td><td>174.0</td><td>0.840476</td><td>27.249277</td><td>73.0</td><td>0.190476</td><td>113.0</td><td>1.761905</td><td>48913.0</td><td>47.009998</td><td>3.26261</td><td>16.681999</td><td>27.288099</td><td>1</td><td>0</td><td>0</td><td>0</td><td>0</td><td>0</td><td>1</td><td>1</td><td>0</td><td>0</td><td>0</td><td>0</td><td>1</td></tr></tbody></table></div>"
      ],
      "text/plain": [
       "shape: (173_759, 2_808)\n",
       "┌────────────┬───────────┬───────────┬─────────┬───┬───────────┬───────────┬───────────┬───────────┐\n",
       "│ PATIENT_NU ┆ Age_group ┆ FirstOutc ┆ Outcome ┆ … ┆ Gender_CD ┆ Gender_CD ┆ Gender_CD ┆ Gender_CD │\n",
       "│ M          ┆ ---       ┆ omeDate   ┆ ---     ┆   ┆ _GQ       ┆ _M        ┆ _TG       ┆ _W        │\n",
       "│ ---        ┆ i64       ┆ ---       ┆ i64     ┆   ┆ ---       ┆ ---       ┆ ---       ┆ ---       │\n",
       "│ i64        ┆           ┆ datetime[ ┆         ┆   ┆ u8        ┆ u8        ┆ u8        ┆ u8        │\n",
       "│            ┆           ┆ μs]       ┆         ┆   ┆           ┆           ┆           ┆           │\n",
       "╞════════════╪═══════════╪═══════════╪═════════╪═══╪═══════════╪═══════════╪═══════════╪═══════════╡\n",
       "│ 9958038    ┆ 1         ┆ null      ┆ 0       ┆ … ┆ 0         ┆ 0         ┆ 0         ┆ 1         │\n",
       "│ 7615966    ┆ 4         ┆ null      ┆ 0       ┆ … ┆ 0         ┆ 0         ┆ 0         ┆ 1         │\n",
       "│ 9387592    ┆ 3         ┆ null      ┆ 0       ┆ … ┆ 0         ┆ 1         ┆ 0         ┆ 0         │\n",
       "│ 10655534   ┆ 5         ┆ null      ┆ 0       ┆ … ┆ 0         ┆ 0         ┆ 0         ┆ 1         │\n",
       "│ 3693315    ┆ 1         ┆ null      ┆ 0       ┆ … ┆ 0         ┆ 1         ┆ 0         ┆ 0         │\n",
       "│ …          ┆ …         ┆ …         ┆ …       ┆ … ┆ …         ┆ …         ┆ …         ┆ …         │\n",
       "│ 2030050    ┆ 3         ┆ null      ┆ 0       ┆ … ┆ 0         ┆ 1         ┆ 0         ┆ 0         │\n",
       "│ 7740621    ┆ 0         ┆ null      ┆ 0       ┆ … ┆ 0         ┆ 0         ┆ 0         ┆ 1         │\n",
       "│ 5092649    ┆ 1         ┆ null      ┆ 0       ┆ … ┆ 0         ┆ 0         ┆ 0         ┆ 1         │\n",
       "│ 601971     ┆ 0         ┆ null      ┆ 0       ┆ … ┆ 0         ┆ 0         ┆ 0         ┆ 1         │\n",
       "│ 690506     ┆ 1         ┆ null      ┆ 0       ┆ … ┆ 0         ┆ 0         ┆ 0         ┆ 1         │\n",
       "└────────────┴───────────┴───────────┴─────────┴───┴───────────┴───────────┴───────────┴───────────┘"
      ]
     },
     "execution_count": 25,
     "metadata": {},
     "output_type": "execute_result"
    }
   ],
   "source": [
    "data_test"
   ]
  },
  {
   "cell_type": "code",
   "execution_count": 26,
   "id": "d61249ce",
   "metadata": {},
   "outputs": [
    {
     "data": {
      "text/plain": [
       "(array([0, 1]), array([163881,   9878]))"
      ]
     },
     "execution_count": 26,
     "metadata": {},
     "output_type": "execute_result"
    }
   ],
   "source": [
    "np.unique(data_test['Outcome'].to_list(), return_counts =True)"
   ]
  },
  {
   "cell_type": "code",
   "execution_count": 27,
   "id": "aa42aecc",
   "metadata": {},
   "outputs": [],
   "source": [
    "del modeling_df"
   ]
  },
  {
   "cell_type": "code",
   "execution_count": 28,
   "id": "34ac8918",
   "metadata": {},
   "outputs": [],
   "source": [
    "test_data_firstoutcome_df = data_test.select(['PATIENT_NUM','FirstOutcomeDate','Outcome'])"
   ]
  },
  {
   "cell_type": "code",
   "execution_count": 29,
   "id": "60a86ce2",
   "metadata": {},
   "outputs": [],
   "source": [
    "X_train,y_train = data_train.drop(['PATIENT_NUM','FirstOutcomeDate','Outcome']).to_pandas(), data_train['Outcome'].to_pandas()\n",
    "X_test,y_test = data_test.drop(['PATIENT_NUM','FirstOutcomeDate','Outcome']).to_pandas(), data_test['Outcome'].to_pandas()"
   ]
  },
  {
   "cell_type": "code",
   "execution_count": 30,
   "id": "3b67dbda",
   "metadata": {},
   "outputs": [
    {
     "data": {
      "text/plain": [
       "pandas.core.series.Series"
      ]
     },
     "execution_count": 30,
     "metadata": {},
     "output_type": "execute_result"
    }
   ],
   "source": [
    "type(y_train)"
   ]
  },
  {
   "cell_type": "code",
   "execution_count": 31,
   "id": "5065dcaa",
   "metadata": {},
   "outputs": [],
   "source": [
    "del data_train#, data_test"
   ]
  },
  {
   "cell_type": "code",
   "execution_count": null,
   "id": "a781eb51",
   "metadata": {},
   "outputs": [],
   "source": [
    "X_train.dtypes[-200:]"
   ]
  },
  {
   "cell_type": "markdown",
   "id": "faa3986e",
   "metadata": {},
   "source": [
    "### Adjusting features based on model_name (some models need feature scaling for numerical data)"
   ]
  },
  {
   "cell_type": "code",
   "execution_count": null,
   "id": "1a316e60",
   "metadata": {},
   "outputs": [],
   "source": [
    "from sklearn.preprocessing import StandardScaler"
   ]
  },
  {
   "cell_type": "code",
   "execution_count": null,
   "id": "7f2e0500",
   "metadata": {},
   "outputs": [],
   "source": [
    "# Initialize the scaler\n",
    "\n",
    "if ml_config.model_name == 'logistic_regression':\n",
    "    scaler = StandardScaler()\n",
    "\n",
    "    # Fit and transform only the specified columns\n",
    "    X_train[numerical_cols] = scaler.fit_transform(X_train[numerical_cols])\n",
    "    X_test[numerical_cols] = scaler.transform(X_test[numerical_cols])"
   ]
  },
  {
   "cell_type": "markdown",
   "id": "4c6259ca",
   "metadata": {},
   "source": [
    "# Boruta feature selection"
   ]
  },
  {
   "cell_type": "code",
   "execution_count": null,
   "id": "174ab292",
   "metadata": {},
   "outputs": [],
   "source": [
    "!pip install boruta -q "
   ]
  },
  {
   "cell_type": "code",
   "execution_count": null,
   "id": "991c93c9",
   "metadata": {},
   "outputs": [],
   "source": [
    "loinc_columns = [col for col in X_train.columns if col.startswith('LOINC')]\n",
    "len(loinc_columns)"
   ]
  },
  {
   "cell_type": "code",
   "execution_count": null,
   "id": "23abe244",
   "metadata": {},
   "outputs": [],
   "source": [
    "# X_train[loinc_columns] = X_train[loinc_columns].astype('float') \n",
    "# X_test[loinc_columns] = X_test[loinc_columns].astype('float')"
   ]
  },
  {
   "cell_type": "code",
   "execution_count": null,
   "id": "18f3cb9d",
   "metadata": {},
   "outputs": [],
   "source": [
    "from boruta import BorutaPy\n",
    "from sklearn.ensemble import RandomForestClassifier\n",
    "\n",
    "clf = RandomForestClassifier(n_estimators=200, random_state=42, n_jobs =-1)"
   ]
  },
  {
   "cell_type": "code",
   "execution_count": null,
   "id": "38953f8e",
   "metadata": {},
   "outputs": [],
   "source": [
    "nan_columns = X_train.columns[X_train.isna().any()].tolist()\n",
    "\n",
    "print(nan_columns)"
   ]
  },
  {
   "cell_type": "code",
   "execution_count": null,
   "id": "e92a292c",
   "metadata": {},
   "outputs": [],
   "source": [
    "print(\"hello\")"
   ]
  },
  {
   "cell_type": "code",
   "execution_count": null,
   "id": "854b1afd",
   "metadata": {},
   "outputs": [],
   "source": [
    "trans = BorutaPy(clf, max_iter=5, random_state=42)\n",
    "sel = trans.fit_transform(X_train.values, y_train.values)"
   ]
  },
  {
   "cell_type": "code",
   "execution_count": null,
   "id": "46d46b00",
   "metadata": {},
   "outputs": [],
   "source": [
    "print('Hello')"
   ]
  },
  {
   "cell_type": "markdown",
   "id": "0a5cafdc",
   "metadata": {},
   "source": [
    "# ML models"
   ]
  },
  {
   "cell_type": "markdown",
   "id": "d38625c1",
   "metadata": {},
   "source": [
    "## Single objective function"
   ]
  },
  {
   "cell_type": "code",
   "execution_count": null,
   "id": "57bd55e8",
   "metadata": {},
   "outputs": [],
   "source": [
    "def objective(trial):\n",
    "    if ml_config.model_name == 'xgboost':\n",
    "    \n",
    "        param = {\n",
    "        'objective': 'binary:logistic',  # Binary classification\n",
    "        #'eval_metric': 'auc',             # Evaluation metric\n",
    "        'seed': 42,\n",
    "        'eta': trial.suggest_float('eta', 0.01, 0.3, step=0.01),\n",
    "        'n_estimators': trial.suggest_int('n_estimators', 100, 600, step =100),\n",
    "        'max_depth': trial.suggest_int('max_depth', 3, 12),\n",
    "        'subsample': trial.suggest_float('subsample', 0.5, 1.0, step=0.1),\n",
    "        'colsample_bytree': trial.suggest_float('colsample_bytree', 0.5, 1.0, step=0.1),\n",
    "        'gamma': trial.suggest_float('gamma', 0, 5.0),\n",
    "        'scale_pos_weight': (len(y_train) - sum(y_train)) / sum(y_train),  # Class weight for imbalance\n",
    "        }\n",
    "        \n",
    "        model = XGBClassifier(**param, enable_categorical=True, device=\"cuda\")\n",
    "\n",
    "    elif ml_config.model_name == 'catboost':\n",
    "         params = {\n",
    "            \"iterations\": trial.suggest_categorical('iterations',[200, 400, 600, 800]),\n",
    "            \"learning_rate\": trial.suggest_float(\"learning_rate\", 1e-3, 0.1, log=True),\n",
    "            \"depth\": trial.suggest_int(\"depth\", 4, 12),\n",
    "            #\"subsample\": trial.suggest_float(\"subsample\", 0.05, 1.0),\n",
    "            #\"colsample_bylevel\": trial.suggest_float(\"colsample_bylevel\", 0.05, 1.0),\n",
    "            \"min_data_in_leaf\": trial.suggest_int(\"min_data_in_leaf\", 1, 300),\n",
    "            'task_type':\"GPU\",\n",
    "        }\n",
    "        model = CatBoostClassifier(**param, auto_class_weights='Balanced',allow_writing_files=False,\n",
    "                                   silent=True)\n",
    "\n",
    "    elif ml_config.model_name == 'random_forest':\n",
    "        param = {\n",
    "            'n_estimators': trial.suggest_int('n_estimators', 50, 800),\n",
    "            'max_depth': trial.suggest_int('max_depth', 3, 15),\n",
    "            'min_samples_split': trial.suggest_int('min_samples_split', 2, 20),\n",
    "            'min_samples_leaf': trial.suggest_int('min_samples_leaf', 1, 10),\n",
    "        }\n",
    "        model = RandomForestClassifier(**param, class_weight ='balanced', n_jobs = -1)\n",
    "\n",
    "    elif ml_config.model_name == 'logistic_regression':\n",
    "        param = {\n",
    "            'C': trial.suggest_loguniform('C', 1e-2, 10.0),\n",
    "            'max_iter': trial.suggest_int('max_iter', 100, 600),\n",
    "            'solver': trial.suggest_categorical('solver', ['liblinear']),\n",
    "        }\n",
    "        model = LogisticRegression(**param,class_weight ='balanced', n_jobs = -1 )\n",
    "        \n",
    "    \n",
    "    \n",
    "\n",
    "    else:\n",
    "        raise ValueError(\"Unsupported model name\")\n",
    "    \n",
    "    \n",
    "    model.fit(X_train, y_train)\n",
    "    y_pred_proba = model._predict_proba(X_test)[:, 1]\n",
    "        \n",
    "    roc_auc = roc_auc_score(y_test, y_pred_proba)\n",
    "    return roc_auc\n"
   ]
  },
  {
   "cell_type": "code",
   "execution_count": null,
   "id": "247c996a",
   "metadata": {},
   "outputs": [],
   "source": [
    "study = optuna.create_study(direction='maximize')\n",
    "study.optimize(objective, n_trials= 5)\n",
    "\n",
    "print('')\n",
    "print('Best hyperparameters:', study.best_params)\n",
    "print('Best AUC:', study.best_value)\n",
    "print('')"
   ]
  },
  {
   "cell_type": "code",
   "execution_count": null,
   "id": "b1a5de71",
   "metadata": {},
   "outputs": [],
   "source": [
    "if ml_config.model_name == 'xgboost':\n",
    "        \n",
    "    model = XGBClassifier(**best_params, \n",
    "                          scale_pos_weight = (len(y_train) - sum(y_train)) / sum(y_train),  \n",
    "#                           use_label_encoder=False,\n",
    "                          device = 'cuda', \n",
    "                          )\n",
    "    \n",
    "elif ml_config.model_name == 'catboost':\n",
    "    model = CatBoostClassifier(**best_params, auto_class_weights = 'Balanced', verbose=0)\n",
    "elif ml_config.model_name == 'random_forest':\n",
    "    model = RandomForestClassifier(**best_params, class_weight ='balanced', n_jobs = -1)\n",
    "elif ml_config.model_name == 'logistic_regression':\n",
    "    model = LogisticRegression(**best_params, class_weight ='balanced', n_jobs = -1)\n",
    "else:\n",
    "    raise ValueError(\"Unsupported model name\")"
   ]
  },
  {
   "cell_type": "code",
   "execution_count": null,
   "id": "a7dd1db1",
   "metadata": {},
   "outputs": [],
   "source": [
    "model.fit(X_train,y_train)"
   ]
  },
  {
   "cell_type": "code",
   "execution_count": null,
   "id": "454a03f7",
   "metadata": {},
   "outputs": [],
   "source": [
    "## Metrics\n",
    "conf_matrix, accuracy, roc_auc, sensitivity, specificity, auc_pr, classification_report = get_metrics(logistic_model,X_test, y_test)"
   ]
  },
  {
   "cell_type": "code",
   "execution_count": null,
   "id": "010dce17",
   "metadata": {},
   "outputs": [],
   "source": [
    "## Confusion matrix\n",
    "group_names = ['True Neg','False Pos','False Neg','True Pos']\n",
    "group_counts = [\"{0:0.0f}\".format(value) for value in\n",
    "                conf_matrix.flatten()]\n",
    "group_percentages = [\"{0:.2%}\".format(value) for value in\n",
    "                     conf_matrix.flatten()/np.sum(conf_matrix)]\n",
    "labels = [f\"{v1}\\n{v2}\\n{v3}\" for v1, v2, v3 in\n",
    "          zip(group_names,group_counts,group_percentages)]\n",
    "labels = np.asarray(labels).reshape(2,2)\n",
    "cm_plot = plt.subplot()\n",
    "sns.heatmap(conf_matrix, annot=labels, fmt='', cmap='Blues')\n",
    "\n",
    "#Labels, title and ticks\n",
    "cm_plot.set_xlabel('Predicted labels');ax.set_ylabel('True labels');\n",
    "cm_plot.set_title('Confusion Matrix'); \n",
    "plt.show()"
   ]
  },
  {
   "cell_type": "code",
   "execution_count": null,
   "id": "a380bc5a",
   "metadata": {},
   "outputs": [],
   "source": [
    "# Save model using joblib\n",
    "model_filename = f\"../Determine_trained_models/{ml_config.model_name}_dataset_{ml_config.file.split('.')[0]}.pkl\"\n",
    "joblib.dump(model, model_filename)\n",
    "\n",
    "print(f\"Model saved as {model_filename}\")"
   ]
  },
  {
   "cell_type": "markdown",
   "id": "f29ea916",
   "metadata": {},
   "source": [
    "## Saving results and details to ml flow"
   ]
  },
  {
   "cell_type": "code",
   "execution_count": null,
   "id": "c29baabb",
   "metadata": {},
   "outputs": [],
   "source": [
    "params = model.get_params()\n",
    "\n",
    "\n",
    "# Create a new MLflow Experiment\n",
    "mlflow.set_experiment(f\"{ml_cofig.mlflow_experiment_name}_ModelName_{ml_config.model_name}\",\n",
    "                     description=ml_config.description)\n",
    "\n",
    "# Start an MLflow run\n",
    "with mlflow.start_run():\n",
    "    \n",
    "    #set tags\n",
    "    tags = {\n",
    "        'model_name': ml_config.model_name\n",
    "        'dataset_filename':ml_config.file\n",
    "    }\n",
    "    \n",
    "    # Log the hyperparameters   \n",
    "    mlflow.log_params(params)\n",
    "    \n",
    "    mlflow.log_input(X_train, context=\"training\")\n",
    "    mlflow.log_input(X_test, context=\"testing\")\n",
    "\n",
    "    # Log the loss metric\n",
    "    mlflow.log_metric(\"accuracy\", accuracy)\n",
    "    mlflow.log_metric(\"roc_auc\", roc_auc)\n",
    "    mlflow.log_metric(\"sensitivity\", sensitivity)\n",
    "    mlflow.log_metric(\"specificity\", sensitivity)\n",
    "    mlflow.log_metric(\"auc_pr\", accuracy)\n",
    "    mlflow.log_dict(classification_report, \"classification_report.json\")\n",
    "    \n",
    "    mlflow.log_image(cm_plot, \"confusion_matrix.png\")\n",
    "\n"
   ]
  },
  {
   "cell_type": "code",
   "execution_count": null,
   "id": "8aa1ae08",
   "metadata": {},
   "outputs": [],
   "source": []
  },
  {
   "cell_type": "markdown",
   "id": "ad75f504",
   "metadata": {},
   "source": [
    "# Logistic regression"
   ]
  },
  {
   "cell_type": "code",
   "execution_count": null,
   "id": "88d6bbe4",
   "metadata": {},
   "outputs": [],
   "source": [
    "from sklearn.linear_model import LogisticRegression\n",
    "from sklearn.preprocessing import StandardScaler"
   ]
  },
  {
   "cell_type": "code",
   "execution_count": null,
   "id": "806bd247",
   "metadata": {},
   "outputs": [],
   "source": [
    "loinc_columns = [col for col in X_train.columns if col.startswith('LOINC')]\n",
    "len(loinc_columns)"
   ]
  },
  {
   "cell_type": "code",
   "execution_count": null,
   "id": "1993ba4e",
   "metadata": {},
   "outputs": [],
   "source": [
    "X_train.dtypes[-100:]"
   ]
  },
  {
   "cell_type": "code",
   "execution_count": null,
   "id": "72d71ed3",
   "metadata": {},
   "outputs": [],
   "source": [
    "X_train[loinc_columns] = X_train[loinc_columns].astype('float') \n",
    "X_test[loinc_columns] = X_test[loinc_columns].astype('float')"
   ]
  },
  {
   "cell_type": "code",
   "execution_count": null,
   "id": "98134797",
   "metadata": {},
   "outputs": [],
   "source": [
    "print('Hello')"
   ]
  },
  {
   "cell_type": "code",
   "execution_count": null,
   "id": "95a8aea7",
   "metadata": {},
   "outputs": [],
   "source": [
    "# Initialize the scaler\n",
    "scaler = StandardScaler()\n",
    "\n",
    "# Fit and transform only the specified columns\n",
    "X_train[loinc_columns] = scaler.fit_transform(X_train[loinc_columns])\n",
    "X_test[loinc_columns] = scaler.transform(X_test[loinc_columns])"
   ]
  },
  {
   "cell_type": "code",
   "execution_count": null,
   "id": "b1fa88ae",
   "metadata": {},
   "outputs": [],
   "source": [
    "# Initialize the Logistic Regression model with class_weight set to 'balanced'\n",
    "logistic_model = LogisticRegression(class_weight='balanced', random_state=42, n_jobs =-1, max_iter =300)\n",
    "\n",
    "# Fit the model on the training data\n",
    "logistic_model.fit(X_train, y_train)"
   ]
  },
  {
   "cell_type": "code",
   "execution_count": null,
   "id": "91cc9033",
   "metadata": {},
   "outputs": [],
   "source": [
    "get_metrics(logistic_model,X_test, y_test)"
   ]
  },
  {
   "cell_type": "code",
   "execution_count": null,
   "id": "f4cf9b7b",
   "metadata": {},
   "outputs": [],
   "source": [
    "print('Hello')"
   ]
  },
  {
   "cell_type": "markdown",
   "id": "fa39dd2d",
   "metadata": {},
   "source": [
    "## Catboost"
   ]
  },
  {
   "cell_type": "code",
   "execution_count": 32,
   "id": "960b8de8",
   "metadata": {},
   "outputs": [
    {
     "name": "stderr",
     "output_type": "stream",
     "text": [
      "/home/ec2-user/anaconda3/envs/python3/lib/python3.10/site-packages/xgboost/core.py:377: FutureWarning: Your system has an old version of glibc (< 2.28). We will stop supporting Linux distros with glibc older than 2.28 after **May 31, 2025**. Please upgrade to a recent Linux distro (with glibc >= 2.28) to use future versions of XGBoost.\n",
      "Note: You have installed the 'manylinux2014' variant of XGBoost. Certain features such as GPU algorithms or federated learning are not available. To use these features, please upgrade to a recent Linux distro with glibc 2.28+, and install the 'manylinux_2_28' variant.\n",
      "  warnings.warn(\n"
     ]
    }
   ],
   "source": [
    "from catboost import CatBoostClassifier"
   ]
  },
  {
   "cell_type": "code",
   "execution_count": 33,
   "id": "91847431",
   "metadata": {},
   "outputs": [
    {
     "data": {
      "text/plain": [
       "2805"
      ]
     },
     "execution_count": 33,
     "metadata": {},
     "output_type": "execute_result"
    }
   ],
   "source": [
    "len(X_train.columns)"
   ]
  },
  {
   "cell_type": "code",
   "execution_count": 34,
   "id": "ec9fba5a",
   "metadata": {},
   "outputs": [
    {
     "name": "stderr",
     "output_type": "stream",
     "text": [
      "[I 2025-04-11 17:35:58,481] A new study created in memory with name: no-name-914e0cef-8084-455b-8ae6-298eda97c754\n",
      "[I 2025-04-11 17:36:33,130] Trial 0 finished with value: 0.8278207332944943 and parameters: {'iterations': 600, 'learning_rate': 0.04889464272188424, 'depth': 8, 'min_data_in_leaf': 9}. Best is trial 0 with value: 0.8278207332944943.\n",
      "[I 2025-04-11 17:37:25,406] Trial 1 finished with value: 0.809710439648479 and parameters: {'iterations': 600, 'learning_rate': 0.0033212105108746228, 'depth': 9, 'min_data_in_leaf': 37}. Best is trial 0 with value: 0.8278207332944943.\n",
      "[I 2025-04-11 17:37:50,730] Trial 2 finished with value: 0.8222787222634456 and parameters: {'iterations': 800, 'learning_rate': 0.027260807090613178, 'depth': 4, 'min_data_in_leaf': 235}. Best is trial 0 with value: 0.8278207332944943.\n",
      "[I 2025-04-11 17:38:10,377] Trial 3 finished with value: 0.8031796482447309 and parameters: {'iterations': 400, 'learning_rate': 0.007425618043132102, 'depth': 5, 'min_data_in_leaf': 68}. Best is trial 0 with value: 0.8278207332944943.\n",
      "[I 2025-04-11 17:40:19,820] Trial 4 finished with value: 0.8204221304467811 and parameters: {'iterations': 600, 'learning_rate': 0.02438316051224511, 'depth': 12, 'min_data_in_leaf': 171}. Best is trial 0 with value: 0.8278207332944943.\n"
     ]
    },
    {
     "name": "stdout",
     "output_type": "stream",
     "text": [
      "Number of finished trials: 5\n",
      "Best trial:\n",
      "  Value: 0.8278207332944943\n",
      "  Params: \n",
      "    iterations: 600\n",
      "    learning_rate: 0.04889464272188424\n",
      "    depth: 8\n",
      "    min_data_in_leaf: 9\n"
     ]
    }
   ],
   "source": [
    "def objective(trial):\n",
    "        params = {\n",
    "            \"iterations\": trial.suggest_categorical('iterations',[200, 400, 600, 800]),\n",
    "            \"learning_rate\": trial.suggest_float(\"learning_rate\", 1e-3, 0.1, log=True),\n",
    "            \"depth\": trial.suggest_int(\"depth\", 4, 12),\n",
    "            #\"subsample\": trial.suggest_float(\"subsample\", 0.05, 1.0),\n",
    "            #\"colsample_bylevel\": trial.suggest_float(\"colsample_bylevel\", 0.05, 1.0),\n",
    "            \"min_data_in_leaf\": trial.suggest_int(\"min_data_in_leaf\", 1, 300),\n",
    "            'task_type':\"GPU\",\n",
    "        }\n",
    "\n",
    "        model = CatBoostClassifier(**params , auto_class_weights='Balanced',allow_writing_files=False,\n",
    "                                   #cat_features=cat_features,\n",
    "                                   silent=True)\n",
    "        model.fit(X_train, y_train)\n",
    "        predictions = model.predict(X_test)\n",
    "#         f1 = f1_score(y_test, predictions,average ='macro')\n",
    "        y_pred_probs = model.predict_proba(X_test)[:,1]\n",
    "        roc_auc = roc_auc_score(y_test, y_pred_probs)\n",
    "        return roc_auc\n",
    "    \n",
    "study = optuna.create_study(direction='maximize')\n",
    "study.optimize(objective, n_trials=5)\n",
    "\n",
    "print(\"Number of finished trials: {}\".format(len(study.trials)))\n",
    "\n",
    "print(\"Best trial:\")\n",
    "trial = study.best_trial\n",
    "\n",
    "print(\"  Value: {}\".format(trial.value))\n",
    "\n",
    "print(\"  Params: \")\n",
    "for key, value in trial.params.items():\n",
    "    print(\"    {}: {}\".format(key, value))\n",
    "\n",
    "best_params  = study.best_params"
   ]
  },
  {
   "cell_type": "code",
   "execution_count": 35,
   "id": "2c92d4f7",
   "metadata": {},
   "outputs": [],
   "source": [
    "best_params = study.best_params"
   ]
  },
  {
   "cell_type": "code",
   "execution_count": 36,
   "id": "b2767368",
   "metadata": {},
   "outputs": [
    {
     "data": {
      "text/plain": [
       "<catboost.core.CatBoostClassifier at 0x7f2e1c17d960>"
      ]
     },
     "execution_count": 36,
     "metadata": {},
     "output_type": "execute_result"
    }
   ],
   "source": [
    "# best_params = {'iterations': 500, 'learning_rate': 0.043419222852673814, 'depth': 12, 'min_data_in_leaf': 54}\n",
    "\n",
    "model = CatBoostClassifier(**best_params, auto_class_weights='Balanced',task_type = \"GPU\",allow_writing_files=False,\n",
    "                           silent=True)\n",
    "model.fit(X_train, y_train)\n"
   ]
  },
  {
   "cell_type": "code",
   "execution_count": 37,
   "id": "b41a4f7a",
   "metadata": {},
   "outputs": [
    {
     "name": "stdout",
     "output_type": "stream",
     "text": [
      "Accuracy: 0.7369344897242732\n",
      "AUC:  0.8278207116737611\n",
      "Classification Report:\n",
      "               precision    recall  f1-score   support\n",
      "\n",
      "           0       0.98      0.74      0.84    163881\n",
      "           1       0.15      0.76      0.25      9878\n",
      "\n",
      "    accuracy                           0.74    173759\n",
      "   macro avg       0.56      0.75      0.54    173759\n",
      "weighted avg       0.93      0.74      0.81    173759\n",
      "\n",
      "Sensitivity (Recall): 0.755011135857461\n",
      "Specificity: 0.7358449118567741\n"
     ]
    }
   ],
   "source": [
    "get_metrics(model,X_test, y_test)"
   ]
  },
  {
   "cell_type": "code",
   "execution_count": null,
   "id": "e7430cc4",
   "metadata": {},
   "outputs": [],
   "source": [
    "X_train.columns[2814]"
   ]
  },
  {
   "cell_type": "code",
   "execution_count": null,
   "id": "51aa9a91",
   "metadata": {},
   "outputs": [],
   "source": [
    "### saving model\n",
    "\n",
    "model.save_model('../Determine_trained_models/Catboost'+ ml_config.file)"
   ]
  },
  {
   "cell_type": "markdown",
   "id": "2e13b929",
   "metadata": {},
   "source": [
    "### False positive indexes"
   ]
  },
  {
   "cell_type": "code",
   "execution_count": null,
   "id": "703ce839",
   "metadata": {},
   "outputs": [],
   "source": [
    "model  = CatBoostClassifier().load_model('../Determine_trained_models/Catboost'+ ml_config.file)"
   ]
  },
  {
   "cell_type": "code",
   "execution_count": null,
   "id": "60117d57",
   "metadata": {},
   "outputs": [],
   "source": [
    "# Assuming 'model' is your trained model and it has a predict method\n",
    "# Predict on the train data\n",
    "predictions = model.predict(X_test)\n",
    "\n",
    "# Boolean array where True indicates false positives\n",
    "false_positives_mask = (predictions == 1) & (y_test == 0)\n",
    "false_negatives_mask = (predictions == 0) & (y_test == 1)\n",
    "# Get indices of false positives\n",
    "false_positive_indices = np.where(false_positives_mask)[0]\n",
    "false_negatives_indices = np.where(false_negatives_mask)[0]\n",
    "\n",
    "print(\"Indices of False Positives:\", false_positive_indices)\n",
    "print(\"Indices of False Negatives:\", false_negatives_indices)"
   ]
  },
  {
   "cell_type": "code",
   "execution_count": null,
   "id": "f82af6a2",
   "metadata": {},
   "outputs": [],
   "source": [
    "len(false_positive_indices)"
   ]
  },
  {
   "cell_type": "code",
   "execution_count": null,
   "id": "8773a57c",
   "metadata": {},
   "outputs": [],
   "source": [
    "len(false_negatives_indices)"
   ]
  },
  {
   "cell_type": "code",
   "execution_count": null,
   "id": "a2745b77",
   "metadata": {},
   "outputs": [],
   "source": [
    "data_test_pids_fp = data_test[false_positive_indices]['PATIENT_NUM'].to_list()\n",
    "data_test_pids_fn = data_test[false_negatives_indices]['PATIENT_NUM'].to_list()"
   ]
  },
  {
   "cell_type": "code",
   "execution_count": null,
   "id": "090f6e37",
   "metadata": {},
   "outputs": [],
   "source": [
    "directory_path = f'./FP_FN_{ml_config.file.split('.')[0]}'\n",
    "\n",
    "# Create the directory\n",
    "os.makedirs(directory_path, exist_ok=True)"
   ]
  },
  {
   "cell_type": "code",
   "execution_count": null,
   "id": "4714f56f",
   "metadata": {},
   "outputs": [],
   "source": [
    "with open(f'./{directory_path}/{ml_config.model_name}_false_positives_pids_test.pkl', 'wb') as file: \n",
    "    pickle.dump(data_test_pids_fp, file) \n",
    "\n",
    "with open(f'./{directory_path}/{ml_config.model_name}_false_positives_pids_test.pkl', 'rb') as file: \n",
    "    data_test_pids_fp = pickle.load(file) \n",
    "    \n",
    "    \n",
    "with open(f'./{directory_path}/{ml_config.model_name}_false_negatives_pids_test.pkl', 'wb') as file: \n",
    "    pickle.dump(data_test_pids_fn, file) \n",
    "\n",
    "with open(f'./{directory_path}/{ml_config.model_name}_false_negatives_pids_test.pkl', 'rb') as file: \n",
    "    data_test_pids_fn = pickle.load(file) "
   ]
  },
  {
   "cell_type": "code",
   "execution_count": null,
   "id": "586ea2b4",
   "metadata": {},
   "outputs": [],
   "source": [
    "from datetime import datetime"
   ]
  },
  {
   "cell_type": "code",
   "execution_count": null,
   "id": "e4562241",
   "metadata": {},
   "outputs": [],
   "source": [
    "data_test.filter(pl.col('PATIENT_NUM').is_in(data_test_pids_fn)).sort('FirstOutcomeDate').filter(pl.col(\"FirstOutcomeDate\") < datetime(2019, 1, 2))\n",
    "          #,return_counts = True)"
   ]
  },
  {
   "cell_type": "code",
   "execution_count": null,
   "id": "7c623075",
   "metadata": {},
   "outputs": [],
   "source": [
    "data_test.filter(pl.col('PATIENT_NUM').is_in(data_test_pids_fp)).filter(pl.col(\"Outcome\")== 1)\n",
    "          #,return_counts = True)"
   ]
  },
  {
   "cell_type": "code",
   "execution_count": null,
   "id": "18790465",
   "metadata": {},
   "outputs": [],
   "source": [
    "data_test[[36, 54]]"
   ]
  },
  {
   "cell_type": "code",
   "execution_count": null,
   "id": "c4f04119",
   "metadata": {},
   "outputs": [],
   "source": []
  },
  {
   "cell_type": "markdown",
   "id": "c80fb909",
   "metadata": {},
   "source": [
    "### Loading model"
   ]
  },
  {
   "cell_type": "code",
   "execution_count": null,
   "id": "39b3a393",
   "metadata": {},
   "outputs": [],
   "source": [
    "model  = CatBoostClassifier().load_model('../Determine_trained_models/catboost_whole_dataset_phecodes_bmi_bp')"
   ]
  },
  {
   "cell_type": "code",
   "execution_count": null,
   "id": "5a534be8",
   "metadata": {},
   "outputs": [],
   "source": [
    "get_metrics(model,X_test, y_test)"
   ]
  },
  {
   "cell_type": "code",
   "execution_count": null,
   "id": "605078a6",
   "metadata": {},
   "outputs": [],
   "source": [
    "# Get feature importances\n",
    "feature_importances = model.get_feature_importance()\n",
    "\n",
    "# Get feature names from the training data (X_train should be a DataFrame)\n",
    "feature_names = X_train.columns\n",
    "\n",
    "# Combine feature names and importances into a list of tuples\n",
    "features = list(zip(feature_names, feature_importances))\n",
    "\n",
    "# Sort features by importance\n",
    "sorted_features = sorted(features, key=lambda x: x[1], reverse=True)\n",
    "\n",
    "# Select top 10 features\n",
    "top_10_features = sorted_features[:10]\n",
    "# [('average_bmi', 10.15971291924134),\n",
    "# ('Age_group', 9.380785704361632),\n",
    "# ('LOINC:2345-7', 8.962230022321915),\n",
    "# ('average_systolic_value', 3.329221847438418),\n",
    "# ('LOINC:27353-2', 3.2908540684274525),\n",
    "# ('Hispanic_CD_Y', 2.6087360120255334),\n",
    "# ('LOINC:9318-7', 2.0793359364139765),\n",
    "# ('average_diastolic_value', 1.9829892483669505),\n",
    "# ('Race_CD_05', 1.755046409270668),\n",
    "# ('LOINC:2349-9', 1.6860192611322427)]\n",
    "\n",
    "# Separate the feature names and their importances for plotting\n",
    "top_feature_names, top_importances = zip(*top_10_features)\n",
    "\n",
    "# Plot top 10 feature importances\n",
    "plt.figure(figsize=(10, 6))\n",
    "plt.barh(top_feature_names, top_importances, color='skyblue')\n",
    "plt.xlabel('Importance')\n",
    "plt.title('Top 10 Feature Importances')\n",
    "plt.gca().invert_yaxis()  # Invert y-axis to show the highest importance at the top\n",
    "plt.show()"
   ]
  },
  {
   "cell_type": "code",
   "execution_count": null,
   "id": "af70a7b8",
   "metadata": {},
   "outputs": [],
   "source": [
    "top_10_features"
   ]
  },
  {
   "cell_type": "code",
   "execution_count": null,
   "id": "c8833620",
   "metadata": {},
   "outputs": [],
   "source": [
    "feature_importance"
   ]
  },
  {
   "cell_type": "markdown",
   "id": "47e14ae1",
   "metadata": {},
   "source": [
    "## Xgboost"
   ]
  },
  {
   "cell_type": "code",
   "execution_count": null,
   "id": "20d68073",
   "metadata": {},
   "outputs": [],
   "source": [
    "import xgboost as xgb"
   ]
  },
  {
   "cell_type": "code",
   "execution_count": null,
   "id": "3f64d814",
   "metadata": {},
   "outputs": [],
   "source": [
    "X_train.dtypes[-100:]"
   ]
  },
  {
   "cell_type": "code",
   "execution_count": null,
   "id": "d6f1de42",
   "metadata": {},
   "outputs": [],
   "source": []
  },
  {
   "cell_type": "code",
   "execution_count": null,
   "id": "849e7412",
   "metadata": {},
   "outputs": [],
   "source": [
    "loinc_columns = [col for col in X_train.columns if col.startswith('LOINC')]\n",
    "len(loinc_columns)"
   ]
  },
  {
   "cell_type": "code",
   "execution_count": null,
   "id": "3cc328d1",
   "metadata": {},
   "outputs": [],
   "source": [
    "X_train[loinc_columns] = X_train[loinc_columns].astype('float') "
   ]
  },
  {
   "cell_type": "code",
   "execution_count": null,
   "id": "5268f366",
   "metadata": {},
   "outputs": [],
   "source": [
    "X_test[loinc_columns] = X_test[loinc_columns].astype('float')"
   ]
  },
  {
   "cell_type": "code",
   "execution_count": null,
   "id": "7cad8ec8",
   "metadata": {},
   "outputs": [],
   "source": [
    "print(\"hello worlds\")"
   ]
  },
  {
   "cell_type": "code",
   "execution_count": null,
   "id": "af88b687",
   "metadata": {},
   "outputs": [],
   "source": [
    "def objective(trial):\n",
    "    # Suggest hyperparameters\n",
    "    param = {\n",
    "        'objective': 'binary:logistic',  # Binary classification\n",
    "        #'eval_metric': 'auc',             # Evaluation metric\n",
    "        'seed': 42,\n",
    "        'eta': trial.suggest_float('eta', 0.01, 0.3, step=0.01),\n",
    "        'n_estimators': trial.suggest_int('n_estimators', 100, 600, step =100),\n",
    "        'max_depth': trial.suggest_int('max_depth', 3, 12),\n",
    "        'subsample': trial.suggest_float('subsample', 0.5, 1.0, step=0.1),\n",
    "        'colsample_bytree': trial.suggest_float('colsample_bytree', 0.5, 1.0, step=0.1),\n",
    "        'gamma': trial.suggest_float('gamma', 0, 5.0),\n",
    "        'scale_pos_weight': (len(y_train) - sum(y_train)) / sum(y_train),  # Class weight for imbalance\n",
    "    }\n",
    "    \n",
    "    # Train the model\n",
    "    model = xgb.XGBClassifier(**param, enable_categorical=True, device=\"cuda\")\n",
    "    model.fit(X_train, y_train)\n",
    "\n",
    "    # Predict and evaluate\n",
    "    preds = model.predict_proba(X_test)[:, 1]\n",
    "    auc = roc_auc_score(y_test, preds)\n",
    "    return auc\n"
   ]
  },
  {
   "cell_type": "code",
   "execution_count": null,
   "id": "bea8f215",
   "metadata": {},
   "outputs": [],
   "source": [
    "study = optuna.create_study(direction='maximize')\n",
    "study.optimize(objective, n_trials=5)\n",
    "\n",
    "print(\"Number of finished trials: {}\".format(len(study.trials)))\n",
    "\n",
    "print(\"Best trial:\")\n",
    "trial = study.best_trial\n",
    "\n",
    "print(\"  Value: {}\".format(trial.value))\n",
    "\n",
    "print(\"  Params: \")\n",
    "for key, value in trial.params.items():\n",
    "    print(\"    {}: {}\".format(key, value))\n",
    "\n",
    "best_params  = study.best_params"
   ]
  },
  {
   "cell_type": "code",
   "execution_count": null,
   "id": "82545597",
   "metadata": {},
   "outputs": [],
   "source": [
    "scale_pos_weight =  (len(y_train) - sum(y_train)) / sum(y_train)\n",
    "model = xgb.XGBClassifier(#**param, \n",
    "                          scale_pos_weight = scale_pos_weight, enable_categorical=True, device=\"cuda\")\n",
    "model.fit(X_train, y_train)"
   ]
  },
  {
   "cell_type": "code",
   "execution_count": null,
   "id": "9c746d0a",
   "metadata": {},
   "outputs": [],
   "source": [
    "np.unique(y_train.values, return_counts = True)"
   ]
  },
  {
   "cell_type": "code",
   "execution_count": null,
   "id": "8477732c",
   "metadata": {},
   "outputs": [],
   "source": [
    "get_metrics(model,X_test, y_test)"
   ]
  },
  {
   "cell_type": "markdown",
   "id": "dc24045a",
   "metadata": {},
   "source": [
    "## Random Forest"
   ]
  },
  {
   "cell_type": "code",
   "execution_count": null,
   "id": "05a06e2c",
   "metadata": {},
   "outputs": [],
   "source": [
    "### CPU Optimaizations ###\n",
    "from sklearnex import patch_sklearn\n",
    "patch_sklearn()"
   ]
  },
  {
   "cell_type": "code",
   "execution_count": null,
   "id": "0f1301ab",
   "metadata": {},
   "outputs": [],
   "source": [
    "### GPU Optimizations ###\n",
    "from sklearnex import patch_sklearn, config_context\n",
    "patch_sklearn()\n"
   ]
  },
  {
   "cell_type": "code",
   "execution_count": null,
   "id": "b59648ea",
   "metadata": {},
   "outputs": [],
   "source": [
    "def objective(trial):\n",
    "    # Number of trees in random forest\n",
    "    n_estimators = trial.suggest_int(name=\"n_estimators\", low=100, high=700, step=100)\n",
    "\n",
    "    # Number of features to consider at every split\n",
    "    max_features = trial.suggest_categorical(name=\"max_features\", choices=['auto', 'sqrt']) \n",
    "\n",
    "    # Maximum number of levels in tree\n",
    "    max_depth = trial.suggest_int(name=\"max_depth\", low=10, high=110, step=20)\n",
    "\n",
    "    # Minimum number of samples required to split a node\n",
    "    min_samples_split = trial.suggest_int(name=\"min_samples_split\", low=2, high=10, step=2)\n",
    "\n",
    "    # Minimum number of samples required at each leaf node\n",
    "    min_samples_leaf = trial.suggest_int(name=\"min_samples_leaf\", low=1, high=4, step=1)\n",
    "    \n",
    "    params = {\n",
    "        \"n_estimators\": n_estimators,\n",
    "        \"max_features\": max_features,\n",
    "        \"max_depth\": max_depth,\n",
    "        \"min_samples_split\": min_samples_split,\n",
    "        \"min_samples_leaf\": min_samples_leaf\n",
    "    }\n",
    "    model = RandomForestClassifier(**params)\n",
    "    model.fit(X_train, y_train)\n",
    "    predictions = model.predict(X_test)\n",
    "    y_pred_probs = model.predict_proba(X_test)[:,1]\n",
    "    roc_auc = roc_auc_score(y_test, y_pred_probs)\n",
    "\n",
    "    return mean_cv_accuracy"
   ]
  },
  {
   "cell_type": "code",
   "execution_count": null,
   "id": "477e1d54",
   "metadata": {},
   "outputs": [],
   "source": [
    "study = optuna.create_study()\n",
    "study.optimize(objective, n_trials=10)\n",
    "print(study.best_params)"
   ]
  },
  {
   "cell_type": "code",
   "execution_count": null,
   "id": "35cb88c5",
   "metadata": {},
   "outputs": [],
   "source": [
    "\n",
    "# Train a new model using the best parameters\n",
    "best_model = RandomForestClassifier(**study.best_params)\n",
    "best_model.fit(X_train, y_train)"
   ]
  },
  {
   "cell_type": "markdown",
   "id": "ece22a13",
   "metadata": {},
   "source": [
    "# Feature Importance using SHaP"
   ]
  },
  {
   "cell_type": "markdown",
   "id": "99ca3688",
   "metadata": {},
   "source": [
    "# Fairness metrics"
   ]
  },
  {
   "cell_type": "code",
   "execution_count": null,
   "id": "3fafef4e",
   "metadata": {},
   "outputs": [],
   "source": []
  },
  {
   "cell_type": "markdown",
   "id": "d2d622af",
   "metadata": {},
   "source": [
    "# Sub-group performance"
   ]
  },
  {
   "cell_type": "code",
   "execution_count": null,
   "id": "5de9f06e",
   "metadata": {},
   "outputs": [],
   "source": [
    "## model to use\n",
    "model  = CatBoostClassifier().load_model('../Determine_trained_models/catboost_whole_dataset_phecodes_bmi_bp')"
   ]
  },
  {
   "cell_type": "code",
   "execution_count": null,
   "id": "2abd40c2",
   "metadata": {},
   "outputs": [],
   "source": [
    "X_test.columns[:15]"
   ]
  },
  {
   "cell_type": "code",
   "execution_count": null,
   "id": "b13d25c6",
   "metadata": {},
   "outputs": [],
   "source": [
    "y_test.values"
   ]
  },
  {
   "cell_type": "code",
   "execution_count": null,
   "id": "c7c19a54",
   "metadata": {},
   "outputs": [],
   "source": [
    "def predict_on_data(sub_x_test,sub_y_test, model):\n",
    "    y_pred = model.predict(sub_x_test)\n",
    "    y_pred_probs = model.predict_proba(sub_x_test)[:,1]\n",
    "    \n",
    "    tn, fp, fn, tp = confusion_matrix(sub_y_test, y_pred).ravel()\n",
    "\n",
    "    sensitivity = tp / (tp + fn)\n",
    "    specificity = tn / (tn + fp)\n",
    "\n",
    "    print(\"Sensitivity: \", sensitivity)\n",
    "    print(\"Specificity: \", specificity)\n",
    "    roc_auc = roc_auc_score(sub_y_test, y_pred_probs)\n",
    "    print(\"ROC curve: \", roc_auc)\n",
    "    \n",
    "    acc = accuracy_score(sub_y_test, y_pred)\n",
    "    print('Accuracy: ', acc)\n",
    "    return sensitivity, specificity, roc_auc, acc\n",
    "    \n",
    "     "
   ]
  },
  {
   "cell_type": "code",
   "execution_count": null,
   "id": "15478843",
   "metadata": {},
   "outputs": [],
   "source": [
    "# - **'DEM|RACE:01'**: White\n",
    "# - **'DEM|RACE:02'**: Black or African American\n",
    "# - **'DEM|RACE:03'**: Asian\n",
    "# - **'DEM|RACE:04'**: Native Hawaiian or Other Pacific Islander\n",
    "# - **'DEM|RACE:05'**: American Indian or Alaska Native\n",
    "# - **'DEM|RACE:06'**: Other or Unknown\n",
    "# - **'DEM|RACE:07'**: More than one race"
   ]
  },
  {
   "cell_type": "code",
   "execution_count": null,
   "id": "5fb57410",
   "metadata": {},
   "outputs": [],
   "source": [
    "import matplotlib.pyplot as plt"
   ]
  },
  {
   "cell_type": "code",
   "execution_count": null,
   "id": "1dfa2f77",
   "metadata": {},
   "outputs": [],
   "source": [
    "race_cols = [\n",
    "    \"Race_CD_01\",\n",
    "    \"Race_CD_02\",\n",
    "    \"Race_CD_03\",\n",
    "    \"Race_CD_04\",\n",
    "    \"Race_CD_05\",\n",
    "    \"Race_CD_06\",\n",
    "    \"Race_CD_07\",\n",
    "    \"Race_CD_UNK\"\n",
    "]\n",
    "\n",
    "races = []\n",
    "sens = []\n",
    "specs = []\n",
    "roc_aucs = []\n",
    "counts = []\n",
    "races = []\n",
    "class_1_count = []\n",
    "\n",
    "for col in race_cols:\n",
    "    if col.endswith('01'):\n",
    "        race = 'white'\n",
    "    if col.endswith('02'):\n",
    "        race = 'Black or African American'\n",
    "    if col.endswith('03'):\n",
    "        race = 'Asian'\n",
    "    if col.endswith('04'):\n",
    "        race = 'Native Hawaiian or Other Pacific Islander'\n",
    "    if col.endswith('05'):\n",
    "        race = 'American Indian or Alaska Native'\n",
    "    if col.endswith('06'):\n",
    "        race = 'Multiple Race'\n",
    "    if col.endswith('07'):\n",
    "        race = 'refuse to Answer'\n",
    "    elif col.endswith('UNK'):\n",
    "        race = 'UNK'\n",
    "        \n",
    "    print(\"Number of data points with race {} are: {}\".format( col, X_test[X_test[col]==1].shape[0] ))\n",
    "    \n",
    "    # Get indexes where the value is 1 for the current race column\n",
    "    X_test_race = X_test[X_test[col] == 1]\n",
    "    indexes = X_test_race.index\n",
    "    \n",
    "    # Retrieve the respective y_test data using these indexes\n",
    "    y_test_race = y_test.loc[indexes]\n",
    "    \n",
    "    sensitivity, specificity, roc_auc = predict_on_data(X_test_race, y_test_race, model)\n",
    "    races.append(race)\n",
    "    sens.append(sensitivity)\n",
    "    specs.append(specificity)\n",
    "    roc_aucs.append(roc_auc)\n",
    "    class_1_count.append(sum(y_test_race.values))\n",
    "    counts.append(X_test[X_test[col]==1].shape[0])\n",
    "    \n",
    "\n",
    "    "
   ]
  },
  {
   "cell_type": "code",
   "execution_count": null,
   "id": "5099b239",
   "metadata": {},
   "outputs": [],
   "source": [
    "df = pd.DataFrame({\n",
    "    'Race': races,\n",
    "    'counts':counts,\n",
    "    'class_1 count': class_1_count,\n",
    "    'Sensitivity': sens,\n",
    "    'Specificity': specs,\n",
    "    'ROC_AUC': roc_aucs\n",
    "})\n",
    "df"
   ]
  },
  {
   "cell_type": "code",
   "execution_count": null,
   "id": "49e2d830",
   "metadata": {},
   "outputs": [],
   "source": [
    "to_collapse = df.iloc[5:8]\n",
    "\n",
    "# Calculate the new collapsed row\n",
    "new_row = {\n",
    "    'Race': 'Collapsed Race',\n",
    "    'counts': to_collapse['counts'].sum(),\n",
    "    'class_1 count': to_collapse['class_1 count'].sum(),\n",
    "    'Sensitivity': to_collapse['Sensitivity'].mean(),\n",
    "    'Specificity': to_collapse['Specificity'].mean(),\n",
    "    'ROC_AUC': to_collapse['ROC_AUC'].mean()\n",
    "}\n",
    "\n",
    "# Drop the old rows and append the new row\n",
    "df = df.drop(index=range(5, 8)).append(new_row, ignore_index=True)"
   ]
  },
  {
   "cell_type": "code",
   "execution_count": null,
   "id": "acffd9fa",
   "metadata": {},
   "outputs": [],
   "source": [
    "new_row"
   ]
  },
  {
   "cell_type": "code",
   "execution_count": null,
   "id": "e957e4e3",
   "metadata": {},
   "outputs": [],
   "source": [
    "age_groups = np.unique(X_test['Age_group'].values)\n",
    "\n",
    "age_ranges = []\n",
    "sens = []\n",
    "specs = []\n",
    "roc_aucs = []\n",
    "counts =[]\n",
    "class_1_count = []\n",
    "\n",
    "races = []\n",
    "for age_enc in age_groups:\n",
    "    \n",
    "    if age_enc == 0:\n",
    "        age = '18-34'\n",
    "    elif age_enc == 1:\n",
    "        age = '35-44'\n",
    "    elif age_enc == 2:\n",
    "        age = '45-54'\n",
    "    elif age_enc == 3:\n",
    "        age = '54-65'\n",
    "    elif age_enc == 4:\n",
    "        age = '65-74'\n",
    "    else:\n",
    "        age = '75_older'\n",
    "        \n",
    "    print(\"Number of data points with age group {} are: {}\".format( age_enc, X_test[X_test['Age_group']== age_enc].shape[0] ))\n",
    "    \n",
    "    # Get indexes where the value is 1 for the current race column\n",
    "    X_test_race = X_test[X_test['Age_group']== age_enc]\n",
    "    indexes = X_test_race.index\n",
    "    \n",
    "    # Retrieve the respective y_test data using these indexes\n",
    "    y_test_race = y_test.loc[indexes]\n",
    "    \n",
    "    sensitivity, specificity, roc_auc = predict_on_data(X_test_race, y_test_race, model)\n",
    "    age_ranges.append(age)\n",
    "    sens.append(sensitivity)\n",
    "    specs.append(specificity)\n",
    "    roc_aucs.append(roc_auc)\n",
    "    class_1_count.append(sum(y_test_race.values))\n",
    "    counts.append(X_test[X_test['Age_group']== age_enc].shape[0])\n",
    "    \n",
    "#     # SHAP analysis for top features\n",
    "#     explainer = shap.TreeExplainer(model)\n",
    "#     shap_values = explainer.shap_values(X_test_race)\n",
    "    \n",
    "#     # Compute mean absolute SHAP values for each feature\n",
    "#     mean_shap_values = np.abs(shap_values).mean(axis=0)\n",
    "    \n",
    "#     # Get feature names\n",
    "#     feature_names = X_test_race.columns\n",
    "    \n",
    "#     # Get and display top 5 features for the current age group\n",
    "#     top_5_indices = np.argsort(mean_shap_values)[-5:][::-1]\n",
    "#     top_5_features = [feature_names[i] for i in top_5_indices]\n",
    "# #     top_features.append(top_5_features)\n",
    "    \n",
    "#     # Plotting top 5 features for the current age group\n",
    "#     plt.figure(figsize=(10, 6))\n",
    "#     sns.barplot(x=mean_shap_values[top_5_indices], y=[feature_names[i] for i in top_5_indices], palette=\"viridis\")\n",
    "#     plt.title(f\"Top 5 Features for Age Group {age}: SHAP Importance\")\n",
    "#     plt.xlabel(\"Mean SHAP Value (absolute)\")\n",
    "#     plt.ylabel(\"Features\")\n",
    "#     plt.show()\n",
    "    "
   ]
  },
  {
   "cell_type": "code",
   "execution_count": null,
   "id": "98542fd7",
   "metadata": {},
   "outputs": [],
   "source": [
    "df = pd.DataFrame({\n",
    "    'Age_Group': age_ranges,\n",
    "    'counts': counts,\n",
    "    'class_1 count': class_1_count,\n",
    "    'Sensitivity': sens,\n",
    "    'Specificity': specs,\n",
    "    'ROC_AUC': roc_aucs,\n",
    "})\n",
    "df"
   ]
  },
  {
   "cell_type": "markdown",
   "id": "7f534422",
   "metadata": {},
   "source": [
    "## Gender"
   ]
  },
  {
   "cell_type": "code",
   "execution_count": null,
   "id": "f0641137",
   "metadata": {},
   "outputs": [],
   "source": [
    "gender_cols = [\"Gender_CD_GQ\", \"Gender_CD_M\", \"Gender_CD_TG\", \"Gender_CD_UNK\", \"Gender_CD_W\"]"
   ]
  },
  {
   "cell_type": "code",
   "execution_count": null,
   "id": "d161e65f",
   "metadata": {},
   "outputs": [],
   "source": [
    "gender_list = []\n",
    "sens = []\n",
    "specs = []\n",
    "roc_aucs = []\n",
    "counts =[]\n",
    "class_1_count = []\n",
    "\n",
    "races = []\n",
    "for gen in gender_cols:\n",
    "    \n",
    "    if gen.endswith('GQ'):\n",
    "        gender = 'GenderQueer'\n",
    "    elif gen.endswith('M'):\n",
    "        gender = 'Man'\n",
    "    elif gen.endswith('W'):\n",
    "        gender = 'Woman'\n",
    "    elif gen.endswith('TG'):\n",
    "        gender = 'Transgender'\n",
    "    elif gen.endswith('UNK'):\n",
    "        gender = 'Unknown'\n",
    "\n",
    "        \n",
    "    print(\"Number of data points with gender group {} are: {}\".format( gender, X_test[X_test[gen]== 1].shape[0] ))\n",
    "    \n",
    "    # Get indexes where the value is 1 for the current race column\n",
    "    X_test_gen = X_test[X_test[gen]== 1]\n",
    "    indexes = X_test_gen.index\n",
    "    \n",
    "    # Retrieve the respective y_test data using these indexes\n",
    "    y_test_gen = y_test.loc[indexes]\n",
    "    \n",
    "    sensitivity, specificity, roc_auc,_ = predict_on_data(X_test_gen, y_test_gen, model)\n",
    "    gender_list.append(gender)\n",
    "    sens.append(sensitivity)\n",
    "    specs.append(specificity)\n",
    "    roc_aucs.append(roc_auc)\n",
    "    class_1_count.append(sum(y_test_gen.values))\n",
    "    counts.append(X_test[X_test[gen]== 1].shape[0])"
   ]
  },
  {
   "cell_type": "code",
   "execution_count": null,
   "id": "f70f941f",
   "metadata": {},
   "outputs": [],
   "source": [
    "df = pd.DataFrame({\n",
    "    'Gender': gender_list,\n",
    "    'counts': counts,\n",
    "    'class_1 count': class_1_count,\n",
    "    'Sensitivity': sens,\n",
    "    'Specificity': specs,\n",
    "    'ROC_AUC': roc_aucs,\n",
    "})\n",
    "df.reset_index(drop=True, inplace=True)\n",
    "df"
   ]
  },
  {
   "cell_type": "markdown",
   "id": "ceeea157",
   "metadata": {},
   "source": [
    "# 5-year performance"
   ]
  },
  {
   "cell_type": "code",
   "execution_count": null,
   "id": "29186aa1",
   "metadata": {},
   "outputs": [],
   "source": [
    "model  = CatBoostClassifier().load_model('../Determine_trained_models/catboost_whole_dataset_phecodes_bmi_bp')"
   ]
  },
  {
   "cell_type": "code",
   "execution_count": null,
   "id": "08a10928",
   "metadata": {},
   "outputs": [],
   "source": [
    "req_test_dates_df = test_data_firstoutcome_df.drop_nulls().to_pandas()\n",
    "req_test_dates_df"
   ]
  },
  {
   "cell_type": "code",
   "execution_count": null,
   "id": "68ab219b",
   "metadata": {},
   "outputs": [],
   "source": [
    "# Constants\n",
    "start_date = pd.Timestamp('2019-04-01')\n",
    "\n",
    "# Calculate the difference in years between the Index_Start_date and the start_date if data is available\n",
    "req_test_dates_df['year_difference'] = (req_test_dates_df['FirstOutcomeDate'] - start_date).dt.days / 365.25\n",
    "\n",
    "# Filter DataFrames based on year difference, ignore NaNs as they indicate missing data in cohort_df\n",
    "df_less_than_1 = req_test_dates_df[req_test_dates_df['year_difference'] < 1].dropna()\n",
    "df_1_to_2 = req_test_dates_df[(req_test_dates_df['year_difference'] >= 1) & (req_test_dates_df['year_difference'] < 2)].dropna()\n",
    "df_2_to_3 = req_test_dates_df[(req_test_dates_df['year_difference'] >= 2) & (req_test_dates_df['year_difference'] < 3)].dropna()\n",
    "df_3_to_4 = req_test_dates_df[(req_test_dates_df['year_difference'] >= 3) & (req_test_dates_df['year_difference'] < 4)].dropna()\n",
    "df_4_to_5 = req_test_dates_df[(req_test_dates_df['year_difference'] >= 4) & (req_test_dates_df['year_difference'] < 5)].dropna()"
   ]
  },
  {
   "cell_type": "code",
   "execution_count": null,
   "id": "1feabdc0",
   "metadata": {},
   "outputs": [],
   "source": [
    "year_ranges = []\n",
    "sens = []\n",
    "specs = []\n",
    "roc_aucs = []\n",
    "counts =[]\n",
    "class_1_count = []\n",
    "acc_scores = []"
   ]
  },
  {
   "cell_type": "code",
   "execution_count": null,
   "id": "2be89da0",
   "metadata": {},
   "outputs": [],
   "source": [
    "for i,buf_df in enumerate([df_less_than_1, df_1_to_2, df_2_to_3, df_3_to_4]):\n",
    "     # Use the index of buf_df\n",
    "    indices = buf_df.index\n",
    "    # Use the index to filter X_test\n",
    "    X_test_buf = X_test.loc[indices.intersection(X_test.index)]\n",
    "    y_test_buf = y_test.loc[indices.intersection(X_test.index)]\n",
    "    \n",
    "    if i == 0:\n",
    "        year ='Less than 1 year'\n",
    "    if i == 1:\n",
    "        year ='Between 1 and 2 year'\n",
    "    if i == 2:\n",
    "        year ='Between 2 and 3 year'\n",
    "    if i == 3:\n",
    "        year ='Between 3 and 4 year'\n",
    "    \n",
    "    print(year)\n",
    "    sensitivity, specificity, roc_auc, acc = predict_on_data(X_test_buf, y_test_buf, model)\n",
    "    year_ranges.append(year)\n",
    "    sens.append(sensitivity)\n",
    "    specs.append(specificity)\n",
    "    roc_aucs.append(roc_auc)\n",
    "    counts.append(len(y_test_buf))\n",
    "    acc_scores.append(acc)"
   ]
  },
  {
   "cell_type": "code",
   "execution_count": null,
   "id": "58eda881",
   "metadata": {},
   "outputs": [],
   "source": [
    "df = pd.DataFrame({\n",
    "    'Age_Group': year_ranges,\n",
    "    'counts (class 1)': counts,\n",
    "    'Accuracy (class 1)': acc_scores,\n",
    "    'Sensitivity': sens,\n",
    "    'Specificity': specs,\n",
    "    'ROC_AUC': roc_aucs,\n",
    "})\n",
    "df"
   ]
  },
  {
   "cell_type": "code",
   "execution_count": null,
   "id": "9a15a3d7",
   "metadata": {},
   "outputs": [],
   "source": []
  }
 ],
 "metadata": {
  "kernelspec": {
   "display_name": "conda_python3",
   "language": "python",
   "name": "conda_python3"
  },
  "language_info": {
   "codemirror_mode": {
    "name": "ipython",
    "version": 3
   },
   "file_extension": ".py",
   "mimetype": "text/x-python",
   "name": "python",
   "nbconvert_exporter": "python",
   "pygments_lexer": "ipython3",
   "version": "3.10.16"
  }
 },
 "nbformat": 4,
 "nbformat_minor": 5
}
