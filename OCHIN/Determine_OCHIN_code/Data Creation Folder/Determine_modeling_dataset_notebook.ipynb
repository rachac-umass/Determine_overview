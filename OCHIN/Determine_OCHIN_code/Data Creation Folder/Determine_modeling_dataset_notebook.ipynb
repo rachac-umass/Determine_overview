{
 "cells": [
  {
   "cell_type": "markdown",
   "id": "3a6d9eae",
   "metadata": {},
   "source": [
    "# Installing libraries"
   ]
  },
  {
   "cell_type": "code",
   "execution_count": 1,
   "id": "47a10ebd",
   "metadata": {},
   "outputs": [
    {
     "name": "stdout",
     "output_type": "stream",
     "text": [
      "Channels:\n",
      " - conda-forge\n",
      " - nvidia\n",
      " - pytorch\n",
      "Platform: linux-64\n",
      "Collecting package metadata (repodata.json): ...working... done\n",
      "Solving environment: ...working... done\n",
      "\n",
      "# All requested packages already installed.\n",
      "\n"
     ]
    }
   ],
   "source": [
    "!conda install polars -y -q"
   ]
  },
  {
   "cell_type": "markdown",
   "id": "9f0d66fc",
   "metadata": {},
   "source": [
    "# Importing required libraries"
   ]
  },
  {
   "cell_type": "code",
   "execution_count": 2,
   "id": "ffc6f862",
   "metadata": {},
   "outputs": [],
   "source": [
    "import polars as pl\n",
    "import matplotlib.pyplot as plt\n",
    "import numpy as np"
   ]
  },
  {
   "cell_type": "markdown",
   "id": "5b495d30",
   "metadata": {},
   "source": [
    "# Helper functions and variables"
   ]
  },
  {
   "cell_type": "code",
   "execution_count": 3,
   "id": "8c04e5ef",
   "metadata": {},
   "outputs": [],
   "source": [
    "def get_association_count(df,threshold, use_func = None):\n",
    "    count = 0\n",
    "    if not use_func:\n",
    "        for i,j in df.count().to_dict(as_series=False).items():\n",
    "            if i!='PATIENT_NUM' and j[0]>threshold:\n",
    "                count+=1\n",
    "    elif use_func == 'sum':\n",
    "        for i,j in df.sum().to_dict(as_series=False).items():\n",
    "            if i!='PATIENT_NUM' and j[0]>threshold:\n",
    "                count+=1\n",
    "    return count"
   ]
  },
  {
   "cell_type": "code",
   "execution_count": 4,
   "id": "f1f3db90",
   "metadata": {},
   "outputs": [],
   "source": [
    "def get_patients_association_threshold_bar_plot(threshold, patients_association_count,title = None):\n",
    "    bplot = plt.bar(list(map(str, threshold)) , patients_association_count)\n",
    "    plt.bar_label(bplot,\n",
    "                  fontweight='bold',\n",
    "                  color='green')\n",
    "    if title:\n",
    "        plt.title('Patients assocation count for labloincs against threshold')\n",
    "    else:\n",
    "        plt.title('Patients assocation count vs threshold')\n",
    "            \n",
    "    plt.xlabel('Threshold')\n",
    "    plt.ylabel('Patient Count')\n",
    "    plt.show()"
   ]
  },
  {
   "cell_type": "code",
   "execution_count": null,
   "id": "e2ace5c9",
   "metadata": {},
   "outputs": [],
   "source": []
  },
  {
   "cell_type": "markdown",
   "id": "829c4799",
   "metadata": {},
   "source": [
    "# Config class for file paths and other configurations"
   ]
  },
  {
   "cell_type": "code",
   "execution_count": 77,
   "id": "b95e4088",
   "metadata": {},
   "outputs": [],
   "source": [
    "class modeling_config:\n",
    "    labs_path = 'Determine_lab_results_median_domain_expert_pivot.parquet'\n",
    "    meds_path = 'Determine_medications_active_ingredients_pivot.parquet'\n",
    "    diag_path = 'Determine_diagnoses_initial_3_chars_with_icd10z.parquet'\n",
    "    \n",
    "    demo_path = 'Determine_modeling_demographics_data.parquet'\n",
    "    target_path = 'Determine_Cohort_with_labels_OutcomeDate.parquet'\n",
    "    association_threshold = 20\n",
    "    folder = './Determine_Cohort_files_pivot/'"
   ]
  },
  {
   "cell_type": "markdown",
   "id": "be09d2d6",
   "metadata": {},
   "source": [
    "# EDA & Final processing for modeling"
   ]
  },
  {
   "cell_type": "markdown",
   "id": "d9ded108",
   "metadata": {},
   "source": [
    "## Lab results"
   ]
  },
  {
   "cell_type": "code",
   "execution_count": 78,
   "id": "f913b0c5",
   "metadata": {},
   "outputs": [],
   "source": [
    "labresults_df = pl.read_parquet(modeling_config.folder+modeling_config.labs_path)"
   ]
  },
  {
   "cell_type": "code",
   "execution_count": 79,
   "id": "d50d1542",
   "metadata": {},
   "outputs": [
    {
     "name": "stdout",
     "output_type": "stream",
     "text": [
      "Number of data points:  406273\n"
     ]
    }
   ],
   "source": [
    "print(\"Number of data points: \",len(labresults_df))"
   ]
  },
  {
   "cell_type": "code",
   "execution_count": 80,
   "id": "b8e3b20c",
   "metadata": {},
   "outputs": [
    {
     "data": {
      "text/html": [
       "<div><style>\n",
       ".dataframe > thead > tr,\n",
       ".dataframe > tbody > tr {\n",
       "  text-align: right;\n",
       "  white-space: pre-wrap;\n",
       "}\n",
       "</style>\n",
       "<small>shape: (3, 1_111)</small><table border=\"1\" class=\"dataframe\"><thead><tr><th>PATIENT_NUM</th><th>LOINC:2500-7</th><th>LOINC:5818-0</th><th>LOINC:2571-8</th><th>LOINC:2345-7</th><th>LOINC:73578-7</th><th>LOINC:3016-3</th><th>LOINC:706-2</th><th>LOINC:2885-2</th><th>LOINC:777-3</th><th>LOINC:1975-2</th><th>LOINC:785-6</th><th>LOINC:6768-6</th><th>LOINC:1742-6</th><th>LOINC:11054-4</th><th>LOINC:1920-8</th><th>LOINC:5905-5</th><th>LOINC:51584-1</th><th>LOINC:736-9</th><th>LOINC:787-2</th><th>LOINC:770-8</th><th>LOINC:788-0</th><th>LOINC:2028-9</th><th>LOINC:13457-7</th><th>LOINC:17861-6</th><th>LOINC:3097-3</th><th>LOINC:2862-1</th><th>LOINC:2075-0</th><th>LOINC:11580-8</th><th>LOINC:2823-3</th><th>LOINC:10834-0</th><th>LOINC:1759-0</th><th>LOINC:28542-9</th><th>LOINC:48642-3</th><th>LOINC:13658-0</th><th>LOINC:3094-0</th><th>LOINC:718-7</th><th>&hellip;</th><th>LOINC:30331-3</th><th>LOINC:15202-5</th><th>LOINC:51844-9</th><th>LOINC:18314-5</th><th>LOINC:17501-8</th><th>LOINC:738-5</th><th>LOINC:2940-5</th><th>LOINC:69573-4</th><th>LOINC:2519-7</th><th>LOINC:32227-1</th><th>LOINC:29763-0</th><th>LOINC:14157-2</th><th>LOINC:18184-2</th><th>LOINC:2342-4</th><th>LOINC:12949-4</th><th>LOINC:2099-0</th><th>LOINC:13522-8</th><th>LOINC:26461-4</th><th>LOINC:13706-7</th><th>LOINC:2746-6</th><th>LOINC:30534-2</th><th>LOINC:2721-9</th><th>LOINC:20493-3</th><th>LOINC:2615-3</th><th>LOINC:44242-6</th><th>LOINC:44092-5</th><th>LOINC:33325-2</th><th>LOINC:9305-4</th><th>LOINC:21365-2</th><th>LOINC:12480-0</th><th>LOINC:19176-7</th><th>LOINC:19235-1</th><th>LOINC:30328-9</th><th>LOINC:22707-4</th><th>LOINC:74428-4</th><th>LOINC:46737-3</th><th>LOINC:30560-7</th></tr><tr><td>i64</td><td>f32</td><td>f32</td><td>f32</td><td>f32</td><td>f32</td><td>f32</td><td>f32</td><td>f32</td><td>f32</td><td>f32</td><td>f32</td><td>f32</td><td>f32</td><td>f32</td><td>f32</td><td>f32</td><td>f32</td><td>f32</td><td>f32</td><td>f32</td><td>f32</td><td>f32</td><td>f32</td><td>f32</td><td>f32</td><td>f32</td><td>f32</td><td>f32</td><td>f32</td><td>f32</td><td>f32</td><td>f32</td><td>f32</td><td>f32</td><td>f32</td><td>f32</td><td>&hellip;</td><td>f32</td><td>f32</td><td>f32</td><td>f32</td><td>f32</td><td>f32</td><td>f32</td><td>f32</td><td>f32</td><td>f32</td><td>f32</td><td>f32</td><td>f32</td><td>f32</td><td>f32</td><td>f32</td><td>f32</td><td>f32</td><td>f32</td><td>f32</td><td>f32</td><td>f32</td><td>f32</td><td>f32</td><td>f32</td><td>f32</td><td>f32</td><td>f32</td><td>f32</td><td>f32</td><td>f32</td><td>f32</td><td>f32</td><td>f32</td><td>f32</td><td>f32</td><td>f32</td></tr></thead><tbody><tr><td>5149925</td><td>283.0</td><td>null</td><td>null</td><td>null</td><td>null</td><td>0.73</td><td>null</td><td>7.5</td><td>297.0</td><td>0.8</td><td>null</td><td>null</td><td>25.0</td><td>null</td><td>16.0</td><td>null</td><td>null</td><td>null</td><td>null</td><td>null</td><td>12.7</td><td>null</td><td>null</td><td>9.3</td><td>13.0</td><td>null</td><td>102.0</td><td>null</td><td>4.1</td><td>3.8</td><td>1.0</td><td>10.1</td><td>60.0</td><td>null</td><td>11.0</td><td>null</td><td>&hellip;</td><td>null</td><td>null</td><td>null</td><td>null</td><td>null</td><td>null</td><td>null</td><td>null</td><td>null</td><td>null</td><td>null</td><td>null</td><td>null</td><td>null</td><td>null</td><td>null</td><td>null</td><td>null</td><td>null</td><td>null</td><td>null</td><td>null</td><td>null</td><td>null</td><td>null</td><td>null</td><td>null</td><td>null</td><td>null</td><td>null</td><td>null</td><td>null</td><td>null</td><td>null</td><td>null</td><td>null</td><td>null</td></tr><tr><td>3808504</td><td>null</td><td>0.2</td><td>null</td><td>null</td><td>null</td><td>null</td><td>null</td><td>null</td><td>null</td><td>null</td><td>null</td><td>null</td><td>null</td><td>null</td><td>null</td><td>null</td><td>null</td><td>null</td><td>null</td><td>null</td><td>null</td><td>null</td><td>null</td><td>null</td><td>null</td><td>null</td><td>null</td><td>null</td><td>null</td><td>null</td><td>null</td><td>null</td><td>null</td><td>null</td><td>null</td><td>null</td><td>&hellip;</td><td>null</td><td>null</td><td>null</td><td>null</td><td>null</td><td>null</td><td>null</td><td>null</td><td>null</td><td>null</td><td>null</td><td>null</td><td>null</td><td>null</td><td>null</td><td>null</td><td>null</td><td>null</td><td>null</td><td>null</td><td>null</td><td>null</td><td>null</td><td>null</td><td>null</td><td>null</td><td>null</td><td>null</td><td>null</td><td>null</td><td>null</td><td>null</td><td>null</td><td>null</td><td>null</td><td>null</td><td>null</td></tr><tr><td>5164862</td><td>null</td><td>null</td><td>58.0</td><td>null</td><td>null</td><td>null</td><td>0.2</td><td>7.7</td><td>368.0</td><td>0.4</td><td>33.299999</td><td>91.5</td><td>16.5</td><td>null</td><td>27.0</td><td>14.5</td><td>null</td><td>28.9</td><td>96.199997</td><td>44.900002</td><td>13.1</td><td>29.5</td><td>112.0</td><td>9.85</td><td>22.5</td><td>null</td><td>95.0</td><td>1.22</td><td>4.5</td><td>3.0</td><td>1.57</td><td>null</td><td>60.0</td><td>null</td><td>13.5</td><td>14.3</td><td>&hellip;</td><td>null</td><td>null</td><td>null</td><td>null</td><td>null</td><td>null</td><td>null</td><td>null</td><td>null</td><td>null</td><td>null</td><td>null</td><td>null</td><td>null</td><td>null</td><td>null</td><td>null</td><td>null</td><td>null</td><td>null</td><td>null</td><td>null</td><td>null</td><td>null</td><td>null</td><td>null</td><td>null</td><td>null</td><td>null</td><td>null</td><td>null</td><td>null</td><td>null</td><td>null</td><td>null</td><td>null</td><td>null</td></tr></tbody></table></div>"
      ],
      "text/plain": [
       "shape: (3, 1_111)\n",
       "┌───────────┬───────────┬───────────┬───────────┬───┬───────────┬───────────┬───────────┬──────────┐\n",
       "│ PATIENT_N ┆ LOINC:250 ┆ LOINC:581 ┆ LOINC:257 ┆ … ┆ LOINC:227 ┆ LOINC:744 ┆ LOINC:467 ┆ LOINC:30 │\n",
       "│ UM        ┆ 0-7       ┆ 8-0       ┆ 1-8       ┆   ┆ 07-4      ┆ 28-4      ┆ 37-3      ┆ 560-7    │\n",
       "│ ---       ┆ ---       ┆ ---       ┆ ---       ┆   ┆ ---       ┆ ---       ┆ ---       ┆ ---      │\n",
       "│ i64       ┆ f32       ┆ f32       ┆ f32       ┆   ┆ f32       ┆ f32       ┆ f32       ┆ f32      │\n",
       "╞═══════════╪═══════════╪═══════════╪═══════════╪═══╪═══════════╪═══════════╪═══════════╪══════════╡\n",
       "│ 5149925   ┆ 283.0     ┆ null      ┆ null      ┆ … ┆ null      ┆ null      ┆ null      ┆ null     │\n",
       "│ 3808504   ┆ null      ┆ 0.2       ┆ null      ┆ … ┆ null      ┆ null      ┆ null      ┆ null     │\n",
       "│ 5164862   ┆ null      ┆ null      ┆ 58.0      ┆ … ┆ null      ┆ null      ┆ null      ┆ null     │\n",
       "└───────────┴───────────┴───────────┴───────────┴───┴───────────┴───────────┴───────────┴──────────┘"
      ]
     },
     "execution_count": 80,
     "metadata": {},
     "output_type": "execute_result"
    }
   ],
   "source": [
    "labresults_df.head(3)"
   ]
  },
  {
   "cell_type": "code",
   "execution_count": 81,
   "id": "cf5d733c",
   "metadata": {},
   "outputs": [
    {
     "data": {
      "text/html": [
       "<div><style>\n",
       ".dataframe > thead > tr,\n",
       ".dataframe > tbody > tr {\n",
       "  text-align: right;\n",
       "  white-space: pre-wrap;\n",
       "}\n",
       "</style>\n",
       "<small>shape: (1, 1_111)</small><table border=\"1\" class=\"dataframe\"><thead><tr><th>PATIENT_NUM</th><th>LOINC:2500-7</th><th>LOINC:5818-0</th><th>LOINC:2571-8</th><th>LOINC:2345-7</th><th>LOINC:73578-7</th><th>LOINC:3016-3</th><th>LOINC:706-2</th><th>LOINC:2885-2</th><th>LOINC:777-3</th><th>LOINC:1975-2</th><th>LOINC:785-6</th><th>LOINC:6768-6</th><th>LOINC:1742-6</th><th>LOINC:11054-4</th><th>LOINC:1920-8</th><th>LOINC:5905-5</th><th>LOINC:51584-1</th><th>LOINC:736-9</th><th>LOINC:787-2</th><th>LOINC:770-8</th><th>LOINC:788-0</th><th>LOINC:2028-9</th><th>LOINC:13457-7</th><th>LOINC:17861-6</th><th>LOINC:3097-3</th><th>LOINC:2862-1</th><th>LOINC:2075-0</th><th>LOINC:11580-8</th><th>LOINC:2823-3</th><th>LOINC:10834-0</th><th>LOINC:1759-0</th><th>LOINC:28542-9</th><th>LOINC:48642-3</th><th>LOINC:13658-0</th><th>LOINC:3094-0</th><th>LOINC:718-7</th><th>&hellip;</th><th>LOINC:30331-3</th><th>LOINC:15202-5</th><th>LOINC:51844-9</th><th>LOINC:18314-5</th><th>LOINC:17501-8</th><th>LOINC:738-5</th><th>LOINC:2940-5</th><th>LOINC:69573-4</th><th>LOINC:2519-7</th><th>LOINC:32227-1</th><th>LOINC:29763-0</th><th>LOINC:14157-2</th><th>LOINC:18184-2</th><th>LOINC:2342-4</th><th>LOINC:12949-4</th><th>LOINC:2099-0</th><th>LOINC:13522-8</th><th>LOINC:26461-4</th><th>LOINC:13706-7</th><th>LOINC:2746-6</th><th>LOINC:30534-2</th><th>LOINC:2721-9</th><th>LOINC:20493-3</th><th>LOINC:2615-3</th><th>LOINC:44242-6</th><th>LOINC:44092-5</th><th>LOINC:33325-2</th><th>LOINC:9305-4</th><th>LOINC:21365-2</th><th>LOINC:12480-0</th><th>LOINC:19176-7</th><th>LOINC:19235-1</th><th>LOINC:30328-9</th><th>LOINC:22707-4</th><th>LOINC:74428-4</th><th>LOINC:46737-3</th><th>LOINC:30560-7</th></tr><tr><td>u32</td><td>u32</td><td>u32</td><td>u32</td><td>u32</td><td>u32</td><td>u32</td><td>u32</td><td>u32</td><td>u32</td><td>u32</td><td>u32</td><td>u32</td><td>u32</td><td>u32</td><td>u32</td><td>u32</td><td>u32</td><td>u32</td><td>u32</td><td>u32</td><td>u32</td><td>u32</td><td>u32</td><td>u32</td><td>u32</td><td>u32</td><td>u32</td><td>u32</td><td>u32</td><td>u32</td><td>u32</td><td>u32</td><td>u32</td><td>u32</td><td>u32</td><td>u32</td><td>&hellip;</td><td>u32</td><td>u32</td><td>u32</td><td>u32</td><td>u32</td><td>u32</td><td>u32</td><td>u32</td><td>u32</td><td>u32</td><td>u32</td><td>u32</td><td>u32</td><td>u32</td><td>u32</td><td>u32</td><td>u32</td><td>u32</td><td>u32</td><td>u32</td><td>u32</td><td>u32</td><td>u32</td><td>u32</td><td>u32</td><td>u32</td><td>u32</td><td>u32</td><td>u32</td><td>u32</td><td>u32</td><td>u32</td><td>u32</td><td>u32</td><td>u32</td><td>u32</td><td>u32</td></tr></thead><tbody><tr><td>406273</td><td>16046</td><td>21702</td><td>204674</td><td>262806</td><td>17283</td><td>117754</td><td>200073</td><td>234605</td><td>253467</td><td>254580</td><td>236857</td><td>250803</td><td>219266</td><td>36600</td><td>234449</td><td>198936</td><td>56812</td><td>201077</td><td>259063</td><td>198550</td><td>253172</td><td>247687</td><td>190030</td><td>259432</td><td>109625</td><td>3385</td><td>268955</td><td>19205</td><td>259935</td><td>201537</td><td>213542</td><td>7003</td><td>84203</td><td>33697</td><td>263855</td><td>239370</td><td>&hellip;</td><td>1</td><td>2</td><td>1</td><td>1</td><td>1</td><td>1</td><td>2</td><td>1</td><td>1</td><td>3</td><td>1</td><td>1</td><td>1</td><td>3</td><td>1</td><td>1</td><td>1</td><td>1</td><td>1</td><td>1</td><td>1</td><td>1</td><td>1</td><td>1</td><td>1</td><td>1</td><td>1</td><td>1</td><td>1</td><td>1</td><td>1</td><td>1</td><td>1</td><td>1</td><td>1</td><td>1</td><td>1</td></tr></tbody></table></div>"
      ],
      "text/plain": [
       "shape: (1, 1_111)\n",
       "┌───────────┬───────────┬───────────┬───────────┬───┬───────────┬───────────┬───────────┬──────────┐\n",
       "│ PATIENT_N ┆ LOINC:250 ┆ LOINC:581 ┆ LOINC:257 ┆ … ┆ LOINC:227 ┆ LOINC:744 ┆ LOINC:467 ┆ LOINC:30 │\n",
       "│ UM        ┆ 0-7       ┆ 8-0       ┆ 1-8       ┆   ┆ 07-4      ┆ 28-4      ┆ 37-3      ┆ 560-7    │\n",
       "│ ---       ┆ ---       ┆ ---       ┆ ---       ┆   ┆ ---       ┆ ---       ┆ ---       ┆ ---      │\n",
       "│ u32       ┆ u32       ┆ u32       ┆ u32       ┆   ┆ u32       ┆ u32       ┆ u32       ┆ u32      │\n",
       "╞═══════════╪═══════════╪═══════════╪═══════════╪═══╪═══════════╪═══════════╪═══════════╪══════════╡\n",
       "│ 406273    ┆ 16046     ┆ 21702     ┆ 204674    ┆ … ┆ 1         ┆ 1         ┆ 1         ┆ 1        │\n",
       "└───────────┴───────────┴───────────┴───────────┴───┴───────────┴───────────┴───────────┴──────────┘"
      ]
     },
     "execution_count": 81,
     "metadata": {},
     "output_type": "execute_result"
    }
   ],
   "source": [
    "labresults_df.count()"
   ]
  },
  {
   "cell_type": "code",
   "execution_count": 82,
   "id": "ee6dd8f1",
   "metadata": {},
   "outputs": [],
   "source": [
    "threshold  = [20,40,60,80,100,120,140]\n",
    "patients_association_count  =[]\n",
    "for thr in threshold:\n",
    "    patients_association_count.append(get_association_count(labresults_df, thr))"
   ]
  },
  {
   "cell_type": "code",
   "execution_count": 83,
   "id": "dfa897e7",
   "metadata": {},
   "outputs": [
    {
     "data": {
      "text/plain": [
       "['20', '40', '60', '80', '100', '120', '140']"
      ]
     },
     "execution_count": 83,
     "metadata": {},
     "output_type": "execute_result"
    }
   ],
   "source": [
    "list(map(str, threshold))"
   ]
  },
  {
   "cell_type": "code",
   "execution_count": 55,
   "id": "b46178d7",
   "metadata": {},
   "outputs": [
    {
     "data": {
      "image/png": "[encoded data removed]",
      "text/plain": [
       "<Figure size 640x480 with 1 Axes>"
      ]
     },
     "metadata": {},
     "output_type": "display_data"
    }
   ],
   "source": [
    "bplot = plt.bar(list(map(str, threshold)) , patients_association_count)\n",
    "plt.bar_label(bplot,\n",
    "              fontweight='bold',\n",
    "              color='green')\n",
    "plt.title('Patients assocation count for labloincs against threshold')\n",
    "plt.xlabel('Threshold')\n",
    "plt.ylabel('Patient Count')\n",
    "plt.show()"
   ]
  },
  {
   "cell_type": "code",
   "execution_count": 56,
   "id": "26f1dbcd",
   "metadata": {},
   "outputs": [],
   "source": [
    "### finding columns to ignore\n",
    "selected_threshold =50\n",
    "keep_columns = []\n",
    "for i,j in labresults_df.count().to_dict(as_series=False).items():\n",
    "        if i!='PATIENT_NUM' and j[0]>selected_threshold:\n",
    "            keep_columns.append(i)"
   ]
  },
  {
   "cell_type": "code",
   "execution_count": 57,
   "id": "088c509d",
   "metadata": {},
   "outputs": [
    {
     "name": "stdout",
     "output_type": "stream",
     "text": [
      "Number of columns to be kept with threshold 50 patients: 479\n"
     ]
    }
   ],
   "source": [
    "print(\"Number of columns to be kept with threshold {} patients: {}\".format(selected_threshold, len(keep_columns)))"
   ]
  },
  {
   "cell_type": "code",
   "execution_count": 58,
   "id": "b33cbaa2",
   "metadata": {},
   "outputs": [
    {
     "data": {
      "text/plain": [
       "479"
      ]
     },
     "execution_count": 58,
     "metadata": {},
     "output_type": "execute_result"
    }
   ],
   "source": [
    "len(keep_columns)"
   ]
  },
  {
   "cell_type": "code",
   "execution_count": 59,
   "id": "2ea4cbd8",
   "metadata": {},
   "outputs": [],
   "source": [
    "labresults_pivot_keep_df = labresults_df.select(['PATIENT_NUM'] + keep_columns)"
   ]
  },
  {
   "cell_type": "code",
   "execution_count": 60,
   "id": "330d9fa4",
   "metadata": {},
   "outputs": [
    {
     "data": {
      "text/html": [
       "<div><style>\n",
       ".dataframe > thead > tr,\n",
       ".dataframe > tbody > tr {\n",
       "  text-align: right;\n",
       "  white-space: pre-wrap;\n",
       "}\n",
       "</style>\n",
       "<small>shape: (80, 480)</small><table border=\"1\" class=\"dataframe\"><thead><tr><th>PATIENT_NUM</th><th>LOINC:2500-7</th><th>LOINC:5818-0</th><th>LOINC:2571-8</th><th>LOINC:2345-7</th><th>LOINC:73578-7</th><th>LOINC:3016-3</th><th>LOINC:706-2</th><th>LOINC:2885-2</th><th>LOINC:777-3</th><th>LOINC:1975-2</th><th>LOINC:785-6</th><th>LOINC:6768-6</th><th>LOINC:1742-6</th><th>LOINC:11054-4</th><th>LOINC:1920-8</th><th>LOINC:5905-5</th><th>LOINC:51584-1</th><th>LOINC:736-9</th><th>LOINC:787-2</th><th>LOINC:770-8</th><th>LOINC:788-0</th><th>LOINC:2028-9</th><th>LOINC:13457-7</th><th>LOINC:17861-6</th><th>LOINC:3097-3</th><th>LOINC:2862-1</th><th>LOINC:2075-0</th><th>LOINC:11580-8</th><th>LOINC:2823-3</th><th>LOINC:10834-0</th><th>LOINC:1759-0</th><th>LOINC:28542-9</th><th>LOINC:48642-3</th><th>LOINC:13658-0</th><th>LOINC:3094-0</th><th>LOINC:718-7</th><th>&hellip;</th><th>LOINC:17811-1</th><th>LOINC:17817-8</th><th>LOINC:2149-3</th><th>LOINC:48378-4</th><th>LOINC:4547-6</th><th>LOINC:32350-1</th><th>LOINC:35707-9</th><th>LOINC:32123-2</th><th>LOINC:20466-9</th><th>LOINC:30572-2</th><th>LOINC:4575-7</th><th>LOINC:38445-3</th><th>LOINC:19049-6</th><th>LOINC:15016-9</th><th>LOINC:2472-9</th><th>LOINC:32046-5</th><th>LOINC:28541-1</th><th>LOINC:26505-8</th><th>LOINC:41649-5</th><th>LOINC:32682-7</th><th>LOINC:30433-7</th><th>LOINC:2147-7</th><th>LOINC:20568-2</th><th>LOINC:32353-5</th><th>LOINC:2148-5</th><th>LOINC:6942-7</th><th>LOINC:2609-6</th><th>LOINC:13981-6</th><th>LOINC:48343-8</th><th>LOINC:29142-7</th><th>LOINC:17782-4</th><th>LOINC:2669-0</th><th>LOINC:72888-1</th><th>LOINC:33944-0</th><th>LOINC:42246-9</th><th>LOINC:2095-8</th><th>LOINC:38506-2</th></tr><tr><td>i64</td><td>f32</td><td>f32</td><td>f32</td><td>f32</td><td>f32</td><td>f32</td><td>f32</td><td>f32</td><td>f32</td><td>f32</td><td>f32</td><td>f32</td><td>f32</td><td>f32</td><td>f32</td><td>f32</td><td>f32</td><td>f32</td><td>f32</td><td>f32</td><td>f32</td><td>f32</td><td>f32</td><td>f32</td><td>f32</td><td>f32</td><td>f32</td><td>f32</td><td>f32</td><td>f32</td><td>f32</td><td>f32</td><td>f32</td><td>f32</td><td>f32</td><td>f32</td><td>&hellip;</td><td>f32</td><td>f32</td><td>f32</td><td>f32</td><td>f32</td><td>f32</td><td>f32</td><td>f32</td><td>f32</td><td>f32</td><td>f32</td><td>f32</td><td>f32</td><td>f32</td><td>f32</td><td>f32</td><td>f32</td><td>f32</td><td>f32</td><td>f32</td><td>f32</td><td>f32</td><td>f32</td><td>f32</td><td>f32</td><td>f32</td><td>f32</td><td>f32</td><td>f32</td><td>f32</td><td>f32</td><td>f32</td><td>f32</td><td>f32</td><td>f32</td><td>f32</td><td>f32</td></tr></thead><tbody><tr><td>2955018</td><td>null</td><td>null</td><td>null</td><td>null</td><td>null</td><td>null</td><td>null</td><td>null</td><td>null</td><td>null</td><td>null</td><td>null</td><td>null</td><td>null</td><td>null</td><td>null</td><td>null</td><td>null</td><td>null</td><td>null</td><td>null</td><td>null</td><td>null</td><td>null</td><td>null</td><td>null</td><td>null</td><td>null</td><td>null</td><td>null</td><td>null</td><td>null</td><td>null</td><td>null</td><td>null</td><td>null</td><td>&hellip;</td><td>null</td><td>null</td><td>null</td><td>null</td><td>null</td><td>null</td><td>null</td><td>null</td><td>null</td><td>null</td><td>null</td><td>null</td><td>null</td><td>null</td><td>null</td><td>null</td><td>null</td><td>null</td><td>null</td><td>null</td><td>null</td><td>null</td><td>null</td><td>null</td><td>null</td><td>null</td><td>null</td><td>null</td><td>null</td><td>null</td><td>null</td><td>null</td><td>null</td><td>null</td><td>null</td><td>null</td><td>null</td></tr><tr><td>6177437</td><td>null</td><td>null</td><td>null</td><td>null</td><td>null</td><td>null</td><td>null</td><td>null</td><td>null</td><td>null</td><td>null</td><td>null</td><td>null</td><td>null</td><td>null</td><td>null</td><td>null</td><td>null</td><td>null</td><td>null</td><td>null</td><td>null</td><td>null</td><td>null</td><td>null</td><td>null</td><td>null</td><td>null</td><td>null</td><td>null</td><td>null</td><td>null</td><td>null</td><td>null</td><td>null</td><td>null</td><td>&hellip;</td><td>null</td><td>null</td><td>null</td><td>null</td><td>null</td><td>null</td><td>null</td><td>null</td><td>null</td><td>null</td><td>null</td><td>null</td><td>null</td><td>null</td><td>null</td><td>null</td><td>null</td><td>null</td><td>null</td><td>null</td><td>null</td><td>null</td><td>null</td><td>null</td><td>null</td><td>null</td><td>null</td><td>null</td><td>null</td><td>null</td><td>null</td><td>null</td><td>null</td><td>null</td><td>null</td><td>null</td><td>null</td></tr><tr><td>5932797</td><td>null</td><td>null</td><td>null</td><td>null</td><td>null</td><td>null</td><td>null</td><td>null</td><td>null</td><td>null</td><td>null</td><td>null</td><td>null</td><td>null</td><td>null</td><td>null</td><td>null</td><td>null</td><td>null</td><td>null</td><td>null</td><td>null</td><td>null</td><td>null</td><td>null</td><td>null</td><td>null</td><td>null</td><td>null</td><td>null</td><td>null</td><td>null</td><td>null</td><td>null</td><td>null</td><td>null</td><td>&hellip;</td><td>null</td><td>null</td><td>null</td><td>null</td><td>null</td><td>null</td><td>null</td><td>null</td><td>null</td><td>null</td><td>null</td><td>null</td><td>null</td><td>null</td><td>null</td><td>null</td><td>null</td><td>null</td><td>null</td><td>null</td><td>null</td><td>null</td><td>null</td><td>null</td><td>null</td><td>null</td><td>null</td><td>null</td><td>null</td><td>null</td><td>null</td><td>null</td><td>null</td><td>null</td><td>null</td><td>null</td><td>null</td></tr><tr><td>2210945</td><td>null</td><td>null</td><td>null</td><td>null</td><td>null</td><td>null</td><td>null</td><td>null</td><td>null</td><td>null</td><td>null</td><td>null</td><td>null</td><td>null</td><td>null</td><td>null</td><td>null</td><td>null</td><td>null</td><td>null</td><td>null</td><td>null</td><td>null</td><td>null</td><td>null</td><td>null</td><td>null</td><td>null</td><td>null</td><td>null</td><td>null</td><td>null</td><td>null</td><td>null</td><td>null</td><td>null</td><td>&hellip;</td><td>null</td><td>null</td><td>null</td><td>null</td><td>null</td><td>null</td><td>null</td><td>null</td><td>null</td><td>null</td><td>null</td><td>null</td><td>null</td><td>null</td><td>null</td><td>null</td><td>null</td><td>null</td><td>null</td><td>null</td><td>null</td><td>null</td><td>null</td><td>null</td><td>null</td><td>null</td><td>null</td><td>null</td><td>null</td><td>null</td><td>null</td><td>null</td><td>null</td><td>null</td><td>null</td><td>null</td><td>null</td></tr><tr><td>3167382</td><td>null</td><td>null</td><td>null</td><td>null</td><td>null</td><td>null</td><td>null</td><td>null</td><td>null</td><td>null</td><td>null</td><td>null</td><td>null</td><td>null</td><td>null</td><td>null</td><td>null</td><td>null</td><td>null</td><td>null</td><td>null</td><td>null</td><td>null</td><td>null</td><td>null</td><td>null</td><td>null</td><td>null</td><td>null</td><td>null</td><td>null</td><td>null</td><td>null</td><td>null</td><td>null</td><td>null</td><td>&hellip;</td><td>null</td><td>null</td><td>null</td><td>null</td><td>null</td><td>null</td><td>null</td><td>null</td><td>null</td><td>null</td><td>null</td><td>null</td><td>null</td><td>null</td><td>null</td><td>null</td><td>null</td><td>null</td><td>null</td><td>null</td><td>null</td><td>null</td><td>null</td><td>null</td><td>null</td><td>null</td><td>null</td><td>null</td><td>null</td><td>null</td><td>null</td><td>null</td><td>null</td><td>null</td><td>null</td><td>null</td><td>null</td></tr><tr><td>&hellip;</td><td>&hellip;</td><td>&hellip;</td><td>&hellip;</td><td>&hellip;</td><td>&hellip;</td><td>&hellip;</td><td>&hellip;</td><td>&hellip;</td><td>&hellip;</td><td>&hellip;</td><td>&hellip;</td><td>&hellip;</td><td>&hellip;</td><td>&hellip;</td><td>&hellip;</td><td>&hellip;</td><td>&hellip;</td><td>&hellip;</td><td>&hellip;</td><td>&hellip;</td><td>&hellip;</td><td>&hellip;</td><td>&hellip;</td><td>&hellip;</td><td>&hellip;</td><td>&hellip;</td><td>&hellip;</td><td>&hellip;</td><td>&hellip;</td><td>&hellip;</td><td>&hellip;</td><td>&hellip;</td><td>&hellip;</td><td>&hellip;</td><td>&hellip;</td><td>&hellip;</td><td>&hellip;</td><td>&hellip;</td><td>&hellip;</td><td>&hellip;</td><td>&hellip;</td><td>&hellip;</td><td>&hellip;</td><td>&hellip;</td><td>&hellip;</td><td>&hellip;</td><td>&hellip;</td><td>&hellip;</td><td>&hellip;</td><td>&hellip;</td><td>&hellip;</td><td>&hellip;</td><td>&hellip;</td><td>&hellip;</td><td>&hellip;</td><td>&hellip;</td><td>&hellip;</td><td>&hellip;</td><td>&hellip;</td><td>&hellip;</td><td>&hellip;</td><td>&hellip;</td><td>&hellip;</td><td>&hellip;</td><td>&hellip;</td><td>&hellip;</td><td>&hellip;</td><td>&hellip;</td><td>&hellip;</td><td>&hellip;</td><td>&hellip;</td><td>&hellip;</td><td>&hellip;</td><td>&hellip;</td></tr><tr><td>647189</td><td>null</td><td>null</td><td>null</td><td>null</td><td>null</td><td>null</td><td>null</td><td>null</td><td>null</td><td>null</td><td>null</td><td>null</td><td>null</td><td>null</td><td>null</td><td>null</td><td>null</td><td>null</td><td>null</td><td>null</td><td>null</td><td>null</td><td>null</td><td>null</td><td>null</td><td>null</td><td>null</td><td>null</td><td>null</td><td>null</td><td>null</td><td>null</td><td>null</td><td>null</td><td>null</td><td>null</td><td>&hellip;</td><td>null</td><td>null</td><td>null</td><td>null</td><td>null</td><td>null</td><td>null</td><td>null</td><td>null</td><td>null</td><td>null</td><td>null</td><td>null</td><td>null</td><td>null</td><td>null</td><td>null</td><td>null</td><td>null</td><td>null</td><td>null</td><td>null</td><td>null</td><td>null</td><td>null</td><td>null</td><td>null</td><td>null</td><td>null</td><td>null</td><td>null</td><td>null</td><td>null</td><td>null</td><td>null</td><td>null</td><td>null</td></tr><tr><td>1213370</td><td>null</td><td>null</td><td>null</td><td>null</td><td>null</td><td>null</td><td>null</td><td>null</td><td>null</td><td>null</td><td>null</td><td>null</td><td>null</td><td>null</td><td>null</td><td>null</td><td>null</td><td>null</td><td>null</td><td>null</td><td>null</td><td>null</td><td>null</td><td>null</td><td>null</td><td>null</td><td>null</td><td>null</td><td>null</td><td>null</td><td>null</td><td>null</td><td>null</td><td>null</td><td>null</td><td>null</td><td>&hellip;</td><td>null</td><td>null</td><td>null</td><td>null</td><td>null</td><td>null</td><td>null</td><td>null</td><td>null</td><td>null</td><td>null</td><td>null</td><td>null</td><td>null</td><td>null</td><td>null</td><td>null</td><td>null</td><td>null</td><td>null</td><td>null</td><td>null</td><td>null</td><td>null</td><td>null</td><td>null</td><td>null</td><td>null</td><td>null</td><td>null</td><td>null</td><td>null</td><td>null</td><td>null</td><td>null</td><td>null</td><td>null</td></tr><tr><td>9853275</td><td>null</td><td>null</td><td>null</td><td>null</td><td>null</td><td>null</td><td>null</td><td>null</td><td>null</td><td>null</td><td>null</td><td>null</td><td>null</td><td>null</td><td>null</td><td>null</td><td>null</td><td>null</td><td>null</td><td>null</td><td>null</td><td>null</td><td>null</td><td>null</td><td>null</td><td>null</td><td>null</td><td>null</td><td>null</td><td>null</td><td>null</td><td>null</td><td>null</td><td>null</td><td>null</td><td>null</td><td>&hellip;</td><td>null</td><td>null</td><td>null</td><td>null</td><td>null</td><td>null</td><td>null</td><td>null</td><td>null</td><td>null</td><td>null</td><td>null</td><td>null</td><td>null</td><td>null</td><td>null</td><td>null</td><td>null</td><td>null</td><td>null</td><td>null</td><td>null</td><td>null</td><td>null</td><td>null</td><td>null</td><td>null</td><td>null</td><td>null</td><td>null</td><td>null</td><td>null</td><td>null</td><td>null</td><td>null</td><td>null</td><td>null</td></tr><tr><td>1761273</td><td>null</td><td>null</td><td>null</td><td>null</td><td>null</td><td>null</td><td>null</td><td>null</td><td>null</td><td>null</td><td>null</td><td>null</td><td>null</td><td>null</td><td>null</td><td>null</td><td>null</td><td>null</td><td>null</td><td>null</td><td>null</td><td>null</td><td>null</td><td>null</td><td>null</td><td>null</td><td>null</td><td>null</td><td>null</td><td>null</td><td>null</td><td>null</td><td>null</td><td>null</td><td>null</td><td>null</td><td>&hellip;</td><td>null</td><td>null</td><td>null</td><td>null</td><td>null</td><td>null</td><td>null</td><td>null</td><td>null</td><td>null</td><td>null</td><td>null</td><td>null</td><td>null</td><td>null</td><td>null</td><td>null</td><td>null</td><td>null</td><td>null</td><td>null</td><td>null</td><td>null</td><td>null</td><td>null</td><td>null</td><td>null</td><td>null</td><td>null</td><td>null</td><td>null</td><td>null</td><td>null</td><td>null</td><td>null</td><td>null</td><td>null</td></tr><tr><td>4440071</td><td>null</td><td>null</td><td>null</td><td>null</td><td>null</td><td>null</td><td>null</td><td>null</td><td>null</td><td>null</td><td>null</td><td>null</td><td>null</td><td>null</td><td>null</td><td>null</td><td>null</td><td>null</td><td>null</td><td>null</td><td>null</td><td>null</td><td>null</td><td>null</td><td>null</td><td>null</td><td>null</td><td>null</td><td>null</td><td>null</td><td>null</td><td>null</td><td>null</td><td>null</td><td>null</td><td>null</td><td>&hellip;</td><td>null</td><td>null</td><td>null</td><td>null</td><td>null</td><td>null</td><td>null</td><td>null</td><td>null</td><td>null</td><td>null</td><td>null</td><td>null</td><td>null</td><td>null</td><td>null</td><td>null</td><td>null</td><td>null</td><td>null</td><td>null</td><td>null</td><td>null</td><td>null</td><td>null</td><td>null</td><td>null</td><td>null</td><td>null</td><td>null</td><td>null</td><td>null</td><td>null</td><td>null</td><td>null</td><td>null</td><td>null</td></tr></tbody></table></div>"
      ],
      "text/plain": [
       "shape: (80, 480)\n",
       "┌───────────┬───────────┬───────────┬───────────┬───┬───────────┬───────────┬───────────┬──────────┐\n",
       "│ PATIENT_N ┆ LOINC:250 ┆ LOINC:581 ┆ LOINC:257 ┆ … ┆ LOINC:339 ┆ LOINC:422 ┆ LOINC:209 ┆ LOINC:38 │\n",
       "│ UM        ┆ 0-7       ┆ 8-0       ┆ 1-8       ┆   ┆ 44-0      ┆ 46-9      ┆ 5-8       ┆ 506-2    │\n",
       "│ ---       ┆ ---       ┆ ---       ┆ ---       ┆   ┆ ---       ┆ ---       ┆ ---       ┆ ---      │\n",
       "│ i64       ┆ f32       ┆ f32       ┆ f32       ┆   ┆ f32       ┆ f32       ┆ f32       ┆ f32      │\n",
       "╞═══════════╪═══════════╪═══════════╪═══════════╪═══╪═══════════╪═══════════╪═══════════╪══════════╡\n",
       "│ 2955018   ┆ null      ┆ null      ┆ null      ┆ … ┆ null      ┆ null      ┆ null      ┆ null     │\n",
       "│ 6177437   ┆ null      ┆ null      ┆ null      ┆ … ┆ null      ┆ null      ┆ null      ┆ null     │\n",
       "│ 5932797   ┆ null      ┆ null      ┆ null      ┆ … ┆ null      ┆ null      ┆ null      ┆ null     │\n",
       "│ 2210945   ┆ null      ┆ null      ┆ null      ┆ … ┆ null      ┆ null      ┆ null      ┆ null     │\n",
       "│ 3167382   ┆ null      ┆ null      ┆ null      ┆ … ┆ null      ┆ null      ┆ null      ┆ null     │\n",
       "│ …         ┆ …         ┆ …         ┆ …         ┆ … ┆ …         ┆ …         ┆ …         ┆ …        │\n",
       "│ 647189    ┆ null      ┆ null      ┆ null      ┆ … ┆ null      ┆ null      ┆ null      ┆ null     │\n",
       "│ 1213370   ┆ null      ┆ null      ┆ null      ┆ … ┆ null      ┆ null      ┆ null      ┆ null     │\n",
       "│ 9853275   ┆ null      ┆ null      ┆ null      ┆ … ┆ null      ┆ null      ┆ null      ┆ null     │\n",
       "│ 1761273   ┆ null      ┆ null      ┆ null      ┆ … ┆ null      ┆ null      ┆ null      ┆ null     │\n",
       "│ 4440071   ┆ null      ┆ null      ┆ null      ┆ … ┆ null      ┆ null      ┆ null      ┆ null     │\n",
       "└───────────┴───────────┴───────────┴───────────┴───┴───────────┴───────────┴───────────┴──────────┘"
      ]
     },
     "execution_count": 60,
     "metadata": {},
     "output_type": "execute_result"
    }
   ],
   "source": [
    "labresults_pivot_keep_df.filter(pl.all_horizontal(pl.all().exclude('PATIENT_NUM').is_null()))"
   ]
  },
  {
   "cell_type": "code",
   "execution_count": 61,
   "id": "6dddd975",
   "metadata": {},
   "outputs": [
    {
     "name": "stdout",
     "output_type": "stream",
     "text": [
      "Number of patients lost after reducing the patients count:  80\n"
     ]
    }
   ],
   "source": [
    "print(\"Number of patients lost after reducing the patients count: \",len(labresults_pivot_keep_df.filter(pl.all_horizontal(pl.all().exclude('PATIENT_NUM').is_null()))))"
   ]
  },
  {
   "cell_type": "code",
   "execution_count": 62,
   "id": "7ebefb3c",
   "metadata": {},
   "outputs": [],
   "source": [
    "labresults_pivot_keep_df = labresults_pivot_keep_df.filter(~pl.all_horizontal(pl.all().exclude('PATIENT_NUM').is_null()))"
   ]
  },
  {
   "cell_type": "code",
   "execution_count": 63,
   "id": "0a49d8a8",
   "metadata": {},
   "outputs": [],
   "source": [
    "labresults_pivot_keep_df = labresults_pivot_keep_df.fill_null(-100)"
   ]
  },
  {
   "cell_type": "code",
   "execution_count": 64,
   "id": "07df01cf",
   "metadata": {},
   "outputs": [
    {
     "data": {
      "text/plain": [
       "406193"
      ]
     },
     "execution_count": 64,
     "metadata": {},
     "output_type": "execute_result"
    }
   ],
   "source": [
    "len(labresults_pivot_keep_df)"
   ]
  },
  {
   "cell_type": "code",
   "execution_count": 65,
   "id": "bae847bf",
   "metadata": {},
   "outputs": [],
   "source": [
    "if 'all' in modeling_config.labs_path:\n",
    "    labresults_pivot_keep_df.write_parquet('./Determine_modeling_datasets/Determine_modeling_labresults_median_all_features_thrs_'+str(selected_threshold)+'.parquet')\n",
    "if 'domain_expert' in modeling_config.labs_path:\n",
    "    labresults_pivot_keep_df.write_parquet('./Determine_modeling_datasets/Determine_modeling_labresults_median_domain_expert_thrs_'+str(selected_threshold)+'.parquet')"
   ]
  },
  {
   "cell_type": "markdown",
   "id": "e554ba86",
   "metadata": {},
   "source": [
    "## Medications"
   ]
  },
  {
   "cell_type": "code",
   "execution_count": 23,
   "id": "3d1a3c82",
   "metadata": {},
   "outputs": [],
   "source": [
    "medications_pivot_df = pl.read_parquet(modeling_config.folder+modeling_config.meds_path)"
   ]
  },
  {
   "cell_type": "code",
   "execution_count": 24,
   "id": "b83b5cf0",
   "metadata": {},
   "outputs": [
    {
     "name": "stdout",
     "output_type": "stream",
     "text": [
      "Number of data points:  531679\n"
     ]
    }
   ],
   "source": [
    "print(\"Number of data points: \",len(medications_pivot_df))"
   ]
  },
  {
   "cell_type": "code",
   "execution_count": 25,
   "id": "a5208295",
   "metadata": {},
   "outputs": [
    {
     "data": {
      "text/html": [
       "<div><style>\n",
       ".dataframe > thead > tr,\n",
       ".dataframe > tbody > tr {\n",
       "  text-align: right;\n",
       "  white-space: pre-wrap;\n",
       "}\n",
       "</style>\n",
       "<small>shape: (3, 1_480)</small><table border=\"1\" class=\"dataframe\"><thead><tr><th>PATIENT_NUM</th><th>phenazopyridine</th><th>nitrofurantoin</th><th>amlodipine</th><th>lisinopril_hydrochlorothiazide</th><th>cephalexin</th><th>albuterol</th><th>nystatin</th><th>metronidazole</th><th>varicella-zoster virus vaccine live (Oka-Merck) strain</th><th>mometasone_formoterol</th><th>chlorthalidone</th><th>potassium chloride</th><th>ketorolac</th><th>azithromycin</th><th>triamcinolone</th><th>acetaminophen_hydrocodone</th><th>gabapentin</th><th>tramadol</th><th>capsaicin</th><th>ibuprofen</th><th>naproxen</th><th>codeine_promethazine</th><th>omeprazole</th><th>clotrimazole</th><th>lorazepam</th><th>fluticasone</th><th>cholecalciferol</th><th>calcium carbonate</th><th>paroxetine</th><th>loratadine</th><th>aluminum chloride</th><th>penicillin G</th><th>sulfamethoxazole_trimethoprim</th><th>ondansetron</th><th>doxylamine_pyridoxine</th><th>folic acid</th><th>&hellip;</th><th>chlorpheniramine_codeine_pseudoephedrine</th><th>nabilone</th><th>zinc acetate</th><th>vitamin B12_ascorbic acid_iron carbonyl_folic acid_docusate</th><th>thioguanine</th><th>carbinoxamine</th><th>ketamine</th><th>rx_cui:1303740</th><th>ammonia</th><th>tyrosine</th><th>sodium phosphate</th><th>rx_cui:1150087</th><th>factor VIII</th><th>ethanol</th><th>fingolimod</th><th>rx_cui:1247404</th><th>icatibant</th><th>rx_cui:1356525</th><th>polysaccharide iron complex_vitamin B12_folic acid_heme iron polypeptide</th><th>rx_cui:856892</th><th>rx_cui:313409</th><th>poliovirus vaccine inactivated, type 1 (Mahoney)_poliovirus vaccine inactivated, type 2 (MEF-1)_poliovirus vaccine inactivated, type 3 (Saukett)_acellular pertussis vaccine, inactivated_diphtheria toxoid vaccine, inactivated_tetanus toxoid vaccine, inactivated</th><th>rx_cui:198725</th><th>rx_cui:1249797</th><th>rx_cui:966545</th><th>dexbrompheniramine_pseudoephedrine</th><th>benzethonium_benzocaine</th><th>rx_cui:237778</th><th>rx_cui:2174531</th><th>rx_cui:204969</th><th>rx_cui:310468</th><th>ganirelix</th><th>follicle stimulating hormone_luteinizing hormone</th><th>aztreonam</th><th>isoniazid_rifampin</th><th>lactate_calcium chloride_glucose_potassium chloride_sodium chloride</th><th>glucose_potassium chloride_sodium chloride</th></tr><tr><td>i64</td><td>i32</td><td>i32</td><td>i32</td><td>i32</td><td>i32</td><td>i32</td><td>i32</td><td>i32</td><td>i32</td><td>i32</td><td>i32</td><td>i32</td><td>i32</td><td>i32</td><td>i32</td><td>i32</td><td>i32</td><td>i32</td><td>i32</td><td>i32</td><td>i32</td><td>i32</td><td>i32</td><td>i32</td><td>i32</td><td>i32</td><td>i32</td><td>i32</td><td>i32</td><td>i32</td><td>i32</td><td>i32</td><td>i32</td><td>i32</td><td>i32</td><td>i32</td><td>&hellip;</td><td>i32</td><td>i32</td><td>i32</td><td>i32</td><td>i32</td><td>i32</td><td>i32</td><td>i32</td><td>i32</td><td>i32</td><td>i32</td><td>i32</td><td>i32</td><td>i32</td><td>i32</td><td>i32</td><td>i32</td><td>i32</td><td>i32</td><td>i32</td><td>i32</td><td>i32</td><td>i32</td><td>i32</td><td>i32</td><td>i32</td><td>i32</td><td>i32</td><td>i32</td><td>i32</td><td>i32</td><td>i32</td><td>i32</td><td>i32</td><td>i32</td><td>i32</td><td>i32</td></tr></thead><tbody><tr><td>556</td><td>1</td><td>1</td><td>1</td><td>1</td><td>0</td><td>0</td><td>0</td><td>0</td><td>0</td><td>0</td><td>0</td><td>0</td><td>0</td><td>0</td><td>0</td><td>0</td><td>0</td><td>0</td><td>0</td><td>0</td><td>0</td><td>0</td><td>0</td><td>0</td><td>0</td><td>0</td><td>0</td><td>0</td><td>0</td><td>0</td><td>0</td><td>0</td><td>0</td><td>0</td><td>0</td><td>0</td><td>&hellip;</td><td>0</td><td>0</td><td>0</td><td>0</td><td>0</td><td>0</td><td>0</td><td>0</td><td>0</td><td>0</td><td>0</td><td>0</td><td>0</td><td>0</td><td>0</td><td>0</td><td>0</td><td>0</td><td>0</td><td>0</td><td>0</td><td>0</td><td>0</td><td>0</td><td>0</td><td>0</td><td>0</td><td>0</td><td>0</td><td>0</td><td>0</td><td>0</td><td>0</td><td>0</td><td>0</td><td>0</td><td>0</td></tr><tr><td>560</td><td>0</td><td>0</td><td>0</td><td>0</td><td>1</td><td>1</td><td>1</td><td>0</td><td>0</td><td>0</td><td>0</td><td>0</td><td>0</td><td>0</td><td>0</td><td>0</td><td>0</td><td>0</td><td>0</td><td>0</td><td>0</td><td>0</td><td>0</td><td>0</td><td>0</td><td>0</td><td>0</td><td>0</td><td>0</td><td>0</td><td>0</td><td>0</td><td>0</td><td>0</td><td>0</td><td>0</td><td>&hellip;</td><td>0</td><td>0</td><td>0</td><td>0</td><td>0</td><td>0</td><td>0</td><td>0</td><td>0</td><td>0</td><td>0</td><td>0</td><td>0</td><td>0</td><td>0</td><td>0</td><td>0</td><td>0</td><td>0</td><td>0</td><td>0</td><td>0</td><td>0</td><td>0</td><td>0</td><td>0</td><td>0</td><td>0</td><td>0</td><td>0</td><td>0</td><td>0</td><td>0</td><td>0</td><td>0</td><td>0</td><td>0</td></tr><tr><td>561</td><td>0</td><td>0</td><td>0</td><td>0</td><td>0</td><td>0</td><td>0</td><td>1</td><td>0</td><td>0</td><td>0</td><td>0</td><td>0</td><td>0</td><td>0</td><td>0</td><td>0</td><td>0</td><td>0</td><td>0</td><td>0</td><td>0</td><td>0</td><td>0</td><td>0</td><td>0</td><td>0</td><td>0</td><td>0</td><td>0</td><td>0</td><td>0</td><td>0</td><td>0</td><td>0</td><td>0</td><td>&hellip;</td><td>0</td><td>0</td><td>0</td><td>0</td><td>0</td><td>0</td><td>0</td><td>0</td><td>0</td><td>0</td><td>0</td><td>0</td><td>0</td><td>0</td><td>0</td><td>0</td><td>0</td><td>0</td><td>0</td><td>0</td><td>0</td><td>0</td><td>0</td><td>0</td><td>0</td><td>0</td><td>0</td><td>0</td><td>0</td><td>0</td><td>0</td><td>0</td><td>0</td><td>0</td><td>0</td><td>0</td><td>0</td></tr></tbody></table></div>"
      ],
      "text/plain": [
       "shape: (3, 1_480)\n",
       "┌───────────┬───────────┬───────────┬───────────┬───┬───────────┬───────────┬───────────┬──────────┐\n",
       "│ PATIENT_N ┆ phenazopy ┆ nitrofura ┆ amlodipin ┆ … ┆ aztreonam ┆ isoniazid ┆ lactate_c ┆ glucose_ │\n",
       "│ UM        ┆ ridine    ┆ ntoin     ┆ e         ┆   ┆ ---       ┆ _rifampin ┆ alcium    ┆ potassiu │\n",
       "│ ---       ┆ ---       ┆ ---       ┆ ---       ┆   ┆ i32       ┆ ---       ┆ chloride_ ┆ m chlori │\n",
       "│ i64       ┆ i32       ┆ i32       ┆ i32       ┆   ┆           ┆ i32       ┆ gluco…    ┆ de_sod…  │\n",
       "│           ┆           ┆           ┆           ┆   ┆           ┆           ┆ ---       ┆ ---      │\n",
       "│           ┆           ┆           ┆           ┆   ┆           ┆           ┆ i32       ┆ i32      │\n",
       "╞═══════════╪═══════════╪═══════════╪═══════════╪═══╪═══════════╪═══════════╪═══════════╪══════════╡\n",
       "│ 556       ┆ 1         ┆ 1         ┆ 1         ┆ … ┆ 0         ┆ 0         ┆ 0         ┆ 0        │\n",
       "│ 560       ┆ 0         ┆ 0         ┆ 0         ┆ … ┆ 0         ┆ 0         ┆ 0         ┆ 0        │\n",
       "│ 561       ┆ 0         ┆ 0         ┆ 0         ┆ … ┆ 0         ┆ 0         ┆ 0         ┆ 0        │\n",
       "└───────────┴───────────┴───────────┴───────────┴───┴───────────┴───────────┴───────────┴──────────┘"
      ]
     },
     "execution_count": 25,
     "metadata": {},
     "output_type": "execute_result"
    }
   ],
   "source": [
    "medications_pivot_df.head(3)"
   ]
  },
  {
   "cell_type": "code",
   "execution_count": 26,
   "id": "d6875e6c",
   "metadata": {},
   "outputs": [
    {
     "data": {
      "text/html": [
       "<div><style>\n",
       ".dataframe > thead > tr,\n",
       ".dataframe > tbody > tr {\n",
       "  text-align: right;\n",
       "  white-space: pre-wrap;\n",
       "}\n",
       "</style>\n",
       "<small>shape: (1, 1_480)</small><table border=\"1\" class=\"dataframe\"><thead><tr><th>PATIENT_NUM</th><th>phenazopyridine</th><th>nitrofurantoin</th><th>amlodipine</th><th>lisinopril_hydrochlorothiazide</th><th>cephalexin</th><th>albuterol</th><th>nystatin</th><th>metronidazole</th><th>varicella-zoster virus vaccine live (Oka-Merck) strain</th><th>mometasone_formoterol</th><th>chlorthalidone</th><th>potassium chloride</th><th>ketorolac</th><th>azithromycin</th><th>triamcinolone</th><th>acetaminophen_hydrocodone</th><th>gabapentin</th><th>tramadol</th><th>capsaicin</th><th>ibuprofen</th><th>naproxen</th><th>codeine_promethazine</th><th>omeprazole</th><th>clotrimazole</th><th>lorazepam</th><th>fluticasone</th><th>cholecalciferol</th><th>calcium carbonate</th><th>paroxetine</th><th>loratadine</th><th>aluminum chloride</th><th>penicillin G</th><th>sulfamethoxazole_trimethoprim</th><th>ondansetron</th><th>doxylamine_pyridoxine</th><th>folic acid</th><th>&hellip;</th><th>chlorpheniramine_codeine_pseudoephedrine</th><th>nabilone</th><th>zinc acetate</th><th>vitamin B12_ascorbic acid_iron carbonyl_folic acid_docusate</th><th>thioguanine</th><th>carbinoxamine</th><th>ketamine</th><th>rx_cui:1303740</th><th>ammonia</th><th>tyrosine</th><th>sodium phosphate</th><th>rx_cui:1150087</th><th>factor VIII</th><th>ethanol</th><th>fingolimod</th><th>rx_cui:1247404</th><th>icatibant</th><th>rx_cui:1356525</th><th>polysaccharide iron complex_vitamin B12_folic acid_heme iron polypeptide</th><th>rx_cui:856892</th><th>rx_cui:313409</th><th>poliovirus vaccine inactivated, type 1 (Mahoney)_poliovirus vaccine inactivated, type 2 (MEF-1)_poliovirus vaccine inactivated, type 3 (Saukett)_acellular pertussis vaccine, inactivated_diphtheria toxoid vaccine, inactivated_tetanus toxoid vaccine, inactivated</th><th>rx_cui:198725</th><th>rx_cui:1249797</th><th>rx_cui:966545</th><th>dexbrompheniramine_pseudoephedrine</th><th>benzethonium_benzocaine</th><th>rx_cui:237778</th><th>rx_cui:2174531</th><th>rx_cui:204969</th><th>rx_cui:310468</th><th>ganirelix</th><th>follicle stimulating hormone_luteinizing hormone</th><th>aztreonam</th><th>isoniazid_rifampin</th><th>lactate_calcium chloride_glucose_potassium chloride_sodium chloride</th><th>glucose_potassium chloride_sodium chloride</th></tr><tr><td>i64</td><td>i32</td><td>i32</td><td>i32</td><td>i32</td><td>i32</td><td>i32</td><td>i32</td><td>i32</td><td>i32</td><td>i32</td><td>i32</td><td>i32</td><td>i32</td><td>i32</td><td>i32</td><td>i32</td><td>i32</td><td>i32</td><td>i32</td><td>i32</td><td>i32</td><td>i32</td><td>i32</td><td>i32</td><td>i32</td><td>i32</td><td>i32</td><td>i32</td><td>i32</td><td>i32</td><td>i32</td><td>i32</td><td>i32</td><td>i32</td><td>i32</td><td>i32</td><td>&hellip;</td><td>i32</td><td>i32</td><td>i32</td><td>i32</td><td>i32</td><td>i32</td><td>i32</td><td>i32</td><td>i32</td><td>i32</td><td>i32</td><td>i32</td><td>i32</td><td>i32</td><td>i32</td><td>i32</td><td>i32</td><td>i32</td><td>i32</td><td>i32</td><td>i32</td><td>i32</td><td>i32</td><td>i32</td><td>i32</td><td>i32</td><td>i32</td><td>i32</td><td>i32</td><td>i32</td><td>i32</td><td>i32</td><td>i32</td><td>i32</td><td>i32</td><td>i32</td><td>i32</td></tr></thead><tbody><tr><td>1834894773716</td><td>5383</td><td>14316</td><td>30033</td><td>9866</td><td>14666</td><td>63642</td><td>5360</td><td>31716</td><td>1290</td><td>1624</td><td>2848</td><td>6620</td><td>10965</td><td>45614</td><td>28234</td><td>27326</td><td>30206</td><td>14472</td><td>3368</td><td>80940</td><td>39787</td><td>2299</td><td>50710</td><td>15115</td><td>11498</td><td>42976</td><td>29181</td><td>3247</td><td>6745</td><td>30917</td><td>433</td><td>3737</td><td>22273</td><td>15285</td><td>524</td><td>19856</td><td>&hellip;</td><td>1</td><td>1</td><td>1</td><td>2</td><td>1</td><td>1</td><td>2</td><td>1</td><td>1</td><td>1</td><td>1</td><td>1</td><td>1</td><td>1</td><td>1</td><td>1</td><td>1</td><td>1</td><td>1</td><td>1</td><td>1</td><td>1</td><td>1</td><td>1</td><td>1</td><td>1</td><td>1</td><td>1</td><td>1</td><td>1</td><td>1</td><td>1</td><td>1</td><td>1</td><td>1</td><td>1</td><td>1</td></tr></tbody></table></div>"
      ],
      "text/plain": [
       "shape: (1, 1_480)\n",
       "┌───────────┬───────────┬───────────┬───────────┬───┬───────────┬───────────┬───────────┬──────────┐\n",
       "│ PATIENT_N ┆ phenazopy ┆ nitrofura ┆ amlodipin ┆ … ┆ aztreonam ┆ isoniazid ┆ lactate_c ┆ glucose_ │\n",
       "│ UM        ┆ ridine    ┆ ntoin     ┆ e         ┆   ┆ ---       ┆ _rifampin ┆ alcium    ┆ potassiu │\n",
       "│ ---       ┆ ---       ┆ ---       ┆ ---       ┆   ┆ i32       ┆ ---       ┆ chloride_ ┆ m chlori │\n",
       "│ i64       ┆ i32       ┆ i32       ┆ i32       ┆   ┆           ┆ i32       ┆ gluco…    ┆ de_sod…  │\n",
       "│           ┆           ┆           ┆           ┆   ┆           ┆           ┆ ---       ┆ ---      │\n",
       "│           ┆           ┆           ┆           ┆   ┆           ┆           ┆ i32       ┆ i32      │\n",
       "╞═══════════╪═══════════╪═══════════╪═══════════╪═══╪═══════════╪═══════════╪═══════════╪══════════╡\n",
       "│ 183489477 ┆ 5383      ┆ 14316     ┆ 30033     ┆ … ┆ 1         ┆ 1         ┆ 1         ┆ 1        │\n",
       "│ 3716      ┆           ┆           ┆           ┆   ┆           ┆           ┆           ┆          │\n",
       "└───────────┴───────────┴───────────┴───────────┴───┴───────────┴───────────┴───────────┴──────────┘"
      ]
     },
     "execution_count": 26,
     "metadata": {},
     "output_type": "execute_result"
    }
   ],
   "source": [
    "medications_pivot_df.sum()"
   ]
  },
  {
   "cell_type": "code",
   "execution_count": 27,
   "id": "ba56c76a",
   "metadata": {},
   "outputs": [],
   "source": [
    "threshold  = [10,20,40,60,80,200]\n",
    "patients_association_count  =[]\n",
    "for thr in threshold:\n",
    "    patients_association_count.append(get_association_count(medications_pivot_df, thr,use_func = 'sum'))"
   ]
  },
  {
   "cell_type": "code",
   "execution_count": 28,
   "id": "dabf2354",
   "metadata": {},
   "outputs": [
    {
     "data": {
      "text/plain": [
       "[938, 835, 727, 654, 605, 472]"
      ]
     },
     "execution_count": 28,
     "metadata": {},
     "output_type": "execute_result"
    }
   ],
   "source": [
    "patients_association_count"
   ]
  },
  {
   "cell_type": "code",
   "execution_count": 29,
   "id": "e2249428",
   "metadata": {},
   "outputs": [
    {
     "data": {
      "image/png": "[encoded data removed]",
      "text/plain": [
       "<Figure size 640x480 with 1 Axes>"
      ]
     },
     "metadata": {},
     "output_type": "display_data"
    }
   ],
   "source": [
    "get_patients_association_threshold_bar_plot(threshold,patients_association_count)"
   ]
  },
  {
   "cell_type": "code",
   "execution_count": 30,
   "id": "386fbe9e",
   "metadata": {},
   "outputs": [],
   "source": [
    "### finding columns to ignore\n",
    "selected_threshold =50\n",
    "keep_columns = []\n",
    "for i,j in medications_pivot_df.sum().to_dict(as_series=False).items():\n",
    "        if i!='PATIENT_NUM' and j[0]>selected_threshold:\n",
    "            keep_columns.append(i)"
   ]
  },
  {
   "cell_type": "code",
   "execution_count": 31,
   "id": "05a48a45",
   "metadata": {},
   "outputs": [
    {
     "name": "stdout",
     "output_type": "stream",
     "text": [
      "Number of columns to be kept with threshold 50 patients: 691\n"
     ]
    }
   ],
   "source": [
    "print(\"Number of columns to be kept with threshold {} patients: {}\".format(selected_threshold, len(keep_columns)))"
   ]
  },
  {
   "cell_type": "code",
   "execution_count": 32,
   "id": "7fce01dd",
   "metadata": {},
   "outputs": [],
   "source": [
    "medications_pivot_keep_df = medications_pivot_df.select(['PATIENT_NUM'] + keep_columns)"
   ]
  },
  {
   "cell_type": "code",
   "execution_count": 33,
   "id": "f5c2fd60",
   "metadata": {},
   "outputs": [
    {
     "name": "stdout",
     "output_type": "stream",
     "text": [
      "Number of patients lost after reducing the patients count:  369\n"
     ]
    }
   ],
   "source": [
    "print(\"Number of patients lost after reducing the patients count: \",len(medications_pivot_keep_df.filter(pl.all_horizontal(pl.all().exclude('PATIENT_NUM').eq(0)))))"
   ]
  },
  {
   "cell_type": "code",
   "execution_count": 34,
   "id": "63115a75",
   "metadata": {},
   "outputs": [],
   "source": [
    "medications_pivot_keep_df = medications_pivot_keep_df.filter(~pl.all_horizontal(pl.all().exclude('PATIENT_NUM').eq(0)))"
   ]
  },
  {
   "cell_type": "code",
   "execution_count": 35,
   "id": "5c9b1aed",
   "metadata": {},
   "outputs": [
    {
     "data": {
      "text/plain": [
       "531310"
      ]
     },
     "execution_count": 35,
     "metadata": {},
     "output_type": "execute_result"
    }
   ],
   "source": [
    "len(medications_pivot_keep_df)"
   ]
  },
  {
   "cell_type": "code",
   "execution_count": 36,
   "id": "0834e1a6",
   "metadata": {},
   "outputs": [],
   "source": [
    "medications_pivot_keep_df.write_parquet('./Determine_modeling_datasets/Determine_modeling_medications_thrs_'+str(selected_threshold)+'.parquet')"
   ]
  },
  {
   "cell_type": "markdown",
   "id": "bda6d84c",
   "metadata": {},
   "source": [
    "## Diagnoses"
   ]
  },
  {
   "cell_type": "code",
   "execution_count": 84,
   "id": "df1efee0",
   "metadata": {},
   "outputs": [],
   "source": [
    "diag_pivot_df = pl.read_parquet(modeling_config.folder+modeling_config.diag_path)"
   ]
  },
  {
   "cell_type": "code",
   "execution_count": 85,
   "id": "e2dad739",
   "metadata": {},
   "outputs": [
    {
     "name": "stdout",
     "output_type": "stream",
     "text": [
      "Number of data points:  751830\n"
     ]
    }
   ],
   "source": [
    "print(\"Number of data points: \",len(diag_pivot_df))"
   ]
  },
  {
   "cell_type": "code",
   "execution_count": 86,
   "id": "990f1757",
   "metadata": {},
   "outputs": [
    {
     "data": {
      "text/html": [
       "<div><style>\n",
       ".dataframe > thead > tr,\n",
       ".dataframe > tbody > tr {\n",
       "  text-align: right;\n",
       "  white-space: pre-wrap;\n",
       "}\n",
       "</style>\n",
       "<small>shape: (5, 1_720)</small><table border=\"1\" class=\"dataframe\"><thead><tr><th>PATIENT_NUM</th><th>I10</th><th>K25</th><th>L82</th><th>M19</th><th>N28</th><th>N30</th><th>R30</th><th>R63</th><th>Z01</th><th>Z12</th><th>Z13</th><th>Z23</th><th>E78</th><th>Z86</th><th>J45</th><th>E87</th><th>Z00</th><th>Z20</th><th>R29</th><th>R25</th><th>M79</th><th>L25</th><th>I87</th><th>H53</th><th>Z72</th><th>R76</th><th>R03</th><th>M54</th><th>M51</th><th>M25</th><th>M17</th><th>L30</th><th>J40</th><th>J06</th><th>G89</th><th>N92</th><th>&hellip;</th><th>A99</th><th>V78</th><th>J17</th><th>S08</th><th>V68</th><th>U07</th><th>V40</th><th>N51</th><th>E40</th><th>Y82</th><th>J82</th><th>P39</th><th>G94</th><th>D74</th><th>T64</th><th>E45</th><th>A22</th><th>Y79</th><th>H82</th><th>V25</th><th>P78</th><th>V34</th><th>X93</th><th>X94</th><th>B43</th><th>V61</th><th>V62</th><th>V60</th><th>V69</th><th>V16</th><th>D19</th><th>M49</th><th>Y38</th><th>Y62</th><th>84.</th><th>D78</th><th>A94</th></tr><tr><td>i64</td><td>i32</td><td>i32</td><td>i32</td><td>i32</td><td>i32</td><td>i32</td><td>i32</td><td>i32</td><td>i32</td><td>i32</td><td>i32</td><td>i32</td><td>i32</td><td>i32</td><td>i32</td><td>i32</td><td>i32</td><td>i32</td><td>i32</td><td>i32</td><td>i32</td><td>i32</td><td>i32</td><td>i32</td><td>i32</td><td>i32</td><td>i32</td><td>i32</td><td>i32</td><td>i32</td><td>i32</td><td>i32</td><td>i32</td><td>i32</td><td>i32</td><td>i32</td><td>&hellip;</td><td>i32</td><td>i32</td><td>i32</td><td>i32</td><td>i32</td><td>i32</td><td>i32</td><td>i32</td><td>i32</td><td>i32</td><td>i32</td><td>i32</td><td>i32</td><td>i32</td><td>i32</td><td>i32</td><td>i32</td><td>i32</td><td>i32</td><td>i32</td><td>i32</td><td>i32</td><td>i32</td><td>i32</td><td>i32</td><td>i32</td><td>i32</td><td>i32</td><td>i32</td><td>i32</td><td>i32</td><td>i32</td><td>i32</td><td>i32</td><td>i32</td><td>i32</td><td>i32</td></tr></thead><tbody><tr><td>556</td><td>1</td><td>1</td><td>1</td><td>1</td><td>1</td><td>1</td><td>1</td><td>1</td><td>1</td><td>1</td><td>1</td><td>1</td><td>0</td><td>0</td><td>0</td><td>0</td><td>0</td><td>0</td><td>0</td><td>0</td><td>0</td><td>0</td><td>0</td><td>0</td><td>0</td><td>0</td><td>0</td><td>0</td><td>0</td><td>0</td><td>0</td><td>0</td><td>0</td><td>0</td><td>0</td><td>0</td><td>&hellip;</td><td>0</td><td>0</td><td>0</td><td>0</td><td>0</td><td>0</td><td>0</td><td>0</td><td>0</td><td>0</td><td>0</td><td>0</td><td>0</td><td>0</td><td>0</td><td>0</td><td>0</td><td>0</td><td>0</td><td>0</td><td>0</td><td>0</td><td>0</td><td>0</td><td>0</td><td>0</td><td>0</td><td>0</td><td>0</td><td>0</td><td>0</td><td>0</td><td>0</td><td>0</td><td>0</td><td>0</td><td>0</td></tr><tr><td>560</td><td>0</td><td>0</td><td>0</td><td>0</td><td>0</td><td>0</td><td>0</td><td>0</td><td>0</td><td>1</td><td>1</td><td>1</td><td>1</td><td>0</td><td>0</td><td>0</td><td>0</td><td>0</td><td>0</td><td>0</td><td>0</td><td>0</td><td>0</td><td>0</td><td>0</td><td>0</td><td>0</td><td>0</td><td>0</td><td>0</td><td>0</td><td>0</td><td>0</td><td>0</td><td>0</td><td>0</td><td>&hellip;</td><td>0</td><td>0</td><td>0</td><td>0</td><td>0</td><td>0</td><td>0</td><td>0</td><td>0</td><td>0</td><td>0</td><td>0</td><td>0</td><td>0</td><td>0</td><td>0</td><td>0</td><td>0</td><td>0</td><td>0</td><td>0</td><td>0</td><td>0</td><td>0</td><td>0</td><td>0</td><td>0</td><td>0</td><td>0</td><td>0</td><td>0</td><td>0</td><td>0</td><td>0</td><td>0</td><td>0</td><td>0</td></tr><tr><td>562</td><td>1</td><td>0</td><td>0</td><td>0</td><td>0</td><td>0</td><td>0</td><td>0</td><td>0</td><td>1</td><td>0</td><td>1</td><td>0</td><td>1</td><td>1</td><td>1</td><td>0</td><td>0</td><td>0</td><td>0</td><td>0</td><td>0</td><td>0</td><td>0</td><td>0</td><td>0</td><td>0</td><td>0</td><td>0</td><td>0</td><td>0</td><td>0</td><td>0</td><td>0</td><td>0</td><td>0</td><td>&hellip;</td><td>0</td><td>0</td><td>0</td><td>0</td><td>0</td><td>0</td><td>0</td><td>0</td><td>0</td><td>0</td><td>0</td><td>0</td><td>0</td><td>0</td><td>0</td><td>0</td><td>0</td><td>0</td><td>0</td><td>0</td><td>0</td><td>0</td><td>0</td><td>0</td><td>0</td><td>0</td><td>0</td><td>0</td><td>0</td><td>0</td><td>0</td><td>0</td><td>0</td><td>0</td><td>0</td><td>0</td><td>0</td></tr><tr><td>564</td><td>0</td><td>0</td><td>0</td><td>0</td><td>0</td><td>0</td><td>0</td><td>0</td><td>0</td><td>1</td><td>0</td><td>1</td><td>0</td><td>0</td><td>1</td><td>0</td><td>1</td><td>1</td><td>1</td><td>1</td><td>1</td><td>1</td><td>1</td><td>1</td><td>1</td><td>1</td><td>1</td><td>1</td><td>1</td><td>1</td><td>1</td><td>1</td><td>1</td><td>1</td><td>1</td><td>0</td><td>&hellip;</td><td>0</td><td>0</td><td>0</td><td>0</td><td>0</td><td>0</td><td>0</td><td>0</td><td>0</td><td>0</td><td>0</td><td>0</td><td>0</td><td>0</td><td>0</td><td>0</td><td>0</td><td>0</td><td>0</td><td>0</td><td>0</td><td>0</td><td>0</td><td>0</td><td>0</td><td>0</td><td>0</td><td>0</td><td>0</td><td>0</td><td>0</td><td>0</td><td>0</td><td>0</td><td>0</td><td>0</td><td>0</td></tr><tr><td>574</td><td>0</td><td>0</td><td>0</td><td>0</td><td>0</td><td>0</td><td>0</td><td>0</td><td>1</td><td>0</td><td>0</td><td>0</td><td>0</td><td>1</td><td>0</td><td>0</td><td>1</td><td>0</td><td>0</td><td>0</td><td>1</td><td>0</td><td>0</td><td>0</td><td>0</td><td>0</td><td>0</td><td>1</td><td>0</td><td>0</td><td>0</td><td>0</td><td>0</td><td>0</td><td>0</td><td>1</td><td>&hellip;</td><td>0</td><td>0</td><td>0</td><td>0</td><td>0</td><td>0</td><td>0</td><td>0</td><td>0</td><td>0</td><td>0</td><td>0</td><td>0</td><td>0</td><td>0</td><td>0</td><td>0</td><td>0</td><td>0</td><td>0</td><td>0</td><td>0</td><td>0</td><td>0</td><td>0</td><td>0</td><td>0</td><td>0</td><td>0</td><td>0</td><td>0</td><td>0</td><td>0</td><td>0</td><td>0</td><td>0</td><td>0</td></tr></tbody></table></div>"
      ],
      "text/plain": [
       "shape: (5, 1_720)\n",
       "┌─────────────┬─────┬─────┬─────┬───┬─────┬─────┬─────┬─────┐\n",
       "│ PATIENT_NUM ┆ I10 ┆ K25 ┆ L82 ┆ … ┆ Y62 ┆ 84. ┆ D78 ┆ A94 │\n",
       "│ ---         ┆ --- ┆ --- ┆ --- ┆   ┆ --- ┆ --- ┆ --- ┆ --- │\n",
       "│ i64         ┆ i32 ┆ i32 ┆ i32 ┆   ┆ i32 ┆ i32 ┆ i32 ┆ i32 │\n",
       "╞═════════════╪═════╪═════╪═════╪═══╪═════╪═════╪═════╪═════╡\n",
       "│ 556         ┆ 1   ┆ 1   ┆ 1   ┆ … ┆ 0   ┆ 0   ┆ 0   ┆ 0   │\n",
       "│ 560         ┆ 0   ┆ 0   ┆ 0   ┆ … ┆ 0   ┆ 0   ┆ 0   ┆ 0   │\n",
       "│ 562         ┆ 1   ┆ 0   ┆ 0   ┆ … ┆ 0   ┆ 0   ┆ 0   ┆ 0   │\n",
       "│ 564         ┆ 0   ┆ 0   ┆ 0   ┆ … ┆ 0   ┆ 0   ┆ 0   ┆ 0   │\n",
       "│ 574         ┆ 0   ┆ 0   ┆ 0   ┆ … ┆ 0   ┆ 0   ┆ 0   ┆ 0   │\n",
       "└─────────────┴─────┴─────┴─────┴───┴─────┴─────┴─────┴─────┘"
      ]
     },
     "execution_count": 86,
     "metadata": {},
     "output_type": "execute_result"
    }
   ],
   "source": [
    "diag_pivot_df.head()"
   ]
  },
  {
   "cell_type": "code",
   "execution_count": 87,
   "id": "a6b9aaa3",
   "metadata": {},
   "outputs": [],
   "source": [
    "threshold  = [10,20,40,60,80,200]\n",
    "patients_association_count  =[]\n",
    "for thr in threshold:\n",
    "    patients_association_count.append(get_association_count(diag_pivot_df, thr,use_func = 'sum'))"
   ]
  },
  {
   "cell_type": "code",
   "execution_count": 88,
   "id": "01d45fe6",
   "metadata": {},
   "outputs": [
    {
     "data": {
      "image/png": "[encoded data removed]",
      "text/plain": [
       "<Figure size 640x480 with 1 Axes>"
      ]
     },
     "metadata": {},
     "output_type": "display_data"
    }
   ],
   "source": [
    "get_patients_association_threshold_bar_plot(threshold,patients_association_count)"
   ]
  },
  {
   "cell_type": "code",
   "execution_count": 89,
   "id": "780fce37",
   "metadata": {},
   "outputs": [],
   "source": [
    "### finding columns to ignore\n",
    "selected_threshold =50\n",
    "keep_columns = []\n",
    "for i,j in diag_pivot_df.sum().to_dict(as_series=False).items():\n",
    "        if i!='PATIENT_NUM' and j[0]>selected_threshold:\n",
    "            keep_columns.append(i)"
   ]
  },
  {
   "cell_type": "code",
   "execution_count": 90,
   "id": "06884562",
   "metadata": {},
   "outputs": [
    {
     "name": "stdout",
     "output_type": "stream",
     "text": [
      "Number of columns to be kept with threshold 50 patients: 1119\n"
     ]
    }
   ],
   "source": [
    "print(\"Number of columns to be kept with threshold {} patients: {}\".format(selected_threshold, len(keep_columns)))"
   ]
  },
  {
   "cell_type": "code",
   "execution_count": 91,
   "id": "890833ce",
   "metadata": {},
   "outputs": [],
   "source": [
    "diag_pivot_keep_df = diag_pivot_df.select(['PATIENT_NUM'] + keep_columns)"
   ]
  },
  {
   "cell_type": "code",
   "execution_count": 92,
   "id": "e4c33b49",
   "metadata": {},
   "outputs": [
    {
     "name": "stdout",
     "output_type": "stream",
     "text": [
      "Number of patients lost after reducing the patients count:  153\n"
     ]
    }
   ],
   "source": [
    "print(\"Number of patients lost after reducing the patients count: \",len(diag_pivot_keep_df.filter(pl.all_horizontal(pl.all().exclude('PATIENT_NUM').eq(0)))))"
   ]
  },
  {
   "cell_type": "code",
   "execution_count": 93,
   "id": "bd9cb896",
   "metadata": {},
   "outputs": [],
   "source": [
    "diag_pivot_keep_df = diag_pivot_keep_df.filter(~pl.all_horizontal(pl.all().exclude('PATIENT_NUM').eq(0)))"
   ]
  },
  {
   "cell_type": "code",
   "execution_count": 94,
   "id": "83dc8172",
   "metadata": {},
   "outputs": [],
   "source": [
    "if 'phemap' in modeling_config.diag_path:\n",
    "    prefix = 'phemap'\n",
    "else:\n",
    "    prefix = 'initial_3_chars'\n",
    "\n",
    "if 'without' in modeling_config.diag_path:\n",
    "    diag_pivot_keep_df.write_parquet(f'./Determine_modeling_datasets/Determine_modeling_diagnoses_{prefix}_thrs_'+str(selected_threshold)+'_without_icd10z'+'.parquet')\n",
    "else:\n",
    "    diag_pivot_keep_df.write_parquet(f'./Determine_modeling_datasets/Determine_modeling_diagnoses_{prefix}_thrs_'+str(selected_threshold)+'_with_icd10z'+'.parquet')"
   ]
  },
  {
   "cell_type": "markdown",
   "id": "c1365ec2",
   "metadata": {},
   "source": [
    "## Target"
   ]
  },
  {
   "cell_type": "code",
   "execution_count": 95,
   "id": "501f72dc",
   "metadata": {},
   "outputs": [],
   "source": [
    "label_df =pl.read_parquet(modeling_config.target_path)"
   ]
  },
  {
   "cell_type": "code",
   "execution_count": 96,
   "id": "26931ae8",
   "metadata": {},
   "outputs": [
    {
     "data": {
      "text/html": [
       "<div><style>\n",
       ".dataframe > thead > tr,\n",
       ".dataframe > tbody > tr {\n",
       "  text-align: right;\n",
       "  white-space: pre-wrap;\n",
       "}\n",
       "</style>\n",
       "<small>shape: (5, 7)</small><table border=\"1\" class=\"dataframe\"><thead><tr><th>PATIENT_NUM</th><th>Index_Start_date</th><th>FirstOutcomeDate</th><th>Age_at_encounter_date</th><th>Outcome</th><th>DEATH_DATE</th><th>Zip_CD</th></tr><tr><td>i64</td><td>datetime[μs]</td><td>datetime[μs]</td><td>i64</td><td>i64</td><td>datetime[μs]</td><td>str</td></tr></thead><tbody><tr><td>8202921</td><td>2017-03-15 00:00:00</td><td>2019-05-29 00:00:00</td><td>60</td><td>1</td><td>null</td><td>&quot;83706&quot;</td></tr><tr><td>6046573</td><td>2017-03-27 00:00:00</td><td>null</td><td>45</td><td>0</td><td>null</td><td>&quot;97136&quot;</td></tr><tr><td>2179286</td><td>2016-12-13 00:00:00</td><td>null</td><td>34</td><td>0</td><td>null</td><td>&quot;77530&quot;</td></tr><tr><td>6861988</td><td>2016-09-16 00:00:00</td><td>null</td><td>33</td><td>0</td><td>null</td><td>&quot;90035&quot;</td></tr><tr><td>7452088</td><td>2017-02-02 00:00:00</td><td>null</td><td>43</td><td>0</td><td>null</td><td>&quot;75217&quot;</td></tr></tbody></table></div>"
      ],
      "text/plain": [
       "shape: (5, 7)\n",
       "┌─────────────┬────────────────┬────────────────┬────────────────┬─────────┬──────────────┬────────┐\n",
       "│ PATIENT_NUM ┆ Index_Start_da ┆ FirstOutcomeDa ┆ Age_at_encount ┆ Outcome ┆ DEATH_DATE   ┆ Zip_CD │\n",
       "│ ---         ┆ te             ┆ te             ┆ er_date        ┆ ---     ┆ ---          ┆ ---    │\n",
       "│ i64         ┆ ---            ┆ ---            ┆ ---            ┆ i64     ┆ datetime[μs] ┆ str    │\n",
       "│             ┆ datetime[μs]   ┆ datetime[μs]   ┆ i64            ┆         ┆              ┆        │\n",
       "╞═════════════╪════════════════╪════════════════╪════════════════╪═════════╪══════════════╪════════╡\n",
       "│ 8202921     ┆ 2017-03-15     ┆ 2019-05-29     ┆ 60             ┆ 1       ┆ null         ┆ 83706  │\n",
       "│             ┆ 00:00:00       ┆ 00:00:00       ┆                ┆         ┆              ┆        │\n",
       "│ 6046573     ┆ 2017-03-27     ┆ null           ┆ 45             ┆ 0       ┆ null         ┆ 97136  │\n",
       "│             ┆ 00:00:00       ┆                ┆                ┆         ┆              ┆        │\n",
       "│ 2179286     ┆ 2016-12-13     ┆ null           ┆ 34             ┆ 0       ┆ null         ┆ 77530  │\n",
       "│             ┆ 00:00:00       ┆                ┆                ┆         ┆              ┆        │\n",
       "│ 6861988     ┆ 2016-09-16     ┆ null           ┆ 33             ┆ 0       ┆ null         ┆ 90035  │\n",
       "│             ┆ 00:00:00       ┆                ┆                ┆         ┆              ┆        │\n",
       "│ 7452088     ┆ 2017-02-02     ┆ null           ┆ 43             ┆ 0       ┆ null         ┆ 75217  │\n",
       "│             ┆ 00:00:00       ┆                ┆                ┆         ┆              ┆        │\n",
       "└─────────────┴────────────────┴────────────────┴────────────────┴─────────┴──────────────┴────────┘"
      ]
     },
     "execution_count": 96,
     "metadata": {},
     "output_type": "execute_result"
    }
   ],
   "source": [
    "label_df.head()"
   ]
  },
  {
   "cell_type": "code",
   "execution_count": 97,
   "id": "b57083d5",
   "metadata": {},
   "outputs": [
    {
     "data": {
      "text/plain": [
       "(array([0, 1]), array([1004264,   60204]))"
      ]
     },
     "execution_count": 97,
     "metadata": {},
     "output_type": "execute_result"
    }
   ],
   "source": [
    "np.unique(label_df['Outcome'].to_list(), return_counts = True)"
   ]
  },
  {
   "cell_type": "code",
   "execution_count": 98,
   "id": "95556a1c",
   "metadata": {},
   "outputs": [
    {
     "name": "stderr",
     "output_type": "stream",
     "text": [
      "sys:1: MapWithoutReturnDtypeWarning: Calling `map_elements` without specifying `return_dtype` can lead to unpredictable results. Specify `return_dtype` to silence this warning.\n",
      "sys:1: MapWithoutReturnDtypeWarning: Calling `map_elements` without specifying `return_dtype` can lead to unpredictable results. Specify `return_dtype` to silence this warning.\n",
      "sys:1: MapWithoutReturnDtypeWarning: Calling `map_elements` without specifying `return_dtype` can lead to unpredictable results. Specify `return_dtype` to silence this warning.\n",
      "sys:1: MapWithoutReturnDtypeWarning: Calling `map_elements` without specifying `return_dtype` can lead to unpredictable results. Specify `return_dtype` to silence this warning.\n"
     ]
    },
    {
     "data": {
      "text/html": [
       "<div><style>\n",
       ".dataframe > thead > tr,\n",
       ".dataframe > tbody > tr {\n",
       "  text-align: right;\n",
       "  white-space: pre-wrap;\n",
       "}\n",
       "</style>\n",
       "<small>shape: (5, 8)</small><table border=\"1\" class=\"dataframe\"><thead><tr><th>PATIENT_NUM</th><th>Index_Start_date</th><th>FirstOutcomeDate</th><th>Age_at_encounter_date</th><th>Outcome</th><th>DEATH_DATE</th><th>Zip_CD</th><th>Age_group</th></tr><tr><td>i64</td><td>datetime[μs]</td><td>datetime[μs]</td><td>i64</td><td>i64</td><td>datetime[μs]</td><td>str</td><td>str</td></tr></thead><tbody><tr><td>8202921</td><td>2017-03-15 00:00:00</td><td>2019-05-29 00:00:00</td><td>60</td><td>1</td><td>null</td><td>&quot;83706&quot;</td><td>&quot;55-64&quot;</td></tr><tr><td>6046573</td><td>2017-03-27 00:00:00</td><td>null</td><td>45</td><td>0</td><td>null</td><td>&quot;97136&quot;</td><td>&quot;45-54&quot;</td></tr><tr><td>2179286</td><td>2016-12-13 00:00:00</td><td>null</td><td>34</td><td>0</td><td>null</td><td>&quot;77530&quot;</td><td>&quot;18-34&quot;</td></tr><tr><td>6861988</td><td>2016-09-16 00:00:00</td><td>null</td><td>33</td><td>0</td><td>null</td><td>&quot;90035&quot;</td><td>&quot;18-34&quot;</td></tr><tr><td>7452088</td><td>2017-02-02 00:00:00</td><td>null</td><td>43</td><td>0</td><td>null</td><td>&quot;75217&quot;</td><td>&quot;35-44&quot;</td></tr></tbody></table></div>"
      ],
      "text/plain": [
       "shape: (5, 8)\n",
       "┌─────────────┬─────────────┬─────────────┬────────────┬─────────┬────────────┬────────┬───────────┐\n",
       "│ PATIENT_NUM ┆ Index_Start ┆ FirstOutcom ┆ Age_at_enc ┆ Outcome ┆ DEATH_DATE ┆ Zip_CD ┆ Age_group │\n",
       "│ ---         ┆ _date       ┆ eDate       ┆ ounter_dat ┆ ---     ┆ ---        ┆ ---    ┆ ---       │\n",
       "│ i64         ┆ ---         ┆ ---         ┆ e          ┆ i64     ┆ datetime[μ ┆ str    ┆ str       │\n",
       "│             ┆ datetime[μs ┆ datetime[μs ┆ ---        ┆         ┆ s]         ┆        ┆           │\n",
       "│             ┆ ]           ┆ ]           ┆ i64        ┆         ┆            ┆        ┆           │\n",
       "╞═════════════╪═════════════╪═════════════╪════════════╪═════════╪════════════╪════════╪═══════════╡\n",
       "│ 8202921     ┆ 2017-03-15  ┆ 2019-05-29  ┆ 60         ┆ 1       ┆ null       ┆ 83706  ┆ 55-64     │\n",
       "│             ┆ 00:00:00    ┆ 00:00:00    ┆            ┆         ┆            ┆        ┆           │\n",
       "│ 6046573     ┆ 2017-03-27  ┆ null        ┆ 45         ┆ 0       ┆ null       ┆ 97136  ┆ 45-54     │\n",
       "│             ┆ 00:00:00    ┆             ┆            ┆         ┆            ┆        ┆           │\n",
       "│ 2179286     ┆ 2016-12-13  ┆ null        ┆ 34         ┆ 0       ┆ null       ┆ 77530  ┆ 18-34     │\n",
       "│             ┆ 00:00:00    ┆             ┆            ┆         ┆            ┆        ┆           │\n",
       "│ 6861988     ┆ 2016-09-16  ┆ null        ┆ 33         ┆ 0       ┆ null       ┆ 90035  ┆ 18-34     │\n",
       "│             ┆ 00:00:00    ┆             ┆            ┆         ┆            ┆        ┆           │\n",
       "│ 7452088     ┆ 2017-02-02  ┆ null        ┆ 43         ┆ 0       ┆ null       ┆ 75217  ┆ 35-44     │\n",
       "│             ┆ 00:00:00    ┆             ┆            ┆         ┆            ┆        ┆           │\n",
       "└─────────────┴─────────────┴─────────────┴────────────┴─────────┴────────────┴────────┴───────────┘"
      ]
     },
     "execution_count": 98,
     "metadata": {},
     "output_type": "execute_result"
    }
   ],
   "source": [
    "label_df = label_df.with_columns(pl.col('Age_at_encounter_date').map_elements(lambda x : '18-34' if x <= 34 \\\n",
    "                                                        else '35-44' if 35<=x<=44 else '45-54'\\\n",
    "                                                        if 45<=x<=54 else '55-64' if 55<=x<=64 else \\\n",
    "                                                        '65-74' if  65<=x<=74 else '75_older').alias('Age_group'))\n",
    "label_df.head()"
   ]
  },
  {
   "cell_type": "code",
   "execution_count": 99,
   "id": "be9d439c",
   "metadata": {},
   "outputs": [],
   "source": [
    "label_df.select(['PATIENT_NUM','Age_group','FirstOutcomeDate','Outcome']).write_parquet('./Determine_modeling_datasets/Determine_modeling_age_group_outcome_data.parquet')"
   ]
  },
  {
   "cell_type": "markdown",
   "id": "105660bb",
   "metadata": {},
   "source": [
    "## Demographics"
   ]
  },
  {
   "cell_type": "code",
   "execution_count": 100,
   "id": "aaa4d4e8",
   "metadata": {},
   "outputs": [],
   "source": [
    "demo_df = pl.read_parquet('./Determine_cohort_files/'+modeling_config.demo_path)"
   ]
  },
  {
   "cell_type": "code",
   "execution_count": 101,
   "id": "a7fc8a6b",
   "metadata": {},
   "outputs": [
    {
     "data": {
      "text/html": [
       "<div><style>\n",
       ".dataframe > thead > tr,\n",
       ".dataframe > tbody > tr {\n",
       "  text-align: right;\n",
       "  white-space: pre-wrap;\n",
       "}\n",
       "</style>\n",
       "<small>shape: (5, 5)</small><table border=\"1\" class=\"dataframe\"><thead><tr><th>Patient_num</th><th>Sex_CD</th><th>Race_CD</th><th>Hispanic_CD</th><th>Gender_CD</th></tr><tr><td>i64</td><td>str</td><td>str</td><td>str</td><td>str</td></tr></thead><tbody><tr><td>114343</td><td>&quot;M&quot;</td><td>&quot;05&quot;</td><td>&quot;N&quot;</td><td>&quot;M&quot;</td></tr><tr><td>114406</td><td>&quot;F&quot;</td><td>&quot;UN&quot;</td><td>&quot;Y&quot;</td><td>&quot;W&quot;</td></tr><tr><td>114410</td><td>&quot;F&quot;</td><td>&quot;05&quot;</td><td>&quot;N&quot;</td><td>&quot;W&quot;</td></tr><tr><td>114413</td><td>&quot;M&quot;</td><td>&quot;05&quot;</td><td>&quot;Y&quot;</td><td>&quot;UN&quot;</td></tr><tr><td>114440</td><td>&quot;M&quot;</td><td>&quot;05&quot;</td><td>&quot;N&quot;</td><td>&quot;UN&quot;</td></tr></tbody></table></div>"
      ],
      "text/plain": [
       "shape: (5, 5)\n",
       "┌─────────────┬────────┬─────────┬─────────────┬───────────┐\n",
       "│ Patient_num ┆ Sex_CD ┆ Race_CD ┆ Hispanic_CD ┆ Gender_CD │\n",
       "│ ---         ┆ ---    ┆ ---     ┆ ---         ┆ ---       │\n",
       "│ i64         ┆ str    ┆ str     ┆ str         ┆ str       │\n",
       "╞═════════════╪════════╪═════════╪═════════════╪═══════════╡\n",
       "│ 114343      ┆ M      ┆ 05      ┆ N           ┆ M         │\n",
       "│ 114406      ┆ F      ┆ UN      ┆ Y           ┆ W         │\n",
       "│ 114410      ┆ F      ┆ 05      ┆ N           ┆ W         │\n",
       "│ 114413      ┆ M      ┆ 05      ┆ Y           ┆ UN        │\n",
       "│ 114440      ┆ M      ┆ 05      ┆ N           ┆ UN        │\n",
       "└─────────────┴────────┴─────────┴─────────────┴───────────┘"
      ]
     },
     "execution_count": 101,
     "metadata": {},
     "output_type": "execute_result"
    }
   ],
   "source": [
    "demo_df.head()"
   ]
  },
  {
   "cell_type": "code",
   "execution_count": 102,
   "id": "961f559d",
   "metadata": {},
   "outputs": [
    {
     "data": {
      "text/plain": [
       "array(['GQ', 'M', 'OT', 'TG', 'UN', 'W'], dtype='<U2')"
      ]
     },
     "execution_count": 102,
     "metadata": {},
     "output_type": "execute_result"
    }
   ],
   "source": [
    "np.unique(demo_df['Gender_CD'].to_list())"
   ]
  },
  {
   "cell_type": "code",
   "execution_count": 103,
   "id": "2f82d03b",
   "metadata": {},
   "outputs": [],
   "source": [
    "demo_df.write_parquet(\"./Determine_modeling_datasets/Determine_modeling_demographics_data.parquet\")"
   ]
  },
  {
   "cell_type": "code",
   "execution_count": null,
   "id": "62df58e3",
   "metadata": {},
   "outputs": [],
   "source": []
  }
 ],
 "metadata": {
  "kernelspec": {
   "display_name": "conda_python3",
   "language": "python",
   "name": "conda_python3"
  },
  "language_info": {
   "codemirror_mode": {
    "name": "ipython",
    "version": 3
   },
   "file_extension": ".py",
   "mimetype": "text/x-python",
   "name": "python",
   "nbconvert_exporter": "python",
   "pygments_lexer": "ipython3",
   "version": "3.10.17"
  }
 },
 "nbformat": 4,
 "nbformat_minor": 5
}
